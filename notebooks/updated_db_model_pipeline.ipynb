{
 "cells": [
  {
   "cell_type": "markdown",
   "metadata": {},
   "source": [
    "## Import Functions, Modules"
   ]
  },
  {
   "cell_type": "code",
   "execution_count": 1,
   "metadata": {
    "collapsed": true
   },
   "outputs": [],
   "source": [
    "#import from my modules:\n",
    "import src.als_model as am\n",
    "from src.ensemble_helper_functions import merge_data, load_files\n",
    "import src.rank_eval as rank_eval"
   ]
  },
  {
   "cell_type": "code",
   "execution_count": 2,
   "metadata": {
    "collapsed": true
   },
   "outputs": [],
   "source": [
    "#import from python modules:\n",
    "import cPickle as pickle\n",
    "import pandas as pd\n",
    "from sklearn.ensemble import GradientBoostingRegressor\n",
    "from collections import defaultdict\n",
    "\n",
    "import matplotlib.pyplot as plt\n",
    "%matplotlib inline"
   ]
  },
  {
   "cell_type": "code",
   "execution_count": 9,
   "metadata": {},
   "outputs": [],
   "source": [
    "#run dataprep script to prepare cleaned dataframe\n",
    "import src.dataprep as dataprep"
   ]
  },
  {
   "cell_type": "code",
   "execution_count": 12,
   "metadata": {},
   "outputs": [],
   "source": [
    "prep = dataprep.TrailDataPrep(dbname='mergeodb112417', host='localhost')\n",
    "prep.init_psql_session()\n",
    "prep.data_coll_query()\n",
    "prep.create_df()\n",
    "prep.col_cleaning()\n",
    "prep.engr_features()\n",
    "cleaned_df = prep.clean_dataset\n",
    "with open ('../data/cleaned_df_24NOV17.pkl', 'w') as f:\n",
    "    pickle.dump(cleaned_df, f)"
   ]
  },
  {
   "cell_type": "markdown",
   "metadata": {},
   "source": [
    "## Open cleaned_df"
   ]
  },
  {
   "cell_type": "code",
   "execution_count": 13,
   "metadata": {
    "collapsed": true
   },
   "outputs": [],
   "source": [
    "with open ('../data/cleaned_df_24NOV17.pkl', 'rb') as f:\n",
    "    cleaned_data = pickle.load(f)"
   ]
  },
  {
   "cell_type": "code",
   "execution_count": 14,
   "metadata": {},
   "outputs": [
    {
     "data": {
      "text/plain": [
       "array([ 2.,  1.,  3.,  0.,  4.])"
      ]
     },
     "execution_count": 14,
     "metadata": {},
     "output_type": "execute_result"
    }
   ],
   "source": [
    "cleaned_data['SeriesID'].unique()"
   ]
  },
  {
   "cell_type": "markdown",
   "metadata": {},
   "source": [
    "## Instantiate Class Instances for ALS Model, Prep and Run for the Following:\n",
    "\n",
    "#### For each of these features:\n",
    "- SeriesID\n",
    "- EventTypeID\n",
    "- Venue (based on zip code)\n",
    "- Total Average Fee\n",
    "- Average Mileage\n",
    "\n",
    "#### Run best fit model identified from exercise in Pipeline_v2-noTVS notebook on train+validate larger dataset; check rank metric on test set\n",
    "\n",
    "#### Initial Prep:"
   ]
  },
  {
   "cell_type": "code",
   "execution_count": 15,
   "metadata": {
    "collapsed": true
   },
   "outputs": [],
   "source": [
    "als_model = am.implicit_als(cleaned_data, split_val=False)\n",
    "#setting split_val to False results in the split being train/test instead of train/val/test\n",
    "#80% of data is in train and 20% is in test"
   ]
  },
  {
   "cell_type": "code",
   "execution_count": 16,
   "metadata": {
    "collapsed": true
   },
   "outputs": [],
   "source": [
    "als_model.prep_full_df()"
   ]
  },
  {
   "cell_type": "code",
   "execution_count": 17,
   "metadata": {},
   "outputs": [
    {
     "name": "stdout",
     "output_type": "stream",
     "text": [
      "<class 'pandas.core.frame.DataFrame'>\n",
      "RangeIndex: 1063176 entries, 0 to 1063175\n",
      "Data columns (total 9 columns):\n",
      "PersonID         1063176 non-null int64\n",
      "EventID          1063176 non-null int64\n",
      "Participated     1063176 non-null int64\n",
      "Event_Date       1063176 non-null datetime64[ns]\n",
      "SeriesID         1063176 non-null float64\n",
      "EventTypeID      1063176 non-null int64\n",
      "Total_Fee_Avg    1063176 non-null int64\n",
      "Miles2_Avg       1063176 non-null int64\n",
      "Venue_Zip        1063176 non-null int64\n",
      "dtypes: datetime64[ns](1), float64(1), int64(7)\n",
      "memory usage: 73.0 MB\n"
     ]
    }
   ],
   "source": [
    "als_model.full_df.info()"
   ]
  },
  {
   "cell_type": "code",
   "execution_count": 18,
   "metadata": {},
   "outputs": [
    {
     "name": "stdout",
     "output_type": "stream",
     "text": [
      "TrainVal Size: 850540.0\n",
      "Train Size: 680432.0\n",
      "Validation Size: 170108.0\n",
      "Test Size: 212636.0\n"
     ]
    }
   ],
   "source": [
    "als_model.train_val_test_split_byseries()"
   ]
  },
  {
   "cell_type": "markdown",
   "metadata": {},
   "source": [
    "## SeriesID"
   ]
  },
  {
   "cell_type": "code",
   "execution_count": 19,
   "metadata": {},
   "outputs": [
    {
     "name": "stdout",
     "output_type": "stream",
     "text": [
      "participants in train: 11432\n",
      "participants in validate: 11432\n",
      "participants in test: 11432\n",
      "\n",
      "\n",
      "participants in both train & validate: 11432\n",
      "participants in both train & test: 11432\n",
      "\n",
      "\n",
      "SeriesID in train: 5\n",
      "SeriesID in validate: 5\n",
      "SeriesID in test: 5\n",
      "\n",
      "\n",
      "SeriesID in both train & validate: 5\n",
      "SeriesID in both train & test: 5\n"
     ]
    }
   ],
   "source": [
    "als_model.print_train_val_test_info(\"SeriesID\")"
   ]
  },
  {
   "cell_type": "code",
   "execution_count": 20,
   "metadata": {
    "collapsed": true
   },
   "outputs": [],
   "source": [
    "als_model.create_participate_matrices(\"SeriesID\")"
   ]
  },
  {
   "cell_type": "code",
   "execution_count": 21,
   "metadata": {
    "collapsed": true
   },
   "outputs": [],
   "source": [
    "als_model.fit_ALS(itemCol=\"SeriesID\", rank=5, alpha=80, coldStartStrategy=\"drop\")"
   ]
  },
  {
   "cell_type": "code",
   "execution_count": 22,
   "metadata": {},
   "outputs": [
    {
     "name": "stdout",
     "output_type": "stream",
     "text": [
      "Trainval predictions includes 850540 valid values and 0 nan values\n",
      "Test predictions includes 212636 valid values and 0 nan values\n",
      "Trainval Model Rank = 0.794387594977 and Popular Rank = 24.3500831947\n",
      "Test Model Rank = 6.95878561323 and Popular Rank = 29.1822358346\n"
     ]
    }
   ],
   "source": [
    "trainval_predictions, trainval_rank, trainval_pop_rank, test_predictions, test_rank, test_pop_rank = als_model.predict_ALS(\n",
    "    als_model.base_model, \"SeriesID\")"
   ]
  },
  {
   "cell_type": "code",
   "execution_count": 23,
   "metadata": {
    "collapsed": true
   },
   "outputs": [],
   "source": [
    "als_fit_model_series = als_model.base_model\n",
    "als_trainvalpreds_pd_series = trainval_predictions\n",
    "als_testpreds_pd_series = test_predictions\n",
    "\n",
    "als_fit_model_series.save(\"../model/als_fit_model_series\")\n",
    "\n",
    "with open (\"../model/24NOV17_dbupdatemodels/als_trainvalpreds_pd_series.pkl\", 'w') as f:\n",
    "    pickle.dump(als_trainvalpreds_pd_series, f)\n",
    "with open ('../model/24NOV17_dbupdatemodels/als_testpreds_pd_series.pkl', 'w') as f:\n",
    "    pickle.dump(als_testpreds_pd_series, f)"
   ]
  },
  {
   "cell_type": "code",
   "execution_count": 24,
   "metadata": {
    "collapsed": true
   },
   "outputs": [],
   "source": [
    "#these only need to be saved once today:\n",
    "als_trainval_df_pd = als_model.trainval\n",
    "als_test_df_pd = als_model.test"
   ]
  },
  {
   "cell_type": "code",
   "execution_count": 25,
   "metadata": {
    "collapsed": true
   },
   "outputs": [],
   "source": [
    "with open (\"../model/24NOV17_dbupdatemodels/als_trainval_df_pd.pkl\", 'w') as f:\n",
    "    pickle.dump(als_trainval_df_pd, f)\n",
    "    \n",
    "with open (\"../model/24NOV17_dbupdatemodels/als_test_df_pd.pkl\", 'w') as f:\n",
    "    pickle.dump(als_test_df_pd, f)"
   ]
  },
  {
   "cell_type": "markdown",
   "metadata": {},
   "source": [
    "## EventTypeID"
   ]
  },
  {
   "cell_type": "code",
   "execution_count": 26,
   "metadata": {
    "scrolled": true
   },
   "outputs": [
    {
     "name": "stdout",
     "output_type": "stream",
     "text": [
      "participants in train: 11432\n",
      "participants in validate: 11432\n",
      "participants in test: 11432\n",
      "\n",
      "\n",
      "participants in both train & validate: 11432\n",
      "participants in both train & test: 11432\n",
      "\n",
      "\n",
      "EventTypeID in train: 2\n",
      "EventTypeID in validate: 2\n",
      "EventTypeID in test: 2\n",
      "\n",
      "\n",
      "EventTypeID in both train & validate: 2\n",
      "EventTypeID in both train & test: 2\n"
     ]
    }
   ],
   "source": [
    "als_model.print_train_val_test_info(\"EventTypeID\")"
   ]
  },
  {
   "cell_type": "code",
   "execution_count": 27,
   "metadata": {
    "collapsed": true
   },
   "outputs": [],
   "source": [
    "als_model.create_participate_matrices(\"EventTypeID\")"
   ]
  },
  {
   "cell_type": "code",
   "execution_count": 28,
   "metadata": {
    "collapsed": true
   },
   "outputs": [],
   "source": [
    "als_model.fit_ALS(itemCol=\"EventTypeID\", rank=30, alpha=80, coldStartStrategy=\"drop\")"
   ]
  },
  {
   "cell_type": "code",
   "execution_count": 29,
   "metadata": {},
   "outputs": [
    {
     "name": "stdout",
     "output_type": "stream",
     "text": [
      "Trainval predictions includes 850540 valid values and 0 nan values\n",
      "Test predictions includes 212636 valid values and 0 nan values\n",
      "Trainval Model Rank = 0.00561139231486 and Popular Rank = 6.57570715474\n",
      "Test Model Rank = 0.541979843155 and Popular Rank = 4.7932618683\n"
     ]
    }
   ],
   "source": [
    "trainval_predictions, trainval_rank, trainval_pop_rank, test_predictions, test_rank, test_pop_rank = als_model.predict_ALS(\n",
    "    als_model.base_model, \"EventTypeID\")"
   ]
  },
  {
   "cell_type": "code",
   "execution_count": 30,
   "metadata": {
    "collapsed": true
   },
   "outputs": [],
   "source": [
    "als_fit_model_eventtype = als_model.base_model\n",
    "als_trainvalpreds_pd_eventtype = trainval_predictions\n",
    "als_testpreds_pd_eventtype = test_predictions\n",
    "\n",
    "als_fit_model_eventtype.save(\"../model/als_fit_model_eventtype\")\n",
    "\n",
    "with open (\"../model/24NOV17_dbupdatemodels/als_trainvalpreds_pd_eventtype.pkl\", 'w') as f:\n",
    "    pickle.dump(als_trainvalpreds_pd_eventtype, f)\n",
    "with open (\"../model/24NOV17_dbupdatemodels/als_testpreds_pd_eventtype.pkl\", 'w') as f:\n",
    "    pickle.dump(als_testpreds_pd_eventtype, f)"
   ]
  },
  {
   "cell_type": "markdown",
   "metadata": {},
   "source": [
    "## Venue (Based on Zipcode)"
   ]
  },
  {
   "cell_type": "code",
   "execution_count": 31,
   "metadata": {
    "scrolled": true
   },
   "outputs": [
    {
     "name": "stdout",
     "output_type": "stream",
     "text": [
      "participants in train: 11432\n",
      "participants in validate: 11432\n",
      "participants in test: 11432\n",
      "\n",
      "\n",
      "participants in both train & validate: 11432\n",
      "participants in both train & test: 11432\n",
      "\n",
      "\n",
      "Venue_Zip in train: 22\n",
      "Venue_Zip in validate: 16\n",
      "Venue_Zip in test: 14\n",
      "\n",
      "\n",
      "Venue_Zip in both train & validate: 14\n",
      "Venue_Zip in both train & test: 12\n"
     ]
    }
   ],
   "source": [
    "als_model.print_train_val_test_info(\"Venue_Zip\")"
   ]
  },
  {
   "cell_type": "code",
   "execution_count": 32,
   "metadata": {
    "collapsed": true
   },
   "outputs": [],
   "source": [
    "als_model.create_participate_matrices(\"Venue_Zip\")"
   ]
  },
  {
   "cell_type": "code",
   "execution_count": 33,
   "metadata": {
    "collapsed": true
   },
   "outputs": [],
   "source": [
    "als_model.fit_ALS(itemCol=\"Venue_Zip\", rank=5, alpha=80, coldStartStrategy=\"drop\")"
   ]
  },
  {
   "cell_type": "code",
   "execution_count": 34,
   "metadata": {},
   "outputs": [
    {
     "name": "stdout",
     "output_type": "stream",
     "text": [
      "Trainval predictions includes 850540 valid values and 0 nan values\n",
      "Test predictions includes 189772 valid values and 0 nan values\n",
      "Trainval Model Rank = 6.12124169947 and Popular Rank = 25.0532445923\n",
      "Test Model Rank = 16.5762885588 and Popular Rank = 31.6396783432\n"
     ]
    }
   ],
   "source": [
    "trainval_predictions, trainval_rank, trainval_pop_rank, test_predictions, test_rank, test_pop_rank = als_model.predict_ALS(\n",
    "    als_model.base_model, \"Venue_Zip\")"
   ]
  },
  {
   "cell_type": "code",
   "execution_count": 35,
   "metadata": {
    "collapsed": true
   },
   "outputs": [],
   "source": [
    "als_fit_model_zipcode = als_model.base_model\n",
    "als_trainvalpreds_pd_zipcode = trainval_predictions\n",
    "als_testpreds_pd_zipcode = test_predictions\n",
    "\n",
    "als_fit_model_zipcode.save(\"../model/als_fit_model_zipcode\")\n",
    "\n",
    "with open (\"../model/24NOV17_dbupdatemodels/als_trainvalpreds_pd_zipcode.pkl\", 'w') as f:\n",
    "    pickle.dump(als_trainvalpreds_pd_zipcode, f)\n",
    "with open (\"../model/24NOV17_dbupdatemodels/als_testpreds_pd_zipcode.pkl\", 'w') as f:\n",
    "    pickle.dump(als_testpreds_pd_zipcode, f)"
   ]
  },
  {
   "cell_type": "markdown",
   "metadata": {},
   "source": [
    "## Total Average Fee"
   ]
  },
  {
   "cell_type": "code",
   "execution_count": 36,
   "metadata": {
    "scrolled": true
   },
   "outputs": [
    {
     "name": "stdout",
     "output_type": "stream",
     "text": [
      "participants in train: 11432\n",
      "participants in validate: 11432\n",
      "participants in test: 11432\n",
      "\n",
      "\n",
      "participants in both train & validate: 11432\n",
      "participants in both train & test: 11432\n",
      "\n",
      "\n",
      "Total_Fee_Avg in train: 22\n",
      "Total_Fee_Avg in validate: 11\n",
      "Total_Fee_Avg in test: 10\n",
      "\n",
      "\n",
      "Total_Fee_Avg in both train & validate: 8\n",
      "Total_Fee_Avg in both train & test: 7\n"
     ]
    }
   ],
   "source": [
    "als_model.print_train_val_test_info(\"Total_Fee_Avg\")"
   ]
  },
  {
   "cell_type": "code",
   "execution_count": 37,
   "metadata": {
    "collapsed": true
   },
   "outputs": [],
   "source": [
    "als_model.create_participate_matrices(\"Total_Fee_Avg\")"
   ]
  },
  {
   "cell_type": "code",
   "execution_count": 38,
   "metadata": {
    "collapsed": true
   },
   "outputs": [],
   "source": [
    "als_model.fit_ALS(itemCol=\"Total_Fee_Avg\", rank=5, alpha=80, coldStartStrategy=\"drop\")"
   ]
  },
  {
   "cell_type": "code",
   "execution_count": 39,
   "metadata": {},
   "outputs": [
    {
     "name": "stdout",
     "output_type": "stream",
     "text": [
      "Trainval predictions includes 850540 valid values and 0 nan values\n",
      "Test predictions includes 201204 valid values and 0 nan values\n",
      "Trainval Model Rank = 6.95386835405 and Popular Rank = 25.2150415973\n",
      "Test Model Rank = 16.0791487103 and Popular Rank = 26.7184782994\n"
     ]
    }
   ],
   "source": [
    "trainval_predictions, trainval_rank, trainval_pop_rank, test_predictions, test_rank, test_pop_rank = als_model.predict_ALS(\n",
    "    als_model.base_model, \"Total_Fee_Avg\")"
   ]
  },
  {
   "cell_type": "code",
   "execution_count": 40,
   "metadata": {
    "collapsed": true
   },
   "outputs": [],
   "source": [
    "als_fit_model_avgfee = als_model.base_model\n",
    "als_trainvalpreds_pd_avgfee = trainval_predictions\n",
    "als_testpreds_pd_avgfee = test_predictions\n",
    "\n",
    "als_fit_model_avgfee.save(\"../model/als_fit_model_avgfee\")\n",
    "\n",
    "with open (\"../model/24NOV17_dbupdatemodels/als_trainvalpreds_pd_avgfee.pkl\", 'w') as f:\n",
    "    pickle.dump(als_trainvalpreds_pd_avgfee, f)\n",
    "\n",
    "with open (\"../model/24NOV17_dbupdatemodels/als_testpreds_pd_avgfee.pkl\", 'w') as f:\n",
    "    pickle.dump(als_testpreds_pd_avgfee, f)"
   ]
  },
  {
   "cell_type": "markdown",
   "metadata": {},
   "source": [
    "## Average Mileage"
   ]
  },
  {
   "cell_type": "code",
   "execution_count": 41,
   "metadata": {
    "scrolled": true
   },
   "outputs": [
    {
     "name": "stdout",
     "output_type": "stream",
     "text": [
      "participants in train: 11432\n",
      "participants in validate: 11432\n",
      "participants in test: 11432\n",
      "\n",
      "\n",
      "participants in both train & validate: 11432\n",
      "participants in both train & test: 11432\n",
      "\n",
      "\n",
      "Miles2_Avg in train: 13\n",
      "Miles2_Avg in validate: 10\n",
      "Miles2_Avg in test: 10\n",
      "\n",
      "\n",
      "Miles2_Avg in both train & validate: 8\n",
      "Miles2_Avg in both train & test: 9\n"
     ]
    }
   ],
   "source": [
    "als_model.print_train_val_test_info(\"Miles2_Avg\")"
   ]
  },
  {
   "cell_type": "code",
   "execution_count": 42,
   "metadata": {
    "collapsed": true
   },
   "outputs": [],
   "source": [
    "als_model.create_participate_matrices(\"Miles2_Avg\")"
   ]
  },
  {
   "cell_type": "code",
   "execution_count": 43,
   "metadata": {
    "collapsed": true
   },
   "outputs": [],
   "source": [
    "als_model.fit_ALS(itemCol=\"Miles2_Avg\", rank=5, alpha=80, coldStartStrategy=\"drop\")"
   ]
  },
  {
   "cell_type": "code",
   "execution_count": 44,
   "metadata": {},
   "outputs": [
    {
     "name": "stdout",
     "output_type": "stream",
     "text": [
      "Trainval predictions includes 850540 valid values and 0 nan values\n",
      "Test predictions includes 212636 valid values and 0 nan values\n",
      "Trainval Model Rank = 3.46572593238 and Popular Rank = 22.7483083749\n",
      "Test Model Rank = 12.3089540687 and Popular Rank = 21.5467075038\n"
     ]
    }
   ],
   "source": [
    "trainval_predictions, trainval_rank, trainval_pop_rank, test_predictions, test_rank, test_pop_rank = als_model.predict_ALS(\n",
    "    als_model.base_model, \"Miles2_Avg\")"
   ]
  },
  {
   "cell_type": "code",
   "execution_count": 45,
   "metadata": {
    "collapsed": true
   },
   "outputs": [],
   "source": [
    "als_fit_model_avgmile = als_model.base_model\n",
    "als_trainvalpreds_pd_avgmile = trainval_predictions\n",
    "als_testpreds_pd_avgmile = test_predictions\n",
    "\n",
    "als_fit_model_avgmile.save(\"../model/als_fit_model_avgmile\")\n",
    "\n",
    "with open (\"../model/24NOV17_dbupdatemodels/als_trainvalpreds_pd_avgmile.pkl\", 'w') as f:\n",
    "    pickle.dump(als_trainvalpreds_pd_avgmile, f)\n",
    "with open (\"../model/24NOV17_dbupdatemodels/als_testpreds_pd_avgmile.pkl\", 'w') as f:\n",
    "    pickle.dump(als_testpreds_pd_avgmile, f)"
   ]
  },
  {
   "cell_type": "markdown",
   "metadata": {},
   "source": [
    "## Build Gradient Boost Ensemble Using ALS Models Predictions as Inputs to Determine Weights for Each"
   ]
  },
  {
   "cell_type": "markdown",
   "metadata": {},
   "source": [
    "#### Build X, y Train Matrices for GB Model; Split between Train and Validate"
   ]
  },
  {
   "cell_type": "code",
   "execution_count": 46,
   "metadata": {
    "collapsed": true
   },
   "outputs": [],
   "source": [
    "data_df = load_files('../model/24NOV17_dbupdatemodels/als_trainval_df_pd.pkl')\n",
    "fee_preds = load_files('../model/24NOV17_dbupdatemodels/als_trainvalpreds_pd_avgfee.pkl')\n",
    "mile_preds = load_files('../model/24NOV17_dbupdatemodels/als_trainvalpreds_pd_avgmile.pkl')\n",
    "type_preds = load_files('../model/24NOV17_dbupdatemodels/als_trainvalpreds_pd_eventtype.pkl')\n",
    "series_preds = load_files('../model/24NOV17_dbupdatemodels/als_trainvalpreds_pd_series.pkl')\n",
    "zipcode_preds = load_files('../model/24NOV17_dbupdatemodels/als_trainvalpreds_pd_zipcode.pkl')"
   ]
  },
  {
   "cell_type": "code",
   "execution_count": 47,
   "metadata": {
    "collapsed": true
   },
   "outputs": [],
   "source": [
    "data_df['Event_Date'] = data_df['Event_Date'].astype('int64')//1e9"
   ]
  },
  {
   "cell_type": "code",
   "execution_count": 48,
   "metadata": {
    "collapsed": true
   },
   "outputs": [],
   "source": [
    "data_df['Event_Date'] = data_df['Event_Date'] * 1000000000"
   ]
  },
  {
   "cell_type": "code",
   "execution_count": 49,
   "metadata": {},
   "outputs": [
    {
     "data": {
      "text/html": [
       "<div>\n",
       "<style>\n",
       "    .dataframe thead tr:only-child th {\n",
       "        text-align: right;\n",
       "    }\n",
       "\n",
       "    .dataframe thead th {\n",
       "        text-align: left;\n",
       "    }\n",
       "\n",
       "    .dataframe tbody tr th {\n",
       "        vertical-align: top;\n",
       "    }\n",
       "</style>\n",
       "<table border=\"1\" class=\"dataframe\">\n",
       "  <thead>\n",
       "    <tr style=\"text-align: right;\">\n",
       "      <th></th>\n",
       "      <th>PersonID</th>\n",
       "      <th>EventID</th>\n",
       "      <th>Participated</th>\n",
       "      <th>Event_Date</th>\n",
       "      <th>SeriesID</th>\n",
       "      <th>EventTypeID</th>\n",
       "      <th>Total_Fee_Avg</th>\n",
       "      <th>Miles2_Avg</th>\n",
       "      <th>Venue_Zip</th>\n",
       "    </tr>\n",
       "  </thead>\n",
       "  <tbody>\n",
       "    <tr>\n",
       "      <th>57160</th>\n",
       "      <td>1</td>\n",
       "      <td>13</td>\n",
       "      <td>0</td>\n",
       "      <td>1426291200000000000</td>\n",
       "      <td>0.0</td>\n",
       "      <td>1</td>\n",
       "      <td>37</td>\n",
       "      <td>8</td>\n",
       "      <td>98038</td>\n",
       "    </tr>\n",
       "    <tr>\n",
       "      <th>64775</th>\n",
       "      <td>7756</td>\n",
       "      <td>13</td>\n",
       "      <td>0</td>\n",
       "      <td>1426291200000000000</td>\n",
       "      <td>0.0</td>\n",
       "      <td>1</td>\n",
       "      <td>37</td>\n",
       "      <td>8</td>\n",
       "      <td>98038</td>\n",
       "    </tr>\n",
       "    <tr>\n",
       "      <th>64776</th>\n",
       "      <td>7757</td>\n",
       "      <td>13</td>\n",
       "      <td>0</td>\n",
       "      <td>1426291200000000000</td>\n",
       "      <td>0.0</td>\n",
       "      <td>1</td>\n",
       "      <td>37</td>\n",
       "      <td>8</td>\n",
       "      <td>98038</td>\n",
       "    </tr>\n",
       "    <tr>\n",
       "      <th>64777</th>\n",
       "      <td>7758</td>\n",
       "      <td>13</td>\n",
       "      <td>0</td>\n",
       "      <td>1426291200000000000</td>\n",
       "      <td>0.0</td>\n",
       "      <td>1</td>\n",
       "      <td>37</td>\n",
       "      <td>8</td>\n",
       "      <td>98038</td>\n",
       "    </tr>\n",
       "    <tr>\n",
       "      <th>64778</th>\n",
       "      <td>7759</td>\n",
       "      <td>13</td>\n",
       "      <td>0</td>\n",
       "      <td>1426291200000000000</td>\n",
       "      <td>0.0</td>\n",
       "      <td>1</td>\n",
       "      <td>37</td>\n",
       "      <td>8</td>\n",
       "      <td>98038</td>\n",
       "    </tr>\n",
       "  </tbody>\n",
       "</table>\n",
       "</div>"
      ],
      "text/plain": [
       "       PersonID  EventID  Participated           Event_Date  SeriesID  \\\n",
       "57160         1       13             0  1426291200000000000       0.0   \n",
       "64775      7756       13             0  1426291200000000000       0.0   \n",
       "64776      7757       13             0  1426291200000000000       0.0   \n",
       "64777      7758       13             0  1426291200000000000       0.0   \n",
       "64778      7759       13             0  1426291200000000000       0.0   \n",
       "\n",
       "       EventTypeID  Total_Fee_Avg  Miles2_Avg  Venue_Zip  \n",
       "57160            1             37           8      98038  \n",
       "64775            1             37           8      98038  \n",
       "64776            1             37           8      98038  \n",
       "64777            1             37           8      98038  \n",
       "64778            1             37           8      98038  "
      ]
     },
     "execution_count": 49,
     "metadata": {},
     "output_type": "execute_result"
    }
   ],
   "source": [
    "data_df.head()"
   ]
  },
  {
   "cell_type": "code",
   "execution_count": 50,
   "metadata": {},
   "outputs": [
    {
     "data": {
      "text/html": [
       "<div>\n",
       "<style>\n",
       "    .dataframe thead tr:only-child th {\n",
       "        text-align: right;\n",
       "    }\n",
       "\n",
       "    .dataframe thead th {\n",
       "        text-align: left;\n",
       "    }\n",
       "\n",
       "    .dataframe tbody tr th {\n",
       "        vertical-align: top;\n",
       "    }\n",
       "</style>\n",
       "<table border=\"1\" class=\"dataframe\">\n",
       "  <thead>\n",
       "    <tr style=\"text-align: right;\">\n",
       "      <th></th>\n",
       "      <th>PersonID</th>\n",
       "      <th>SeriesID</th>\n",
       "      <th>Participated</th>\n",
       "      <th>Event_Date</th>\n",
       "      <th>prediction</th>\n",
       "    </tr>\n",
       "  </thead>\n",
       "  <tbody>\n",
       "    <tr>\n",
       "      <th>0</th>\n",
       "      <td>148</td>\n",
       "      <td>1.0</td>\n",
       "      <td>0</td>\n",
       "      <td>1420329600000000000</td>\n",
       "      <td>0.986585</td>\n",
       "    </tr>\n",
       "    <tr>\n",
       "      <th>1</th>\n",
       "      <td>148</td>\n",
       "      <td>1.0</td>\n",
       "      <td>0</td>\n",
       "      <td>1422057600000000000</td>\n",
       "      <td>0.986585</td>\n",
       "    </tr>\n",
       "    <tr>\n",
       "      <th>2</th>\n",
       "      <td>148</td>\n",
       "      <td>1.0</td>\n",
       "      <td>0</td>\n",
       "      <td>1423267200000000000</td>\n",
       "      <td>0.986585</td>\n",
       "    </tr>\n",
       "    <tr>\n",
       "      <th>3</th>\n",
       "      <td>148</td>\n",
       "      <td>1.0</td>\n",
       "      <td>1</td>\n",
       "      <td>1446854400000000000</td>\n",
       "      <td>0.986585</td>\n",
       "    </tr>\n",
       "    <tr>\n",
       "      <th>4</th>\n",
       "      <td>148</td>\n",
       "      <td>1.0</td>\n",
       "      <td>1</td>\n",
       "      <td>1448064000000000000</td>\n",
       "      <td>0.986585</td>\n",
       "    </tr>\n",
       "  </tbody>\n",
       "</table>\n",
       "</div>"
      ],
      "text/plain": [
       "   PersonID  SeriesID  Participated           Event_Date  prediction\n",
       "0       148       1.0             0  1420329600000000000    0.986585\n",
       "1       148       1.0             0  1422057600000000000    0.986585\n",
       "2       148       1.0             0  1423267200000000000    0.986585\n",
       "3       148       1.0             1  1446854400000000000    0.986585\n",
       "4       148       1.0             1  1448064000000000000    0.986585"
      ]
     },
     "execution_count": 50,
     "metadata": {},
     "output_type": "execute_result"
    }
   ],
   "source": [
    "series_preds.head()"
   ]
  },
  {
   "cell_type": "code",
   "execution_count": 51,
   "metadata": {
    "collapsed": true
   },
   "outputs": [],
   "source": [
    "predictions = [(series_preds, 'SeriesID'), (type_preds, 'EventTypeID'), \n",
    "               (zipcode_preds, 'Venue_Zip'), (fee_preds, 'Total_Fee_Avg'), \n",
    "               (mile_preds, 'Miles2_Avg')]\n",
    "\n",
    "gb_train_data = data_df.copy()\n",
    "\n",
    "for item in predictions:\n",
    "    gb_train_data = merge_data(gb_train_data, item[0], item[1])"
   ]
  },
  {
   "cell_type": "code",
   "execution_count": 52,
   "metadata": {
    "collapsed": true
   },
   "outputs": [],
   "source": [
    "gb_train_data.sort_values(by='Event_Date', axis=0, ascending=True, inplace=True)"
   ]
  },
  {
   "cell_type": "code",
   "execution_count": 53,
   "metadata": {
    "collapsed": true
   },
   "outputs": [],
   "source": [
    "gb_train_data.reset_index(drop=True, inplace=True)"
   ]
  },
  {
   "cell_type": "code",
   "execution_count": 54,
   "metadata": {},
   "outputs": [
    {
     "name": "stdout",
     "output_type": "stream",
     "text": [
      "<class 'pandas.core.frame.DataFrame'>\n",
      "RangeIndex: 850540 entries, 0 to 850539\n",
      "Data columns (total 9 columns):\n",
      "PersonID                    850540 non-null int64\n",
      "EventID                     850540 non-null int64\n",
      "Participated                850540 non-null int64\n",
      "Event_Date                  850540 non-null int64\n",
      "SeriesID_prediction         850540 non-null float64\n",
      "EventTypeID_prediction      850540 non-null float64\n",
      "Venue_Zip_prediction        850540 non-null float64\n",
      "Total_Fee_Avg_prediction    850540 non-null float64\n",
      "Miles2_Avg_prediction       850540 non-null float64\n",
      "dtypes: float64(5), int64(4)\n",
      "memory usage: 58.4 MB\n"
     ]
    }
   ],
   "source": [
    "gb_train_data.info()"
   ]
  },
  {
   "cell_type": "markdown",
   "metadata": {},
   "source": [
    "No NAN values to fill in since this is the predictions on the training data (no cold starts)"
   ]
  },
  {
   "cell_type": "code",
   "execution_count": 55,
   "metadata": {},
   "outputs": [
    {
     "data": {
      "text/plain": [
       "(680432.0, 170108.0)"
      ]
     },
     "execution_count": 55,
     "metadata": {},
     "output_type": "execute_result"
    }
   ],
   "source": [
    "len(gb_train_data)*.8, len(gb_train_data)*.2"
   ]
  },
  {
   "cell_type": "markdown",
   "metadata": {},
   "source": [
    "Split data on first 680432 records for train (sorted by event_date as timestamp) and last 170108 records for test"
   ]
  },
  {
   "cell_type": "code",
   "execution_count": 56,
   "metadata": {
    "collapsed": true
   },
   "outputs": [],
   "source": [
    "X_gb_train = gb_train_data[['SeriesID_prediction', 'EventTypeID_prediction', 'Venue_Zip_prediction', 'Total_Fee_Avg_prediction', \n",
    "                      'Miles2_Avg_prediction']].iloc[:680432].copy()"
   ]
  },
  {
   "cell_type": "code",
   "execution_count": 57,
   "metadata": {
    "collapsed": true
   },
   "outputs": [],
   "source": [
    "y_gb_train = gb_train_data['Participated'].iloc[:680432].copy()"
   ]
  },
  {
   "cell_type": "code",
   "execution_count": 58,
   "metadata": {},
   "outputs": [
    {
     "data": {
      "text/plain": [
       "(680432, 680432)"
      ]
     },
     "execution_count": 58,
     "metadata": {},
     "output_type": "execute_result"
    }
   ],
   "source": [
    "len(X_gb_train), len(y_gb_train)"
   ]
  },
  {
   "cell_type": "code",
   "execution_count": 59,
   "metadata": {
    "collapsed": true
   },
   "outputs": [],
   "source": [
    "X_gb_val = gb_train_data[['SeriesID_prediction', 'EventTypeID_prediction', 'Venue_Zip_prediction', 'Total_Fee_Avg_prediction', \n",
    "                      'Miles2_Avg_prediction']].iloc[680432:].copy()"
   ]
  },
  {
   "cell_type": "code",
   "execution_count": 60,
   "metadata": {
    "collapsed": true
   },
   "outputs": [],
   "source": [
    "y_gb_val = gb_train_data['Participated'].iloc[680432:].copy()"
   ]
  },
  {
   "cell_type": "code",
   "execution_count": 61,
   "metadata": {
    "scrolled": true
   },
   "outputs": [
    {
     "data": {
      "text/plain": [
       "(170108, 170108)"
      ]
     },
     "execution_count": 61,
     "metadata": {},
     "output_type": "execute_result"
    }
   ],
   "source": [
    "len(X_gb_val), len(y_gb_val)"
   ]
  },
  {
   "cell_type": "code",
   "execution_count": 62,
   "metadata": {
    "collapsed": true
   },
   "outputs": [],
   "source": [
    "with open('../model/24NOV17_dbupdatemodels/gb_train_data.pkl', 'w') as f:\n",
    "    pickle.dump(gb_train_data, f)"
   ]
  },
  {
   "cell_type": "markdown",
   "metadata": {},
   "source": [
    "#### Build X, y Test Matrices for GB Model"
   ]
  },
  {
   "cell_type": "code",
   "execution_count": 63,
   "metadata": {
    "collapsed": true
   },
   "outputs": [],
   "source": [
    "test_data_df = load_files('../model/24NOV17_dbupdatemodels/als_test_df_pd.pkl')\n",
    "test_fee_preds = load_files('../model/24NOV17_dbupdatemodels/als_testpreds_pd_avgfee.pkl')\n",
    "test_mile_preds = load_files('../model/24NOV17_dbupdatemodels/als_testpreds_pd_avgmile.pkl')\n",
    "test_type_preds = load_files('../model/24NOV17_dbupdatemodels/als_testpreds_pd_eventtype.pkl')\n",
    "test_series_preds = load_files('../model/24NOV17_dbupdatemodels/als_testpreds_pd_series.pkl')\n",
    "test_zipcode_preds = load_files('../model/24NOV17_dbupdatemodels/als_testpreds_pd_zipcode.pkl')"
   ]
  },
  {
   "cell_type": "code",
   "execution_count": 64,
   "metadata": {
    "collapsed": true
   },
   "outputs": [],
   "source": [
    "test_data_df['Event_Date'] = test_data_df['Event_Date'].astype('int64')//1e9"
   ]
  },
  {
   "cell_type": "code",
   "execution_count": 65,
   "metadata": {
    "collapsed": true
   },
   "outputs": [],
   "source": [
    "test_data_df['Event_Date'] = test_data_df['Event_Date'] * 1000000000"
   ]
  },
  {
   "cell_type": "code",
   "execution_count": 66,
   "metadata": {
    "collapsed": true
   },
   "outputs": [],
   "source": [
    "test_predictions = [(test_series_preds, 'SeriesID'), (test_type_preds, 'EventTypeID'), \n",
    "               (test_zipcode_preds, 'Venue_Zip'), (test_fee_preds, 'Total_Fee_Avg'), \n",
    "               (test_mile_preds, 'Miles2_Avg')]\n",
    "\n",
    "gb_test_data = test_data_df.copy()\n",
    "\n",
    "for item in test_predictions:\n",
    "    gb_test_data = merge_data(gb_test_data, item[0], item[1])"
   ]
  },
  {
   "cell_type": "code",
   "execution_count": 67,
   "metadata": {
    "collapsed": true
   },
   "outputs": [],
   "source": [
    "gb_test_data.sort_values(by='Event_Date', axis=0, ascending=True, inplace=True)"
   ]
  },
  {
   "cell_type": "code",
   "execution_count": 68,
   "metadata": {
    "collapsed": true
   },
   "outputs": [],
   "source": [
    "gb_test_data.reset_index(drop=True, inplace=True)"
   ]
  },
  {
   "cell_type": "code",
   "execution_count": 69,
   "metadata": {},
   "outputs": [
    {
     "name": "stdout",
     "output_type": "stream",
     "text": [
      "<class 'pandas.core.frame.DataFrame'>\n",
      "RangeIndex: 212636 entries, 0 to 212635\n",
      "Data columns (total 9 columns):\n",
      "PersonID                    212636 non-null int64\n",
      "EventID                     212636 non-null int64\n",
      "Participated                212636 non-null int64\n",
      "Event_Date                  212636 non-null int64\n",
      "SeriesID_prediction         212636 non-null float64\n",
      "EventTypeID_prediction      212636 non-null float64\n",
      "Venue_Zip_prediction        189772 non-null float64\n",
      "Total_Fee_Avg_prediction    201204 non-null float64\n",
      "Miles2_Avg_prediction       212636 non-null float64\n",
      "dtypes: float64(5), int64(4)\n",
      "memory usage: 14.6 MB\n"
     ]
    }
   ],
   "source": [
    "gb_test_data.info()"
   ]
  },
  {
   "cell_type": "code",
   "execution_count": 70,
   "metadata": {
    "collapsed": true
   },
   "outputs": [],
   "source": [
    "#need to fill nan values for and Fee and Mile Predictions (caused by cold starts during ALS modeling)\n",
    "gb_test_data['Total_Fee_Avg_prediction'] = gb_test_data['Total_Fee_Avg_prediction'].apply(\n",
    "                            lambda x: gb_test_data['Total_Fee_Avg_prediction'].mean() if pd.isnull(x) else x)\n",
    "gb_test_data['Miles2_Avg_prediction'] = gb_test_data['Miles2_Avg_prediction'].apply(\n",
    "                            lambda x: gb_test_data['Miles2_Avg_prediction'].mean() if pd.isnull(x) else x)\n",
    "gb_test_data['Venue_Zip_prediction'] = gb_test_data['Venue_Zip_prediction'].apply(\n",
    "                            lambda x: gb_test_data['Venue_Zip_prediction'].mean() if pd.isnull(x) else x)"
   ]
  },
  {
   "cell_type": "code",
   "execution_count": 71,
   "metadata": {},
   "outputs": [
    {
     "name": "stdout",
     "output_type": "stream",
     "text": [
      "<class 'pandas.core.frame.DataFrame'>\n",
      "RangeIndex: 212636 entries, 0 to 212635\n",
      "Data columns (total 9 columns):\n",
      "PersonID                    212636 non-null int64\n",
      "EventID                     212636 non-null int64\n",
      "Participated                212636 non-null int64\n",
      "Event_Date                  212636 non-null int64\n",
      "SeriesID_prediction         212636 non-null float64\n",
      "EventTypeID_prediction      212636 non-null float64\n",
      "Venue_Zip_prediction        212636 non-null float64\n",
      "Total_Fee_Avg_prediction    212636 non-null float64\n",
      "Miles2_Avg_prediction       212636 non-null float64\n",
      "dtypes: float64(5), int64(4)\n",
      "memory usage: 14.6 MB\n"
     ]
    }
   ],
   "source": [
    "gb_test_data.info()"
   ]
  },
  {
   "cell_type": "code",
   "execution_count": 72,
   "metadata": {
    "collapsed": true
   },
   "outputs": [],
   "source": [
    "X_gb_test = gb_test_data[['SeriesID_prediction', 'EventTypeID_prediction', 'Venue_Zip_prediction', 'Total_Fee_Avg_prediction', \n",
    "                      'Miles2_Avg_prediction']].copy()"
   ]
  },
  {
   "cell_type": "code",
   "execution_count": 73,
   "metadata": {
    "collapsed": true
   },
   "outputs": [],
   "source": [
    "y_gb_test = gb_test_data['Participated'].copy()"
   ]
  },
  {
   "cell_type": "code",
   "execution_count": 74,
   "metadata": {
    "scrolled": true
   },
   "outputs": [
    {
     "data": {
      "text/plain": [
       "(212636, 212636)"
      ]
     },
     "execution_count": 74,
     "metadata": {},
     "output_type": "execute_result"
    }
   ],
   "source": [
    "len(X_gb_test), len(y_gb_test)"
   ]
  },
  {
   "cell_type": "code",
   "execution_count": 75,
   "metadata": {
    "collapsed": true
   },
   "outputs": [],
   "source": [
    "with open('../model/24NOV17_dbupdatemodels/gb_test_data.pkl', 'w') as f:\n",
    "    pickle.dump(gb_test_data, f)"
   ]
  },
  {
   "cell_type": "markdown",
   "metadata": {
    "collapsed": true
   },
   "source": [
    "## Fit selected model with train+val data (using params tuned in previous DB runs):"
   ]
  },
  {
   "cell_type": "code",
   "execution_count": 76,
   "metadata": {
    "collapsed": true
   },
   "outputs": [],
   "source": [
    "X_gb_trainval = gb_train_data[['SeriesID_prediction', 'EventTypeID_prediction', 'Venue_Zip_prediction', 'Total_Fee_Avg_prediction', \n",
    "                      'Miles2_Avg_prediction']]"
   ]
  },
  {
   "cell_type": "code",
   "execution_count": 77,
   "metadata": {
    "collapsed": true
   },
   "outputs": [],
   "source": [
    "y_gb_trainval = gb_train_data['Participated']"
   ]
  },
  {
   "cell_type": "code",
   "execution_count": 78,
   "metadata": {
    "collapsed": true
   },
   "outputs": [],
   "source": [
    "gb_model_final = GradientBoostingRegressor(loss='ls', learning_rate=.01, n_estimators=100, subsample=0.5, max_depth=3)"
   ]
  },
  {
   "cell_type": "code",
   "execution_count": 79,
   "metadata": {},
   "outputs": [
    {
     "data": {
      "text/plain": [
       "GradientBoostingRegressor(alpha=0.9, criterion='friedman_mse', init=None,\n",
       "             learning_rate=0.01, loss='ls', max_depth=3, max_features=None,\n",
       "             max_leaf_nodes=None, min_impurity_decrease=0.0,\n",
       "             min_impurity_split=None, min_samples_leaf=1,\n",
       "             min_samples_split=2, min_weight_fraction_leaf=0.0,\n",
       "             n_estimators=100, presort='auto', random_state=None,\n",
       "             subsample=0.5, verbose=0, warm_start=False)"
      ]
     },
     "execution_count": 79,
     "metadata": {},
     "output_type": "execute_result"
    }
   ],
   "source": [
    "gb_model_final.fit(X_gb_trainval, y_gb_trainval)"
   ]
  },
  {
   "cell_type": "code",
   "execution_count": 80,
   "metadata": {},
   "outputs": [
    {
     "name": "stdout",
     "output_type": "stream",
     "text": [
      "<class 'pandas.core.frame.DataFrame'>\n",
      "RangeIndex: 212636 entries, 0 to 212635\n",
      "Data columns (total 9 columns):\n",
      "PersonID                    212636 non-null int64\n",
      "EventID                     212636 non-null int64\n",
      "Participated                212636 non-null int64\n",
      "Event_Date                  212636 non-null int64\n",
      "SeriesID_prediction         212636 non-null float64\n",
      "EventTypeID_prediction      212636 non-null float64\n",
      "Venue_Zip_prediction        212636 non-null float64\n",
      "Total_Fee_Avg_prediction    212636 non-null float64\n",
      "Miles2_Avg_prediction       212636 non-null float64\n",
      "dtypes: float64(5), int64(4)\n",
      "memory usage: 14.6 MB\n"
     ]
    }
   ],
   "source": [
    "gb_test_data.info()"
   ]
  },
  {
   "cell_type": "code",
   "execution_count": 81,
   "metadata": {
    "collapsed": true
   },
   "outputs": [],
   "source": [
    "gb_testpreds_final = gb_model_final.predict(X_gb_test)"
   ]
  },
  {
   "cell_type": "code",
   "execution_count": 82,
   "metadata": {},
   "outputs": [
    {
     "data": {
      "text/plain": [
       "212636"
      ]
     },
     "execution_count": 82,
     "metadata": {},
     "output_type": "execute_result"
    }
   ],
   "source": [
    "len(gb_testpreds_final)"
   ]
  },
  {
   "cell_type": "code",
   "execution_count": 83,
   "metadata": {},
   "outputs": [
    {
     "data": {
      "text/plain": [
       "212636"
      ]
     },
     "execution_count": 83,
     "metadata": {},
     "output_type": "execute_result"
    }
   ],
   "source": [
    "len(y_gb_test)"
   ]
  },
  {
   "cell_type": "code",
   "execution_count": 84,
   "metadata": {},
   "outputs": [
    {
     "data": {
      "text/plain": [
       "212636"
      ]
     },
     "execution_count": 84,
     "metadata": {},
     "output_type": "execute_result"
    }
   ],
   "source": [
    "len(gb_test_data)"
   ]
  },
  {
   "cell_type": "code",
   "execution_count": 85,
   "metadata": {
    "collapsed": true
   },
   "outputs": [],
   "source": [
    "rankeval_testpreds_df_final = pd.DataFrame({'PersonID': gb_test_data['PersonID'], 'EventID': \n",
    "                                      gb_test_data['EventID'], 'Participated': y_gb_test.values, \n",
    "                                      'prediction': gb_testpreds_final})"
   ]
  },
  {
   "cell_type": "code",
   "execution_count": 86,
   "metadata": {},
   "outputs": [
    {
     "data": {
      "text/html": [
       "<div>\n",
       "<style>\n",
       "    .dataframe thead tr:only-child th {\n",
       "        text-align: right;\n",
       "    }\n",
       "\n",
       "    .dataframe thead th {\n",
       "        text-align: left;\n",
       "    }\n",
       "\n",
       "    .dataframe tbody tr th {\n",
       "        vertical-align: top;\n",
       "    }\n",
       "</style>\n",
       "<table border=\"1\" class=\"dataframe\">\n",
       "  <thead>\n",
       "    <tr style=\"text-align: right;\">\n",
       "      <th></th>\n",
       "      <th>EventID</th>\n",
       "      <th>Participated</th>\n",
       "      <th>PersonID</th>\n",
       "      <th>prediction</th>\n",
       "    </tr>\n",
       "  </thead>\n",
       "  <tbody>\n",
       "    <tr>\n",
       "      <th>0</th>\n",
       "      <td>1009</td>\n",
       "      <td>0</td>\n",
       "      <td>3369</td>\n",
       "      <td>0.006401</td>\n",
       "    </tr>\n",
       "    <tr>\n",
       "      <th>1</th>\n",
       "      <td>1009</td>\n",
       "      <td>0</td>\n",
       "      <td>5447</td>\n",
       "      <td>0.326017</td>\n",
       "    </tr>\n",
       "    <tr>\n",
       "      <th>2</th>\n",
       "      <td>1009</td>\n",
       "      <td>1</td>\n",
       "      <td>5448</td>\n",
       "      <td>0.326017</td>\n",
       "    </tr>\n",
       "    <tr>\n",
       "      <th>3</th>\n",
       "      <td>1009</td>\n",
       "      <td>0</td>\n",
       "      <td>5449</td>\n",
       "      <td>0.326017</td>\n",
       "    </tr>\n",
       "    <tr>\n",
       "      <th>4</th>\n",
       "      <td>1009</td>\n",
       "      <td>0</td>\n",
       "      <td>5450</td>\n",
       "      <td>0.326017</td>\n",
       "    </tr>\n",
       "  </tbody>\n",
       "</table>\n",
       "</div>"
      ],
      "text/plain": [
       "   EventID  Participated  PersonID  prediction\n",
       "0     1009             0      3369    0.006401\n",
       "1     1009             0      5447    0.326017\n",
       "2     1009             1      5448    0.326017\n",
       "3     1009             0      5449    0.326017\n",
       "4     1009             0      5450    0.326017"
      ]
     },
     "execution_count": 86,
     "metadata": {},
     "output_type": "execute_result"
    }
   ],
   "source": [
    "rankeval_testpreds_df_final.head()"
   ]
  },
  {
   "cell_type": "code",
   "execution_count": 87,
   "metadata": {
    "collapsed": true
   },
   "outputs": [],
   "source": [
    "rank_processing_final = rank_eval.RankEval(rankeval_testpreds_df_final, 'PersonID', 'EventID', 'Participated', 'prediction')"
   ]
  },
  {
   "cell_type": "code",
   "execution_count": 88,
   "metadata": {},
   "outputs": [
    {
     "data": {
      "text/plain": [
       "25.235657190454202"
      ]
     },
     "execution_count": 88,
     "metadata": {},
     "output_type": "execute_result"
    }
   ],
   "source": [
    "rank_processing_final.calc_test_rank()"
   ]
  },
  {
   "cell_type": "code",
   "execution_count": 89,
   "metadata": {
    "scrolled": true
   },
   "outputs": [
    {
     "data": {
      "text/plain": [
       "36.314446145992726"
      ]
     },
     "execution_count": 89,
     "metadata": {},
     "output_type": "execute_result"
    }
   ],
   "source": [
    "rank_processing_final.calc_popular_rank()"
   ]
  },
  {
   "cell_type": "code",
   "execution_count": 90,
   "metadata": {
    "collapsed": true
   },
   "outputs": [],
   "source": [
    "gb_trainvalpreds_final = gb_model_final.predict(X_gb_trainval)"
   ]
  },
  {
   "cell_type": "code",
   "execution_count": 91,
   "metadata": {},
   "outputs": [
    {
     "data": {
      "text/plain": [
       "850540"
      ]
     },
     "execution_count": 91,
     "metadata": {},
     "output_type": "execute_result"
    }
   ],
   "source": [
    "len(gb_trainvalpreds_final)"
   ]
  },
  {
   "cell_type": "code",
   "execution_count": 92,
   "metadata": {},
   "outputs": [
    {
     "data": {
      "text/plain": [
       "850540"
      ]
     },
     "execution_count": 92,
     "metadata": {},
     "output_type": "execute_result"
    }
   ],
   "source": [
    "len(y_gb_trainval)"
   ]
  },
  {
   "cell_type": "code",
   "execution_count": 93,
   "metadata": {},
   "outputs": [
    {
     "data": {
      "text/plain": [
       "850540"
      ]
     },
     "execution_count": 93,
     "metadata": {},
     "output_type": "execute_result"
    }
   ],
   "source": [
    "len(gb_train_data)"
   ]
  },
  {
   "cell_type": "code",
   "execution_count": 94,
   "metadata": {
    "collapsed": true
   },
   "outputs": [],
   "source": [
    "rankeval_trainvalpreds_df_final = pd.DataFrame({'PersonID': gb_train_data['PersonID'], 'EventID': \n",
    "                                      gb_train_data['EventID'], 'Participated': y_gb_trainval.values, \n",
    "                                      'prediction': gb_trainvalpreds_final})"
   ]
  },
  {
   "cell_type": "code",
   "execution_count": 95,
   "metadata": {
    "collapsed": true
   },
   "outputs": [],
   "source": [
    "rank_processing_final_train = rank_eval.RankEval(rankeval_trainvalpreds_df_final, 'PersonID', 'EventID', 'Participated', 'prediction')"
   ]
  },
  {
   "cell_type": "code",
   "execution_count": 96,
   "metadata": {},
   "outputs": [
    {
     "data": {
      "text/plain": [
       "10.482894473985509"
      ]
     },
     "execution_count": 96,
     "metadata": {},
     "output_type": "execute_result"
    }
   ],
   "source": [
    "rank_processing_final_train.calc_test_rank()"
   ]
  },
  {
   "cell_type": "code",
   "execution_count": 97,
   "metadata": {},
   "outputs": [
    {
     "data": {
      "text/plain": [
       "32.646627914514013"
      ]
     },
     "execution_count": 97,
     "metadata": {},
     "output_type": "execute_result"
    }
   ],
   "source": [
    "rank_processing_final_train.calc_popular_rank()"
   ]
  },
  {
   "cell_type": "code",
   "execution_count": 98,
   "metadata": {},
   "outputs": [
    {
     "data": {
      "text/plain": [
       "{'alpha': 0.9,\n",
       " 'criterion': 'friedman_mse',\n",
       " 'init': None,\n",
       " 'learning_rate': 0.01,\n",
       " 'loss': 'ls',\n",
       " 'max_depth': 3,\n",
       " 'max_features': None,\n",
       " 'max_leaf_nodes': None,\n",
       " 'min_impurity_decrease': 0.0,\n",
       " 'min_impurity_split': None,\n",
       " 'min_samples_leaf': 1,\n",
       " 'min_samples_split': 2,\n",
       " 'min_weight_fraction_leaf': 0.0,\n",
       " 'n_estimators': 100,\n",
       " 'presort': 'auto',\n",
       " 'random_state': None,\n",
       " 'subsample': 0.5,\n",
       " 'verbose': 0,\n",
       " 'warm_start': False}"
      ]
     },
     "execution_count": 98,
     "metadata": {},
     "output_type": "execute_result"
    }
   ],
   "source": [
    "gb_model_final.get_params()"
   ]
  },
  {
   "cell_type": "code",
   "execution_count": 99,
   "metadata": {
    "scrolled": false
   },
   "outputs": [
    {
     "data": {
      "text/plain": [
       "[(0.18271412404843546, 'SeriesID_prediction'),\n",
       " (0.0097170459001578863, 'EventTypeID_prediction'),\n",
       " (0.29017844459493408, 'Venue_Zip_prediction'),\n",
       " (0.33103659557228743, 'Total_Fee_Avg_prediction'),\n",
       " (0.18635378988418516, 'Miles2_Avg_prediction')]"
      ]
     },
     "execution_count": 99,
     "metadata": {},
     "output_type": "execute_result"
    }
   ],
   "source": [
    "zip(gb_model_final.feature_importances_, X_gb_train.columns.values)"
   ]
  },
  {
   "cell_type": "code",
   "execution_count": 100,
   "metadata": {
    "collapsed": true
   },
   "outputs": [],
   "source": [
    "with open ('../model/gb_model_final', 'w') as f:\n",
    "    pickle.dump(gb_model_final, f)\n",
    "with open ('../model/gb_testpreds_final', 'w') as f:\n",
    "    pickle.dump(gb_testpreds_final, f)"
   ]
  },
  {
   "cell_type": "markdown",
   "metadata": {
    "collapsed": true
   },
   "source": [
    "## Gather Info on Top Events and Likely Participants from Top 5 Recommendations Info for Each Person"
   ]
  },
  {
   "cell_type": "code",
   "execution_count": 102,
   "metadata": {},
   "outputs": [],
   "source": [
    "with open ('../model/gb_testpreds_final', 'rb') as f:\n",
    "    gb_testpreds_final = pickle.load(f)\n",
    "with open ('../model/24NOV17_dbupdatemodels/gb_test_data.pkl', 'rb') as f:\n",
    "    gb_test_data = pickle.load(f)\n",
    "with open ('../model/24NOV17_dbupdatemodels/gb_train_data.pkl', 'rb') as f:\n",
    "    gb_train_data = pickle.load(f)"
   ]
  },
  {
   "cell_type": "code",
   "execution_count": 103,
   "metadata": {
    "collapsed": true
   },
   "outputs": [],
   "source": [
    "with open ('../data/cleaned_df_24NOV17.pkl', 'rb') as f:\n",
    "    cleaned_data = pickle.load(f)"
   ]
  },
  {
   "cell_type": "code",
   "execution_count": 104,
   "metadata": {
    "collapsed": true
   },
   "outputs": [],
   "source": [
    "rankeval_testpreds_df_final = pd.DataFrame({'PersonID': gb_test_data['PersonID'], 'EventID': \n",
    "                                      gb_test_data['EventID'], 'Participated': gb_test_data['Participated'], \n",
    "                                      'prediction': gb_testpreds_final})"
   ]
  },
  {
   "cell_type": "code",
   "execution_count": 105,
   "metadata": {
    "collapsed": true
   },
   "outputs": [],
   "source": [
    "D_topeventcounts = defaultdict(int)\n",
    "D_likelyusers = defaultdict(list)\n",
    "\n",
    "for person in rankeval_testpreds_df_final['PersonID'].unique():\n",
    "    temp_df = rankeval_testpreds_df_final[rankeval_testpreds_df_final[\"PersonID\"] == person].copy()\n",
    "    temp_df.sort_values('prediction', ascending=False, inplace=True)\n",
    "    temp_df = temp_df.iloc[:5]\n",
    "    \n",
    "    for event in temp_df['EventID'].values:\n",
    "        D_topeventcounts[event] += 1\n",
    "        D_likelyusers[event].append(person)"
   ]
  },
  {
   "cell_type": "code",
   "execution_count": 106,
   "metadata": {},
   "outputs": [
    {
     "data": {
      "text/plain": [
       "defaultdict(int,\n",
       "            {63: 755,\n",
       "             64: 3906,\n",
       "             66: 3173,\n",
       "             67: 2635,\n",
       "             76: 1006,\n",
       "             78: 1489,\n",
       "             79: 1463,\n",
       "             80: 1720,\n",
       "             81: 1535,\n",
       "             82: 3346,\n",
       "             83: 3799,\n",
       "             84: 2529,\n",
       "             85: 814,\n",
       "             86: 1946,\n",
       "             87: 6313,\n",
       "             88: 6580,\n",
       "             89: 1567,\n",
       "             1009: 2422,\n",
       "             1010: 4877,\n",
       "             1018: 4609,\n",
       "             4003: 676})"
      ]
     },
     "execution_count": 106,
     "metadata": {},
     "output_type": "execute_result"
    }
   ],
   "source": [
    "D_topeventcounts\n",
    "#Number of instances that an event in the test dataset shows up in a person's top 10 recommendations"
   ]
  },
  {
   "cell_type": "code",
   "execution_count": 107,
   "metadata": {
    "collapsed": true
   },
   "outputs": [],
   "source": [
    "topevents_df = pd.DataFrame({'EventID': D_topeventcounts.keys(), 'Count in Top 5s': D_topeventcounts.values()})"
   ]
  },
  {
   "cell_type": "code",
   "execution_count": 108,
   "metadata": {
    "collapsed": true
   },
   "outputs": [],
   "source": [
    "topevents_df = pd.merge(topevents_df, cleaned_data, on='EventID')"
   ]
  },
  {
   "cell_type": "code",
   "execution_count": 109,
   "metadata": {
    "collapsed": true
   },
   "outputs": [],
   "source": [
    "topevents_df = topevents_df[['Count in Top 5s', 'EventID', 'Total fee', 'Event_Name', 'Event_Date', 'MergeoEvent', \n",
    "                            'EventType', 'SeriesID', 'Miles2', 'Venue_Zip']]"
   ]
  },
  {
   "cell_type": "code",
   "execution_count": 110,
   "metadata": {
    "collapsed": true
   },
   "outputs": [],
   "source": [
    "D_avgfees = defaultdict(float)\n",
    "\n",
    "idx = topevents_df.groupby('EventID')['Total fee'].mean().index.values\n",
    "vals = topevents_df.groupby('EventID')['Total fee'].mean().values\n",
    "\n",
    "for idx, val in zip(idx, vals):\n",
    "    D_avgfees[idx] = round(val, 2)"
   ]
  },
  {
   "cell_type": "code",
   "execution_count": 111,
   "metadata": {
    "collapsed": true
   },
   "outputs": [],
   "source": [
    "D_avgmiles = defaultdict(float)\n",
    "\n",
    "idx = topevents_df.groupby('EventID')['Miles2'].mean().index.values\n",
    "vals = topevents_df.groupby('EventID')['Miles2'].mean().values\n",
    "\n",
    "for idx, val in zip(idx, vals):\n",
    "    D_avgmiles[idx] = round(val, 2)"
   ]
  },
  {
   "cell_type": "code",
   "execution_count": 112,
   "metadata": {
    "collapsed": true
   },
   "outputs": [],
   "source": [
    "topevents_df['Total fee'] = topevents_df['EventID'].apply(lambda x: D_avgfees[x])\n",
    "topevents_df['Miles2'] = topevents_df['EventID'].apply(lambda x: D_avgmiles[x])"
   ]
  },
  {
   "cell_type": "code",
   "execution_count": 113,
   "metadata": {
    "collapsed": true
   },
   "outputs": [],
   "source": [
    "topevents_df.drop_duplicates(subset='EventID', inplace=True)"
   ]
  },
  {
   "cell_type": "code",
   "execution_count": 114,
   "metadata": {},
   "outputs": [
    {
     "data": {
      "text/html": [
       "<div>\n",
       "<style>\n",
       "    .dataframe thead tr:only-child th {\n",
       "        text-align: right;\n",
       "    }\n",
       "\n",
       "    .dataframe thead th {\n",
       "        text-align: left;\n",
       "    }\n",
       "\n",
       "    .dataframe tbody tr th {\n",
       "        vertical-align: top;\n",
       "    }\n",
       "</style>\n",
       "<table border=\"1\" class=\"dataframe\">\n",
       "  <thead>\n",
       "    <tr style=\"text-align: right;\">\n",
       "      <th></th>\n",
       "      <th>Count in Top 5s</th>\n",
       "      <th>EventID</th>\n",
       "      <th>Total fee</th>\n",
       "      <th>Event_Name</th>\n",
       "      <th>Event_Date</th>\n",
       "      <th>MergeoEvent</th>\n",
       "      <th>EventType</th>\n",
       "      <th>SeriesID</th>\n",
       "      <th>Miles2</th>\n",
       "      <th>Venue_Zip</th>\n",
       "    </tr>\n",
       "  </thead>\n",
       "  <tbody>\n",
       "    <tr>\n",
       "      <th>0</th>\n",
       "      <td>6580</td>\n",
       "      <td>88</td>\n",
       "      <td>33.68</td>\n",
       "      <td>Run With the Kokanee</td>\n",
       "      <td>2017-10-14</td>\n",
       "      <td>True</td>\n",
       "      <td>Trail Run</td>\n",
       "      <td>0.0</td>\n",
       "      <td>4.39</td>\n",
       "      <td>98027</td>\n",
       "    </tr>\n",
       "    <tr>\n",
       "      <th>1</th>\n",
       "      <td>6313</td>\n",
       "      <td>87</td>\n",
       "      <td>38.81</td>\n",
       "      <td>St Edward Harvest Half</td>\n",
       "      <td>2017-10-07</td>\n",
       "      <td>True</td>\n",
       "      <td>Trail Run</td>\n",
       "      <td>2.0</td>\n",
       "      <td>9.11</td>\n",
       "      <td>98028</td>\n",
       "    </tr>\n",
       "    <tr>\n",
       "      <th>2</th>\n",
       "      <td>4877</td>\n",
       "      <td>1010</td>\n",
       "      <td>38.51</td>\n",
       "      <td>Everett Scramble 2016</td>\n",
       "      <td>2016-07-24</td>\n",
       "      <td>True</td>\n",
       "      <td>Street Scramble</td>\n",
       "      <td>4.0</td>\n",
       "      <td>8.00</td>\n",
       "      <td>98208</td>\n",
       "    </tr>\n",
       "    <tr>\n",
       "      <th>3</th>\n",
       "      <td>4609</td>\n",
       "      <td>1018</td>\n",
       "      <td>27.34</td>\n",
       "      <td>Fremont Street Scramble 2017</td>\n",
       "      <td>2017-09-24</td>\n",
       "      <td>True</td>\n",
       "      <td>Street Scramble</td>\n",
       "      <td>4.0</td>\n",
       "      <td>8.00</td>\n",
       "      <td>98103</td>\n",
       "    </tr>\n",
       "    <tr>\n",
       "      <th>4</th>\n",
       "      <td>3906</td>\n",
       "      <td>64</td>\n",
       "      <td>33.94</td>\n",
       "      <td>Absolution Run</td>\n",
       "      <td>2017-01-01</td>\n",
       "      <td>True</td>\n",
       "      <td>Trail Run</td>\n",
       "      <td>1.0</td>\n",
       "      <td>5.16</td>\n",
       "      <td>98028</td>\n",
       "    </tr>\n",
       "    <tr>\n",
       "      <th>5</th>\n",
       "      <td>3799</td>\n",
       "      <td>83</td>\n",
       "      <td>46.28</td>\n",
       "      <td>Summer Blast</td>\n",
       "      <td>2017-08-19</td>\n",
       "      <td>True</td>\n",
       "      <td>Trail Run</td>\n",
       "      <td>2.0</td>\n",
       "      <td>12.49</td>\n",
       "      <td>98053</td>\n",
       "    </tr>\n",
       "    <tr>\n",
       "      <th>6</th>\n",
       "      <td>3346</td>\n",
       "      <td>82</td>\n",
       "      <td>38.51</td>\n",
       "      <td>Summer Eddy</td>\n",
       "      <td>2017-08-08</td>\n",
       "      <td>True</td>\n",
       "      <td>Trail Run</td>\n",
       "      <td>3.0</td>\n",
       "      <td>5.51</td>\n",
       "      <td>98028</td>\n",
       "    </tr>\n",
       "    <tr>\n",
       "      <th>7</th>\n",
       "      <td>3173</td>\n",
       "      <td>66</td>\n",
       "      <td>38.05</td>\n",
       "      <td>Frost Eagle</td>\n",
       "      <td>2017-01-21</td>\n",
       "      <td>True</td>\n",
       "      <td>Trail Run</td>\n",
       "      <td>1.0</td>\n",
       "      <td>8.22</td>\n",
       "      <td>98074</td>\n",
       "    </tr>\n",
       "    <tr>\n",
       "      <th>8</th>\n",
       "      <td>2635</td>\n",
       "      <td>67</td>\n",
       "      <td>29.61</td>\n",
       "      <td>Interlaken Icicle Dash</td>\n",
       "      <td>2017-02-05</td>\n",
       "      <td>True</td>\n",
       "      <td>Trail Run</td>\n",
       "      <td>1.0</td>\n",
       "      <td>4.35</td>\n",
       "      <td>98102</td>\n",
       "    </tr>\n",
       "    <tr>\n",
       "      <th>9</th>\n",
       "      <td>2529</td>\n",
       "      <td>84</td>\n",
       "      <td>30.28</td>\n",
       "      <td>Interlaken Ice Cream Dash</td>\n",
       "      <td>2017-08-22</td>\n",
       "      <td>True</td>\n",
       "      <td>Trail Run</td>\n",
       "      <td>3.0</td>\n",
       "      <td>4.19</td>\n",
       "      <td>98102</td>\n",
       "    </tr>\n",
       "    <tr>\n",
       "      <th>10</th>\n",
       "      <td>2422</td>\n",
       "      <td>1009</td>\n",
       "      <td>38.51</td>\n",
       "      <td>Gig Harbor Scramble 2016</td>\n",
       "      <td>2016-05-28</td>\n",
       "      <td>True</td>\n",
       "      <td>Street Scramble</td>\n",
       "      <td>4.0</td>\n",
       "      <td>8.00</td>\n",
       "      <td>98332</td>\n",
       "    </tr>\n",
       "    <tr>\n",
       "      <th>11</th>\n",
       "      <td>1946</td>\n",
       "      <td>86</td>\n",
       "      <td>44.91</td>\n",
       "      <td>Middle Fork Trail Run</td>\n",
       "      <td>2017-09-23</td>\n",
       "      <td>True</td>\n",
       "      <td>Trail Run</td>\n",
       "      <td>2.0</td>\n",
       "      <td>14.58</td>\n",
       "      <td>98045</td>\n",
       "    </tr>\n",
       "    <tr>\n",
       "      <th>12</th>\n",
       "      <td>1720</td>\n",
       "      <td>80</td>\n",
       "      <td>38.97</td>\n",
       "      <td>Pie High Trail Run</td>\n",
       "      <td>2017-07-22</td>\n",
       "      <td>True</td>\n",
       "      <td>Trail Run</td>\n",
       "      <td>2.0</td>\n",
       "      <td>8.27</td>\n",
       "      <td>98290</td>\n",
       "    </tr>\n",
       "    <tr>\n",
       "      <th>13</th>\n",
       "      <td>1567</td>\n",
       "      <td>89</td>\n",
       "      <td>29.57</td>\n",
       "      <td>Carkeek Cooler Trail Run</td>\n",
       "      <td>2017-11-04</td>\n",
       "      <td>True</td>\n",
       "      <td>Trail Run</td>\n",
       "      <td>0.0</td>\n",
       "      <td>4.70</td>\n",
       "      <td>98177</td>\n",
       "    </tr>\n",
       "    <tr>\n",
       "      <th>14</th>\n",
       "      <td>1535</td>\n",
       "      <td>81</td>\n",
       "      <td>31.46</td>\n",
       "      <td>Seward Sizzler</td>\n",
       "      <td>2017-07-25</td>\n",
       "      <td>True</td>\n",
       "      <td>Trail Run</td>\n",
       "      <td>3.0</td>\n",
       "      <td>5.31</td>\n",
       "      <td>98118</td>\n",
       "    </tr>\n",
       "    <tr>\n",
       "      <th>15</th>\n",
       "      <td>1489</td>\n",
       "      <td>78</td>\n",
       "      <td>37.85</td>\n",
       "      <td>Sunshine Salutation</td>\n",
       "      <td>2017-06-20</td>\n",
       "      <td>True</td>\n",
       "      <td>Trail Run</td>\n",
       "      <td>3.0</td>\n",
       "      <td>6.74</td>\n",
       "      <td>98053</td>\n",
       "    </tr>\n",
       "    <tr>\n",
       "      <th>16</th>\n",
       "      <td>1463</td>\n",
       "      <td>79</td>\n",
       "      <td>30.54</td>\n",
       "      <td>Carkeek Warmer</td>\n",
       "      <td>2017-07-11</td>\n",
       "      <td>True</td>\n",
       "      <td>Trail Run</td>\n",
       "      <td>3.0</td>\n",
       "      <td>4.81</td>\n",
       "      <td>98177</td>\n",
       "    </tr>\n",
       "    <tr>\n",
       "      <th>17</th>\n",
       "      <td>1006</td>\n",
       "      <td>76</td>\n",
       "      <td>46.75</td>\n",
       "      <td>Teanaway Trail Run</td>\n",
       "      <td>2017-06-04</td>\n",
       "      <td>True</td>\n",
       "      <td>Trail Run</td>\n",
       "      <td>2.0</td>\n",
       "      <td>9.95</td>\n",
       "      <td>98922</td>\n",
       "    </tr>\n",
       "    <tr>\n",
       "      <th>18</th>\n",
       "      <td>814</td>\n",
       "      <td>85</td>\n",
       "      <td>38.85</td>\n",
       "      <td>Paradise Valley Trail Run</td>\n",
       "      <td>2017-09-09</td>\n",
       "      <td>True</td>\n",
       "      <td>Trail Run</td>\n",
       "      <td>2.0</td>\n",
       "      <td>7.91</td>\n",
       "      <td>98296</td>\n",
       "    </tr>\n",
       "    <tr>\n",
       "      <th>19</th>\n",
       "      <td>755</td>\n",
       "      <td>63</td>\n",
       "      <td>29.64</td>\n",
       "      <td>Seward Solstice Run</td>\n",
       "      <td>2016-12-17</td>\n",
       "      <td>True</td>\n",
       "      <td>Trail Run</td>\n",
       "      <td>1.0</td>\n",
       "      <td>5.17</td>\n",
       "      <td>98118</td>\n",
       "    </tr>\n",
       "    <tr>\n",
       "      <th>20</th>\n",
       "      <td>676</td>\n",
       "      <td>4003</td>\n",
       "      <td>26.18</td>\n",
       "      <td>The Big Run 5k</td>\n",
       "      <td>2017-06-07</td>\n",
       "      <td>False</td>\n",
       "      <td>Trail Run</td>\n",
       "      <td>0.0</td>\n",
       "      <td>3.10</td>\n",
       "      <td>98102</td>\n",
       "    </tr>\n",
       "  </tbody>\n",
       "</table>\n",
       "</div>"
      ],
      "text/plain": [
       "    Count in Top 5s  EventID  Total fee                    Event_Name  \\\n",
       "0              6580       88      33.68          Run With the Kokanee   \n",
       "1              6313       87      38.81        St Edward Harvest Half   \n",
       "2              4877     1010      38.51         Everett Scramble 2016   \n",
       "3              4609     1018      27.34  Fremont Street Scramble 2017   \n",
       "4              3906       64      33.94                Absolution Run   \n",
       "5              3799       83      46.28                  Summer Blast   \n",
       "6              3346       82      38.51                   Summer Eddy   \n",
       "7              3173       66      38.05                   Frost Eagle   \n",
       "8              2635       67      29.61        Interlaken Icicle Dash   \n",
       "9              2529       84      30.28     Interlaken Ice Cream Dash   \n",
       "10             2422     1009      38.51      Gig Harbor Scramble 2016   \n",
       "11             1946       86      44.91         Middle Fork Trail Run   \n",
       "12             1720       80      38.97            Pie High Trail Run   \n",
       "13             1567       89      29.57      Carkeek Cooler Trail Run   \n",
       "14             1535       81      31.46                Seward Sizzler   \n",
       "15             1489       78      37.85           Sunshine Salutation   \n",
       "16             1463       79      30.54                Carkeek Warmer   \n",
       "17             1006       76      46.75            Teanaway Trail Run   \n",
       "18              814       85      38.85     Paradise Valley Trail Run   \n",
       "19              755       63      29.64           Seward Solstice Run   \n",
       "20              676     4003      26.18                The Big Run 5k   \n",
       "\n",
       "   Event_Date  MergeoEvent        EventType  SeriesID  Miles2  Venue_Zip  \n",
       "0  2017-10-14         True        Trail Run       0.0    4.39      98027  \n",
       "1  2017-10-07         True        Trail Run       2.0    9.11      98028  \n",
       "2  2016-07-24         True  Street Scramble       4.0    8.00      98208  \n",
       "3  2017-09-24         True  Street Scramble       4.0    8.00      98103  \n",
       "4  2017-01-01         True        Trail Run       1.0    5.16      98028  \n",
       "5  2017-08-19         True        Trail Run       2.0   12.49      98053  \n",
       "6  2017-08-08         True        Trail Run       3.0    5.51      98028  \n",
       "7  2017-01-21         True        Trail Run       1.0    8.22      98074  \n",
       "8  2017-02-05         True        Trail Run       1.0    4.35      98102  \n",
       "9  2017-08-22         True        Trail Run       3.0    4.19      98102  \n",
       "10 2016-05-28         True  Street Scramble       4.0    8.00      98332  \n",
       "11 2017-09-23         True        Trail Run       2.0   14.58      98045  \n",
       "12 2017-07-22         True        Trail Run       2.0    8.27      98290  \n",
       "13 2017-11-04         True        Trail Run       0.0    4.70      98177  \n",
       "14 2017-07-25         True        Trail Run       3.0    5.31      98118  \n",
       "15 2017-06-20         True        Trail Run       3.0    6.74      98053  \n",
       "16 2017-07-11         True        Trail Run       3.0    4.81      98177  \n",
       "17 2017-06-04         True        Trail Run       2.0    9.95      98922  \n",
       "18 2017-09-09         True        Trail Run       2.0    7.91      98296  \n",
       "19 2016-12-17         True        Trail Run       1.0    5.17      98118  \n",
       "20 2017-06-07        False        Trail Run       0.0    3.10      98102  "
      ]
     },
     "execution_count": 114,
     "metadata": {},
     "output_type": "execute_result"
    }
   ],
   "source": [
    "topevents_df.sort_values(by='Count in Top 5s', ascending=False, inplace=True)\n",
    "topevents_df.reset_index(drop=True, inplace = True)\n",
    "topevents_df\n",
    "\n",
    "#Not much trend showing up in top recommended events with regard to fee, miles, venue zips, event date....a little series\n",
    "#try changing miles ALS to # of distance options at race rather than average mileage for race"
   ]
  },
  {
   "cell_type": "code",
   "execution_count": 115,
   "metadata": {},
   "outputs": [
    {
     "data": {
      "text/html": [
       "<div>\n",
       "<style>\n",
       "    .dataframe thead tr:only-child th {\n",
       "        text-align: right;\n",
       "    }\n",
       "\n",
       "    .dataframe thead th {\n",
       "        text-align: left;\n",
       "    }\n",
       "\n",
       "    .dataframe tbody tr th {\n",
       "        vertical-align: top;\n",
       "    }\n",
       "</style>\n",
       "<table border=\"1\" class=\"dataframe\">\n",
       "  <thead>\n",
       "    <tr style=\"text-align: right;\">\n",
       "      <th></th>\n",
       "      <th>Count in Top 5s</th>\n",
       "      <th>Event_Name</th>\n",
       "      <th>EventType</th>\n",
       "      <th>SeriesID</th>\n",
       "    </tr>\n",
       "  </thead>\n",
       "  <tbody>\n",
       "    <tr>\n",
       "      <th>0</th>\n",
       "      <td>6580</td>\n",
       "      <td>Run With the Kokanee</td>\n",
       "      <td>Trail Run</td>\n",
       "      <td>0.0</td>\n",
       "    </tr>\n",
       "    <tr>\n",
       "      <th>1</th>\n",
       "      <td>6313</td>\n",
       "      <td>St Edward Harvest Half</td>\n",
       "      <td>Trail Run</td>\n",
       "      <td>2.0</td>\n",
       "    </tr>\n",
       "    <tr>\n",
       "      <th>2</th>\n",
       "      <td>4877</td>\n",
       "      <td>Everett Scramble 2016</td>\n",
       "      <td>Street Scramble</td>\n",
       "      <td>4.0</td>\n",
       "    </tr>\n",
       "    <tr>\n",
       "      <th>3</th>\n",
       "      <td>4609</td>\n",
       "      <td>Fremont Street Scramble 2017</td>\n",
       "      <td>Street Scramble</td>\n",
       "      <td>4.0</td>\n",
       "    </tr>\n",
       "    <tr>\n",
       "      <th>4</th>\n",
       "      <td>3906</td>\n",
       "      <td>Absolution Run</td>\n",
       "      <td>Trail Run</td>\n",
       "      <td>1.0</td>\n",
       "    </tr>\n",
       "    <tr>\n",
       "      <th>5</th>\n",
       "      <td>3799</td>\n",
       "      <td>Summer Blast</td>\n",
       "      <td>Trail Run</td>\n",
       "      <td>2.0</td>\n",
       "    </tr>\n",
       "    <tr>\n",
       "      <th>6</th>\n",
       "      <td>3346</td>\n",
       "      <td>Summer Eddy</td>\n",
       "      <td>Trail Run</td>\n",
       "      <td>3.0</td>\n",
       "    </tr>\n",
       "    <tr>\n",
       "      <th>7</th>\n",
       "      <td>3173</td>\n",
       "      <td>Frost Eagle</td>\n",
       "      <td>Trail Run</td>\n",
       "      <td>1.0</td>\n",
       "    </tr>\n",
       "    <tr>\n",
       "      <th>8</th>\n",
       "      <td>2635</td>\n",
       "      <td>Interlaken Icicle Dash</td>\n",
       "      <td>Trail Run</td>\n",
       "      <td>1.0</td>\n",
       "    </tr>\n",
       "    <tr>\n",
       "      <th>9</th>\n",
       "      <td>2529</td>\n",
       "      <td>Interlaken Ice Cream Dash</td>\n",
       "      <td>Trail Run</td>\n",
       "      <td>3.0</td>\n",
       "    </tr>\n",
       "  </tbody>\n",
       "</table>\n",
       "</div>"
      ],
      "text/plain": [
       "   Count in Top 5s                    Event_Name        EventType  SeriesID\n",
       "0             6580          Run With the Kokanee        Trail Run       0.0\n",
       "1             6313        St Edward Harvest Half        Trail Run       2.0\n",
       "2             4877         Everett Scramble 2016  Street Scramble       4.0\n",
       "3             4609  Fremont Street Scramble 2017  Street Scramble       4.0\n",
       "4             3906                Absolution Run        Trail Run       1.0\n",
       "5             3799                  Summer Blast        Trail Run       2.0\n",
       "6             3346                   Summer Eddy        Trail Run       3.0\n",
       "7             3173                   Frost Eagle        Trail Run       1.0\n",
       "8             2635        Interlaken Icicle Dash        Trail Run       1.0\n",
       "9             2529     Interlaken Ice Cream Dash        Trail Run       3.0"
      ]
     },
     "execution_count": 115,
     "metadata": {},
     "output_type": "execute_result"
    }
   ],
   "source": [
    "topevents_snapshot = topevents_df[['Count in Top 5s', 'Event_Name', 'EventType', 'SeriesID']].iloc[:10]\n",
    "topevents_snapshot"
   ]
  },
  {
   "cell_type": "code",
   "execution_count": 116,
   "metadata": {},
   "outputs": [
    {
     "data": {
      "text/html": [
       "<div>\n",
       "<style>\n",
       "    .dataframe thead tr:only-child th {\n",
       "        text-align: right;\n",
       "    }\n",
       "\n",
       "    .dataframe thead th {\n",
       "        text-align: left;\n",
       "    }\n",
       "\n",
       "    .dataframe tbody tr th {\n",
       "        vertical-align: top;\n",
       "    }\n",
       "</style>\n",
       "<table border=\"1\" class=\"dataframe\">\n",
       "  <thead>\n",
       "    <tr style=\"text-align: right;\">\n",
       "      <th></th>\n",
       "      <th>Top5_Rec</th>\n",
       "      <th>Event_Name</th>\n",
       "      <th>EventType</th>\n",
       "      <th>SeriesID</th>\n",
       "      <th>Attendance</th>\n",
       "    </tr>\n",
       "  </thead>\n",
       "  <tbody>\n",
       "    <tr>\n",
       "      <th>0</th>\n",
       "      <td>6580</td>\n",
       "      <td>Run With the Kokanee</td>\n",
       "      <td>Trail Run</td>\n",
       "      <td>0.0</td>\n",
       "      <td>217</td>\n",
       "    </tr>\n",
       "    <tr>\n",
       "      <th>1</th>\n",
       "      <td>6313</td>\n",
       "      <td>St Edward Harvest Half</td>\n",
       "      <td>Trail Run</td>\n",
       "      <td>2.0</td>\n",
       "      <td>173</td>\n",
       "    </tr>\n",
       "    <tr>\n",
       "      <th>2</th>\n",
       "      <td>4877</td>\n",
       "      <td>Everett Scramble 2016</td>\n",
       "      <td>Street Scramble</td>\n",
       "      <td>4.0</td>\n",
       "      <td>86</td>\n",
       "    </tr>\n",
       "    <tr>\n",
       "      <th>3</th>\n",
       "      <td>4609</td>\n",
       "      <td>Fremont Street Scramble 2017</td>\n",
       "      <td>Street Scramble</td>\n",
       "      <td>4.0</td>\n",
       "      <td>134</td>\n",
       "    </tr>\n",
       "    <tr>\n",
       "      <th>4</th>\n",
       "      <td>3906</td>\n",
       "      <td>Absolution Run</td>\n",
       "      <td>Trail Run</td>\n",
       "      <td>1.0</td>\n",
       "      <td>203</td>\n",
       "    </tr>\n",
       "    <tr>\n",
       "      <th>5</th>\n",
       "      <td>3799</td>\n",
       "      <td>Summer Blast</td>\n",
       "      <td>Trail Run</td>\n",
       "      <td>2.0</td>\n",
       "      <td>230</td>\n",
       "    </tr>\n",
       "    <tr>\n",
       "      <th>6</th>\n",
       "      <td>3346</td>\n",
       "      <td>Summer Eddy</td>\n",
       "      <td>Trail Run</td>\n",
       "      <td>3.0</td>\n",
       "      <td>85</td>\n",
       "    </tr>\n",
       "    <tr>\n",
       "      <th>7</th>\n",
       "      <td>3173</td>\n",
       "      <td>Frost Eagle</td>\n",
       "      <td>Trail Run</td>\n",
       "      <td>1.0</td>\n",
       "      <td>231</td>\n",
       "    </tr>\n",
       "    <tr>\n",
       "      <th>8</th>\n",
       "      <td>2635</td>\n",
       "      <td>Interlaken Icicle Dash</td>\n",
       "      <td>Trail Run</td>\n",
       "      <td>1.0</td>\n",
       "      <td>265</td>\n",
       "    </tr>\n",
       "    <tr>\n",
       "      <th>9</th>\n",
       "      <td>2529</td>\n",
       "      <td>Interlaken Ice Cream Dash</td>\n",
       "      <td>Trail Run</td>\n",
       "      <td>3.0</td>\n",
       "      <td>111</td>\n",
       "    </tr>\n",
       "  </tbody>\n",
       "</table>\n",
       "</div>"
      ],
      "text/plain": [
       "   Top5_Rec                    Event_Name        EventType  SeriesID  \\\n",
       "0      6580          Run With the Kokanee        Trail Run       0.0   \n",
       "1      6313        St Edward Harvest Half        Trail Run       2.0   \n",
       "2      4877         Everett Scramble 2016  Street Scramble       4.0   \n",
       "3      4609  Fremont Street Scramble 2017  Street Scramble       4.0   \n",
       "4      3906                Absolution Run        Trail Run       1.0   \n",
       "5      3799                  Summer Blast        Trail Run       2.0   \n",
       "6      3346                   Summer Eddy        Trail Run       3.0   \n",
       "7      3173                   Frost Eagle        Trail Run       1.0   \n",
       "8      2635        Interlaken Icicle Dash        Trail Run       1.0   \n",
       "9      2529     Interlaken Ice Cream Dash        Trail Run       3.0   \n",
       "\n",
       "   Attendance  \n",
       "0         217  \n",
       "1         173  \n",
       "2          86  \n",
       "3         134  \n",
       "4         203  \n",
       "5         230  \n",
       "6          85  \n",
       "7         231  \n",
       "8         265  \n",
       "9         111  "
      ]
     },
     "execution_count": 116,
     "metadata": {},
     "output_type": "execute_result"
    }
   ],
   "source": [
    "topevents_snapshot['Attendance'] = [217,173,86,134,203,230,85,231,265,111]\n",
    "topevents_snapshot.rename(columns={'Count in Top 5s' : 'Top5_Rec'}, inplace=True)\n",
    "topevents_snapshot"
   ]
  },
  {
   "cell_type": "code",
   "execution_count": 117,
   "metadata": {},
   "outputs": [
    {
     "data": {
      "text/plain": [
       "[<matplotlib.lines.Line2D at 0x10e2171d0>]"
      ]
     },
     "execution_count": 117,
     "metadata": {},
     "output_type": "execute_result"
    },
    {
     "data": {
      "image/png": "[encoded data removed]",
      "text/plain": [
       "<matplotlib.figure.Figure at 0x11b2538d0>"
      ]
     },
     "metadata": {},
     "output_type": "display_data"
    }
   ],
   "source": [
    "plt.plot(topevents_df.index.values, topevents_df['Total fee'])"
   ]
  },
  {
   "cell_type": "code",
   "execution_count": 118,
   "metadata": {},
   "outputs": [
    {
     "data": {
      "text/plain": [
       "[3369, 5371, 5370, 5369, 5368, 5354, 5357, 5358, 5366, 5339]"
      ]
     },
     "execution_count": 118,
     "metadata": {},
     "output_type": "execute_result"
    }
   ],
   "source": [
    "D_likelyusers[81][:10]\n",
    "#PersonIDs for which the given EventID is in their Top 10 recommendations"
   ]
  },
  {
   "cell_type": "code",
   "execution_count": 119,
   "metadata": {},
   "outputs": [
    {
     "data": {
      "text/html": [
       "<div>\n",
       "<style>\n",
       "    .dataframe thead tr:only-child th {\n",
       "        text-align: right;\n",
       "    }\n",
       "\n",
       "    .dataframe thead th {\n",
       "        text-align: left;\n",
       "    }\n",
       "\n",
       "    .dataframe tbody tr th {\n",
       "        vertical-align: top;\n",
       "    }\n",
       "</style>\n",
       "<table border=\"1\" class=\"dataframe\">\n",
       "  <thead>\n",
       "    <tr style=\"text-align: right;\">\n",
       "      <th></th>\n",
       "      <th>EventID</th>\n",
       "      <th>PersonID</th>\n",
       "    </tr>\n",
       "  </thead>\n",
       "  <tbody>\n",
       "    <tr>\n",
       "      <th>0</th>\n",
       "      <td>81</td>\n",
       "      <td>3369</td>\n",
       "    </tr>\n",
       "    <tr>\n",
       "      <th>1</th>\n",
       "      <td>81</td>\n",
       "      <td>5371</td>\n",
       "    </tr>\n",
       "    <tr>\n",
       "      <th>2</th>\n",
       "      <td>81</td>\n",
       "      <td>5370</td>\n",
       "    </tr>\n",
       "    <tr>\n",
       "      <th>3</th>\n",
       "      <td>81</td>\n",
       "      <td>5369</td>\n",
       "    </tr>\n",
       "    <tr>\n",
       "      <th>4</th>\n",
       "      <td>81</td>\n",
       "      <td>5368</td>\n",
       "    </tr>\n",
       "  </tbody>\n",
       "</table>\n",
       "</div>"
      ],
      "text/plain": [
       "   EventID  PersonID\n",
       "0       81      3369\n",
       "1       81      5371\n",
       "2       81      5370\n",
       "3       81      5369\n",
       "4       81      5368"
      ]
     },
     "execution_count": 119,
     "metadata": {},
     "output_type": "execute_result"
    }
   ],
   "source": [
    "likelyusers_event81_df = pd.DataFrame({'EventID': 81, 'PersonID': D_likelyusers[81]})\n",
    "likelyusers_event81_df.head()"
   ]
  },
  {
   "cell_type": "code",
   "execution_count": 120,
   "metadata": {
    "collapsed": true
   },
   "outputs": [],
   "source": [
    "likelyusers_event81_df = pd.merge(likelyusers_event81_df, cleaned_data, on='PersonID')"
   ]
  },
  {
   "cell_type": "code",
   "execution_count": 121,
   "metadata": {
    "collapsed": true
   },
   "outputs": [],
   "source": [
    "likelyusers_event81_df = likelyusers_event81_df[['PersonID', 'Gender', 'Age2', 'Zip Code', 'EventID_x']]"
   ]
  },
  {
   "cell_type": "code",
   "execution_count": 122,
   "metadata": {
    "collapsed": true
   },
   "outputs": [],
   "source": [
    "likelyusers_event81_df.drop_duplicates(subset='PersonID', inplace=True)"
   ]
  },
  {
   "cell_type": "code",
   "execution_count": 123,
   "metadata": {},
   "outputs": [
    {
     "data": {
      "text/html": [
       "<div>\n",
       "<style>\n",
       "    .dataframe thead tr:only-child th {\n",
       "        text-align: right;\n",
       "    }\n",
       "\n",
       "    .dataframe thead th {\n",
       "        text-align: left;\n",
       "    }\n",
       "\n",
       "    .dataframe tbody tr th {\n",
       "        vertical-align: top;\n",
       "    }\n",
       "</style>\n",
       "<table border=\"1\" class=\"dataframe\">\n",
       "  <thead>\n",
       "    <tr style=\"text-align: right;\">\n",
       "      <th></th>\n",
       "      <th>PersonID</th>\n",
       "      <th>Gender</th>\n",
       "      <th>Age2</th>\n",
       "      <th>Zip Code</th>\n",
       "      <th>EventID_x</th>\n",
       "    </tr>\n",
       "  </thead>\n",
       "  <tbody>\n",
       "    <tr>\n",
       "      <th>0</th>\n",
       "      <td>3369</td>\n",
       "      <td>Female</td>\n",
       "      <td>27.0</td>\n",
       "      <td>98272</td>\n",
       "      <td>81</td>\n",
       "    </tr>\n",
       "    <tr>\n",
       "      <th>1</th>\n",
       "      <td>5371</td>\n",
       "      <td>Male</td>\n",
       "      <td>43.0</td>\n",
       "      <td>98203</td>\n",
       "      <td>81</td>\n",
       "    </tr>\n",
       "    <tr>\n",
       "      <th>3</th>\n",
       "      <td>5370</td>\n",
       "      <td>Female</td>\n",
       "      <td>13.0</td>\n",
       "      <td>98203</td>\n",
       "      <td>81</td>\n",
       "    </tr>\n",
       "    <tr>\n",
       "      <th>4</th>\n",
       "      <td>5369</td>\n",
       "      <td>Female</td>\n",
       "      <td>15.0</td>\n",
       "      <td>98203</td>\n",
       "      <td>81</td>\n",
       "    </tr>\n",
       "    <tr>\n",
       "      <th>5</th>\n",
       "      <td>5368</td>\n",
       "      <td>Male</td>\n",
       "      <td>33.0</td>\n",
       "      <td>98105</td>\n",
       "      <td>81</td>\n",
       "    </tr>\n",
       "  </tbody>\n",
       "</table>\n",
       "</div>"
      ],
      "text/plain": [
       "   PersonID  Gender  Age2 Zip Code  EventID_x\n",
       "0      3369  Female  27.0    98272         81\n",
       "1      5371    Male  43.0    98203         81\n",
       "3      5370  Female  13.0    98203         81\n",
       "4      5369  Female  15.0    98203         81\n",
       "5      5368    Male  33.0    98105         81"
      ]
     },
     "execution_count": 123,
     "metadata": {},
     "output_type": "execute_result"
    }
   ],
   "source": [
    "likelyusers_event81_df.head()"
   ]
  },
  {
   "cell_type": "code",
   "execution_count": 124,
   "metadata": {},
   "outputs": [
    {
     "name": "stdout",
     "output_type": "stream",
     "text": [
      "Number of Top 5 Recommendations Users for Event 81, Seward Sizzler: 1535.0\n"
     ]
    }
   ],
   "source": [
    "tot_recs = float(len(likelyusers_event81_df))\n",
    "print('Number of Top 5 Recommendations Users for Event 81, Seward Sizzler: {}'.format(tot_recs))"
   ]
  },
  {
   "cell_type": "code",
   "execution_count": 125,
   "metadata": {},
   "outputs": [
    {
     "name": "stdout",
     "output_type": "stream",
     "text": [
      "Percent Male/Female Recommended for Race 81, Seward Sizzler: 0.407817589577, 0.591530944625\n"
     ]
    }
   ],
   "source": [
    "print('Percent Male/Female Recommended for Race 81, Seward Sizzler: {}, {}'.format(\n",
    "    (likelyusers_event81_df[likelyusers_event81_df['Gender'] == 'Male'].count()['PersonID'])/tot_recs, \n",
    "    (likelyusers_event81_df[likelyusers_event81_df['Gender'] == 'Female'].count()['PersonID'])/tot_recs))"
   ]
  },
  {
   "cell_type": "code",
   "execution_count": 126,
   "metadata": {},
   "outputs": [
    {
     "data": {
      "text/plain": [
       "4831.0"
      ]
     },
     "execution_count": 126,
     "metadata": {},
     "output_type": "execute_result"
    }
   ],
   "source": [
    "tot_males = float(cleaned_data[cleaned_data['Gender'] == 'Male'].drop_duplicates('PersonID').count()['PersonID'])\n",
    "tot_males"
   ]
  },
  {
   "cell_type": "code",
   "execution_count": 127,
   "metadata": {},
   "outputs": [
    {
     "data": {
      "text/plain": [
       "6584.0"
      ]
     },
     "execution_count": 127,
     "metadata": {},
     "output_type": "execute_result"
    }
   ],
   "source": [
    "tot_females = float(cleaned_data[cleaned_data['Gender'] == 'Female'].drop_duplicates('PersonID').count()['PersonID'])\n",
    "tot_females"
   ]
  },
  {
   "cell_type": "code",
   "execution_count": 128,
   "metadata": {},
   "outputs": [
    {
     "name": "stdout",
     "output_type": "stream",
     "text": [
      "Percent Male/Female in Total Population: 0.423215067893, 0.576784932107\n"
     ]
    }
   ],
   "source": [
    "print('Percent Male/Female in Total Population: {}, {}'.format(\n",
    "    (tot_males / (tot_males+tot_females)), (tot_females / (tot_males+tot_females))))"
   ]
  },
  {
   "cell_type": "code",
   "execution_count": 129,
   "metadata": {},
   "outputs": [
    {
     "name": "stdout",
     "output_type": "stream",
     "text": [
      "Average Age Recommended for Race 81, Seward Sizzler: 36.5\n"
     ]
    }
   ],
   "source": [
    "print('Average Age Recommended for Race 81, Seward Sizzler: {}'.format(\n",
    "    round(likelyusers_event81_df['Age2'].mean(), 1)))"
   ]
  },
  {
   "cell_type": "code",
   "execution_count": 130,
   "metadata": {},
   "outputs": [
    {
     "name": "stdout",
     "output_type": "stream",
     "text": [
      "Average Age in Total Population: 37.5\n"
     ]
    }
   ],
   "source": [
    "print('Average Age in Total Population: {}'.format(\n",
    "    round(cleaned_data['Age2'].mean(), 1)))"
   ]
  },
  {
   "cell_type": "markdown",
   "metadata": {
    "collapsed": true
   },
   "source": [
    "## Ensemble rank score is worse than each individual ALS model's score from the test set:\n",
    "\n",
    "#### Try a naive approach to ensembling, just averaging the input predictions from each ALS for each person to compare that score to the GB score"
   ]
  },
  {
   "cell_type": "markdown",
   "metadata": {},
   "source": [
    "#### On Train Data:"
   ]
  },
  {
   "cell_type": "code",
   "execution_count": 131,
   "metadata": {},
   "outputs": [
    {
     "data": {
      "text/html": [
       "<div>\n",
       "<style>\n",
       "    .dataframe thead tr:only-child th {\n",
       "        text-align: right;\n",
       "    }\n",
       "\n",
       "    .dataframe thead th {\n",
       "        text-align: left;\n",
       "    }\n",
       "\n",
       "    .dataframe tbody tr th {\n",
       "        vertical-align: top;\n",
       "    }\n",
       "</style>\n",
       "<table border=\"1\" class=\"dataframe\">\n",
       "  <thead>\n",
       "    <tr style=\"text-align: right;\">\n",
       "      <th></th>\n",
       "      <th>PersonID</th>\n",
       "      <th>EventID</th>\n",
       "      <th>Participated</th>\n",
       "      <th>Event_Date</th>\n",
       "      <th>SeriesID_prediction</th>\n",
       "      <th>EventTypeID_prediction</th>\n",
       "      <th>Venue_Zip_prediction</th>\n",
       "      <th>Total_Fee_Avg_prediction</th>\n",
       "      <th>Miles2_Avg_prediction</th>\n",
       "    </tr>\n",
       "  </thead>\n",
       "  <tbody>\n",
       "    <tr>\n",
       "      <th>0</th>\n",
       "      <td>5874</td>\n",
       "      <td>1000</td>\n",
       "      <td>0</td>\n",
       "      <td>1418428800000000000</td>\n",
       "      <td>0.470018</td>\n",
       "      <td>0.015024</td>\n",
       "      <td>0.266885</td>\n",
       "      <td>0.088532</td>\n",
       "      <td>0.555531</td>\n",
       "    </tr>\n",
       "    <tr>\n",
       "      <th>1</th>\n",
       "      <td>39</td>\n",
       "      <td>1000</td>\n",
       "      <td>0</td>\n",
       "      <td>1418428800000000000</td>\n",
       "      <td>0.404141</td>\n",
       "      <td>0.015024</td>\n",
       "      <td>0.000000</td>\n",
       "      <td>0.058609</td>\n",
       "      <td>0.841624</td>\n",
       "    </tr>\n",
       "    <tr>\n",
       "      <th>2</th>\n",
       "      <td>21</td>\n",
       "      <td>1000</td>\n",
       "      <td>0</td>\n",
       "      <td>1418428800000000000</td>\n",
       "      <td>0.000000</td>\n",
       "      <td>0.015024</td>\n",
       "      <td>0.240322</td>\n",
       "      <td>0.605235</td>\n",
       "      <td>0.958565</td>\n",
       "    </tr>\n",
       "    <tr>\n",
       "      <th>3</th>\n",
       "      <td>20</td>\n",
       "      <td>1000</td>\n",
       "      <td>0</td>\n",
       "      <td>1418428800000000000</td>\n",
       "      <td>0.000000</td>\n",
       "      <td>0.015024</td>\n",
       "      <td>0.240322</td>\n",
       "      <td>0.605235</td>\n",
       "      <td>0.958565</td>\n",
       "    </tr>\n",
       "    <tr>\n",
       "      <th>4</th>\n",
       "      <td>19</td>\n",
       "      <td>1000</td>\n",
       "      <td>0</td>\n",
       "      <td>1418428800000000000</td>\n",
       "      <td>0.006665</td>\n",
       "      <td>0.025066</td>\n",
       "      <td>0.074570</td>\n",
       "      <td>1.252837</td>\n",
       "      <td>0.959238</td>\n",
       "    </tr>\n",
       "  </tbody>\n",
       "</table>\n",
       "</div>"
      ],
      "text/plain": [
       "   PersonID  EventID  Participated           Event_Date  SeriesID_prediction  \\\n",
       "0      5874     1000             0  1418428800000000000             0.470018   \n",
       "1        39     1000             0  1418428800000000000             0.404141   \n",
       "2        21     1000             0  1418428800000000000             0.000000   \n",
       "3        20     1000             0  1418428800000000000             0.000000   \n",
       "4        19     1000             0  1418428800000000000             0.006665   \n",
       "\n",
       "   EventTypeID_prediction  Venue_Zip_prediction  Total_Fee_Avg_prediction  \\\n",
       "0                0.015024              0.266885                  0.088532   \n",
       "1                0.015024              0.000000                  0.058609   \n",
       "2                0.015024              0.240322                  0.605235   \n",
       "3                0.015024              0.240322                  0.605235   \n",
       "4                0.025066              0.074570                  1.252837   \n",
       "\n",
       "   Miles2_Avg_prediction  \n",
       "0               0.555531  \n",
       "1               0.841624  \n",
       "2               0.958565  \n",
       "3               0.958565  \n",
       "4               0.959238  "
      ]
     },
     "execution_count": 131,
     "metadata": {},
     "output_type": "execute_result"
    }
   ],
   "source": [
    "gb_train_data.head()"
   ]
  },
  {
   "cell_type": "code",
   "execution_count": 132,
   "metadata": {
    "collapsed": true
   },
   "outputs": [],
   "source": [
    "naive_train_ensemble = gb_train_data.copy()"
   ]
  },
  {
   "cell_type": "code",
   "execution_count": 133,
   "metadata": {
    "collapsed": true
   },
   "outputs": [],
   "source": [
    "naive_train_ensemble['prediction'] = (naive_train_ensemble['SeriesID_prediction'] +\n",
    "                                      naive_train_ensemble['EventTypeID_prediction'] +\n",
    "                                      naive_train_ensemble['Venue_Zip_prediction'] +\n",
    "                                      naive_train_ensemble['Total_Fee_Avg_prediction'] +\n",
    "                                      naive_train_ensemble['Miles2_Avg_prediction']) / 5."
   ]
  },
  {
   "cell_type": "code",
   "execution_count": 134,
   "metadata": {
    "collapsed": true
   },
   "outputs": [],
   "source": [
    "naive_train_ensemble.drop(['Event_Date', 'SeriesID_prediction', 'EventTypeID_prediction', 'Venue_Zip_prediction', \n",
    "                          'Total_Fee_Avg_prediction', 'Miles2_Avg_prediction'], axis=1, inplace=True)"
   ]
  },
  {
   "cell_type": "code",
   "execution_count": 135,
   "metadata": {},
   "outputs": [
    {
     "data": {
      "text/html": [
       "<div>\n",
       "<style>\n",
       "    .dataframe thead tr:only-child th {\n",
       "        text-align: right;\n",
       "    }\n",
       "\n",
       "    .dataframe thead th {\n",
       "        text-align: left;\n",
       "    }\n",
       "\n",
       "    .dataframe tbody tr th {\n",
       "        vertical-align: top;\n",
       "    }\n",
       "</style>\n",
       "<table border=\"1\" class=\"dataframe\">\n",
       "  <thead>\n",
       "    <tr style=\"text-align: right;\">\n",
       "      <th></th>\n",
       "      <th>PersonID</th>\n",
       "      <th>EventID</th>\n",
       "      <th>Participated</th>\n",
       "      <th>prediction</th>\n",
       "    </tr>\n",
       "  </thead>\n",
       "  <tbody>\n",
       "    <tr>\n",
       "      <th>0</th>\n",
       "      <td>5874</td>\n",
       "      <td>1000</td>\n",
       "      <td>0</td>\n",
       "      <td>0.279198</td>\n",
       "    </tr>\n",
       "    <tr>\n",
       "      <th>1</th>\n",
       "      <td>39</td>\n",
       "      <td>1000</td>\n",
       "      <td>0</td>\n",
       "      <td>0.263880</td>\n",
       "    </tr>\n",
       "    <tr>\n",
       "      <th>2</th>\n",
       "      <td>21</td>\n",
       "      <td>1000</td>\n",
       "      <td>0</td>\n",
       "      <td>0.363829</td>\n",
       "    </tr>\n",
       "    <tr>\n",
       "      <th>3</th>\n",
       "      <td>20</td>\n",
       "      <td>1000</td>\n",
       "      <td>0</td>\n",
       "      <td>0.363829</td>\n",
       "    </tr>\n",
       "    <tr>\n",
       "      <th>4</th>\n",
       "      <td>19</td>\n",
       "      <td>1000</td>\n",
       "      <td>0</td>\n",
       "      <td>0.463675</td>\n",
       "    </tr>\n",
       "  </tbody>\n",
       "</table>\n",
       "</div>"
      ],
      "text/plain": [
       "   PersonID  EventID  Participated  prediction\n",
       "0      5874     1000             0    0.279198\n",
       "1        39     1000             0    0.263880\n",
       "2        21     1000             0    0.363829\n",
       "3        20     1000             0    0.363829\n",
       "4        19     1000             0    0.463675"
      ]
     },
     "execution_count": 135,
     "metadata": {},
     "output_type": "execute_result"
    }
   ],
   "source": [
    "naive_train_ensemble.head()"
   ]
  },
  {
   "cell_type": "code",
   "execution_count": 136,
   "metadata": {
    "collapsed": true
   },
   "outputs": [],
   "source": [
    "rank_processing_naive_train = rank_eval.RankEval(naive_train_ensemble, 'PersonID', 'EventID', 'Participated', 'prediction')"
   ]
  },
  {
   "cell_type": "code",
   "execution_count": 137,
   "metadata": {},
   "outputs": [
    {
     "data": {
      "text/plain": [
       "1.9336719881953728"
      ]
     },
     "execution_count": 137,
     "metadata": {},
     "output_type": "execute_result"
    }
   ],
   "source": [
    "rank_processing_naive_train.calc_test_rank()"
   ]
  },
  {
   "cell_type": "code",
   "execution_count": 138,
   "metadata": {
    "scrolled": true
   },
   "outputs": [
    {
     "data": {
      "text/plain": [
       "32.646627914514013"
      ]
     },
     "execution_count": 138,
     "metadata": {},
     "output_type": "execute_result"
    }
   ],
   "source": [
    "rank_processing_naive_train.calc_popular_rank()"
   ]
  },
  {
   "cell_type": "markdown",
   "metadata": {},
   "source": [
    "#### On Test Data:"
   ]
  },
  {
   "cell_type": "code",
   "execution_count": 139,
   "metadata": {},
   "outputs": [
    {
     "data": {
      "text/html": [
       "<div>\n",
       "<style>\n",
       "    .dataframe thead tr:only-child th {\n",
       "        text-align: right;\n",
       "    }\n",
       "\n",
       "    .dataframe thead th {\n",
       "        text-align: left;\n",
       "    }\n",
       "\n",
       "    .dataframe tbody tr th {\n",
       "        vertical-align: top;\n",
       "    }\n",
       "</style>\n",
       "<table border=\"1\" class=\"dataframe\">\n",
       "  <thead>\n",
       "    <tr style=\"text-align: right;\">\n",
       "      <th></th>\n",
       "      <th>PersonID</th>\n",
       "      <th>EventID</th>\n",
       "      <th>Participated</th>\n",
       "      <th>Event_Date</th>\n",
       "      <th>SeriesID_prediction</th>\n",
       "      <th>EventTypeID_prediction</th>\n",
       "      <th>Venue_Zip_prediction</th>\n",
       "      <th>Total_Fee_Avg_prediction</th>\n",
       "      <th>Miles2_Avg_prediction</th>\n",
       "    </tr>\n",
       "  </thead>\n",
       "  <tbody>\n",
       "    <tr>\n",
       "      <th>0</th>\n",
       "      <td>3369</td>\n",
       "      <td>1009</td>\n",
       "      <td>0</td>\n",
       "      <td>1464393600000000000</td>\n",
       "      <td>0.000000</td>\n",
       "      <td>0.015024</td>\n",
       "      <td>0.296258</td>\n",
       "      <td>0.180767</td>\n",
       "      <td>0.196521</td>\n",
       "    </tr>\n",
       "    <tr>\n",
       "      <th>1</th>\n",
       "      <td>5447</td>\n",
       "      <td>1009</td>\n",
       "      <td>0</td>\n",
       "      <td>1464393600000000000</td>\n",
       "      <td>0.983522</td>\n",
       "      <td>1.003753</td>\n",
       "      <td>1.304153</td>\n",
       "      <td>0.970284</td>\n",
       "      <td>0.971113</td>\n",
       "    </tr>\n",
       "    <tr>\n",
       "      <th>2</th>\n",
       "      <td>5448</td>\n",
       "      <td>1009</td>\n",
       "      <td>1</td>\n",
       "      <td>1464393600000000000</td>\n",
       "      <td>0.983522</td>\n",
       "      <td>1.003753</td>\n",
       "      <td>1.304153</td>\n",
       "      <td>0.970284</td>\n",
       "      <td>0.971113</td>\n",
       "    </tr>\n",
       "    <tr>\n",
       "      <th>3</th>\n",
       "      <td>5449</td>\n",
       "      <td>1009</td>\n",
       "      <td>0</td>\n",
       "      <td>1464393600000000000</td>\n",
       "      <td>0.974710</td>\n",
       "      <td>0.997568</td>\n",
       "      <td>1.278995</td>\n",
       "      <td>0.955265</td>\n",
       "      <td>0.958565</td>\n",
       "    </tr>\n",
       "    <tr>\n",
       "      <th>4</th>\n",
       "      <td>5450</td>\n",
       "      <td>1009</td>\n",
       "      <td>0</td>\n",
       "      <td>1464393600000000000</td>\n",
       "      <td>0.974710</td>\n",
       "      <td>0.997568</td>\n",
       "      <td>1.278995</td>\n",
       "      <td>0.955265</td>\n",
       "      <td>0.958565</td>\n",
       "    </tr>\n",
       "  </tbody>\n",
       "</table>\n",
       "</div>"
      ],
      "text/plain": [
       "   PersonID  EventID  Participated           Event_Date  SeriesID_prediction  \\\n",
       "0      3369     1009             0  1464393600000000000             0.000000   \n",
       "1      5447     1009             0  1464393600000000000             0.983522   \n",
       "2      5448     1009             1  1464393600000000000             0.983522   \n",
       "3      5449     1009             0  1464393600000000000             0.974710   \n",
       "4      5450     1009             0  1464393600000000000             0.974710   \n",
       "\n",
       "   EventTypeID_prediction  Venue_Zip_prediction  Total_Fee_Avg_prediction  \\\n",
       "0                0.015024              0.296258                  0.180767   \n",
       "1                1.003753              1.304153                  0.970284   \n",
       "2                1.003753              1.304153                  0.970284   \n",
       "3                0.997568              1.278995                  0.955265   \n",
       "4                0.997568              1.278995                  0.955265   \n",
       "\n",
       "   Miles2_Avg_prediction  \n",
       "0               0.196521  \n",
       "1               0.971113  \n",
       "2               0.971113  \n",
       "3               0.958565  \n",
       "4               0.958565  "
      ]
     },
     "execution_count": 139,
     "metadata": {},
     "output_type": "execute_result"
    }
   ],
   "source": [
    "gb_test_data.head()"
   ]
  },
  {
   "cell_type": "code",
   "execution_count": 140,
   "metadata": {
    "collapsed": true
   },
   "outputs": [],
   "source": [
    "naive_test_ensemble = gb_test_data.copy()"
   ]
  },
  {
   "cell_type": "code",
   "execution_count": 141,
   "metadata": {
    "collapsed": true
   },
   "outputs": [],
   "source": [
    "naive_test_ensemble['prediction'] = (naive_test_ensemble['SeriesID_prediction'] +\n",
    "                                     naive_test_ensemble['EventTypeID_prediction'] +\n",
    "                                      naive_test_ensemble['Venue_Zip_prediction'] +\n",
    "                                      naive_test_ensemble['Total_Fee_Avg_prediction'] +\n",
    "                                      naive_test_ensemble['Miles2_Avg_prediction']) / 5."
   ]
  },
  {
   "cell_type": "code",
   "execution_count": 142,
   "metadata": {
    "collapsed": true
   },
   "outputs": [],
   "source": [
    "naive_test_ensemble.drop(['Event_Date', 'SeriesID_prediction', 'EventTypeID_prediction', 'Venue_Zip_prediction', \n",
    "                          'Total_Fee_Avg_prediction', 'Miles2_Avg_prediction'], axis=1, inplace=True)"
   ]
  },
  {
   "cell_type": "code",
   "execution_count": 143,
   "metadata": {},
   "outputs": [
    {
     "data": {
      "text/html": [
       "<div>\n",
       "<style>\n",
       "    .dataframe thead tr:only-child th {\n",
       "        text-align: right;\n",
       "    }\n",
       "\n",
       "    .dataframe thead th {\n",
       "        text-align: left;\n",
       "    }\n",
       "\n",
       "    .dataframe tbody tr th {\n",
       "        vertical-align: top;\n",
       "    }\n",
       "</style>\n",
       "<table border=\"1\" class=\"dataframe\">\n",
       "  <thead>\n",
       "    <tr style=\"text-align: right;\">\n",
       "      <th></th>\n",
       "      <th>PersonID</th>\n",
       "      <th>EventID</th>\n",
       "      <th>Participated</th>\n",
       "      <th>prediction</th>\n",
       "    </tr>\n",
       "  </thead>\n",
       "  <tbody>\n",
       "    <tr>\n",
       "      <th>0</th>\n",
       "      <td>3369</td>\n",
       "      <td>1009</td>\n",
       "      <td>0</td>\n",
       "      <td>0.137714</td>\n",
       "    </tr>\n",
       "    <tr>\n",
       "      <th>1</th>\n",
       "      <td>5447</td>\n",
       "      <td>1009</td>\n",
       "      <td>0</td>\n",
       "      <td>1.046565</td>\n",
       "    </tr>\n",
       "    <tr>\n",
       "      <th>2</th>\n",
       "      <td>5448</td>\n",
       "      <td>1009</td>\n",
       "      <td>1</td>\n",
       "      <td>1.046565</td>\n",
       "    </tr>\n",
       "    <tr>\n",
       "      <th>3</th>\n",
       "      <td>5449</td>\n",
       "      <td>1009</td>\n",
       "      <td>0</td>\n",
       "      <td>1.033020</td>\n",
       "    </tr>\n",
       "    <tr>\n",
       "      <th>4</th>\n",
       "      <td>5450</td>\n",
       "      <td>1009</td>\n",
       "      <td>0</td>\n",
       "      <td>1.033020</td>\n",
       "    </tr>\n",
       "  </tbody>\n",
       "</table>\n",
       "</div>"
      ],
      "text/plain": [
       "   PersonID  EventID  Participated  prediction\n",
       "0      3369     1009             0    0.137714\n",
       "1      5447     1009             0    1.046565\n",
       "2      5448     1009             1    1.046565\n",
       "3      5449     1009             0    1.033020\n",
       "4      5450     1009             0    1.033020"
      ]
     },
     "execution_count": 143,
     "metadata": {},
     "output_type": "execute_result"
    }
   ],
   "source": [
    "naive_test_ensemble.head()"
   ]
  },
  {
   "cell_type": "code",
   "execution_count": 144,
   "metadata": {
    "collapsed": true
   },
   "outputs": [],
   "source": [
    "rank_processing_naive_test = rank_eval.RankEval(naive_test_ensemble, 'PersonID', 'EventID', 'Participated', 'prediction')"
   ]
  },
  {
   "cell_type": "code",
   "execution_count": 145,
   "metadata": {},
   "outputs": [
    {
     "data": {
      "text/plain": [
       "53.668993776795205"
      ]
     },
     "execution_count": 145,
     "metadata": {},
     "output_type": "execute_result"
    }
   ],
   "source": [
    "rank_processing_naive_test.calc_test_rank()"
   ]
  },
  {
   "cell_type": "code",
   "execution_count": 146,
   "metadata": {
    "scrolled": true
   },
   "outputs": [
    {
     "data": {
      "text/plain": [
       "36.314446145992726"
      ]
     },
     "execution_count": 146,
     "metadata": {},
     "output_type": "execute_result"
    }
   ],
   "source": [
    "rank_processing_naive_test.calc_popular_rank()"
   ]
  },
  {
   "cell_type": "markdown",
   "metadata": {
    "collapsed": true
   },
   "source": [
    "### Try another naive approach but only using the best two predictions from the set of five for each record (on test data)"
   ]
  },
  {
   "cell_type": "code",
   "execution_count": 147,
   "metadata": {
    "collapsed": true
   },
   "outputs": [],
   "source": [
    "naive_test_ensemble_top2 = gb_test_data.copy()"
   ]
  },
  {
   "cell_type": "code",
   "execution_count": 153,
   "metadata": {},
   "outputs": [
    {
     "data": {
      "text/plain": [
       "PersonID                    3.369000e+03\n",
       "EventID                     1.009000e+03\n",
       "Participated                0.000000e+00\n",
       "Event_Date                  1.464394e+18\n",
       "SeriesID_prediction         0.000000e+00\n",
       "EventTypeID_prediction      1.502426e-02\n",
       "Venue_Zip_prediction        2.962577e-01\n",
       "Total_Fee_Avg_prediction    1.807667e-01\n",
       "Miles2_Avg_prediction       1.965215e-01\n",
       "Name: 0, dtype: float64"
      ]
     },
     "execution_count": 153,
     "metadata": {},
     "output_type": "execute_result"
    }
   ],
   "source": [
    "naive_test_ensemble_top2.iloc[0]"
   ]
  },
  {
   "cell_type": "code",
   "execution_count": null,
   "metadata": {
    "collapsed": true
   },
   "outputs": [],
   "source": [
    "import heapq\n",
    ">>> import random\n",
    ">>> x = range(100000)\n",
    ">>> random.shuffle(x)\n",
    ">>> heapq.nlargest(2, x)"
   ]
  },
  {
   "cell_type": "code",
   "execution_count": 154,
   "metadata": {
    "collapsed": true
   },
   "outputs": [],
   "source": [
    "import heapq"
   ]
  },
  {
   "cell_type": "code",
   "execution_count": 155,
   "metadata": {},
   "outputs": [],
   "source": [
    "test = [naive_test_ensemble_top2.iloc[0]['SeriesID_prediction'], naive_test_ensemble_top2.iloc[0]['EventTypeID_prediction']]"
   ]
  },
  {
   "cell_type": "code",
   "execution_count": 156,
   "metadata": {},
   "outputs": [
    {
     "data": {
      "text/plain": [
       "[0.015024255961179733, 0.0]"
      ]
     },
     "execution_count": 156,
     "metadata": {},
     "output_type": "execute_result"
    }
   ],
   "source": [
    "heapq.nlargest(2,test)"
   ]
  },
  {
   "cell_type": "code",
   "execution_count": 162,
   "metadata": {},
   "outputs": [],
   "source": [
    "naive_test_ensemble_top2['top2_preds'] = naive_test_ensemble_top2[['SeriesID_prediction','EventTypeID_prediction',\n",
    "                                                                   'Venue_Zip_prediction','Total_Fee_Avg_prediction',\n",
    "                                                                   'Miles2_Avg_prediction','Participated']].apply(\n",
    "                        lambda row: heapq.nlargest(2,[row[0],row[1],row[2],row[3],row[4]])\n",
    "                        if row[5] == 1 \n",
    "                        else heapq.nsmallest(2,[row[0],row[1],row[2],row[3],row[4]]), axis=1)"
   ]
  },
  {
   "cell_type": "code",
   "execution_count": 163,
   "metadata": {},
   "outputs": [
    {
     "data": {
      "text/html": [
       "<div>\n",
       "<style>\n",
       "    .dataframe thead tr:only-child th {\n",
       "        text-align: right;\n",
       "    }\n",
       "\n",
       "    .dataframe thead th {\n",
       "        text-align: left;\n",
       "    }\n",
       "\n",
       "    .dataframe tbody tr th {\n",
       "        vertical-align: top;\n",
       "    }\n",
       "</style>\n",
       "<table border=\"1\" class=\"dataframe\">\n",
       "  <thead>\n",
       "    <tr style=\"text-align: right;\">\n",
       "      <th></th>\n",
       "      <th>PersonID</th>\n",
       "      <th>EventID</th>\n",
       "      <th>Participated</th>\n",
       "      <th>Event_Date</th>\n",
       "      <th>SeriesID_prediction</th>\n",
       "      <th>EventTypeID_prediction</th>\n",
       "      <th>Venue_Zip_prediction</th>\n",
       "      <th>Total_Fee_Avg_prediction</th>\n",
       "      <th>Miles2_Avg_prediction</th>\n",
       "      <th>top2_preds</th>\n",
       "    </tr>\n",
       "  </thead>\n",
       "  <tbody>\n",
       "    <tr>\n",
       "      <th>0</th>\n",
       "      <td>3369</td>\n",
       "      <td>1009</td>\n",
       "      <td>0</td>\n",
       "      <td>1464393600000000000</td>\n",
       "      <td>0.000000</td>\n",
       "      <td>0.015024</td>\n",
       "      <td>0.296258</td>\n",
       "      <td>0.180767</td>\n",
       "      <td>0.196521</td>\n",
       "      <td>[0.0, 0.0150242559612]</td>\n",
       "    </tr>\n",
       "    <tr>\n",
       "      <th>1</th>\n",
       "      <td>5447</td>\n",
       "      <td>1009</td>\n",
       "      <td>0</td>\n",
       "      <td>1464393600000000000</td>\n",
       "      <td>0.983522</td>\n",
       "      <td>1.003753</td>\n",
       "      <td>1.304153</td>\n",
       "      <td>0.970284</td>\n",
       "      <td>0.971113</td>\n",
       "      <td>[0.970284044743, 0.971113145351]</td>\n",
       "    </tr>\n",
       "    <tr>\n",
       "      <th>2</th>\n",
       "      <td>5448</td>\n",
       "      <td>1009</td>\n",
       "      <td>1</td>\n",
       "      <td>1464393600000000000</td>\n",
       "      <td>0.983522</td>\n",
       "      <td>1.003753</td>\n",
       "      <td>1.304153</td>\n",
       "      <td>0.970284</td>\n",
       "      <td>0.971113</td>\n",
       "      <td>[1.30415284634, 1.00375282764]</td>\n",
       "    </tr>\n",
       "    <tr>\n",
       "      <th>3</th>\n",
       "      <td>5449</td>\n",
       "      <td>1009</td>\n",
       "      <td>0</td>\n",
       "      <td>1464393600000000000</td>\n",
       "      <td>0.974710</td>\n",
       "      <td>0.997568</td>\n",
       "      <td>1.278995</td>\n",
       "      <td>0.955265</td>\n",
       "      <td>0.958565</td>\n",
       "      <td>[0.955264687538, 0.958564639091]</td>\n",
       "    </tr>\n",
       "    <tr>\n",
       "      <th>4</th>\n",
       "      <td>5450</td>\n",
       "      <td>1009</td>\n",
       "      <td>0</td>\n",
       "      <td>1464393600000000000</td>\n",
       "      <td>0.974710</td>\n",
       "      <td>0.997568</td>\n",
       "      <td>1.278995</td>\n",
       "      <td>0.955265</td>\n",
       "      <td>0.958565</td>\n",
       "      <td>[0.955264687538, 0.958564639091]</td>\n",
       "    </tr>\n",
       "  </tbody>\n",
       "</table>\n",
       "</div>"
      ],
      "text/plain": [
       "   PersonID  EventID  Participated           Event_Date  SeriesID_prediction  \\\n",
       "0      3369     1009             0  1464393600000000000             0.000000   \n",
       "1      5447     1009             0  1464393600000000000             0.983522   \n",
       "2      5448     1009             1  1464393600000000000             0.983522   \n",
       "3      5449     1009             0  1464393600000000000             0.974710   \n",
       "4      5450     1009             0  1464393600000000000             0.974710   \n",
       "\n",
       "   EventTypeID_prediction  Venue_Zip_prediction  Total_Fee_Avg_prediction  \\\n",
       "0                0.015024              0.296258                  0.180767   \n",
       "1                1.003753              1.304153                  0.970284   \n",
       "2                1.003753              1.304153                  0.970284   \n",
       "3                0.997568              1.278995                  0.955265   \n",
       "4                0.997568              1.278995                  0.955265   \n",
       "\n",
       "   Miles2_Avg_prediction                        top2_preds  \n",
       "0               0.196521            [0.0, 0.0150242559612]  \n",
       "1               0.971113  [0.970284044743, 0.971113145351]  \n",
       "2               0.971113    [1.30415284634, 1.00375282764]  \n",
       "3               0.958565  [0.955264687538, 0.958564639091]  \n",
       "4               0.958565  [0.955264687538, 0.958564639091]  "
      ]
     },
     "execution_count": 163,
     "metadata": {},
     "output_type": "execute_result"
    }
   ],
   "source": [
    "naive_test_ensemble_top2.head()"
   ]
  },
  {
   "cell_type": "code",
   "execution_count": 172,
   "metadata": {},
   "outputs": [],
   "source": [
    "naive_test_ensemble_top2['prediction'] = naive_test_ensemble_top2[['top2_preds']].apply(lambda row: sum(row[0])/2., axis=1)"
   ]
  },
  {
   "cell_type": "code",
   "execution_count": 173,
   "metadata": {
    "collapsed": true
   },
   "outputs": [],
   "source": [
    "rank_processing_naive_test_top2 = rank_eval.RankEval(naive_test_ensemble_top2, 'PersonID', 'EventID', 'Participated', 'prediction')"
   ]
  },
  {
   "cell_type": "code",
   "execution_count": 174,
   "metadata": {},
   "outputs": [
    {
     "data": {
      "text/plain": [
       "2.5949675714037488"
      ]
     },
     "execution_count": 174,
     "metadata": {},
     "output_type": "execute_result"
    }
   ],
   "source": [
    "rank_processing_naive_test_top2.calc_test_rank()"
   ]
  },
  {
   "cell_type": "code",
   "execution_count": 175,
   "metadata": {
    "scrolled": true
   },
   "outputs": [
    {
     "data": {
      "text/plain": [
       "36.314446145992726"
      ]
     },
     "execution_count": 175,
     "metadata": {},
     "output_type": "execute_result"
    }
   ],
   "source": [
    "rank_processing_naive_test_top2.calc_popular_rank()"
   ]
  },
  {
   "cell_type": "markdown",
   "metadata": {},
   "source": [
    "## Make new predictions using this model instead!!"
   ]
  },
  {
   "cell_type": "code",
   "execution_count": null,
   "metadata": {
    "collapsed": true
   },
   "outputs": [],
   "source": []
  }
 ],
 "metadata": {
  "kernelspec": {
   "display_name": "Python 2",
   "language": "python",
   "name": "python2"
  },
  "language_info": {
   "codemirror_mode": {
    "name": "ipython",
    "version": 2
   },
   "file_extension": ".py",
   "mimetype": "text/x-python",
   "name": "python",
   "nbconvert_exporter": "python",
   "pygments_lexer": "ipython2",
   "version": "2.7.13"
  }
 },
 "nbformat": 4,
 "nbformat_minor": 2
}

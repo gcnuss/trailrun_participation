{
 "cells": [
  {
   "cell_type": "code",
   "execution_count": 1,
   "metadata": {
    "collapsed": true
   },
   "outputs": [],
   "source": [
    "#import from python modules:\n",
    "import cPickle as pickle\n",
    "import pandas as pd\n",
    "import numpy as np\n",
    "from collections import defaultdict\n",
    "\n",
    "import matplotlib.pyplot as plt\n",
    "%matplotlib inline"
   ]
  },
  {
   "cell_type": "code",
   "execution_count": 2,
   "metadata": {
    "collapsed": true
   },
   "outputs": [],
   "source": [
    "with open ('../data/cleaned_df_24NOV17.pkl', 'rb') as f:\n",
    "    df = pickle.load(f)"
   ]
  },
  {
   "cell_type": "code",
   "execution_count": 25,
   "metadata": {},
   "outputs": [
    {
     "name": "stdout",
     "output_type": "stream",
     "text": [
      "<class 'pandas.core.frame.DataFrame'>\n",
      "Int64Index: 18290 entries, 0 to 18298\n",
      "Data columns (total 28 columns):\n",
      "PersonID             18290 non-null int64\n",
      "EventID              18290 non-null int64\n",
      "Gender               18290 non-null object\n",
      "Distance             18290 non-null object\n",
      "Total fee            18290 non-null float64\n",
      "Payment method       14723 non-null object\n",
      "Street Address       15362 non-null object\n",
      "City                 16543 non-null object\n",
      "State/Province       17387 non-null object\n",
      "Zip Code             16283 non-null object\n",
      "Country              17107 non-null object\n",
      "Contact              18290 non-null object\n",
      "Tshirt               18290 non-null object\n",
      "Hoodie               18290 non-null object\n",
      "Event_Name           18290 non-null object\n",
      "Event_Date           18290 non-null datetime64[ns]\n",
      "MergeoEvent          18290 non-null bool\n",
      "EventTypeID          18290 non-null int64\n",
      "EventType            18290 non-null object\n",
      "SeriesID             18290 non-null float64\n",
      "Age2                 18290 non-null float64\n",
      "Miles2               18290 non-null float64\n",
      "Time2                18290 non-null object\n",
      "Preregistered        18290 non-null int64\n",
      "has_emerg_contact    18290 non-null int64\n",
      "HasSeries            18290 non-null object\n",
      "has_pay_method       18290 non-null object\n",
      "Venue_Zip            18290 non-null int64\n",
      "dtypes: bool(1), datetime64[ns](1), float64(4), int64(6), object(16)\n",
      "memory usage: 3.9+ MB\n"
     ]
    }
   ],
   "source": [
    "df.info()"
   ]
  },
  {
   "cell_type": "code",
   "execution_count": 9,
   "metadata": {},
   "outputs": [],
   "source": [
    "person_event_count_df = df.groupby(by='PersonID').count()"
   ]
  },
  {
   "cell_type": "code",
   "execution_count": 13,
   "metadata": {},
   "outputs": [
    {
     "data": {
      "text/plain": [
       "array([    1,     2,     3, ..., 11669, 11670, 11671])"
      ]
     },
     "execution_count": 13,
     "metadata": {},
     "output_type": "execute_result"
    }
   ],
   "source": [
    "person_event_count_df.index.values"
   ]
  },
  {
   "cell_type": "code",
   "execution_count": 14,
   "metadata": {},
   "outputs": [
    {
     "data": {
      "text/plain": [
       "array([1, 2, 1, ..., 1, 1, 1])"
      ]
     },
     "execution_count": 14,
     "metadata": {},
     "output_type": "execute_result"
    }
   ],
   "source": [
    "person_event_count_df['EventID'].values"
   ]
  },
  {
   "cell_type": "code",
   "execution_count": 76,
   "metadata": {},
   "outputs": [],
   "source": [
    "repeat_attendees_df = pd.DataFrame.from_dict({'PersonID': person_event_count_df.index.values, \n",
    "                                              'Event_Count': person_event_count_df['EventID'].values})"
   ]
  },
  {
   "cell_type": "code",
   "execution_count": 77,
   "metadata": {},
   "outputs": [
    {
     "data": {
      "text/html": [
       "<div>\n",
       "<style>\n",
       "    .dataframe thead tr:only-child th {\n",
       "        text-align: right;\n",
       "    }\n",
       "\n",
       "    .dataframe thead th {\n",
       "        text-align: left;\n",
       "    }\n",
       "\n",
       "    .dataframe tbody tr th {\n",
       "        vertical-align: top;\n",
       "    }\n",
       "</style>\n",
       "<table border=\"1\" class=\"dataframe\">\n",
       "  <thead>\n",
       "    <tr style=\"text-align: right;\">\n",
       "      <th></th>\n",
       "      <th>Event_Count</th>\n",
       "      <th>PersonID</th>\n",
       "    </tr>\n",
       "  </thead>\n",
       "  <tbody>\n",
       "    <tr>\n",
       "      <th>0</th>\n",
       "      <td>1</td>\n",
       "      <td>1</td>\n",
       "    </tr>\n",
       "    <tr>\n",
       "      <th>1</th>\n",
       "      <td>2</td>\n",
       "      <td>2</td>\n",
       "    </tr>\n",
       "    <tr>\n",
       "      <th>2</th>\n",
       "      <td>1</td>\n",
       "      <td>3</td>\n",
       "    </tr>\n",
       "    <tr>\n",
       "      <th>3</th>\n",
       "      <td>1</td>\n",
       "      <td>4</td>\n",
       "    </tr>\n",
       "    <tr>\n",
       "      <th>4</th>\n",
       "      <td>2</td>\n",
       "      <td>5</td>\n",
       "    </tr>\n",
       "  </tbody>\n",
       "</table>\n",
       "</div>"
      ],
      "text/plain": [
       "   Event_Count  PersonID\n",
       "0            1         1\n",
       "1            2         2\n",
       "2            1         3\n",
       "3            1         4\n",
       "4            2         5"
      ]
     },
     "execution_count": 77,
     "metadata": {},
     "output_type": "execute_result"
    }
   ],
   "source": [
    "repeat_attendees_df.head()"
   ]
  },
  {
   "cell_type": "code",
   "execution_count": 78,
   "metadata": {},
   "outputs": [
    {
     "data": {
      "text/plain": [
       "[13, 40]"
      ]
     },
     "execution_count": 78,
     "metadata": {},
     "output_type": "execute_result"
    }
   ],
   "source": [
    "list(df[df['PersonID']==5]['EventID'].values)"
   ]
  },
  {
   "cell_type": "code",
   "execution_count": 79,
   "metadata": {
    "collapsed": true
   },
   "outputs": [],
   "source": [
    "personID_eventID_dict = defaultdict(list)\n",
    "personID_eventdate_dict = defaultdict(list)\n",
    "personID_seriesID_dict = defaultdict(list)\n",
    "\n",
    "for num in person_event_count_df.index.values:\n",
    "    personID_eventID_dict[num].append(list(df[df['PersonID']==num]['EventID'].values))\n",
    "    personID_eventdate_dict[num].append(list(df[df['PersonID']==num]['Event_Date'].values))\n",
    "    personID_seriesID_dict[num].append(list(df[df['PersonID']==num]['SeriesID'].values))"
   ]
  },
  {
   "cell_type": "code",
   "execution_count": 80,
   "metadata": {},
   "outputs": [],
   "source": [
    "repeat_attendees_df['Event_IDs'] = repeat_attendees_df['PersonID'].map(personID_eventID_dict)\n",
    "repeat_attendees_df['Event_Dates'] = repeat_attendees_df['PersonID'].map(personID_eventdate_dict)\n",
    "repeat_attendees_df['Series_IDs'] = repeat_attendees_df['PersonID'].map(personID_seriesID_dict)"
   ]
  },
  {
   "cell_type": "code",
   "execution_count": 81,
   "metadata": {},
   "outputs": [
    {
     "data": {
      "text/html": [
       "<div>\n",
       "<style>\n",
       "    .dataframe thead tr:only-child th {\n",
       "        text-align: right;\n",
       "    }\n",
       "\n",
       "    .dataframe thead th {\n",
       "        text-align: left;\n",
       "    }\n",
       "\n",
       "    .dataframe tbody tr th {\n",
       "        vertical-align: top;\n",
       "    }\n",
       "</style>\n",
       "<table border=\"1\" class=\"dataframe\">\n",
       "  <thead>\n",
       "    <tr style=\"text-align: right;\">\n",
       "      <th></th>\n",
       "      <th>Event_Count</th>\n",
       "      <th>PersonID</th>\n",
       "      <th>Event_IDs</th>\n",
       "      <th>Event_Dates</th>\n",
       "      <th>Series_IDs</th>\n",
       "    </tr>\n",
       "  </thead>\n",
       "  <tbody>\n",
       "    <tr>\n",
       "      <th>0</th>\n",
       "      <td>1</td>\n",
       "      <td>1</td>\n",
       "      <td>[[11]]</td>\n",
       "      <td>[[2015-02-15T00:00:00.000000000]]</td>\n",
       "      <td>[[2.0]]</td>\n",
       "    </tr>\n",
       "    <tr>\n",
       "      <th>1</th>\n",
       "      <td>2</td>\n",
       "      <td>2</td>\n",
       "      <td>[[9, 17]]</td>\n",
       "      <td>[[2015-01-24T00:00:00.000000000, 2015-06-09T00...</td>\n",
       "      <td>[[1.0, 3.0]]</td>\n",
       "    </tr>\n",
       "    <tr>\n",
       "      <th>2</th>\n",
       "      <td>1</td>\n",
       "      <td>3</td>\n",
       "      <td>[[30]]</td>\n",
       "      <td>[[2015-11-07T00:00:00.000000000]]</td>\n",
       "      <td>[[1.0]]</td>\n",
       "    </tr>\n",
       "    <tr>\n",
       "      <th>3</th>\n",
       "      <td>1</td>\n",
       "      <td>4</td>\n",
       "      <td>[[18]]</td>\n",
       "      <td>[[2015-06-20T00:00:00.000000000]]</td>\n",
       "      <td>[[2.0]]</td>\n",
       "    </tr>\n",
       "    <tr>\n",
       "      <th>4</th>\n",
       "      <td>2</td>\n",
       "      <td>5</td>\n",
       "      <td>[[13, 40]]</td>\n",
       "      <td>[[2015-03-14T00:00:00.000000000, 2016-04-16T00...</td>\n",
       "      <td>[[0.0, 2.0]]</td>\n",
       "    </tr>\n",
       "  </tbody>\n",
       "</table>\n",
       "</div>"
      ],
      "text/plain": [
       "   Event_Count  PersonID   Event_IDs  \\\n",
       "0            1         1      [[11]]   \n",
       "1            2         2   [[9, 17]]   \n",
       "2            1         3      [[30]]   \n",
       "3            1         4      [[18]]   \n",
       "4            2         5  [[13, 40]]   \n",
       "\n",
       "                                         Event_Dates    Series_IDs  \n",
       "0                  [[2015-02-15T00:00:00.000000000]]       [[2.0]]  \n",
       "1  [[2015-01-24T00:00:00.000000000, 2015-06-09T00...  [[1.0, 3.0]]  \n",
       "2                  [[2015-11-07T00:00:00.000000000]]       [[1.0]]  \n",
       "3                  [[2015-06-20T00:00:00.000000000]]       [[2.0]]  \n",
       "4  [[2015-03-14T00:00:00.000000000, 2016-04-16T00...  [[0.0, 2.0]]  "
      ]
     },
     "execution_count": 81,
     "metadata": {},
     "output_type": "execute_result"
    }
   ],
   "source": [
    "repeat_attendees_df.head()"
   ]
  },
  {
   "cell_type": "code",
   "execution_count": 82,
   "metadata": {},
   "outputs": [
    {
     "data": {
      "text/plain": [
       "[[numpy.datetime64('2015-03-14T00:00:00.000000000'),\n",
       "  numpy.datetime64('2016-04-16T00:00:00.000000000')]]"
      ]
     },
     "execution_count": 82,
     "metadata": {},
     "output_type": "execute_result"
    }
   ],
   "source": [
    "personID_eventdate_dict[5]"
   ]
  },
  {
   "cell_type": "code",
   "execution_count": 83,
   "metadata": {
    "collapsed": true
   },
   "outputs": [],
   "source": [
    "repeat_attendees_df['Event_IDs'] = repeat_attendees_df['Event_IDs'].apply(lambda x: x[0])\n",
    "repeat_attendees_df['Event_Dates'] = repeat_attendees_df['Event_Dates'].apply(lambda x: x[0])\n",
    "repeat_attendees_df['Series_IDs'] = repeat_attendees_df['Series_IDs'].apply(lambda x: x[0])"
   ]
  },
  {
   "cell_type": "code",
   "execution_count": 84,
   "metadata": {},
   "outputs": [
    {
     "data": {
      "text/html": [
       "<div>\n",
       "<style>\n",
       "    .dataframe thead tr:only-child th {\n",
       "        text-align: right;\n",
       "    }\n",
       "\n",
       "    .dataframe thead th {\n",
       "        text-align: left;\n",
       "    }\n",
       "\n",
       "    .dataframe tbody tr th {\n",
       "        vertical-align: top;\n",
       "    }\n",
       "</style>\n",
       "<table border=\"1\" class=\"dataframe\">\n",
       "  <thead>\n",
       "    <tr style=\"text-align: right;\">\n",
       "      <th></th>\n",
       "      <th>Event_Count</th>\n",
       "      <th>PersonID</th>\n",
       "      <th>Event_IDs</th>\n",
       "      <th>Event_Dates</th>\n",
       "      <th>Series_IDs</th>\n",
       "    </tr>\n",
       "  </thead>\n",
       "  <tbody>\n",
       "    <tr>\n",
       "      <th>0</th>\n",
       "      <td>1</td>\n",
       "      <td>1</td>\n",
       "      <td>[11]</td>\n",
       "      <td>[2015-02-15T00:00:00.000000000]</td>\n",
       "      <td>[2.0]</td>\n",
       "    </tr>\n",
       "    <tr>\n",
       "      <th>1</th>\n",
       "      <td>2</td>\n",
       "      <td>2</td>\n",
       "      <td>[9, 17]</td>\n",
       "      <td>[2015-01-24T00:00:00.000000000, 2015-06-09T00:...</td>\n",
       "      <td>[1.0, 3.0]</td>\n",
       "    </tr>\n",
       "    <tr>\n",
       "      <th>2</th>\n",
       "      <td>1</td>\n",
       "      <td>3</td>\n",
       "      <td>[30]</td>\n",
       "      <td>[2015-11-07T00:00:00.000000000]</td>\n",
       "      <td>[1.0]</td>\n",
       "    </tr>\n",
       "    <tr>\n",
       "      <th>3</th>\n",
       "      <td>1</td>\n",
       "      <td>4</td>\n",
       "      <td>[18]</td>\n",
       "      <td>[2015-06-20T00:00:00.000000000]</td>\n",
       "      <td>[2.0]</td>\n",
       "    </tr>\n",
       "    <tr>\n",
       "      <th>4</th>\n",
       "      <td>2</td>\n",
       "      <td>5</td>\n",
       "      <td>[13, 40]</td>\n",
       "      <td>[2015-03-14T00:00:00.000000000, 2016-04-16T00:...</td>\n",
       "      <td>[0.0, 2.0]</td>\n",
       "    </tr>\n",
       "  </tbody>\n",
       "</table>\n",
       "</div>"
      ],
      "text/plain": [
       "   Event_Count  PersonID Event_IDs  \\\n",
       "0            1         1      [11]   \n",
       "1            2         2   [9, 17]   \n",
       "2            1         3      [30]   \n",
       "3            1         4      [18]   \n",
       "4            2         5  [13, 40]   \n",
       "\n",
       "                                         Event_Dates  Series_IDs  \n",
       "0                    [2015-02-15T00:00:00.000000000]       [2.0]  \n",
       "1  [2015-01-24T00:00:00.000000000, 2015-06-09T00:...  [1.0, 3.0]  \n",
       "2                    [2015-11-07T00:00:00.000000000]       [1.0]  \n",
       "3                    [2015-06-20T00:00:00.000000000]       [2.0]  \n",
       "4  [2015-03-14T00:00:00.000000000, 2016-04-16T00:...  [0.0, 2.0]  "
      ]
     },
     "execution_count": 84,
     "metadata": {},
     "output_type": "execute_result"
    }
   ],
   "source": [
    "repeat_attendees_df.head()"
   ]
  },
  {
   "cell_type": "code",
   "execution_count": 97,
   "metadata": {},
   "outputs": [
    {
     "data": {
      "text/plain": [
       "2739"
      ]
     },
     "execution_count": 97,
     "metadata": {},
     "output_type": "execute_result"
    }
   ],
   "source": [
    "len(repeat_attendees_df[repeat_attendees_df['Event_Count']>1])"
   ]
  },
  {
   "cell_type": "code",
   "execution_count": 86,
   "metadata": {
    "collapsed": true
   },
   "outputs": [],
   "source": [
    "test = [1.0, 2.0, 0.0]\n",
    "test2 = [1.0, 1.0]"
   ]
  },
  {
   "cell_type": "code",
   "execution_count": 124,
   "metadata": {},
   "outputs": [],
   "source": [
    "repeat_attendees_df['Cross_Series_Attend'] = repeat_attendees_df['Series_IDs'].apply(lambda x: \n",
    "                                            'One Off' if len(x) == 1 else\n",
    "                                            ('Single - {}'.format(x[0]) if len(set(x)) == 1 else 'Multiple'))"
   ]
  },
  {
   "cell_type": "code",
   "execution_count": 127,
   "metadata": {},
   "outputs": [
    {
     "data": {
      "text/html": [
       "<div>\n",
       "<style>\n",
       "    .dataframe thead tr:only-child th {\n",
       "        text-align: right;\n",
       "    }\n",
       "\n",
       "    .dataframe thead th {\n",
       "        text-align: left;\n",
       "    }\n",
       "\n",
       "    .dataframe tbody tr th {\n",
       "        vertical-align: top;\n",
       "    }\n",
       "</style>\n",
       "<table border=\"1\" class=\"dataframe\">\n",
       "  <thead>\n",
       "    <tr style=\"text-align: right;\">\n",
       "      <th></th>\n",
       "      <th>Event_Count</th>\n",
       "      <th>PersonID</th>\n",
       "      <th>Event_IDs</th>\n",
       "      <th>Event_Dates</th>\n",
       "      <th>Series_IDs</th>\n",
       "      <th>Cross_Series_Attend</th>\n",
       "    </tr>\n",
       "  </thead>\n",
       "  <tbody>\n",
       "    <tr>\n",
       "      <th>0</th>\n",
       "      <td>1</td>\n",
       "      <td>1</td>\n",
       "      <td>[11]</td>\n",
       "      <td>[2015-02-15T00:00:00.000000000]</td>\n",
       "      <td>[2.0]</td>\n",
       "      <td>One Off</td>\n",
       "    </tr>\n",
       "    <tr>\n",
       "      <th>1</th>\n",
       "      <td>2</td>\n",
       "      <td>2</td>\n",
       "      <td>[9, 17]</td>\n",
       "      <td>[2015-01-24T00:00:00.000000000, 2015-06-09T00:...</td>\n",
       "      <td>[1.0, 3.0]</td>\n",
       "      <td>Multiple</td>\n",
       "    </tr>\n",
       "    <tr>\n",
       "      <th>2</th>\n",
       "      <td>1</td>\n",
       "      <td>3</td>\n",
       "      <td>[30]</td>\n",
       "      <td>[2015-11-07T00:00:00.000000000]</td>\n",
       "      <td>[1.0]</td>\n",
       "      <td>One Off</td>\n",
       "    </tr>\n",
       "    <tr>\n",
       "      <th>3</th>\n",
       "      <td>1</td>\n",
       "      <td>4</td>\n",
       "      <td>[18]</td>\n",
       "      <td>[2015-06-20T00:00:00.000000000]</td>\n",
       "      <td>[2.0]</td>\n",
       "      <td>One Off</td>\n",
       "    </tr>\n",
       "    <tr>\n",
       "      <th>4</th>\n",
       "      <td>2</td>\n",
       "      <td>5</td>\n",
       "      <td>[13, 40]</td>\n",
       "      <td>[2015-03-14T00:00:00.000000000, 2016-04-16T00:...</td>\n",
       "      <td>[0.0, 2.0]</td>\n",
       "      <td>Multiple</td>\n",
       "    </tr>\n",
       "  </tbody>\n",
       "</table>\n",
       "</div>"
      ],
      "text/plain": [
       "   Event_Count  PersonID Event_IDs  \\\n",
       "0            1         1      [11]   \n",
       "1            2         2   [9, 17]   \n",
       "2            1         3      [30]   \n",
       "3            1         4      [18]   \n",
       "4            2         5  [13, 40]   \n",
       "\n",
       "                                         Event_Dates  Series_IDs  \\\n",
       "0                    [2015-02-15T00:00:00.000000000]       [2.0]   \n",
       "1  [2015-01-24T00:00:00.000000000, 2015-06-09T00:...  [1.0, 3.0]   \n",
       "2                    [2015-11-07T00:00:00.000000000]       [1.0]   \n",
       "3                    [2015-06-20T00:00:00.000000000]       [2.0]   \n",
       "4  [2015-03-14T00:00:00.000000000, 2016-04-16T00:...  [0.0, 2.0]   \n",
       "\n",
       "  Cross_Series_Attend  \n",
       "0             One Off  \n",
       "1            Multiple  \n",
       "2             One Off  \n",
       "3             One Off  \n",
       "4            Multiple  "
      ]
     },
     "execution_count": 127,
     "metadata": {},
     "output_type": "execute_result"
    }
   ],
   "source": [
    "repeat_attendees_df.head()"
   ]
  },
  {
   "cell_type": "code",
   "execution_count": 130,
   "metadata": {},
   "outputs": [],
   "source": [
    "multi_attend_single_series = repeat_attendees_df[repeat_attendees_df['Cross_Series_Attend'] > 'Single']"
   ]
  },
  {
   "cell_type": "code",
   "execution_count": 131,
   "metadata": {},
   "outputs": [
    {
     "data": {
      "text/plain": [
       "1241"
      ]
     },
     "execution_count": 131,
     "metadata": {},
     "output_type": "execute_result"
    }
   ],
   "source": [
    "len(multi_attend_single_series)"
   ]
  },
  {
   "cell_type": "code",
   "execution_count": 132,
   "metadata": {
    "collapsed": true
   },
   "outputs": [],
   "source": [
    "multi_attend_multi_series = repeat_attendees_df[repeat_attendees_df['Cross_Series_Attend'] == 'Multiple']"
   ]
  },
  {
   "cell_type": "code",
   "execution_count": 134,
   "metadata": {},
   "outputs": [
    {
     "data": {
      "text/plain": [
       "1498"
      ]
     },
     "execution_count": 134,
     "metadata": {},
     "output_type": "execute_result"
    }
   ],
   "source": [
    "len(multi_attend_multi_series)"
   ]
  },
  {
   "cell_type": "code",
   "execution_count": 165,
   "metadata": {
    "collapsed": true
   },
   "outputs": [],
   "source": [
    "single_attend = repeat_attendees_df[repeat_attendees_df['Cross_Series_Attend'] == 'One Off']"
   ]
  },
  {
   "cell_type": "code",
   "execution_count": 166,
   "metadata": {},
   "outputs": [
    {
     "data": {
      "text/plain": [
       "8693"
      ]
     },
     "execution_count": 166,
     "metadata": {},
     "output_type": "execute_result"
    }
   ],
   "source": [
    "len(single_attend)"
   ]
  },
  {
   "cell_type": "code",
   "execution_count": 173,
   "metadata": {},
   "outputs": [
    {
     "data": {
      "text/plain": [
       "11432"
      ]
     },
     "execution_count": 173,
     "metadata": {},
     "output_type": "execute_result"
    }
   ],
   "source": [
    "len (repeat_attendees_df)"
   ]
  },
  {
   "cell_type": "code",
   "execution_count": 178,
   "metadata": {},
   "outputs": [
    {
     "data": {
      "text/plain": [
       "'24.0% of attendees are repeat. 45.0% of repeat attendees have only attended one series and 55.0% have attended multiple'"
      ]
     },
     "execution_count": 178,
     "metadata": {},
     "output_type": "execute_result"
    }
   ],
   "source": [
    "'{}% of attendees are repeat. {}% of repeat attendees have only attended one series and {}% have attended multiple'.format(round((1241+1498)/11432.*100), round(1241/2739. * 100), round(1498/2739. * 100))"
   ]
  },
  {
   "cell_type": "code",
   "execution_count": 150,
   "metadata": {},
   "outputs": [],
   "source": [
    "multi_attend_single_series_counts = multi_attend_single_series.groupby(by='Cross_Series_Attend')['Event_Count'].count()"
   ]
  },
  {
   "cell_type": "code",
   "execution_count": 156,
   "metadata": {},
   "outputs": [
    {
     "data": {
      "text/plain": [
       "array(['Single - 0.0', 'Single - 1.0', 'Single - 2.0', 'Single - 3.0',\n",
       "       'Single - 4.0'], dtype=object)"
      ]
     },
     "execution_count": 156,
     "metadata": {},
     "output_type": "execute_result"
    }
   ],
   "source": [
    "multi_attend_single_series_counts.index.values"
   ]
  },
  {
   "cell_type": "code",
   "execution_count": 162,
   "metadata": {},
   "outputs": [
    {
     "name": "stdout",
     "output_type": "stream",
     "text": [
      "Series 0: 3.0%\n",
      "Series 1: 24.0%\n",
      "Series 2: 45.0%\n",
      "Series 3: 10.0%\n",
      "Series 4: 18.0%\n"
     ]
    }
   ],
   "source": [
    "for idx, val in enumerate(multi_attend_single_series_counts):\n",
    "    print 'Series {}: {}%'.format(idx, round(val/1241. * 100))"
   ]
  },
  {
   "cell_type": "code",
   "execution_count": null,
   "metadata": {
    "collapsed": true
   },
   "outputs": [],
   "source": []
  }
 ],
 "metadata": {
  "kernelspec": {
   "display_name": "Python 2",
   "language": "python",
   "name": "python2"
  },
  "language_info": {
   "codemirror_mode": {
    "name": "ipython",
    "version": 2
   },
   "file_extension": ".py",
   "mimetype": "text/x-python",
   "name": "python",
   "nbconvert_exporter": "python",
   "pygments_lexer": "ipython2",
   "version": "2.7.13"
  }
 },
 "nbformat": 4,
 "nbformat_minor": 2
}

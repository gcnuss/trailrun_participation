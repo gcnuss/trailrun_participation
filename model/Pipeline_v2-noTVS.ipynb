{
 "cells": [
  {
   "cell_type": "markdown",
   "metadata": {},
   "source": [
    "## Import ALS Model code"
   ]
  },
  {
   "cell_type": "code",
   "execution_count": 24,
   "metadata": {
    "collapsed": true
   },
   "outputs": [],
   "source": [
    "import als_model"
   ]
  },
  {
   "cell_type": "code",
   "execution_count": 2,
   "metadata": {
    "collapsed": true
   },
   "outputs": [],
   "source": [
    "%matplotlib inline"
   ]
  },
  {
   "cell_type": "code",
   "execution_count": 1,
   "metadata": {
    "collapsed": true
   },
   "outputs": [],
   "source": [
    "import cPickle as pickle"
   ]
  },
  {
   "cell_type": "markdown",
   "metadata": {},
   "source": [
    "## Open cleaned_df"
   ]
  },
  {
   "cell_type": "code",
   "execution_count": 5,
   "metadata": {
    "collapsed": true
   },
   "outputs": [],
   "source": [
    "with open ('24OCT17_pipelinerun/cleaned_df.pkl', 'rb') as f:\n",
    "    cleaned_data = pickle.load(f)"
   ]
  },
  {
   "cell_type": "markdown",
   "metadata": {},
   "source": [
    "## Instantiate Class Instances for ALS Model, Prep and Run for the Following:\n",
    "\n",
    "#### For each of the combinations below, run for the repeatable event features:\n",
    "- SeriesID\n",
    "- EventTypeID\n",
    "- Venue (based on zip code)\n",
    "- Total Average Fee\n",
    "- Average Mileage\n",
    "\n",
    "#### Combinations:\n",
    "- Do single fits (not TVS since it's giving me unclear results)\n",
    "- Do the following variations for EventID and for SeriesID to compare the one-off versus a repeatable event feature\n",
    "    - Vary alpha (10, 40, 80)\n",
    "    - Vary factors (5, 10, 30)\n",
    "    - Set coldStartStrategy=\"drop\" for all\n",
    "    - Calculate rank for each\n",
    "    \n",
    "#### Save Best Model and Predictions for Each"
   ]
  },
  {
   "cell_type": "markdown",
   "metadata": {},
   "source": [
    "## SeriesID"
   ]
  },
  {
   "cell_type": "code",
   "execution_count": 9,
   "metadata": {
    "collapsed": true
   },
   "outputs": [],
   "source": [
    "als_model_series = als_model.implicit_als(cleaned_data)"
   ]
  },
  {
   "cell_type": "code",
   "execution_count": 11,
   "metadata": {},
   "outputs": [
    {
     "data": {
      "text/plain": [
       "DataFrame[PersonID: bigint, EventID: bigint, Participated: bigint, Event_Date: bigint, SeriesID: double, EventTypeID: bigint, Total_Fee_Avg: bigint, Miles2_Avg: bigint, Venue_Zip: bigint]"
      ]
     },
     "execution_count": 11,
     "metadata": {},
     "output_type": "execute_result"
    }
   ],
   "source": [
    "als_model_series.prep_spark_full_df()"
   ]
  },
  {
   "cell_type": "code",
   "execution_count": 12,
   "metadata": {
    "scrolled": false
   },
   "outputs": [
    {
     "name": "stdout",
     "output_type": "stream",
     "text": [
      "+--------+-------+------------+-------------------+--------+-----------+-------------+----------+---------+\n",
      "|PersonID|EventID|Participated|         Event_Date|SeriesID|EventTypeID|Total_Fee_Avg|Miles2_Avg|Venue_Zip|\n",
      "+--------+-------+------------+-------------------+--------+-----------+-------------+----------+---------+\n",
      "|       1|     11|           1|1423958400000000000|     0.0|          1|           46|        12|    98239|\n",
      "|       2|     11|           0|1423958400000000000|     0.0|          1|           46|        12|    98239|\n",
      "|       3|     11|           0|1423958400000000000|     0.0|          1|           46|        12|    98239|\n",
      "|       4|     11|           0|1423958400000000000|     0.0|          1|           46|        12|    98239|\n",
      "|       5|     11|           0|1423958400000000000|     0.0|          1|           46|        12|    98239|\n",
      "+--------+-------+------------+-------------------+--------+-----------+-------------+----------+---------+\n",
      "only showing top 5 rows\n",
      "\n"
     ]
    }
   ],
   "source": [
    "als_model_series.spark_full_df.show(5)"
   ]
  },
  {
   "cell_type": "code",
   "execution_count": 13,
   "metadata": {},
   "outputs": [
    {
     "name": "stdout",
     "output_type": "stream",
     "text": [
      "Train Size: 592450.0\n",
      "Validation Size: 148113.0\n",
      "Test Size: 185141.0\n"
     ]
    }
   ],
   "source": [
    "als_model_series.train_val_test_split()"
   ]
  },
  {
   "cell_type": "code",
   "execution_count": 14,
   "metadata": {},
   "outputs": [
    {
     "name": "stdout",
     "output_type": "stream",
     "text": [
      "participants in train: 10764\n",
      "participants in validate: 10764\n",
      "participants in test: 10764\n",
      "\n",
      "\n",
      "participants in both train & validate: 10764\n",
      "participants in both train & test: 10764\n",
      "\n",
      "\n",
      "SeriesID in train: 5\n",
      "SeriesID in validate: 4\n",
      "SeriesID in test: 5\n",
      "\n",
      "\n",
      "SeriesID in both train & validate: 4\n",
      "SeriesID in both train & test: 5\n"
     ]
    }
   ],
   "source": [
    "als_model_series.print_train_val_test_info(\"SeriesID\")"
   ]
  },
  {
   "cell_type": "code",
   "execution_count": 15,
   "metadata": {
    "collapsed": true
   },
   "outputs": [],
   "source": [
    "als_model_series.create_participate_matrices(\"SeriesID\")"
   ]
  },
  {
   "cell_type": "code",
   "execution_count": 16,
   "metadata": {
    "collapsed": true
   },
   "outputs": [],
   "source": [
    "als_model_series.fit_ALS(itemCol=\"SeriesID\", rank=10, alpha=40, coldStartStrategy=\"drop\")"
   ]
  },
  {
   "cell_type": "code",
   "execution_count": 29,
   "metadata": {},
   "outputs": [
    {
     "name": "stdout",
     "output_type": "stream",
     "text": [
      "Predictions includes 148113 valid values and 0 nan values\n",
      "Model Rank = 10.2427872329 and Popular Rank = 14.6053110222\n"
     ]
    },
    {
     "data": {
      "text/plain": [
       "(DataFrame[PersonID: bigint, SeriesID: double, Participated: bigint, Event_Date: bigint, prediction: float],\n",
       " 10.24278723287488,\n",
       " 14.605311022189888)"
      ]
     },
     "execution_count": 29,
     "metadata": {},
     "output_type": "execute_result"
    }
   ],
   "source": [
    "als_model_series.predict_ALS(als_model_series.base_model, \"SeriesID\")"
   ]
  },
  {
   "cell_type": "code",
   "execution_count": 31,
   "metadata": {},
   "outputs": [
    {
     "name": "stdout",
     "output_type": "stream",
     "text": [
      "Predictions includes 148113 valid values and 0 nan values\n",
      "Model Rank = 11.0127835595 and Popular Rank = 14.6053110222\n",
      "Predictions includes 148113 valid values and 0 nan values\n",
      "Model Rank = 12.3649384219 and Popular Rank = 14.6053110222\n",
      "Predictions includes 148113 valid values and 0 nan values\n",
      "Model Rank = 12.2174568933 and Popular Rank = 14.6053110222\n",
      "Predictions includes 148113 valid values and 0 nan values\n",
      "Model Rank = 8.50024480868 and Popular Rank = 14.6053110222\n",
      "Predictions includes 148113 valid values and 0 nan values\n",
      "Model Rank = 10.2427872329 and Popular Rank = 14.6053110222\n",
      "Predictions includes 148113 valid values and 0 nan values\n",
      "Model Rank = 11.6650748295 and Popular Rank = 14.6053110222\n",
      "Predictions includes 148113 valid values and 0 nan values\n",
      "Model Rank = 7.36118642851 and Popular Rank = 14.6053110222\n",
      "Predictions includes 148113 valid values and 0 nan values\n",
      "Model Rank = 8.67923627881 and Popular Rank = 14.6053110222\n",
      "Predictions includes 148113 valid values and 0 nan values\n",
      "Model Rank = 10.7263248813 and Popular Rank = 14.6053110222\n"
     ]
    }
   ],
   "source": [
    "alphas = [10, 40, 80]\n",
    "factors = [5, 10, 30]\n",
    "results_list = []\n",
    "\n",
    "for alpha in alphas:\n",
    "    for factor in factors:\n",
    "        als_model_series.fit_ALS(itemCol=\"SeriesID\", rank=factor, alpha=alpha, coldStartStrategy=\"drop\")\n",
    "        predictions, val_rank, pop_rank = als_model_series.predict_ALS(als_model_series.base_model, \"SeriesID\")\n",
    "        results_list.append((alpha, factor, val_rank, pop_rank))"
   ]
  },
  {
   "cell_type": "code",
   "execution_count": 32,
   "metadata": {},
   "outputs": [
    {
     "data": {
      "text/plain": [
       "[(10, 5, 11.012783559453879, 14.605311022189888),\n",
       " (10, 10, 12.36493842192254, 14.605311022189888),\n",
       " (10, 30, 12.217456893322337, 14.605311022189888),\n",
       " (40, 5, 8.5002448086761344, 14.605311022189888),\n",
       " (40, 10, 10.24278723287488, 14.605311022189888),\n",
       " (40, 30, 11.665074829468944, 14.605311022189888),\n",
       " (80, 5, 7.3611864285068007, 14.605311022189888),\n",
       " (80, 10, 8.6792362788095865, 14.605311022189888),\n",
       " (80, 30, 10.726324881342887, 14.605311022189888)]"
      ]
     },
     "execution_count": 32,
     "metadata": {},
     "output_type": "execute_result"
    }
   ],
   "source": [
    "results_list"
   ]
  },
  {
   "cell_type": "markdown",
   "metadata": {},
   "source": [
    "#### The best model amongst these uses alpha = 80 and factors = 5 for a rank score of 7.36% as compared to a popularity-based rank score of 14.61% (our model is twice as good as recommending things based on popularity!).  Refit this model and save:"
   ]
  },
  {
   "cell_type": "code",
   "execution_count": 33,
   "metadata": {
    "collapsed": true
   },
   "outputs": [],
   "source": [
    "als_model_series.fit_ALS(itemCol=\"SeriesID\", rank=5, alpha=80, coldStartStrategy=\"drop\")"
   ]
  },
  {
   "cell_type": "code",
   "execution_count": 34,
   "metadata": {},
   "outputs": [
    {
     "name": "stdout",
     "output_type": "stream",
     "text": [
      "Predictions includes 148113 valid values and 0 nan values\n",
      "Model Rank = 7.36118642851 and Popular Rank = 14.6053110222\n"
     ]
    }
   ],
   "source": [
    "predictions, val_rank, pop_rank = als_model_series.predict_ALS(als_model_series.base_model, \"SeriesID\")"
   ]
  },
  {
   "cell_type": "code",
   "execution_count": 36,
   "metadata": {
    "collapsed": true
   },
   "outputs": [],
   "source": [
    "full_df_pd = als_model_series.spark_full_df.toPandas() #this only needs to be saved once today\n",
    "als_fit_model_series = als_model_series.base_model\n",
    "als_valpreds_pd_series = predictions.toPandas()\n",
    "\n",
    "with open (\"25OCT17_repeatablefeaturesrun/full_df_pd.pkl\", 'w') as f:\n",
    "    pickle.dump(full_df_pd, f)\n",
    "\n",
    "als_fit_model_series.save(\"25OCT17_repeatablefeaturesrun/als_fit_model_series\")\n",
    "\n",
    "with open (\"25OCT17_repeatablefeaturesrun/als_valpreds_pd_series.pkl\", 'w') as f:\n",
    "    pickle.dump(als_valpreds_pd_series, f)\n",
    "\n",
    "#Note: to load the model saved above in future, run command:\n",
    "#sameModel = GradientBoostedTreesModel.load(\"filename\")"
   ]
  },
  {
   "cell_type": "code",
   "execution_count": 37,
   "metadata": {
    "collapsed": true
   },
   "outputs": [],
   "source": [
    "#these only need to be saved once today:\n",
    "als_train_df_pd = als_model_series.train.toPandas()\n",
    "als_val_df_pd = als_model_series.validate.toPandas()\n",
    "als_test_df_pd = als_model_series.test.toPandas()"
   ]
  },
  {
   "cell_type": "code",
   "execution_count": 38,
   "metadata": {
    "collapsed": true
   },
   "outputs": [],
   "source": [
    "with open (\"25OCT17_repeatablefeaturesrun/als_train_df_pd.pkl\", 'w') as f:\n",
    "    pickle.dump(als_train_df_pd, f)\n",
    "    \n",
    "with open (\"25OCT17_repeatablefeaturesrun/als_val_df_pd.pkl\", 'w') as f:\n",
    "    pickle.dump(als_val_df_pd, f)\n",
    "    \n",
    "with open (\"25OCT17_repeatablefeaturesrun/als_test_df_pd.pkl\", 'w') as f:\n",
    "    pickle.dump(als_test_df_pd, f)"
   ]
  },
  {
   "cell_type": "markdown",
   "metadata": {},
   "source": [
    "## EventTypeID"
   ]
  },
  {
   "cell_type": "code",
   "execution_count": 42,
   "metadata": {
    "collapsed": true
   },
   "outputs": [],
   "source": [
    "als_model_eventtype = als_model.implicit_als(cleaned_data)"
   ]
  },
  {
   "cell_type": "code",
   "execution_count": 43,
   "metadata": {
    "collapsed": true
   },
   "outputs": [],
   "source": [
    "als_model_eventtype.prep_spark_full_df()"
   ]
  },
  {
   "cell_type": "code",
   "execution_count": 44,
   "metadata": {},
   "outputs": [
    {
     "name": "stdout",
     "output_type": "stream",
     "text": [
      "Train Size: 592450.0\n",
      "Validation Size: 148113.0\n",
      "Test Size: 185141.0\n"
     ]
    }
   ],
   "source": [
    "als_model_eventtype.train_val_test_split()"
   ]
  },
  {
   "cell_type": "code",
   "execution_count": 45,
   "metadata": {
    "scrolled": true
   },
   "outputs": [
    {
     "name": "stdout",
     "output_type": "stream",
     "text": [
      "participants in train: 10764\n",
      "participants in validate: 10764\n",
      "participants in test: 10764\n",
      "\n",
      "\n",
      "participants in both train & validate: 10764\n",
      "participants in both train & test: 10764\n",
      "\n",
      "\n",
      "EventTypeID in train: 2\n",
      "EventTypeID in validate: 1\n",
      "EventTypeID in test: 2\n",
      "\n",
      "\n",
      "EventTypeID in both train & validate: 1\n",
      "EventTypeID in both train & test: 2\n"
     ]
    }
   ],
   "source": [
    "als_model_eventtype.print_train_val_test_info(\"EventTypeID\")"
   ]
  },
  {
   "cell_type": "code",
   "execution_count": 46,
   "metadata": {
    "collapsed": true
   },
   "outputs": [],
   "source": [
    "als_model_eventtype.create_participate_matrices(\"EventTypeID\")"
   ]
  },
  {
   "cell_type": "code",
   "execution_count": 47,
   "metadata": {
    "collapsed": true
   },
   "outputs": [],
   "source": [
    "als_model_eventtype.fit_ALS(itemCol=\"EventTypeID\", rank=10, alpha=40, coldStartStrategy=\"drop\")"
   ]
  },
  {
   "cell_type": "code",
   "execution_count": 58,
   "metadata": {},
   "outputs": [
    {
     "name": "stdout",
     "output_type": "stream",
     "text": [
      "Predictions includes 148113 valid values and 0 nan values\n",
      "Model Rank = 100 and Popular Rank = 100\n"
     ]
    }
   ],
   "source": [
    "predictions, val_rank, pop_rank = als_model_eventtype.predict_ALS(als_model_eventtype.base_model, \"EventTypeID\")"
   ]
  },
  {
   "cell_type": "markdown",
   "metadata": {},
   "source": [
    "All predictions in this case are 0.0, meaning a very poor fit (rank function sets this to 100); realistically, there is no way to make top predictions for any user with this data.  It could be that this is just not a good feature to use; check grid search / cv below, but may throw this one out."
   ]
  },
  {
   "cell_type": "code",
   "execution_count": 59,
   "metadata": {},
   "outputs": [
    {
     "name": "stdout",
     "output_type": "stream",
     "text": [
      "Predictions includes 148113 valid values and 0 nan values\n",
      "Model Rank = 0.0 and Popular Rank = 0.0\n",
      "Predictions includes 148113 valid values and 0 nan values\n",
      "Model Rank = 0.0 and Popular Rank = 0.0\n",
      "Predictions includes 148113 valid values and 0 nan values\n",
      "Model Rank = 0.0 and Popular Rank = 0.0\n",
      "Predictions includes 148113 valid values and 0 nan values\n",
      "Model Rank = 0.0 and Popular Rank = 0.0\n",
      "Predictions includes 148113 valid values and 0 nan values\n",
      "Model Rank = 100 and Popular Rank = 100\n",
      "Predictions includes 148113 valid values and 0 nan values\n",
      "Model Rank = 0.0 and Popular Rank = 0.0\n",
      "Predictions includes 148113 valid values and 0 nan values\n",
      "Model Rank = 100 and Popular Rank = 100\n",
      "Predictions includes 148113 valid values and 0 nan values\n",
      "Model Rank = 100 and Popular Rank = 100\n",
      "Predictions includes 148113 valid values and 0 nan values\n",
      "Model Rank = 0.0 and Popular Rank = 0.0\n"
     ]
    }
   ],
   "source": [
    "alphas = [10, 40, 80]\n",
    "factors = [5, 10, 30]\n",
    "results_list = []\n",
    "\n",
    "for alpha in alphas:\n",
    "    for factor in factors:\n",
    "        als_model_eventtype.fit_ALS(itemCol=\"EventTypeID\", rank=factor, alpha=alpha, coldStartStrategy=\"drop\")\n",
    "        predictions, val_rank, pop_rank = als_model_eventtype.predict_ALS(als_model_eventtype.base_model, \"EventTypeID\")\n",
    "        results_list.append((alpha, factor, val_rank, pop_rank))"
   ]
  },
  {
   "cell_type": "code",
   "execution_count": 60,
   "metadata": {},
   "outputs": [
    {
     "data": {
      "text/plain": [
       "[(10, 5, 0.0, 0.0),\n",
       " (10, 10, 0.0, 0.0),\n",
       " (10, 30, 0.0, 0.0),\n",
       " (40, 5, 0.0, 0.0),\n",
       " (40, 10, 100, 100),\n",
       " (40, 30, 0.0, 0.0),\n",
       " (80, 5, 100, 100),\n",
       " (80, 10, 100, 100),\n",
       " (80, 30, 0.0, 0.0)]"
      ]
     },
     "execution_count": 60,
     "metadata": {},
     "output_type": "execute_result"
    }
   ],
   "source": [
    "results_list"
   ]
  },
  {
   "cell_type": "code",
   "execution_count": 61,
   "metadata": {
    "collapsed": true
   },
   "outputs": [],
   "source": [
    "pd_test = predictions.toPandas()"
   ]
  },
  {
   "cell_type": "code",
   "execution_count": 68,
   "metadata": {},
   "outputs": [
    {
     "data": {
      "text/plain": [
       "count    148113.000000\n",
       "mean          0.526357\n",
       "std           0.494381\n",
       "min           0.000000\n",
       "25%           0.000000\n",
       "50%           0.994047\n",
       "75%           0.994047\n",
       "max           1.005954\n",
       "Name: prediction, dtype: float64"
      ]
     },
     "execution_count": 68,
     "metadata": {},
     "output_type": "execute_result"
    }
   ],
   "source": [
    "pd_test['prediction'].describe()"
   ]
  },
  {
   "cell_type": "markdown",
   "metadata": {},
   "source": [
    "#### The best model amongst these is ambiguous given all of the zero ranks (and the fact that popularity-based model also gives a zero rank); choose alpha = 80 and factors = 30 for similarity to the SeriesID picks, amongst all of the zero rank models.  Note that this model looks to be potentially very overfit...keep in mind when doing gradient boosting - may still throw out (too closely correlated to 1/0 actuals?)\n",
    "#### Refit this model and save:"
   ]
  },
  {
   "cell_type": "code",
   "execution_count": 69,
   "metadata": {
    "collapsed": true
   },
   "outputs": [],
   "source": [
    "als_model_eventtype.fit_ALS(itemCol=\"EventTypeID\", rank=30, alpha=80, coldStartStrategy=\"drop\")"
   ]
  },
  {
   "cell_type": "code",
   "execution_count": 70,
   "metadata": {},
   "outputs": [
    {
     "name": "stdout",
     "output_type": "stream",
     "text": [
      "Predictions includes 148113 valid values and 0 nan values\n",
      "Model Rank = 0.0 and Popular Rank = 0.0\n"
     ]
    }
   ],
   "source": [
    "predictions, val_rank, pop_rank = als_model_eventtype.predict_ALS(als_model_eventtype.base_model, \"EventTypeID\")"
   ]
  },
  {
   "cell_type": "code",
   "execution_count": 71,
   "metadata": {
    "collapsed": true
   },
   "outputs": [],
   "source": [
    "als_fit_model_eventtype = als_model_eventtype.base_model\n",
    "als_valpreds_pd_eventtype = predictions.toPandas()\n",
    "\n",
    "als_fit_model_eventtype.save(\"25OCT17_repeatablefeaturesrun/als_fit_model_eventtype\")\n",
    "\n",
    "with open (\"25OCT17_repeatablefeaturesrun/als_valpreds_pd_eventtype.pkl\", 'w') as f:\n",
    "    pickle.dump(als_valpreds_pd_eventtype, f)"
   ]
  },
  {
   "cell_type": "markdown",
   "metadata": {},
   "source": [
    "## Venue (Based on Zipcode)"
   ]
  },
  {
   "cell_type": "code",
   "execution_count": 72,
   "metadata": {
    "collapsed": true
   },
   "outputs": [],
   "source": [
    "als_model_zipcode = als_model.implicit_als(cleaned_data)"
   ]
  },
  {
   "cell_type": "code",
   "execution_count": 73,
   "metadata": {
    "collapsed": true
   },
   "outputs": [],
   "source": [
    "als_model_zipcode.prep_spark_full_df()"
   ]
  },
  {
   "cell_type": "code",
   "execution_count": 74,
   "metadata": {},
   "outputs": [
    {
     "name": "stdout",
     "output_type": "stream",
     "text": [
      "Train Size: 592450.0\n",
      "Validation Size: 148113.0\n",
      "Test Size: 185141.0\n"
     ]
    }
   ],
   "source": [
    "als_model_zipcode.train_val_test_split()"
   ]
  },
  {
   "cell_type": "code",
   "execution_count": 76,
   "metadata": {
    "scrolled": true
   },
   "outputs": [
    {
     "name": "stdout",
     "output_type": "stream",
     "text": [
      "participants in train: 10764\n",
      "participants in validate: 10764\n",
      "participants in test: 10764\n",
      "\n",
      "\n",
      "participants in both train & validate: 10764\n",
      "participants in both train & test: 10764\n",
      "\n",
      "\n",
      "Venue_Zip in train: 24\n",
      "Venue_Zip in validate: 10\n",
      "Venue_Zip in test: 15\n",
      "\n",
      "\n",
      "Venue_Zip in both train & validate: 8\n",
      "Venue_Zip in both train & test: 15\n"
     ]
    }
   ],
   "source": [
    "als_model_zipcode.print_train_val_test_info(\"Venue_Zip\")"
   ]
  },
  {
   "cell_type": "code",
   "execution_count": 77,
   "metadata": {
    "collapsed": true
   },
   "outputs": [],
   "source": [
    "als_model_zipcode.create_participate_matrices(\"Venue_Zip\")"
   ]
  },
  {
   "cell_type": "code",
   "execution_count": 78,
   "metadata": {
    "collapsed": true
   },
   "outputs": [],
   "source": [
    "als_model_zipcode.fit_ALS(itemCol=\"Venue_Zip\", rank=10, alpha=40, coldStartStrategy=\"drop\")"
   ]
  },
  {
   "cell_type": "code",
   "execution_count": 79,
   "metadata": {},
   "outputs": [
    {
     "name": "stdout",
     "output_type": "stream",
     "text": [
      "Predictions includes 126585 valid values and 0 nan values\n",
      "Model Rank = 14.7773883269 and Popular Rank = 34.8748473748\n"
     ]
    }
   ],
   "source": [
    "predictions, val_rank, pop_rank = als_model_zipcode.predict_ALS(als_model_zipcode.base_model, \"Venue_Zip\")"
   ]
  },
  {
   "cell_type": "code",
   "execution_count": 80,
   "metadata": {},
   "outputs": [
    {
     "data": {
      "text/html": [
       "<div>\n",
       "<style>\n",
       "    .dataframe thead tr:only-child th {\n",
       "        text-align: right;\n",
       "    }\n",
       "\n",
       "    .dataframe thead th {\n",
       "        text-align: left;\n",
       "    }\n",
       "\n",
       "    .dataframe tbody tr th {\n",
       "        vertical-align: top;\n",
       "    }\n",
       "</style>\n",
       "<table border=\"1\" class=\"dataframe\">\n",
       "  <thead>\n",
       "    <tr style=\"text-align: right;\">\n",
       "      <th></th>\n",
       "      <th>PersonID</th>\n",
       "      <th>Venue_Zip</th>\n",
       "      <th>Participated</th>\n",
       "      <th>Event_Date</th>\n",
       "      <th>prediction</th>\n",
       "    </tr>\n",
       "  </thead>\n",
       "  <tbody>\n",
       "    <tr>\n",
       "      <th>0</th>\n",
       "      <td>148</td>\n",
       "      <td>98177</td>\n",
       "      <td>0</td>\n",
       "      <td>1479513600000000000</td>\n",
       "      <td>0.902622</td>\n",
       "    </tr>\n",
       "    <tr>\n",
       "      <th>1</th>\n",
       "      <td>148</td>\n",
       "      <td>98177</td>\n",
       "      <td>0</td>\n",
       "      <td>1474675200000000000</td>\n",
       "      <td>0.902622</td>\n",
       "    </tr>\n",
       "    <tr>\n",
       "      <th>2</th>\n",
       "      <td>463</td>\n",
       "      <td>98177</td>\n",
       "      <td>0</td>\n",
       "      <td>1479513600000000000</td>\n",
       "      <td>0.027218</td>\n",
       "    </tr>\n",
       "    <tr>\n",
       "      <th>3</th>\n",
       "      <td>463</td>\n",
       "      <td>98177</td>\n",
       "      <td>0</td>\n",
       "      <td>1474675200000000000</td>\n",
       "      <td>0.027218</td>\n",
       "    </tr>\n",
       "    <tr>\n",
       "      <th>4</th>\n",
       "      <td>471</td>\n",
       "      <td>98177</td>\n",
       "      <td>0</td>\n",
       "      <td>1479513600000000000</td>\n",
       "      <td>0.100359</td>\n",
       "    </tr>\n",
       "  </tbody>\n",
       "</table>\n",
       "</div>"
      ],
      "text/plain": [
       "   PersonID  Venue_Zip  Participated           Event_Date  prediction\n",
       "0       148      98177             0  1479513600000000000    0.902622\n",
       "1       148      98177             0  1474675200000000000    0.902622\n",
       "2       463      98177             0  1479513600000000000    0.027218\n",
       "3       463      98177             0  1474675200000000000    0.027218\n",
       "4       471      98177             0  1479513600000000000    0.100359"
      ]
     },
     "execution_count": 80,
     "metadata": {},
     "output_type": "execute_result"
    }
   ],
   "source": [
    "predictions.toPandas().head()"
   ]
  },
  {
   "cell_type": "code",
   "execution_count": 81,
   "metadata": {},
   "outputs": [
    {
     "name": "stdout",
     "output_type": "stream",
     "text": [
      "Predictions includes 126585 valid values and 0 nan values\n",
      "Model Rank = 14.5271803243 and Popular Rank = 34.8748473748\n",
      "Predictions includes 126585 valid values and 0 nan values\n",
      "Model Rank = 16.1116372646 and Popular Rank = 34.8748473748\n",
      "Predictions includes 126585 valid values and 0 nan values\n",
      "Model Rank = 17.0623408565 and Popular Rank = 34.8748473748\n",
      "Predictions includes 126585 valid values and 0 nan values\n",
      "Model Rank = 12.8025525165 and Popular Rank = 34.8748473748\n",
      "Predictions includes 126585 valid values and 0 nan values\n",
      "Model Rank = 14.7773883269 and Popular Rank = 34.8748473748\n",
      "Predictions includes 126585 valid values and 0 nan values\n",
      "Model Rank = 16.7087761862 and Popular Rank = 34.8748473748\n",
      "Predictions includes 126585 valid values and 0 nan values\n",
      "Model Rank = 11.991154793 and Popular Rank = 34.8748473748\n",
      "Predictions includes 126585 valid values and 0 nan values\n",
      "Model Rank = 13.827741567 and Popular Rank = 34.8748473748\n",
      "Predictions includes 126585 valid values and 0 nan values\n",
      "Model Rank = 15.7635695884 and Popular Rank = 34.8748473748\n"
     ]
    }
   ],
   "source": [
    "alphas = [10, 40, 80]\n",
    "factors = [5, 10, 30]\n",
    "results_list = []\n",
    "\n",
    "for alpha in alphas:\n",
    "    for factor in factors:\n",
    "        als_model_zipcode.fit_ALS(itemCol=\"Venue_Zip\", rank=factor, alpha=alpha, coldStartStrategy=\"drop\")\n",
    "        predictions, val_rank, pop_rank = als_model_zipcode.predict_ALS(als_model_zipcode.base_model, \"Venue_Zip\")\n",
    "        results_list.append((alpha, factor, val_rank, pop_rank))"
   ]
  },
  {
   "cell_type": "code",
   "execution_count": 82,
   "metadata": {},
   "outputs": [
    {
     "data": {
      "text/plain": [
       "[(10, 5, 14.527180324319232, 34.874847374847377),\n",
       " (10, 10, 16.111637264590311, 34.874847374847377),\n",
       " (10, 30, 17.062340856530334, 34.874847374847377),\n",
       " (40, 5, 12.802552516462956, 34.874847374847377),\n",
       " (40, 10, 14.777388326934982, 34.874847374847377),\n",
       " (40, 30, 16.708776186221169, 34.874847374847377),\n",
       " (80, 5, 11.991154793030798, 34.874847374847377),\n",
       " (80, 10, 13.827741567025113, 34.874847374847377),\n",
       " (80, 30, 15.763569588440212, 34.874847374847377)]"
      ]
     },
     "execution_count": 82,
     "metadata": {},
     "output_type": "execute_result"
    }
   ],
   "source": [
    "results_list"
   ]
  },
  {
   "cell_type": "markdown",
   "metadata": {},
   "source": [
    "#### The best model amongst these uses alpha = 80 and factors = 5 for a rank score of 11.99% as compared to a popularity-based rank score of 34.87% (our model is three times as good as recommending things based on popularity!).  Refit this model and save:"
   ]
  },
  {
   "cell_type": "code",
   "execution_count": 83,
   "metadata": {
    "collapsed": true
   },
   "outputs": [],
   "source": [
    "als_model_zipcode.fit_ALS(itemCol=\"Venue_Zip\", rank=5, alpha=80, coldStartStrategy=\"drop\")"
   ]
  },
  {
   "cell_type": "code",
   "execution_count": 84,
   "metadata": {},
   "outputs": [
    {
     "name": "stdout",
     "output_type": "stream",
     "text": [
      "Predictions includes 126585 valid values and 0 nan values\n",
      "Model Rank = 11.991154793 and Popular Rank = 34.8748473748\n"
     ]
    }
   ],
   "source": [
    "predictions, val_rank, pop_rank = als_model_zipcode.predict_ALS(als_model_zipcode.base_model, \"Venue_Zip\")"
   ]
  },
  {
   "cell_type": "code",
   "execution_count": 85,
   "metadata": {
    "collapsed": true
   },
   "outputs": [],
   "source": [
    "als_fit_model_zipcode = als_model_zipcode.base_model\n",
    "als_valpreds_pd_zipcode = predictions.toPandas()\n",
    "\n",
    "als_fit_model_zipcode.save(\"25OCT17_repeatablefeaturesrun/als_fit_model_zipcode\")\n",
    "\n",
    "with open (\"25OCT17_repeatablefeaturesrun/als_valpreds_pd_zipcode.pkl\", 'w') as f:\n",
    "    pickle.dump(als_valpreds_pd_zipcode, f)"
   ]
  },
  {
   "cell_type": "markdown",
   "metadata": {},
   "source": [
    "## Total Average Fee"
   ]
  },
  {
   "cell_type": "code",
   "execution_count": 86,
   "metadata": {
    "collapsed": true
   },
   "outputs": [],
   "source": [
    "als_model_avgfee = als_model.implicit_als(cleaned_data)"
   ]
  },
  {
   "cell_type": "code",
   "execution_count": 87,
   "metadata": {
    "collapsed": true
   },
   "outputs": [],
   "source": [
    "als_model_avgfee.prep_spark_full_df()"
   ]
  },
  {
   "cell_type": "code",
   "execution_count": 88,
   "metadata": {},
   "outputs": [
    {
     "name": "stdout",
     "output_type": "stream",
     "text": [
      "Train Size: 592450.0\n",
      "Validation Size: 148113.0\n",
      "Test Size: 185141.0\n"
     ]
    }
   ],
   "source": [
    "als_model_avgfee.train_val_test_split()"
   ]
  },
  {
   "cell_type": "code",
   "execution_count": 89,
   "metadata": {
    "scrolled": true
   },
   "outputs": [
    {
     "name": "stdout",
     "output_type": "stream",
     "text": [
      "participants in train: 10764\n",
      "participants in validate: 10764\n",
      "participants in test: 10764\n",
      "\n",
      "\n",
      "participants in both train & validate: 10764\n",
      "participants in both train & test: 10764\n",
      "\n",
      "\n",
      "Total_Fee_Avg in train: 20\n",
      "Total_Fee_Avg in validate: 11\n",
      "Total_Fee_Avg in test: 12\n",
      "\n",
      "\n",
      "Total_Fee_Avg in both train & validate: 8\n",
      "Total_Fee_Avg in both train & test: 8\n"
     ]
    }
   ],
   "source": [
    "als_model_avgfee.print_train_val_test_info(\"Total_Fee_Avg\")"
   ]
  },
  {
   "cell_type": "code",
   "execution_count": 90,
   "metadata": {
    "collapsed": true
   },
   "outputs": [],
   "source": [
    "als_model_avgfee.create_participate_matrices(\"Total_Fee_Avg\")"
   ]
  },
  {
   "cell_type": "code",
   "execution_count": 91,
   "metadata": {
    "collapsed": true
   },
   "outputs": [],
   "source": [
    "als_model_avgfee.fit_ALS(itemCol=\"Total_Fee_Avg\", rank=10, alpha=40, coldStartStrategy=\"drop\")"
   ]
  },
  {
   "cell_type": "code",
   "execution_count": 92,
   "metadata": {},
   "outputs": [
    {
     "name": "stdout",
     "output_type": "stream",
     "text": [
      "Predictions includes 115821 valid values and 0 nan values\n",
      "Model Rank = 17.0182112752 and Popular Rank = 21.788489558\n"
     ]
    }
   ],
   "source": [
    "predictions, val_rank, pop_rank = als_model_avgfee.predict_ALS(als_model_avgfee.base_model, \"Total_Fee_Avg\")"
   ]
  },
  {
   "cell_type": "code",
   "execution_count": 93,
   "metadata": {},
   "outputs": [
    {
     "data": {
      "text/html": [
       "<div>\n",
       "<style>\n",
       "    .dataframe thead tr:only-child th {\n",
       "        text-align: right;\n",
       "    }\n",
       "\n",
       "    .dataframe thead th {\n",
       "        text-align: left;\n",
       "    }\n",
       "\n",
       "    .dataframe tbody tr th {\n",
       "        vertical-align: top;\n",
       "    }\n",
       "</style>\n",
       "<table border=\"1\" class=\"dataframe\">\n",
       "  <thead>\n",
       "    <tr style=\"text-align: right;\">\n",
       "      <th></th>\n",
       "      <th>PersonID</th>\n",
       "      <th>Total_Fee_Avg</th>\n",
       "      <th>Participated</th>\n",
       "      <th>Event_Date</th>\n",
       "      <th>prediction</th>\n",
       "    </tr>\n",
       "  </thead>\n",
       "  <tbody>\n",
       "    <tr>\n",
       "      <th>0</th>\n",
       "      <td>148</td>\n",
       "      <td>34</td>\n",
       "      <td>0</td>\n",
       "      <td>1483228800000000000</td>\n",
       "      <td>0.920413</td>\n",
       "    </tr>\n",
       "    <tr>\n",
       "      <th>1</th>\n",
       "      <td>463</td>\n",
       "      <td>34</td>\n",
       "      <td>0</td>\n",
       "      <td>1483228800000000000</td>\n",
       "      <td>0.095284</td>\n",
       "    </tr>\n",
       "    <tr>\n",
       "      <th>2</th>\n",
       "      <td>471</td>\n",
       "      <td>34</td>\n",
       "      <td>0</td>\n",
       "      <td>1483228800000000000</td>\n",
       "      <td>0.023150</td>\n",
       "    </tr>\n",
       "    <tr>\n",
       "      <th>3</th>\n",
       "      <td>496</td>\n",
       "      <td>34</td>\n",
       "      <td>0</td>\n",
       "      <td>1483228800000000000</td>\n",
       "      <td>0.949894</td>\n",
       "    </tr>\n",
       "    <tr>\n",
       "      <th>4</th>\n",
       "      <td>833</td>\n",
       "      <td>34</td>\n",
       "      <td>0</td>\n",
       "      <td>1483228800000000000</td>\n",
       "      <td>0.035321</td>\n",
       "    </tr>\n",
       "  </tbody>\n",
       "</table>\n",
       "</div>"
      ],
      "text/plain": [
       "   PersonID  Total_Fee_Avg  Participated           Event_Date  prediction\n",
       "0       148             34             0  1483228800000000000    0.920413\n",
       "1       463             34             0  1483228800000000000    0.095284\n",
       "2       471             34             0  1483228800000000000    0.023150\n",
       "3       496             34             0  1483228800000000000    0.949894\n",
       "4       833             34             0  1483228800000000000    0.035321"
      ]
     },
     "execution_count": 93,
     "metadata": {},
     "output_type": "execute_result"
    }
   ],
   "source": [
    "predictions.toPandas().head()"
   ]
  },
  {
   "cell_type": "code",
   "execution_count": 94,
   "metadata": {},
   "outputs": [
    {
     "name": "stdout",
     "output_type": "stream",
     "text": [
      "Predictions includes 115821 valid values and 0 nan values\n",
      "Model Rank = 19.5897912984 and Popular Rank = 21.788489558\n",
      "Predictions includes 115821 valid values and 0 nan values\n",
      "Model Rank = 21.0296417448 and Popular Rank = 21.788489558\n",
      "Predictions includes 115821 valid values and 0 nan values\n",
      "Model Rank = 21.4842829622 and Popular Rank = 21.788489558\n",
      "Predictions includes 115821 valid values and 0 nan values\n",
      "Model Rank = 17.6040700144 and Popular Rank = 21.788489558\n",
      "Predictions includes 115821 valid values and 0 nan values\n",
      "Model Rank = 17.0182112752 and Popular Rank = 21.788489558\n",
      "Predictions includes 115821 valid values and 0 nan values\n",
      "Model Rank = 20.0773289617 and Popular Rank = 21.788489558\n",
      "Predictions includes 115821 valid values and 0 nan values\n",
      "Model Rank = 14.5327851872 and Popular Rank = 21.788489558\n",
      "Predictions includes 115821 valid values and 0 nan values\n",
      "Model Rank = 15.1718778364 and Popular Rank = 21.788489558\n",
      "Predictions includes 115821 valid values and 0 nan values\n",
      "Model Rank = 20.6939679406 and Popular Rank = 21.788489558\n"
     ]
    }
   ],
   "source": [
    "alphas = [10, 40, 80]\n",
    "factors = [5, 10, 30]\n",
    "results_list = []\n",
    "\n",
    "for alpha in alphas:\n",
    "    for factor in factors:\n",
    "        als_model_avgfee.fit_ALS(itemCol=\"Total_Fee_Avg\", rank=factor, alpha=alpha, coldStartStrategy=\"drop\")\n",
    "        predictions, val_rank, pop_rank = als_model_avgfee.predict_ALS(als_model_avgfee.base_model, \"Total_Fee_Avg\")\n",
    "        results_list.append((alpha, factor, val_rank, pop_rank))"
   ]
  },
  {
   "cell_type": "code",
   "execution_count": 95,
   "metadata": {},
   "outputs": [
    {
     "data": {
      "text/plain": [
       "[(10, 5, 19.589791298439604, 21.788489558037881),\n",
       " (10, 10, 21.02964174478463, 21.788489558037881),\n",
       " (10, 30, 21.484282962217193, 21.788489558037881),\n",
       " (40, 5, 17.604070014440126, 21.788489558037881),\n",
       " (40, 10, 17.018211275202308, 21.788489558037881),\n",
       " (40, 30, 20.077328961664726, 21.788489558037881),\n",
       " (80, 5, 14.532785187242714, 21.788489558037881),\n",
       " (80, 10, 15.171877836403693, 21.788489558037881),\n",
       " (80, 30, 20.69396794064744, 21.788489558037881)]"
      ]
     },
     "execution_count": 95,
     "metadata": {},
     "output_type": "execute_result"
    }
   ],
   "source": [
    "results_list"
   ]
  },
  {
   "cell_type": "markdown",
   "metadata": {},
   "source": [
    "#### The best model amongst these uses alpha = 80 and factors = 5 for a rank score of 14.53% as compared to a popularity-based rank score of 21.79% (our model is almost twice as good as recommending things based on popularity!).  Refit this model and save:"
   ]
  },
  {
   "cell_type": "code",
   "execution_count": 96,
   "metadata": {
    "collapsed": true
   },
   "outputs": [],
   "source": [
    "als_model_avgfee.fit_ALS(itemCol=\"Total_Fee_Avg\", rank=5, alpha=80, coldStartStrategy=\"drop\")"
   ]
  },
  {
   "cell_type": "code",
   "execution_count": 97,
   "metadata": {},
   "outputs": [
    {
     "name": "stdout",
     "output_type": "stream",
     "text": [
      "Predictions includes 115821 valid values and 0 nan values\n",
      "Model Rank = 14.5327851872 and Popular Rank = 21.788489558\n"
     ]
    }
   ],
   "source": [
    "predictions, val_rank, pop_rank = als_model_avgfee.predict_ALS(als_model_avgfee.base_model, \"Total_Fee_Avg\")"
   ]
  },
  {
   "cell_type": "code",
   "execution_count": 98,
   "metadata": {
    "collapsed": true
   },
   "outputs": [],
   "source": [
    "als_fit_model_avgfee = als_model_avgfee.base_model\n",
    "als_valpreds_pd_avgfee = predictions.toPandas()\n",
    "\n",
    "als_fit_model_avgfee.save(\"25OCT17_repeatablefeaturesrun/als_fit_model_avgfee\")\n",
    "\n",
    "with open (\"25OCT17_repeatablefeaturesrun/als_valpreds_pd_avgfee.pkl\", 'w') as f:\n",
    "    pickle.dump(als_valpreds_pd_avgfee, f)"
   ]
  },
  {
   "cell_type": "markdown",
   "metadata": {},
   "source": [
    "## Average Mileage"
   ]
  },
  {
   "cell_type": "code",
   "execution_count": 99,
   "metadata": {
    "collapsed": true
   },
   "outputs": [],
   "source": [
    "als_model_avgmile = als_model.implicit_als(cleaned_data)"
   ]
  },
  {
   "cell_type": "code",
   "execution_count": 100,
   "metadata": {
    "collapsed": true
   },
   "outputs": [],
   "source": [
    "als_model_avgmile.prep_spark_full_df()"
   ]
  },
  {
   "cell_type": "code",
   "execution_count": 101,
   "metadata": {},
   "outputs": [
    {
     "name": "stdout",
     "output_type": "stream",
     "text": [
      "Train Size: 592450.0\n",
      "Validation Size: 148113.0\n",
      "Test Size: 185141.0\n"
     ]
    }
   ],
   "source": [
    "als_model_avgmile.train_val_test_split()"
   ]
  },
  {
   "cell_type": "code",
   "execution_count": 102,
   "metadata": {
    "scrolled": true
   },
   "outputs": [
    {
     "name": "stdout",
     "output_type": "stream",
     "text": [
      "participants in train: 10764\n",
      "participants in validate: 10764\n",
      "participants in test: 10764\n",
      "\n",
      "\n",
      "participants in both train & validate: 10764\n",
      "participants in both train & test: 10764\n",
      "\n",
      "\n",
      "Miles2_Avg in train: 11\n",
      "Miles2_Avg in validate: 5\n",
      "Miles2_Avg in test: 10\n",
      "\n",
      "\n",
      "Miles2_Avg in both train & validate: 5\n",
      "Miles2_Avg in both train & test: 7\n"
     ]
    }
   ],
   "source": [
    "als_model_avgmile.print_train_val_test_info(\"Miles2_Avg\")"
   ]
  },
  {
   "cell_type": "code",
   "execution_count": 103,
   "metadata": {
    "collapsed": true
   },
   "outputs": [],
   "source": [
    "als_model_avgmile.create_participate_matrices(\"Miles2_Avg\")"
   ]
  },
  {
   "cell_type": "code",
   "execution_count": 104,
   "metadata": {
    "collapsed": true
   },
   "outputs": [],
   "source": [
    "als_model_avgmile.fit_ALS(itemCol=\"Miles2_Avg\", rank=10, alpha=40, coldStartStrategy=\"drop\")"
   ]
  },
  {
   "cell_type": "code",
   "execution_count": 105,
   "metadata": {},
   "outputs": [
    {
     "name": "stdout",
     "output_type": "stream",
     "text": [
      "Predictions includes 148113 valid values and 0 nan values\n",
      "Model Rank = 12.5909255867 and Popular Rank = 29.1960712987\n"
     ]
    }
   ],
   "source": [
    "predictions, val_rank, pop_rank = als_model_avgmile.predict_ALS(als_model_avgmile.base_model, \"Miles2_Avg\")"
   ]
  },
  {
   "cell_type": "code",
   "execution_count": 106,
   "metadata": {},
   "outputs": [
    {
     "data": {
      "text/html": [
       "<div>\n",
       "<style>\n",
       "    .dataframe thead tr:only-child th {\n",
       "        text-align: right;\n",
       "    }\n",
       "\n",
       "    .dataframe thead th {\n",
       "        text-align: left;\n",
       "    }\n",
       "\n",
       "    .dataframe tbody tr th {\n",
       "        vertical-align: top;\n",
       "    }\n",
       "</style>\n",
       "<table border=\"1\" class=\"dataframe\">\n",
       "  <thead>\n",
       "    <tr style=\"text-align: right;\">\n",
       "      <th></th>\n",
       "      <th>PersonID</th>\n",
       "      <th>Miles2_Avg</th>\n",
       "      <th>Participated</th>\n",
       "      <th>Event_Date</th>\n",
       "      <th>prediction</th>\n",
       "    </tr>\n",
       "  </thead>\n",
       "  <tbody>\n",
       "    <tr>\n",
       "      <th>0</th>\n",
       "      <td>148</td>\n",
       "      <td>5</td>\n",
       "      <td>0</td>\n",
       "      <td>1483228800000000000</td>\n",
       "      <td>0.936979</td>\n",
       "    </tr>\n",
       "    <tr>\n",
       "      <th>1</th>\n",
       "      <td>148</td>\n",
       "      <td>5</td>\n",
       "      <td>0</td>\n",
       "      <td>1481932800000000000</td>\n",
       "      <td>0.936979</td>\n",
       "    </tr>\n",
       "    <tr>\n",
       "      <th>2</th>\n",
       "      <td>148</td>\n",
       "      <td>5</td>\n",
       "      <td>0</td>\n",
       "      <td>1478304000000000000</td>\n",
       "      <td>0.936979</td>\n",
       "    </tr>\n",
       "    <tr>\n",
       "      <th>3</th>\n",
       "      <td>463</td>\n",
       "      <td>5</td>\n",
       "      <td>0</td>\n",
       "      <td>1483228800000000000</td>\n",
       "      <td>0.105175</td>\n",
       "    </tr>\n",
       "    <tr>\n",
       "      <th>4</th>\n",
       "      <td>463</td>\n",
       "      <td>5</td>\n",
       "      <td>0</td>\n",
       "      <td>1481932800000000000</td>\n",
       "      <td>0.105175</td>\n",
       "    </tr>\n",
       "  </tbody>\n",
       "</table>\n",
       "</div>"
      ],
      "text/plain": [
       "   PersonID  Miles2_Avg  Participated           Event_Date  prediction\n",
       "0       148           5             0  1483228800000000000    0.936979\n",
       "1       148           5             0  1481932800000000000    0.936979\n",
       "2       148           5             0  1478304000000000000    0.936979\n",
       "3       463           5             0  1483228800000000000    0.105175\n",
       "4       463           5             0  1481932800000000000    0.105175"
      ]
     },
     "execution_count": 106,
     "metadata": {},
     "output_type": "execute_result"
    }
   ],
   "source": [
    "predictions.toPandas().head()"
   ]
  },
  {
   "cell_type": "code",
   "execution_count": 107,
   "metadata": {},
   "outputs": [
    {
     "name": "stdout",
     "output_type": "stream",
     "text": [
      "Predictions includes 148113 valid values and 0 nan values\n",
      "Model Rank = 15.270046008 and Popular Rank = 29.1960712987\n",
      "Predictions includes 148113 valid values and 0 nan values\n",
      "Model Rank = 15.8309030651 and Popular Rank = 29.1960712987\n",
      "Predictions includes 148113 valid values and 0 nan values\n",
      "Model Rank = 14.6571414199 and Popular Rank = 29.1960712987\n",
      "Predictions includes 148113 valid values and 0 nan values\n",
      "Model Rank = 12.9935240924 and Popular Rank = 29.1960712987\n",
      "Predictions includes 148113 valid values and 0 nan values\n",
      "Model Rank = 12.5909255867 and Popular Rank = 29.1960712987\n",
      "Predictions includes 148113 valid values and 0 nan values\n",
      "Model Rank = 13.6516023017 and Popular Rank = 29.1960712987\n",
      "Predictions includes 148113 valid values and 0 nan values\n",
      "Model Rank = 10.8299333015 and Popular Rank = 29.1960712987\n",
      "Predictions includes 148113 valid values and 0 nan values\n",
      "Model Rank = 12.582789844 and Popular Rank = 29.1960712987\n",
      "Predictions includes 148113 valid values and 0 nan values\n",
      "Model Rank = 13.0103037273 and Popular Rank = 29.1960712987\n"
     ]
    }
   ],
   "source": [
    "alphas = [10, 40, 80]\n",
    "factors = [5, 10, 30]\n",
    "results_list = []\n",
    "\n",
    "for alpha in alphas:\n",
    "    for factor in factors:\n",
    "        als_model_avgmile.fit_ALS(itemCol=\"Miles2_Avg\", rank=factor, alpha=alpha, coldStartStrategy=\"drop\")\n",
    "        predictions, val_rank, pop_rank = als_model_avgmile.predict_ALS(als_model_avgmile.base_model, \"Miles2_Avg\")\n",
    "        results_list.append((alpha, factor, val_rank, pop_rank))"
   ]
  },
  {
   "cell_type": "code",
   "execution_count": 108,
   "metadata": {},
   "outputs": [
    {
     "data": {
      "text/plain": [
       "[(10, 5, 15.270046007997625, 29.196071298654054),\n",
       " (10, 10, 15.83090306511818, 29.196071298654054),\n",
       " (10, 30, 14.657141419873492, 29.196071298654054),\n",
       " (40, 5, 12.993524092357028, 29.196071298654054),\n",
       " (40, 10, 12.590925586746046, 29.196071298654054),\n",
       " (40, 30, 13.651602301725573, 29.196071298654054),\n",
       " (80, 5, 10.829933301479221, 29.196071298654054),\n",
       " (80, 10, 12.582789844046216, 29.196071298654054),\n",
       " (80, 30, 13.010303727315177, 29.196071298654054)]"
      ]
     },
     "execution_count": 108,
     "metadata": {},
     "output_type": "execute_result"
    }
   ],
   "source": [
    "results_list"
   ]
  },
  {
   "cell_type": "markdown",
   "metadata": {},
   "source": [
    "#### The best model amongst these uses alpha = 80 and factors = 5 for a rank score of 10.83% as compared to a popularity-based rank score of 29.20% (our model is almost three times as good as recommending things based on popularity!).  Refit this model and save:"
   ]
  },
  {
   "cell_type": "code",
   "execution_count": 109,
   "metadata": {
    "collapsed": true
   },
   "outputs": [],
   "source": [
    "als_model_avgmile.fit_ALS(itemCol=\"Miles2_Avg\", rank=5, alpha=80, coldStartStrategy=\"drop\")"
   ]
  },
  {
   "cell_type": "code",
   "execution_count": 110,
   "metadata": {},
   "outputs": [
    {
     "name": "stdout",
     "output_type": "stream",
     "text": [
      "Predictions includes 148113 valid values and 0 nan values\n",
      "Model Rank = 10.8299333015 and Popular Rank = 29.1960712987\n"
     ]
    }
   ],
   "source": [
    "predictions, val_rank, pop_rank = als_model_avgmile.predict_ALS(als_model_avgmile.base_model, \"Miles2_Avg\")"
   ]
  },
  {
   "cell_type": "code",
   "execution_count": 111,
   "metadata": {
    "collapsed": true
   },
   "outputs": [],
   "source": [
    "als_fit_model_avgmile = als_model_avgmile.base_model\n",
    "als_valpreds_pd_avgmile = predictions.toPandas()\n",
    "\n",
    "als_fit_model_avgmile.save(\"25OCT17_repeatablefeaturesrun/als_fit_model_avgmile\")\n",
    "\n",
    "with open (\"25OCT17_repeatablefeaturesrun/als_valpreds_pd_avgmile.pkl\", 'w') as f:\n",
    "    pickle.dump(als_valpreds_pd_avgmile, f)"
   ]
  },
  {
   "cell_type": "markdown",
   "metadata": {},
   "source": [
    "## Build Gradient Boost Ensemble Using ALS Models Predictions as Inputs to Determine Weights for Each"
   ]
  },
  {
   "cell_type": "markdown",
   "metadata": {},
   "source": [
    "#### DO LATER - NEED TO ALTER CODE TO SUPPORT: Rerun Each ALS with Train + Validate Data for Final Fitted Model & Get Predictions on Dataset"
   ]
  },
  {
   "cell_type": "code",
   "execution_count": null,
   "metadata": {
    "collapsed": true
   },
   "outputs": [],
   "source": []
  },
  {
   "cell_type": "code",
   "execution_count": null,
   "metadata": {
    "collapsed": true
   },
   "outputs": [],
   "source": []
  },
  {
   "cell_type": "markdown",
   "metadata": {},
   "source": [
    "#### Build X, y Matrices for GB Model (for now using predictions on validation data only)"
   ]
  },
  {
   "cell_type": "code",
   "execution_count": 63,
   "metadata": {
    "collapsed": true
   },
   "outputs": [],
   "source": [
    "with open ('25OCT17_repeatablefeaturesrun/als_val_df_pd.pkl', 'rb') as f:\n",
    "    als_val_df_pd = pickle.load(f)"
   ]
  },
  {
   "cell_type": "code",
   "execution_count": 64,
   "metadata": {},
   "outputs": [
    {
     "data": {
      "text/html": [
       "<div>\n",
       "<style>\n",
       "    .dataframe thead tr:only-child th {\n",
       "        text-align: right;\n",
       "    }\n",
       "\n",
       "    .dataframe thead th {\n",
       "        text-align: left;\n",
       "    }\n",
       "\n",
       "    .dataframe tbody tr th {\n",
       "        vertical-align: top;\n",
       "    }\n",
       "</style>\n",
       "<table border=\"1\" class=\"dataframe\">\n",
       "  <thead>\n",
       "    <tr style=\"text-align: right;\">\n",
       "      <th></th>\n",
       "      <th>PersonID</th>\n",
       "      <th>EventID</th>\n",
       "      <th>Participated</th>\n",
       "      <th>Event_Date</th>\n",
       "      <th>SeriesID</th>\n",
       "      <th>EventTypeID</th>\n",
       "      <th>Total_Fee_Avg</th>\n",
       "      <th>Miles2_Avg</th>\n",
       "      <th>Venue_Zip</th>\n",
       "    </tr>\n",
       "  </thead>\n",
       "  <tbody>\n",
       "    <tr>\n",
       "      <th>0</th>\n",
       "      <td>4695</td>\n",
       "      <td>67</td>\n",
       "      <td>0</td>\n",
       "      <td>1486252800000000000</td>\n",
       "      <td>1.0</td>\n",
       "      <td>1</td>\n",
       "      <td>30</td>\n",
       "      <td>4</td>\n",
       "      <td>98102</td>\n",
       "    </tr>\n",
       "    <tr>\n",
       "      <th>1</th>\n",
       "      <td>4696</td>\n",
       "      <td>67</td>\n",
       "      <td>0</td>\n",
       "      <td>1486252800000000000</td>\n",
       "      <td>1.0</td>\n",
       "      <td>1</td>\n",
       "      <td>30</td>\n",
       "      <td>4</td>\n",
       "      <td>98102</td>\n",
       "    </tr>\n",
       "    <tr>\n",
       "      <th>2</th>\n",
       "      <td>2299</td>\n",
       "      <td>67</td>\n",
       "      <td>0</td>\n",
       "      <td>1486252800000000000</td>\n",
       "      <td>1.0</td>\n",
       "      <td>1</td>\n",
       "      <td>30</td>\n",
       "      <td>4</td>\n",
       "      <td>98102</td>\n",
       "    </tr>\n",
       "    <tr>\n",
       "      <th>3</th>\n",
       "      <td>4697</td>\n",
       "      <td>67</td>\n",
       "      <td>0</td>\n",
       "      <td>1486252800000000000</td>\n",
       "      <td>1.0</td>\n",
       "      <td>1</td>\n",
       "      <td>30</td>\n",
       "      <td>4</td>\n",
       "      <td>98102</td>\n",
       "    </tr>\n",
       "    <tr>\n",
       "      <th>4</th>\n",
       "      <td>4698</td>\n",
       "      <td>67</td>\n",
       "      <td>0</td>\n",
       "      <td>1486252800000000000</td>\n",
       "      <td>1.0</td>\n",
       "      <td>1</td>\n",
       "      <td>30</td>\n",
       "      <td>4</td>\n",
       "      <td>98102</td>\n",
       "    </tr>\n",
       "  </tbody>\n",
       "</table>\n",
       "</div>"
      ],
      "text/plain": [
       "   PersonID  EventID  Participated           Event_Date  SeriesID  \\\n",
       "0      4695       67             0  1486252800000000000       1.0   \n",
       "1      4696       67             0  1486252800000000000       1.0   \n",
       "2      2299       67             0  1486252800000000000       1.0   \n",
       "3      4697       67             0  1486252800000000000       1.0   \n",
       "4      4698       67             0  1486252800000000000       1.0   \n",
       "\n",
       "   EventTypeID  Total_Fee_Avg  Miles2_Avg  Venue_Zip  \n",
       "0            1             30           4      98102  \n",
       "1            1             30           4      98102  \n",
       "2            1             30           4      98102  \n",
       "3            1             30           4      98102  \n",
       "4            1             30           4      98102  "
      ]
     },
     "execution_count": 64,
     "metadata": {},
     "output_type": "execute_result"
    }
   ],
   "source": [
    "als_val_df_pd.head()"
   ]
  },
  {
   "cell_type": "code",
   "execution_count": 65,
   "metadata": {
    "collapsed": true
   },
   "outputs": [],
   "source": [
    "with open ('25OCT17_repeatablefeaturesrun/als_valpreds_pd_series.pkl', 'rb') as f:\n",
    "    als_valpreds_pd_series = pickle.load(f)"
   ]
  },
  {
   "cell_type": "code",
   "execution_count": 66,
   "metadata": {},
   "outputs": [
    {
     "data": {
      "text/html": [
       "<div>\n",
       "<style>\n",
       "    .dataframe thead tr:only-child th {\n",
       "        text-align: right;\n",
       "    }\n",
       "\n",
       "    .dataframe thead th {\n",
       "        text-align: left;\n",
       "    }\n",
       "\n",
       "    .dataframe tbody tr th {\n",
       "        vertical-align: top;\n",
       "    }\n",
       "</style>\n",
       "<table border=\"1\" class=\"dataframe\">\n",
       "  <thead>\n",
       "    <tr style=\"text-align: right;\">\n",
       "      <th></th>\n",
       "      <th>PersonID</th>\n",
       "      <th>SeriesID</th>\n",
       "      <th>Participated</th>\n",
       "      <th>Event_Date</th>\n",
       "      <th>prediction</th>\n",
       "    </tr>\n",
       "  </thead>\n",
       "  <tbody>\n",
       "    <tr>\n",
       "      <th>0</th>\n",
       "      <td>148</td>\n",
       "      <td>1.0</td>\n",
       "      <td>0</td>\n",
       "      <td>1486252800000000000</td>\n",
       "      <td>0.984482</td>\n",
       "    </tr>\n",
       "    <tr>\n",
       "      <th>1</th>\n",
       "      <td>148</td>\n",
       "      <td>1.0</td>\n",
       "      <td>0</td>\n",
       "      <td>1484956800000000000</td>\n",
       "      <td>0.984482</td>\n",
       "    </tr>\n",
       "    <tr>\n",
       "      <th>2</th>\n",
       "      <td>148</td>\n",
       "      <td>1.0</td>\n",
       "      <td>0</td>\n",
       "      <td>1483228800000000000</td>\n",
       "      <td>0.984482</td>\n",
       "    </tr>\n",
       "    <tr>\n",
       "      <th>3</th>\n",
       "      <td>148</td>\n",
       "      <td>1.0</td>\n",
       "      <td>0</td>\n",
       "      <td>1481932800000000000</td>\n",
       "      <td>0.984482</td>\n",
       "    </tr>\n",
       "    <tr>\n",
       "      <th>4</th>\n",
       "      <td>148</td>\n",
       "      <td>1.0</td>\n",
       "      <td>0</td>\n",
       "      <td>1480723200000000000</td>\n",
       "      <td>0.984482</td>\n",
       "    </tr>\n",
       "  </tbody>\n",
       "</table>\n",
       "</div>"
      ],
      "text/plain": [
       "   PersonID  SeriesID  Participated           Event_Date  prediction\n",
       "0       148       1.0             0  1486252800000000000    0.984482\n",
       "1       148       1.0             0  1484956800000000000    0.984482\n",
       "2       148       1.0             0  1483228800000000000    0.984482\n",
       "3       148       1.0             0  1481932800000000000    0.984482\n",
       "4       148       1.0             0  1480723200000000000    0.984482"
      ]
     },
     "execution_count": 66,
     "metadata": {},
     "output_type": "execute_result"
    }
   ],
   "source": [
    "als_valpreds_pd_series.head()"
   ]
  },
  {
   "cell_type": "code",
   "execution_count": 67,
   "metadata": {
    "collapsed": true
   },
   "outputs": [],
   "source": [
    "import pandas as pd\n",
    "gb_data = pd.merge(als_val_df_pd, als_valpreds_pd_series,\n",
    "                            how='left', on=['PersonID', 'Participated', 'Event_Date', 'SeriesID'])\n",
    "gb_data['series_prediction'] = gb_data['prediction']\n",
    "gb_data.drop(['prediction', 'SeriesID'], axis = 1, inplace=True)"
   ]
  },
  {
   "cell_type": "code",
   "execution_count": 68,
   "metadata": {},
   "outputs": [
    {
     "data": {
      "text/html": [
       "<div>\n",
       "<style>\n",
       "    .dataframe thead tr:only-child th {\n",
       "        text-align: right;\n",
       "    }\n",
       "\n",
       "    .dataframe thead th {\n",
       "        text-align: left;\n",
       "    }\n",
       "\n",
       "    .dataframe tbody tr th {\n",
       "        vertical-align: top;\n",
       "    }\n",
       "</style>\n",
       "<table border=\"1\" class=\"dataframe\">\n",
       "  <thead>\n",
       "    <tr style=\"text-align: right;\">\n",
       "      <th></th>\n",
       "      <th>PersonID</th>\n",
       "      <th>EventID</th>\n",
       "      <th>Participated</th>\n",
       "      <th>Event_Date</th>\n",
       "      <th>EventTypeID</th>\n",
       "      <th>Total_Fee_Avg</th>\n",
       "      <th>Miles2_Avg</th>\n",
       "      <th>Venue_Zip</th>\n",
       "      <th>series_prediction</th>\n",
       "    </tr>\n",
       "  </thead>\n",
       "  <tbody>\n",
       "    <tr>\n",
       "      <th>0</th>\n",
       "      <td>4695</td>\n",
       "      <td>67</td>\n",
       "      <td>0</td>\n",
       "      <td>1486252800000000000</td>\n",
       "      <td>1</td>\n",
       "      <td>30</td>\n",
       "      <td>4</td>\n",
       "      <td>98102</td>\n",
       "      <td>0.215541</td>\n",
       "    </tr>\n",
       "    <tr>\n",
       "      <th>1</th>\n",
       "      <td>4696</td>\n",
       "      <td>67</td>\n",
       "      <td>0</td>\n",
       "      <td>1486252800000000000</td>\n",
       "      <td>1</td>\n",
       "      <td>30</td>\n",
       "      <td>4</td>\n",
       "      <td>98102</td>\n",
       "      <td>0.213122</td>\n",
       "    </tr>\n",
       "    <tr>\n",
       "      <th>2</th>\n",
       "      <td>2299</td>\n",
       "      <td>67</td>\n",
       "      <td>0</td>\n",
       "      <td>1486252800000000000</td>\n",
       "      <td>1</td>\n",
       "      <td>30</td>\n",
       "      <td>4</td>\n",
       "      <td>98102</td>\n",
       "      <td>0.963359</td>\n",
       "    </tr>\n",
       "    <tr>\n",
       "      <th>3</th>\n",
       "      <td>4697</td>\n",
       "      <td>67</td>\n",
       "      <td>0</td>\n",
       "      <td>1486252800000000000</td>\n",
       "      <td>1</td>\n",
       "      <td>30</td>\n",
       "      <td>4</td>\n",
       "      <td>98102</td>\n",
       "      <td>0.213122</td>\n",
       "    </tr>\n",
       "    <tr>\n",
       "      <th>4</th>\n",
       "      <td>4698</td>\n",
       "      <td>67</td>\n",
       "      <td>0</td>\n",
       "      <td>1486252800000000000</td>\n",
       "      <td>1</td>\n",
       "      <td>30</td>\n",
       "      <td>4</td>\n",
       "      <td>98102</td>\n",
       "      <td>0.213122</td>\n",
       "    </tr>\n",
       "  </tbody>\n",
       "</table>\n",
       "</div>"
      ],
      "text/plain": [
       "   PersonID  EventID  Participated           Event_Date  EventTypeID  \\\n",
       "0      4695       67             0  1486252800000000000            1   \n",
       "1      4696       67             0  1486252800000000000            1   \n",
       "2      2299       67             0  1486252800000000000            1   \n",
       "3      4697       67             0  1486252800000000000            1   \n",
       "4      4698       67             0  1486252800000000000            1   \n",
       "\n",
       "   Total_Fee_Avg  Miles2_Avg  Venue_Zip  series_prediction  \n",
       "0             30           4      98102           0.215541  \n",
       "1             30           4      98102           0.213122  \n",
       "2             30           4      98102           0.963359  \n",
       "3             30           4      98102           0.213122  \n",
       "4             30           4      98102           0.213122  "
      ]
     },
     "execution_count": 68,
     "metadata": {},
     "output_type": "execute_result"
    }
   ],
   "source": [
    "gb_data.head()"
   ]
  },
  {
   "cell_type": "code",
   "execution_count": 69,
   "metadata": {
    "collapsed": true
   },
   "outputs": [],
   "source": [
    "with open('25OCT17_repeatablefeaturesrun/als_valpreds_pd_eventtype.pkl', 'rb') as f:\n",
    "    als_valpreds_pd_eventtype = pickle.load(f)"
   ]
  },
  {
   "cell_type": "code",
   "execution_count": 70,
   "metadata": {},
   "outputs": [
    {
     "data": {
      "text/html": [
       "<div>\n",
       "<style>\n",
       "    .dataframe thead tr:only-child th {\n",
       "        text-align: right;\n",
       "    }\n",
       "\n",
       "    .dataframe thead th {\n",
       "        text-align: left;\n",
       "    }\n",
       "\n",
       "    .dataframe tbody tr th {\n",
       "        vertical-align: top;\n",
       "    }\n",
       "</style>\n",
       "<table border=\"1\" class=\"dataframe\">\n",
       "  <thead>\n",
       "    <tr style=\"text-align: right;\">\n",
       "      <th></th>\n",
       "      <th>PersonID</th>\n",
       "      <th>EventTypeID</th>\n",
       "      <th>Participated</th>\n",
       "      <th>Event_Date</th>\n",
       "      <th>prediction</th>\n",
       "    </tr>\n",
       "  </thead>\n",
       "  <tbody>\n",
       "    <tr>\n",
       "      <th>0</th>\n",
       "      <td>148</td>\n",
       "      <td>1</td>\n",
       "      <td>0</td>\n",
       "      <td>1486252800000000000</td>\n",
       "      <td>1.003905</td>\n",
       "    </tr>\n",
       "    <tr>\n",
       "      <th>1</th>\n",
       "      <td>148</td>\n",
       "      <td>1</td>\n",
       "      <td>0</td>\n",
       "      <td>1484956800000000000</td>\n",
       "      <td>1.003905</td>\n",
       "    </tr>\n",
       "    <tr>\n",
       "      <th>2</th>\n",
       "      <td>148</td>\n",
       "      <td>1</td>\n",
       "      <td>0</td>\n",
       "      <td>1483228800000000000</td>\n",
       "      <td>1.003905</td>\n",
       "    </tr>\n",
       "    <tr>\n",
       "      <th>3</th>\n",
       "      <td>148</td>\n",
       "      <td>1</td>\n",
       "      <td>0</td>\n",
       "      <td>1481932800000000000</td>\n",
       "      <td>1.003905</td>\n",
       "    </tr>\n",
       "    <tr>\n",
       "      <th>4</th>\n",
       "      <td>148</td>\n",
       "      <td>1</td>\n",
       "      <td>0</td>\n",
       "      <td>1480723200000000000</td>\n",
       "      <td>1.003905</td>\n",
       "    </tr>\n",
       "  </tbody>\n",
       "</table>\n",
       "</div>"
      ],
      "text/plain": [
       "   PersonID  EventTypeID  Participated           Event_Date  prediction\n",
       "0       148            1             0  1486252800000000000    1.003905\n",
       "1       148            1             0  1484956800000000000    1.003905\n",
       "2       148            1             0  1483228800000000000    1.003905\n",
       "3       148            1             0  1481932800000000000    1.003905\n",
       "4       148            1             0  1480723200000000000    1.003905"
      ]
     },
     "execution_count": 70,
     "metadata": {},
     "output_type": "execute_result"
    }
   ],
   "source": [
    "als_valpreds_pd_eventtype.head()"
   ]
  },
  {
   "cell_type": "code",
   "execution_count": 71,
   "metadata": {
    "collapsed": true
   },
   "outputs": [],
   "source": [
    "gb_data = pd.merge(gb_data, als_valpreds_pd_eventtype,\n",
    "                            how='left', on=['PersonID', 'Participated', 'Event_Date', 'EventTypeID'])\n",
    "gb_data['eventtype_prediction'] = gb_data['prediction']\n",
    "gb_data.drop(['prediction', 'EventTypeID'], axis = 1, inplace=True)"
   ]
  },
  {
   "cell_type": "code",
   "execution_count": 72,
   "metadata": {
    "collapsed": true
   },
   "outputs": [],
   "source": [
    "with open('25OCT17_repeatablefeaturesrun/als_valpreds_pd_zipcode.pkl', 'rb') as f:\n",
    "    als_valpreds_pd_zipcode = pickle.load(f)"
   ]
  },
  {
   "cell_type": "code",
   "execution_count": 73,
   "metadata": {},
   "outputs": [
    {
     "data": {
      "text/html": [
       "<div>\n",
       "<style>\n",
       "    .dataframe thead tr:only-child th {\n",
       "        text-align: right;\n",
       "    }\n",
       "\n",
       "    .dataframe thead th {\n",
       "        text-align: left;\n",
       "    }\n",
       "\n",
       "    .dataframe tbody tr th {\n",
       "        vertical-align: top;\n",
       "    }\n",
       "</style>\n",
       "<table border=\"1\" class=\"dataframe\">\n",
       "  <thead>\n",
       "    <tr style=\"text-align: right;\">\n",
       "      <th></th>\n",
       "      <th>PersonID</th>\n",
       "      <th>Venue_Zip</th>\n",
       "      <th>Participated</th>\n",
       "      <th>Event_Date</th>\n",
       "      <th>prediction</th>\n",
       "    </tr>\n",
       "  </thead>\n",
       "  <tbody>\n",
       "    <tr>\n",
       "      <th>0</th>\n",
       "      <td>148</td>\n",
       "      <td>98177</td>\n",
       "      <td>0</td>\n",
       "      <td>1479513600000000000</td>\n",
       "      <td>0.881846</td>\n",
       "    </tr>\n",
       "    <tr>\n",
       "      <th>1</th>\n",
       "      <td>148</td>\n",
       "      <td>98177</td>\n",
       "      <td>0</td>\n",
       "      <td>1474675200000000000</td>\n",
       "      <td>0.881846</td>\n",
       "    </tr>\n",
       "    <tr>\n",
       "      <th>2</th>\n",
       "      <td>463</td>\n",
       "      <td>98177</td>\n",
       "      <td>0</td>\n",
       "      <td>1479513600000000000</td>\n",
       "      <td>0.329434</td>\n",
       "    </tr>\n",
       "    <tr>\n",
       "      <th>3</th>\n",
       "      <td>463</td>\n",
       "      <td>98177</td>\n",
       "      <td>0</td>\n",
       "      <td>1474675200000000000</td>\n",
       "      <td>0.329434</td>\n",
       "    </tr>\n",
       "    <tr>\n",
       "      <th>4</th>\n",
       "      <td>471</td>\n",
       "      <td>98177</td>\n",
       "      <td>0</td>\n",
       "      <td>1479513600000000000</td>\n",
       "      <td>0.888514</td>\n",
       "    </tr>\n",
       "  </tbody>\n",
       "</table>\n",
       "</div>"
      ],
      "text/plain": [
       "   PersonID  Venue_Zip  Participated           Event_Date  prediction\n",
       "0       148      98177             0  1479513600000000000    0.881846\n",
       "1       148      98177             0  1474675200000000000    0.881846\n",
       "2       463      98177             0  1479513600000000000    0.329434\n",
       "3       463      98177             0  1474675200000000000    0.329434\n",
       "4       471      98177             0  1479513600000000000    0.888514"
      ]
     },
     "execution_count": 73,
     "metadata": {},
     "output_type": "execute_result"
    }
   ],
   "source": [
    "als_valpreds_pd_zipcode.head()"
   ]
  },
  {
   "cell_type": "code",
   "execution_count": 74,
   "metadata": {
    "collapsed": true
   },
   "outputs": [],
   "source": [
    "gb_data = pd.merge(gb_data, als_valpreds_pd_zipcode,\n",
    "                            how='left', on=['PersonID', 'Participated', 'Event_Date', 'Venue_Zip'])\n",
    "gb_data['venuezip_prediction'] = gb_data['prediction']\n",
    "gb_data.drop(['prediction', 'Venue_Zip'], axis = 1, inplace=True)"
   ]
  },
  {
   "cell_type": "code",
   "execution_count": 75,
   "metadata": {
    "collapsed": true
   },
   "outputs": [],
   "source": [
    "with open('25OCT17_repeatablefeaturesrun/als_valpreds_pd_avgfee.pkl', 'rb') as f:\n",
    "    als_valpreds_pd_avgfee = pickle.load(f)"
   ]
  },
  {
   "cell_type": "code",
   "execution_count": 76,
   "metadata": {},
   "outputs": [
    {
     "data": {
      "text/html": [
       "<div>\n",
       "<style>\n",
       "    .dataframe thead tr:only-child th {\n",
       "        text-align: right;\n",
       "    }\n",
       "\n",
       "    .dataframe thead th {\n",
       "        text-align: left;\n",
       "    }\n",
       "\n",
       "    .dataframe tbody tr th {\n",
       "        vertical-align: top;\n",
       "    }\n",
       "</style>\n",
       "<table border=\"1\" class=\"dataframe\">\n",
       "  <thead>\n",
       "    <tr style=\"text-align: right;\">\n",
       "      <th></th>\n",
       "      <th>PersonID</th>\n",
       "      <th>Total_Fee_Avg</th>\n",
       "      <th>Participated</th>\n",
       "      <th>Event_Date</th>\n",
       "      <th>prediction</th>\n",
       "    </tr>\n",
       "  </thead>\n",
       "  <tbody>\n",
       "    <tr>\n",
       "      <th>0</th>\n",
       "      <td>148</td>\n",
       "      <td>34</td>\n",
       "      <td>0</td>\n",
       "      <td>1483228800000000000</td>\n",
       "      <td>0.925915</td>\n",
       "    </tr>\n",
       "    <tr>\n",
       "      <th>1</th>\n",
       "      <td>463</td>\n",
       "      <td>34</td>\n",
       "      <td>0</td>\n",
       "      <td>1483228800000000000</td>\n",
       "      <td>0.041237</td>\n",
       "    </tr>\n",
       "    <tr>\n",
       "      <th>2</th>\n",
       "      <td>471</td>\n",
       "      <td>34</td>\n",
       "      <td>0</td>\n",
       "      <td>1483228800000000000</td>\n",
       "      <td>0.008612</td>\n",
       "    </tr>\n",
       "    <tr>\n",
       "      <th>3</th>\n",
       "      <td>496</td>\n",
       "      <td>34</td>\n",
       "      <td>0</td>\n",
       "      <td>1483228800000000000</td>\n",
       "      <td>0.944936</td>\n",
       "    </tr>\n",
       "    <tr>\n",
       "      <th>4</th>\n",
       "      <td>833</td>\n",
       "      <td>34</td>\n",
       "      <td>0</td>\n",
       "      <td>1483228800000000000</td>\n",
       "      <td>0.011816</td>\n",
       "    </tr>\n",
       "  </tbody>\n",
       "</table>\n",
       "</div>"
      ],
      "text/plain": [
       "   PersonID  Total_Fee_Avg  Participated           Event_Date  prediction\n",
       "0       148             34             0  1483228800000000000    0.925915\n",
       "1       463             34             0  1483228800000000000    0.041237\n",
       "2       471             34             0  1483228800000000000    0.008612\n",
       "3       496             34             0  1483228800000000000    0.944936\n",
       "4       833             34             0  1483228800000000000    0.011816"
      ]
     },
     "execution_count": 76,
     "metadata": {},
     "output_type": "execute_result"
    }
   ],
   "source": [
    "als_valpreds_pd_avgfee.head()"
   ]
  },
  {
   "cell_type": "code",
   "execution_count": 77,
   "metadata": {
    "collapsed": true
   },
   "outputs": [],
   "source": [
    "gb_data = pd.merge(gb_data, als_valpreds_pd_avgfee,\n",
    "                            how='left', on=['PersonID', 'Participated', 'Event_Date', 'Total_Fee_Avg'])\n",
    "gb_data['fee_prediction'] = gb_data['prediction']\n",
    "gb_data.drop(['prediction', 'Total_Fee_Avg'], axis = 1, inplace=True)"
   ]
  },
  {
   "cell_type": "code",
   "execution_count": 78,
   "metadata": {
    "collapsed": true
   },
   "outputs": [],
   "source": [
    "with open('25OCT17_repeatablefeaturesrun/als_valpreds_pd_avgmile.pkl', 'rb') as f:\n",
    "    als_valpreds_pd_avgmile = pickle.load(f)"
   ]
  },
  {
   "cell_type": "code",
   "execution_count": 79,
   "metadata": {},
   "outputs": [
    {
     "data": {
      "text/html": [
       "<div>\n",
       "<style>\n",
       "    .dataframe thead tr:only-child th {\n",
       "        text-align: right;\n",
       "    }\n",
       "\n",
       "    .dataframe thead th {\n",
       "        text-align: left;\n",
       "    }\n",
       "\n",
       "    .dataframe tbody tr th {\n",
       "        vertical-align: top;\n",
       "    }\n",
       "</style>\n",
       "<table border=\"1\" class=\"dataframe\">\n",
       "  <thead>\n",
       "    <tr style=\"text-align: right;\">\n",
       "      <th></th>\n",
       "      <th>PersonID</th>\n",
       "      <th>Miles2_Avg</th>\n",
       "      <th>Participated</th>\n",
       "      <th>Event_Date</th>\n",
       "      <th>prediction</th>\n",
       "    </tr>\n",
       "  </thead>\n",
       "  <tbody>\n",
       "    <tr>\n",
       "      <th>0</th>\n",
       "      <td>148</td>\n",
       "      <td>5</td>\n",
       "      <td>0</td>\n",
       "      <td>1483228800000000000</td>\n",
       "      <td>0.933645</td>\n",
       "    </tr>\n",
       "    <tr>\n",
       "      <th>1</th>\n",
       "      <td>148</td>\n",
       "      <td>5</td>\n",
       "      <td>0</td>\n",
       "      <td>1481932800000000000</td>\n",
       "      <td>0.933645</td>\n",
       "    </tr>\n",
       "    <tr>\n",
       "      <th>2</th>\n",
       "      <td>148</td>\n",
       "      <td>5</td>\n",
       "      <td>0</td>\n",
       "      <td>1478304000000000000</td>\n",
       "      <td>0.933645</td>\n",
       "    </tr>\n",
       "    <tr>\n",
       "      <th>3</th>\n",
       "      <td>463</td>\n",
       "      <td>5</td>\n",
       "      <td>0</td>\n",
       "      <td>1483228800000000000</td>\n",
       "      <td>0.132972</td>\n",
       "    </tr>\n",
       "    <tr>\n",
       "      <th>4</th>\n",
       "      <td>463</td>\n",
       "      <td>5</td>\n",
       "      <td>0</td>\n",
       "      <td>1481932800000000000</td>\n",
       "      <td>0.132972</td>\n",
       "    </tr>\n",
       "  </tbody>\n",
       "</table>\n",
       "</div>"
      ],
      "text/plain": [
       "   PersonID  Miles2_Avg  Participated           Event_Date  prediction\n",
       "0       148           5             0  1483228800000000000    0.933645\n",
       "1       148           5             0  1481932800000000000    0.933645\n",
       "2       148           5             0  1478304000000000000    0.933645\n",
       "3       463           5             0  1483228800000000000    0.132972\n",
       "4       463           5             0  1481932800000000000    0.132972"
      ]
     },
     "execution_count": 79,
     "metadata": {},
     "output_type": "execute_result"
    }
   ],
   "source": [
    "als_valpreds_pd_avgmile.head()"
   ]
  },
  {
   "cell_type": "code",
   "execution_count": 80,
   "metadata": {
    "collapsed": true
   },
   "outputs": [],
   "source": [
    "gb_data = pd.merge(gb_data, als_valpreds_pd_avgmile,\n",
    "                            how='left', on=['PersonID', 'Participated', 'Event_Date', 'Miles2_Avg'])\n",
    "gb_data['miles_prediction'] = gb_data['prediction']\n",
    "gb_data.drop(['prediction', 'Miles2_Avg'], axis = 1, inplace=True)"
   ]
  },
  {
   "cell_type": "code",
   "execution_count": 81,
   "metadata": {},
   "outputs": [],
   "source": [
    "gb_data.sort_values(by='Event_Date', axis=0, ascending=True, inplace=True)"
   ]
  },
  {
   "cell_type": "code",
   "execution_count": 83,
   "metadata": {},
   "outputs": [],
   "source": [
    "gb_data.reset_index(drop=True, inplace=True)"
   ]
  },
  {
   "cell_type": "code",
   "execution_count": 84,
   "metadata": {},
   "outputs": [
    {
     "name": "stdout",
     "output_type": "stream",
     "text": [
      "<class 'pandas.core.frame.DataFrame'>\n",
      "RangeIndex: 148113 entries, 0 to 148112\n",
      "Data columns (total 9 columns):\n",
      "PersonID                148113 non-null int64\n",
      "EventID                 148113 non-null int64\n",
      "Participated            148113 non-null int64\n",
      "Event_Date              148113 non-null int64\n",
      "series_prediction       148113 non-null float64\n",
      "eventtype_prediction    148113 non-null float64\n",
      "venuezip_prediction     126585 non-null float64\n",
      "fee_prediction          115821 non-null float64\n",
      "miles_prediction        148113 non-null float64\n",
      "dtypes: float64(5), int64(4)\n",
      "memory usage: 10.2 MB\n"
     ]
    }
   ],
   "source": [
    "gb_data.info()"
   ]
  },
  {
   "cell_type": "code",
   "execution_count": 85,
   "metadata": {
    "collapsed": true
   },
   "outputs": [],
   "source": [
    "#need to fill nan values for venue_zip_prediction and fee_prediction\n",
    "gb_data['venuezip_prediction'] = gb_data['venuezip_prediction'].apply(\n",
    "                            lambda x: gb_data['venuezip_prediction'].mean() if pd.isnull(x) else x)\n",
    "#need to fill nan values for venue_zip_prediction and fee_prediction\n",
    "gb_data['fee_prediction'] = gb_data['fee_prediction'].apply(\n",
    "                            lambda x: gb_data['fee_prediction'].mean() if pd.isnull(x) else x)"
   ]
  },
  {
   "cell_type": "code",
   "execution_count": 86,
   "metadata": {},
   "outputs": [
    {
     "name": "stdout",
     "output_type": "stream",
     "text": [
      "<class 'pandas.core.frame.DataFrame'>\n",
      "RangeIndex: 148113 entries, 0 to 148112\n",
      "Data columns (total 9 columns):\n",
      "PersonID                148113 non-null int64\n",
      "EventID                 148113 non-null int64\n",
      "Participated            148113 non-null int64\n",
      "Event_Date              148113 non-null int64\n",
      "series_prediction       148113 non-null float64\n",
      "eventtype_prediction    148113 non-null float64\n",
      "venuezip_prediction     148113 non-null float64\n",
      "fee_prediction          148113 non-null float64\n",
      "miles_prediction        148113 non-null float64\n",
      "dtypes: float64(5), int64(4)\n",
      "memory usage: 10.2 MB\n"
     ]
    }
   ],
   "source": [
    "gb_data.info()"
   ]
  },
  {
   "cell_type": "code",
   "execution_count": 87,
   "metadata": {},
   "outputs": [
    {
     "data": {
      "text/plain": [
       "(118490.40000000001, 29622.600000000002)"
      ]
     },
     "execution_count": 87,
     "metadata": {},
     "output_type": "execute_result"
    }
   ],
   "source": [
    "len(gb_data)*.8, len(gb_data)*.2"
   ]
  },
  {
   "cell_type": "markdown",
   "metadata": {},
   "source": [
    "Split data on first 118491 records for train (sorted by event_date as timestamp) and last 29622 records for test"
   ]
  },
  {
   "cell_type": "code",
   "execution_count": 88,
   "metadata": {},
   "outputs": [],
   "source": [
    "X_gb_train = gb_data[['series_prediction', 'eventtype_prediction', 'venuezip_prediction', 'fee_prediction', \n",
    "                      'miles_prediction']].iloc[:118491].copy()"
   ]
  },
  {
   "cell_type": "code",
   "execution_count": 95,
   "metadata": {
    "collapsed": true
   },
   "outputs": [],
   "source": [
    "y_gb_train = gb_data['Participated'].iloc[:118491].copy()"
   ]
  },
  {
   "cell_type": "code",
   "execution_count": 96,
   "metadata": {},
   "outputs": [
    {
     "data": {
      "text/plain": [
       "(118491, 118491)"
      ]
     },
     "execution_count": 96,
     "metadata": {},
     "output_type": "execute_result"
    }
   ],
   "source": [
    "len(X_gb_train), len(y_gb_train)"
   ]
  },
  {
   "cell_type": "code",
   "execution_count": 97,
   "metadata": {
    "collapsed": true
   },
   "outputs": [],
   "source": [
    "X_gb_test = gb_data[['series_prediction', 'eventtype_prediction', 'venuezip_prediction', 'fee_prediction', \n",
    "                      'miles_prediction']].iloc[118491:].copy()"
   ]
  },
  {
   "cell_type": "code",
   "execution_count": 98,
   "metadata": {
    "collapsed": true
   },
   "outputs": [],
   "source": [
    "y_gb_test = gb_data['Participated'].iloc[118491:].copy()"
   ]
  },
  {
   "cell_type": "code",
   "execution_count": 99,
   "metadata": {},
   "outputs": [
    {
     "data": {
      "text/plain": [
       "(29622, 29622)"
      ]
     },
     "execution_count": 99,
     "metadata": {},
     "output_type": "execute_result"
    }
   ],
   "source": [
    "len(X_gb_test), len(y_gb_test)"
   ]
  },
  {
   "cell_type": "code",
   "execution_count": 100,
   "metadata": {
    "collapsed": true
   },
   "outputs": [],
   "source": [
    "with open('25OCT17_repeatablefeaturesrun/gb_data.pkl', 'w') as f:\n",
    "    pickle.dump(gb_data, f)"
   ]
  },
  {
   "cell_type": "markdown",
   "metadata": {},
   "source": [
    "## Train Gradient Boosted Regressor out of the box using prepared data"
   ]
  },
  {
   "cell_type": "code",
   "execution_count": 101,
   "metadata": {
    "collapsed": true
   },
   "outputs": [],
   "source": [
    "from sklearn.ensemble import GradientBoostingRegressor"
   ]
  },
  {
   "cell_type": "code",
   "execution_count": 102,
   "metadata": {
    "collapsed": true
   },
   "outputs": [],
   "source": [
    "gb_model = GradientBoostingRegressor()"
   ]
  },
  {
   "cell_type": "code",
   "execution_count": 103,
   "metadata": {},
   "outputs": [
    {
     "data": {
      "text/plain": [
       "GradientBoostingRegressor(alpha=0.9, criterion='friedman_mse', init=None,\n",
       "             learning_rate=0.1, loss='ls', max_depth=3, max_features=None,\n",
       "             max_leaf_nodes=None, min_impurity_decrease=0.0,\n",
       "             min_impurity_split=None, min_samples_leaf=1,\n",
       "             min_samples_split=2, min_weight_fraction_leaf=0.0,\n",
       "             n_estimators=100, presort='auto', random_state=None,\n",
       "             subsample=1.0, verbose=0, warm_start=False)"
      ]
     },
     "execution_count": 103,
     "metadata": {},
     "output_type": "execute_result"
    }
   ],
   "source": [
    "gb_model.fit(X_gb_train, y_gb_train)"
   ]
  },
  {
   "cell_type": "code",
   "execution_count": 108,
   "metadata": {},
   "outputs": [
    {
     "data": {
      "text/plain": [
       "0.028653648841104103"
      ]
     },
     "execution_count": 108,
     "metadata": {},
     "output_type": "execute_result"
    }
   ],
   "source": [
    "gb_model.score(X_gb_test, y_gb_test) #this uses r^2 for scoring....not helpful in my situation"
   ]
  },
  {
   "cell_type": "code",
   "execution_count": 109,
   "metadata": {
    "collapsed": true
   },
   "outputs": [],
   "source": [
    "import rank_eval"
   ]
  },
  {
   "cell_type": "markdown",
   "metadata": {},
   "source": [
    "The df needs to include columns for user, item, actual outcome, and predicted outcome\n",
    "    user, item, actual, prediction - strings indicating the name of each column in\n",
    "    the predictions file for use in the function"
   ]
  },
  {
   "cell_type": "code",
   "execution_count": 110,
   "metadata": {
    "collapsed": true
   },
   "outputs": [],
   "source": [
    "gb_predictions = gb_model.predict(X_gb_test)"
   ]
  },
  {
   "cell_type": "code",
   "execution_count": 121,
   "metadata": {},
   "outputs": [
    {
     "data": {
      "text/html": [
       "<div>\n",
       "<style>\n",
       "    .dataframe thead tr:only-child th {\n",
       "        text-align: right;\n",
       "    }\n",
       "\n",
       "    .dataframe thead th {\n",
       "        text-align: left;\n",
       "    }\n",
       "\n",
       "    .dataframe tbody tr th {\n",
       "        vertical-align: top;\n",
       "    }\n",
       "</style>\n",
       "<table border=\"1\" class=\"dataframe\">\n",
       "  <thead>\n",
       "    <tr style=\"text-align: right;\">\n",
       "      <th></th>\n",
       "      <th>PersonID</th>\n",
       "      <th>EventID</th>\n",
       "      <th>Participated</th>\n",
       "      <th>Event_Date</th>\n",
       "      <th>series_prediction</th>\n",
       "      <th>eventtype_prediction</th>\n",
       "      <th>venuezip_prediction</th>\n",
       "      <th>fee_prediction</th>\n",
       "      <th>miles_prediction</th>\n",
       "    </tr>\n",
       "  </thead>\n",
       "  <tbody>\n",
       "    <tr>\n",
       "      <th>148108</th>\n",
       "      <td>3740</td>\n",
       "      <td>67</td>\n",
       "      <td>0</td>\n",
       "      <td>1486252800000000000</td>\n",
       "      <td>0.963359</td>\n",
       "      <td>0.994047</td>\n",
       "      <td>0.147309</td>\n",
       "      <td>0.639008</td>\n",
       "      <td>0.740542</td>\n",
       "    </tr>\n",
       "    <tr>\n",
       "      <th>148109</th>\n",
       "      <td>7650</td>\n",
       "      <td>67</td>\n",
       "      <td>0</td>\n",
       "      <td>1486252800000000000</td>\n",
       "      <td>0.000000</td>\n",
       "      <td>0.000000</td>\n",
       "      <td>0.000000</td>\n",
       "      <td>0.000000</td>\n",
       "      <td>0.000000</td>\n",
       "    </tr>\n",
       "    <tr>\n",
       "      <th>148110</th>\n",
       "      <td>458</td>\n",
       "      <td>67</td>\n",
       "      <td>0</td>\n",
       "      <td>1486252800000000000</td>\n",
       "      <td>0.228323</td>\n",
       "      <td>0.994047</td>\n",
       "      <td>0.147309</td>\n",
       "      <td>0.147810</td>\n",
       "      <td>0.740542</td>\n",
       "    </tr>\n",
       "    <tr>\n",
       "      <th>148111</th>\n",
       "      <td>7643</td>\n",
       "      <td>67</td>\n",
       "      <td>0</td>\n",
       "      <td>1486252800000000000</td>\n",
       "      <td>0.000000</td>\n",
       "      <td>0.000000</td>\n",
       "      <td>0.000000</td>\n",
       "      <td>0.000000</td>\n",
       "      <td>0.000000</td>\n",
       "    </tr>\n",
       "    <tr>\n",
       "      <th>148112</th>\n",
       "      <td>4695</td>\n",
       "      <td>67</td>\n",
       "      <td>0</td>\n",
       "      <td>1486252800000000000</td>\n",
       "      <td>0.215541</td>\n",
       "      <td>0.017411</td>\n",
       "      <td>0.000000</td>\n",
       "      <td>0.336714</td>\n",
       "      <td>0.227744</td>\n",
       "    </tr>\n",
       "  </tbody>\n",
       "</table>\n",
       "</div>"
      ],
      "text/plain": [
       "        PersonID  EventID  Participated           Event_Date  \\\n",
       "148108      3740       67             0  1486252800000000000   \n",
       "148109      7650       67             0  1486252800000000000   \n",
       "148110       458       67             0  1486252800000000000   \n",
       "148111      7643       67             0  1486252800000000000   \n",
       "148112      4695       67             0  1486252800000000000   \n",
       "\n",
       "        series_prediction  eventtype_prediction  venuezip_prediction  \\\n",
       "148108           0.963359              0.994047             0.147309   \n",
       "148109           0.000000              0.000000             0.000000   \n",
       "148110           0.228323              0.994047             0.147309   \n",
       "148111           0.000000              0.000000             0.000000   \n",
       "148112           0.215541              0.017411             0.000000   \n",
       "\n",
       "        fee_prediction  miles_prediction  \n",
       "148108        0.639008          0.740542  \n",
       "148109        0.000000          0.000000  \n",
       "148110        0.147810          0.740542  \n",
       "148111        0.000000          0.000000  \n",
       "148112        0.336714          0.227744  "
      ]
     },
     "execution_count": 121,
     "metadata": {},
     "output_type": "execute_result"
    }
   ],
   "source": [
    "gb_data.tail()"
   ]
  },
  {
   "cell_type": "code",
   "execution_count": 122,
   "metadata": {},
   "outputs": [
    {
     "data": {
      "text/html": [
       "<div>\n",
       "<style>\n",
       "    .dataframe thead tr:only-child th {\n",
       "        text-align: right;\n",
       "    }\n",
       "\n",
       "    .dataframe thead th {\n",
       "        text-align: left;\n",
       "    }\n",
       "\n",
       "    .dataframe tbody tr th {\n",
       "        vertical-align: top;\n",
       "    }\n",
       "</style>\n",
       "<table border=\"1\" class=\"dataframe\">\n",
       "  <thead>\n",
       "    <tr style=\"text-align: right;\">\n",
       "      <th></th>\n",
       "      <th>series_prediction</th>\n",
       "      <th>eventtype_prediction</th>\n",
       "      <th>venuezip_prediction</th>\n",
       "      <th>fee_prediction</th>\n",
       "      <th>miles_prediction</th>\n",
       "    </tr>\n",
       "  </thead>\n",
       "  <tbody>\n",
       "    <tr>\n",
       "      <th>148108</th>\n",
       "      <td>0.963359</td>\n",
       "      <td>0.994047</td>\n",
       "      <td>0.147309</td>\n",
       "      <td>0.639008</td>\n",
       "      <td>0.740542</td>\n",
       "    </tr>\n",
       "    <tr>\n",
       "      <th>148109</th>\n",
       "      <td>0.000000</td>\n",
       "      <td>0.000000</td>\n",
       "      <td>0.000000</td>\n",
       "      <td>0.000000</td>\n",
       "      <td>0.000000</td>\n",
       "    </tr>\n",
       "    <tr>\n",
       "      <th>148110</th>\n",
       "      <td>0.228323</td>\n",
       "      <td>0.994047</td>\n",
       "      <td>0.147309</td>\n",
       "      <td>0.147810</td>\n",
       "      <td>0.740542</td>\n",
       "    </tr>\n",
       "    <tr>\n",
       "      <th>148111</th>\n",
       "      <td>0.000000</td>\n",
       "      <td>0.000000</td>\n",
       "      <td>0.000000</td>\n",
       "      <td>0.000000</td>\n",
       "      <td>0.000000</td>\n",
       "    </tr>\n",
       "    <tr>\n",
       "      <th>148112</th>\n",
       "      <td>0.215541</td>\n",
       "      <td>0.017411</td>\n",
       "      <td>0.000000</td>\n",
       "      <td>0.336714</td>\n",
       "      <td>0.227744</td>\n",
       "    </tr>\n",
       "  </tbody>\n",
       "</table>\n",
       "</div>"
      ],
      "text/plain": [
       "        series_prediction  eventtype_prediction  venuezip_prediction  \\\n",
       "148108           0.963359              0.994047             0.147309   \n",
       "148109           0.000000              0.000000             0.000000   \n",
       "148110           0.228323              0.994047             0.147309   \n",
       "148111           0.000000              0.000000             0.000000   \n",
       "148112           0.215541              0.017411             0.000000   \n",
       "\n",
       "        fee_prediction  miles_prediction  \n",
       "148108        0.639008          0.740542  \n",
       "148109        0.000000          0.000000  \n",
       "148110        0.147810          0.740542  \n",
       "148111        0.000000          0.000000  \n",
       "148112        0.336714          0.227744  "
      ]
     },
     "execution_count": 122,
     "metadata": {},
     "output_type": "execute_result"
    }
   ],
   "source": [
    "X_gb_test.tail()"
   ]
  },
  {
   "cell_type": "code",
   "execution_count": 126,
   "metadata": {},
   "outputs": [],
   "source": [
    "rankeval_testpreds_df = pd.DataFrame({'PersonID': gb_data['PersonID'].iloc[118491:], 'EventID': \n",
    "                                      gb_data['EventID'].iloc[118491:], 'Participated': y_gb_test.values, \n",
    "                                      'prediction': gb_predictions})"
   ]
  },
  {
   "cell_type": "code",
   "execution_count": 137,
   "metadata": {},
   "outputs": [
    {
     "data": {
      "text/html": [
       "<div>\n",
       "<style>\n",
       "    .dataframe thead tr:only-child th {\n",
       "        text-align: right;\n",
       "    }\n",
       "\n",
       "    .dataframe thead th {\n",
       "        text-align: left;\n",
       "    }\n",
       "\n",
       "    .dataframe tbody tr th {\n",
       "        vertical-align: top;\n",
       "    }\n",
       "</style>\n",
       "<table border=\"1\" class=\"dataframe\">\n",
       "  <thead>\n",
       "    <tr style=\"text-align: right;\">\n",
       "      <th></th>\n",
       "      <th>EventID</th>\n",
       "      <th>Participated</th>\n",
       "      <th>PersonID</th>\n",
       "      <th>prediction</th>\n",
       "    </tr>\n",
       "  </thead>\n",
       "  <tbody>\n",
       "    <tr>\n",
       "      <th>118491</th>\n",
       "      <td>64</td>\n",
       "      <td>0</td>\n",
       "      <td>3501</td>\n",
       "      <td>0.004708</td>\n",
       "    </tr>\n",
       "    <tr>\n",
       "      <th>118492</th>\n",
       "      <td>64</td>\n",
       "      <td>0</td>\n",
       "      <td>3499</td>\n",
       "      <td>0.004708</td>\n",
       "    </tr>\n",
       "    <tr>\n",
       "      <th>118493</th>\n",
       "      <td>64</td>\n",
       "      <td>0</td>\n",
       "      <td>3498</td>\n",
       "      <td>0.004708</td>\n",
       "    </tr>\n",
       "    <tr>\n",
       "      <th>118494</th>\n",
       "      <td>64</td>\n",
       "      <td>0</td>\n",
       "      <td>3497</td>\n",
       "      <td>0.004708</td>\n",
       "    </tr>\n",
       "    <tr>\n",
       "      <th>118495</th>\n",
       "      <td>64</td>\n",
       "      <td>0</td>\n",
       "      <td>3514</td>\n",
       "      <td>0.001085</td>\n",
       "    </tr>\n",
       "  </tbody>\n",
       "</table>\n",
       "</div>"
      ],
      "text/plain": [
       "        EventID  Participated  PersonID  prediction\n",
       "118491       64             0      3501    0.004708\n",
       "118492       64             0      3499    0.004708\n",
       "118493       64             0      3498    0.004708\n",
       "118494       64             0      3497    0.004708\n",
       "118495       64             0      3514    0.001085"
      ]
     },
     "execution_count": 137,
     "metadata": {},
     "output_type": "execute_result"
    }
   ],
   "source": [
    "rankeval_testpreds_df.head()"
   ]
  },
  {
   "cell_type": "code",
   "execution_count": 128,
   "metadata": {
    "collapsed": true
   },
   "outputs": [],
   "source": [
    "rank_processing = rank_eval.RankEval(rankeval_testpreds_df, 'PersonID', 'EventID', 'Participated', 'prediction')"
   ]
  },
  {
   "cell_type": "code",
   "execution_count": 129,
   "metadata": {},
   "outputs": [
    {
     "data": {
      "text/plain": [
       "6.7685320254789945"
      ]
     },
     "execution_count": 129,
     "metadata": {},
     "output_type": "execute_result"
    }
   ],
   "source": [
    "rank_processing.calc_test_rank()"
   ]
  },
  {
   "cell_type": "code",
   "execution_count": 130,
   "metadata": {},
   "outputs": [
    {
     "data": {
      "text/plain": [
       "30.009633911368006"
      ]
     },
     "execution_count": 130,
     "metadata": {},
     "output_type": "execute_result"
    }
   ],
   "source": [
    "rank_processing.calc_popular_rank()"
   ]
  },
  {
   "cell_type": "code",
   "execution_count": 131,
   "metadata": {},
   "outputs": [
    {
     "data": {
      "text/plain": [
       "{'alpha': 0.9,\n",
       " 'criterion': 'friedman_mse',\n",
       " 'init': None,\n",
       " 'learning_rate': 0.1,\n",
       " 'loss': 'ls',\n",
       " 'max_depth': 3,\n",
       " 'max_features': None,\n",
       " 'max_leaf_nodes': None,\n",
       " 'min_impurity_decrease': 0.0,\n",
       " 'min_impurity_split': None,\n",
       " 'min_samples_leaf': 1,\n",
       " 'min_samples_split': 2,\n",
       " 'min_weight_fraction_leaf': 0.0,\n",
       " 'n_estimators': 100,\n",
       " 'presort': 'auto',\n",
       " 'random_state': None,\n",
       " 'subsample': 1.0,\n",
       " 'verbose': 0,\n",
       " 'warm_start': False}"
      ]
     },
     "execution_count": 131,
     "metadata": {},
     "output_type": "execute_result"
    }
   ],
   "source": [
    "gb_model.get_params()"
   ]
  },
  {
   "cell_type": "code",
   "execution_count": 134,
   "metadata": {},
   "outputs": [
    {
     "data": {
      "text/plain": [
       "[(0.25867513383145935, 'series_prediction'),\n",
       " (0.24726754109597163, 'eventtype_prediction'),\n",
       " (0.21314398993566183, 'venuezip_prediction'),\n",
       " (0.12372515314074169, 'fee_prediction'),\n",
       " (0.15718818199616572, 'miles_prediction')]"
      ]
     },
     "execution_count": 134,
     "metadata": {},
     "output_type": "execute_result"
    }
   ],
   "source": [
    "zip(gb_model.feature_importances_, X_gb_train.columns.values)"
   ]
  },
  {
   "cell_type": "markdown",
   "metadata": {},
   "source": [
    "## Next Steps:\n",
    "- Alter Code to Support and Rerun Each ALS with Train + Validate Data for Final Fitted Model & Get Predictions on larger dataset; run another test on test data held out previously\n",
    "- Rerun gradient boosted model using train+val larger dataset to train and test set to test\n",
    "- Write code to look at events recommended most often in top 10 recommendations\n",
    "- Write code to look at the users most likely to be interested in a given event (get list of users for which event is listed in their top 10 recommendations)\n",
    "- Make graphs for presentation showing how I fit my ALS models and the value of the rank eval metric"
   ]
  },
  {
   "cell_type": "code",
   "execution_count": null,
   "metadata": {
    "collapsed": true
   },
   "outputs": [],
   "source": []
  }
 ],
 "metadata": {
  "kernelspec": {
   "display_name": "Python 2",
   "language": "python",
   "name": "python2"
  },
  "language_info": {
   "codemirror_mode": {
    "name": "ipython",
    "version": 2
   },
   "file_extension": ".py",
   "mimetype": "text/x-python",
   "name": "python",
   "nbconvert_exporter": "python",
   "pygments_lexer": "ipython2",
   "version": "2.7.13"
  }
 },
 "nbformat": 4,
 "nbformat_minor": 2
}

{
 "cells": [
  {
   "cell_type": "markdown",
   "metadata": {},
   "source": [
    "## Import Functions, Modules"
   ]
  },
  {
   "cell_type": "code",
   "execution_count": 2,
   "metadata": {
    "collapsed": true
   },
   "outputs": [],
   "source": [
    "#import from my modules:\n",
    "import als_model_v2 as am\n",
    "from ensemble_helper_functions import load_files, merge_data\n",
    "import rank_eval"
   ]
  },
  {
   "cell_type": "code",
   "execution_count": 3,
   "metadata": {
    "collapsed": true
   },
   "outputs": [],
   "source": [
    "#import from python modules:\n",
    "import cPickle as pickle\n",
    "import pandas as pd\n",
    "from sklearn.ensemble import GradientBoostingRegressor\n",
    "from collections import defaultdict\n",
    "\n",
    "import matplotlib.pyplot as plt\n",
    "%matplotlib inline"
   ]
  },
  {
   "cell_type": "markdown",
   "metadata": {},
   "source": [
    "## Open cleaned_df"
   ]
  },
  {
   "cell_type": "code",
   "execution_count": 3,
   "metadata": {
    "collapsed": true
   },
   "outputs": [],
   "source": [
    "with open ('30OCT17_finalfitmodelsv2/cleaned_df.pkl', 'rb') as f:\n",
    "    cleaned_data = pickle.load(f)"
   ]
  },
  {
   "cell_type": "code",
   "execution_count": 4,
   "metadata": {},
   "outputs": [
    {
     "data": {
      "text/plain": [
       "array([ 2.,  1.,  3.,  0.,  4.])"
      ]
     },
     "execution_count": 4,
     "metadata": {},
     "output_type": "execute_result"
    }
   ],
   "source": [
    "cleaned_data['SeriesID'].unique()"
   ]
  },
  {
   "cell_type": "markdown",
   "metadata": {},
   "source": [
    "## Instantiate Class Instances for ALS Model, Prep and Run for the Following:\n",
    "\n",
    "#### For each of these features:\n",
    "- SeriesID\n",
    "- EventTypeID\n",
    "- Venue (based on zip code)\n",
    "- Total Average Fee\n",
    "- Average Mileage\n",
    "\n",
    "#### Run best fit model identified from exercise in Pipeline_v2-noTVS notebook on train+validate larger dataset; check rank metric on test set\n",
    "\n",
    "#### Initial Prep:"
   ]
  },
  {
   "cell_type": "code",
   "execution_count": 5,
   "metadata": {
    "collapsed": true
   },
   "outputs": [],
   "source": [
    "als_model = am.implicit_als(cleaned_data, split_val=False)\n",
    "#setting split_val to False results in the split being train/test instead of train/val/test\n",
    "#80% of data is in train and 20% is in test"
   ]
  },
  {
   "cell_type": "code",
   "execution_count": 6,
   "metadata": {
    "collapsed": true
   },
   "outputs": [],
   "source": [
    "als_model.prep_full_df()"
   ]
  },
  {
   "cell_type": "code",
   "execution_count": 7,
   "metadata": {},
   "outputs": [
    {
     "name": "stdout",
     "output_type": "stream",
     "text": [
      "<class 'pandas.core.frame.DataFrame'>\n",
      "RangeIndex: 925704 entries, 0 to 925703\n",
      "Data columns (total 9 columns):\n",
      "PersonID         925704 non-null int64\n",
      "EventID          925704 non-null int64\n",
      "Participated     925704 non-null int64\n",
      "Event_Date       925704 non-null datetime64[ns]\n",
      "SeriesID         925704 non-null float64\n",
      "EventTypeID      925704 non-null int64\n",
      "Total_Fee_Avg    925704 non-null int64\n",
      "Miles2_Avg       925704 non-null int64\n",
      "Venue_Zip        925704 non-null int64\n",
      "dtypes: datetime64[ns](1), float64(1), int64(7)\n",
      "memory usage: 63.6 MB\n"
     ]
    }
   ],
   "source": [
    "als_model.full_df.info()"
   ]
  },
  {
   "cell_type": "code",
   "execution_count": 8,
   "metadata": {},
   "outputs": [
    {
     "name": "stdout",
     "output_type": "stream",
     "text": [
      "TrainVal Size: 740562.0\n",
      "Train Size: 592449.0\n",
      "Validation Size: 148113.0\n",
      "Test Size: 185142.0\n"
     ]
    }
   ],
   "source": [
    "als_model.train_val_test_split_byseries()"
   ]
  },
  {
   "cell_type": "markdown",
   "metadata": {},
   "source": [
    "## SeriesID"
   ]
  },
  {
   "cell_type": "code",
   "execution_count": 9,
   "metadata": {},
   "outputs": [
    {
     "name": "stdout",
     "output_type": "stream",
     "text": [
      "participants in train: 10764\n",
      "participants in validate: 10764\n",
      "participants in test: 10764\n",
      "\n",
      "\n",
      "participants in both train & validate: 10764\n",
      "participants in both train & test: 10764\n",
      "\n",
      "\n",
      "SeriesID in train: 5\n",
      "SeriesID in validate: 5\n",
      "SeriesID in test: 5\n",
      "\n",
      "\n",
      "SeriesID in both train & validate: 5\n",
      "SeriesID in both train & test: 5\n"
     ]
    }
   ],
   "source": [
    "als_model.print_train_val_test_info(\"SeriesID\")"
   ]
  },
  {
   "cell_type": "code",
   "execution_count": 10,
   "metadata": {
    "collapsed": true
   },
   "outputs": [],
   "source": [
    "als_model.create_participate_matrices(\"SeriesID\")"
   ]
  },
  {
   "cell_type": "code",
   "execution_count": 11,
   "metadata": {
    "collapsed": true
   },
   "outputs": [],
   "source": [
    "als_model.fit_ALS(itemCol=\"SeriesID\", rank=5, alpha=80, coldStartStrategy=\"drop\")"
   ]
  },
  {
   "cell_type": "code",
   "execution_count": 12,
   "metadata": {},
   "outputs": [
    {
     "name": "stdout",
     "output_type": "stream",
     "text": [
      "Trainval predictions includes 740562 valid values and 0 nan values\n",
      "Test predictions includes 185142 valid values and 0 nan values\n",
      "Trainval Model Rank = 4.58523682184 and Popular Rank = 24.4891391794\n",
      "Test Model Rank = 6.60411776394 and Popular Rank = 27.4009077156\n"
     ]
    }
   ],
   "source": [
    "trainval_predictions, trainval_rank, trainval_pop_rank, test_predictions, test_rank, test_pop_rank = als_model.predict_ALS(\n",
    "    als_model.base_model, \"SeriesID\")"
   ]
  },
  {
   "cell_type": "code",
   "execution_count": 13,
   "metadata": {
    "collapsed": true
   },
   "outputs": [],
   "source": [
    "als_fit_model_series = als_model.base_model\n",
    "als_trainvalpreds_pd_series = trainval_predictions\n",
    "als_testpreds_pd_series = test_predictions\n",
    "\n",
    "als_fit_model_series.save(\"30OCT17_finalfitmodelsv2/als_fit_model_series\")\n",
    "\n",
    "with open (\"30OCT17_finalfitmodelsv2/als_trainvalpreds_pd_series.pkl\", 'w') as f:\n",
    "    pickle.dump(als_trainvalpreds_pd_series, f)\n",
    "with open ('30OCT17_finalfitmodelsv2/als_testpreds_pd_series.pkl', 'w') as f:\n",
    "    pickle.dump(als_testpreds_pd_series, f)"
   ]
  },
  {
   "cell_type": "code",
   "execution_count": 14,
   "metadata": {
    "collapsed": true
   },
   "outputs": [],
   "source": [
    "#these only need to be saved once today:\n",
    "als_trainval_df_pd = als_model.trainval\n",
    "als_test_df_pd = als_model.test"
   ]
  },
  {
   "cell_type": "code",
   "execution_count": 15,
   "metadata": {
    "collapsed": true
   },
   "outputs": [],
   "source": [
    "with open (\"30OCT17_finalfitmodelsv2/als_trainval_df_pd.pkl\", 'w') as f:\n",
    "    pickle.dump(als_trainval_df_pd, f)\n",
    "    \n",
    "with open (\"30OCT17_finalfitmodelsv2/als_test_df_pd.pkl\", 'w') as f:\n",
    "    pickle.dump(als_test_df_pd, f)"
   ]
  },
  {
   "cell_type": "markdown",
   "metadata": {},
   "source": [
    "## EventTypeID"
   ]
  },
  {
   "cell_type": "code",
   "execution_count": 16,
   "metadata": {
    "scrolled": true
   },
   "outputs": [
    {
     "name": "stdout",
     "output_type": "stream",
     "text": [
      "participants in train: 10764\n",
      "participants in validate: 10764\n",
      "participants in test: 10764\n",
      "\n",
      "\n",
      "participants in both train & validate: 10764\n",
      "participants in both train & test: 10764\n",
      "\n",
      "\n",
      "EventTypeID in train: 2\n",
      "EventTypeID in validate: 2\n",
      "EventTypeID in test: 2\n",
      "\n",
      "\n",
      "EventTypeID in both train & validate: 2\n",
      "EventTypeID in both train & test: 2\n"
     ]
    }
   ],
   "source": [
    "als_model.print_train_val_test_info(\"EventTypeID\")"
   ]
  },
  {
   "cell_type": "code",
   "execution_count": 17,
   "metadata": {
    "collapsed": true
   },
   "outputs": [],
   "source": [
    "als_model.create_participate_matrices(\"EventTypeID\")"
   ]
  },
  {
   "cell_type": "code",
   "execution_count": 18,
   "metadata": {
    "collapsed": true
   },
   "outputs": [],
   "source": [
    "als_model.fit_ALS(itemCol=\"EventTypeID\", rank=30, alpha=80, coldStartStrategy=\"drop\")"
   ]
  },
  {
   "cell_type": "code",
   "execution_count": 19,
   "metadata": {},
   "outputs": [
    {
     "name": "stdout",
     "output_type": "stream",
     "text": [
      "Trainval predictions includes 740562 valid values and 0 nan values\n",
      "Test predictions includes 185142 valid values and 0 nan values\n",
      "Trainval Model Rank = 0.00611124690217 and Popular Rank = 6.39215973086\n",
      "Test Model Rank = 0.445481959023 and Popular Rank = 8.15431164902\n"
     ]
    }
   ],
   "source": [
    "trainval_predictions, trainval_rank, trainval_pop_rank, test_predictions, test_rank, test_pop_rank = als_model.predict_ALS(\n",
    "    als_model.base_model, \"EventTypeID\")"
   ]
  },
  {
   "cell_type": "code",
   "execution_count": 20,
   "metadata": {
    "collapsed": true
   },
   "outputs": [],
   "source": [
    "als_fit_model_eventtype = als_model.base_model\n",
    "als_trainvalpreds_pd_eventtype = trainval_predictions\n",
    "als_testpreds_pd_eventtype = test_predictions\n",
    "\n",
    "als_fit_model_eventtype.save(\"30OCT17_finalfitmodelsv2/als_fit_model_eventtype\")\n",
    "\n",
    "with open (\"30OCT17_finalfitmodelsv2/als_trainvalpreds_pd_eventtype.pkl\", 'w') as f:\n",
    "    pickle.dump(als_trainvalpreds_pd_eventtype, f)\n",
    "with open (\"30OCT17_finalfitmodelsv2/als_testpreds_pd_eventtype.pkl\", 'w') as f:\n",
    "    pickle.dump(als_testpreds_pd_eventtype, f)"
   ]
  },
  {
   "cell_type": "markdown",
   "metadata": {},
   "source": [
    "## Venue (Based on Zipcode)"
   ]
  },
  {
   "cell_type": "code",
   "execution_count": 21,
   "metadata": {
    "scrolled": true
   },
   "outputs": [
    {
     "name": "stdout",
     "output_type": "stream",
     "text": [
      "participants in train: 10764\n",
      "participants in validate: 10764\n",
      "participants in test: 10764\n",
      "\n",
      "\n",
      "participants in both train & validate: 10764\n",
      "participants in both train & test: 10764\n",
      "\n",
      "\n",
      "Venue_Zip in train: 22\n",
      "Venue_Zip in validate: 16\n",
      "Venue_Zip in test: 16\n",
      "\n",
      "\n",
      "Venue_Zip in both train & validate: 14\n",
      "Venue_Zip in both train & test: 14\n"
     ]
    }
   ],
   "source": [
    "als_model.print_train_val_test_info(\"Venue_Zip\")"
   ]
  },
  {
   "cell_type": "code",
   "execution_count": 22,
   "metadata": {
    "collapsed": true
   },
   "outputs": [],
   "source": [
    "als_model.create_participate_matrices(\"Venue_Zip\")"
   ]
  },
  {
   "cell_type": "code",
   "execution_count": 23,
   "metadata": {
    "collapsed": true
   },
   "outputs": [],
   "source": [
    "als_model.fit_ALS(itemCol=\"Venue_Zip\", rank=5, alpha=80, coldStartStrategy=\"drop\")"
   ]
  },
  {
   "cell_type": "code",
   "execution_count": 25,
   "metadata": {},
   "outputs": [
    {
     "name": "stdout",
     "output_type": "stream",
     "text": [
      "Trainval predictions includes 740562 valid values and 0 nan values\n",
      "Test predictions includes 174378 valid values and 0 nan values\n",
      "Trainval Model Rank = 5.77703983701 and Popular Rank = 24.4243521295\n",
      "Test Model Rank = 18.2570043929 and Popular Rank = 29.3631562597\n"
     ]
    }
   ],
   "source": [
    "trainval_predictions, trainval_rank, trainval_pop_rank, test_predictions, test_rank, test_pop_rank = als_model.predict_ALS(\n",
    "    als_model.base_model, \"Venue_Zip\")"
   ]
  },
  {
   "cell_type": "code",
   "execution_count": 26,
   "metadata": {
    "collapsed": true
   },
   "outputs": [],
   "source": [
    "als_fit_model_zipcode = als_model.base_model\n",
    "als_trainvalpreds_pd_zipcode = trainval_predictions\n",
    "als_testpreds_pd_zipcode = test_predictions\n",
    "\n",
    "als_fit_model_zipcode.save(\"30OCT17_finalfitmodelsv2/als_fit_model_zipcode\")\n",
    "\n",
    "with open (\"30OCT17_finalfitmodelsv2/als_trainvalpreds_pd_zipcode.pkl\", 'w') as f:\n",
    "    pickle.dump(als_trainvalpreds_pd_zipcode, f)\n",
    "with open (\"30OCT17_finalfitmodelsv2/als_testpreds_pd_zipcode.pkl\", 'w') as f:\n",
    "    pickle.dump(als_testpreds_pd_zipcode, f)"
   ]
  },
  {
   "cell_type": "markdown",
   "metadata": {},
   "source": [
    "## Total Average Fee"
   ]
  },
  {
   "cell_type": "code",
   "execution_count": 27,
   "metadata": {
    "scrolled": true
   },
   "outputs": [
    {
     "name": "stdout",
     "output_type": "stream",
     "text": [
      "participants in train: 10764\n",
      "participants in validate: 10764\n",
      "participants in test: 10764\n",
      "\n",
      "\n",
      "participants in both train & validate: 10764\n",
      "participants in both train & test: 10764\n",
      "\n",
      "\n",
      "Total_Fee_Avg in train: 21\n",
      "Total_Fee_Avg in validate: 11\n",
      "Total_Fee_Avg in test: 12\n",
      "\n",
      "\n",
      "Total_Fee_Avg in both train & validate: 9\n",
      "Total_Fee_Avg in both train & test: 8\n"
     ]
    }
   ],
   "source": [
    "als_model.print_train_val_test_info(\"Total_Fee_Avg\")"
   ]
  },
  {
   "cell_type": "code",
   "execution_count": 28,
   "metadata": {
    "collapsed": true
   },
   "outputs": [],
   "source": [
    "als_model.create_participate_matrices(\"Total_Fee_Avg\")"
   ]
  },
  {
   "cell_type": "code",
   "execution_count": 29,
   "metadata": {
    "collapsed": true
   },
   "outputs": [],
   "source": [
    "als_model.fit_ALS(itemCol=\"Total_Fee_Avg\", rank=5, alpha=80, coldStartStrategy=\"drop\")"
   ]
  },
  {
   "cell_type": "code",
   "execution_count": 30,
   "metadata": {},
   "outputs": [
    {
     "name": "stdout",
     "output_type": "stream",
     "text": [
      "Trainval predictions includes 740562 valid values and 0 nan values\n",
      "Test predictions includes 152850 valid values and 0 nan values\n",
      "Trainval Model Rank = 6.80604340348 and Popular Rank = 27.7646520117\n",
      "Test Model Rank = 15.5240758319 and Popular Rank = 26.0542106352\n"
     ]
    }
   ],
   "source": [
    "trainval_predictions, trainval_rank, trainval_pop_rank, test_predictions, test_rank, test_pop_rank = als_model.predict_ALS(\n",
    "    als_model.base_model, \"Total_Fee_Avg\")"
   ]
  },
  {
   "cell_type": "code",
   "execution_count": 31,
   "metadata": {
    "collapsed": true
   },
   "outputs": [],
   "source": [
    "als_fit_model_avgfee = als_model.base_model\n",
    "als_trainvalpreds_pd_avgfee = trainval_predictions\n",
    "als_testpreds_pd_avgfee = test_predictions\n",
    "\n",
    "als_fit_model_avgfee.save(\"30OCT17_finalfitmodelsv2/als_fit_model_avgfee\")\n",
    "\n",
    "with open (\"30OCT17_finalfitmodelsv2/als_trainvalpreds_pd_avgfee.pkl\", 'w') as f:\n",
    "    pickle.dump(als_trainvalpreds_pd_avgfee, f)\n",
    "\n",
    "with open (\"30OCT17_finalfitmodelsv2/als_testpreds_pd_avgfee.pkl\", 'w') as f:\n",
    "    pickle.dump(als_testpreds_pd_avgfee, f)"
   ]
  },
  {
   "cell_type": "markdown",
   "metadata": {},
   "source": [
    "## Average Mileage"
   ]
  },
  {
   "cell_type": "code",
   "execution_count": 32,
   "metadata": {
    "scrolled": true
   },
   "outputs": [
    {
     "name": "stdout",
     "output_type": "stream",
     "text": [
      "participants in train: 10764\n",
      "participants in validate: 10764\n",
      "participants in test: 10764\n",
      "\n",
      "\n",
      "participants in both train & validate: 10764\n",
      "participants in both train & test: 10764\n",
      "\n",
      "\n",
      "Miles2_Avg in train: 11\n",
      "Miles2_Avg in validate: 7\n",
      "Miles2_Avg in test: 10\n",
      "\n",
      "\n",
      "Miles2_Avg in both train & validate: 5\n",
      "Miles2_Avg in both train & test: 8\n"
     ]
    }
   ],
   "source": [
    "als_model.print_train_val_test_info(\"Miles2_Avg\")"
   ]
  },
  {
   "cell_type": "code",
   "execution_count": 33,
   "metadata": {
    "collapsed": true
   },
   "outputs": [],
   "source": [
    "als_model.create_participate_matrices(\"Miles2_Avg\")"
   ]
  },
  {
   "cell_type": "code",
   "execution_count": 34,
   "metadata": {
    "collapsed": true
   },
   "outputs": [],
   "source": [
    "als_model.fit_ALS(itemCol=\"Miles2_Avg\", rank=5, alpha=80, coldStartStrategy=\"drop\")"
   ]
  },
  {
   "cell_type": "code",
   "execution_count": 35,
   "metadata": {},
   "outputs": [
    {
     "name": "stdout",
     "output_type": "stream",
     "text": [
      "Trainval predictions includes 740562 valid values and 0 nan values\n",
      "Test predictions includes 174378 valid values and 0 nan values\n",
      "Trainval Model Rank = 3.45770768142 and Popular Rank = 24.0518934002\n",
      "Test Model Rank = 14.0993853022 and Popular Rank = 22.8537346946\n"
     ]
    }
   ],
   "source": [
    "trainval_predictions, trainval_rank, trainval_pop_rank, test_predictions, test_rank, test_pop_rank = als_model.predict_ALS(\n",
    "    als_model.base_model, \"Miles2_Avg\")"
   ]
  },
  {
   "cell_type": "code",
   "execution_count": 36,
   "metadata": {
    "collapsed": true
   },
   "outputs": [],
   "source": [
    "als_fit_model_avgmile = als_model.base_model\n",
    "als_trainvalpreds_pd_avgmile = trainval_predictions\n",
    "als_testpreds_pd_avgmile = test_predictions\n",
    "\n",
    "als_fit_model_avgmile.save(\"30OCT17_finalfitmodelsv2/als_fit_model_avgmile\")\n",
    "\n",
    "with open (\"30OCT17_finalfitmodelsv2/als_trainvalpreds_pd_avgmile.pkl\", 'w') as f:\n",
    "    pickle.dump(als_trainvalpreds_pd_avgmile, f)\n",
    "with open (\"30OCT17_finalfitmodelsv2/als_testpreds_pd_avgmile.pkl\", 'w') as f:\n",
    "    pickle.dump(als_testpreds_pd_avgmile, f)"
   ]
  },
  {
   "cell_type": "markdown",
   "metadata": {},
   "source": [
    "## Build Gradient Boost Ensemble Using ALS Models Predictions as Inputs to Determine Weights for Each"
   ]
  },
  {
   "cell_type": "markdown",
   "metadata": {},
   "source": [
    "#### Build X, y Train Matrices for GB Model; Split between Train and Validate"
   ]
  },
  {
   "cell_type": "code",
   "execution_count": 37,
   "metadata": {
    "collapsed": true
   },
   "outputs": [],
   "source": [
    "data_df = load_files('30OCT17_finalfitmodelsv2/als_trainval_df_pd.pkl')\n",
    "fee_preds = load_files('30OCT17_finalfitmodelsv2/als_trainvalpreds_pd_avgfee.pkl')\n",
    "mile_preds = load_files('30OCT17_finalfitmodelsv2/als_trainvalpreds_pd_avgmile.pkl')\n",
    "type_preds = load_files('30OCT17_finalfitmodelsv2/als_trainvalpreds_pd_eventtype.pkl')\n",
    "series_preds = load_files('30OCT17_finalfitmodelsv2/als_trainvalpreds_pd_series.pkl')\n",
    "zipcode_preds = load_files('30OCT17_finalfitmodelsv2/als_trainvalpreds_pd_zipcode.pkl')"
   ]
  },
  {
   "cell_type": "code",
   "execution_count": 38,
   "metadata": {
    "collapsed": true
   },
   "outputs": [],
   "source": [
    "data_df['Event_Date'] = data_df['Event_Date'].astype('int64')//1e9"
   ]
  },
  {
   "cell_type": "code",
   "execution_count": 39,
   "metadata": {
    "collapsed": true
   },
   "outputs": [],
   "source": [
    "data_df['Event_Date'] = data_df['Event_Date'] * 1000000000"
   ]
  },
  {
   "cell_type": "code",
   "execution_count": 40,
   "metadata": {},
   "outputs": [
    {
     "data": {
      "text/html": [
       "<div>\n",
       "<style>\n",
       "    .dataframe thead tr:only-child th {\n",
       "        text-align: right;\n",
       "    }\n",
       "\n",
       "    .dataframe thead th {\n",
       "        text-align: left;\n",
       "    }\n",
       "\n",
       "    .dataframe tbody tr th {\n",
       "        vertical-align: top;\n",
       "    }\n",
       "</style>\n",
       "<table border=\"1\" class=\"dataframe\">\n",
       "  <thead>\n",
       "    <tr style=\"text-align: right;\">\n",
       "      <th></th>\n",
       "      <th>PersonID</th>\n",
       "      <th>EventID</th>\n",
       "      <th>Participated</th>\n",
       "      <th>Event_Date</th>\n",
       "      <th>SeriesID</th>\n",
       "      <th>EventTypeID</th>\n",
       "      <th>Total_Fee_Avg</th>\n",
       "      <th>Miles2_Avg</th>\n",
       "      <th>Venue_Zip</th>\n",
       "    </tr>\n",
       "  </thead>\n",
       "  <tbody>\n",
       "    <tr>\n",
       "      <th>53820</th>\n",
       "      <td>1</td>\n",
       "      <td>13</td>\n",
       "      <td>0</td>\n",
       "      <td>1426291200000000000</td>\n",
       "      <td>0.0</td>\n",
       "      <td>1</td>\n",
       "      <td>37</td>\n",
       "      <td>8</td>\n",
       "      <td>98038</td>\n",
       "    </tr>\n",
       "    <tr>\n",
       "      <th>60991</th>\n",
       "      <td>7327</td>\n",
       "      <td>13</td>\n",
       "      <td>0</td>\n",
       "      <td>1426291200000000000</td>\n",
       "      <td>0.0</td>\n",
       "      <td>1</td>\n",
       "      <td>37</td>\n",
       "      <td>8</td>\n",
       "      <td>98038</td>\n",
       "    </tr>\n",
       "    <tr>\n",
       "      <th>60992</th>\n",
       "      <td>7328</td>\n",
       "      <td>13</td>\n",
       "      <td>0</td>\n",
       "      <td>1426291200000000000</td>\n",
       "      <td>0.0</td>\n",
       "      <td>1</td>\n",
       "      <td>37</td>\n",
       "      <td>8</td>\n",
       "      <td>98038</td>\n",
       "    </tr>\n",
       "    <tr>\n",
       "      <th>60993</th>\n",
       "      <td>7329</td>\n",
       "      <td>13</td>\n",
       "      <td>0</td>\n",
       "      <td>1426291200000000000</td>\n",
       "      <td>0.0</td>\n",
       "      <td>1</td>\n",
       "      <td>37</td>\n",
       "      <td>8</td>\n",
       "      <td>98038</td>\n",
       "    </tr>\n",
       "    <tr>\n",
       "      <th>60994</th>\n",
       "      <td>7330</td>\n",
       "      <td>13</td>\n",
       "      <td>0</td>\n",
       "      <td>1426291200000000000</td>\n",
       "      <td>0.0</td>\n",
       "      <td>1</td>\n",
       "      <td>37</td>\n",
       "      <td>8</td>\n",
       "      <td>98038</td>\n",
       "    </tr>\n",
       "  </tbody>\n",
       "</table>\n",
       "</div>"
      ],
      "text/plain": [
       "       PersonID  EventID  Participated           Event_Date  SeriesID  \\\n",
       "53820         1       13             0  1426291200000000000       0.0   \n",
       "60991      7327       13             0  1426291200000000000       0.0   \n",
       "60992      7328       13             0  1426291200000000000       0.0   \n",
       "60993      7329       13             0  1426291200000000000       0.0   \n",
       "60994      7330       13             0  1426291200000000000       0.0   \n",
       "\n",
       "       EventTypeID  Total_Fee_Avg  Miles2_Avg  Venue_Zip  \n",
       "53820            1             37           8      98038  \n",
       "60991            1             37           8      98038  \n",
       "60992            1             37           8      98038  \n",
       "60993            1             37           8      98038  \n",
       "60994            1             37           8      98038  "
      ]
     },
     "execution_count": 40,
     "metadata": {},
     "output_type": "execute_result"
    }
   ],
   "source": [
    "data_df.head()"
   ]
  },
  {
   "cell_type": "code",
   "execution_count": 41,
   "metadata": {},
   "outputs": [
    {
     "data": {
      "text/html": [
       "<div>\n",
       "<style>\n",
       "    .dataframe thead tr:only-child th {\n",
       "        text-align: right;\n",
       "    }\n",
       "\n",
       "    .dataframe thead th {\n",
       "        text-align: left;\n",
       "    }\n",
       "\n",
       "    .dataframe tbody tr th {\n",
       "        vertical-align: top;\n",
       "    }\n",
       "</style>\n",
       "<table border=\"1\" class=\"dataframe\">\n",
       "  <thead>\n",
       "    <tr style=\"text-align: right;\">\n",
       "      <th></th>\n",
       "      <th>PersonID</th>\n",
       "      <th>SeriesID</th>\n",
       "      <th>Participated</th>\n",
       "      <th>Event_Date</th>\n",
       "      <th>prediction</th>\n",
       "    </tr>\n",
       "  </thead>\n",
       "  <tbody>\n",
       "    <tr>\n",
       "      <th>0</th>\n",
       "      <td>148</td>\n",
       "      <td>1.0</td>\n",
       "      <td>0</td>\n",
       "      <td>1420329600000000000</td>\n",
       "      <td>0.998855</td>\n",
       "    </tr>\n",
       "    <tr>\n",
       "      <th>1</th>\n",
       "      <td>148</td>\n",
       "      <td>1.0</td>\n",
       "      <td>0</td>\n",
       "      <td>1422057600000000000</td>\n",
       "      <td>0.998855</td>\n",
       "    </tr>\n",
       "    <tr>\n",
       "      <th>2</th>\n",
       "      <td>148</td>\n",
       "      <td>1.0</td>\n",
       "      <td>0</td>\n",
       "      <td>1423267200000000000</td>\n",
       "      <td>0.998855</td>\n",
       "    </tr>\n",
       "    <tr>\n",
       "      <th>3</th>\n",
       "      <td>148</td>\n",
       "      <td>1.0</td>\n",
       "      <td>1</td>\n",
       "      <td>1446854400000000000</td>\n",
       "      <td>0.998855</td>\n",
       "    </tr>\n",
       "    <tr>\n",
       "      <th>4</th>\n",
       "      <td>148</td>\n",
       "      <td>1.0</td>\n",
       "      <td>1</td>\n",
       "      <td>1448064000000000000</td>\n",
       "      <td>0.998855</td>\n",
       "    </tr>\n",
       "  </tbody>\n",
       "</table>\n",
       "</div>"
      ],
      "text/plain": [
       "   PersonID  SeriesID  Participated           Event_Date  prediction\n",
       "0       148       1.0             0  1420329600000000000    0.998855\n",
       "1       148       1.0             0  1422057600000000000    0.998855\n",
       "2       148       1.0             0  1423267200000000000    0.998855\n",
       "3       148       1.0             1  1446854400000000000    0.998855\n",
       "4       148       1.0             1  1448064000000000000    0.998855"
      ]
     },
     "execution_count": 41,
     "metadata": {},
     "output_type": "execute_result"
    }
   ],
   "source": [
    "series_preds.head()"
   ]
  },
  {
   "cell_type": "code",
   "execution_count": 42,
   "metadata": {
    "collapsed": true
   },
   "outputs": [],
   "source": [
    "predictions = [(series_preds, 'SeriesID'), (type_preds, 'EventTypeID'), \n",
    "               (zipcode_preds, 'Venue_Zip'), (fee_preds, 'Total_Fee_Avg'), \n",
    "               (mile_preds, 'Miles2_Avg')]\n",
    "\n",
    "gb_train_data = data_df.copy()\n",
    "\n",
    "for item in predictions:\n",
    "    gb_train_data = merge_data(gb_train_data, item[0], item[1])"
   ]
  },
  {
   "cell_type": "code",
   "execution_count": 43,
   "metadata": {
    "collapsed": true
   },
   "outputs": [],
   "source": [
    "gb_train_data.sort_values(by='Event_Date', axis=0, ascending=True, inplace=True)"
   ]
  },
  {
   "cell_type": "code",
   "execution_count": 44,
   "metadata": {
    "collapsed": true
   },
   "outputs": [],
   "source": [
    "gb_train_data.reset_index(drop=True, inplace=True)"
   ]
  },
  {
   "cell_type": "code",
   "execution_count": 45,
   "metadata": {},
   "outputs": [
    {
     "name": "stdout",
     "output_type": "stream",
     "text": [
      "<class 'pandas.core.frame.DataFrame'>\n",
      "RangeIndex: 740562 entries, 0 to 740561\n",
      "Data columns (total 9 columns):\n",
      "PersonID                    740562 non-null int64\n",
      "EventID                     740562 non-null int64\n",
      "Participated                740562 non-null int64\n",
      "Event_Date                  740562 non-null int64\n",
      "SeriesID_prediction         740562 non-null float64\n",
      "EventTypeID_prediction      740562 non-null float64\n",
      "Venue_Zip_prediction        740562 non-null float64\n",
      "Total_Fee_Avg_prediction    740562 non-null float64\n",
      "Miles2_Avg_prediction       740562 non-null float64\n",
      "dtypes: float64(5), int64(4)\n",
      "memory usage: 50.9 MB\n"
     ]
    }
   ],
   "source": [
    "gb_train_data.info()"
   ]
  },
  {
   "cell_type": "markdown",
   "metadata": {},
   "source": [
    "No NAN values to fill in since this is the predictions on the training data (no cold starts)"
   ]
  },
  {
   "cell_type": "code",
   "execution_count": 46,
   "metadata": {},
   "outputs": [
    {
     "data": {
      "text/plain": [
       "(592449.6, 148112.4)"
      ]
     },
     "execution_count": 46,
     "metadata": {},
     "output_type": "execute_result"
    }
   ],
   "source": [
    "len(gb_train_data)*.8, len(gb_train_data)*.2"
   ]
  },
  {
   "cell_type": "markdown",
   "metadata": {},
   "source": [
    "Split data on first 592450 records for train (sorted by event_date as timestamp) and last 148113 records for test"
   ]
  },
  {
   "cell_type": "code",
   "execution_count": 47,
   "metadata": {
    "collapsed": true
   },
   "outputs": [],
   "source": [
    "X_gb_train = gb_train_data[['SeriesID_prediction', 'EventTypeID_prediction', 'Venue_Zip_prediction', 'Total_Fee_Avg_prediction', \n",
    "                      'Miles2_Avg_prediction']].iloc[:592450].copy()"
   ]
  },
  {
   "cell_type": "code",
   "execution_count": 48,
   "metadata": {
    "collapsed": true
   },
   "outputs": [],
   "source": [
    "y_gb_train = gb_train_data['Participated'].iloc[:592450].copy()"
   ]
  },
  {
   "cell_type": "code",
   "execution_count": 49,
   "metadata": {},
   "outputs": [
    {
     "data": {
      "text/plain": [
       "(592450, 592450)"
      ]
     },
     "execution_count": 49,
     "metadata": {},
     "output_type": "execute_result"
    }
   ],
   "source": [
    "len(X_gb_train), len(y_gb_train)"
   ]
  },
  {
   "cell_type": "code",
   "execution_count": 50,
   "metadata": {
    "collapsed": true
   },
   "outputs": [],
   "source": [
    "X_gb_val = gb_train_data[['SeriesID_prediction', 'EventTypeID_prediction', 'Venue_Zip_prediction', 'Total_Fee_Avg_prediction', \n",
    "                      'Miles2_Avg_prediction']].iloc[592450:].copy()"
   ]
  },
  {
   "cell_type": "code",
   "execution_count": 51,
   "metadata": {
    "collapsed": true
   },
   "outputs": [],
   "source": [
    "y_gb_val = gb_train_data['Participated'].iloc[592450:].copy()"
   ]
  },
  {
   "cell_type": "code",
   "execution_count": 52,
   "metadata": {
    "scrolled": true
   },
   "outputs": [
    {
     "data": {
      "text/plain": [
       "(148112, 148112)"
      ]
     },
     "execution_count": 52,
     "metadata": {},
     "output_type": "execute_result"
    }
   ],
   "source": [
    "len(X_gb_val), len(y_gb_val)"
   ]
  },
  {
   "cell_type": "code",
   "execution_count": 53,
   "metadata": {
    "collapsed": true
   },
   "outputs": [],
   "source": [
    "with open('30OCT17_finalfitmodelsv2/gb_train_data.pkl', 'w') as f:\n",
    "    pickle.dump(gb_train_data, f)"
   ]
  },
  {
   "cell_type": "markdown",
   "metadata": {},
   "source": [
    "#### Build X, y Test Matrices for GB Model"
   ]
  },
  {
   "cell_type": "code",
   "execution_count": 63,
   "metadata": {
    "collapsed": true
   },
   "outputs": [],
   "source": [
    "test_data_df = load_files('30OCT17_finalfitmodelsv2/als_test_df_pd.pkl')\n",
    "test_fee_preds = load_files('30OCT17_finalfitmodelsv2/als_testpreds_pd_avgfee.pkl')\n",
    "test_mile_preds = load_files('30OCT17_finalfitmodelsv2/als_testpreds_pd_avgmile.pkl')\n",
    "test_type_preds = load_files('30OCT17_finalfitmodelsv2/als_testpreds_pd_eventtype.pkl')\n",
    "test_series_preds = load_files('30OCT17_finalfitmodelsv2/als_testpreds_pd_series.pkl')\n",
    "test_zipcode_preds = load_files('30OCT17_finalfitmodelsv2/als_testpreds_pd_zipcode.pkl')"
   ]
  },
  {
   "cell_type": "code",
   "execution_count": 64,
   "metadata": {
    "collapsed": true
   },
   "outputs": [],
   "source": [
    "test_data_df['Event_Date'] = test_data_df['Event_Date'].astype('int64')//1e9"
   ]
  },
  {
   "cell_type": "code",
   "execution_count": 65,
   "metadata": {
    "collapsed": true
   },
   "outputs": [],
   "source": [
    "test_data_df['Event_Date'] = test_data_df['Event_Date'] * 1000000000"
   ]
  },
  {
   "cell_type": "code",
   "execution_count": 66,
   "metadata": {
    "collapsed": true
   },
   "outputs": [],
   "source": [
    "test_predictions = [(test_series_preds, 'SeriesID'), (test_type_preds, 'EventTypeID'), \n",
    "               (test_zipcode_preds, 'Venue_Zip'), (test_fee_preds, 'Total_Fee_Avg'), \n",
    "               (test_mile_preds, 'Miles2_Avg')]\n",
    "\n",
    "gb_test_data = test_data_df.copy()\n",
    "\n",
    "for item in test_predictions:\n",
    "    gb_test_data = merge_data(gb_test_data, item[0], item[1])"
   ]
  },
  {
   "cell_type": "code",
   "execution_count": 67,
   "metadata": {
    "collapsed": true
   },
   "outputs": [],
   "source": [
    "gb_test_data.sort_values(by='Event_Date', axis=0, ascending=True, inplace=True)"
   ]
  },
  {
   "cell_type": "code",
   "execution_count": 68,
   "metadata": {
    "collapsed": true
   },
   "outputs": [],
   "source": [
    "gb_test_data.reset_index(drop=True, inplace=True)"
   ]
  },
  {
   "cell_type": "code",
   "execution_count": 69,
   "metadata": {},
   "outputs": [
    {
     "name": "stdout",
     "output_type": "stream",
     "text": [
      "<class 'pandas.core.frame.DataFrame'>\n",
      "RangeIndex: 185142 entries, 0 to 185141\n",
      "Data columns (total 9 columns):\n",
      "PersonID                    185142 non-null int64\n",
      "EventID                     185142 non-null int64\n",
      "Participated                185142 non-null int64\n",
      "Event_Date                  185142 non-null int64\n",
      "SeriesID_prediction         185142 non-null float64\n",
      "EventTypeID_prediction      185142 non-null float64\n",
      "Venue_Zip_prediction        174378 non-null float64\n",
      "Total_Fee_Avg_prediction    152850 non-null float64\n",
      "Miles2_Avg_prediction       174378 non-null float64\n",
      "dtypes: float64(5), int64(4)\n",
      "memory usage: 12.7 MB\n"
     ]
    }
   ],
   "source": [
    "gb_test_data.info()"
   ]
  },
  {
   "cell_type": "code",
   "execution_count": 70,
   "metadata": {
    "collapsed": true
   },
   "outputs": [],
   "source": [
    "#need to fill nan values for and Fee and Mile Predictions (caused by cold starts during ALS modeling)\n",
    "gb_test_data['Total_Fee_Avg_prediction'] = gb_test_data['Total_Fee_Avg_prediction'].apply(\n",
    "                            lambda x: gb_test_data['Total_Fee_Avg_prediction'].mean() if pd.isnull(x) else x)\n",
    "gb_test_data['Miles2_Avg_prediction'] = gb_test_data['Miles2_Avg_prediction'].apply(\n",
    "                            lambda x: gb_test_data['Miles2_Avg_prediction'].mean() if pd.isnull(x) else x)\n",
    "gb_test_data['Venue_Zip_prediction'] = gb_test_data['Venue_Zip_prediction'].apply(\n",
    "                            lambda x: gb_test_data['Venue_Zip_prediction'].mean() if pd.isnull(x) else x)"
   ]
  },
  {
   "cell_type": "code",
   "execution_count": 71,
   "metadata": {},
   "outputs": [
    {
     "name": "stdout",
     "output_type": "stream",
     "text": [
      "<class 'pandas.core.frame.DataFrame'>\n",
      "RangeIndex: 185142 entries, 0 to 185141\n",
      "Data columns (total 9 columns):\n",
      "PersonID                    185142 non-null int64\n",
      "EventID                     185142 non-null int64\n",
      "Participated                185142 non-null int64\n",
      "Event_Date                  185142 non-null int64\n",
      "SeriesID_prediction         185142 non-null float64\n",
      "EventTypeID_prediction      185142 non-null float64\n",
      "Venue_Zip_prediction        185142 non-null float64\n",
      "Total_Fee_Avg_prediction    185142 non-null float64\n",
      "Miles2_Avg_prediction       185142 non-null float64\n",
      "dtypes: float64(5), int64(4)\n",
      "memory usage: 12.7 MB\n"
     ]
    }
   ],
   "source": [
    "gb_test_data.info()"
   ]
  },
  {
   "cell_type": "code",
   "execution_count": 72,
   "metadata": {
    "collapsed": true
   },
   "outputs": [],
   "source": [
    "X_gb_test = gb_test_data[['SeriesID_prediction', 'EventTypeID_prediction', 'Venue_Zip_prediction', 'Total_Fee_Avg_prediction', \n",
    "                      'Miles2_Avg_prediction']].copy()"
   ]
  },
  {
   "cell_type": "code",
   "execution_count": 73,
   "metadata": {
    "collapsed": true
   },
   "outputs": [],
   "source": [
    "y_gb_test = gb_test_data['Participated'].copy()"
   ]
  },
  {
   "cell_type": "code",
   "execution_count": 74,
   "metadata": {
    "scrolled": true
   },
   "outputs": [
    {
     "data": {
      "text/plain": [
       "(185142, 185142)"
      ]
     },
     "execution_count": 74,
     "metadata": {},
     "output_type": "execute_result"
    }
   ],
   "source": [
    "len(X_gb_test), len(y_gb_test)"
   ]
  },
  {
   "cell_type": "code",
   "execution_count": 75,
   "metadata": {
    "collapsed": true
   },
   "outputs": [],
   "source": [
    "with open('30OCT17_finalfitmodelsv2/gb_test_data.pkl', 'w') as f:\n",
    "    pickle.dump(gb_test_data, f)"
   ]
  },
  {
   "cell_type": "markdown",
   "metadata": {},
   "source": [
    "## Train Gradient Boosted Regressor out of the box using prepared data"
   ]
  },
  {
   "cell_type": "code",
   "execution_count": 76,
   "metadata": {
    "collapsed": true
   },
   "outputs": [],
   "source": [
    "with open('30OCT17_finalfitmodelsv2/gb_train_data.pkl', 'rb') as f:\n",
    "    gb_train_data = pickle.load(f)\n",
    "with open('30OCT17_finalfitmodelsv2/gb_test_data.pkl', 'rb') as f:\n",
    "    gb_test_data = pickle.load(f)"
   ]
  },
  {
   "cell_type": "code",
   "execution_count": 77,
   "metadata": {
    "collapsed": true
   },
   "outputs": [],
   "source": [
    "X_gb_train = gb_train_data[['SeriesID_prediction', 'EventTypeID_prediction', 'Venue_Zip_prediction', 'Total_Fee_Avg_prediction', \n",
    "                      'Miles2_Avg_prediction']].iloc[:592450].copy()"
   ]
  },
  {
   "cell_type": "code",
   "execution_count": 78,
   "metadata": {
    "collapsed": true
   },
   "outputs": [],
   "source": [
    "y_gb_train = gb_train_data['Participated'].iloc[:592450].copy()"
   ]
  },
  {
   "cell_type": "code",
   "execution_count": 79,
   "metadata": {},
   "outputs": [
    {
     "data": {
      "text/plain": [
       "(592450, 592450)"
      ]
     },
     "execution_count": 79,
     "metadata": {},
     "output_type": "execute_result"
    }
   ],
   "source": [
    "len(X_gb_train), len(y_gb_train)"
   ]
  },
  {
   "cell_type": "code",
   "execution_count": 80,
   "metadata": {
    "collapsed": true
   },
   "outputs": [],
   "source": [
    "X_gb_val = gb_train_data[['SeriesID_prediction', 'EventTypeID_prediction', 'Venue_Zip_prediction', 'Total_Fee_Avg_prediction', \n",
    "                      'Miles2_Avg_prediction']].iloc[592450:].copy()"
   ]
  },
  {
   "cell_type": "code",
   "execution_count": 81,
   "metadata": {
    "collapsed": true
   },
   "outputs": [],
   "source": [
    "y_gb_val = gb_train_data['Participated'].iloc[592450:].copy()"
   ]
  },
  {
   "cell_type": "code",
   "execution_count": 82,
   "metadata": {
    "scrolled": true
   },
   "outputs": [
    {
     "data": {
      "text/plain": [
       "(148112, 148112)"
      ]
     },
     "execution_count": 82,
     "metadata": {},
     "output_type": "execute_result"
    }
   ],
   "source": [
    "len(X_gb_val), len(y_gb_val)"
   ]
  },
  {
   "cell_type": "code",
   "execution_count": 83,
   "metadata": {
    "collapsed": true
   },
   "outputs": [],
   "source": [
    "X_gb_test = gb_test_data[['SeriesID_prediction', 'EventTypeID_prediction', 'Venue_Zip_prediction', 'Total_Fee_Avg_prediction', \n",
    "                      'Miles2_Avg_prediction']].copy()"
   ]
  },
  {
   "cell_type": "code",
   "execution_count": 84,
   "metadata": {
    "collapsed": true
   },
   "outputs": [],
   "source": [
    "y_gb_test = gb_test_data['Participated'].copy()"
   ]
  },
  {
   "cell_type": "code",
   "execution_count": 85,
   "metadata": {
    "scrolled": true
   },
   "outputs": [
    {
     "data": {
      "text/plain": [
       "(185142, 185142)"
      ]
     },
     "execution_count": 85,
     "metadata": {},
     "output_type": "execute_result"
    }
   ],
   "source": [
    "len(X_gb_test), len(y_gb_test)"
   ]
  },
  {
   "cell_type": "code",
   "execution_count": 86,
   "metadata": {
    "collapsed": true
   },
   "outputs": [],
   "source": [
    "gb_model = GradientBoostingRegressor()"
   ]
  },
  {
   "cell_type": "code",
   "execution_count": 87,
   "metadata": {},
   "outputs": [
    {
     "data": {
      "text/plain": [
       "GradientBoostingRegressor(alpha=0.9, criterion='friedman_mse', init=None,\n",
       "             learning_rate=0.1, loss='ls', max_depth=3, max_features=None,\n",
       "             max_leaf_nodes=None, min_impurity_decrease=0.0,\n",
       "             min_impurity_split=None, min_samples_leaf=1,\n",
       "             min_samples_split=2, min_weight_fraction_leaf=0.0,\n",
       "             n_estimators=100, presort='auto', random_state=None,\n",
       "             subsample=1.0, verbose=0, warm_start=False)"
      ]
     },
     "execution_count": 87,
     "metadata": {},
     "output_type": "execute_result"
    }
   ],
   "source": [
    "gb_model.fit(X_gb_train, y_gb_train)"
   ]
  },
  {
   "cell_type": "code",
   "execution_count": 88,
   "metadata": {},
   "outputs": [
    {
     "data": {
      "text/plain": [
       "0.54077500718086247"
      ]
     },
     "execution_count": 88,
     "metadata": {},
     "output_type": "execute_result"
    }
   ],
   "source": [
    "gb_model.score(X_gb_val, y_gb_val) #this uses r^2 for scoring....not helpful in my situation"
   ]
  },
  {
   "cell_type": "markdown",
   "metadata": {},
   "source": [
    "The df needs to include columns for user, item, actual outcome, and predicted outcome\n",
    "    user, item, actual, prediction - strings indicating the name of each column in\n",
    "    the predictions file for use in the function"
   ]
  },
  {
   "cell_type": "code",
   "execution_count": 89,
   "metadata": {
    "collapsed": true
   },
   "outputs": [],
   "source": [
    "gb_valpreds = gb_model.predict(X_gb_val)"
   ]
  },
  {
   "cell_type": "code",
   "execution_count": 90,
   "metadata": {},
   "outputs": [
    {
     "data": {
      "text/plain": [
       "148112"
      ]
     },
     "execution_count": 90,
     "metadata": {},
     "output_type": "execute_result"
    }
   ],
   "source": [
    "len(gb_valpreds)"
   ]
  },
  {
   "cell_type": "code",
   "execution_count": 91,
   "metadata": {},
   "outputs": [
    {
     "data": {
      "text/plain": [
       "148112"
      ]
     },
     "execution_count": 91,
     "metadata": {},
     "output_type": "execute_result"
    }
   ],
   "source": [
    "len(y_gb_val)"
   ]
  },
  {
   "cell_type": "code",
   "execution_count": 92,
   "metadata": {
    "collapsed": true
   },
   "outputs": [],
   "source": [
    "rankeval_valpreds_df = pd.DataFrame({'PersonID': gb_train_data['PersonID'].iloc[592450:], 'EventID': \n",
    "                                      gb_train_data['EventID'].iloc[592450:], 'Participated': y_gb_val.values, \n",
    "                                      'prediction': gb_valpreds})"
   ]
  },
  {
   "cell_type": "code",
   "execution_count": 93,
   "metadata": {},
   "outputs": [
    {
     "data": {
      "text/html": [
       "<div>\n",
       "<style>\n",
       "    .dataframe thead tr:only-child th {\n",
       "        text-align: right;\n",
       "    }\n",
       "\n",
       "    .dataframe thead th {\n",
       "        text-align: left;\n",
       "    }\n",
       "\n",
       "    .dataframe tbody tr th {\n",
       "        vertical-align: top;\n",
       "    }\n",
       "</style>\n",
       "<table border=\"1\" class=\"dataframe\">\n",
       "  <thead>\n",
       "    <tr style=\"text-align: right;\">\n",
       "      <th></th>\n",
       "      <th>EventID</th>\n",
       "      <th>Participated</th>\n",
       "      <th>PersonID</th>\n",
       "      <th>prediction</th>\n",
       "    </tr>\n",
       "  </thead>\n",
       "  <tbody>\n",
       "    <tr>\n",
       "      <th>592450</th>\n",
       "      <td>54</td>\n",
       "      <td>0</td>\n",
       "      <td>6187</td>\n",
       "      <td>-0.016080</td>\n",
       "    </tr>\n",
       "    <tr>\n",
       "      <th>592451</th>\n",
       "      <td>54</td>\n",
       "      <td>0</td>\n",
       "      <td>6186</td>\n",
       "      <td>-0.001449</td>\n",
       "    </tr>\n",
       "    <tr>\n",
       "      <th>592452</th>\n",
       "      <td>54</td>\n",
       "      <td>0</td>\n",
       "      <td>6185</td>\n",
       "      <td>-0.016080</td>\n",
       "    </tr>\n",
       "    <tr>\n",
       "      <th>592453</th>\n",
       "      <td>54</td>\n",
       "      <td>0</td>\n",
       "      <td>6184</td>\n",
       "      <td>0.002515</td>\n",
       "    </tr>\n",
       "    <tr>\n",
       "      <th>592454</th>\n",
       "      <td>54</td>\n",
       "      <td>0</td>\n",
       "      <td>6183</td>\n",
       "      <td>-0.000764</td>\n",
       "    </tr>\n",
       "  </tbody>\n",
       "</table>\n",
       "</div>"
      ],
      "text/plain": [
       "        EventID  Participated  PersonID  prediction\n",
       "592450       54             0      6187   -0.016080\n",
       "592451       54             0      6186   -0.001449\n",
       "592452       54             0      6185   -0.016080\n",
       "592453       54             0      6184    0.002515\n",
       "592454       54             0      6183   -0.000764"
      ]
     },
     "execution_count": 93,
     "metadata": {},
     "output_type": "execute_result"
    }
   ],
   "source": [
    "rankeval_valpreds_df.head()"
   ]
  },
  {
   "cell_type": "code",
   "execution_count": 94,
   "metadata": {
    "collapsed": true
   },
   "outputs": [],
   "source": [
    "rank_processing = rank_eval.RankEval(rankeval_valpreds_df, 'PersonID', 'EventID', 'Participated', 'prediction')"
   ]
  },
  {
   "cell_type": "code",
   "execution_count": 95,
   "metadata": {},
   "outputs": [
    {
     "data": {
      "text/plain": [
       "9.17053828362614"
      ]
     },
     "execution_count": 95,
     "metadata": {},
     "output_type": "execute_result"
    }
   ],
   "source": [
    "rank_processing.calc_test_rank()"
   ]
  },
  {
   "cell_type": "code",
   "execution_count": 96,
   "metadata": {},
   "outputs": [
    {
     "data": {
      "text/plain": [
       "31.168005903574944"
      ]
     },
     "execution_count": 96,
     "metadata": {},
     "output_type": "execute_result"
    }
   ],
   "source": [
    "rank_processing.calc_popular_rank()"
   ]
  },
  {
   "cell_type": "code",
   "execution_count": 97,
   "metadata": {},
   "outputs": [
    {
     "data": {
      "text/plain": [
       "{'alpha': 0.9,\n",
       " 'criterion': 'friedman_mse',\n",
       " 'init': None,\n",
       " 'learning_rate': 0.1,\n",
       " 'loss': 'ls',\n",
       " 'max_depth': 3,\n",
       " 'max_features': None,\n",
       " 'max_leaf_nodes': None,\n",
       " 'min_impurity_decrease': 0.0,\n",
       " 'min_impurity_split': None,\n",
       " 'min_samples_leaf': 1,\n",
       " 'min_samples_split': 2,\n",
       " 'min_weight_fraction_leaf': 0.0,\n",
       " 'n_estimators': 100,\n",
       " 'presort': 'auto',\n",
       " 'random_state': None,\n",
       " 'subsample': 1.0,\n",
       " 'verbose': 0,\n",
       " 'warm_start': False}"
      ]
     },
     "execution_count": 97,
     "metadata": {},
     "output_type": "execute_result"
    }
   ],
   "source": [
    "gb_model.get_params()"
   ]
  },
  {
   "cell_type": "code",
   "execution_count": 98,
   "metadata": {
    "scrolled": true
   },
   "outputs": [
    {
     "data": {
      "text/plain": [
       "[(0.12822103583514338, 'SeriesID_prediction'),\n",
       " (0.044602920644728962, 'EventTypeID_prediction'),\n",
       " (0.37964535958321177, 'Venue_Zip_prediction'),\n",
       " (0.31566943607554765, 'Total_Fee_Avg_prediction'),\n",
       " (0.13186124786136813, 'Miles2_Avg_prediction')]"
      ]
     },
     "execution_count": 98,
     "metadata": {},
     "output_type": "execute_result"
    }
   ],
   "source": [
    "zip(gb_model.feature_importances_, X_gb_train.columns.values)"
   ]
  },
  {
   "cell_type": "markdown",
   "metadata": {},
   "source": [
    "## Train Gradient Boosted Regressor with some Params Tweaked:"
   ]
  },
  {
   "cell_type": "code",
   "execution_count": 40,
   "metadata": {
    "collapsed": true
   },
   "outputs": [],
   "source": [
    "gb_model_v2 = GradientBoostingRegressor(loss='ls', learning_rate=.01, n_estimators=1000, subsample=0.5, max_depth=10)"
   ]
  },
  {
   "cell_type": "code",
   "execution_count": 41,
   "metadata": {},
   "outputs": [
    {
     "data": {
      "text/plain": [
       "GradientBoostingRegressor(alpha=0.9, criterion='friedman_mse', init=None,\n",
       "             learning_rate=0.01, loss='ls', max_depth=10,\n",
       "             max_features=None, max_leaf_nodes=None,\n",
       "             min_impurity_decrease=0.0, min_impurity_split=None,\n",
       "             min_samples_leaf=1, min_samples_split=2,\n",
       "             min_weight_fraction_leaf=0.0, n_estimators=1000,\n",
       "             presort='auto', random_state=None, subsample=0.5, verbose=0,\n",
       "             warm_start=False)"
      ]
     },
     "execution_count": 41,
     "metadata": {},
     "output_type": "execute_result"
    }
   ],
   "source": [
    "gb_model_v2.fit(X_gb_train, y_gb_train)"
   ]
  },
  {
   "cell_type": "code",
   "execution_count": 42,
   "metadata": {
    "collapsed": true
   },
   "outputs": [],
   "source": [
    "gb_valpreds_v2 = gb_model_v2.predict(X_gb_val)"
   ]
  },
  {
   "cell_type": "code",
   "execution_count": 43,
   "metadata": {},
   "outputs": [
    {
     "data": {
      "text/plain": [
       "148112"
      ]
     },
     "execution_count": 43,
     "metadata": {},
     "output_type": "execute_result"
    }
   ],
   "source": [
    "len(gb_valpreds_v2)"
   ]
  },
  {
   "cell_type": "code",
   "execution_count": 44,
   "metadata": {},
   "outputs": [
    {
     "data": {
      "text/plain": [
       "148112"
      ]
     },
     "execution_count": 44,
     "metadata": {},
     "output_type": "execute_result"
    }
   ],
   "source": [
    "len(y_gb_val)"
   ]
  },
  {
   "cell_type": "code",
   "execution_count": 45,
   "metadata": {
    "collapsed": true
   },
   "outputs": [],
   "source": [
    "rankeval_valpreds_df_v2 = pd.DataFrame({'PersonID': gb_train_data['PersonID'].iloc[592450:], 'EventID': \n",
    "                                      gb_train_data['EventID'].iloc[592450:], 'Participated': y_gb_val.values, \n",
    "                                      'prediction': gb_valpreds_v2})"
   ]
  },
  {
   "cell_type": "code",
   "execution_count": 46,
   "metadata": {},
   "outputs": [
    {
     "data": {
      "text/html": [
       "<div>\n",
       "<style>\n",
       "    .dataframe thead tr:only-child th {\n",
       "        text-align: right;\n",
       "    }\n",
       "\n",
       "    .dataframe thead th {\n",
       "        text-align: left;\n",
       "    }\n",
       "\n",
       "    .dataframe tbody tr th {\n",
       "        vertical-align: top;\n",
       "    }\n",
       "</style>\n",
       "<table border=\"1\" class=\"dataframe\">\n",
       "  <thead>\n",
       "    <tr style=\"text-align: right;\">\n",
       "      <th></th>\n",
       "      <th>EventID</th>\n",
       "      <th>Participated</th>\n",
       "      <th>PersonID</th>\n",
       "      <th>prediction</th>\n",
       "    </tr>\n",
       "  </thead>\n",
       "  <tbody>\n",
       "    <tr>\n",
       "      <th>592450</th>\n",
       "      <td>54</td>\n",
       "      <td>0</td>\n",
       "      <td>6187</td>\n",
       "      <td>0.000003</td>\n",
       "    </tr>\n",
       "    <tr>\n",
       "      <th>592451</th>\n",
       "      <td>54</td>\n",
       "      <td>0</td>\n",
       "      <td>6186</td>\n",
       "      <td>0.000092</td>\n",
       "    </tr>\n",
       "    <tr>\n",
       "      <th>592452</th>\n",
       "      <td>54</td>\n",
       "      <td>0</td>\n",
       "      <td>6185</td>\n",
       "      <td>0.000003</td>\n",
       "    </tr>\n",
       "    <tr>\n",
       "      <th>592453</th>\n",
       "      <td>54</td>\n",
       "      <td>0</td>\n",
       "      <td>6184</td>\n",
       "      <td>0.000843</td>\n",
       "    </tr>\n",
       "    <tr>\n",
       "      <th>592454</th>\n",
       "      <td>54</td>\n",
       "      <td>0</td>\n",
       "      <td>6183</td>\n",
       "      <td>0.000048</td>\n",
       "    </tr>\n",
       "  </tbody>\n",
       "</table>\n",
       "</div>"
      ],
      "text/plain": [
       "        EventID  Participated  PersonID  prediction\n",
       "592450       54             0      6187    0.000003\n",
       "592451       54             0      6186    0.000092\n",
       "592452       54             0      6185    0.000003\n",
       "592453       54             0      6184    0.000843\n",
       "592454       54             0      6183    0.000048"
      ]
     },
     "execution_count": 46,
     "metadata": {},
     "output_type": "execute_result"
    }
   ],
   "source": [
    "rankeval_valpreds_df_v2.head()"
   ]
  },
  {
   "cell_type": "code",
   "execution_count": 47,
   "metadata": {
    "collapsed": true
   },
   "outputs": [],
   "source": [
    "rank_processing_v2 = rank_eval.RankEval(rankeval_valpreds_df_v2, 'PersonID', 'EventID', 'Participated', 'prediction')"
   ]
  },
  {
   "cell_type": "code",
   "execution_count": 48,
   "metadata": {},
   "outputs": [
    {
     "data": {
      "text/plain": [
       "11.095651105438394"
      ]
     },
     "execution_count": 48,
     "metadata": {},
     "output_type": "execute_result"
    }
   ],
   "source": [
    "rank_processing_v2.calc_test_rank()"
   ]
  },
  {
   "cell_type": "code",
   "execution_count": 49,
   "metadata": {},
   "outputs": [
    {
     "data": {
      "text/plain": [
       "31.168005903574944"
      ]
     },
     "execution_count": 49,
     "metadata": {},
     "output_type": "execute_result"
    }
   ],
   "source": [
    "rank_processing_v2.calc_popular_rank()"
   ]
  },
  {
   "cell_type": "code",
   "execution_count": 50,
   "metadata": {},
   "outputs": [
    {
     "data": {
      "text/plain": [
       "{'alpha': 0.9,\n",
       " 'criterion': 'friedman_mse',\n",
       " 'init': None,\n",
       " 'learning_rate': 0.01,\n",
       " 'loss': 'ls',\n",
       " 'max_depth': 10,\n",
       " 'max_features': None,\n",
       " 'max_leaf_nodes': None,\n",
       " 'min_impurity_decrease': 0.0,\n",
       " 'min_impurity_split': None,\n",
       " 'min_samples_leaf': 1,\n",
       " 'min_samples_split': 2,\n",
       " 'min_weight_fraction_leaf': 0.0,\n",
       " 'n_estimators': 1000,\n",
       " 'presort': 'auto',\n",
       " 'random_state': None,\n",
       " 'subsample': 0.5,\n",
       " 'verbose': 0,\n",
       " 'warm_start': False}"
      ]
     },
     "execution_count": 50,
     "metadata": {},
     "output_type": "execute_result"
    }
   ],
   "source": [
    "gb_model_v2.get_params()"
   ]
  },
  {
   "cell_type": "code",
   "execution_count": 51,
   "metadata": {
    "scrolled": false
   },
   "outputs": [
    {
     "data": {
      "text/plain": [
       "[(0.19216645723859813, 'SeriesID_prediction'),\n",
       " (0.06345303160088657, 'EventTypeID_prediction'),\n",
       " (0.26842207449703265, 'Venue_Zip_prediction'),\n",
       " (0.30305325245538689, 'Total_Fee_Avg_prediction'),\n",
       " (0.17290518420809492, 'Miles2_Avg_prediction')]"
      ]
     },
     "execution_count": 51,
     "metadata": {},
     "output_type": "execute_result"
    }
   ],
   "source": [
    "zip(gb_model_v2.feature_importances_, X_gb_train.columns.values)"
   ]
  },
  {
   "cell_type": "markdown",
   "metadata": {
    "collapsed": true
   },
   "source": [
    "## v5 Gradient Boost Fit - final pick"
   ]
  },
  {
   "cell_type": "code",
   "execution_count": 27,
   "metadata": {
    "collapsed": true
   },
   "outputs": [],
   "source": [
    "gb_model_v5 = GradientBoostingRegressor(loss='ls', learning_rate=.01, n_estimators=100, subsample=0.5, max_depth=3)"
   ]
  },
  {
   "cell_type": "code",
   "execution_count": 28,
   "metadata": {},
   "outputs": [
    {
     "data": {
      "text/plain": [
       "GradientBoostingRegressor(alpha=0.9, criterion='friedman_mse', init=None,\n",
       "             learning_rate=0.01, loss='ls', max_depth=3, max_features=None,\n",
       "             max_leaf_nodes=None, min_impurity_decrease=0.0,\n",
       "             min_impurity_split=None, min_samples_leaf=1,\n",
       "             min_samples_split=2, min_weight_fraction_leaf=0.0,\n",
       "             n_estimators=100, presort='auto', random_state=None,\n",
       "             subsample=0.5, verbose=0, warm_start=False)"
      ]
     },
     "execution_count": 28,
     "metadata": {},
     "output_type": "execute_result"
    }
   ],
   "source": [
    "gb_model_v5.fit(X_gb_train, y_gb_train)"
   ]
  },
  {
   "cell_type": "code",
   "execution_count": 29,
   "metadata": {
    "collapsed": true
   },
   "outputs": [],
   "source": [
    "gb_valpreds_v5 = gb_model_v5.predict(X_gb_val)"
   ]
  },
  {
   "cell_type": "code",
   "execution_count": 30,
   "metadata": {},
   "outputs": [
    {
     "data": {
      "text/plain": [
       "148112"
      ]
     },
     "execution_count": 30,
     "metadata": {},
     "output_type": "execute_result"
    }
   ],
   "source": [
    "len(gb_valpreds_v5)"
   ]
  },
  {
   "cell_type": "code",
   "execution_count": 31,
   "metadata": {},
   "outputs": [
    {
     "data": {
      "text/plain": [
       "148112"
      ]
     },
     "execution_count": 31,
     "metadata": {},
     "output_type": "execute_result"
    }
   ],
   "source": [
    "len(y_gb_val)"
   ]
  },
  {
   "cell_type": "code",
   "execution_count": 32,
   "metadata": {
    "collapsed": true
   },
   "outputs": [],
   "source": [
    "rankeval_valpreds_df_v5 = pd.DataFrame({'PersonID': gb_train_data['PersonID'].iloc[592450:], 'EventID': \n",
    "                                      gb_train_data['EventID'].iloc[592450:], 'Participated': y_gb_val.values, \n",
    "                                      'prediction': gb_valpreds_v5})"
   ]
  },
  {
   "cell_type": "code",
   "execution_count": 33,
   "metadata": {},
   "outputs": [
    {
     "data": {
      "text/html": [
       "<div>\n",
       "<style>\n",
       "    .dataframe thead tr:only-child th {\n",
       "        text-align: right;\n",
       "    }\n",
       "\n",
       "    .dataframe thead th {\n",
       "        text-align: left;\n",
       "    }\n",
       "\n",
       "    .dataframe tbody tr th {\n",
       "        vertical-align: top;\n",
       "    }\n",
       "</style>\n",
       "<table border=\"1\" class=\"dataframe\">\n",
       "  <thead>\n",
       "    <tr style=\"text-align: right;\">\n",
       "      <th></th>\n",
       "      <th>EventID</th>\n",
       "      <th>Participated</th>\n",
       "      <th>PersonID</th>\n",
       "      <th>prediction</th>\n",
       "    </tr>\n",
       "  </thead>\n",
       "  <tbody>\n",
       "    <tr>\n",
       "      <th>592450</th>\n",
       "      <td>54</td>\n",
       "      <td>0</td>\n",
       "      <td>6187</td>\n",
       "      <td>0.008400</td>\n",
       "    </tr>\n",
       "    <tr>\n",
       "      <th>592451</th>\n",
       "      <td>54</td>\n",
       "      <td>0</td>\n",
       "      <td>6186</td>\n",
       "      <td>0.006768</td>\n",
       "    </tr>\n",
       "    <tr>\n",
       "      <th>592452</th>\n",
       "      <td>54</td>\n",
       "      <td>0</td>\n",
       "      <td>6185</td>\n",
       "      <td>0.008400</td>\n",
       "    </tr>\n",
       "    <tr>\n",
       "      <th>592453</th>\n",
       "      <td>54</td>\n",
       "      <td>0</td>\n",
       "      <td>6184</td>\n",
       "      <td>0.006768</td>\n",
       "    </tr>\n",
       "    <tr>\n",
       "      <th>592454</th>\n",
       "      <td>54</td>\n",
       "      <td>0</td>\n",
       "      <td>6183</td>\n",
       "      <td>0.006768</td>\n",
       "    </tr>\n",
       "  </tbody>\n",
       "</table>\n",
       "</div>"
      ],
      "text/plain": [
       "        EventID  Participated  PersonID  prediction\n",
       "592450       54             0      6187    0.008400\n",
       "592451       54             0      6186    0.006768\n",
       "592452       54             0      6185    0.008400\n",
       "592453       54             0      6184    0.006768\n",
       "592454       54             0      6183    0.006768"
      ]
     },
     "execution_count": 33,
     "metadata": {},
     "output_type": "execute_result"
    }
   ],
   "source": [
    "rankeval_valpreds_df_v5.head()"
   ]
  },
  {
   "cell_type": "code",
   "execution_count": 34,
   "metadata": {
    "collapsed": true
   },
   "outputs": [],
   "source": [
    "rank_processing_v5 = rank_eval.RankEval(rankeval_valpreds_df_v5, 'PersonID', 'EventID', 'Participated', 'prediction')"
   ]
  },
  {
   "cell_type": "code",
   "execution_count": 35,
   "metadata": {},
   "outputs": [
    {
     "data": {
      "text/plain": [
       "8.1997389456922409"
      ]
     },
     "execution_count": 35,
     "metadata": {},
     "output_type": "execute_result"
    }
   ],
   "source": [
    "rank_processing_v5.calc_test_rank()"
   ]
  },
  {
   "cell_type": "code",
   "execution_count": 36,
   "metadata": {},
   "outputs": [
    {
     "data": {
      "text/plain": [
       "31.168005903574944"
      ]
     },
     "execution_count": 36,
     "metadata": {},
     "output_type": "execute_result"
    }
   ],
   "source": [
    "rank_processing_v5.calc_popular_rank()"
   ]
  },
  {
   "cell_type": "code",
   "execution_count": 37,
   "metadata": {},
   "outputs": [
    {
     "data": {
      "text/plain": [
       "{'alpha': 0.9,\n",
       " 'criterion': 'friedman_mse',\n",
       " 'init': None,\n",
       " 'learning_rate': 0.01,\n",
       " 'loss': 'ls',\n",
       " 'max_depth': 3,\n",
       " 'max_features': None,\n",
       " 'max_leaf_nodes': None,\n",
       " 'min_impurity_decrease': 0.0,\n",
       " 'min_impurity_split': None,\n",
       " 'min_samples_leaf': 1,\n",
       " 'min_samples_split': 2,\n",
       " 'min_weight_fraction_leaf': 0.0,\n",
       " 'n_estimators': 100,\n",
       " 'presort': 'auto',\n",
       " 'random_state': None,\n",
       " 'subsample': 0.5,\n",
       " 'verbose': 0,\n",
       " 'warm_start': False}"
      ]
     },
     "execution_count": 37,
     "metadata": {},
     "output_type": "execute_result"
    }
   ],
   "source": [
    "gb_model_v5.get_params()"
   ]
  },
  {
   "cell_type": "code",
   "execution_count": 38,
   "metadata": {
    "scrolled": false
   },
   "outputs": [
    {
     "data": {
      "text/plain": [
       "[(0.17172471936131953, 'SeriesID_prediction'),\n",
       " (0.01349470094752726, 'EventTypeID_prediction'),\n",
       " (0.23567290883736336, 'Venue_Zip_prediction'),\n",
       " (0.45778854456874268, 'Total_Fee_Avg_prediction'),\n",
       " (0.12131912628504712, 'Miles2_Avg_prediction')]"
      ]
     },
     "execution_count": 38,
     "metadata": {},
     "output_type": "execute_result"
    }
   ],
   "source": [
    "zip(gb_model_v5.feature_importances_, X_gb_train.columns.values)"
   ]
  },
  {
   "cell_type": "code",
   "execution_count": 39,
   "metadata": {
    "collapsed": true
   },
   "outputs": [],
   "source": [
    "with open ('30OCT17_finalfitmodelsv2/gb_model_trainfit', 'w') as f:\n",
    "    pickle.dump(gb_model_v5, f)\n",
    "with open ('30OCT17_finalfitmodelsv2/gb_valpreds_trainfit', 'w') as f:\n",
    "    pickle.dump(gb_valpreds_v5, f)"
   ]
  },
  {
   "cell_type": "markdown",
   "metadata": {
    "collapsed": true
   },
   "source": [
    "## Refit selected model with train+val data:"
   ]
  },
  {
   "cell_type": "code",
   "execution_count": 99,
   "metadata": {
    "collapsed": true
   },
   "outputs": [],
   "source": [
    "X_gb_trainval = gb_train_data[['SeriesID_prediction', 'EventTypeID_prediction', 'Venue_Zip_prediction', 'Total_Fee_Avg_prediction', \n",
    "                      'Miles2_Avg_prediction']]"
   ]
  },
  {
   "cell_type": "code",
   "execution_count": 100,
   "metadata": {
    "collapsed": true
   },
   "outputs": [],
   "source": [
    "y_gb_trainval = gb_train_data['Participated']"
   ]
  },
  {
   "cell_type": "code",
   "execution_count": 101,
   "metadata": {
    "collapsed": true
   },
   "outputs": [],
   "source": [
    "gb_model_final = GradientBoostingRegressor(loss='ls', learning_rate=.01, n_estimators=100, subsample=0.5, max_depth=3)"
   ]
  },
  {
   "cell_type": "code",
   "execution_count": 102,
   "metadata": {},
   "outputs": [
    {
     "data": {
      "text/plain": [
       "GradientBoostingRegressor(alpha=0.9, criterion='friedman_mse', init=None,\n",
       "             learning_rate=0.01, loss='ls', max_depth=3, max_features=None,\n",
       "             max_leaf_nodes=None, min_impurity_decrease=0.0,\n",
       "             min_impurity_split=None, min_samples_leaf=1,\n",
       "             min_samples_split=2, min_weight_fraction_leaf=0.0,\n",
       "             n_estimators=100, presort='auto', random_state=None,\n",
       "             subsample=0.5, verbose=0, warm_start=False)"
      ]
     },
     "execution_count": 102,
     "metadata": {},
     "output_type": "execute_result"
    }
   ],
   "source": [
    "gb_model_final.fit(X_gb_trainval, y_gb_trainval)"
   ]
  },
  {
   "cell_type": "code",
   "execution_count": 103,
   "metadata": {},
   "outputs": [
    {
     "name": "stdout",
     "output_type": "stream",
     "text": [
      "<class 'pandas.core.frame.DataFrame'>\n",
      "RangeIndex: 185142 entries, 0 to 185141\n",
      "Data columns (total 9 columns):\n",
      "PersonID                    185142 non-null int64\n",
      "EventID                     185142 non-null int64\n",
      "Participated                185142 non-null int64\n",
      "Event_Date                  185142 non-null int64\n",
      "SeriesID_prediction         185142 non-null float64\n",
      "EventTypeID_prediction      185142 non-null float64\n",
      "Venue_Zip_prediction        185142 non-null float64\n",
      "Total_Fee_Avg_prediction    185142 non-null float64\n",
      "Miles2_Avg_prediction       185142 non-null float64\n",
      "dtypes: float64(5), int64(4)\n",
      "memory usage: 12.7 MB\n"
     ]
    }
   ],
   "source": [
    "gb_test_data.info()"
   ]
  },
  {
   "cell_type": "code",
   "execution_count": 104,
   "metadata": {
    "collapsed": true
   },
   "outputs": [],
   "source": [
    "gb_testpreds_final = gb_model_final.predict(X_gb_test)"
   ]
  },
  {
   "cell_type": "code",
   "execution_count": 105,
   "metadata": {},
   "outputs": [
    {
     "data": {
      "text/plain": [
       "185142"
      ]
     },
     "execution_count": 105,
     "metadata": {},
     "output_type": "execute_result"
    }
   ],
   "source": [
    "len(gb_testpreds_final)"
   ]
  },
  {
   "cell_type": "code",
   "execution_count": 106,
   "metadata": {},
   "outputs": [
    {
     "data": {
      "text/plain": [
       "185142"
      ]
     },
     "execution_count": 106,
     "metadata": {},
     "output_type": "execute_result"
    }
   ],
   "source": [
    "len(y_gb_test)"
   ]
  },
  {
   "cell_type": "code",
   "execution_count": 107,
   "metadata": {},
   "outputs": [
    {
     "data": {
      "text/plain": [
       "185142"
      ]
     },
     "execution_count": 107,
     "metadata": {},
     "output_type": "execute_result"
    }
   ],
   "source": [
    "len(gb_test_data)"
   ]
  },
  {
   "cell_type": "code",
   "execution_count": 108,
   "metadata": {
    "collapsed": true
   },
   "outputs": [],
   "source": [
    "rankeval_testpreds_df_final = pd.DataFrame({'PersonID': gb_test_data['PersonID'], 'EventID': \n",
    "                                      gb_test_data['EventID'], 'Participated': y_gb_test.values, \n",
    "                                      'prediction': gb_testpreds_final})"
   ]
  },
  {
   "cell_type": "code",
   "execution_count": 109,
   "metadata": {},
   "outputs": [
    {
     "data": {
      "text/html": [
       "<div>\n",
       "<style>\n",
       "    .dataframe thead tr:only-child th {\n",
       "        text-align: right;\n",
       "    }\n",
       "\n",
       "    .dataframe thead th {\n",
       "        text-align: left;\n",
       "    }\n",
       "\n",
       "    .dataframe tbody tr th {\n",
       "        vertical-align: top;\n",
       "    }\n",
       "</style>\n",
       "<table border=\"1\" class=\"dataframe\">\n",
       "  <thead>\n",
       "    <tr style=\"text-align: right;\">\n",
       "      <th></th>\n",
       "      <th>EventID</th>\n",
       "      <th>Participated</th>\n",
       "      <th>PersonID</th>\n",
       "      <th>prediction</th>\n",
       "    </tr>\n",
       "  </thead>\n",
       "  <tbody>\n",
       "    <tr>\n",
       "      <th>0</th>\n",
       "      <td>1009</td>\n",
       "      <td>0</td>\n",
       "      <td>7673</td>\n",
       "      <td>0.006949</td>\n",
       "    </tr>\n",
       "    <tr>\n",
       "      <th>1</th>\n",
       "      <td>1009</td>\n",
       "      <td>0</td>\n",
       "      <td>10039</td>\n",
       "      <td>0.011196</td>\n",
       "    </tr>\n",
       "    <tr>\n",
       "      <th>2</th>\n",
       "      <td>1009</td>\n",
       "      <td>0</td>\n",
       "      <td>10141</td>\n",
       "      <td>0.006949</td>\n",
       "    </tr>\n",
       "    <tr>\n",
       "      <th>3</th>\n",
       "      <td>1009</td>\n",
       "      <td>0</td>\n",
       "      <td>10143</td>\n",
       "      <td>0.006949</td>\n",
       "    </tr>\n",
       "    <tr>\n",
       "      <th>4</th>\n",
       "      <td>1009</td>\n",
       "      <td>0</td>\n",
       "      <td>10144</td>\n",
       "      <td>0.006949</td>\n",
       "    </tr>\n",
       "  </tbody>\n",
       "</table>\n",
       "</div>"
      ],
      "text/plain": [
       "   EventID  Participated  PersonID  prediction\n",
       "0     1009             0      7673    0.006949\n",
       "1     1009             0     10039    0.011196\n",
       "2     1009             0     10141    0.006949\n",
       "3     1009             0     10143    0.006949\n",
       "4     1009             0     10144    0.006949"
      ]
     },
     "execution_count": 109,
     "metadata": {},
     "output_type": "execute_result"
    }
   ],
   "source": [
    "rankeval_testpreds_df_final.head()"
   ]
  },
  {
   "cell_type": "code",
   "execution_count": 110,
   "metadata": {
    "collapsed": true
   },
   "outputs": [],
   "source": [
    "rank_processing_final = rank_eval.RankEval(rankeval_testpreds_df_final, 'PersonID', 'EventID', 'Participated', 'prediction')"
   ]
  },
  {
   "cell_type": "code",
   "execution_count": 111,
   "metadata": {},
   "outputs": [
    {
     "data": {
      "text/plain": [
       "17.983112167762613"
      ]
     },
     "execution_count": 111,
     "metadata": {},
     "output_type": "execute_result"
    }
   ],
   "source": [
    "rank_processing_final.calc_test_rank()"
   ]
  },
  {
   "cell_type": "code",
   "execution_count": 112,
   "metadata": {
    "scrolled": true
   },
   "outputs": [
    {
     "data": {
      "text/plain": [
       "31.453857791225417"
      ]
     },
     "execution_count": 112,
     "metadata": {},
     "output_type": "execute_result"
    }
   ],
   "source": [
    "rank_processing_final.calc_popular_rank()"
   ]
  },
  {
   "cell_type": "code",
   "execution_count": 113,
   "metadata": {
    "collapsed": true
   },
   "outputs": [],
   "source": [
    "gb_trainvalpreds_final = gb_model_final.predict(X_gb_trainval)"
   ]
  },
  {
   "cell_type": "code",
   "execution_count": 114,
   "metadata": {},
   "outputs": [
    {
     "data": {
      "text/plain": [
       "740562"
      ]
     },
     "execution_count": 114,
     "metadata": {},
     "output_type": "execute_result"
    }
   ],
   "source": [
    "len(gb_trainvalpreds_final)"
   ]
  },
  {
   "cell_type": "code",
   "execution_count": 115,
   "metadata": {},
   "outputs": [
    {
     "data": {
      "text/plain": [
       "740562"
      ]
     },
     "execution_count": 115,
     "metadata": {},
     "output_type": "execute_result"
    }
   ],
   "source": [
    "len(y_gb_trainval)"
   ]
  },
  {
   "cell_type": "code",
   "execution_count": 116,
   "metadata": {},
   "outputs": [
    {
     "data": {
      "text/plain": [
       "740562"
      ]
     },
     "execution_count": 116,
     "metadata": {},
     "output_type": "execute_result"
    }
   ],
   "source": [
    "len(gb_train_data)"
   ]
  },
  {
   "cell_type": "code",
   "execution_count": 117,
   "metadata": {
    "collapsed": true
   },
   "outputs": [],
   "source": [
    "rankeval_trainvalpreds_df_final = pd.DataFrame({'PersonID': gb_train_data['PersonID'], 'EventID': \n",
    "                                      gb_train_data['EventID'], 'Participated': y_gb_trainval.values, \n",
    "                                      'prediction': gb_trainvalpreds_final})"
   ]
  },
  {
   "cell_type": "code",
   "execution_count": 118,
   "metadata": {
    "collapsed": true
   },
   "outputs": [],
   "source": [
    "rank_processing_final_train = rank_eval.RankEval(rankeval_trainvalpreds_df_final, 'PersonID', 'EventID', 'Participated', 'prediction')"
   ]
  },
  {
   "cell_type": "code",
   "execution_count": 119,
   "metadata": {},
   "outputs": [
    {
     "data": {
      "text/plain": [
       "8.1553912848389523"
      ]
     },
     "execution_count": 119,
     "metadata": {},
     "output_type": "execute_result"
    }
   ],
   "source": [
    "rank_processing_final_train.calc_test_rank()"
   ]
  },
  {
   "cell_type": "code",
   "execution_count": 120,
   "metadata": {},
   "outputs": [
    {
     "data": {
      "text/plain": [
       "32.596883134541969"
      ]
     },
     "execution_count": 120,
     "metadata": {},
     "output_type": "execute_result"
    }
   ],
   "source": [
    "rank_processing_final_train.calc_popular_rank()"
   ]
  },
  {
   "cell_type": "code",
   "execution_count": 121,
   "metadata": {},
   "outputs": [
    {
     "data": {
      "text/plain": [
       "{'alpha': 0.9,\n",
       " 'criterion': 'friedman_mse',\n",
       " 'init': None,\n",
       " 'learning_rate': 0.01,\n",
       " 'loss': 'ls',\n",
       " 'max_depth': 3,\n",
       " 'max_features': None,\n",
       " 'max_leaf_nodes': None,\n",
       " 'min_impurity_decrease': 0.0,\n",
       " 'min_impurity_split': None,\n",
       " 'min_samples_leaf': 1,\n",
       " 'min_samples_split': 2,\n",
       " 'min_weight_fraction_leaf': 0.0,\n",
       " 'n_estimators': 100,\n",
       " 'presort': 'auto',\n",
       " 'random_state': None,\n",
       " 'subsample': 0.5,\n",
       " 'verbose': 0,\n",
       " 'warm_start': False}"
      ]
     },
     "execution_count": 121,
     "metadata": {},
     "output_type": "execute_result"
    }
   ],
   "source": [
    "gb_model_final.get_params()"
   ]
  },
  {
   "cell_type": "code",
   "execution_count": 122,
   "metadata": {
    "scrolled": false
   },
   "outputs": [
    {
     "data": {
      "text/plain": [
       "[(0.17717054765539497, 'SeriesID_prediction'),\n",
       " (0.0098946452461643793, 'EventTypeID_prediction'),\n",
       " (0.23573824017979528, 'Venue_Zip_prediction'),\n",
       " (0.46188927036991656, 'Total_Fee_Avg_prediction'),\n",
       " (0.11530729654872904, 'Miles2_Avg_prediction')]"
      ]
     },
     "execution_count": 122,
     "metadata": {},
     "output_type": "execute_result"
    }
   ],
   "source": [
    "zip(gb_model_final.feature_importances_, X_gb_train.columns.values)"
   ]
  },
  {
   "cell_type": "code",
   "execution_count": 123,
   "metadata": {
    "collapsed": true
   },
   "outputs": [],
   "source": [
    "with open ('30OCT17_finalfitmodelsv2/gb_model_final', 'w') as f:\n",
    "    pickle.dump(gb_model_final, f)\n",
    "with open ('30OCT17_finalfitmodelsv2/gb_testpreds_final', 'w') as f:\n",
    "    pickle.dump(gb_testpreds_final, f)"
   ]
  },
  {
   "cell_type": "markdown",
   "metadata": {
    "collapsed": true
   },
   "source": [
    "## Gather Info on Top Events and Likely Participants from Top 5 Recommendations Info for Each Person"
   ]
  },
  {
   "cell_type": "code",
   "execution_count": 124,
   "metadata": {
    "collapsed": true
   },
   "outputs": [],
   "source": [
    "with open ('30OCT17_finalfitmodelsv2/gb_testpreds_final', 'rb') as f:\n",
    "    gb_testpreds_final = pickle.load(f)\n",
    "with open ('30OCT17_finalfitmodelsv2/gb_test_data.pkl', 'rb') as f:\n",
    "    gb_test_data = pickle.load(f)\n",
    "with open ('30OCT17_finalfitmodelsv2/gb_train_data.pkl', 'rb') as f:\n",
    "    gb_train_data = pickle.load(f)"
   ]
  },
  {
   "cell_type": "code",
   "execution_count": 125,
   "metadata": {
    "collapsed": true
   },
   "outputs": [],
   "source": [
    "with open ('30OCT17_finalfitmodelsv2/cleaned_df.pkl', 'rb') as f:\n",
    "    cleaned_data = pickle.load(f)"
   ]
  },
  {
   "cell_type": "code",
   "execution_count": 126,
   "metadata": {
    "collapsed": true
   },
   "outputs": [],
   "source": [
    "rankeval_testpreds_df_final = pd.DataFrame({'PersonID': gb_test_data['PersonID'], 'EventID': \n",
    "                                      gb_test_data['EventID'], 'Participated': gb_test_data['Participated'], \n",
    "                                      'prediction': gb_testpreds_final})"
   ]
  },
  {
   "cell_type": "code",
   "execution_count": 127,
   "metadata": {
    "collapsed": true
   },
   "outputs": [],
   "source": [
    "D_topeventcounts = defaultdict(int)\n",
    "D_likelyusers = defaultdict(list)\n",
    "\n",
    "for person in rankeval_testpreds_df_final['PersonID'].unique():\n",
    "    temp_df = rankeval_testpreds_df_final[rankeval_testpreds_df_final[\"PersonID\"] == person].copy()\n",
    "    temp_df.sort_values('prediction', ascending=False, inplace=True)\n",
    "    temp_df = temp_df.iloc[:5]\n",
    "    \n",
    "    for event in temp_df['EventID'].values:\n",
    "        D_topeventcounts[event] += 1\n",
    "        D_likelyusers[event].append(person)"
   ]
  },
  {
   "cell_type": "code",
   "execution_count": 128,
   "metadata": {},
   "outputs": [
    {
     "data": {
      "text/plain": [
       "defaultdict(int,\n",
       "            {63: 818,\n",
       "             64: 5365,\n",
       "             66: 5120,\n",
       "             67: 4759,\n",
       "             70: 1606,\n",
       "             71: 1232,\n",
       "             72: 1292,\n",
       "             74: 1333,\n",
       "             76: 3277,\n",
       "             77: 1014,\n",
       "             78: 1839,\n",
       "             79: 1883,\n",
       "             80: 2584,\n",
       "             81: 4283,\n",
       "             82: 2826,\n",
       "             1009: 4092,\n",
       "             1010: 8621,\n",
       "             1018: 460,\n",
       "             4000: 31,\n",
       "             4003: 1385})"
      ]
     },
     "execution_count": 128,
     "metadata": {},
     "output_type": "execute_result"
    }
   ],
   "source": [
    "D_topeventcounts\n",
    "#Number of instances that an event in the test dataset shows up in a person's top 10 recommendations"
   ]
  },
  {
   "cell_type": "code",
   "execution_count": 129,
   "metadata": {
    "collapsed": true
   },
   "outputs": [],
   "source": [
    "topevents_df = pd.DataFrame({'EventID': D_topeventcounts.keys(), 'Count in Top 5s': D_topeventcounts.values()})"
   ]
  },
  {
   "cell_type": "code",
   "execution_count": 130,
   "metadata": {
    "collapsed": true
   },
   "outputs": [],
   "source": [
    "topevents_df = pd.merge(topevents_df, cleaned_data, on='EventID')"
   ]
  },
  {
   "cell_type": "code",
   "execution_count": 131,
   "metadata": {
    "collapsed": true
   },
   "outputs": [],
   "source": [
    "topevents_df = topevents_df[['Count in Top 5s', 'EventID', 'Total fee', 'Event_Name', 'Event_Date', 'MergeoEvent', \n",
    "                            'EventType', 'SeriesID', 'Miles2', 'Venue_Zip']]"
   ]
  },
  {
   "cell_type": "code",
   "execution_count": 132,
   "metadata": {
    "collapsed": true
   },
   "outputs": [],
   "source": [
    "D_avgfees = defaultdict(float)\n",
    "\n",
    "idx = topevents_df.groupby('EventID')['Total fee'].mean().index.values\n",
    "vals = topevents_df.groupby('EventID')['Total fee'].mean().values\n",
    "\n",
    "for idx, val in zip(idx, vals):\n",
    "    D_avgfees[idx] = round(val, 2)"
   ]
  },
  {
   "cell_type": "code",
   "execution_count": 133,
   "metadata": {
    "collapsed": true
   },
   "outputs": [],
   "source": [
    "D_avgmiles = defaultdict(float)\n",
    "\n",
    "idx = topevents_df.groupby('EventID')['Miles2'].mean().index.values\n",
    "vals = topevents_df.groupby('EventID')['Miles2'].mean().values\n",
    "\n",
    "for idx, val in zip(idx, vals):\n",
    "    D_avgmiles[idx] = round(val, 2)"
   ]
  },
  {
   "cell_type": "code",
   "execution_count": 134,
   "metadata": {
    "collapsed": true
   },
   "outputs": [],
   "source": [
    "topevents_df['Total fee'] = topevents_df['EventID'].apply(lambda x: D_avgfees[x])\n",
    "topevents_df['Miles2'] = topevents_df['EventID'].apply(lambda x: D_avgmiles[x])"
   ]
  },
  {
   "cell_type": "code",
   "execution_count": 135,
   "metadata": {
    "collapsed": true
   },
   "outputs": [],
   "source": [
    "topevents_df.drop_duplicates(subset='EventID', inplace=True)"
   ]
  },
  {
   "cell_type": "code",
   "execution_count": 136,
   "metadata": {},
   "outputs": [
    {
     "data": {
      "text/html": [
       "<div>\n",
       "<style>\n",
       "    .dataframe thead tr:only-child th {\n",
       "        text-align: right;\n",
       "    }\n",
       "\n",
       "    .dataframe thead th {\n",
       "        text-align: left;\n",
       "    }\n",
       "\n",
       "    .dataframe tbody tr th {\n",
       "        vertical-align: top;\n",
       "    }\n",
       "</style>\n",
       "<table border=\"1\" class=\"dataframe\">\n",
       "  <thead>\n",
       "    <tr style=\"text-align: right;\">\n",
       "      <th></th>\n",
       "      <th>Count in Top 5s</th>\n",
       "      <th>EventID</th>\n",
       "      <th>Total fee</th>\n",
       "      <th>Event_Name</th>\n",
       "      <th>Event_Date</th>\n",
       "      <th>MergeoEvent</th>\n",
       "      <th>EventType</th>\n",
       "      <th>SeriesID</th>\n",
       "      <th>Miles2</th>\n",
       "      <th>Venue_Zip</th>\n",
       "    </tr>\n",
       "  </thead>\n",
       "  <tbody>\n",
       "    <tr>\n",
       "      <th>0</th>\n",
       "      <td>8621</td>\n",
       "      <td>1010</td>\n",
       "      <td>38.58</td>\n",
       "      <td>Everett Scramble 2016</td>\n",
       "      <td>2016-07-24</td>\n",
       "      <td>True</td>\n",
       "      <td>Street Scramble</td>\n",
       "      <td>4.0</td>\n",
       "      <td>8.00</td>\n",
       "      <td>98208</td>\n",
       "    </tr>\n",
       "    <tr>\n",
       "      <th>1</th>\n",
       "      <td>5365</td>\n",
       "      <td>64</td>\n",
       "      <td>33.94</td>\n",
       "      <td>Absolution Run</td>\n",
       "      <td>2017-01-01</td>\n",
       "      <td>True</td>\n",
       "      <td>Trail Run</td>\n",
       "      <td>1.0</td>\n",
       "      <td>5.16</td>\n",
       "      <td>98028</td>\n",
       "    </tr>\n",
       "    <tr>\n",
       "      <th>2</th>\n",
       "      <td>5120</td>\n",
       "      <td>66</td>\n",
       "      <td>38.06</td>\n",
       "      <td>Frost Eagle</td>\n",
       "      <td>2017-01-21</td>\n",
       "      <td>True</td>\n",
       "      <td>Trail Run</td>\n",
       "      <td>1.0</td>\n",
       "      <td>8.22</td>\n",
       "      <td>98074</td>\n",
       "    </tr>\n",
       "    <tr>\n",
       "      <th>3</th>\n",
       "      <td>4759</td>\n",
       "      <td>67</td>\n",
       "      <td>29.61</td>\n",
       "      <td>Interlaken Icicle Dash</td>\n",
       "      <td>2017-02-05</td>\n",
       "      <td>True</td>\n",
       "      <td>Trail Run</td>\n",
       "      <td>1.0</td>\n",
       "      <td>4.21</td>\n",
       "      <td>98102</td>\n",
       "    </tr>\n",
       "    <tr>\n",
       "      <th>4</th>\n",
       "      <td>4283</td>\n",
       "      <td>81</td>\n",
       "      <td>31.48</td>\n",
       "      <td>Seward Sizzler</td>\n",
       "      <td>2017-07-25</td>\n",
       "      <td>True</td>\n",
       "      <td>Trail Run</td>\n",
       "      <td>3.0</td>\n",
       "      <td>5.20</td>\n",
       "      <td>98118</td>\n",
       "    </tr>\n",
       "    <tr>\n",
       "      <th>5</th>\n",
       "      <td>4092</td>\n",
       "      <td>1009</td>\n",
       "      <td>38.58</td>\n",
       "      <td>Gig Harbor Scramble 2016</td>\n",
       "      <td>2016-05-28</td>\n",
       "      <td>True</td>\n",
       "      <td>Street Scramble</td>\n",
       "      <td>4.0</td>\n",
       "      <td>8.00</td>\n",
       "      <td>98332</td>\n",
       "    </tr>\n",
       "    <tr>\n",
       "      <th>6</th>\n",
       "      <td>3277</td>\n",
       "      <td>76</td>\n",
       "      <td>46.76</td>\n",
       "      <td>Teanaway Trail Run</td>\n",
       "      <td>2017-06-04</td>\n",
       "      <td>True</td>\n",
       "      <td>Trail Run</td>\n",
       "      <td>2.0</td>\n",
       "      <td>9.87</td>\n",
       "      <td>98922</td>\n",
       "    </tr>\n",
       "    <tr>\n",
       "      <th>7</th>\n",
       "      <td>2826</td>\n",
       "      <td>82</td>\n",
       "      <td>38.58</td>\n",
       "      <td>Summer Eddy</td>\n",
       "      <td>2017-08-08</td>\n",
       "      <td>True</td>\n",
       "      <td>Trail Run</td>\n",
       "      <td>3.0</td>\n",
       "      <td>5.51</td>\n",
       "      <td>98028</td>\n",
       "    </tr>\n",
       "    <tr>\n",
       "      <th>8</th>\n",
       "      <td>2584</td>\n",
       "      <td>80</td>\n",
       "      <td>38.98</td>\n",
       "      <td>Pie High Trail Run</td>\n",
       "      <td>2017-07-22</td>\n",
       "      <td>True</td>\n",
       "      <td>Trail Run</td>\n",
       "      <td>2.0</td>\n",
       "      <td>8.18</td>\n",
       "      <td>98290</td>\n",
       "    </tr>\n",
       "    <tr>\n",
       "      <th>9</th>\n",
       "      <td>1883</td>\n",
       "      <td>79</td>\n",
       "      <td>30.55</td>\n",
       "      <td>Carkeek Warmer</td>\n",
       "      <td>2017-07-11</td>\n",
       "      <td>True</td>\n",
       "      <td>Trail Run</td>\n",
       "      <td>3.0</td>\n",
       "      <td>4.66</td>\n",
       "      <td>98177</td>\n",
       "    </tr>\n",
       "    <tr>\n",
       "      <th>10</th>\n",
       "      <td>1839</td>\n",
       "      <td>78</td>\n",
       "      <td>37.86</td>\n",
       "      <td>Sunshine Salutation</td>\n",
       "      <td>2017-06-20</td>\n",
       "      <td>True</td>\n",
       "      <td>Trail Run</td>\n",
       "      <td>3.0</td>\n",
       "      <td>6.74</td>\n",
       "      <td>98053</td>\n",
       "    </tr>\n",
       "    <tr>\n",
       "      <th>11</th>\n",
       "      <td>1606</td>\n",
       "      <td>70</td>\n",
       "      <td>39.10</td>\n",
       "      <td>Cedar Mountain Trail Run</td>\n",
       "      <td>2017-03-25</td>\n",
       "      <td>True</td>\n",
       "      <td>Trail Run</td>\n",
       "      <td>0.0</td>\n",
       "      <td>7.06</td>\n",
       "      <td>98038</td>\n",
       "    </tr>\n",
       "    <tr>\n",
       "      <th>12</th>\n",
       "      <td>1385</td>\n",
       "      <td>4003</td>\n",
       "      <td>26.18</td>\n",
       "      <td>The Big Run 5k</td>\n",
       "      <td>2017-06-07</td>\n",
       "      <td>False</td>\n",
       "      <td>Trail Run</td>\n",
       "      <td>0.0</td>\n",
       "      <td>3.00</td>\n",
       "      <td>98102</td>\n",
       "    </tr>\n",
       "    <tr>\n",
       "      <th>13</th>\n",
       "      <td>1333</td>\n",
       "      <td>74</td>\n",
       "      <td>39.97</td>\n",
       "      <td>Tiger Mountain Trail Run</td>\n",
       "      <td>2017-05-20</td>\n",
       "      <td>True</td>\n",
       "      <td>Trail Run</td>\n",
       "      <td>2.0</td>\n",
       "      <td>11.07</td>\n",
       "      <td>98027</td>\n",
       "    </tr>\n",
       "    <tr>\n",
       "      <th>14</th>\n",
       "      <td>1292</td>\n",
       "      <td>72</td>\n",
       "      <td>41.62</td>\n",
       "      <td>Spring Eagle Trail Run</td>\n",
       "      <td>2017-04-29</td>\n",
       "      <td>True</td>\n",
       "      <td>Trail Run</td>\n",
       "      <td>2.0</td>\n",
       "      <td>10.97</td>\n",
       "      <td>98074</td>\n",
       "    </tr>\n",
       "    <tr>\n",
       "      <th>15</th>\n",
       "      <td>1232</td>\n",
       "      <td>71</td>\n",
       "      <td>45.17</td>\n",
       "      <td>Rattlesnake Ridge Run</td>\n",
       "      <td>2017-04-15</td>\n",
       "      <td>True</td>\n",
       "      <td>Trail Run</td>\n",
       "      <td>2.0</td>\n",
       "      <td>9.30</td>\n",
       "      <td>98045</td>\n",
       "    </tr>\n",
       "    <tr>\n",
       "      <th>16</th>\n",
       "      <td>1014</td>\n",
       "      <td>77</td>\n",
       "      <td>29.04</td>\n",
       "      <td>Ravenna Run the Ravine</td>\n",
       "      <td>2017-06-06</td>\n",
       "      <td>True</td>\n",
       "      <td>Trail Run</td>\n",
       "      <td>3.0</td>\n",
       "      <td>4.24</td>\n",
       "      <td>98105</td>\n",
       "    </tr>\n",
       "    <tr>\n",
       "      <th>17</th>\n",
       "      <td>818</td>\n",
       "      <td>63</td>\n",
       "      <td>29.64</td>\n",
       "      <td>Seward Solstice Run</td>\n",
       "      <td>2016-12-17</td>\n",
       "      <td>True</td>\n",
       "      <td>Trail Run</td>\n",
       "      <td>1.0</td>\n",
       "      <td>5.07</td>\n",
       "      <td>98118</td>\n",
       "    </tr>\n",
       "    <tr>\n",
       "      <th>18</th>\n",
       "      <td>460</td>\n",
       "      <td>1018</td>\n",
       "      <td>27.36</td>\n",
       "      <td>Fremont Street Scramble 2017</td>\n",
       "      <td>2017-09-24</td>\n",
       "      <td>True</td>\n",
       "      <td>Street Scramble</td>\n",
       "      <td>4.0</td>\n",
       "      <td>8.00</td>\n",
       "      <td>98103</td>\n",
       "    </tr>\n",
       "    <tr>\n",
       "      <th>19</th>\n",
       "      <td>31</td>\n",
       "      <td>4000</td>\n",
       "      <td>38.58</td>\n",
       "      <td>Cougar Mountain Trail Run #5</td>\n",
       "      <td>2016-10-30</td>\n",
       "      <td>False</td>\n",
       "      <td>Trail Run</td>\n",
       "      <td>0.0</td>\n",
       "      <td>13.71</td>\n",
       "      <td>98006</td>\n",
       "    </tr>\n",
       "  </tbody>\n",
       "</table>\n",
       "</div>"
      ],
      "text/plain": [
       "    Count in Top 5s  EventID  Total fee                    Event_Name  \\\n",
       "0              8621     1010      38.58         Everett Scramble 2016   \n",
       "1              5365       64      33.94                Absolution Run   \n",
       "2              5120       66      38.06                   Frost Eagle   \n",
       "3              4759       67      29.61        Interlaken Icicle Dash   \n",
       "4              4283       81      31.48                Seward Sizzler   \n",
       "5              4092     1009      38.58      Gig Harbor Scramble 2016   \n",
       "6              3277       76      46.76            Teanaway Trail Run   \n",
       "7              2826       82      38.58                   Summer Eddy   \n",
       "8              2584       80      38.98            Pie High Trail Run   \n",
       "9              1883       79      30.55                Carkeek Warmer   \n",
       "10             1839       78      37.86           Sunshine Salutation   \n",
       "11             1606       70      39.10      Cedar Mountain Trail Run   \n",
       "12             1385     4003      26.18                The Big Run 5k   \n",
       "13             1333       74      39.97      Tiger Mountain Trail Run   \n",
       "14             1292       72      41.62        Spring Eagle Trail Run   \n",
       "15             1232       71      45.17         Rattlesnake Ridge Run   \n",
       "16             1014       77      29.04        Ravenna Run the Ravine   \n",
       "17              818       63      29.64           Seward Solstice Run   \n",
       "18              460     1018      27.36  Fremont Street Scramble 2017   \n",
       "19               31     4000      38.58  Cougar Mountain Trail Run #5   \n",
       "\n",
       "   Event_Date  MergeoEvent        EventType  SeriesID  Miles2  Venue_Zip  \n",
       "0  2016-07-24         True  Street Scramble       4.0    8.00      98208  \n",
       "1  2017-01-01         True        Trail Run       1.0    5.16      98028  \n",
       "2  2017-01-21         True        Trail Run       1.0    8.22      98074  \n",
       "3  2017-02-05         True        Trail Run       1.0    4.21      98102  \n",
       "4  2017-07-25         True        Trail Run       3.0    5.20      98118  \n",
       "5  2016-05-28         True  Street Scramble       4.0    8.00      98332  \n",
       "6  2017-06-04         True        Trail Run       2.0    9.87      98922  \n",
       "7  2017-08-08         True        Trail Run       3.0    5.51      98028  \n",
       "8  2017-07-22         True        Trail Run       2.0    8.18      98290  \n",
       "9  2017-07-11         True        Trail Run       3.0    4.66      98177  \n",
       "10 2017-06-20         True        Trail Run       3.0    6.74      98053  \n",
       "11 2017-03-25         True        Trail Run       0.0    7.06      98038  \n",
       "12 2017-06-07        False        Trail Run       0.0    3.00      98102  \n",
       "13 2017-05-20         True        Trail Run       2.0   11.07      98027  \n",
       "14 2017-04-29         True        Trail Run       2.0   10.97      98074  \n",
       "15 2017-04-15         True        Trail Run       2.0    9.30      98045  \n",
       "16 2017-06-06         True        Trail Run       3.0    4.24      98105  \n",
       "17 2016-12-17         True        Trail Run       1.0    5.07      98118  \n",
       "18 2017-09-24         True  Street Scramble       4.0    8.00      98103  \n",
       "19 2016-10-30        False        Trail Run       0.0   13.71      98006  "
      ]
     },
     "execution_count": 136,
     "metadata": {},
     "output_type": "execute_result"
    }
   ],
   "source": [
    "topevents_df.sort_values(by='Count in Top 5s', ascending=False, inplace=True)\n",
    "topevents_df.reset_index(drop=True, inplace = True)\n",
    "topevents_df\n",
    "\n",
    "#Not much trend showing up in top recommended events with regard to fee, miles, venue zips, event date....a little series\n",
    "#try changing miles ALS to # of distance options at race rather than average mileage for race"
   ]
  },
  {
   "cell_type": "code",
   "execution_count": 196,
   "metadata": {},
   "outputs": [
    {
     "data": {
      "text/html": [
       "<div>\n",
       "<style>\n",
       "    .dataframe thead tr:only-child th {\n",
       "        text-align: right;\n",
       "    }\n",
       "\n",
       "    .dataframe thead th {\n",
       "        text-align: left;\n",
       "    }\n",
       "\n",
       "    .dataframe tbody tr th {\n",
       "        vertical-align: top;\n",
       "    }\n",
       "</style>\n",
       "<table border=\"1\" class=\"dataframe\">\n",
       "  <thead>\n",
       "    <tr style=\"text-align: right;\">\n",
       "      <th></th>\n",
       "      <th>Count in Top 5s</th>\n",
       "      <th>Event_Name</th>\n",
       "      <th>EventType</th>\n",
       "      <th>SeriesID</th>\n",
       "    </tr>\n",
       "  </thead>\n",
       "  <tbody>\n",
       "    <tr>\n",
       "      <th>0</th>\n",
       "      <td>8621</td>\n",
       "      <td>Everett Scramble 2016</td>\n",
       "      <td>Street Scramble</td>\n",
       "      <td>4.0</td>\n",
       "    </tr>\n",
       "    <tr>\n",
       "      <th>1</th>\n",
       "      <td>5365</td>\n",
       "      <td>Absolution Run</td>\n",
       "      <td>Trail Run</td>\n",
       "      <td>1.0</td>\n",
       "    </tr>\n",
       "    <tr>\n",
       "      <th>2</th>\n",
       "      <td>5120</td>\n",
       "      <td>Frost Eagle</td>\n",
       "      <td>Trail Run</td>\n",
       "      <td>1.0</td>\n",
       "    </tr>\n",
       "    <tr>\n",
       "      <th>3</th>\n",
       "      <td>4759</td>\n",
       "      <td>Interlaken Icicle Dash</td>\n",
       "      <td>Trail Run</td>\n",
       "      <td>1.0</td>\n",
       "    </tr>\n",
       "    <tr>\n",
       "      <th>4</th>\n",
       "      <td>4283</td>\n",
       "      <td>Seward Sizzler</td>\n",
       "      <td>Trail Run</td>\n",
       "      <td>3.0</td>\n",
       "    </tr>\n",
       "    <tr>\n",
       "      <th>5</th>\n",
       "      <td>4092</td>\n",
       "      <td>Gig Harbor Scramble 2016</td>\n",
       "      <td>Street Scramble</td>\n",
       "      <td>4.0</td>\n",
       "    </tr>\n",
       "    <tr>\n",
       "      <th>6</th>\n",
       "      <td>3277</td>\n",
       "      <td>Teanaway Trail Run</td>\n",
       "      <td>Trail Run</td>\n",
       "      <td>2.0</td>\n",
       "    </tr>\n",
       "    <tr>\n",
       "      <th>7</th>\n",
       "      <td>2826</td>\n",
       "      <td>Summer Eddy</td>\n",
       "      <td>Trail Run</td>\n",
       "      <td>3.0</td>\n",
       "    </tr>\n",
       "    <tr>\n",
       "      <th>8</th>\n",
       "      <td>2584</td>\n",
       "      <td>Pie High Trail Run</td>\n",
       "      <td>Trail Run</td>\n",
       "      <td>2.0</td>\n",
       "    </tr>\n",
       "    <tr>\n",
       "      <th>9</th>\n",
       "      <td>1883</td>\n",
       "      <td>Carkeek Warmer</td>\n",
       "      <td>Trail Run</td>\n",
       "      <td>3.0</td>\n",
       "    </tr>\n",
       "  </tbody>\n",
       "</table>\n",
       "</div>"
      ],
      "text/plain": [
       "   Count in Top 5s                Event_Name        EventType  SeriesID\n",
       "0             8621     Everett Scramble 2016  Street Scramble       4.0\n",
       "1             5365            Absolution Run        Trail Run       1.0\n",
       "2             5120               Frost Eagle        Trail Run       1.0\n",
       "3             4759    Interlaken Icicle Dash        Trail Run       1.0\n",
       "4             4283            Seward Sizzler        Trail Run       3.0\n",
       "5             4092  Gig Harbor Scramble 2016  Street Scramble       4.0\n",
       "6             3277        Teanaway Trail Run        Trail Run       2.0\n",
       "7             2826               Summer Eddy        Trail Run       3.0\n",
       "8             2584        Pie High Trail Run        Trail Run       2.0\n",
       "9             1883            Carkeek Warmer        Trail Run       3.0"
      ]
     },
     "execution_count": 196,
     "metadata": {},
     "output_type": "execute_result"
    }
   ],
   "source": [
    "topevents_snapshot = topevents_df[['Count in Top 5s', 'Event_Name', 'EventType', 'SeriesID']].iloc[:10]\n",
    "topevents_snapshot"
   ]
  },
  {
   "cell_type": "code",
   "execution_count": 197,
   "metadata": {},
   "outputs": [
    {
     "data": {
      "text/html": [
       "<div>\n",
       "<style>\n",
       "    .dataframe thead tr:only-child th {\n",
       "        text-align: right;\n",
       "    }\n",
       "\n",
       "    .dataframe thead th {\n",
       "        text-align: left;\n",
       "    }\n",
       "\n",
       "    .dataframe tbody tr th {\n",
       "        vertical-align: top;\n",
       "    }\n",
       "</style>\n",
       "<table border=\"1\" class=\"dataframe\">\n",
       "  <thead>\n",
       "    <tr style=\"text-align: right;\">\n",
       "      <th></th>\n",
       "      <th>Top5_Rec</th>\n",
       "      <th>Event_Name</th>\n",
       "      <th>EventType</th>\n",
       "      <th>SeriesID</th>\n",
       "      <th>Attendance</th>\n",
       "    </tr>\n",
       "  </thead>\n",
       "  <tbody>\n",
       "    <tr>\n",
       "      <th>0</th>\n",
       "      <td>8621</td>\n",
       "      <td>Everett Scramble 2016</td>\n",
       "      <td>Street Scramble</td>\n",
       "      <td>4.0</td>\n",
       "      <td>86</td>\n",
       "    </tr>\n",
       "    <tr>\n",
       "      <th>1</th>\n",
       "      <td>5365</td>\n",
       "      <td>Absolution Run</td>\n",
       "      <td>Trail Run</td>\n",
       "      <td>1.0</td>\n",
       "      <td>203</td>\n",
       "    </tr>\n",
       "    <tr>\n",
       "      <th>2</th>\n",
       "      <td>5120</td>\n",
       "      <td>Frost Eagle</td>\n",
       "      <td>Trail Run</td>\n",
       "      <td>1.0</td>\n",
       "      <td>231</td>\n",
       "    </tr>\n",
       "    <tr>\n",
       "      <th>3</th>\n",
       "      <td>4759</td>\n",
       "      <td>Interlaken Icicle Dash</td>\n",
       "      <td>Trail Run</td>\n",
       "      <td>1.0</td>\n",
       "      <td>265</td>\n",
       "    </tr>\n",
       "    <tr>\n",
       "      <th>4</th>\n",
       "      <td>4283</td>\n",
       "      <td>Seward Sizzler</td>\n",
       "      <td>Trail Run</td>\n",
       "      <td>3.0</td>\n",
       "      <td>101</td>\n",
       "    </tr>\n",
       "    <tr>\n",
       "      <th>5</th>\n",
       "      <td>4092</td>\n",
       "      <td>Gig Harbor Scramble 2016</td>\n",
       "      <td>Street Scramble</td>\n",
       "      <td>4.0</td>\n",
       "      <td>439</td>\n",
       "    </tr>\n",
       "    <tr>\n",
       "      <th>6</th>\n",
       "      <td>3277</td>\n",
       "      <td>Teanaway Trail Run</td>\n",
       "      <td>Trail Run</td>\n",
       "      <td>2.0</td>\n",
       "      <td>348</td>\n",
       "    </tr>\n",
       "    <tr>\n",
       "      <th>7</th>\n",
       "      <td>2826</td>\n",
       "      <td>Summer Eddy</td>\n",
       "      <td>Trail Run</td>\n",
       "      <td>3.0</td>\n",
       "      <td>85</td>\n",
       "    </tr>\n",
       "    <tr>\n",
       "      <th>8</th>\n",
       "      <td>2584</td>\n",
       "      <td>Pie High Trail Run</td>\n",
       "      <td>Trail Run</td>\n",
       "      <td>2.0</td>\n",
       "      <td>221</td>\n",
       "    </tr>\n",
       "    <tr>\n",
       "      <th>9</th>\n",
       "      <td>1883</td>\n",
       "      <td>Carkeek Warmer</td>\n",
       "      <td>Trail Run</td>\n",
       "      <td>3.0</td>\n",
       "      <td>170</td>\n",
       "    </tr>\n",
       "  </tbody>\n",
       "</table>\n",
       "</div>"
      ],
      "text/plain": [
       "   Top5_Rec                Event_Name        EventType  SeriesID  Attendance\n",
       "0      8621     Everett Scramble 2016  Street Scramble       4.0          86\n",
       "1      5365            Absolution Run        Trail Run       1.0         203\n",
       "2      5120               Frost Eagle        Trail Run       1.0         231\n",
       "3      4759    Interlaken Icicle Dash        Trail Run       1.0         265\n",
       "4      4283            Seward Sizzler        Trail Run       3.0         101\n",
       "5      4092  Gig Harbor Scramble 2016  Street Scramble       4.0         439\n",
       "6      3277        Teanaway Trail Run        Trail Run       2.0         348\n",
       "7      2826               Summer Eddy        Trail Run       3.0          85\n",
       "8      2584        Pie High Trail Run        Trail Run       2.0         221\n",
       "9      1883            Carkeek Warmer        Trail Run       3.0         170"
      ]
     },
     "execution_count": 197,
     "metadata": {},
     "output_type": "execute_result"
    }
   ],
   "source": [
    "topevents_snapshot['Attendance'] = [86, 203, 231, 265, 101, 439, 348, 85, 221, 170]\n",
    "topevents_snapshot.rename(columns={'Count in Top 5s' : 'Top5_Rec'}, inplace=True)\n",
    "topevents_snapshot"
   ]
  },
  {
   "cell_type": "code",
   "execution_count": 141,
   "metadata": {},
   "outputs": [
    {
     "data": {
      "text/plain": [
       "[<matplotlib.lines.Line2D at 0x11ffee590>]"
      ]
     },
     "execution_count": 141,
     "metadata": {},
     "output_type": "execute_result"
    },
    {
     "data": {
      "image/png": "[encoded data removed]",
      "text/plain": [
       "<matplotlib.figure.Figure at 0x11d9db690>"
      ]
     },
     "metadata": {},
     "output_type": "display_data"
    }
   ],
   "source": [
    "plt.plot(topevents_df.index.values, topevents_df['Total fee'])"
   ]
  },
  {
   "cell_type": "code",
   "execution_count": 142,
   "metadata": {},
   "outputs": [
    {
     "data": {
      "text/plain": [
       "[10150, 10151, 9950, 10179, 10066, 10067, 10185, 10192, 10193, 10200]"
      ]
     },
     "execution_count": 142,
     "metadata": {},
     "output_type": "execute_result"
    }
   ],
   "source": [
    "D_likelyusers[81][:10]\n",
    "#PersonIDs for which the given EventID is in their Top 10 recommendations"
   ]
  },
  {
   "cell_type": "code",
   "execution_count": 143,
   "metadata": {},
   "outputs": [
    {
     "data": {
      "text/html": [
       "<div>\n",
       "<style>\n",
       "    .dataframe thead tr:only-child th {\n",
       "        text-align: right;\n",
       "    }\n",
       "\n",
       "    .dataframe thead th {\n",
       "        text-align: left;\n",
       "    }\n",
       "\n",
       "    .dataframe tbody tr th {\n",
       "        vertical-align: top;\n",
       "    }\n",
       "</style>\n",
       "<table border=\"1\" class=\"dataframe\">\n",
       "  <thead>\n",
       "    <tr style=\"text-align: right;\">\n",
       "      <th></th>\n",
       "      <th>EventID</th>\n",
       "      <th>PersonID</th>\n",
       "    </tr>\n",
       "  </thead>\n",
       "  <tbody>\n",
       "    <tr>\n",
       "      <th>0</th>\n",
       "      <td>81</td>\n",
       "      <td>10150</td>\n",
       "    </tr>\n",
       "    <tr>\n",
       "      <th>1</th>\n",
       "      <td>81</td>\n",
       "      <td>10151</td>\n",
       "    </tr>\n",
       "    <tr>\n",
       "      <th>2</th>\n",
       "      <td>81</td>\n",
       "      <td>9950</td>\n",
       "    </tr>\n",
       "    <tr>\n",
       "      <th>3</th>\n",
       "      <td>81</td>\n",
       "      <td>10179</td>\n",
       "    </tr>\n",
       "    <tr>\n",
       "      <th>4</th>\n",
       "      <td>81</td>\n",
       "      <td>10066</td>\n",
       "    </tr>\n",
       "  </tbody>\n",
       "</table>\n",
       "</div>"
      ],
      "text/plain": [
       "   EventID  PersonID\n",
       "0       81     10150\n",
       "1       81     10151\n",
       "2       81      9950\n",
       "3       81     10179\n",
       "4       81     10066"
      ]
     },
     "execution_count": 143,
     "metadata": {},
     "output_type": "execute_result"
    }
   ],
   "source": [
    "likelyusers_event81_df = pd.DataFrame({'EventID': 81, 'PersonID': D_likelyusers[81]})\n",
    "likelyusers_event81_df.head()"
   ]
  },
  {
   "cell_type": "code",
   "execution_count": 144,
   "metadata": {
    "collapsed": true
   },
   "outputs": [],
   "source": [
    "likelyusers_event81_df = pd.merge(likelyusers_event81_df, cleaned_data, on='PersonID')"
   ]
  },
  {
   "cell_type": "code",
   "execution_count": 145,
   "metadata": {
    "collapsed": true
   },
   "outputs": [],
   "source": [
    "likelyusers_event81_df = likelyusers_event81_df[['PersonID', 'Gender', 'Age2', 'Zip Code', 'EventID_x']]"
   ]
  },
  {
   "cell_type": "code",
   "execution_count": 146,
   "metadata": {
    "collapsed": true
   },
   "outputs": [],
   "source": [
    "likelyusers_event81_df.drop_duplicates(subset='PersonID', inplace=True)"
   ]
  },
  {
   "cell_type": "code",
   "execution_count": 147,
   "metadata": {},
   "outputs": [
    {
     "data": {
      "text/html": [
       "<div>\n",
       "<style>\n",
       "    .dataframe thead tr:only-child th {\n",
       "        text-align: right;\n",
       "    }\n",
       "\n",
       "    .dataframe thead th {\n",
       "        text-align: left;\n",
       "    }\n",
       "\n",
       "    .dataframe tbody tr th {\n",
       "        vertical-align: top;\n",
       "    }\n",
       "</style>\n",
       "<table border=\"1\" class=\"dataframe\">\n",
       "  <thead>\n",
       "    <tr style=\"text-align: right;\">\n",
       "      <th></th>\n",
       "      <th>PersonID</th>\n",
       "      <th>Gender</th>\n",
       "      <th>Age2</th>\n",
       "      <th>Zip Code</th>\n",
       "      <th>EventID_x</th>\n",
       "    </tr>\n",
       "  </thead>\n",
       "  <tbody>\n",
       "    <tr>\n",
       "      <th>0</th>\n",
       "      <td>10150</td>\n",
       "      <td>Female</td>\n",
       "      <td>45.0</td>\n",
       "      <td>98008</td>\n",
       "      <td>81</td>\n",
       "    </tr>\n",
       "    <tr>\n",
       "      <th>4</th>\n",
       "      <td>10151</td>\n",
       "      <td>Female</td>\n",
       "      <td>25.0</td>\n",
       "      <td>98109</td>\n",
       "      <td>81</td>\n",
       "    </tr>\n",
       "    <tr>\n",
       "      <th>8</th>\n",
       "      <td>9950</td>\n",
       "      <td>Female</td>\n",
       "      <td>34.0</td>\n",
       "      <td>76426</td>\n",
       "      <td>81</td>\n",
       "    </tr>\n",
       "    <tr>\n",
       "      <th>9</th>\n",
       "      <td>10179</td>\n",
       "      <td>Female</td>\n",
       "      <td>29.0</td>\n",
       "      <td>98117</td>\n",
       "      <td>81</td>\n",
       "    </tr>\n",
       "    <tr>\n",
       "      <th>12</th>\n",
       "      <td>10066</td>\n",
       "      <td>Male</td>\n",
       "      <td>46.0</td>\n",
       "      <td>55364</td>\n",
       "      <td>81</td>\n",
       "    </tr>\n",
       "  </tbody>\n",
       "</table>\n",
       "</div>"
      ],
      "text/plain": [
       "    PersonID  Gender  Age2 Zip Code  EventID_x\n",
       "0      10150  Female  45.0    98008         81\n",
       "4      10151  Female  25.0    98109         81\n",
       "8       9950  Female  34.0    76426         81\n",
       "9      10179  Female  29.0    98117         81\n",
       "12     10066    Male  46.0    55364         81"
      ]
     },
     "execution_count": 147,
     "metadata": {},
     "output_type": "execute_result"
    }
   ],
   "source": [
    "likelyusers_event81_df.head()"
   ]
  },
  {
   "cell_type": "code",
   "execution_count": 148,
   "metadata": {},
   "outputs": [
    {
     "name": "stdout",
     "output_type": "stream",
     "text": [
      "Number of Top 5 Recommendations Users for Event 81, Seward Sizzler: 4283.0\n"
     ]
    }
   ],
   "source": [
    "tot_recs = float(len(likelyusers_event81_df))\n",
    "print('Number of Top 5 Recommendations Users for Event 81, Seward Sizzler: {}'.format(tot_recs))"
   ]
  },
  {
   "cell_type": "code",
   "execution_count": 158,
   "metadata": {},
   "outputs": [
    {
     "name": "stdout",
     "output_type": "stream",
     "text": [
      "Percent Male/Female Recommended for Race 81, Seward Sizzler: 0.417931356526, 0.579033387812\n"
     ]
    }
   ],
   "source": [
    "print('Percent Male/Female Recommended for Race 81, Seward Sizzler: {}, {}'.format(\n",
    "    (likelyusers_event81_df[likelyusers_event81_df['Gender'] == 'Male'].count()['PersonID'])/tot_recs, \n",
    "    (likelyusers_event81_df[likelyusers_event81_df['Gender'] == 'Female'].count()['PersonID'])/tot_recs))"
   ]
  },
  {
   "cell_type": "code",
   "execution_count": 150,
   "metadata": {},
   "outputs": [
    {
     "data": {
      "text/plain": [
       "4530.0"
      ]
     },
     "execution_count": 150,
     "metadata": {},
     "output_type": "execute_result"
    }
   ],
   "source": [
    "tot_males = float(cleaned_data[cleaned_data['Gender'] == 'Male'].drop_duplicates('PersonID').count()['PersonID'])\n",
    "tot_males"
   ]
  },
  {
   "cell_type": "code",
   "execution_count": 151,
   "metadata": {},
   "outputs": [
    {
     "data": {
      "text/plain": [
       "6217.0"
      ]
     },
     "execution_count": 151,
     "metadata": {},
     "output_type": "execute_result"
    }
   ],
   "source": [
    "tot_females = float(cleaned_data[cleaned_data['Gender'] == 'Female'].drop_duplicates('PersonID').count()['PersonID'])\n",
    "tot_females"
   ]
  },
  {
   "cell_type": "code",
   "execution_count": 152,
   "metadata": {},
   "outputs": [
    {
     "name": "stdout",
     "output_type": "stream",
     "text": [
      "Percent Male/Female in Total Population: 0.421512980367, 0.578487019633\n"
     ]
    }
   ],
   "source": [
    "print('Percent Male/Female in Total Population: {}, {}'.format(\n",
    "    (tot_males / (tot_males+tot_females)), (tot_females / (tot_males+tot_females))))"
   ]
  },
  {
   "cell_type": "code",
   "execution_count": 159,
   "metadata": {},
   "outputs": [
    {
     "name": "stdout",
     "output_type": "stream",
     "text": [
      "Average Age Recommended for Race 81, Seward Sizzler: 35.0\n"
     ]
    }
   ],
   "source": [
    "print('Average Age Recommended for Race 81, Seward Sizzler: {}'.format(\n",
    "    round(likelyusers_event81_df['Age2'].mean(), 1)))"
   ]
  },
  {
   "cell_type": "code",
   "execution_count": 155,
   "metadata": {},
   "outputs": [
    {
     "name": "stdout",
     "output_type": "stream",
     "text": [
      "Average Age in Total Population: 37.4\n"
     ]
    }
   ],
   "source": [
    "print('Average Age in Total Population: {}'.format(\n",
    "    round(cleaned_data['Age2'].mean(), 1)))"
   ]
  },
  {
   "cell_type": "markdown",
   "metadata": {
    "collapsed": true
   },
   "source": [
    "## Ensemble rank score is worse than each individual ALS model's score from the test set:\n",
    "\n",
    "* Ensemble: 7.2645672521985833 on Train, 18.517767702087443 on Test\n",
    "\n",
    "\n",
    "* Series ALS: 1.53641759679 on Train, 4.8609993163 on Test\n",
    "* Event Type ALS: 0.00684473620581 on Train, 0.41742084036 on Test\n",
    "* Venue ALS: 6.5784112444 on Train, 13.3852376048 on Test\n",
    "* Avg Fee ALS: 6.02542849691 on Train, 14.875102889 on Test\n",
    "* Avg Miles ALS: 2.24288129789 on Train, 10.1237046386 on Test\n",
    "\n",
    "#### Try a naive approach to ensembling, just averaging the input predictions from each ALS for each person to compare that score to the GB score"
   ]
  },
  {
   "cell_type": "markdown",
   "metadata": {},
   "source": [
    "#### On Train Data:"
   ]
  },
  {
   "cell_type": "code",
   "execution_count": 160,
   "metadata": {},
   "outputs": [
    {
     "data": {
      "text/html": [
       "<div>\n",
       "<style>\n",
       "    .dataframe thead tr:only-child th {\n",
       "        text-align: right;\n",
       "    }\n",
       "\n",
       "    .dataframe thead th {\n",
       "        text-align: left;\n",
       "    }\n",
       "\n",
       "    .dataframe tbody tr th {\n",
       "        vertical-align: top;\n",
       "    }\n",
       "</style>\n",
       "<table border=\"1\" class=\"dataframe\">\n",
       "  <thead>\n",
       "    <tr style=\"text-align: right;\">\n",
       "      <th></th>\n",
       "      <th>PersonID</th>\n",
       "      <th>EventID</th>\n",
       "      <th>Participated</th>\n",
       "      <th>Event_Date</th>\n",
       "      <th>SeriesID_prediction</th>\n",
       "      <th>EventTypeID_prediction</th>\n",
       "      <th>Venue_Zip_prediction</th>\n",
       "      <th>Total_Fee_Avg_prediction</th>\n",
       "      <th>Miles2_Avg_prediction</th>\n",
       "    </tr>\n",
       "  </thead>\n",
       "  <tbody>\n",
       "    <tr>\n",
       "      <th>0</th>\n",
       "      <td>878</td>\n",
       "      <td>1000</td>\n",
       "      <td>0</td>\n",
       "      <td>1418428800000000000</td>\n",
       "      <td>0.000000</td>\n",
       "      <td>0.016062</td>\n",
       "      <td>0.022705</td>\n",
       "      <td>0.076895</td>\n",
       "      <td>0.210406</td>\n",
       "    </tr>\n",
       "    <tr>\n",
       "      <th>1</th>\n",
       "      <td>2</td>\n",
       "      <td>1000</td>\n",
       "      <td>0</td>\n",
       "      <td>1418428800000000000</td>\n",
       "      <td>0.638002</td>\n",
       "      <td>0.027481</td>\n",
       "      <td>0.009063</td>\n",
       "      <td>0.122730</td>\n",
       "      <td>0.220653</td>\n",
       "    </tr>\n",
       "    <tr>\n",
       "      <th>2</th>\n",
       "      <td>3</td>\n",
       "      <td>1000</td>\n",
       "      <td>0</td>\n",
       "      <td>1418428800000000000</td>\n",
       "      <td>1.146692</td>\n",
       "      <td>0.016062</td>\n",
       "      <td>0.010560</td>\n",
       "      <td>0.122303</td>\n",
       "      <td>0.210406</td>\n",
       "    </tr>\n",
       "    <tr>\n",
       "      <th>3</th>\n",
       "      <td>4</td>\n",
       "      <td>1000</td>\n",
       "      <td>0</td>\n",
       "      <td>1418428800000000000</td>\n",
       "      <td>0.555198</td>\n",
       "      <td>0.016062</td>\n",
       "      <td>0.908728</td>\n",
       "      <td>0.065251</td>\n",
       "      <td>0.556510</td>\n",
       "    </tr>\n",
       "    <tr>\n",
       "      <th>4</th>\n",
       "      <td>5</td>\n",
       "      <td>1000</td>\n",
       "      <td>0</td>\n",
       "      <td>1418428800000000000</td>\n",
       "      <td>0.410271</td>\n",
       "      <td>0.027481</td>\n",
       "      <td>0.027555</td>\n",
       "      <td>0.899697</td>\n",
       "      <td>0.940640</td>\n",
       "    </tr>\n",
       "  </tbody>\n",
       "</table>\n",
       "</div>"
      ],
      "text/plain": [
       "   PersonID  EventID  Participated           Event_Date  SeriesID_prediction  \\\n",
       "0       878     1000             0  1418428800000000000             0.000000   \n",
       "1         2     1000             0  1418428800000000000             0.638002   \n",
       "2         3     1000             0  1418428800000000000             1.146692   \n",
       "3         4     1000             0  1418428800000000000             0.555198   \n",
       "4         5     1000             0  1418428800000000000             0.410271   \n",
       "\n",
       "   EventTypeID_prediction  Venue_Zip_prediction  Total_Fee_Avg_prediction  \\\n",
       "0                0.016062              0.022705                  0.076895   \n",
       "1                0.027481              0.009063                  0.122730   \n",
       "2                0.016062              0.010560                  0.122303   \n",
       "3                0.016062              0.908728                  0.065251   \n",
       "4                0.027481              0.027555                  0.899697   \n",
       "\n",
       "   Miles2_Avg_prediction  \n",
       "0               0.210406  \n",
       "1               0.220653  \n",
       "2               0.210406  \n",
       "3               0.556510  \n",
       "4               0.940640  "
      ]
     },
     "execution_count": 160,
     "metadata": {},
     "output_type": "execute_result"
    }
   ],
   "source": [
    "gb_train_data.head()"
   ]
  },
  {
   "cell_type": "code",
   "execution_count": 161,
   "metadata": {
    "collapsed": true
   },
   "outputs": [],
   "source": [
    "naive_train_ensemble = gb_train_data.copy()"
   ]
  },
  {
   "cell_type": "code",
   "execution_count": 162,
   "metadata": {
    "collapsed": true
   },
   "outputs": [],
   "source": [
    "naive_train_ensemble['prediction'] = (naive_train_ensemble['SeriesID_prediction'] +\n",
    "                                      naive_train_ensemble['EventTypeID_prediction'] +\n",
    "                                      naive_train_ensemble['Venue_Zip_prediction'] +\n",
    "                                      naive_train_ensemble['Total_Fee_Avg_prediction'] +\n",
    "                                      naive_train_ensemble['Miles2_Avg_prediction']) / 5."
   ]
  },
  {
   "cell_type": "code",
   "execution_count": 163,
   "metadata": {
    "collapsed": true
   },
   "outputs": [],
   "source": [
    "naive_train_ensemble.drop(['Event_Date', 'SeriesID_prediction', 'EventTypeID_prediction', 'Venue_Zip_prediction', \n",
    "                          'Total_Fee_Avg_prediction', 'Miles2_Avg_prediction'], axis=1, inplace=True)"
   ]
  },
  {
   "cell_type": "code",
   "execution_count": 164,
   "metadata": {},
   "outputs": [
    {
     "data": {
      "text/html": [
       "<div>\n",
       "<style>\n",
       "    .dataframe thead tr:only-child th {\n",
       "        text-align: right;\n",
       "    }\n",
       "\n",
       "    .dataframe thead th {\n",
       "        text-align: left;\n",
       "    }\n",
       "\n",
       "    .dataframe tbody tr th {\n",
       "        vertical-align: top;\n",
       "    }\n",
       "</style>\n",
       "<table border=\"1\" class=\"dataframe\">\n",
       "  <thead>\n",
       "    <tr style=\"text-align: right;\">\n",
       "      <th></th>\n",
       "      <th>PersonID</th>\n",
       "      <th>EventID</th>\n",
       "      <th>Participated</th>\n",
       "      <th>prediction</th>\n",
       "    </tr>\n",
       "  </thead>\n",
       "  <tbody>\n",
       "    <tr>\n",
       "      <th>0</th>\n",
       "      <td>878</td>\n",
       "      <td>1000</td>\n",
       "      <td>0</td>\n",
       "      <td>0.065213</td>\n",
       "    </tr>\n",
       "    <tr>\n",
       "      <th>1</th>\n",
       "      <td>2</td>\n",
       "      <td>1000</td>\n",
       "      <td>0</td>\n",
       "      <td>0.203586</td>\n",
       "    </tr>\n",
       "    <tr>\n",
       "      <th>2</th>\n",
       "      <td>3</td>\n",
       "      <td>1000</td>\n",
       "      <td>0</td>\n",
       "      <td>0.301205</td>\n",
       "    </tr>\n",
       "    <tr>\n",
       "      <th>3</th>\n",
       "      <td>4</td>\n",
       "      <td>1000</td>\n",
       "      <td>0</td>\n",
       "      <td>0.420350</td>\n",
       "    </tr>\n",
       "    <tr>\n",
       "      <th>4</th>\n",
       "      <td>5</td>\n",
       "      <td>1000</td>\n",
       "      <td>0</td>\n",
       "      <td>0.461129</td>\n",
       "    </tr>\n",
       "  </tbody>\n",
       "</table>\n",
       "</div>"
      ],
      "text/plain": [
       "   PersonID  EventID  Participated  prediction\n",
       "0       878     1000             0    0.065213\n",
       "1         2     1000             0    0.203586\n",
       "2         3     1000             0    0.301205\n",
       "3         4     1000             0    0.420350\n",
       "4         5     1000             0    0.461129"
      ]
     },
     "execution_count": 164,
     "metadata": {},
     "output_type": "execute_result"
    }
   ],
   "source": [
    "naive_train_ensemble.head()"
   ]
  },
  {
   "cell_type": "code",
   "execution_count": 165,
   "metadata": {
    "collapsed": true
   },
   "outputs": [],
   "source": [
    "rank_processing_naive_train = rank_eval.RankEval(naive_train_ensemble, 'PersonID', 'EventID', 'Participated', 'prediction')"
   ]
  },
  {
   "cell_type": "code",
   "execution_count": 166,
   "metadata": {},
   "outputs": [
    {
     "data": {
      "text/plain": [
       "1.7146252451960124"
      ]
     },
     "execution_count": 166,
     "metadata": {},
     "output_type": "execute_result"
    }
   ],
   "source": [
    "rank_processing_naive_train.calc_test_rank()"
   ]
  },
  {
   "cell_type": "code",
   "execution_count": 167,
   "metadata": {
    "scrolled": true
   },
   "outputs": [
    {
     "data": {
      "text/plain": [
       "32.596883134541969"
      ]
     },
     "execution_count": 167,
     "metadata": {},
     "output_type": "execute_result"
    }
   ],
   "source": [
    "rank_processing_naive_train.calc_popular_rank()"
   ]
  },
  {
   "cell_type": "markdown",
   "metadata": {},
   "source": [
    "#### On Test Data:"
   ]
  },
  {
   "cell_type": "code",
   "execution_count": 176,
   "metadata": {},
   "outputs": [
    {
     "data": {
      "text/html": [
       "<div>\n",
       "<style>\n",
       "    .dataframe thead tr:only-child th {\n",
       "        text-align: right;\n",
       "    }\n",
       "\n",
       "    .dataframe thead th {\n",
       "        text-align: left;\n",
       "    }\n",
       "\n",
       "    .dataframe tbody tr th {\n",
       "        vertical-align: top;\n",
       "    }\n",
       "</style>\n",
       "<table border=\"1\" class=\"dataframe\">\n",
       "  <thead>\n",
       "    <tr style=\"text-align: right;\">\n",
       "      <th></th>\n",
       "      <th>PersonID</th>\n",
       "      <th>EventID</th>\n",
       "      <th>Participated</th>\n",
       "      <th>Event_Date</th>\n",
       "      <th>SeriesID_prediction</th>\n",
       "      <th>EventTypeID_prediction</th>\n",
       "      <th>Venue_Zip_prediction</th>\n",
       "      <th>Total_Fee_Avg_prediction</th>\n",
       "      <th>Miles2_Avg_prediction</th>\n",
       "    </tr>\n",
       "  </thead>\n",
       "  <tbody>\n",
       "    <tr>\n",
       "      <th>0</th>\n",
       "      <td>7673</td>\n",
       "      <td>1009</td>\n",
       "      <td>0</td>\n",
       "      <td>1464393600000000000</td>\n",
       "      <td>0.555198</td>\n",
       "      <td>0.016062</td>\n",
       "      <td>0.000000</td>\n",
       "      <td>0.107571</td>\n",
       "      <td>0.192870</td>\n",
       "    </tr>\n",
       "    <tr>\n",
       "      <th>1</th>\n",
       "      <td>10039</td>\n",
       "      <td>1009</td>\n",
       "      <td>0</td>\n",
       "      <td>1464393600000000000</td>\n",
       "      <td>0.555198</td>\n",
       "      <td>0.016062</td>\n",
       "      <td>0.843317</td>\n",
       "      <td>0.078619</td>\n",
       "      <td>0.217594</td>\n",
       "    </tr>\n",
       "    <tr>\n",
       "      <th>2</th>\n",
       "      <td>10141</td>\n",
       "      <td>1009</td>\n",
       "      <td>0</td>\n",
       "      <td>1464393600000000000</td>\n",
       "      <td>0.000000</td>\n",
       "      <td>0.000000</td>\n",
       "      <td>0.000000</td>\n",
       "      <td>0.000000</td>\n",
       "      <td>0.000000</td>\n",
       "    </tr>\n",
       "    <tr>\n",
       "      <th>3</th>\n",
       "      <td>10143</td>\n",
       "      <td>1009</td>\n",
       "      <td>0</td>\n",
       "      <td>1464393600000000000</td>\n",
       "      <td>0.000000</td>\n",
       "      <td>0.000000</td>\n",
       "      <td>0.000000</td>\n",
       "      <td>0.000000</td>\n",
       "      <td>0.000000</td>\n",
       "    </tr>\n",
       "    <tr>\n",
       "      <th>4</th>\n",
       "      <td>10144</td>\n",
       "      <td>1009</td>\n",
       "      <td>0</td>\n",
       "      <td>1464393600000000000</td>\n",
       "      <td>0.000000</td>\n",
       "      <td>0.000000</td>\n",
       "      <td>0.000000</td>\n",
       "      <td>0.000000</td>\n",
       "      <td>0.000000</td>\n",
       "    </tr>\n",
       "  </tbody>\n",
       "</table>\n",
       "</div>"
      ],
      "text/plain": [
       "   PersonID  EventID  Participated           Event_Date  SeriesID_prediction  \\\n",
       "0      7673     1009             0  1464393600000000000             0.555198   \n",
       "1     10039     1009             0  1464393600000000000             0.555198   \n",
       "2     10141     1009             0  1464393600000000000             0.000000   \n",
       "3     10143     1009             0  1464393600000000000             0.000000   \n",
       "4     10144     1009             0  1464393600000000000             0.000000   \n",
       "\n",
       "   EventTypeID_prediction  Venue_Zip_prediction  Total_Fee_Avg_prediction  \\\n",
       "0                0.016062              0.000000                  0.107571   \n",
       "1                0.016062              0.843317                  0.078619   \n",
       "2                0.000000              0.000000                  0.000000   \n",
       "3                0.000000              0.000000                  0.000000   \n",
       "4                0.000000              0.000000                  0.000000   \n",
       "\n",
       "   Miles2_Avg_prediction  \n",
       "0               0.192870  \n",
       "1               0.217594  \n",
       "2               0.000000  \n",
       "3               0.000000  \n",
       "4               0.000000  "
      ]
     },
     "execution_count": 176,
     "metadata": {},
     "output_type": "execute_result"
    }
   ],
   "source": [
    "gb_test_data.head()"
   ]
  },
  {
   "cell_type": "code",
   "execution_count": 177,
   "metadata": {
    "collapsed": true
   },
   "outputs": [],
   "source": [
    "naive_test_ensemble = gb_test_data.copy()"
   ]
  },
  {
   "cell_type": "code",
   "execution_count": 178,
   "metadata": {
    "collapsed": true
   },
   "outputs": [],
   "source": [
    "naive_test_ensemble['prediction'] = (naive_test_ensemble['SeriesID_prediction'] +\n",
    "                                     naive_test_ensemble['EventTypeID_prediction'] +\n",
    "                                      naive_test_ensemble['Venue_Zip_prediction'] +\n",
    "                                      naive_test_ensemble['Total_Fee_Avg_prediction'] +\n",
    "                                      naive_test_ensemble['Miles2_Avg_prediction']) / 5."
   ]
  },
  {
   "cell_type": "code",
   "execution_count": 179,
   "metadata": {
    "collapsed": true
   },
   "outputs": [],
   "source": [
    "naive_test_ensemble.drop(['Event_Date', 'SeriesID_prediction', 'EventTypeID_prediction', 'Venue_Zip_prediction', \n",
    "                          'Total_Fee_Avg_prediction', 'Miles2_Avg_prediction'], axis=1, inplace=True)"
   ]
  },
  {
   "cell_type": "code",
   "execution_count": 180,
   "metadata": {},
   "outputs": [
    {
     "data": {
      "text/html": [
       "<div>\n",
       "<style>\n",
       "    .dataframe thead tr:only-child th {\n",
       "        text-align: right;\n",
       "    }\n",
       "\n",
       "    .dataframe thead th {\n",
       "        text-align: left;\n",
       "    }\n",
       "\n",
       "    .dataframe tbody tr th {\n",
       "        vertical-align: top;\n",
       "    }\n",
       "</style>\n",
       "<table border=\"1\" class=\"dataframe\">\n",
       "  <thead>\n",
       "    <tr style=\"text-align: right;\">\n",
       "      <th></th>\n",
       "      <th>PersonID</th>\n",
       "      <th>EventID</th>\n",
       "      <th>Participated</th>\n",
       "      <th>prediction</th>\n",
       "    </tr>\n",
       "  </thead>\n",
       "  <tbody>\n",
       "    <tr>\n",
       "      <th>0</th>\n",
       "      <td>7673</td>\n",
       "      <td>1009</td>\n",
       "      <td>0</td>\n",
       "      <td>0.174340</td>\n",
       "    </tr>\n",
       "    <tr>\n",
       "      <th>1</th>\n",
       "      <td>10039</td>\n",
       "      <td>1009</td>\n",
       "      <td>0</td>\n",
       "      <td>0.342158</td>\n",
       "    </tr>\n",
       "    <tr>\n",
       "      <th>2</th>\n",
       "      <td>10141</td>\n",
       "      <td>1009</td>\n",
       "      <td>0</td>\n",
       "      <td>0.000000</td>\n",
       "    </tr>\n",
       "    <tr>\n",
       "      <th>3</th>\n",
       "      <td>10143</td>\n",
       "      <td>1009</td>\n",
       "      <td>0</td>\n",
       "      <td>0.000000</td>\n",
       "    </tr>\n",
       "    <tr>\n",
       "      <th>4</th>\n",
       "      <td>10144</td>\n",
       "      <td>1009</td>\n",
       "      <td>0</td>\n",
       "      <td>0.000000</td>\n",
       "    </tr>\n",
       "  </tbody>\n",
       "</table>\n",
       "</div>"
      ],
      "text/plain": [
       "   PersonID  EventID  Participated  prediction\n",
       "0      7673     1009             0    0.174340\n",
       "1     10039     1009             0    0.342158\n",
       "2     10141     1009             0    0.000000\n",
       "3     10143     1009             0    0.000000\n",
       "4     10144     1009             0    0.000000"
      ]
     },
     "execution_count": 180,
     "metadata": {},
     "output_type": "execute_result"
    }
   ],
   "source": [
    "naive_test_ensemble.head()"
   ]
  },
  {
   "cell_type": "code",
   "execution_count": 181,
   "metadata": {
    "collapsed": true
   },
   "outputs": [],
   "source": [
    "rank_processing_naive_test = rank_eval.RankEval(naive_test_ensemble, 'PersonID', 'EventID', 'Participated', 'prediction')"
   ]
  },
  {
   "cell_type": "code",
   "execution_count": 182,
   "metadata": {},
   "outputs": [
    {
     "data": {
      "text/plain": [
       "56.998913703674489"
      ]
     },
     "execution_count": 182,
     "metadata": {},
     "output_type": "execute_result"
    }
   ],
   "source": [
    "rank_processing_naive_test.calc_test_rank()"
   ]
  },
  {
   "cell_type": "code",
   "execution_count": 183,
   "metadata": {
    "scrolled": true
   },
   "outputs": [
    {
     "data": {
      "text/plain": [
       "31.453857791225417"
      ]
     },
     "execution_count": 183,
     "metadata": {},
     "output_type": "execute_result"
    }
   ],
   "source": [
    "rank_processing_naive_test.calc_popular_rank()"
   ]
  },
  {
   "cell_type": "code",
   "execution_count": null,
   "metadata": {
    "collapsed": true
   },
   "outputs": [],
   "source": []
  },
  {
   "cell_type": "code",
   "execution_count": null,
   "metadata": {
    "collapsed": true
   },
   "outputs": [],
   "source": []
  }
 ],
 "metadata": {
  "kernelspec": {
   "display_name": "Python 2",
   "language": "python",
   "name": "python2"
  },
  "language_info": {
   "codemirror_mode": {
    "name": "ipython",
    "version": 2
   },
   "file_extension": ".py",
   "mimetype": "text/x-python",
   "name": "python",
   "nbconvert_exporter": "python",
   "pygments_lexer": "ipython2",
   "version": "2.7.13"
  }
 },
 "nbformat": 4,
 "nbformat_minor": 2
}

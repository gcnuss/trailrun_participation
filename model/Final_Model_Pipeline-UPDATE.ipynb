{
 "cells": [
  {
   "cell_type": "markdown",
   "metadata": {},
   "source": [
    "## Import ALS Model code"
   ]
  },
  {
   "cell_type": "code",
   "execution_count": 1,
   "metadata": {
    "collapsed": true
   },
   "outputs": [],
   "source": [
    "import als_model_v2 as am"
   ]
  },
  {
   "cell_type": "code",
   "execution_count": 2,
   "metadata": {
    "collapsed": true
   },
   "outputs": [],
   "source": [
    "%matplotlib inline"
   ]
  },
  {
   "cell_type": "code",
   "execution_count": 2,
   "metadata": {
    "collapsed": true
   },
   "outputs": [],
   "source": [
    "import cPickle as pickle"
   ]
  },
  {
   "cell_type": "markdown",
   "metadata": {},
   "source": [
    "## Open cleaned_df"
   ]
  },
  {
   "cell_type": "code",
   "execution_count": 3,
   "metadata": {},
   "outputs": [],
   "source": [
    "with open ('24OCT17_pipelinerun/cleaned_df.pkl', 'rb') as f:\n",
    "    cleaned_data = pickle.load(f)"
   ]
  },
  {
   "cell_type": "markdown",
   "metadata": {},
   "source": [
    "## Instantiate Class Instances for ALS Model, Prep and Run for the Following:\n",
    "\n",
    "#### For each of these features:\n",
    "- SeriesID\n",
    "- EventTypeID\n",
    "- Venue (based on zip code)\n",
    "- Total Average Fee\n",
    "- Average Mileage\n",
    "\n",
    "#### Run best fit model identified from exercise in Pipeline_v2-noTVS notebook on train+validate larger dataset; check rank metric on test set\n",
    "\n",
    "#### Initial Prep:"
   ]
  },
  {
   "cell_type": "code",
   "execution_count": 5,
   "metadata": {
    "collapsed": true
   },
   "outputs": [],
   "source": [
    "als_model = am.implicit_als(cleaned_data, split_val=False)\n",
    "#setting split_val to False results in the split being train/test instead of train/val/test\n",
    "#80% of data is in train and 20% is in test"
   ]
  },
  {
   "cell_type": "code",
   "execution_count": 6,
   "metadata": {
    "collapsed": true
   },
   "outputs": [],
   "source": [
    "als_model.prep_full_df()"
   ]
  },
  {
   "cell_type": "code",
   "execution_count": 8,
   "metadata": {},
   "outputs": [
    {
     "name": "stdout",
     "output_type": "stream",
     "text": [
      "<class 'pandas.core.frame.DataFrame'>\n",
      "RangeIndex: 925704 entries, 0 to 925703\n",
      "Data columns (total 9 columns):\n",
      "PersonID         925704 non-null int64\n",
      "EventID          925704 non-null int64\n",
      "Participated     925704 non-null int64\n",
      "Event_Date       925704 non-null datetime64[ns]\n",
      "SeriesID         925704 non-null float64\n",
      "EventTypeID      925704 non-null int64\n",
      "Total_Fee_Avg    925704 non-null int64\n",
      "Miles2_Avg       925704 non-null int64\n",
      "Venue_Zip        925704 non-null int64\n",
      "dtypes: datetime64[ns](1), float64(1), int64(7)\n",
      "memory usage: 63.6 MB\n"
     ]
    }
   ],
   "source": [
    "als_model.full_df.info()"
   ]
  },
  {
   "cell_type": "code",
   "execution_count": 12,
   "metadata": {},
   "outputs": [
    {
     "name": "stdout",
     "output_type": "stream",
     "text": [
      "TrainVal Size: 740563.0\n",
      "Train Size: 592450.0\n",
      "Validation Size: 148113.0\n",
      "Test Size: 185141.0\n"
     ]
    }
   ],
   "source": [
    "als_model.train_val_test_split()"
   ]
  },
  {
   "cell_type": "markdown",
   "metadata": {},
   "source": [
    "## SeriesID"
   ]
  },
  {
   "cell_type": "code",
   "execution_count": 16,
   "metadata": {},
   "outputs": [
    {
     "name": "stdout",
     "output_type": "stream",
     "text": [
      "participants in train: 10764\n",
      "participants in validate: 10764\n",
      "participants in test: 10764\n",
      "\n",
      "\n",
      "participants in both train & validate: 10764\n",
      "participants in both train & test: 10764\n",
      "\n",
      "\n",
      "SeriesID in train: 5\n",
      "SeriesID in validate: 4\n",
      "SeriesID in test: 5\n",
      "\n",
      "\n",
      "SeriesID in both train & validate: 4\n",
      "SeriesID in both train & test: 5\n"
     ]
    }
   ],
   "source": [
    "als_model.print_train_val_test_info(\"SeriesID\")"
   ]
  },
  {
   "cell_type": "code",
   "execution_count": 17,
   "metadata": {
    "collapsed": true
   },
   "outputs": [],
   "source": [
    "als_model.create_participate_matrices(\"SeriesID\")"
   ]
  },
  {
   "cell_type": "code",
   "execution_count": 22,
   "metadata": {
    "collapsed": true
   },
   "outputs": [],
   "source": [
    "als_model.fit_ALS(itemCol=\"SeriesID\", rank=5, alpha=80, coldStartStrategy=\"drop\")"
   ]
  },
  {
   "cell_type": "code",
   "execution_count": 23,
   "metadata": {},
   "outputs": [
    {
     "name": "stdout",
     "output_type": "stream",
     "text": [
      "Trainval predictions includes 740563 valid values and 0 nan values\n",
      "Test predictions includes 185141 valid values and 0 nan values\n",
      "Trainval Model Rank = 1.53641759679 and Popular Rank = 26.3524346793\n",
      "Test Model Rank = 4.8609993163 and Popular Rank = 10.7472903594\n"
     ]
    }
   ],
   "source": [
    "trainval_predictions, trainval_rank, trainval_pop_rank, test_predictions, test_rank, test_pop_rank = als_model.predict_ALS(\n",
    "    als_model.base_model, \"SeriesID\")"
   ]
  },
  {
   "cell_type": "code",
   "execution_count": 24,
   "metadata": {
    "collapsed": true
   },
   "outputs": [],
   "source": [
    "als_fit_model_series = als_model.base_model\n",
    "als_trainvalpreds_pd_series = trainval_predictions\n",
    "als_testpreds_pd_series = test_predictions\n",
    "\n",
    "als_fit_model_series.save(\"26OCT17_finalfitmodels/als_fit_model_series\")\n",
    "\n",
    "with open (\"26OCT17_finalfitmodels/als_trainvalpreds_pd_series.pkl\", 'w') as f:\n",
    "    pickle.dump(als_trainvalpreds_pd_series, f)\n",
    "with open ('26OCT17_finalfitmodels/als_testpreds_pd_series.pkl', 'w') as f:\n",
    "    pickle.dump(als_testpreds_pd_series, f)"
   ]
  },
  {
   "cell_type": "code",
   "execution_count": 25,
   "metadata": {
    "collapsed": true
   },
   "outputs": [],
   "source": [
    "#these only need to be saved once today:\n",
    "als_trainval_df_pd = als_model.trainval\n",
    "als_test_df_pd = als_model.test"
   ]
  },
  {
   "cell_type": "code",
   "execution_count": 26,
   "metadata": {
    "collapsed": true
   },
   "outputs": [],
   "source": [
    "with open (\"26OCT17_finalfitmodels/als_trainval_df_pd.pkl\", 'w') as f:\n",
    "    pickle.dump(als_trainval_df_pd, f)\n",
    "    \n",
    "with open (\"26OCT17_finalfitmodels/als_test_df_pd.pkl\", 'w') as f:\n",
    "    pickle.dump(als_test_df_pd, f)"
   ]
  },
  {
   "cell_type": "markdown",
   "metadata": {},
   "source": [
    "## EventTypeID"
   ]
  },
  {
   "cell_type": "code",
   "execution_count": 27,
   "metadata": {
    "scrolled": true
   },
   "outputs": [
    {
     "name": "stdout",
     "output_type": "stream",
     "text": [
      "participants in train: 10764\n",
      "participants in validate: 10764\n",
      "participants in test: 10764\n",
      "\n",
      "\n",
      "participants in both train & validate: 10764\n",
      "participants in both train & test: 10764\n",
      "\n",
      "\n",
      "EventTypeID in train: 2\n",
      "EventTypeID in validate: 1\n",
      "EventTypeID in test: 2\n",
      "\n",
      "\n",
      "EventTypeID in both train & validate: 1\n",
      "EventTypeID in both train & test: 2\n"
     ]
    }
   ],
   "source": [
    "als_model.print_train_val_test_info(\"EventTypeID\")"
   ]
  },
  {
   "cell_type": "code",
   "execution_count": 28,
   "metadata": {
    "collapsed": true
   },
   "outputs": [],
   "source": [
    "als_model.create_participate_matrices(\"EventTypeID\")"
   ]
  },
  {
   "cell_type": "code",
   "execution_count": 29,
   "metadata": {
    "collapsed": true
   },
   "outputs": [],
   "source": [
    "als_model.fit_ALS(itemCol=\"EventTypeID\", rank=30, alpha=80, coldStartStrategy=\"drop\")"
   ]
  },
  {
   "cell_type": "code",
   "execution_count": 30,
   "metadata": {},
   "outputs": [
    {
     "name": "stdout",
     "output_type": "stream",
     "text": [
      "Trainval predictions includes 740563 valid values and 0 nan values\n",
      "Test predictions includes 185141 valid values and 0 nan values\n",
      "Trainval Model Rank = 0.00684473620581 and Popular Rank = 7.99064726841\n",
      "Test Model Rank = 0.41742084036 and Popular Rank = 1.91100969766\n"
     ]
    }
   ],
   "source": [
    "trainval_predictions, trainval_rank, trainval_pop_rank, test_predictions, test_rank, test_pop_rank = als_model.predict_ALS(\n",
    "    als_model.base_model, \"EventTypeID\")"
   ]
  },
  {
   "cell_type": "code",
   "execution_count": 31,
   "metadata": {
    "collapsed": true
   },
   "outputs": [],
   "source": [
    "als_fit_model_eventtype = als_model.base_model\n",
    "als_trainvalpreds_pd_eventtype = trainval_predictions\n",
    "als_testpreds_pd_eventtype = test_predictions\n",
    "\n",
    "als_fit_model_eventtype.save(\"26OCT17_finalfitmodels/als_fit_model_eventtype\")\n",
    "\n",
    "with open (\"26OCT17_finalfitmodels/als_trainvalpreds_pd_eventtype.pkl\", 'w') as f:\n",
    "    pickle.dump(als_trainvalpreds_pd_eventtype, f)\n",
    "with open (\"26OCT17_finalfitmodels/als_testpreds_pd_eventtype.pkl\", 'w') as f:\n",
    "    pickle.dump(als_testpreds_pd_eventtype, f)"
   ]
  },
  {
   "cell_type": "markdown",
   "metadata": {},
   "source": [
    "## Venue (Based on Zipcode)"
   ]
  },
  {
   "cell_type": "code",
   "execution_count": 32,
   "metadata": {
    "scrolled": true
   },
   "outputs": [
    {
     "name": "stdout",
     "output_type": "stream",
     "text": [
      "participants in train: 10764\n",
      "participants in validate: 10764\n",
      "participants in test: 10764\n",
      "\n",
      "\n",
      "participants in both train & validate: 10764\n",
      "participants in both train & test: 10764\n",
      "\n",
      "\n",
      "Venue_Zip in train: 24\n",
      "Venue_Zip in validate: 10\n",
      "Venue_Zip in test: 15\n",
      "\n",
      "\n",
      "Venue_Zip in both train & validate: 8\n",
      "Venue_Zip in both train & test: 15\n"
     ]
    }
   ],
   "source": [
    "als_model.print_train_val_test_info(\"Venue_Zip\")"
   ]
  },
  {
   "cell_type": "code",
   "execution_count": 33,
   "metadata": {
    "collapsed": true
   },
   "outputs": [],
   "source": [
    "als_model.create_participate_matrices(\"Venue_Zip\")"
   ]
  },
  {
   "cell_type": "code",
   "execution_count": 34,
   "metadata": {
    "collapsed": true
   },
   "outputs": [],
   "source": [
    "als_model.fit_ALS(itemCol=\"Venue_Zip\", rank=5, alpha=80, coldStartStrategy=\"drop\")"
   ]
  },
  {
   "cell_type": "code",
   "execution_count": 35,
   "metadata": {},
   "outputs": [
    {
     "name": "stdout",
     "output_type": "stream",
     "text": [
      "Trainval predictions includes 740563 valid values and 0 nan values\n",
      "Test predictions includes 185141 valid values and 0 nan values\n",
      "Trainval Model Rank = 6.5784112444 and Popular Rank = 23.2128174676\n",
      "Test Model Rank = 13.3852376048 and Popular Rank = 31.7683970337\n"
     ]
    }
   ],
   "source": [
    "trainval_predictions, trainval_rank, trainval_pop_rank, test_predictions, test_rank, test_pop_rank = als_model.predict_ALS(\n",
    "    als_model.base_model, \"Venue_Zip\")"
   ]
  },
  {
   "cell_type": "code",
   "execution_count": 36,
   "metadata": {
    "collapsed": true
   },
   "outputs": [],
   "source": [
    "als_fit_model_zipcode = als_model.base_model\n",
    "als_trainvalpreds_pd_zipcode = trainval_predictions\n",
    "als_testpreds_pd_zipcode = test_predictions\n",
    "\n",
    "als_fit_model_zipcode.save(\"26OCT17_finalfitmodels/als_fit_model_zipcode\")\n",
    "\n",
    "with open (\"26OCT17_finalfitmodels/als_trainvalpreds_pd_zipcode.pkl\", 'w') as f:\n",
    "    pickle.dump(als_trainvalpreds_pd_zipcode, f)\n",
    "with open (\"26OCT17_finalfitmodels/als_testpreds_pd_zipcode.pkl\", 'w') as f:\n",
    "    pickle.dump(als_testpreds_pd_zipcode, f)"
   ]
  },
  {
   "cell_type": "markdown",
   "metadata": {},
   "source": [
    "## Total Average Fee"
   ]
  },
  {
   "cell_type": "code",
   "execution_count": 37,
   "metadata": {
    "scrolled": true
   },
   "outputs": [
    {
     "name": "stdout",
     "output_type": "stream",
     "text": [
      "participants in train: 10764\n",
      "participants in validate: 10764\n",
      "participants in test: 10764\n",
      "\n",
      "\n",
      "participants in both train & validate: 10764\n",
      "participants in both train & test: 10764\n",
      "\n",
      "\n",
      "Total_Fee_Avg in train: 20\n",
      "Total_Fee_Avg in validate: 11\n",
      "Total_Fee_Avg in test: 12\n",
      "\n",
      "\n",
      "Total_Fee_Avg in both train & validate: 8\n",
      "Total_Fee_Avg in both train & test: 8\n"
     ]
    }
   ],
   "source": [
    "als_model.print_train_val_test_info(\"Total_Fee_Avg\")"
   ]
  },
  {
   "cell_type": "code",
   "execution_count": 38,
   "metadata": {
    "collapsed": true
   },
   "outputs": [],
   "source": [
    "als_model.create_participate_matrices(\"Total_Fee_Avg\")"
   ]
  },
  {
   "cell_type": "code",
   "execution_count": 39,
   "metadata": {
    "collapsed": true
   },
   "outputs": [],
   "source": [
    "als_model.fit_ALS(itemCol=\"Total_Fee_Avg\", rank=5, alpha=80, coldStartStrategy=\"drop\")"
   ]
  },
  {
   "cell_type": "code",
   "execution_count": 40,
   "metadata": {},
   "outputs": [
    {
     "name": "stdout",
     "output_type": "stream",
     "text": [
      "Trainval predictions includes 740563 valid values and 0 nan values\n",
      "Test predictions includes 152849 valid values and 0 nan values\n",
      "Trainval Model Rank = 6.02542849691 and Popular Rank = 26.5368429206\n",
      "Test Model Rank = 14.875102889 and Popular Rank = 24.3897743898\n"
     ]
    }
   ],
   "source": [
    "trainval_predictions, trainval_rank, trainval_pop_rank, test_predictions, test_rank, test_pop_rank = als_model.predict_ALS(\n",
    "    als_model.base_model, \"Total_Fee_Avg\")"
   ]
  },
  {
   "cell_type": "code",
   "execution_count": 41,
   "metadata": {
    "collapsed": true
   },
   "outputs": [],
   "source": [
    "als_fit_model_avgfee = als_model.base_model\n",
    "als_trainvalpreds_pd_avgfee = trainval_predictions\n",
    "als_testpreds_pd_avgfee = test_predictions\n",
    "\n",
    "als_fit_model_avgfee.save(\"26OCT17_finalfitmodels/als_fit_model_avgfee\")\n",
    "\n",
    "with open (\"26OCT17_finalfitmodels/als_trainvalpreds_pd_avgfee.pkl\", 'w') as f:\n",
    "    pickle.dump(als_trainvalpreds_pd_avgfee, f)\n",
    "\n",
    "with open (\"26OCT17_finalfitmodels/als_testpreds_pd_avgfee.pkl\", 'w') as f:\n",
    "    pickle.dump(als_testpreds_pd_avgfee, f)"
   ]
  },
  {
   "cell_type": "markdown",
   "metadata": {},
   "source": [
    "## Average Mileage"
   ]
  },
  {
   "cell_type": "code",
   "execution_count": 42,
   "metadata": {
    "scrolled": true
   },
   "outputs": [
    {
     "name": "stdout",
     "output_type": "stream",
     "text": [
      "participants in train: 10764\n",
      "participants in validate: 10764\n",
      "participants in test: 10764\n",
      "\n",
      "\n",
      "participants in both train & validate: 10764\n",
      "participants in both train & test: 10764\n",
      "\n",
      "\n",
      "Miles2_Avg in train: 11\n",
      "Miles2_Avg in validate: 5\n",
      "Miles2_Avg in test: 10\n",
      "\n",
      "\n",
      "Miles2_Avg in both train & validate: 5\n",
      "Miles2_Avg in both train & test: 7\n"
     ]
    }
   ],
   "source": [
    "als_model.print_train_val_test_info(\"Miles2_Avg\")"
   ]
  },
  {
   "cell_type": "code",
   "execution_count": 43,
   "metadata": {
    "collapsed": true
   },
   "outputs": [],
   "source": [
    "als_model.create_participate_matrices(\"Miles2_Avg\")"
   ]
  },
  {
   "cell_type": "code",
   "execution_count": 44,
   "metadata": {
    "collapsed": true
   },
   "outputs": [],
   "source": [
    "als_model.fit_ALS(itemCol=\"Miles2_Avg\", rank=5, alpha=80, coldStartStrategy=\"drop\")"
   ]
  },
  {
   "cell_type": "code",
   "execution_count": 45,
   "metadata": {},
   "outputs": [
    {
     "name": "stdout",
     "output_type": "stream",
     "text": [
      "Trainval predictions includes 740563 valid values and 0 nan values\n",
      "Test predictions includes 142085 valid values and 0 nan values\n",
      "Trainval Model Rank = 2.24288129789 and Popular Rank = 23.1294536817\n",
      "Test Model Rank = 10.1237046386 and Popular Rank = 31.4678216147\n"
     ]
    }
   ],
   "source": [
    "trainval_predictions, trainval_rank, trainval_pop_rank, test_predictions, test_rank, test_pop_rank = als_model.predict_ALS(\n",
    "    als_model.base_model, \"Miles2_Avg\")"
   ]
  },
  {
   "cell_type": "code",
   "execution_count": 46,
   "metadata": {
    "collapsed": true
   },
   "outputs": [],
   "source": [
    "als_fit_model_avgmile = als_model.base_model\n",
    "als_trainvalpreds_pd_avgmile = trainval_predictions\n",
    "als_testpreds_pd_avgmile = test_predictions\n",
    "\n",
    "als_fit_model_avgmile.save(\"26OCT17_finalfitmodels/als_fit_model_avgmile\")\n",
    "\n",
    "with open (\"26OCT17_finalfitmodels/als_trainvalpreds_pd_avgmile.pkl\", 'w') as f:\n",
    "    pickle.dump(als_trainvalpreds_pd_avgmile, f)\n",
    "with open (\"26OCT17_finalfitmodels/als_testpreds_pd_avgmile.pkl\", 'w') as f:\n",
    "    pickle.dump(als_testpreds_pd_avgmile, f)"
   ]
  },
  {
   "cell_type": "markdown",
   "metadata": {},
   "source": [
    "## Build Gradient Boost Ensemble Using ALS Models Predictions as Inputs to Determine Weights for Each"
   ]
  },
  {
   "cell_type": "code",
   "execution_count": 79,
   "metadata": {
    "collapsed": true
   },
   "outputs": [],
   "source": [
    "from ensemble_helper_functions import load_files, merge_data\n",
    "import pandas as pd"
   ]
  },
  {
   "cell_type": "markdown",
   "metadata": {},
   "source": [
    "#### Build X, y Train Matrices for GB Model; Split between Train and Validate"
   ]
  },
  {
   "cell_type": "code",
   "execution_count": 49,
   "metadata": {
    "collapsed": true
   },
   "outputs": [],
   "source": [
    "data_df = load_files('26OCT17_finalfitmodels/als_trainval_df_pd.pkl')\n",
    "fee_preds = load_files('26OCT17_finalfitmodels/als_trainvalpreds_pd_avgfee.pkl')\n",
    "mile_preds = load_files('26OCT17_finalfitmodels/als_trainvalpreds_pd_avgmile.pkl')\n",
    "type_preds = load_files('26OCT17_finalfitmodels/als_trainvalpreds_pd_eventtype.pkl')\n",
    "series_preds = load_files('26OCT17_finalfitmodels/als_trainvalpreds_pd_series.pkl')\n",
    "zipcode_preds = load_files('26OCT17_finalfitmodels/als_trainvalpreds_pd_zipcode.pkl')"
   ]
  },
  {
   "cell_type": "code",
   "execution_count": 76,
   "metadata": {
    "collapsed": true
   },
   "outputs": [],
   "source": [
    "data_df['Event_Date'] = data_df['Event_Date'].astype('int64')//1e9"
   ]
  },
  {
   "cell_type": "code",
   "execution_count": 86,
   "metadata": {
    "collapsed": true
   },
   "outputs": [],
   "source": [
    "data_df['Event_Date'] = data_df['Event_Date'] * 1000000000"
   ]
  },
  {
   "cell_type": "code",
   "execution_count": 87,
   "metadata": {},
   "outputs": [
    {
     "data": {
      "text/html": [
       "<div>\n",
       "<style>\n",
       "    .dataframe thead tr:only-child th {\n",
       "        text-align: right;\n",
       "    }\n",
       "\n",
       "    .dataframe thead th {\n",
       "        text-align: left;\n",
       "    }\n",
       "\n",
       "    .dataframe tbody tr th {\n",
       "        vertical-align: top;\n",
       "    }\n",
       "</style>\n",
       "<table border=\"1\" class=\"dataframe\">\n",
       "  <thead>\n",
       "    <tr style=\"text-align: right;\">\n",
       "      <th></th>\n",
       "      <th>PersonID</th>\n",
       "      <th>EventID</th>\n",
       "      <th>Participated</th>\n",
       "      <th>Event_Date</th>\n",
       "      <th>SeriesID</th>\n",
       "      <th>EventTypeID</th>\n",
       "      <th>Total_Fee_Avg</th>\n",
       "      <th>Miles2_Avg</th>\n",
       "      <th>Venue_Zip</th>\n",
       "    </tr>\n",
       "  </thead>\n",
       "  <tbody>\n",
       "    <tr>\n",
       "      <th>398267</th>\n",
       "      <td>10990</td>\n",
       "      <td>1000</td>\n",
       "      <td>0</td>\n",
       "      <td>1418428800000000000</td>\n",
       "      <td>4.0</td>\n",
       "      <td>2</td>\n",
       "      <td>39</td>\n",
       "      <td>8</td>\n",
       "      <td>98101</td>\n",
       "    </tr>\n",
       "    <tr>\n",
       "      <th>391096</th>\n",
       "      <td>3581</td>\n",
       "      <td>1000</td>\n",
       "      <td>0</td>\n",
       "      <td>1418428800000000000</td>\n",
       "      <td>4.0</td>\n",
       "      <td>2</td>\n",
       "      <td>39</td>\n",
       "      <td>8</td>\n",
       "      <td>98101</td>\n",
       "    </tr>\n",
       "    <tr>\n",
       "      <th>391095</th>\n",
       "      <td>3580</td>\n",
       "      <td>1000</td>\n",
       "      <td>0</td>\n",
       "      <td>1418428800000000000</td>\n",
       "      <td>4.0</td>\n",
       "      <td>2</td>\n",
       "      <td>39</td>\n",
       "      <td>8</td>\n",
       "      <td>98101</td>\n",
       "    </tr>\n",
       "    <tr>\n",
       "      <th>391094</th>\n",
       "      <td>3579</td>\n",
       "      <td>1000</td>\n",
       "      <td>0</td>\n",
       "      <td>1418428800000000000</td>\n",
       "      <td>4.0</td>\n",
       "      <td>2</td>\n",
       "      <td>39</td>\n",
       "      <td>8</td>\n",
       "      <td>98101</td>\n",
       "    </tr>\n",
       "    <tr>\n",
       "      <th>391093</th>\n",
       "      <td>3578</td>\n",
       "      <td>1000</td>\n",
       "      <td>0</td>\n",
       "      <td>1418428800000000000</td>\n",
       "      <td>4.0</td>\n",
       "      <td>2</td>\n",
       "      <td>39</td>\n",
       "      <td>8</td>\n",
       "      <td>98101</td>\n",
       "    </tr>\n",
       "  </tbody>\n",
       "</table>\n",
       "</div>"
      ],
      "text/plain": [
       "        PersonID  EventID  Participated           Event_Date  SeriesID  \\\n",
       "398267     10990     1000             0  1418428800000000000       4.0   \n",
       "391096      3581     1000             0  1418428800000000000       4.0   \n",
       "391095      3580     1000             0  1418428800000000000       4.0   \n",
       "391094      3579     1000             0  1418428800000000000       4.0   \n",
       "391093      3578     1000             0  1418428800000000000       4.0   \n",
       "\n",
       "        EventTypeID  Total_Fee_Avg  Miles2_Avg  Venue_Zip  \n",
       "398267            2             39           8      98101  \n",
       "391096            2             39           8      98101  \n",
       "391095            2             39           8      98101  \n",
       "391094            2             39           8      98101  \n",
       "391093            2             39           8      98101  "
      ]
     },
     "execution_count": 87,
     "metadata": {},
     "output_type": "execute_result"
    }
   ],
   "source": [
    "data_df.head()"
   ]
  },
  {
   "cell_type": "code",
   "execution_count": 88,
   "metadata": {},
   "outputs": [
    {
     "data": {
      "text/html": [
       "<div>\n",
       "<style>\n",
       "    .dataframe thead tr:only-child th {\n",
       "        text-align: right;\n",
       "    }\n",
       "\n",
       "    .dataframe thead th {\n",
       "        text-align: left;\n",
       "    }\n",
       "\n",
       "    .dataframe tbody tr th {\n",
       "        vertical-align: top;\n",
       "    }\n",
       "</style>\n",
       "<table border=\"1\" class=\"dataframe\">\n",
       "  <thead>\n",
       "    <tr style=\"text-align: right;\">\n",
       "      <th></th>\n",
       "      <th>PersonID</th>\n",
       "      <th>SeriesID</th>\n",
       "      <th>Participated</th>\n",
       "      <th>Event_Date</th>\n",
       "      <th>prediction</th>\n",
       "    </tr>\n",
       "  </thead>\n",
       "  <tbody>\n",
       "    <tr>\n",
       "      <th>0</th>\n",
       "      <td>148</td>\n",
       "      <td>1.0</td>\n",
       "      <td>1</td>\n",
       "      <td>1446854400000000000</td>\n",
       "      <td>0.981499</td>\n",
       "    </tr>\n",
       "    <tr>\n",
       "      <th>1</th>\n",
       "      <td>148</td>\n",
       "      <td>1.0</td>\n",
       "      <td>1</td>\n",
       "      <td>1448064000000000000</td>\n",
       "      <td>0.981499</td>\n",
       "    </tr>\n",
       "    <tr>\n",
       "      <th>2</th>\n",
       "      <td>148</td>\n",
       "      <td>1.0</td>\n",
       "      <td>1</td>\n",
       "      <td>1449273600000000000</td>\n",
       "      <td>0.981499</td>\n",
       "    </tr>\n",
       "    <tr>\n",
       "      <th>3</th>\n",
       "      <td>148</td>\n",
       "      <td>1.0</td>\n",
       "      <td>0</td>\n",
       "      <td>1450483200000000000</td>\n",
       "      <td>0.981499</td>\n",
       "    </tr>\n",
       "    <tr>\n",
       "      <th>4</th>\n",
       "      <td>148</td>\n",
       "      <td>1.0</td>\n",
       "      <td>0</td>\n",
       "      <td>1451779200000000000</td>\n",
       "      <td>0.981499</td>\n",
       "    </tr>\n",
       "  </tbody>\n",
       "</table>\n",
       "</div>"
      ],
      "text/plain": [
       "   PersonID  SeriesID  Participated           Event_Date  prediction\n",
       "0       148       1.0             1  1446854400000000000    0.981499\n",
       "1       148       1.0             1  1448064000000000000    0.981499\n",
       "2       148       1.0             1  1449273600000000000    0.981499\n",
       "3       148       1.0             0  1450483200000000000    0.981499\n",
       "4       148       1.0             0  1451779200000000000    0.981499"
      ]
     },
     "execution_count": 88,
     "metadata": {},
     "output_type": "execute_result"
    }
   ],
   "source": [
    "series_preds.head()"
   ]
  },
  {
   "cell_type": "code",
   "execution_count": 89,
   "metadata": {
    "collapsed": true
   },
   "outputs": [],
   "source": [
    "predictions = [(series_preds, 'SeriesID'), (type_preds, 'EventTypeID'), \n",
    "               (zipcode_preds, 'Venue_Zip'), (fee_preds, 'Total_Fee_Avg'), \n",
    "               (mile_preds, 'Miles2_Avg')]\n",
    "\n",
    "gb_train_data = data_df.copy()\n",
    "\n",
    "for item in predictions:\n",
    "    gb_train_data = merge_data(gb_train_data, item[0], item[1])"
   ]
  },
  {
   "cell_type": "code",
   "execution_count": 92,
   "metadata": {
    "collapsed": true
   },
   "outputs": [],
   "source": [
    "gb_train_data.sort_values(by='Event_Date', axis=0, ascending=True, inplace=True)"
   ]
  },
  {
   "cell_type": "code",
   "execution_count": 93,
   "metadata": {
    "collapsed": true
   },
   "outputs": [],
   "source": [
    "gb_train_data.reset_index(drop=True, inplace=True)"
   ]
  },
  {
   "cell_type": "code",
   "execution_count": 94,
   "metadata": {},
   "outputs": [
    {
     "name": "stdout",
     "output_type": "stream",
     "text": [
      "<class 'pandas.core.frame.DataFrame'>\n",
      "RangeIndex: 740563 entries, 0 to 740562\n",
      "Data columns (total 9 columns):\n",
      "PersonID                    740563 non-null int64\n",
      "EventID                     740563 non-null int64\n",
      "Participated                740563 non-null int64\n",
      "Event_Date                  740563 non-null int64\n",
      "SeriesID_prediction         740563 non-null float64\n",
      "EventTypeID_prediction      740563 non-null float64\n",
      "Venue_Zip_prediction        740563 non-null float64\n",
      "Total_Fee_Avg_prediction    740563 non-null float64\n",
      "Miles2_Avg_prediction       740563 non-null float64\n",
      "dtypes: float64(5), int64(4)\n",
      "memory usage: 50.9 MB\n"
     ]
    }
   ],
   "source": [
    "gb_train_data.info()"
   ]
  },
  {
   "cell_type": "markdown",
   "metadata": {},
   "source": [
    "No NAN values to fill in since this is the predictions on the training data (no cold starts)"
   ]
  },
  {
   "cell_type": "code",
   "execution_count": null,
   "metadata": {
    "collapsed": true
   },
   "outputs": [],
   "source": [
    "#need to fill nan values for venue_zip_prediction and fee_prediction\n",
    "#gb_data['venuezip_prediction'] = gb_data['venuezip_prediction'].apply(\n",
    "#                            lambda x: gb_data['venuezip_prediction'].mean() if pd.isnull(x) else x)\n",
    "#need to fill nan values for venue_zip_prediction and fee_prediction\n",
    "#gb_data['fee_prediction'] = gb_data['fee_prediction'].apply(\n",
    "#                            lambda x: gb_data['fee_prediction'].mean() if pd.isnull(x) else x)"
   ]
  },
  {
   "cell_type": "code",
   "execution_count": 100,
   "metadata": {},
   "outputs": [
    {
     "data": {
      "text/plain": [
       "(592450.4, 148112.6)"
      ]
     },
     "execution_count": 100,
     "metadata": {},
     "output_type": "execute_result"
    }
   ],
   "source": [
    "len(gb_train_data)*.8, len(gb_train_data)*.2"
   ]
  },
  {
   "cell_type": "markdown",
   "metadata": {},
   "source": [
    "Split data on first 592450 records for train (sorted by event_date as timestamp) and last 148113 records for test"
   ]
  },
  {
   "cell_type": "code",
   "execution_count": 102,
   "metadata": {
    "collapsed": true
   },
   "outputs": [],
   "source": [
    "X_gb_train = gb_train_data[['SeriesID_prediction', 'EventTypeID_prediction', 'Venue_Zip_prediction', 'Total_Fee_Avg_prediction', \n",
    "                      'Miles2_Avg_prediction']].iloc[:592450].copy()"
   ]
  },
  {
   "cell_type": "code",
   "execution_count": 103,
   "metadata": {
    "collapsed": true
   },
   "outputs": [],
   "source": [
    "y_gb_train = gb_train_data['Participated'].iloc[:592450].copy()"
   ]
  },
  {
   "cell_type": "code",
   "execution_count": 104,
   "metadata": {},
   "outputs": [
    {
     "data": {
      "text/plain": [
       "(592450, 592450)"
      ]
     },
     "execution_count": 104,
     "metadata": {},
     "output_type": "execute_result"
    }
   ],
   "source": [
    "len(X_gb_train), len(y_gb_train)"
   ]
  },
  {
   "cell_type": "code",
   "execution_count": 105,
   "metadata": {
    "collapsed": true
   },
   "outputs": [],
   "source": [
    "X_gb_val = gb_train_data[['SeriesID_prediction', 'EventTypeID_prediction', 'Venue_Zip_prediction', 'Total_Fee_Avg_prediction', \n",
    "                      'Miles2_Avg_prediction']].iloc[592450:].copy()"
   ]
  },
  {
   "cell_type": "code",
   "execution_count": 106,
   "metadata": {
    "collapsed": true
   },
   "outputs": [],
   "source": [
    "y_gb_val = gb_train_data['Participated'].iloc[592450:].copy()"
   ]
  },
  {
   "cell_type": "code",
   "execution_count": 108,
   "metadata": {
    "scrolled": true
   },
   "outputs": [
    {
     "data": {
      "text/plain": [
       "(148113, 148113)"
      ]
     },
     "execution_count": 108,
     "metadata": {},
     "output_type": "execute_result"
    }
   ],
   "source": [
    "len(X_gb_val), len(y_gb_val)"
   ]
  },
  {
   "cell_type": "code",
   "execution_count": 109,
   "metadata": {
    "collapsed": true
   },
   "outputs": [],
   "source": [
    "with open('26OCT17_finalfitmodels/gb_train_data.pkl', 'w') as f:\n",
    "    pickle.dump(gb_train_data, f)"
   ]
  },
  {
   "cell_type": "markdown",
   "metadata": {},
   "source": [
    "#### Build X, y Test Matrices for GB Model"
   ]
  },
  {
   "cell_type": "code",
   "execution_count": 110,
   "metadata": {
    "collapsed": true
   },
   "outputs": [],
   "source": [
    "test_data_df = load_files('26OCT17_finalfitmodels/als_test_df_pd.pkl')\n",
    "test_fee_preds = load_files('26OCT17_finalfitmodels/als_testpreds_pd_avgfee.pkl')\n",
    "test_mile_preds = load_files('26OCT17_finalfitmodels/als_testpreds_pd_avgmile.pkl')\n",
    "test_type_preds = load_files('26OCT17_finalfitmodels/als_testpreds_pd_eventtype.pkl')\n",
    "test_series_preds = load_files('26OCT17_finalfitmodels/als_testpreds_pd_series.pkl')\n",
    "test_zipcode_preds = load_files('26OCT17_finalfitmodels/als_testpreds_pd_zipcode.pkl')"
   ]
  },
  {
   "cell_type": "code",
   "execution_count": 119,
   "metadata": {
    "collapsed": true
   },
   "outputs": [],
   "source": [
    "test_data_df['Event_Date'] = test_data_df['Event_Date'].astype('int64')//1e9"
   ]
  },
  {
   "cell_type": "code",
   "execution_count": 120,
   "metadata": {
    "collapsed": true
   },
   "outputs": [],
   "source": [
    "test_data_df['Event_Date'] = test_data_df['Event_Date'] * 1000000000"
   ]
  },
  {
   "cell_type": "code",
   "execution_count": 130,
   "metadata": {
    "collapsed": true
   },
   "outputs": [],
   "source": [
    "test_predictions = [(test_series_preds, 'SeriesID'), (test_type_preds, 'EventTypeID'), \n",
    "               (test_zipcode_preds, 'Venue_Zip'), (test_fee_preds, 'Total_Fee_Avg'), \n",
    "               (test_mile_preds, 'Miles2_Avg')]\n",
    "\n",
    "gb_test_data = test_data_df.copy()\n",
    "\n",
    "for item in test_predictions:\n",
    "    gb_test_data = merge_data(gb_test_data, item[0], item[1])"
   ]
  },
  {
   "cell_type": "code",
   "execution_count": 131,
   "metadata": {
    "collapsed": true
   },
   "outputs": [],
   "source": [
    "gb_test_data.sort_values(by='Event_Date', axis=0, ascending=True, inplace=True)"
   ]
  },
  {
   "cell_type": "code",
   "execution_count": 132,
   "metadata": {
    "collapsed": true
   },
   "outputs": [],
   "source": [
    "gb_test_data.reset_index(drop=True, inplace=True)"
   ]
  },
  {
   "cell_type": "code",
   "execution_count": 134,
   "metadata": {
    "collapsed": true
   },
   "outputs": [],
   "source": [
    "#need to fill nan values for and Fee and Mile Predictions (caused by cold starts during ALS modeling)\n",
    "gb_test_data['Total_Fee_Avg_prediction'] = gb_test_data['Total_Fee_Avg_prediction'].apply(\n",
    "                            lambda x: gb_test_data['Total_Fee_Avg_prediction'].mean() if pd.isnull(x) else x)\n",
    "#need to fill nan values for venue_zip_prediction and fee_prediction\n",
    "gb_test_data['Miles2_Avg_prediction'] = gb_test_data['Miles2_Avg_prediction'].apply(\n",
    "                            lambda x: gb_test_data['Miles2_Avg_prediction'].mean() if pd.isnull(x) else x)"
   ]
  },
  {
   "cell_type": "code",
   "execution_count": 135,
   "metadata": {},
   "outputs": [
    {
     "name": "stdout",
     "output_type": "stream",
     "text": [
      "<class 'pandas.core.frame.DataFrame'>\n",
      "RangeIndex: 185141 entries, 0 to 185140\n",
      "Data columns (total 9 columns):\n",
      "PersonID                    185141 non-null int64\n",
      "EventID                     185141 non-null int64\n",
      "Participated                185141 non-null int64\n",
      "Event_Date                  185141 non-null int64\n",
      "SeriesID_prediction         185141 non-null float64\n",
      "EventTypeID_prediction      185141 non-null float64\n",
      "Venue_Zip_prediction        185141 non-null float64\n",
      "Total_Fee_Avg_prediction    185141 non-null float64\n",
      "Miles2_Avg_prediction       185141 non-null float64\n",
      "dtypes: float64(5), int64(4)\n",
      "memory usage: 12.7 MB\n"
     ]
    }
   ],
   "source": [
    "gb_test_data.info()"
   ]
  },
  {
   "cell_type": "code",
   "execution_count": 138,
   "metadata": {
    "collapsed": true
   },
   "outputs": [],
   "source": [
    "X_gb_test = gb_test_data[['SeriesID_prediction', 'EventTypeID_prediction', 'Venue_Zip_prediction', 'Total_Fee_Avg_prediction', \n",
    "                      'Miles2_Avg_prediction']].copy()"
   ]
  },
  {
   "cell_type": "code",
   "execution_count": 139,
   "metadata": {
    "collapsed": true
   },
   "outputs": [],
   "source": [
    "y_gb_test = gb_test_data['Participated'].copy()"
   ]
  },
  {
   "cell_type": "code",
   "execution_count": 141,
   "metadata": {
    "scrolled": true
   },
   "outputs": [
    {
     "data": {
      "text/plain": [
       "(185141, 185141)"
      ]
     },
     "execution_count": 141,
     "metadata": {},
     "output_type": "execute_result"
    }
   ],
   "source": [
    "len(X_gb_test), len(y_gb_test)"
   ]
  },
  {
   "cell_type": "code",
   "execution_count": 142,
   "metadata": {
    "collapsed": true
   },
   "outputs": [],
   "source": [
    "with open('26OCT17_finalfitmodels/gb_test_data.pkl', 'w') as f:\n",
    "    pickle.dump(gb_test_data, f)"
   ]
  },
  {
   "cell_type": "markdown",
   "metadata": {},
   "source": [
    "## Train Gradient Boosted Regressor out of the box using prepared data"
   ]
  },
  {
   "cell_type": "code",
   "execution_count": 1,
   "metadata": {
    "collapsed": true
   },
   "outputs": [],
   "source": [
    "import cPickle as pickle"
   ]
  },
  {
   "cell_type": "code",
   "execution_count": 3,
   "metadata": {
    "collapsed": true
   },
   "outputs": [],
   "source": [
    "with open('26OCT17_finalfitmodels/gb_train_data.pkl', 'rb') as f:\n",
    "    gb_train_data = pickle.load(f)\n",
    "with open('26OCT17_finalfitmodels/gb_test_data.pkl', 'rb') as f:\n",
    "    gb_test_data = pickle.load(f)"
   ]
  },
  {
   "cell_type": "code",
   "execution_count": 4,
   "metadata": {
    "collapsed": true
   },
   "outputs": [],
   "source": [
    "X_gb_train = gb_train_data[['SeriesID_prediction', 'EventTypeID_prediction', 'Venue_Zip_prediction', 'Total_Fee_Avg_prediction', \n",
    "                      'Miles2_Avg_prediction']].iloc[:592450].copy()"
   ]
  },
  {
   "cell_type": "code",
   "execution_count": 5,
   "metadata": {
    "collapsed": true
   },
   "outputs": [],
   "source": [
    "y_gb_train = gb_train_data['Participated'].iloc[:592450].copy()"
   ]
  },
  {
   "cell_type": "code",
   "execution_count": 6,
   "metadata": {},
   "outputs": [
    {
     "data": {
      "text/plain": [
       "(592450, 592450)"
      ]
     },
     "execution_count": 6,
     "metadata": {},
     "output_type": "execute_result"
    }
   ],
   "source": [
    "len(X_gb_train), len(y_gb_train)"
   ]
  },
  {
   "cell_type": "code",
   "execution_count": 7,
   "metadata": {
    "collapsed": true
   },
   "outputs": [],
   "source": [
    "X_gb_val = gb_train_data[['SeriesID_prediction', 'EventTypeID_prediction', 'Venue_Zip_prediction', 'Total_Fee_Avg_prediction', \n",
    "                      'Miles2_Avg_prediction']].iloc[592450:].copy()"
   ]
  },
  {
   "cell_type": "code",
   "execution_count": 8,
   "metadata": {
    "collapsed": true
   },
   "outputs": [],
   "source": [
    "y_gb_val = gb_train_data['Participated'].iloc[592450:].copy()"
   ]
  },
  {
   "cell_type": "code",
   "execution_count": 9,
   "metadata": {
    "scrolled": true
   },
   "outputs": [
    {
     "data": {
      "text/plain": [
       "(148113, 148113)"
      ]
     },
     "execution_count": 9,
     "metadata": {},
     "output_type": "execute_result"
    }
   ],
   "source": [
    "len(X_gb_val), len(y_gb_val)"
   ]
  },
  {
   "cell_type": "code",
   "execution_count": 10,
   "metadata": {
    "collapsed": true
   },
   "outputs": [],
   "source": [
    "X_gb_test = gb_test_data[['SeriesID_prediction', 'EventTypeID_prediction', 'Venue_Zip_prediction', 'Total_Fee_Avg_prediction', \n",
    "                      'Miles2_Avg_prediction']].copy()"
   ]
  },
  {
   "cell_type": "code",
   "execution_count": 11,
   "metadata": {
    "collapsed": true
   },
   "outputs": [],
   "source": [
    "y_gb_test = gb_test_data['Participated'].copy()"
   ]
  },
  {
   "cell_type": "code",
   "execution_count": 12,
   "metadata": {
    "scrolled": true
   },
   "outputs": [
    {
     "data": {
      "text/plain": [
       "(185141, 185141)"
      ]
     },
     "execution_count": 12,
     "metadata": {},
     "output_type": "execute_result"
    }
   ],
   "source": [
    "len(X_gb_test), len(y_gb_test)"
   ]
  },
  {
   "cell_type": "code",
   "execution_count": 13,
   "metadata": {
    "collapsed": true
   },
   "outputs": [],
   "source": [
    "from sklearn.ensemble import GradientBoostingRegressor"
   ]
  },
  {
   "cell_type": "code",
   "execution_count": 14,
   "metadata": {
    "collapsed": true
   },
   "outputs": [],
   "source": [
    "gb_model = GradientBoostingRegressor()"
   ]
  },
  {
   "cell_type": "code",
   "execution_count": 15,
   "metadata": {},
   "outputs": [
    {
     "data": {
      "text/plain": [
       "GradientBoostingRegressor(alpha=0.9, criterion='friedman_mse', init=None,\n",
       "             learning_rate=0.1, loss='ls', max_depth=3, max_features=None,\n",
       "             max_leaf_nodes=None, min_impurity_decrease=0.0,\n",
       "             min_impurity_split=None, min_samples_leaf=1,\n",
       "             min_samples_split=2, min_weight_fraction_leaf=0.0,\n",
       "             n_estimators=100, presort='auto', random_state=None,\n",
       "             subsample=1.0, verbose=0, warm_start=False)"
      ]
     },
     "execution_count": 15,
     "metadata": {},
     "output_type": "execute_result"
    }
   ],
   "source": [
    "gb_model.fit(X_gb_train, y_gb_train)"
   ]
  },
  {
   "cell_type": "code",
   "execution_count": 16,
   "metadata": {},
   "outputs": [
    {
     "data": {
      "text/plain": [
       "0.50339517816543178"
      ]
     },
     "execution_count": 16,
     "metadata": {},
     "output_type": "execute_result"
    }
   ],
   "source": [
    "gb_model.score(X_gb_val, y_gb_val) #this uses r^2 for scoring....not helpful in my situation"
   ]
  },
  {
   "cell_type": "code",
   "execution_count": 17,
   "metadata": {
    "collapsed": true
   },
   "outputs": [],
   "source": [
    "import rank_eval"
   ]
  },
  {
   "cell_type": "markdown",
   "metadata": {},
   "source": [
    "The df needs to include columns for user, item, actual outcome, and predicted outcome\n",
    "    user, item, actual, prediction - strings indicating the name of each column in\n",
    "    the predictions file for use in the function"
   ]
  },
  {
   "cell_type": "code",
   "execution_count": 18,
   "metadata": {
    "collapsed": true
   },
   "outputs": [],
   "source": [
    "gb_valpreds = gb_model.predict(X_gb_val)"
   ]
  },
  {
   "cell_type": "code",
   "execution_count": 19,
   "metadata": {},
   "outputs": [
    {
     "data": {
      "text/plain": [
       "148113"
      ]
     },
     "execution_count": 19,
     "metadata": {},
     "output_type": "execute_result"
    }
   ],
   "source": [
    "len(gb_valpreds)"
   ]
  },
  {
   "cell_type": "code",
   "execution_count": 20,
   "metadata": {},
   "outputs": [
    {
     "data": {
      "text/plain": [
       "148113"
      ]
     },
     "execution_count": 20,
     "metadata": {},
     "output_type": "execute_result"
    }
   ],
   "source": [
    "len(y_gb_val)"
   ]
  },
  {
   "cell_type": "code",
   "execution_count": 22,
   "metadata": {
    "collapsed": true
   },
   "outputs": [],
   "source": [
    "import pandas as pd\n",
    "rankeval_valpreds_df = pd.DataFrame({'PersonID': gb_train_data['PersonID'].iloc[592450:], 'EventID': \n",
    "                                      gb_train_data['EventID'].iloc[592450:], 'Participated': y_gb_val.values, \n",
    "                                      'prediction': gb_valpreds})"
   ]
  },
  {
   "cell_type": "code",
   "execution_count": 23,
   "metadata": {},
   "outputs": [
    {
     "data": {
      "text/html": [
       "<div>\n",
       "<style>\n",
       "    .dataframe thead tr:only-child th {\n",
       "        text-align: right;\n",
       "    }\n",
       "\n",
       "    .dataframe thead th {\n",
       "        text-align: left;\n",
       "    }\n",
       "\n",
       "    .dataframe tbody tr th {\n",
       "        vertical-align: top;\n",
       "    }\n",
       "</style>\n",
       "<table border=\"1\" class=\"dataframe\">\n",
       "  <thead>\n",
       "    <tr style=\"text-align: right;\">\n",
       "      <th></th>\n",
       "      <th>EventID</th>\n",
       "      <th>Participated</th>\n",
       "      <th>PersonID</th>\n",
       "      <th>prediction</th>\n",
       "    </tr>\n",
       "  </thead>\n",
       "  <tbody>\n",
       "    <tr>\n",
       "      <th>592450</th>\n",
       "      <td>53</td>\n",
       "      <td>0</td>\n",
       "      <td>426</td>\n",
       "      <td>-0.001113</td>\n",
       "    </tr>\n",
       "    <tr>\n",
       "      <th>592451</th>\n",
       "      <td>53</td>\n",
       "      <td>0</td>\n",
       "      <td>427</td>\n",
       "      <td>-0.003255</td>\n",
       "    </tr>\n",
       "    <tr>\n",
       "      <th>592452</th>\n",
       "      <td>53</td>\n",
       "      <td>0</td>\n",
       "      <td>428</td>\n",
       "      <td>0.014946</td>\n",
       "    </tr>\n",
       "    <tr>\n",
       "      <th>592453</th>\n",
       "      <td>53</td>\n",
       "      <td>0</td>\n",
       "      <td>429</td>\n",
       "      <td>0.014946</td>\n",
       "    </tr>\n",
       "    <tr>\n",
       "      <th>592454</th>\n",
       "      <td>53</td>\n",
       "      <td>0</td>\n",
       "      <td>430</td>\n",
       "      <td>0.000141</td>\n",
       "    </tr>\n",
       "  </tbody>\n",
       "</table>\n",
       "</div>"
      ],
      "text/plain": [
       "        EventID  Participated  PersonID  prediction\n",
       "592450       53             0       426   -0.001113\n",
       "592451       53             0       427   -0.003255\n",
       "592452       53             0       428    0.014946\n",
       "592453       53             0       429    0.014946\n",
       "592454       53             0       430    0.000141"
      ]
     },
     "execution_count": 23,
     "metadata": {},
     "output_type": "execute_result"
    }
   ],
   "source": [
    "rankeval_valpreds_df.head()"
   ]
  },
  {
   "cell_type": "code",
   "execution_count": 24,
   "metadata": {
    "collapsed": true
   },
   "outputs": [],
   "source": [
    "rank_processing = rank_eval.RankEval(rankeval_valpreds_df, 'PersonID', 'EventID', 'Participated', 'prediction')"
   ]
  },
  {
   "cell_type": "code",
   "execution_count": 25,
   "metadata": {},
   "outputs": [
    {
     "data": {
      "text/plain": [
       "10.608256886757683"
      ]
     },
     "execution_count": 25,
     "metadata": {},
     "output_type": "execute_result"
    }
   ],
   "source": [
    "rank_processing.calc_test_rank()"
   ]
  },
  {
   "cell_type": "code",
   "execution_count": 26,
   "metadata": {},
   "outputs": [
    {
     "data": {
      "text/plain": [
       "36.005991800693678"
      ]
     },
     "execution_count": 26,
     "metadata": {},
     "output_type": "execute_result"
    }
   ],
   "source": [
    "rank_processing.calc_popular_rank()"
   ]
  },
  {
   "cell_type": "code",
   "execution_count": 27,
   "metadata": {},
   "outputs": [
    {
     "data": {
      "text/plain": [
       "{'alpha': 0.9,\n",
       " 'criterion': 'friedman_mse',\n",
       " 'init': None,\n",
       " 'learning_rate': 0.1,\n",
       " 'loss': 'ls',\n",
       " 'max_depth': 3,\n",
       " 'max_features': None,\n",
       " 'max_leaf_nodes': None,\n",
       " 'min_impurity_decrease': 0.0,\n",
       " 'min_impurity_split': None,\n",
       " 'min_samples_leaf': 1,\n",
       " 'min_samples_split': 2,\n",
       " 'min_weight_fraction_leaf': 0.0,\n",
       " 'n_estimators': 100,\n",
       " 'presort': 'auto',\n",
       " 'random_state': None,\n",
       " 'subsample': 1.0,\n",
       " 'verbose': 0,\n",
       " 'warm_start': False}"
      ]
     },
     "execution_count": 27,
     "metadata": {},
     "output_type": "execute_result"
    }
   ],
   "source": [
    "gb_model.get_params()"
   ]
  },
  {
   "cell_type": "code",
   "execution_count": 28,
   "metadata": {
    "scrolled": true
   },
   "outputs": [
    {
     "data": {
      "text/plain": [
       "[(0.17383546240891737, 'SeriesID_prediction'),\n",
       " (0.038370881059628832, 'EventTypeID_prediction'),\n",
       " (0.38350505599236889, 'Venue_Zip_prediction'),\n",
       " (0.26136761331297031, 'Total_Fee_Avg_prediction'),\n",
       " (0.14292098722611465, 'Miles2_Avg_prediction')]"
      ]
     },
     "execution_count": 28,
     "metadata": {},
     "output_type": "execute_result"
    }
   ],
   "source": [
    "zip(gb_model.feature_importances_, X_gb_train.columns.values)"
   ]
  },
  {
   "cell_type": "markdown",
   "metadata": {},
   "source": [
    "## Train Gradient Boosted Regressor with some Params Tweaked:"
   ]
  },
  {
   "cell_type": "code",
   "execution_count": 161,
   "metadata": {
    "collapsed": true
   },
   "outputs": [],
   "source": [
    "gb_model_v2 = GradientBoostingRegressor(loss='ls', learning_rate=.01, n_estimators=1000, subsample=0.5, max_depth=10)"
   ]
  },
  {
   "cell_type": "code",
   "execution_count": 162,
   "metadata": {},
   "outputs": [
    {
     "data": {
      "text/plain": [
       "GradientBoostingRegressor(alpha=0.9, criterion='friedman_mse', init=None,\n",
       "             learning_rate=0.01, loss='ls', max_depth=10,\n",
       "             max_features=None, max_leaf_nodes=None,\n",
       "             min_impurity_decrease=0.0, min_impurity_split=None,\n",
       "             min_samples_leaf=1, min_samples_split=2,\n",
       "             min_weight_fraction_leaf=0.0, n_estimators=1000,\n",
       "             presort='auto', random_state=None, subsample=0.5, verbose=0,\n",
       "             warm_start=False)"
      ]
     },
     "execution_count": 162,
     "metadata": {},
     "output_type": "execute_result"
    }
   ],
   "source": [
    "gb_model_v2.fit(X_gb_train, y_gb_train)"
   ]
  },
  {
   "cell_type": "code",
   "execution_count": 163,
   "metadata": {},
   "outputs": [
    {
     "data": {
      "text/plain": [
       "0.54893401872982728"
      ]
     },
     "execution_count": 163,
     "metadata": {},
     "output_type": "execute_result"
    }
   ],
   "source": [
    "gb_model_v2.score(X_gb_val, y_gb_val) #this uses r^2 for scoring....not helpful in my situation"
   ]
  },
  {
   "cell_type": "markdown",
   "metadata": {},
   "source": [
    "The df needs to include columns for user, item, actual outcome, and predicted outcome\n",
    "    user, item, actual, prediction - strings indicating the name of each column in\n",
    "    the predictions file for use in the function"
   ]
  },
  {
   "cell_type": "code",
   "execution_count": 164,
   "metadata": {
    "collapsed": true
   },
   "outputs": [],
   "source": [
    "gb_valpreds_v2 = gb_model_v2.predict(X_gb_val)"
   ]
  },
  {
   "cell_type": "code",
   "execution_count": 165,
   "metadata": {},
   "outputs": [
    {
     "data": {
      "text/plain": [
       "148113"
      ]
     },
     "execution_count": 165,
     "metadata": {},
     "output_type": "execute_result"
    }
   ],
   "source": [
    "len(gb_valpreds_v2)"
   ]
  },
  {
   "cell_type": "code",
   "execution_count": 166,
   "metadata": {},
   "outputs": [
    {
     "data": {
      "text/plain": [
       "148113"
      ]
     },
     "execution_count": 166,
     "metadata": {},
     "output_type": "execute_result"
    }
   ],
   "source": [
    "len(y_gb_val)"
   ]
  },
  {
   "cell_type": "code",
   "execution_count": 167,
   "metadata": {
    "collapsed": true
   },
   "outputs": [],
   "source": [
    "rankeval_valpreds_df_v2 = pd.DataFrame({'PersonID': gb_train_data['PersonID'].iloc[592450:], 'EventID': \n",
    "                                      gb_train_data['EventID'].iloc[592450:], 'Participated': y_gb_val.values, \n",
    "                                      'prediction': gb_valpreds_v2})"
   ]
  },
  {
   "cell_type": "code",
   "execution_count": 168,
   "metadata": {},
   "outputs": [
    {
     "data": {
      "text/html": [
       "<div>\n",
       "<style>\n",
       "    .dataframe thead tr:only-child th {\n",
       "        text-align: right;\n",
       "    }\n",
       "\n",
       "    .dataframe thead th {\n",
       "        text-align: left;\n",
       "    }\n",
       "\n",
       "    .dataframe tbody tr th {\n",
       "        vertical-align: top;\n",
       "    }\n",
       "</style>\n",
       "<table border=\"1\" class=\"dataframe\">\n",
       "  <thead>\n",
       "    <tr style=\"text-align: right;\">\n",
       "      <th></th>\n",
       "      <th>EventID</th>\n",
       "      <th>Participated</th>\n",
       "      <th>PersonID</th>\n",
       "      <th>prediction</th>\n",
       "    </tr>\n",
       "  </thead>\n",
       "  <tbody>\n",
       "    <tr>\n",
       "      <th>592450</th>\n",
       "      <td>53</td>\n",
       "      <td>0</td>\n",
       "      <td>426</td>\n",
       "      <td>1.647883e-05</td>\n",
       "    </tr>\n",
       "    <tr>\n",
       "      <th>592451</th>\n",
       "      <td>53</td>\n",
       "      <td>0</td>\n",
       "      <td>427</td>\n",
       "      <td>-2.141425e-04</td>\n",
       "    </tr>\n",
       "    <tr>\n",
       "      <th>592452</th>\n",
       "      <td>53</td>\n",
       "      <td>0</td>\n",
       "      <td>428</td>\n",
       "      <td>9.218641e-04</td>\n",
       "    </tr>\n",
       "    <tr>\n",
       "      <th>592453</th>\n",
       "      <td>53</td>\n",
       "      <td>0</td>\n",
       "      <td>429</td>\n",
       "      <td>9.218641e-04</td>\n",
       "    </tr>\n",
       "    <tr>\n",
       "      <th>592454</th>\n",
       "      <td>53</td>\n",
       "      <td>0</td>\n",
       "      <td>430</td>\n",
       "      <td>6.074579e-07</td>\n",
       "    </tr>\n",
       "  </tbody>\n",
       "</table>\n",
       "</div>"
      ],
      "text/plain": [
       "        EventID  Participated  PersonID    prediction\n",
       "592450       53             0       426  1.647883e-05\n",
       "592451       53             0       427 -2.141425e-04\n",
       "592452       53             0       428  9.218641e-04\n",
       "592453       53             0       429  9.218641e-04\n",
       "592454       53             0       430  6.074579e-07"
      ]
     },
     "execution_count": 168,
     "metadata": {},
     "output_type": "execute_result"
    }
   ],
   "source": [
    "rankeval_valpreds_df_v2.head()"
   ]
  },
  {
   "cell_type": "code",
   "execution_count": 169,
   "metadata": {
    "collapsed": true
   },
   "outputs": [],
   "source": [
    "rank_processing_v2 = rank_eval.RankEval(rankeval_valpreds_df_v2, 'PersonID', 'EventID', 'Participated', 'prediction')"
   ]
  },
  {
   "cell_type": "code",
   "execution_count": 170,
   "metadata": {},
   "outputs": [
    {
     "data": {
      "text/plain": [
       "13.21503460962106"
      ]
     },
     "execution_count": 170,
     "metadata": {},
     "output_type": "execute_result"
    }
   ],
   "source": [
    "rank_processing_v2.calc_test_rank()"
   ]
  },
  {
   "cell_type": "code",
   "execution_count": 171,
   "metadata": {},
   "outputs": [
    {
     "data": {
      "text/plain": [
       "36.005991800693678"
      ]
     },
     "execution_count": 171,
     "metadata": {},
     "output_type": "execute_result"
    }
   ],
   "source": [
    "rank_processing_v2.calc_popular_rank()"
   ]
  },
  {
   "cell_type": "code",
   "execution_count": 172,
   "metadata": {},
   "outputs": [
    {
     "data": {
      "text/plain": [
       "{'alpha': 0.9,\n",
       " 'criterion': 'friedman_mse',\n",
       " 'init': None,\n",
       " 'learning_rate': 0.01,\n",
       " 'loss': 'ls',\n",
       " 'max_depth': 10,\n",
       " 'max_features': None,\n",
       " 'max_leaf_nodes': None,\n",
       " 'min_impurity_decrease': 0.0,\n",
       " 'min_impurity_split': None,\n",
       " 'min_samples_leaf': 1,\n",
       " 'min_samples_split': 2,\n",
       " 'min_weight_fraction_leaf': 0.0,\n",
       " 'n_estimators': 1000,\n",
       " 'presort': 'auto',\n",
       " 'random_state': None,\n",
       " 'subsample': 0.5,\n",
       " 'verbose': 0,\n",
       " 'warm_start': False}"
      ]
     },
     "execution_count": 172,
     "metadata": {},
     "output_type": "execute_result"
    }
   ],
   "source": [
    "gb_model_v2.get_params()"
   ]
  },
  {
   "cell_type": "code",
   "execution_count": 173,
   "metadata": {
    "scrolled": false
   },
   "outputs": [
    {
     "data": {
      "text/plain": [
       "[(0.17878788265969475, 'SeriesID_prediction'),\n",
       " (0.071173449515895104, 'EventTypeID_prediction'),\n",
       " (0.3104463373768348, 'Venue_Zip_prediction'),\n",
       " (0.26937640589463835, 'Total_Fee_Avg_prediction'),\n",
       " (0.17021592455293708, 'Miles2_Avg_prediction')]"
      ]
     },
     "execution_count": 173,
     "metadata": {},
     "output_type": "execute_result"
    }
   ],
   "source": [
    "zip(gb_model_v2.feature_importances_, X_gb_train.columns.values)"
   ]
  },
  {
   "cell_type": "markdown",
   "metadata": {
    "collapsed": true
   },
   "source": [
    "## v3 Gradient Boost Fit"
   ]
  },
  {
   "cell_type": "code",
   "execution_count": 29,
   "metadata": {
    "collapsed": true
   },
   "outputs": [],
   "source": [
    "gb_model_v3 = GradientBoostingRegressor(loss='ls', learning_rate=.1, n_estimators=500, subsample=0.5, max_depth=5)"
   ]
  },
  {
   "cell_type": "code",
   "execution_count": 30,
   "metadata": {},
   "outputs": [
    {
     "data": {
      "text/plain": [
       "GradientBoostingRegressor(alpha=0.9, criterion='friedman_mse', init=None,\n",
       "             learning_rate=0.1, loss='ls', max_depth=5, max_features=None,\n",
       "             max_leaf_nodes=None, min_impurity_decrease=0.0,\n",
       "             min_impurity_split=None, min_samples_leaf=1,\n",
       "             min_samples_split=2, min_weight_fraction_leaf=0.0,\n",
       "             n_estimators=500, presort='auto', random_state=None,\n",
       "             subsample=0.5, verbose=0, warm_start=False)"
      ]
     },
     "execution_count": 30,
     "metadata": {},
     "output_type": "execute_result"
    }
   ],
   "source": [
    "gb_model_v3.fit(X_gb_train, y_gb_train)"
   ]
  },
  {
   "cell_type": "code",
   "execution_count": 31,
   "metadata": {},
   "outputs": [
    {
     "data": {
      "text/plain": [
       "0.55673198895920151"
      ]
     },
     "execution_count": 31,
     "metadata": {},
     "output_type": "execute_result"
    }
   ],
   "source": [
    "gb_model_v3.score(X_gb_val, y_gb_val) #this uses r^2 for scoring....not helpful in my situation"
   ]
  },
  {
   "cell_type": "markdown",
   "metadata": {},
   "source": [
    "The df needs to include columns for user, item, actual outcome, and predicted outcome\n",
    "    user, item, actual, prediction - strings indicating the name of each column in\n",
    "    the predictions file for use in the function"
   ]
  },
  {
   "cell_type": "code",
   "execution_count": 32,
   "metadata": {
    "collapsed": true
   },
   "outputs": [],
   "source": [
    "gb_valpreds_v3 = gb_model_v3.predict(X_gb_val)"
   ]
  },
  {
   "cell_type": "code",
   "execution_count": 33,
   "metadata": {},
   "outputs": [
    {
     "data": {
      "text/plain": [
       "148113"
      ]
     },
     "execution_count": 33,
     "metadata": {},
     "output_type": "execute_result"
    }
   ],
   "source": [
    "len(gb_valpreds_v3)"
   ]
  },
  {
   "cell_type": "code",
   "execution_count": 34,
   "metadata": {},
   "outputs": [
    {
     "data": {
      "text/plain": [
       "148113"
      ]
     },
     "execution_count": 34,
     "metadata": {},
     "output_type": "execute_result"
    }
   ],
   "source": [
    "len(y_gb_val)"
   ]
  },
  {
   "cell_type": "code",
   "execution_count": 36,
   "metadata": {
    "collapsed": true
   },
   "outputs": [],
   "source": [
    "rankeval_valpreds_df_v3 = pd.DataFrame({'PersonID': gb_train_data['PersonID'].iloc[592450:], 'EventID': \n",
    "                                      gb_train_data['EventID'].iloc[592450:], 'Participated': y_gb_val.values, \n",
    "                                      'prediction': gb_valpreds_v3})"
   ]
  },
  {
   "cell_type": "code",
   "execution_count": 37,
   "metadata": {},
   "outputs": [
    {
     "data": {
      "text/html": [
       "<div>\n",
       "<style>\n",
       "    .dataframe thead tr:only-child th {\n",
       "        text-align: right;\n",
       "    }\n",
       "\n",
       "    .dataframe thead th {\n",
       "        text-align: left;\n",
       "    }\n",
       "\n",
       "    .dataframe tbody tr th {\n",
       "        vertical-align: top;\n",
       "    }\n",
       "</style>\n",
       "<table border=\"1\" class=\"dataframe\">\n",
       "  <thead>\n",
       "    <tr style=\"text-align: right;\">\n",
       "      <th></th>\n",
       "      <th>EventID</th>\n",
       "      <th>Participated</th>\n",
       "      <th>PersonID</th>\n",
       "      <th>prediction</th>\n",
       "    </tr>\n",
       "  </thead>\n",
       "  <tbody>\n",
       "    <tr>\n",
       "      <th>592450</th>\n",
       "      <td>53</td>\n",
       "      <td>0</td>\n",
       "      <td>426</td>\n",
       "      <td>-0.001380</td>\n",
       "    </tr>\n",
       "    <tr>\n",
       "      <th>592451</th>\n",
       "      <td>53</td>\n",
       "      <td>0</td>\n",
       "      <td>427</td>\n",
       "      <td>-0.000540</td>\n",
       "    </tr>\n",
       "    <tr>\n",
       "      <th>592452</th>\n",
       "      <td>53</td>\n",
       "      <td>0</td>\n",
       "      <td>428</td>\n",
       "      <td>-0.006867</td>\n",
       "    </tr>\n",
       "    <tr>\n",
       "      <th>592453</th>\n",
       "      <td>53</td>\n",
       "      <td>0</td>\n",
       "      <td>429</td>\n",
       "      <td>-0.006867</td>\n",
       "    </tr>\n",
       "    <tr>\n",
       "      <th>592454</th>\n",
       "      <td>53</td>\n",
       "      <td>0</td>\n",
       "      <td>430</td>\n",
       "      <td>-0.000083</td>\n",
       "    </tr>\n",
       "  </tbody>\n",
       "</table>\n",
       "</div>"
      ],
      "text/plain": [
       "        EventID  Participated  PersonID  prediction\n",
       "592450       53             0       426   -0.001380\n",
       "592451       53             0       427   -0.000540\n",
       "592452       53             0       428   -0.006867\n",
       "592453       53             0       429   -0.006867\n",
       "592454       53             0       430   -0.000083"
      ]
     },
     "execution_count": 37,
     "metadata": {},
     "output_type": "execute_result"
    }
   ],
   "source": [
    "rankeval_valpreds_df_v3.head()"
   ]
  },
  {
   "cell_type": "code",
   "execution_count": 38,
   "metadata": {
    "collapsed": true
   },
   "outputs": [],
   "source": [
    "rank_processing_v3 = rank_eval.RankEval(rankeval_valpreds_df_v3, 'PersonID', 'EventID', 'Participated', 'prediction')"
   ]
  },
  {
   "cell_type": "code",
   "execution_count": 39,
   "metadata": {},
   "outputs": [
    {
     "data": {
      "text/plain": [
       "12.844999456893197"
      ]
     },
     "execution_count": 39,
     "metadata": {},
     "output_type": "execute_result"
    }
   ],
   "source": [
    "rank_processing_v3.calc_test_rank()"
   ]
  },
  {
   "cell_type": "code",
   "execution_count": 40,
   "metadata": {},
   "outputs": [
    {
     "data": {
      "text/plain": [
       "36.005991800693678"
      ]
     },
     "execution_count": 40,
     "metadata": {},
     "output_type": "execute_result"
    }
   ],
   "source": [
    "rank_processing_v3.calc_popular_rank()"
   ]
  },
  {
   "cell_type": "code",
   "execution_count": 41,
   "metadata": {},
   "outputs": [
    {
     "data": {
      "text/plain": [
       "{'alpha': 0.9,\n",
       " 'criterion': 'friedman_mse',\n",
       " 'init': None,\n",
       " 'learning_rate': 0.1,\n",
       " 'loss': 'ls',\n",
       " 'max_depth': 5,\n",
       " 'max_features': None,\n",
       " 'max_leaf_nodes': None,\n",
       " 'min_impurity_decrease': 0.0,\n",
       " 'min_impurity_split': None,\n",
       " 'min_samples_leaf': 1,\n",
       " 'min_samples_split': 2,\n",
       " 'min_weight_fraction_leaf': 0.0,\n",
       " 'n_estimators': 500,\n",
       " 'presort': 'auto',\n",
       " 'random_state': None,\n",
       " 'subsample': 0.5,\n",
       " 'verbose': 0,\n",
       " 'warm_start': False}"
      ]
     },
     "execution_count": 41,
     "metadata": {},
     "output_type": "execute_result"
    }
   ],
   "source": [
    "gb_model_v3.get_params()"
   ]
  },
  {
   "cell_type": "code",
   "execution_count": 42,
   "metadata": {
    "scrolled": false
   },
   "outputs": [
    {
     "data": {
      "text/plain": [
       "[(0.15430188615509788, 'SeriesID_prediction'),\n",
       " (0.066959413246221539, 'EventTypeID_prediction'),\n",
       " (0.38575525941974143, 'Venue_Zip_prediction'),\n",
       " (0.23845142532476507, 'Total_Fee_Avg_prediction'),\n",
       " (0.15453201585417414, 'Miles2_Avg_prediction')]"
      ]
     },
     "execution_count": 42,
     "metadata": {},
     "output_type": "execute_result"
    }
   ],
   "source": [
    "zip(gb_model_v3.feature_importances_, X_gb_train.columns.values)"
   ]
  },
  {
   "cell_type": "code",
   "execution_count": null,
   "metadata": {
    "collapsed": true
   },
   "outputs": [],
   "source": []
  },
  {
   "cell_type": "markdown",
   "metadata": {
    "collapsed": true
   },
   "source": [
    "## v5 Gradient Boost Fit - final pick"
   ]
  },
  {
   "cell_type": "code",
   "execution_count": 108,
   "metadata": {
    "collapsed": true
   },
   "outputs": [],
   "source": [
    "gb_model_v4 = GradientBoostingRegressor(loss='ls', learning_rate=.01, n_estimators=100, subsample=0.5, max_depth=3)"
   ]
  },
  {
   "cell_type": "code",
   "execution_count": 109,
   "metadata": {},
   "outputs": [
    {
     "data": {
      "text/plain": [
       "GradientBoostingRegressor(alpha=0.9, criterion='friedman_mse', init=None,\n",
       "             learning_rate=0.01, loss='ls', max_depth=3, max_features=None,\n",
       "             max_leaf_nodes=None, min_impurity_decrease=0.0,\n",
       "             min_impurity_split=None, min_samples_leaf=1,\n",
       "             min_samples_split=2, min_weight_fraction_leaf=0.0,\n",
       "             n_estimators=100, presort='auto', random_state=None,\n",
       "             subsample=0.5, verbose=0, warm_start=False)"
      ]
     },
     "execution_count": 109,
     "metadata": {},
     "output_type": "execute_result"
    }
   ],
   "source": [
    "gb_model_v4.fit(X_gb_train, y_gb_train)"
   ]
  },
  {
   "cell_type": "code",
   "execution_count": 110,
   "metadata": {},
   "outputs": [
    {
     "data": {
      "text/plain": [
       "0.36161776468476214"
      ]
     },
     "execution_count": 110,
     "metadata": {},
     "output_type": "execute_result"
    }
   ],
   "source": [
    "gb_model_v4.score(X_gb_val, y_gb_val) #this uses r^2 for scoring....not helpful in my situation"
   ]
  },
  {
   "cell_type": "markdown",
   "metadata": {},
   "source": [
    "The df needs to include columns for user, item, actual outcome, and predicted outcome\n",
    "    user, item, actual, prediction - strings indicating the name of each column in\n",
    "    the predictions file for use in the function"
   ]
  },
  {
   "cell_type": "code",
   "execution_count": 111,
   "metadata": {
    "collapsed": true
   },
   "outputs": [],
   "source": [
    "gb_valpreds_v4 = gb_model_v4.predict(X_gb_val)"
   ]
  },
  {
   "cell_type": "code",
   "execution_count": 112,
   "metadata": {},
   "outputs": [
    {
     "data": {
      "text/plain": [
       "148113"
      ]
     },
     "execution_count": 112,
     "metadata": {},
     "output_type": "execute_result"
    }
   ],
   "source": [
    "len(gb_valpreds_v4)"
   ]
  },
  {
   "cell_type": "code",
   "execution_count": 113,
   "metadata": {},
   "outputs": [
    {
     "data": {
      "text/plain": [
       "148113"
      ]
     },
     "execution_count": 113,
     "metadata": {},
     "output_type": "execute_result"
    }
   ],
   "source": [
    "len(y_gb_val)"
   ]
  },
  {
   "cell_type": "code",
   "execution_count": 114,
   "metadata": {
    "collapsed": true
   },
   "outputs": [],
   "source": [
    "rankeval_valpreds_df_v4 = pd.DataFrame({'PersonID': gb_train_data['PersonID'].iloc[592450:], 'EventID': \n",
    "                                      gb_train_data['EventID'].iloc[592450:], 'Participated': y_gb_val.values, \n",
    "                                      'prediction': gb_valpreds_v4})"
   ]
  },
  {
   "cell_type": "code",
   "execution_count": 115,
   "metadata": {},
   "outputs": [
    {
     "data": {
      "text/html": [
       "<div>\n",
       "<style>\n",
       "    .dataframe thead tr:only-child th {\n",
       "        text-align: right;\n",
       "    }\n",
       "\n",
       "    .dataframe thead th {\n",
       "        text-align: left;\n",
       "    }\n",
       "\n",
       "    .dataframe tbody tr th {\n",
       "        vertical-align: top;\n",
       "    }\n",
       "</style>\n",
       "<table border=\"1\" class=\"dataframe\">\n",
       "  <thead>\n",
       "    <tr style=\"text-align: right;\">\n",
       "      <th></th>\n",
       "      <th>EventID</th>\n",
       "      <th>Participated</th>\n",
       "      <th>PersonID</th>\n",
       "      <th>prediction</th>\n",
       "    </tr>\n",
       "  </thead>\n",
       "  <tbody>\n",
       "    <tr>\n",
       "      <th>592450</th>\n",
       "      <td>53</td>\n",
       "      <td>0</td>\n",
       "      <td>426</td>\n",
       "      <td>0.006887</td>\n",
       "    </tr>\n",
       "    <tr>\n",
       "      <th>592451</th>\n",
       "      <td>53</td>\n",
       "      <td>0</td>\n",
       "      <td>427</td>\n",
       "      <td>0.006887</td>\n",
       "    </tr>\n",
       "    <tr>\n",
       "      <th>592452</th>\n",
       "      <td>53</td>\n",
       "      <td>0</td>\n",
       "      <td>428</td>\n",
       "      <td>0.008846</td>\n",
       "    </tr>\n",
       "    <tr>\n",
       "      <th>592453</th>\n",
       "      <td>53</td>\n",
       "      <td>0</td>\n",
       "      <td>429</td>\n",
       "      <td>0.008846</td>\n",
       "    </tr>\n",
       "    <tr>\n",
       "      <th>592454</th>\n",
       "      <td>53</td>\n",
       "      <td>0</td>\n",
       "      <td>430</td>\n",
       "      <td>0.006887</td>\n",
       "    </tr>\n",
       "  </tbody>\n",
       "</table>\n",
       "</div>"
      ],
      "text/plain": [
       "        EventID  Participated  PersonID  prediction\n",
       "592450       53             0       426    0.006887\n",
       "592451       53             0       427    0.006887\n",
       "592452       53             0       428    0.008846\n",
       "592453       53             0       429    0.008846\n",
       "592454       53             0       430    0.006887"
      ]
     },
     "execution_count": 115,
     "metadata": {},
     "output_type": "execute_result"
    }
   ],
   "source": [
    "rankeval_valpreds_df_v4.head()"
   ]
  },
  {
   "cell_type": "code",
   "execution_count": 116,
   "metadata": {
    "collapsed": true
   },
   "outputs": [],
   "source": [
    "rank_processing_v4 = rank_eval.RankEval(rankeval_valpreds_df_v4, 'PersonID', 'EventID', 'Participated', 'prediction')"
   ]
  },
  {
   "cell_type": "code",
   "execution_count": 117,
   "metadata": {},
   "outputs": [
    {
     "data": {
      "text/plain": [
       "7.6624270293472847"
      ]
     },
     "execution_count": 117,
     "metadata": {},
     "output_type": "execute_result"
    }
   ],
   "source": [
    "rank_processing_v4.calc_test_rank()"
   ]
  },
  {
   "cell_type": "code",
   "execution_count": 118,
   "metadata": {},
   "outputs": [
    {
     "data": {
      "text/plain": [
       "36.005991800693678"
      ]
     },
     "execution_count": 118,
     "metadata": {},
     "output_type": "execute_result"
    }
   ],
   "source": [
    "rank_processing_v4.calc_popular_rank()"
   ]
  },
  {
   "cell_type": "code",
   "execution_count": 119,
   "metadata": {},
   "outputs": [
    {
     "data": {
      "text/plain": [
       "{'alpha': 0.9,\n",
       " 'criterion': 'friedman_mse',\n",
       " 'init': None,\n",
       " 'learning_rate': 0.01,\n",
       " 'loss': 'ls',\n",
       " 'max_depth': 3,\n",
       " 'max_features': None,\n",
       " 'max_leaf_nodes': None,\n",
       " 'min_impurity_decrease': 0.0,\n",
       " 'min_impurity_split': None,\n",
       " 'min_samples_leaf': 1,\n",
       " 'min_samples_split': 2,\n",
       " 'min_weight_fraction_leaf': 0.0,\n",
       " 'n_estimators': 100,\n",
       " 'presort': 'auto',\n",
       " 'random_state': None,\n",
       " 'subsample': 0.5,\n",
       " 'verbose': 0,\n",
       " 'warm_start': False}"
      ]
     },
     "execution_count": 119,
     "metadata": {},
     "output_type": "execute_result"
    }
   ],
   "source": [
    "gb_model_v4.get_params()"
   ]
  },
  {
   "cell_type": "code",
   "execution_count": 120,
   "metadata": {
    "scrolled": false
   },
   "outputs": [
    {
     "data": {
      "text/plain": [
       "[(0.063476210592455923, 'SeriesID_prediction'),\n",
       " (0.013552982432258434, 'EventTypeID_prediction'),\n",
       " (0.35382244573137867, 'Venue_Zip_prediction'),\n",
       " (0.42651626602072878, 'Total_Fee_Avg_prediction'),\n",
       " (0.14263209522317813, 'Miles2_Avg_prediction')]"
      ]
     },
     "execution_count": 120,
     "metadata": {},
     "output_type": "execute_result"
    }
   ],
   "source": [
    "zip(gb_model_v4.feature_importances_, X_gb_train.columns.values)"
   ]
  },
  {
   "cell_type": "code",
   "execution_count": 123,
   "metadata": {
    "collapsed": true
   },
   "outputs": [],
   "source": [
    "with open ('26OCT17_finalfitmodels/gb_model_trainfit', 'w') as f:\n",
    "    pickle.dump(gb_model_v4, f)\n",
    "with open ('26OCT17_finalfitmodels/gb_valpreds_trainfit', 'w') as f:\n",
    "    pickle.dump(gb_valpreds_v4, f)"
   ]
  },
  {
   "cell_type": "markdown",
   "metadata": {
    "collapsed": true
   },
   "source": [
    "## Refit selected model with train+val data:"
   ]
  },
  {
   "cell_type": "code",
   "execution_count": 124,
   "metadata": {
    "collapsed": true
   },
   "outputs": [],
   "source": [
    "X_gb_trainval = gb_train_data[['SeriesID_prediction', 'EventTypeID_prediction', 'Venue_Zip_prediction', 'Total_Fee_Avg_prediction', \n",
    "                      'Miles2_Avg_prediction']]"
   ]
  },
  {
   "cell_type": "code",
   "execution_count": 125,
   "metadata": {
    "collapsed": true
   },
   "outputs": [],
   "source": [
    "y_gb_trainval = gb_train_data['Participated']"
   ]
  },
  {
   "cell_type": "code",
   "execution_count": 209,
   "metadata": {
    "collapsed": true
   },
   "outputs": [],
   "source": [
    "gb_model_final = GradientBoostingRegressor(loss='ls', learning_rate=.01, n_estimators=100, subsample=0.5, max_depth=3)"
   ]
  },
  {
   "cell_type": "code",
   "execution_count": 210,
   "metadata": {},
   "outputs": [
    {
     "data": {
      "text/plain": [
       "GradientBoostingRegressor(alpha=0.9, criterion='friedman_mse', init=None,\n",
       "             learning_rate=0.01, loss='ls', max_depth=3, max_features=None,\n",
       "             max_leaf_nodes=None, min_impurity_decrease=0.0,\n",
       "             min_impurity_split=None, min_samples_leaf=1,\n",
       "             min_samples_split=2, min_weight_fraction_leaf=0.0,\n",
       "             n_estimators=100, presort='auto', random_state=None,\n",
       "             subsample=0.5, verbose=0, warm_start=False)"
      ]
     },
     "execution_count": 210,
     "metadata": {},
     "output_type": "execute_result"
    }
   ],
   "source": [
    "gb_model_final.fit(X_gb_trainval, y_gb_trainval)"
   ]
  },
  {
   "cell_type": "code",
   "execution_count": 211,
   "metadata": {},
   "outputs": [
    {
     "data": {
      "text/plain": [
       "-0.024690833563853154"
      ]
     },
     "execution_count": 211,
     "metadata": {},
     "output_type": "execute_result"
    }
   ],
   "source": [
    "gb_model_final.score(X_gb_test, y_gb_test) #this uses r^2 for scoring....not helpful in my situation"
   ]
  },
  {
   "cell_type": "markdown",
   "metadata": {},
   "source": [
    "The df needs to include columns for user, item, actual outcome, and predicted outcome\n",
    "    user, item, actual, prediction - strings indicating the name of each column in\n",
    "    the predictions file for use in the function"
   ]
  },
  {
   "cell_type": "code",
   "execution_count": 212,
   "metadata": {
    "collapsed": true
   },
   "outputs": [],
   "source": [
    "gb_testpreds_final = gb_model_final.predict(X_gb_test)"
   ]
  },
  {
   "cell_type": "code",
   "execution_count": 213,
   "metadata": {},
   "outputs": [
    {
     "data": {
      "text/plain": [
       "185141"
      ]
     },
     "execution_count": 213,
     "metadata": {},
     "output_type": "execute_result"
    }
   ],
   "source": [
    "len(gb_testpreds_final)"
   ]
  },
  {
   "cell_type": "code",
   "execution_count": 214,
   "metadata": {},
   "outputs": [
    {
     "data": {
      "text/plain": [
       "185141"
      ]
     },
     "execution_count": 214,
     "metadata": {},
     "output_type": "execute_result"
    }
   ],
   "source": [
    "len(y_gb_test)"
   ]
  },
  {
   "cell_type": "code",
   "execution_count": 215,
   "metadata": {},
   "outputs": [
    {
     "data": {
      "text/plain": [
       "185141"
      ]
     },
     "execution_count": 215,
     "metadata": {},
     "output_type": "execute_result"
    }
   ],
   "source": [
    "len(gb_test_data)"
   ]
  },
  {
   "cell_type": "code",
   "execution_count": 216,
   "metadata": {
    "collapsed": true
   },
   "outputs": [],
   "source": [
    "rankeval_testpreds_df_final = pd.DataFrame({'PersonID': gb_test_data['PersonID'], 'EventID': \n",
    "                                      gb_test_data['EventID'], 'Participated': y_gb_test.values, \n",
    "                                      'prediction': gb_testpreds_final})"
   ]
  },
  {
   "cell_type": "code",
   "execution_count": 217,
   "metadata": {},
   "outputs": [
    {
     "data": {
      "text/html": [
       "<div>\n",
       "<style>\n",
       "    .dataframe thead tr:only-child th {\n",
       "        text-align: right;\n",
       "    }\n",
       "\n",
       "    .dataframe thead th {\n",
       "        text-align: left;\n",
       "    }\n",
       "\n",
       "    .dataframe tbody tr th {\n",
       "        vertical-align: top;\n",
       "    }\n",
       "</style>\n",
       "<table border=\"1\" class=\"dataframe\">\n",
       "  <thead>\n",
       "    <tr style=\"text-align: right;\">\n",
       "      <th></th>\n",
       "      <th>EventID</th>\n",
       "      <th>Participated</th>\n",
       "      <th>PersonID</th>\n",
       "      <th>prediction</th>\n",
       "    </tr>\n",
       "  </thead>\n",
       "  <tbody>\n",
       "    <tr>\n",
       "      <th>0</th>\n",
       "      <td>67</td>\n",
       "      <td>0</td>\n",
       "      <td>4304</td>\n",
       "      <td>0.006862</td>\n",
       "    </tr>\n",
       "    <tr>\n",
       "      <th>1</th>\n",
       "      <td>67</td>\n",
       "      <td>0</td>\n",
       "      <td>2921</td>\n",
       "      <td>0.307445</td>\n",
       "    </tr>\n",
       "    <tr>\n",
       "      <th>2</th>\n",
       "      <td>67</td>\n",
       "      <td>0</td>\n",
       "      <td>2920</td>\n",
       "      <td>0.006862</td>\n",
       "    </tr>\n",
       "    <tr>\n",
       "      <th>3</th>\n",
       "      <td>67</td>\n",
       "      <td>0</td>\n",
       "      <td>2919</td>\n",
       "      <td>0.006862</td>\n",
       "    </tr>\n",
       "    <tr>\n",
       "      <th>4</th>\n",
       "      <td>67</td>\n",
       "      <td>0</td>\n",
       "      <td>2917</td>\n",
       "      <td>0.008913</td>\n",
       "    </tr>\n",
       "  </tbody>\n",
       "</table>\n",
       "</div>"
      ],
      "text/plain": [
       "   EventID  Participated  PersonID  prediction\n",
       "0       67             0      4304    0.006862\n",
       "1       67             0      2921    0.307445\n",
       "2       67             0      2920    0.006862\n",
       "3       67             0      2919    0.006862\n",
       "4       67             0      2917    0.008913"
      ]
     },
     "execution_count": 217,
     "metadata": {},
     "output_type": "execute_result"
    }
   ],
   "source": [
    "rankeval_testpreds_df_final.head()"
   ]
  },
  {
   "cell_type": "code",
   "execution_count": 218,
   "metadata": {
    "collapsed": true
   },
   "outputs": [],
   "source": [
    "rank_processing_final = rank_eval.RankEval(rankeval_testpreds_df_final, 'PersonID', 'EventID', 'Participated', 'prediction')"
   ]
  },
  {
   "cell_type": "code",
   "execution_count": 219,
   "metadata": {},
   "outputs": [
    {
     "data": {
      "text/plain": [
       "18.517767702087443"
      ]
     },
     "execution_count": 219,
     "metadata": {},
     "output_type": "execute_result"
    }
   ],
   "source": [
    "rank_processing_final.calc_test_rank()"
   ]
  },
  {
   "cell_type": "code",
   "execution_count": 220,
   "metadata": {
    "scrolled": true
   },
   "outputs": [
    {
     "data": {
      "text/plain": [
       "30.302021930658537"
      ]
     },
     "execution_count": 220,
     "metadata": {},
     "output_type": "execute_result"
    }
   ],
   "source": [
    "rank_processing_final.calc_popular_rank()"
   ]
  },
  {
   "cell_type": "code",
   "execution_count": 221,
   "metadata": {
    "collapsed": true
   },
   "outputs": [],
   "source": [
    "gb_trainvalpreds_final = gb_model_final.predict(X_gb_trainval)"
   ]
  },
  {
   "cell_type": "code",
   "execution_count": 222,
   "metadata": {},
   "outputs": [
    {
     "data": {
      "text/plain": [
       "740563"
      ]
     },
     "execution_count": 222,
     "metadata": {},
     "output_type": "execute_result"
    }
   ],
   "source": [
    "len(gb_trainvalpreds_final)"
   ]
  },
  {
   "cell_type": "code",
   "execution_count": 223,
   "metadata": {},
   "outputs": [
    {
     "data": {
      "text/plain": [
       "740563"
      ]
     },
     "execution_count": 223,
     "metadata": {},
     "output_type": "execute_result"
    }
   ],
   "source": [
    "len(y_gb_trainval)"
   ]
  },
  {
   "cell_type": "code",
   "execution_count": 224,
   "metadata": {},
   "outputs": [
    {
     "data": {
      "text/plain": [
       "740563"
      ]
     },
     "execution_count": 224,
     "metadata": {},
     "output_type": "execute_result"
    }
   ],
   "source": [
    "len(gb_train_data)"
   ]
  },
  {
   "cell_type": "code",
   "execution_count": 225,
   "metadata": {
    "collapsed": true
   },
   "outputs": [],
   "source": [
    "rankeval_trainvalpreds_df_final = pd.DataFrame({'PersonID': gb_train_data['PersonID'], 'EventID': \n",
    "                                      gb_train_data['EventID'], 'Participated': y_gb_trainval.values, \n",
    "                                      'prediction': gb_trainvalpreds_final})"
   ]
  },
  {
   "cell_type": "code",
   "execution_count": 226,
   "metadata": {
    "collapsed": true
   },
   "outputs": [],
   "source": [
    "rank_processing_final_train = rank_eval.RankEval(rankeval_trainvalpreds_df_final, 'PersonID', 'EventID', 'Participated', 'prediction')"
   ]
  },
  {
   "cell_type": "code",
   "execution_count": 227,
   "metadata": {},
   "outputs": [
    {
     "data": {
      "text/plain": [
       "7.2645672521985833"
      ]
     },
     "execution_count": 227,
     "metadata": {},
     "output_type": "execute_result"
    }
   ],
   "source": [
    "rank_processing_final_train.calc_test_rank()"
   ]
  },
  {
   "cell_type": "code",
   "execution_count": 228,
   "metadata": {},
   "outputs": [
    {
     "data": {
      "text/plain": [
       "33.199722882026641"
      ]
     },
     "execution_count": 228,
     "metadata": {},
     "output_type": "execute_result"
    }
   ],
   "source": [
    "rank_processing_final_train.calc_popular_rank()"
   ]
  },
  {
   "cell_type": "code",
   "execution_count": 229,
   "metadata": {},
   "outputs": [
    {
     "data": {
      "text/plain": [
       "{'alpha': 0.9,\n",
       " 'criterion': 'friedman_mse',\n",
       " 'init': None,\n",
       " 'learning_rate': 0.01,\n",
       " 'loss': 'ls',\n",
       " 'max_depth': 3,\n",
       " 'max_features': None,\n",
       " 'max_leaf_nodes': None,\n",
       " 'min_impurity_decrease': 0.0,\n",
       " 'min_impurity_split': None,\n",
       " 'min_samples_leaf': 1,\n",
       " 'min_samples_split': 2,\n",
       " 'min_weight_fraction_leaf': 0.0,\n",
       " 'n_estimators': 100,\n",
       " 'presort': 'auto',\n",
       " 'random_state': None,\n",
       " 'subsample': 0.5,\n",
       " 'verbose': 0,\n",
       " 'warm_start': False}"
      ]
     },
     "execution_count": 229,
     "metadata": {},
     "output_type": "execute_result"
    }
   ],
   "source": [
    "gb_model_final.get_params()"
   ]
  },
  {
   "cell_type": "code",
   "execution_count": 230,
   "metadata": {
    "scrolled": false
   },
   "outputs": [
    {
     "data": {
      "text/plain": [
       "[(0.077052009142721825, 'SeriesID_prediction'),\n",
       " (0.011092818055114749, 'EventTypeID_prediction'),\n",
       " (0.34520211697421244, 'Venue_Zip_prediction'),\n",
       " (0.45708994893045229, 'Total_Fee_Avg_prediction'),\n",
       " (0.10956310689749892, 'Miles2_Avg_prediction')]"
      ]
     },
     "execution_count": 230,
     "metadata": {},
     "output_type": "execute_result"
    }
   ],
   "source": [
    "zip(gb_model_final.feature_importances_, X_gb_train.columns.values)"
   ]
  },
  {
   "cell_type": "code",
   "execution_count": 231,
   "metadata": {
    "collapsed": true
   },
   "outputs": [],
   "source": [
    "with open ('26OCT17_finalfitmodels/gb_model_final', 'w') as f:\n",
    "    pickle.dump(gb_model_final, f)\n",
    "with open ('26OCT17_finalfitmodels/gb_testpreds_final', 'w') as f:\n",
    "    pickle.dump(gb_testpreds_final, f)"
   ]
  },
  {
   "cell_type": "markdown",
   "metadata": {
    "collapsed": true
   },
   "source": [
    "## Gather Info on Top Events and Likely Participants from Top 5 Recommendations Info for Each Person"
   ]
  },
  {
   "cell_type": "code",
   "execution_count": 7,
   "metadata": {
    "collapsed": true
   },
   "outputs": [],
   "source": [
    "import pandas as pd\n",
    "with open ('26OCT17_finalfitmodels/gb_testpreds_final', 'rb') as f:\n",
    "    gb_testpreds_final = pickle.load(f)\n",
    "with open ('26OCT17_finalfitmodels/gb_test_data.pkl', 'rb') as f:\n",
    "    gb_test_data = pickle.load(f)\n",
    "with open ('26OCT17_finalfitmodels/gb_train_data.pkl', 'rb') as f:\n",
    "    gb_train_data = pickle.load(f)"
   ]
  },
  {
   "cell_type": "code",
   "execution_count": 22,
   "metadata": {},
   "outputs": [],
   "source": [
    "with open ('24OCT17_pipelinerun/cleaned_df.pkl', 'rb') as f:\n",
    "    cleaned_data = pickle.load(f)"
   ]
  },
  {
   "cell_type": "code",
   "execution_count": 8,
   "metadata": {
    "collapsed": true
   },
   "outputs": [],
   "source": [
    "rankeval_testpreds_df_final = pd.DataFrame({'PersonID': gb_test_data['PersonID'], 'EventID': \n",
    "                                      gb_test_data['EventID'], 'Participated': gb_test_data['Participated'], \n",
    "                                      'prediction': gb_testpreds_final})"
   ]
  },
  {
   "cell_type": "code",
   "execution_count": 9,
   "metadata": {
    "collapsed": true
   },
   "outputs": [],
   "source": [
    "from collections import defaultdict\n",
    "\n",
    "D_topeventcounts = defaultdict(int)\n",
    "D_likelyusers = defaultdict(list)\n",
    "\n",
    "for person in rankeval_testpreds_df_final['PersonID'].unique():\n",
    "    temp_df = rankeval_testpreds_df_final[rankeval_testpreds_df_final[\"PersonID\"] == person].copy()\n",
    "    temp_df.sort_values('prediction', ascending=False, inplace=True)\n",
    "    temp_df = temp_df.iloc[:5]\n",
    "    \n",
    "    for event in temp_df['EventID'].values:\n",
    "        D_topeventcounts[event] += 1\n",
    "        D_likelyusers[event].append(person)"
   ]
  },
  {
   "cell_type": "code",
   "execution_count": 10,
   "metadata": {},
   "outputs": [
    {
     "data": {
      "text/plain": [
       "defaultdict(int,\n",
       "            {67: 1478,\n",
       "             68: 8682,\n",
       "             69: 1731,\n",
       "             70: 1713,\n",
       "             71: 1370,\n",
       "             72: 2304,\n",
       "             73: 386,\n",
       "             74: 1037,\n",
       "             75: 73,\n",
       "             76: 1340,\n",
       "             77: 8170,\n",
       "             78: 1854,\n",
       "             79: 1559,\n",
       "             80: 5056,\n",
       "             81: 7064,\n",
       "             82: 8109,\n",
       "             1018: 433,\n",
       "             4003: 1461})"
      ]
     },
     "execution_count": 10,
     "metadata": {},
     "output_type": "execute_result"
    }
   ],
   "source": [
    "D_topeventcounts\n",
    "#Number of instances that an event in the test dataset shows up in a person's top 10 recommendations"
   ]
  },
  {
   "cell_type": "code",
   "execution_count": 11,
   "metadata": {
    "collapsed": true
   },
   "outputs": [],
   "source": [
    "topevents_df = pd.DataFrame({'EventID': D_topeventcounts.keys(), 'Count in Top 5s': D_topeventcounts.values()})"
   ]
  },
  {
   "cell_type": "code",
   "execution_count": 12,
   "metadata": {
    "collapsed": true
   },
   "outputs": [],
   "source": [
    "topevents_df = pd.merge(topevents_df, cleaned_data, on='EventID')"
   ]
  },
  {
   "cell_type": "code",
   "execution_count": 13,
   "metadata": {
    "collapsed": true
   },
   "outputs": [],
   "source": [
    "topevents_df = topevents_df[['Count in Top 5s', 'EventID', 'Total fee', 'Event_Name', 'Event_Date', 'MergeoEvent', \n",
    "                            'EventType', 'SeriesID', 'Miles2', 'Venue_Zip']]"
   ]
  },
  {
   "cell_type": "code",
   "execution_count": 14,
   "metadata": {
    "collapsed": true
   },
   "outputs": [],
   "source": [
    "D_avgfees = defaultdict(float)\n",
    "\n",
    "idx = topevents_df.groupby('EventID')['Total fee'].mean().index.values\n",
    "vals = topevents_df.groupby('EventID')['Total fee'].mean().values\n",
    "\n",
    "for idx, val in zip(idx, vals):\n",
    "    D_avgfees[idx] = round(val, 2)"
   ]
  },
  {
   "cell_type": "code",
   "execution_count": 15,
   "metadata": {
    "collapsed": true
   },
   "outputs": [],
   "source": [
    "D_avgmiles = defaultdict(float)\n",
    "\n",
    "idx = topevents_df.groupby('EventID')['Miles2'].mean().index.values\n",
    "vals = topevents_df.groupby('EventID')['Miles2'].mean().values\n",
    "\n",
    "for idx, val in zip(idx, vals):\n",
    "    D_avgmiles[idx] = round(val, 2)"
   ]
  },
  {
   "cell_type": "code",
   "execution_count": 16,
   "metadata": {
    "collapsed": true
   },
   "outputs": [],
   "source": [
    "topevents_df['Total fee'] = topevents_df['EventID'].apply(lambda x: D_avgfees[x])\n",
    "topevents_df['Miles2'] = topevents_df['EventID'].apply(lambda x: D_avgmiles[x])"
   ]
  },
  {
   "cell_type": "code",
   "execution_count": 17,
   "metadata": {
    "collapsed": true
   },
   "outputs": [],
   "source": [
    "topevents_df.drop_duplicates(subset='EventID', inplace=True)"
   ]
  },
  {
   "cell_type": "code",
   "execution_count": 18,
   "metadata": {},
   "outputs": [
    {
     "data": {
      "text/html": [
       "<div>\n",
       "<style>\n",
       "    .dataframe thead tr:only-child th {\n",
       "        text-align: right;\n",
       "    }\n",
       "\n",
       "    .dataframe thead th {\n",
       "        text-align: left;\n",
       "    }\n",
       "\n",
       "    .dataframe tbody tr th {\n",
       "        vertical-align: top;\n",
       "    }\n",
       "</style>\n",
       "<table border=\"1\" class=\"dataframe\">\n",
       "  <thead>\n",
       "    <tr style=\"text-align: right;\">\n",
       "      <th></th>\n",
       "      <th>Count in Top 5s</th>\n",
       "      <th>EventID</th>\n",
       "      <th>Total fee</th>\n",
       "      <th>Event_Name</th>\n",
       "      <th>Event_Date</th>\n",
       "      <th>MergeoEvent</th>\n",
       "      <th>EventType</th>\n",
       "      <th>SeriesID</th>\n",
       "      <th>Miles2</th>\n",
       "      <th>Venue_Zip</th>\n",
       "    </tr>\n",
       "  </thead>\n",
       "  <tbody>\n",
       "    <tr>\n",
       "      <th>0</th>\n",
       "      <td>8682</td>\n",
       "      <td>68</td>\n",
       "      <td>42.02</td>\n",
       "      <td>Fort Ebey Kettles Trail Run</td>\n",
       "      <td>2017-02-25</td>\n",
       "      <td>True</td>\n",
       "      <td>Trail Run</td>\n",
       "      <td>2.0</td>\n",
       "      <td>9.89</td>\n",
       "      <td>98239</td>\n",
       "    </tr>\n",
       "    <tr>\n",
       "      <th>1</th>\n",
       "      <td>8170</td>\n",
       "      <td>77</td>\n",
       "      <td>29.04</td>\n",
       "      <td>Ravenna Run the Ravine</td>\n",
       "      <td>2017-06-06</td>\n",
       "      <td>True</td>\n",
       "      <td>Trail Run</td>\n",
       "      <td>3.0</td>\n",
       "      <td>4.24</td>\n",
       "      <td>98105</td>\n",
       "    </tr>\n",
       "    <tr>\n",
       "      <th>2</th>\n",
       "      <td>8109</td>\n",
       "      <td>82</td>\n",
       "      <td>38.58</td>\n",
       "      <td>Summer Eddy</td>\n",
       "      <td>2017-08-08</td>\n",
       "      <td>True</td>\n",
       "      <td>Trail Run</td>\n",
       "      <td>3.0</td>\n",
       "      <td>5.51</td>\n",
       "      <td>98028</td>\n",
       "    </tr>\n",
       "    <tr>\n",
       "      <th>3</th>\n",
       "      <td>7064</td>\n",
       "      <td>81</td>\n",
       "      <td>31.48</td>\n",
       "      <td>Seward Sizzler</td>\n",
       "      <td>2017-07-25</td>\n",
       "      <td>True</td>\n",
       "      <td>Trail Run</td>\n",
       "      <td>3.0</td>\n",
       "      <td>5.20</td>\n",
       "      <td>98118</td>\n",
       "    </tr>\n",
       "    <tr>\n",
       "      <th>4</th>\n",
       "      <td>5056</td>\n",
       "      <td>80</td>\n",
       "      <td>38.98</td>\n",
       "      <td>Pie High Trail Run</td>\n",
       "      <td>2017-07-22</td>\n",
       "      <td>True</td>\n",
       "      <td>Trail Run</td>\n",
       "      <td>2.0</td>\n",
       "      <td>8.18</td>\n",
       "      <td>98290</td>\n",
       "    </tr>\n",
       "    <tr>\n",
       "      <th>5</th>\n",
       "      <td>2304</td>\n",
       "      <td>72</td>\n",
       "      <td>41.62</td>\n",
       "      <td>Spring Eagle Trail Run</td>\n",
       "      <td>2017-04-29</td>\n",
       "      <td>True</td>\n",
       "      <td>Trail Run</td>\n",
       "      <td>2.0</td>\n",
       "      <td>10.97</td>\n",
       "      <td>98074</td>\n",
       "    </tr>\n",
       "    <tr>\n",
       "      <th>6</th>\n",
       "      <td>1854</td>\n",
       "      <td>78</td>\n",
       "      <td>37.86</td>\n",
       "      <td>Sunshine Salutation</td>\n",
       "      <td>2017-06-20</td>\n",
       "      <td>True</td>\n",
       "      <td>Trail Run</td>\n",
       "      <td>3.0</td>\n",
       "      <td>6.74</td>\n",
       "      <td>98053</td>\n",
       "    </tr>\n",
       "    <tr>\n",
       "      <th>7</th>\n",
       "      <td>1731</td>\n",
       "      <td>69</td>\n",
       "      <td>45.45</td>\n",
       "      <td>Spring Run for Fun</td>\n",
       "      <td>2017-03-11</td>\n",
       "      <td>True</td>\n",
       "      <td>Trail Run</td>\n",
       "      <td>2.0</td>\n",
       "      <td>12.73</td>\n",
       "      <td>98053</td>\n",
       "    </tr>\n",
       "    <tr>\n",
       "      <th>8</th>\n",
       "      <td>1713</td>\n",
       "      <td>70</td>\n",
       "      <td>39.10</td>\n",
       "      <td>Cedar Mountain Trail Run</td>\n",
       "      <td>2017-03-25</td>\n",
       "      <td>True</td>\n",
       "      <td>Trail Run</td>\n",
       "      <td>0.0</td>\n",
       "      <td>7.06</td>\n",
       "      <td>98038</td>\n",
       "    </tr>\n",
       "    <tr>\n",
       "      <th>9</th>\n",
       "      <td>1559</td>\n",
       "      <td>79</td>\n",
       "      <td>30.55</td>\n",
       "      <td>Carkeek Warmer</td>\n",
       "      <td>2017-07-11</td>\n",
       "      <td>True</td>\n",
       "      <td>Trail Run</td>\n",
       "      <td>3.0</td>\n",
       "      <td>4.66</td>\n",
       "      <td>-1</td>\n",
       "    </tr>\n",
       "    <tr>\n",
       "      <th>10</th>\n",
       "      <td>1478</td>\n",
       "      <td>67</td>\n",
       "      <td>29.61</td>\n",
       "      <td>Interlaken Icicle Dash</td>\n",
       "      <td>2017-02-05</td>\n",
       "      <td>True</td>\n",
       "      <td>Trail Run</td>\n",
       "      <td>1.0</td>\n",
       "      <td>4.21</td>\n",
       "      <td>98102</td>\n",
       "    </tr>\n",
       "    <tr>\n",
       "      <th>11</th>\n",
       "      <td>1461</td>\n",
       "      <td>4003</td>\n",
       "      <td>26.18</td>\n",
       "      <td>The Big Run 5k</td>\n",
       "      <td>2017-06-07</td>\n",
       "      <td>False</td>\n",
       "      <td>Trail Run</td>\n",
       "      <td>0.0</td>\n",
       "      <td>3.00</td>\n",
       "      <td>98102</td>\n",
       "    </tr>\n",
       "    <tr>\n",
       "      <th>12</th>\n",
       "      <td>1370</td>\n",
       "      <td>71</td>\n",
       "      <td>45.17</td>\n",
       "      <td>Rattlesnake Ridge Run</td>\n",
       "      <td>2017-04-15</td>\n",
       "      <td>True</td>\n",
       "      <td>Trail Run</td>\n",
       "      <td>2.0</td>\n",
       "      <td>9.30</td>\n",
       "      <td>98045</td>\n",
       "    </tr>\n",
       "    <tr>\n",
       "      <th>13</th>\n",
       "      <td>1340</td>\n",
       "      <td>76</td>\n",
       "      <td>46.76</td>\n",
       "      <td>Teanaway Trail Run</td>\n",
       "      <td>2017-06-04</td>\n",
       "      <td>True</td>\n",
       "      <td>Trail Run</td>\n",
       "      <td>2.0</td>\n",
       "      <td>9.87</td>\n",
       "      <td>98922</td>\n",
       "    </tr>\n",
       "    <tr>\n",
       "      <th>14</th>\n",
       "      <td>1037</td>\n",
       "      <td>74</td>\n",
       "      <td>39.97</td>\n",
       "      <td>Tiger Mountain Trail Run</td>\n",
       "      <td>2017-05-20</td>\n",
       "      <td>True</td>\n",
       "      <td>Trail Run</td>\n",
       "      <td>2.0</td>\n",
       "      <td>11.07</td>\n",
       "      <td>98027</td>\n",
       "    </tr>\n",
       "    <tr>\n",
       "      <th>15</th>\n",
       "      <td>433</td>\n",
       "      <td>1018</td>\n",
       "      <td>27.36</td>\n",
       "      <td>Fremont Street Scramble 2017</td>\n",
       "      <td>2017-09-24</td>\n",
       "      <td>True</td>\n",
       "      <td>Street Scramble</td>\n",
       "      <td>4.0</td>\n",
       "      <td>8.00</td>\n",
       "      <td>98103</td>\n",
       "    </tr>\n",
       "    <tr>\n",
       "      <th>16</th>\n",
       "      <td>386</td>\n",
       "      <td>73</td>\n",
       "      <td>30.49</td>\n",
       "      <td>Woodland Park Zoom</td>\n",
       "      <td>2017-05-09</td>\n",
       "      <td>True</td>\n",
       "      <td>Trail Run</td>\n",
       "      <td>3.0</td>\n",
       "      <td>4.18</td>\n",
       "      <td>98103</td>\n",
       "    </tr>\n",
       "    <tr>\n",
       "      <th>17</th>\n",
       "      <td>73</td>\n",
       "      <td>75</td>\n",
       "      <td>31.92</td>\n",
       "      <td>Wilburton Hillbilly</td>\n",
       "      <td>2017-05-23</td>\n",
       "      <td>True</td>\n",
       "      <td>Trail Run</td>\n",
       "      <td>3.0</td>\n",
       "      <td>4.00</td>\n",
       "      <td>98005</td>\n",
       "    </tr>\n",
       "  </tbody>\n",
       "</table>\n",
       "</div>"
      ],
      "text/plain": [
       "    Count in Top 5s  EventID  Total fee                    Event_Name  \\\n",
       "0              8682       68      42.02   Fort Ebey Kettles Trail Run   \n",
       "1              8170       77      29.04        Ravenna Run the Ravine   \n",
       "2              8109       82      38.58                   Summer Eddy   \n",
       "3              7064       81      31.48                Seward Sizzler   \n",
       "4              5056       80      38.98            Pie High Trail Run   \n",
       "5              2304       72      41.62        Spring Eagle Trail Run   \n",
       "6              1854       78      37.86           Sunshine Salutation   \n",
       "7              1731       69      45.45            Spring Run for Fun   \n",
       "8              1713       70      39.10      Cedar Mountain Trail Run   \n",
       "9              1559       79      30.55                Carkeek Warmer   \n",
       "10             1478       67      29.61        Interlaken Icicle Dash   \n",
       "11             1461     4003      26.18                The Big Run 5k   \n",
       "12             1370       71      45.17         Rattlesnake Ridge Run   \n",
       "13             1340       76      46.76            Teanaway Trail Run   \n",
       "14             1037       74      39.97      Tiger Mountain Trail Run   \n",
       "15              433     1018      27.36  Fremont Street Scramble 2017   \n",
       "16              386       73      30.49            Woodland Park Zoom   \n",
       "17               73       75      31.92           Wilburton Hillbilly   \n",
       "\n",
       "   Event_Date  MergeoEvent        EventType  SeriesID  Miles2  Venue_Zip  \n",
       "0  2017-02-25         True        Trail Run       2.0    9.89      98239  \n",
       "1  2017-06-06         True        Trail Run       3.0    4.24      98105  \n",
       "2  2017-08-08         True        Trail Run       3.0    5.51      98028  \n",
       "3  2017-07-25         True        Trail Run       3.0    5.20      98118  \n",
       "4  2017-07-22         True        Trail Run       2.0    8.18      98290  \n",
       "5  2017-04-29         True        Trail Run       2.0   10.97      98074  \n",
       "6  2017-06-20         True        Trail Run       3.0    6.74      98053  \n",
       "7  2017-03-11         True        Trail Run       2.0   12.73      98053  \n",
       "8  2017-03-25         True        Trail Run       0.0    7.06      98038  \n",
       "9  2017-07-11         True        Trail Run       3.0    4.66         -1  \n",
       "10 2017-02-05         True        Trail Run       1.0    4.21      98102  \n",
       "11 2017-06-07        False        Trail Run       0.0    3.00      98102  \n",
       "12 2017-04-15         True        Trail Run       2.0    9.30      98045  \n",
       "13 2017-06-04         True        Trail Run       2.0    9.87      98922  \n",
       "14 2017-05-20         True        Trail Run       2.0   11.07      98027  \n",
       "15 2017-09-24         True  Street Scramble       4.0    8.00      98103  \n",
       "16 2017-05-09         True        Trail Run       3.0    4.18      98103  \n",
       "17 2017-05-23         True        Trail Run       3.0    4.00      98005  "
      ]
     },
     "execution_count": 18,
     "metadata": {},
     "output_type": "execute_result"
    }
   ],
   "source": [
    "topevents_df.sort_values(by='Count in Top 5s', ascending=False, inplace=True)\n",
    "topevents_df.reset_index(drop=True, inplace = True)\n",
    "topevents_df\n",
    "\n",
    "#Not much trend showing up in top recommended events with regard to fee, miles, venue zips, event date....a little series\n",
    "#try changing miles ALS to # of distance options at race rather than average mileage for race"
   ]
  },
  {
   "cell_type": "code",
   "execution_count": 189,
   "metadata": {},
   "outputs": [
    {
     "data": {
      "text/plain": [
       "[<matplotlib.lines.Line2D at 0x11d07d310>]"
      ]
     },
     "execution_count": 189,
     "metadata": {},
     "output_type": "execute_result"
    },
    {
     "data": {
      "image/png": "[encoded data removed]",
      "text/plain": [
       "<matplotlib.figure.Figure at 0x11cf9d0d0>"
      ]
     },
     "metadata": {},
     "output_type": "display_data"
    }
   ],
   "source": [
    "import matplotlib.pyplot as plt\n",
    "%matplotlib inline\n",
    "\n",
    "plt.plot(topevents_df.index.values, topevents_df['Total fee'])"
   ]
  },
  {
   "cell_type": "code",
   "execution_count": 98,
   "metadata": {},
   "outputs": [
    {
     "data": {
      "text/plain": [
       "[4304, 2921, 2920, 2919, 2916, 2913, 2888, 2863, 2861, 2859]"
      ]
     },
     "execution_count": 98,
     "metadata": {},
     "output_type": "execute_result"
    }
   ],
   "source": [
    "D_likelyusers[81][:10]\n",
    "#PersonIDs for which the given EventID is in their Top 10 recommendations"
   ]
  },
  {
   "cell_type": "code",
   "execution_count": 99,
   "metadata": {},
   "outputs": [
    {
     "data": {
      "text/html": [
       "<div>\n",
       "<style>\n",
       "    .dataframe thead tr:only-child th {\n",
       "        text-align: right;\n",
       "    }\n",
       "\n",
       "    .dataframe thead th {\n",
       "        text-align: left;\n",
       "    }\n",
       "\n",
       "    .dataframe tbody tr th {\n",
       "        vertical-align: top;\n",
       "    }\n",
       "</style>\n",
       "<table border=\"1\" class=\"dataframe\">\n",
       "  <thead>\n",
       "    <tr style=\"text-align: right;\">\n",
       "      <th></th>\n",
       "      <th>EventID</th>\n",
       "      <th>PersonID</th>\n",
       "    </tr>\n",
       "  </thead>\n",
       "  <tbody>\n",
       "    <tr>\n",
       "      <th>0</th>\n",
       "      <td>81</td>\n",
       "      <td>4304</td>\n",
       "    </tr>\n",
       "    <tr>\n",
       "      <th>1</th>\n",
       "      <td>81</td>\n",
       "      <td>2921</td>\n",
       "    </tr>\n",
       "    <tr>\n",
       "      <th>2</th>\n",
       "      <td>81</td>\n",
       "      <td>2920</td>\n",
       "    </tr>\n",
       "    <tr>\n",
       "      <th>3</th>\n",
       "      <td>81</td>\n",
       "      <td>2919</td>\n",
       "    </tr>\n",
       "    <tr>\n",
       "      <th>4</th>\n",
       "      <td>81</td>\n",
       "      <td>2916</td>\n",
       "    </tr>\n",
       "  </tbody>\n",
       "</table>\n",
       "</div>"
      ],
      "text/plain": [
       "   EventID  PersonID\n",
       "0       81      4304\n",
       "1       81      2921\n",
       "2       81      2920\n",
       "3       81      2919\n",
       "4       81      2916"
      ]
     },
     "execution_count": 99,
     "metadata": {},
     "output_type": "execute_result"
    }
   ],
   "source": [
    "likelyusers_event81_df = pd.DataFrame({'EventID': 81, 'PersonID': D_likelyusers[81]})\n",
    "likelyusers_event81_df.head()"
   ]
  },
  {
   "cell_type": "code",
   "execution_count": 102,
   "metadata": {},
   "outputs": [],
   "source": [
    "likelyusers_event81_df = pd.merge(likelyusers_event81_df, cleaned_data, on='PersonID')"
   ]
  },
  {
   "cell_type": "code",
   "execution_count": 103,
   "metadata": {},
   "outputs": [],
   "source": [
    "likelyusers_event81_df = likelyusers_event81_df[['PersonID', 'Gender', 'Age2', 'Zip Code', 'EventID_x']]"
   ]
  },
  {
   "cell_type": "code",
   "execution_count": 104,
   "metadata": {},
   "outputs": [],
   "source": [
    "likelyusers_event81_df.drop_duplicates(subset='PersonID', inplace=True)"
   ]
  },
  {
   "cell_type": "code",
   "execution_count": 105,
   "metadata": {},
   "outputs": [
    {
     "data": {
      "text/html": [
       "<div>\n",
       "<style>\n",
       "    .dataframe thead tr:only-child th {\n",
       "        text-align: right;\n",
       "    }\n",
       "\n",
       "    .dataframe thead th {\n",
       "        text-align: left;\n",
       "    }\n",
       "\n",
       "    .dataframe tbody tr th {\n",
       "        vertical-align: top;\n",
       "    }\n",
       "</style>\n",
       "<table border=\"1\" class=\"dataframe\">\n",
       "  <thead>\n",
       "    <tr style=\"text-align: right;\">\n",
       "      <th></th>\n",
       "      <th>PersonID</th>\n",
       "      <th>Gender</th>\n",
       "      <th>Age2</th>\n",
       "      <th>Zip Code</th>\n",
       "      <th>EventID_x</th>\n",
       "    </tr>\n",
       "  </thead>\n",
       "  <tbody>\n",
       "    <tr>\n",
       "      <th>0</th>\n",
       "      <td>4304</td>\n",
       "      <td>Male</td>\n",
       "      <td>17.0</td>\n",
       "      <td>98112</td>\n",
       "      <td>81</td>\n",
       "    </tr>\n",
       "    <tr>\n",
       "      <th>1</th>\n",
       "      <td>2921</td>\n",
       "      <td>Female</td>\n",
       "      <td>32.0</td>\n",
       "      <td>98146</td>\n",
       "      <td>81</td>\n",
       "    </tr>\n",
       "    <tr>\n",
       "      <th>5</th>\n",
       "      <td>2920</td>\n",
       "      <td>Male</td>\n",
       "      <td>24.0</td>\n",
       "      <td>98270</td>\n",
       "      <td>81</td>\n",
       "    </tr>\n",
       "    <tr>\n",
       "      <th>7</th>\n",
       "      <td>2919</td>\n",
       "      <td>Male</td>\n",
       "      <td>38.0</td>\n",
       "      <td>98177</td>\n",
       "      <td>81</td>\n",
       "    </tr>\n",
       "    <tr>\n",
       "      <th>8</th>\n",
       "      <td>2916</td>\n",
       "      <td>Female</td>\n",
       "      <td>36.0</td>\n",
       "      <td>98109</td>\n",
       "      <td>81</td>\n",
       "    </tr>\n",
       "  </tbody>\n",
       "</table>\n",
       "</div>"
      ],
      "text/plain": [
       "   PersonID  Gender  Age2 Zip Code  EventID_x\n",
       "0      4304    Male  17.0    98112         81\n",
       "1      2921  Female  32.0    98146         81\n",
       "5      2920    Male  24.0    98270         81\n",
       "7      2919    Male  38.0    98177         81\n",
       "8      2916  Female  36.0    98109         81"
      ]
     },
     "execution_count": 105,
     "metadata": {},
     "output_type": "execute_result"
    }
   ],
   "source": [
    "likelyusers_event81_df.head()"
   ]
  },
  {
   "cell_type": "code",
   "execution_count": 106,
   "metadata": {},
   "outputs": [
    {
     "name": "stdout",
     "output_type": "stream",
     "text": [
      "Number of Top 5 Recommendations Users for Event 81, Seward Sizzler: 7064.0\n"
     ]
    }
   ],
   "source": [
    "tot_recs = float(len(likelyusers_event81_df))\n",
    "print('Number of Top 5 Recommendations Users for Event 81, Seward Sizzler: {}'.format(tot_recs))"
   ]
  },
  {
   "cell_type": "code",
   "execution_count": 107,
   "metadata": {},
   "outputs": [
    {
     "name": "stdout",
     "output_type": "stream",
     "text": [
      "Percent Male/Female Reccomended for Race 81, Seward Sizzler: 0.421998867497, 0.575594563986\n"
     ]
    }
   ],
   "source": [
    "print('Percent Male/Female Reccomended for Race 81, Seward Sizzler: {}, {}'.format(\n",
    "    (likelyusers_event81_df[likelyusers_event81_df['Gender'] == 'Male'].count()['PersonID'])/tot_recs, \n",
    "    (likelyusers_event81_df[likelyusers_event81_df['Gender'] == 'Female'].count()['PersonID'])/tot_recs))"
   ]
  },
  {
   "cell_type": "code",
   "execution_count": 108,
   "metadata": {},
   "outputs": [
    {
     "data": {
      "text/plain": [
       "4530.0"
      ]
     },
     "execution_count": 108,
     "metadata": {},
     "output_type": "execute_result"
    }
   ],
   "source": [
    "tot_males = float(cleaned_data[cleaned_data['Gender'] == 'Male'].drop_duplicates('PersonID').count()['PersonID'])\n",
    "tot_males"
   ]
  },
  {
   "cell_type": "code",
   "execution_count": 109,
   "metadata": {},
   "outputs": [
    {
     "data": {
      "text/plain": [
       "6217.0"
      ]
     },
     "execution_count": 109,
     "metadata": {},
     "output_type": "execute_result"
    }
   ],
   "source": [
    "tot_females = float(cleaned_data[cleaned_data['Gender'] == 'Female'].drop_duplicates('PersonID').count()['PersonID'])\n",
    "tot_females"
   ]
  },
  {
   "cell_type": "code",
   "execution_count": 110,
   "metadata": {},
   "outputs": [
    {
     "name": "stdout",
     "output_type": "stream",
     "text": [
      "Percent Male/Female in Total Population: 0.421512980367, 0.578487019633\n"
     ]
    }
   ],
   "source": [
    "print('Percent Male/Female in Total Population: {}, {}'.format(\n",
    "    (tot_males / (tot_males+tot_females)), (tot_females / (tot_males+tot_females))))"
   ]
  },
  {
   "cell_type": "code",
   "execution_count": 111,
   "metadata": {},
   "outputs": [
    {
     "name": "stdout",
     "output_type": "stream",
     "text": [
      "Average Age Reccomended for Race 81, Spring Run for Fun: 35.4\n"
     ]
    }
   ],
   "source": [
    "print('Average Age Reccomended for Race 81, Spring Run for Fun: {}'.format(\n",
    "    round(likelyusers_event81_df['Age2'].mean(), 1)))"
   ]
  },
  {
   "cell_type": "code",
   "execution_count": 112,
   "metadata": {},
   "outputs": [
    {
     "name": "stdout",
     "output_type": "stream",
     "text": [
      "Average Age in Total Population: 37.4\n"
     ]
    }
   ],
   "source": [
    "print('Average Age in Total Population: {}'.format(\n",
    "    round(cleaned_data['Age2'].mean(), 1)))"
   ]
  },
  {
   "cell_type": "markdown",
   "metadata": {
    "collapsed": true
   },
   "source": [
    "## Ensemble rank score is worse than each individual ALS model's score from the test set:\n",
    "\n",
    "* Ensemble: 7.2645672521985833 on Train, 18.517767702087443 on Test\n",
    "\n",
    "\n",
    "* Series ALS: 1.53641759679 on Train, 4.8609993163 on Test\n",
    "* Event Type ALS: 0.00684473620581 on Train, 0.41742084036 on Test\n",
    "* Venue ALS: 6.5784112444 on Train, 13.3852376048 on Test\n",
    "* Avg Fee ALS: 6.02542849691 on Train, 14.875102889 on Test\n",
    "* Avg Miles ALS: 2.24288129789 on Train, 10.1237046386 on Test\n",
    "\n",
    "#### Try a naive approach to ensembling, just averaging the input predictions from each ALS for each person to compare that score to the GB score"
   ]
  },
  {
   "cell_type": "markdown",
   "metadata": {},
   "source": [
    "#### On Train Data:"
   ]
  },
  {
   "cell_type": "code",
   "execution_count": 10,
   "metadata": {},
   "outputs": [
    {
     "data": {
      "text/html": [
       "<div>\n",
       "<style>\n",
       "    .dataframe thead tr:only-child th {\n",
       "        text-align: right;\n",
       "    }\n",
       "\n",
       "    .dataframe thead th {\n",
       "        text-align: left;\n",
       "    }\n",
       "\n",
       "    .dataframe tbody tr th {\n",
       "        vertical-align: top;\n",
       "    }\n",
       "</style>\n",
       "<table border=\"1\" class=\"dataframe\">\n",
       "  <thead>\n",
       "    <tr style=\"text-align: right;\">\n",
       "      <th></th>\n",
       "      <th>PersonID</th>\n",
       "      <th>EventID</th>\n",
       "      <th>Participated</th>\n",
       "      <th>Event_Date</th>\n",
       "      <th>SeriesID_prediction</th>\n",
       "      <th>EventTypeID_prediction</th>\n",
       "      <th>Venue_Zip_prediction</th>\n",
       "      <th>Total_Fee_Avg_prediction</th>\n",
       "      <th>Miles2_Avg_prediction</th>\n",
       "    </tr>\n",
       "  </thead>\n",
       "  <tbody>\n",
       "    <tr>\n",
       "      <th>0</th>\n",
       "      <td>10990</td>\n",
       "      <td>1000</td>\n",
       "      <td>0</td>\n",
       "      <td>1418428800000000000</td>\n",
       "      <td>0.970276</td>\n",
       "      <td>0.997523</td>\n",
       "      <td>0.839683</td>\n",
       "      <td>0.955253</td>\n",
       "      <td>0.966064</td>\n",
       "    </tr>\n",
       "    <tr>\n",
       "      <th>1</th>\n",
       "      <td>10989</td>\n",
       "      <td>1000</td>\n",
       "      <td>0</td>\n",
       "      <td>1418428800000000000</td>\n",
       "      <td>0.970276</td>\n",
       "      <td>0.997523</td>\n",
       "      <td>0.839683</td>\n",
       "      <td>0.955253</td>\n",
       "      <td>0.966064</td>\n",
       "    </tr>\n",
       "    <tr>\n",
       "      <th>2</th>\n",
       "      <td>5540</td>\n",
       "      <td>1000</td>\n",
       "      <td>1</td>\n",
       "      <td>1418428800000000000</td>\n",
       "      <td>0.970276</td>\n",
       "      <td>0.997523</td>\n",
       "      <td>0.923138</td>\n",
       "      <td>0.955253</td>\n",
       "      <td>0.966064</td>\n",
       "    </tr>\n",
       "    <tr>\n",
       "      <th>3</th>\n",
       "      <td>10988</td>\n",
       "      <td>1000</td>\n",
       "      <td>0</td>\n",
       "      <td>1418428800000000000</td>\n",
       "      <td>0.970276</td>\n",
       "      <td>0.997523</td>\n",
       "      <td>0.839683</td>\n",
       "      <td>0.955253</td>\n",
       "      <td>0.966064</td>\n",
       "    </tr>\n",
       "    <tr>\n",
       "      <th>4</th>\n",
       "      <td>10987</td>\n",
       "      <td>1000</td>\n",
       "      <td>0</td>\n",
       "      <td>1418428800000000000</td>\n",
       "      <td>0.970276</td>\n",
       "      <td>0.997523</td>\n",
       "      <td>0.839683</td>\n",
       "      <td>0.955253</td>\n",
       "      <td>0.966064</td>\n",
       "    </tr>\n",
       "  </tbody>\n",
       "</table>\n",
       "</div>"
      ],
      "text/plain": [
       "   PersonID  EventID  Participated           Event_Date  SeriesID_prediction  \\\n",
       "0     10990     1000             0  1418428800000000000             0.970276   \n",
       "1     10989     1000             0  1418428800000000000             0.970276   \n",
       "2      5540     1000             1  1418428800000000000             0.970276   \n",
       "3     10988     1000             0  1418428800000000000             0.970276   \n",
       "4     10987     1000             0  1418428800000000000             0.970276   \n",
       "\n",
       "   EventTypeID_prediction  Venue_Zip_prediction  Total_Fee_Avg_prediction  \\\n",
       "0                0.997523              0.839683                  0.955253   \n",
       "1                0.997523              0.839683                  0.955253   \n",
       "2                0.997523              0.923138                  0.955253   \n",
       "3                0.997523              0.839683                  0.955253   \n",
       "4                0.997523              0.839683                  0.955253   \n",
       "\n",
       "   Miles2_Avg_prediction  \n",
       "0               0.966064  \n",
       "1               0.966064  \n",
       "2               0.966064  \n",
       "3               0.966064  \n",
       "4               0.966064  "
      ]
     },
     "execution_count": 10,
     "metadata": {},
     "output_type": "execute_result"
    }
   ],
   "source": [
    "gb_train_data.head()"
   ]
  },
  {
   "cell_type": "code",
   "execution_count": 76,
   "metadata": {
    "collapsed": true
   },
   "outputs": [],
   "source": [
    "naive_train_ensemble = gb_train_data.copy()"
   ]
  },
  {
   "cell_type": "code",
   "execution_count": 77,
   "metadata": {
    "collapsed": true
   },
   "outputs": [],
   "source": [
    "naive_train_ensemble['prediction'] = (naive_train_ensemble['SeriesID_prediction'] +\n",
    "                                      naive_train_ensemble['EventTypeID_prediction'] +\n",
    "                                      naive_train_ensemble['Venue_Zip_prediction'] +\n",
    "                                      naive_train_ensemble['Total_Fee_Avg_prediction'] +\n",
    "                                      naive_train_ensemble['Miles2_Avg_prediction']) / 5."
   ]
  },
  {
   "cell_type": "code",
   "execution_count": 78,
   "metadata": {
    "collapsed": true
   },
   "outputs": [],
   "source": [
    "naive_train_ensemble.drop(['Event_Date', 'SeriesID_prediction', 'EventTypeID_prediction', 'Venue_Zip_prediction', \n",
    "                          'Total_Fee_Avg_prediction', 'Miles2_Avg_prediction'], axis=1, inplace=True)"
   ]
  },
  {
   "cell_type": "code",
   "execution_count": 79,
   "metadata": {},
   "outputs": [
    {
     "data": {
      "text/html": [
       "<div>\n",
       "<style>\n",
       "    .dataframe thead tr:only-child th {\n",
       "        text-align: right;\n",
       "    }\n",
       "\n",
       "    .dataframe thead th {\n",
       "        text-align: left;\n",
       "    }\n",
       "\n",
       "    .dataframe tbody tr th {\n",
       "        vertical-align: top;\n",
       "    }\n",
       "</style>\n",
       "<table border=\"1\" class=\"dataframe\">\n",
       "  <thead>\n",
       "    <tr style=\"text-align: right;\">\n",
       "      <th></th>\n",
       "      <th>PersonID</th>\n",
       "      <th>EventID</th>\n",
       "      <th>Participated</th>\n",
       "      <th>prediction</th>\n",
       "    </tr>\n",
       "  </thead>\n",
       "  <tbody>\n",
       "    <tr>\n",
       "      <th>0</th>\n",
       "      <td>10990</td>\n",
       "      <td>1000</td>\n",
       "      <td>0</td>\n",
       "      <td>0.945760</td>\n",
       "    </tr>\n",
       "    <tr>\n",
       "      <th>1</th>\n",
       "      <td>10989</td>\n",
       "      <td>1000</td>\n",
       "      <td>0</td>\n",
       "      <td>0.945760</td>\n",
       "    </tr>\n",
       "    <tr>\n",
       "      <th>2</th>\n",
       "      <td>5540</td>\n",
       "      <td>1000</td>\n",
       "      <td>1</td>\n",
       "      <td>0.962451</td>\n",
       "    </tr>\n",
       "    <tr>\n",
       "      <th>3</th>\n",
       "      <td>10988</td>\n",
       "      <td>1000</td>\n",
       "      <td>0</td>\n",
       "      <td>0.945760</td>\n",
       "    </tr>\n",
       "    <tr>\n",
       "      <th>4</th>\n",
       "      <td>10987</td>\n",
       "      <td>1000</td>\n",
       "      <td>0</td>\n",
       "      <td>0.945760</td>\n",
       "    </tr>\n",
       "  </tbody>\n",
       "</table>\n",
       "</div>"
      ],
      "text/plain": [
       "   PersonID  EventID  Participated  prediction\n",
       "0     10990     1000             0    0.945760\n",
       "1     10989     1000             0    0.945760\n",
       "2      5540     1000             1    0.962451\n",
       "3     10988     1000             0    0.945760\n",
       "4     10987     1000             0    0.945760"
      ]
     },
     "execution_count": 79,
     "metadata": {},
     "output_type": "execute_result"
    }
   ],
   "source": [
    "naive_train_ensemble.head()"
   ]
  },
  {
   "cell_type": "code",
   "execution_count": 80,
   "metadata": {
    "collapsed": true
   },
   "outputs": [],
   "source": [
    "import rank_eval"
   ]
  },
  {
   "cell_type": "code",
   "execution_count": 81,
   "metadata": {
    "collapsed": true
   },
   "outputs": [],
   "source": [
    "rank_processing_naive_train = rank_eval.RankEval(naive_train_ensemble, 'PersonID', 'EventID', 'Participated', 'prediction')"
   ]
  },
  {
   "cell_type": "code",
   "execution_count": 82,
   "metadata": {},
   "outputs": [
    {
     "data": {
      "text/plain": [
       "1.9571504005541509"
      ]
     },
     "execution_count": 82,
     "metadata": {},
     "output_type": "execute_result"
    }
   ],
   "source": [
    "rank_processing_naive_train.calc_test_rank()"
   ]
  },
  {
   "cell_type": "code",
   "execution_count": 83,
   "metadata": {
    "scrolled": true
   },
   "outputs": [
    {
     "data": {
      "text/plain": [
       "33.199722882026641"
      ]
     },
     "execution_count": 83,
     "metadata": {},
     "output_type": "execute_result"
    }
   ],
   "source": [
    "rank_processing_naive_train.calc_popular_rank()"
   ]
  },
  {
   "cell_type": "markdown",
   "metadata": {},
   "source": [
    "#### On Test Data:"
   ]
  },
  {
   "cell_type": "code",
   "execution_count": 84,
   "metadata": {},
   "outputs": [
    {
     "data": {
      "text/html": [
       "<div>\n",
       "<style>\n",
       "    .dataframe thead tr:only-child th {\n",
       "        text-align: right;\n",
       "    }\n",
       "\n",
       "    .dataframe thead th {\n",
       "        text-align: left;\n",
       "    }\n",
       "\n",
       "    .dataframe tbody tr th {\n",
       "        vertical-align: top;\n",
       "    }\n",
       "</style>\n",
       "<table border=\"1\" class=\"dataframe\">\n",
       "  <thead>\n",
       "    <tr style=\"text-align: right;\">\n",
       "      <th></th>\n",
       "      <th>PersonID</th>\n",
       "      <th>EventID</th>\n",
       "      <th>Participated</th>\n",
       "      <th>Event_Date</th>\n",
       "      <th>SeriesID_prediction</th>\n",
       "      <th>EventTypeID_prediction</th>\n",
       "      <th>Venue_Zip_prediction</th>\n",
       "      <th>Total_Fee_Avg_prediction</th>\n",
       "      <th>Miles2_Avg_prediction</th>\n",
       "    </tr>\n",
       "  </thead>\n",
       "  <tbody>\n",
       "    <tr>\n",
       "      <th>0</th>\n",
       "      <td>4304</td>\n",
       "      <td>67</td>\n",
       "      <td>0</td>\n",
       "      <td>1486252800000000000</td>\n",
       "      <td>0.024100</td>\n",
       "      <td>0.029454</td>\n",
       "      <td>0.000000</td>\n",
       "      <td>0.024471</td>\n",
       "      <td>0.259074</td>\n",
       "    </tr>\n",
       "    <tr>\n",
       "      <th>1</th>\n",
       "      <td>2921</td>\n",
       "      <td>67</td>\n",
       "      <td>0</td>\n",
       "      <td>1486252800000000000</td>\n",
       "      <td>0.953696</td>\n",
       "      <td>0.999630</td>\n",
       "      <td>0.906229</td>\n",
       "      <td>0.893079</td>\n",
       "      <td>0.997684</td>\n",
       "    </tr>\n",
       "    <tr>\n",
       "      <th>2</th>\n",
       "      <td>2920</td>\n",
       "      <td>67</td>\n",
       "      <td>0</td>\n",
       "      <td>1486252800000000000</td>\n",
       "      <td>0.945487</td>\n",
       "      <td>0.996544</td>\n",
       "      <td>0.268220</td>\n",
       "      <td>0.161676</td>\n",
       "      <td>0.290000</td>\n",
       "    </tr>\n",
       "    <tr>\n",
       "      <th>3</th>\n",
       "      <td>2919</td>\n",
       "      <td>67</td>\n",
       "      <td>0</td>\n",
       "      <td>1486252800000000000</td>\n",
       "      <td>0.929485</td>\n",
       "      <td>0.990440</td>\n",
       "      <td>0.554163</td>\n",
       "      <td>0.056878</td>\n",
       "      <td>0.130596</td>\n",
       "    </tr>\n",
       "    <tr>\n",
       "      <th>4</th>\n",
       "      <td>2917</td>\n",
       "      <td>67</td>\n",
       "      <td>0</td>\n",
       "      <td>1486252800000000000</td>\n",
       "      <td>0.945487</td>\n",
       "      <td>0.996544</td>\n",
       "      <td>0.926114</td>\n",
       "      <td>0.299666</td>\n",
       "      <td>0.779473</td>\n",
       "    </tr>\n",
       "  </tbody>\n",
       "</table>\n",
       "</div>"
      ],
      "text/plain": [
       "   PersonID  EventID  Participated           Event_Date  SeriesID_prediction  \\\n",
       "0      4304       67             0  1486252800000000000             0.024100   \n",
       "1      2921       67             0  1486252800000000000             0.953696   \n",
       "2      2920       67             0  1486252800000000000             0.945487   \n",
       "3      2919       67             0  1486252800000000000             0.929485   \n",
       "4      2917       67             0  1486252800000000000             0.945487   \n",
       "\n",
       "   EventTypeID_prediction  Venue_Zip_prediction  Total_Fee_Avg_prediction  \\\n",
       "0                0.029454              0.000000                  0.024471   \n",
       "1                0.999630              0.906229                  0.893079   \n",
       "2                0.996544              0.268220                  0.161676   \n",
       "3                0.990440              0.554163                  0.056878   \n",
       "4                0.996544              0.926114                  0.299666   \n",
       "\n",
       "   Miles2_Avg_prediction  \n",
       "0               0.259074  \n",
       "1               0.997684  \n",
       "2               0.290000  \n",
       "3               0.130596  \n",
       "4               0.779473  "
      ]
     },
     "execution_count": 84,
     "metadata": {},
     "output_type": "execute_result"
    }
   ],
   "source": [
    "gb_test_data.head()"
   ]
  },
  {
   "cell_type": "code",
   "execution_count": 85,
   "metadata": {
    "collapsed": true
   },
   "outputs": [],
   "source": [
    "naive_test_ensemble = gb_test_data.copy()"
   ]
  },
  {
   "cell_type": "code",
   "execution_count": 86,
   "metadata": {
    "collapsed": true
   },
   "outputs": [],
   "source": [
    "naive_test_ensemble['prediction'] = (naive_test_ensemble['SeriesID_prediction'] +\n",
    "                                     naive_test_ensemble['EventTypeID_prediction'] +\n",
    "                                      naive_test_ensemble['Venue_Zip_prediction'] +\n",
    "                                      naive_test_ensemble['Total_Fee_Avg_prediction'] +\n",
    "                                      naive_test_ensemble['Miles2_Avg_prediction']) / 4."
   ]
  },
  {
   "cell_type": "code",
   "execution_count": 87,
   "metadata": {
    "collapsed": true
   },
   "outputs": [],
   "source": [
    "naive_test_ensemble.drop(['Event_Date', 'SeriesID_prediction', 'EventTypeID_prediction', 'Venue_Zip_prediction', \n",
    "                          'Total_Fee_Avg_prediction', 'Miles2_Avg_prediction'], axis=1, inplace=True)"
   ]
  },
  {
   "cell_type": "code",
   "execution_count": 88,
   "metadata": {},
   "outputs": [
    {
     "data": {
      "text/html": [
       "<div>\n",
       "<style>\n",
       "    .dataframe thead tr:only-child th {\n",
       "        text-align: right;\n",
       "    }\n",
       "\n",
       "    .dataframe thead th {\n",
       "        text-align: left;\n",
       "    }\n",
       "\n",
       "    .dataframe tbody tr th {\n",
       "        vertical-align: top;\n",
       "    }\n",
       "</style>\n",
       "<table border=\"1\" class=\"dataframe\">\n",
       "  <thead>\n",
       "    <tr style=\"text-align: right;\">\n",
       "      <th></th>\n",
       "      <th>PersonID</th>\n",
       "      <th>EventID</th>\n",
       "      <th>Participated</th>\n",
       "      <th>prediction</th>\n",
       "    </tr>\n",
       "  </thead>\n",
       "  <tbody>\n",
       "    <tr>\n",
       "      <th>0</th>\n",
       "      <td>4304</td>\n",
       "      <td>67</td>\n",
       "      <td>0</td>\n",
       "      <td>0.084275</td>\n",
       "    </tr>\n",
       "    <tr>\n",
       "      <th>1</th>\n",
       "      <td>2921</td>\n",
       "      <td>67</td>\n",
       "      <td>0</td>\n",
       "      <td>1.187580</td>\n",
       "    </tr>\n",
       "    <tr>\n",
       "      <th>2</th>\n",
       "      <td>2920</td>\n",
       "      <td>67</td>\n",
       "      <td>0</td>\n",
       "      <td>0.665482</td>\n",
       "    </tr>\n",
       "    <tr>\n",
       "      <th>3</th>\n",
       "      <td>2919</td>\n",
       "      <td>67</td>\n",
       "      <td>0</td>\n",
       "      <td>0.665391</td>\n",
       "    </tr>\n",
       "    <tr>\n",
       "      <th>4</th>\n",
       "      <td>2917</td>\n",
       "      <td>67</td>\n",
       "      <td>0</td>\n",
       "      <td>0.986821</td>\n",
       "    </tr>\n",
       "  </tbody>\n",
       "</table>\n",
       "</div>"
      ],
      "text/plain": [
       "   PersonID  EventID  Participated  prediction\n",
       "0      4304       67             0    0.084275\n",
       "1      2921       67             0    1.187580\n",
       "2      2920       67             0    0.665482\n",
       "3      2919       67             0    0.665391\n",
       "4      2917       67             0    0.986821"
      ]
     },
     "execution_count": 88,
     "metadata": {},
     "output_type": "execute_result"
    }
   ],
   "source": [
    "naive_test_ensemble.head()"
   ]
  },
  {
   "cell_type": "code",
   "execution_count": 89,
   "metadata": {
    "collapsed": true
   },
   "outputs": [],
   "source": [
    "rank_processing_naive_test = rank_eval.RankEval(naive_test_ensemble, 'PersonID', 'EventID', 'Participated', 'prediction')"
   ]
  },
  {
   "cell_type": "code",
   "execution_count": 90,
   "metadata": {},
   "outputs": [
    {
     "data": {
      "text/plain": [
       "50.741111790053999"
      ]
     },
     "execution_count": 90,
     "metadata": {},
     "output_type": "execute_result"
    }
   ],
   "source": [
    "rank_processing_naive_test.calc_test_rank()"
   ]
  },
  {
   "cell_type": "code",
   "execution_count": 91,
   "metadata": {
    "scrolled": true
   },
   "outputs": [
    {
     "data": {
      "text/plain": [
       "30.302021930658537"
      ]
     },
     "execution_count": 91,
     "metadata": {},
     "output_type": "execute_result"
    }
   ],
   "source": [
    "rank_processing_naive_test.calc_popular_rank()"
   ]
  },
  {
   "cell_type": "code",
   "execution_count": null,
   "metadata": {
    "collapsed": true
   },
   "outputs": [],
   "source": []
  },
  {
   "cell_type": "code",
   "execution_count": null,
   "metadata": {
    "collapsed": true
   },
   "outputs": [],
   "source": []
  }
 ],
 "metadata": {
  "kernelspec": {
   "display_name": "Python 2",
   "language": "python",
   "name": "python2"
  },
  "language_info": {
   "codemirror_mode": {
    "name": "ipython",
    "version": 2
   },
   "file_extension": ".py",
   "mimetype": "text/x-python",
   "name": "python",
   "nbconvert_exporter": "python",
   "pygments_lexer": "ipython2",
   "version": "2.7.13"
  }
 },
 "nbformat": 4,
 "nbformat_minor": 2
}

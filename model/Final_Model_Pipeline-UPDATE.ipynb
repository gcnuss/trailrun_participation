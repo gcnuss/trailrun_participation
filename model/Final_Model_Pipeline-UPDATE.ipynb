{
 "cells": [
  {
   "cell_type": "markdown",
   "metadata": {},
   "source": [
    "## Import ALS Model code"
   ]
  },
  {
   "cell_type": "code",
   "execution_count": 1,
   "metadata": {
    "collapsed": true
   },
   "outputs": [],
   "source": [
    "import als_model_v2 as am"
   ]
  },
  {
   "cell_type": "code",
   "execution_count": 2,
   "metadata": {
    "collapsed": true
   },
   "outputs": [],
   "source": [
    "%matplotlib inline"
   ]
  },
  {
   "cell_type": "code",
   "execution_count": 3,
   "metadata": {
    "collapsed": true
   },
   "outputs": [],
   "source": [
    "import cPickle as pickle"
   ]
  },
  {
   "cell_type": "markdown",
   "metadata": {},
   "source": [
    "## Open cleaned_df"
   ]
  },
  {
   "cell_type": "code",
   "execution_count": 4,
   "metadata": {
    "collapsed": true
   },
   "outputs": [],
   "source": [
    "with open ('24OCT17_pipelinerun/cleaned_df.pkl', 'rb') as f:\n",
    "    cleaned_data = pickle.load(f)"
   ]
  },
  {
   "cell_type": "markdown",
   "metadata": {},
   "source": [
    "## Instantiate Class Instances for ALS Model, Prep and Run for the Following:\n",
    "\n",
    "#### For each of these features:\n",
    "- SeriesID\n",
    "- EventTypeID\n",
    "- Venue (based on zip code)\n",
    "- Total Average Fee\n",
    "- Average Mileage\n",
    "\n",
    "#### Run best fit model identified from exercise in Pipeline_v2-noTVS notebook on train+validate larger dataset; check rank metric on test set\n",
    "\n",
    "#### Initial Prep:"
   ]
  },
  {
   "cell_type": "code",
   "execution_count": 5,
   "metadata": {
    "collapsed": true
   },
   "outputs": [],
   "source": [
    "als_model = am.implicit_als(cleaned_data, split_val=False)\n",
    "#setting split_val to False results in the split being train/test instead of train/val/test\n",
    "#80% of data is in train and 20% is in test"
   ]
  },
  {
   "cell_type": "code",
   "execution_count": 6,
   "metadata": {
    "collapsed": true
   },
   "outputs": [],
   "source": [
    "als_model.prep_full_df()"
   ]
  },
  {
   "cell_type": "code",
   "execution_count": 8,
   "metadata": {},
   "outputs": [
    {
     "name": "stdout",
     "output_type": "stream",
     "text": [
      "<class 'pandas.core.frame.DataFrame'>\n",
      "RangeIndex: 925704 entries, 0 to 925703\n",
      "Data columns (total 9 columns):\n",
      "PersonID         925704 non-null int64\n",
      "EventID          925704 non-null int64\n",
      "Participated     925704 non-null int64\n",
      "Event_Date       925704 non-null datetime64[ns]\n",
      "SeriesID         925704 non-null float64\n",
      "EventTypeID      925704 non-null int64\n",
      "Total_Fee_Avg    925704 non-null int64\n",
      "Miles2_Avg       925704 non-null int64\n",
      "Venue_Zip        925704 non-null int64\n",
      "dtypes: datetime64[ns](1), float64(1), int64(7)\n",
      "memory usage: 63.6 MB\n"
     ]
    }
   ],
   "source": [
    "als_model.full_df.info()"
   ]
  },
  {
   "cell_type": "code",
   "execution_count": 12,
   "metadata": {},
   "outputs": [
    {
     "name": "stdout",
     "output_type": "stream",
     "text": [
      "TrainVal Size: 740563.0\n",
      "Train Size: 592450.0\n",
      "Validation Size: 148113.0\n",
      "Test Size: 185141.0\n"
     ]
    }
   ],
   "source": [
    "als_model.train_val_test_split()"
   ]
  },
  {
   "cell_type": "markdown",
   "metadata": {},
   "source": [
    "## SeriesID"
   ]
  },
  {
   "cell_type": "code",
   "execution_count": 16,
   "metadata": {},
   "outputs": [
    {
     "name": "stdout",
     "output_type": "stream",
     "text": [
      "participants in train: 10764\n",
      "participants in validate: 10764\n",
      "participants in test: 10764\n",
      "\n",
      "\n",
      "participants in both train & validate: 10764\n",
      "participants in both train & test: 10764\n",
      "\n",
      "\n",
      "SeriesID in train: 5\n",
      "SeriesID in validate: 4\n",
      "SeriesID in test: 5\n",
      "\n",
      "\n",
      "SeriesID in both train & validate: 4\n",
      "SeriesID in both train & test: 5\n"
     ]
    }
   ],
   "source": [
    "als_model.print_train_val_test_info(\"SeriesID\")"
   ]
  },
  {
   "cell_type": "code",
   "execution_count": 17,
   "metadata": {
    "collapsed": true
   },
   "outputs": [],
   "source": [
    "als_model.create_participate_matrices(\"SeriesID\")"
   ]
  },
  {
   "cell_type": "code",
   "execution_count": 22,
   "metadata": {
    "collapsed": true
   },
   "outputs": [],
   "source": [
    "als_model.fit_ALS(itemCol=\"SeriesID\", rank=5, alpha=80, coldStartStrategy=\"drop\")"
   ]
  },
  {
   "cell_type": "code",
   "execution_count": 23,
   "metadata": {},
   "outputs": [
    {
     "name": "stdout",
     "output_type": "stream",
     "text": [
      "Trainval predictions includes 740563 valid values and 0 nan values\n",
      "Test predictions includes 185141 valid values and 0 nan values\n",
      "Trainval Model Rank = 1.53641759679 and Popular Rank = 26.3524346793\n",
      "Test Model Rank = 4.8609993163 and Popular Rank = 10.7472903594\n"
     ]
    }
   ],
   "source": [
    "trainval_predictions, trainval_rank, trainval_pop_rank, test_predictions, test_rank, test_pop_rank = als_model.predict_ALS(\n",
    "    als_model.base_model, \"SeriesID\")"
   ]
  },
  {
   "cell_type": "code",
   "execution_count": 24,
   "metadata": {
    "collapsed": true
   },
   "outputs": [],
   "source": [
    "als_fit_model_series = als_model.base_model\n",
    "als_trainvalpreds_pd_series = trainval_predictions\n",
    "als_testpreds_pd_series = test_predictions\n",
    "\n",
    "als_fit_model_series.save(\"26OCT17_finalfitmodels/als_fit_model_series\")\n",
    "\n",
    "with open (\"26OCT17_finalfitmodels/als_trainvalpreds_pd_series.pkl\", 'w') as f:\n",
    "    pickle.dump(als_trainvalpreds_pd_series, f)\n",
    "with open ('26OCT17_finalfitmodels/als_testpreds_pd_series.pkl', 'w') as f:\n",
    "    pickle.dump(als_testpreds_pd_series, f)"
   ]
  },
  {
   "cell_type": "code",
   "execution_count": 25,
   "metadata": {
    "collapsed": true
   },
   "outputs": [],
   "source": [
    "#these only need to be saved once today:\n",
    "als_trainval_df_pd = als_model.trainval\n",
    "als_test_df_pd = als_model.test"
   ]
  },
  {
   "cell_type": "code",
   "execution_count": 26,
   "metadata": {
    "collapsed": true
   },
   "outputs": [],
   "source": [
    "with open (\"26OCT17_finalfitmodels/als_trainval_df_pd.pkl\", 'w') as f:\n",
    "    pickle.dump(als_trainval_df_pd, f)\n",
    "    \n",
    "with open (\"26OCT17_finalfitmodels/als_test_df_pd.pkl\", 'w') as f:\n",
    "    pickle.dump(als_test_df_pd, f)"
   ]
  },
  {
   "cell_type": "markdown",
   "metadata": {},
   "source": [
    "## EventTypeID"
   ]
  },
  {
   "cell_type": "code",
   "execution_count": 27,
   "metadata": {
    "scrolled": true
   },
   "outputs": [
    {
     "name": "stdout",
     "output_type": "stream",
     "text": [
      "participants in train: 10764\n",
      "participants in validate: 10764\n",
      "participants in test: 10764\n",
      "\n",
      "\n",
      "participants in both train & validate: 10764\n",
      "participants in both train & test: 10764\n",
      "\n",
      "\n",
      "EventTypeID in train: 2\n",
      "EventTypeID in validate: 1\n",
      "EventTypeID in test: 2\n",
      "\n",
      "\n",
      "EventTypeID in both train & validate: 1\n",
      "EventTypeID in both train & test: 2\n"
     ]
    }
   ],
   "source": [
    "als_model.print_train_val_test_info(\"EventTypeID\")"
   ]
  },
  {
   "cell_type": "code",
   "execution_count": 28,
   "metadata": {
    "collapsed": true
   },
   "outputs": [],
   "source": [
    "als_model.create_participate_matrices(\"EventTypeID\")"
   ]
  },
  {
   "cell_type": "code",
   "execution_count": 29,
   "metadata": {
    "collapsed": true
   },
   "outputs": [],
   "source": [
    "als_model.fit_ALS(itemCol=\"EventTypeID\", rank=30, alpha=80, coldStartStrategy=\"drop\")"
   ]
  },
  {
   "cell_type": "code",
   "execution_count": 30,
   "metadata": {},
   "outputs": [
    {
     "name": "stdout",
     "output_type": "stream",
     "text": [
      "Trainval predictions includes 740563 valid values and 0 nan values\n",
      "Test predictions includes 185141 valid values and 0 nan values\n",
      "Trainval Model Rank = 0.00684473620581 and Popular Rank = 7.99064726841\n",
      "Test Model Rank = 0.41742084036 and Popular Rank = 1.91100969766\n"
     ]
    }
   ],
   "source": [
    "trainval_predictions, trainval_rank, trainval_pop_rank, test_predictions, test_rank, test_pop_rank = als_model.predict_ALS(\n",
    "    als_model.base_model, \"EventTypeID\")"
   ]
  },
  {
   "cell_type": "code",
   "execution_count": 31,
   "metadata": {
    "collapsed": true
   },
   "outputs": [],
   "source": [
    "als_fit_model_eventtype = als_model.base_model\n",
    "als_trainvalpreds_pd_eventtype = trainval_predictions\n",
    "als_testpreds_pd_eventtype = test_predictions\n",
    "\n",
    "als_fit_model_eventtype.save(\"26OCT17_finalfitmodels/als_fit_model_eventtype\")\n",
    "\n",
    "with open (\"26OCT17_finalfitmodels/als_trainvalpreds_pd_eventtype.pkl\", 'w') as f:\n",
    "    pickle.dump(als_trainvalpreds_pd_eventtype, f)\n",
    "with open (\"26OCT17_finalfitmodels/als_testpreds_pd_eventtype.pkl\", 'w') as f:\n",
    "    pickle.dump(als_testpreds_pd_eventtype, f)"
   ]
  },
  {
   "cell_type": "markdown",
   "metadata": {},
   "source": [
    "## Venue (Based on Zipcode)"
   ]
  },
  {
   "cell_type": "code",
   "execution_count": 32,
   "metadata": {
    "scrolled": true
   },
   "outputs": [
    {
     "name": "stdout",
     "output_type": "stream",
     "text": [
      "participants in train: 10764\n",
      "participants in validate: 10764\n",
      "participants in test: 10764\n",
      "\n",
      "\n",
      "participants in both train & validate: 10764\n",
      "participants in both train & test: 10764\n",
      "\n",
      "\n",
      "Venue_Zip in train: 24\n",
      "Venue_Zip in validate: 10\n",
      "Venue_Zip in test: 15\n",
      "\n",
      "\n",
      "Venue_Zip in both train & validate: 8\n",
      "Venue_Zip in both train & test: 15\n"
     ]
    }
   ],
   "source": [
    "als_model.print_train_val_test_info(\"Venue_Zip\")"
   ]
  },
  {
   "cell_type": "code",
   "execution_count": 33,
   "metadata": {
    "collapsed": true
   },
   "outputs": [],
   "source": [
    "als_model.create_participate_matrices(\"Venue_Zip\")"
   ]
  },
  {
   "cell_type": "code",
   "execution_count": 34,
   "metadata": {
    "collapsed": true
   },
   "outputs": [],
   "source": [
    "als_model.fit_ALS(itemCol=\"Venue_Zip\", rank=5, alpha=80, coldStartStrategy=\"drop\")"
   ]
  },
  {
   "cell_type": "code",
   "execution_count": 35,
   "metadata": {},
   "outputs": [
    {
     "name": "stdout",
     "output_type": "stream",
     "text": [
      "Trainval predictions includes 740563 valid values and 0 nan values\n",
      "Test predictions includes 185141 valid values and 0 nan values\n",
      "Trainval Model Rank = 6.5784112444 and Popular Rank = 23.2128174676\n",
      "Test Model Rank = 13.3852376048 and Popular Rank = 31.7683970337\n"
     ]
    }
   ],
   "source": [
    "trainval_predictions, trainval_rank, trainval_pop_rank, test_predictions, test_rank, test_pop_rank = als_model.predict_ALS(\n",
    "    als_model.base_model, \"Venue_Zip\")"
   ]
  },
  {
   "cell_type": "code",
   "execution_count": 36,
   "metadata": {
    "collapsed": true
   },
   "outputs": [],
   "source": [
    "als_fit_model_zipcode = als_model.base_model\n",
    "als_trainvalpreds_pd_zipcode = trainval_predictions\n",
    "als_testpreds_pd_zipcode = test_predictions\n",
    "\n",
    "als_fit_model_zipcode.save(\"26OCT17_finalfitmodels/als_fit_model_zipcode\")\n",
    "\n",
    "with open (\"26OCT17_finalfitmodels/als_trainvalpreds_pd_zipcode.pkl\", 'w') as f:\n",
    "    pickle.dump(als_trainvalpreds_pd_zipcode, f)\n",
    "with open (\"26OCT17_finalfitmodels/als_testpreds_pd_zipcode.pkl\", 'w') as f:\n",
    "    pickle.dump(als_testpreds_pd_zipcode, f)"
   ]
  },
  {
   "cell_type": "markdown",
   "metadata": {},
   "source": [
    "## Total Average Fee"
   ]
  },
  {
   "cell_type": "code",
   "execution_count": 37,
   "metadata": {
    "scrolled": true
   },
   "outputs": [
    {
     "name": "stdout",
     "output_type": "stream",
     "text": [
      "participants in train: 10764\n",
      "participants in validate: 10764\n",
      "participants in test: 10764\n",
      "\n",
      "\n",
      "participants in both train & validate: 10764\n",
      "participants in both train & test: 10764\n",
      "\n",
      "\n",
      "Total_Fee_Avg in train: 20\n",
      "Total_Fee_Avg in validate: 11\n",
      "Total_Fee_Avg in test: 12\n",
      "\n",
      "\n",
      "Total_Fee_Avg in both train & validate: 8\n",
      "Total_Fee_Avg in both train & test: 8\n"
     ]
    }
   ],
   "source": [
    "als_model.print_train_val_test_info(\"Total_Fee_Avg\")"
   ]
  },
  {
   "cell_type": "code",
   "execution_count": 38,
   "metadata": {
    "collapsed": true
   },
   "outputs": [],
   "source": [
    "als_model.create_participate_matrices(\"Total_Fee_Avg\")"
   ]
  },
  {
   "cell_type": "code",
   "execution_count": 39,
   "metadata": {
    "collapsed": true
   },
   "outputs": [],
   "source": [
    "als_model.fit_ALS(itemCol=\"Total_Fee_Avg\", rank=5, alpha=80, coldStartStrategy=\"drop\")"
   ]
  },
  {
   "cell_type": "code",
   "execution_count": 40,
   "metadata": {},
   "outputs": [
    {
     "name": "stdout",
     "output_type": "stream",
     "text": [
      "Trainval predictions includes 740563 valid values and 0 nan values\n",
      "Test predictions includes 152849 valid values and 0 nan values\n",
      "Trainval Model Rank = 6.02542849691 and Popular Rank = 26.5368429206\n",
      "Test Model Rank = 14.875102889 and Popular Rank = 24.3897743898\n"
     ]
    }
   ],
   "source": [
    "trainval_predictions, trainval_rank, trainval_pop_rank, test_predictions, test_rank, test_pop_rank = als_model.predict_ALS(\n",
    "    als_model.base_model, \"Total_Fee_Avg\")"
   ]
  },
  {
   "cell_type": "code",
   "execution_count": 41,
   "metadata": {
    "collapsed": true
   },
   "outputs": [],
   "source": [
    "als_fit_model_avgfee = als_model.base_model\n",
    "als_trainvalpreds_pd_avgfee = trainval_predictions\n",
    "als_testpreds_pd_avgfee = test_predictions\n",
    "\n",
    "als_fit_model_avgfee.save(\"26OCT17_finalfitmodels/als_fit_model_avgfee\")\n",
    "\n",
    "with open (\"26OCT17_finalfitmodels/als_trainvalpreds_pd_avgfee.pkl\", 'w') as f:\n",
    "    pickle.dump(als_trainvalpreds_pd_avgfee, f)\n",
    "\n",
    "with open (\"26OCT17_finalfitmodels/als_testpreds_pd_avgfee.pkl\", 'w') as f:\n",
    "    pickle.dump(als_testpreds_pd_avgfee, f)"
   ]
  },
  {
   "cell_type": "markdown",
   "metadata": {},
   "source": [
    "## Average Mileage"
   ]
  },
  {
   "cell_type": "code",
   "execution_count": 42,
   "metadata": {
    "scrolled": true
   },
   "outputs": [
    {
     "name": "stdout",
     "output_type": "stream",
     "text": [
      "participants in train: 10764\n",
      "participants in validate: 10764\n",
      "participants in test: 10764\n",
      "\n",
      "\n",
      "participants in both train & validate: 10764\n",
      "participants in both train & test: 10764\n",
      "\n",
      "\n",
      "Miles2_Avg in train: 11\n",
      "Miles2_Avg in validate: 5\n",
      "Miles2_Avg in test: 10\n",
      "\n",
      "\n",
      "Miles2_Avg in both train & validate: 5\n",
      "Miles2_Avg in both train & test: 7\n"
     ]
    }
   ],
   "source": [
    "als_model.print_train_val_test_info(\"Miles2_Avg\")"
   ]
  },
  {
   "cell_type": "code",
   "execution_count": 43,
   "metadata": {
    "collapsed": true
   },
   "outputs": [],
   "source": [
    "als_model.create_participate_matrices(\"Miles2_Avg\")"
   ]
  },
  {
   "cell_type": "code",
   "execution_count": 44,
   "metadata": {
    "collapsed": true
   },
   "outputs": [],
   "source": [
    "als_model.fit_ALS(itemCol=\"Miles2_Avg\", rank=5, alpha=80, coldStartStrategy=\"drop\")"
   ]
  },
  {
   "cell_type": "code",
   "execution_count": 45,
   "metadata": {},
   "outputs": [
    {
     "name": "stdout",
     "output_type": "stream",
     "text": [
      "Trainval predictions includes 740563 valid values and 0 nan values\n",
      "Test predictions includes 142085 valid values and 0 nan values\n",
      "Trainval Model Rank = 2.24288129789 and Popular Rank = 23.1294536817\n",
      "Test Model Rank = 10.1237046386 and Popular Rank = 31.4678216147\n"
     ]
    }
   ],
   "source": [
    "trainval_predictions, trainval_rank, trainval_pop_rank, test_predictions, test_rank, test_pop_rank = als_model.predict_ALS(\n",
    "    als_model.base_model, \"Miles2_Avg\")"
   ]
  },
  {
   "cell_type": "code",
   "execution_count": 46,
   "metadata": {
    "collapsed": true
   },
   "outputs": [],
   "source": [
    "als_fit_model_avgmile = als_model.base_model\n",
    "als_trainvalpreds_pd_avgmile = trainval_predictions\n",
    "als_testpreds_pd_avgmile = test_predictions\n",
    "\n",
    "als_fit_model_avgmile.save(\"26OCT17_finalfitmodels/als_fit_model_avgmile\")\n",
    "\n",
    "with open (\"26OCT17_finalfitmodels/als_trainvalpreds_pd_avgmile.pkl\", 'w') as f:\n",
    "    pickle.dump(als_trainvalpreds_pd_avgmile, f)\n",
    "with open (\"26OCT17_finalfitmodels/als_testpreds_pd_avgmile.pkl\", 'w') as f:\n",
    "    pickle.dump(als_testpreds_pd_avgmile, f)"
   ]
  },
  {
   "cell_type": "markdown",
   "metadata": {},
   "source": [
    "## Build Gradient Boost Ensemble Using ALS Models Predictions as Inputs to Determine Weights for Each"
   ]
  },
  {
   "cell_type": "code",
   "execution_count": 79,
   "metadata": {
    "collapsed": true
   },
   "outputs": [],
   "source": [
    "from ensemble_helper_functions import load_files, merge_data\n",
    "import pandas as pd"
   ]
  },
  {
   "cell_type": "markdown",
   "metadata": {},
   "source": [
    "#### Build X, y Train Matrices for GB Model; Split between Train and Validate"
   ]
  },
  {
   "cell_type": "code",
   "execution_count": 49,
   "metadata": {
    "collapsed": true
   },
   "outputs": [],
   "source": [
    "data_df = load_files('26OCT17_finalfitmodels/als_trainval_df_pd.pkl')\n",
    "fee_preds = load_files('26OCT17_finalfitmodels/als_trainvalpreds_pd_avgfee.pkl')\n",
    "mile_preds = load_files('26OCT17_finalfitmodels/als_trainvalpreds_pd_avgmile.pkl')\n",
    "type_preds = load_files('26OCT17_finalfitmodels/als_trainvalpreds_pd_eventtype.pkl')\n",
    "series_preds = load_files('26OCT17_finalfitmodels/als_trainvalpreds_pd_series.pkl')\n",
    "zipcode_preds = load_files('26OCT17_finalfitmodels/als_trainvalpreds_pd_zipcode.pkl')"
   ]
  },
  {
   "cell_type": "code",
   "execution_count": 76,
   "metadata": {
    "collapsed": true
   },
   "outputs": [],
   "source": [
    "data_df['Event_Date'] = data_df['Event_Date'].astype('int64')//1e9"
   ]
  },
  {
   "cell_type": "code",
   "execution_count": 86,
   "metadata": {
    "collapsed": true
   },
   "outputs": [],
   "source": [
    "data_df['Event_Date'] = data_df['Event_Date'] * 1000000000"
   ]
  },
  {
   "cell_type": "code",
   "execution_count": 87,
   "metadata": {},
   "outputs": [
    {
     "data": {
      "text/html": [
       "<div>\n",
       "<style>\n",
       "    .dataframe thead tr:only-child th {\n",
       "        text-align: right;\n",
       "    }\n",
       "\n",
       "    .dataframe thead th {\n",
       "        text-align: left;\n",
       "    }\n",
       "\n",
       "    .dataframe tbody tr th {\n",
       "        vertical-align: top;\n",
       "    }\n",
       "</style>\n",
       "<table border=\"1\" class=\"dataframe\">\n",
       "  <thead>\n",
       "    <tr style=\"text-align: right;\">\n",
       "      <th></th>\n",
       "      <th>PersonID</th>\n",
       "      <th>EventID</th>\n",
       "      <th>Participated</th>\n",
       "      <th>Event_Date</th>\n",
       "      <th>SeriesID</th>\n",
       "      <th>EventTypeID</th>\n",
       "      <th>Total_Fee_Avg</th>\n",
       "      <th>Miles2_Avg</th>\n",
       "      <th>Venue_Zip</th>\n",
       "    </tr>\n",
       "  </thead>\n",
       "  <tbody>\n",
       "    <tr>\n",
       "      <th>398267</th>\n",
       "      <td>10990</td>\n",
       "      <td>1000</td>\n",
       "      <td>0</td>\n",
       "      <td>1418428800000000000</td>\n",
       "      <td>4.0</td>\n",
       "      <td>2</td>\n",
       "      <td>39</td>\n",
       "      <td>8</td>\n",
       "      <td>98101</td>\n",
       "    </tr>\n",
       "    <tr>\n",
       "      <th>391096</th>\n",
       "      <td>3581</td>\n",
       "      <td>1000</td>\n",
       "      <td>0</td>\n",
       "      <td>1418428800000000000</td>\n",
       "      <td>4.0</td>\n",
       "      <td>2</td>\n",
       "      <td>39</td>\n",
       "      <td>8</td>\n",
       "      <td>98101</td>\n",
       "    </tr>\n",
       "    <tr>\n",
       "      <th>391095</th>\n",
       "      <td>3580</td>\n",
       "      <td>1000</td>\n",
       "      <td>0</td>\n",
       "      <td>1418428800000000000</td>\n",
       "      <td>4.0</td>\n",
       "      <td>2</td>\n",
       "      <td>39</td>\n",
       "      <td>8</td>\n",
       "      <td>98101</td>\n",
       "    </tr>\n",
       "    <tr>\n",
       "      <th>391094</th>\n",
       "      <td>3579</td>\n",
       "      <td>1000</td>\n",
       "      <td>0</td>\n",
       "      <td>1418428800000000000</td>\n",
       "      <td>4.0</td>\n",
       "      <td>2</td>\n",
       "      <td>39</td>\n",
       "      <td>8</td>\n",
       "      <td>98101</td>\n",
       "    </tr>\n",
       "    <tr>\n",
       "      <th>391093</th>\n",
       "      <td>3578</td>\n",
       "      <td>1000</td>\n",
       "      <td>0</td>\n",
       "      <td>1418428800000000000</td>\n",
       "      <td>4.0</td>\n",
       "      <td>2</td>\n",
       "      <td>39</td>\n",
       "      <td>8</td>\n",
       "      <td>98101</td>\n",
       "    </tr>\n",
       "  </tbody>\n",
       "</table>\n",
       "</div>"
      ],
      "text/plain": [
       "        PersonID  EventID  Participated           Event_Date  SeriesID  \\\n",
       "398267     10990     1000             0  1418428800000000000       4.0   \n",
       "391096      3581     1000             0  1418428800000000000       4.0   \n",
       "391095      3580     1000             0  1418428800000000000       4.0   \n",
       "391094      3579     1000             0  1418428800000000000       4.0   \n",
       "391093      3578     1000             0  1418428800000000000       4.0   \n",
       "\n",
       "        EventTypeID  Total_Fee_Avg  Miles2_Avg  Venue_Zip  \n",
       "398267            2             39           8      98101  \n",
       "391096            2             39           8      98101  \n",
       "391095            2             39           8      98101  \n",
       "391094            2             39           8      98101  \n",
       "391093            2             39           8      98101  "
      ]
     },
     "execution_count": 87,
     "metadata": {},
     "output_type": "execute_result"
    }
   ],
   "source": [
    "data_df.head()"
   ]
  },
  {
   "cell_type": "code",
   "execution_count": 88,
   "metadata": {},
   "outputs": [
    {
     "data": {
      "text/html": [
       "<div>\n",
       "<style>\n",
       "    .dataframe thead tr:only-child th {\n",
       "        text-align: right;\n",
       "    }\n",
       "\n",
       "    .dataframe thead th {\n",
       "        text-align: left;\n",
       "    }\n",
       "\n",
       "    .dataframe tbody tr th {\n",
       "        vertical-align: top;\n",
       "    }\n",
       "</style>\n",
       "<table border=\"1\" class=\"dataframe\">\n",
       "  <thead>\n",
       "    <tr style=\"text-align: right;\">\n",
       "      <th></th>\n",
       "      <th>PersonID</th>\n",
       "      <th>SeriesID</th>\n",
       "      <th>Participated</th>\n",
       "      <th>Event_Date</th>\n",
       "      <th>prediction</th>\n",
       "    </tr>\n",
       "  </thead>\n",
       "  <tbody>\n",
       "    <tr>\n",
       "      <th>0</th>\n",
       "      <td>148</td>\n",
       "      <td>1.0</td>\n",
       "      <td>1</td>\n",
       "      <td>1446854400000000000</td>\n",
       "      <td>0.981499</td>\n",
       "    </tr>\n",
       "    <tr>\n",
       "      <th>1</th>\n",
       "      <td>148</td>\n",
       "      <td>1.0</td>\n",
       "      <td>1</td>\n",
       "      <td>1448064000000000000</td>\n",
       "      <td>0.981499</td>\n",
       "    </tr>\n",
       "    <tr>\n",
       "      <th>2</th>\n",
       "      <td>148</td>\n",
       "      <td>1.0</td>\n",
       "      <td>1</td>\n",
       "      <td>1449273600000000000</td>\n",
       "      <td>0.981499</td>\n",
       "    </tr>\n",
       "    <tr>\n",
       "      <th>3</th>\n",
       "      <td>148</td>\n",
       "      <td>1.0</td>\n",
       "      <td>0</td>\n",
       "      <td>1450483200000000000</td>\n",
       "      <td>0.981499</td>\n",
       "    </tr>\n",
       "    <tr>\n",
       "      <th>4</th>\n",
       "      <td>148</td>\n",
       "      <td>1.0</td>\n",
       "      <td>0</td>\n",
       "      <td>1451779200000000000</td>\n",
       "      <td>0.981499</td>\n",
       "    </tr>\n",
       "  </tbody>\n",
       "</table>\n",
       "</div>"
      ],
      "text/plain": [
       "   PersonID  SeriesID  Participated           Event_Date  prediction\n",
       "0       148       1.0             1  1446854400000000000    0.981499\n",
       "1       148       1.0             1  1448064000000000000    0.981499\n",
       "2       148       1.0             1  1449273600000000000    0.981499\n",
       "3       148       1.0             0  1450483200000000000    0.981499\n",
       "4       148       1.0             0  1451779200000000000    0.981499"
      ]
     },
     "execution_count": 88,
     "metadata": {},
     "output_type": "execute_result"
    }
   ],
   "source": [
    "series_preds.head()"
   ]
  },
  {
   "cell_type": "code",
   "execution_count": 89,
   "metadata": {
    "collapsed": true
   },
   "outputs": [],
   "source": [
    "predictions = [(series_preds, 'SeriesID'), (type_preds, 'EventTypeID'), \n",
    "               (zipcode_preds, 'Venue_Zip'), (fee_preds, 'Total_Fee_Avg'), \n",
    "               (mile_preds, 'Miles2_Avg')]\n",
    "\n",
    "gb_train_data = data_df.copy()\n",
    "\n",
    "for item in predictions:\n",
    "    gb_train_data = merge_data(gb_train_data, item[0], item[1])"
   ]
  },
  {
   "cell_type": "code",
   "execution_count": 92,
   "metadata": {
    "collapsed": true
   },
   "outputs": [],
   "source": [
    "gb_train_data.sort_values(by='Event_Date', axis=0, ascending=True, inplace=True)"
   ]
  },
  {
   "cell_type": "code",
   "execution_count": 93,
   "metadata": {
    "collapsed": true
   },
   "outputs": [],
   "source": [
    "gb_train_data.reset_index(drop=True, inplace=True)"
   ]
  },
  {
   "cell_type": "code",
   "execution_count": 94,
   "metadata": {},
   "outputs": [
    {
     "name": "stdout",
     "output_type": "stream",
     "text": [
      "<class 'pandas.core.frame.DataFrame'>\n",
      "RangeIndex: 740563 entries, 0 to 740562\n",
      "Data columns (total 9 columns):\n",
      "PersonID                    740563 non-null int64\n",
      "EventID                     740563 non-null int64\n",
      "Participated                740563 non-null int64\n",
      "Event_Date                  740563 non-null int64\n",
      "SeriesID_prediction         740563 non-null float64\n",
      "EventTypeID_prediction      740563 non-null float64\n",
      "Venue_Zip_prediction        740563 non-null float64\n",
      "Total_Fee_Avg_prediction    740563 non-null float64\n",
      "Miles2_Avg_prediction       740563 non-null float64\n",
      "dtypes: float64(5), int64(4)\n",
      "memory usage: 50.9 MB\n"
     ]
    }
   ],
   "source": [
    "gb_train_data.info()"
   ]
  },
  {
   "cell_type": "markdown",
   "metadata": {},
   "source": [
    "No NAN values to fill in since this is the predictions on the training data (no cold starts)"
   ]
  },
  {
   "cell_type": "code",
   "execution_count": null,
   "metadata": {
    "collapsed": true
   },
   "outputs": [],
   "source": [
    "#need to fill nan values for venue_zip_prediction and fee_prediction\n",
    "#gb_data['venuezip_prediction'] = gb_data['venuezip_prediction'].apply(\n",
    "#                            lambda x: gb_data['venuezip_prediction'].mean() if pd.isnull(x) else x)\n",
    "#need to fill nan values for venue_zip_prediction and fee_prediction\n",
    "#gb_data['fee_prediction'] = gb_data['fee_prediction'].apply(\n",
    "#                            lambda x: gb_data['fee_prediction'].mean() if pd.isnull(x) else x)"
   ]
  },
  {
   "cell_type": "code",
   "execution_count": 100,
   "metadata": {},
   "outputs": [
    {
     "data": {
      "text/plain": [
       "(592450.4, 148112.6)"
      ]
     },
     "execution_count": 100,
     "metadata": {},
     "output_type": "execute_result"
    }
   ],
   "source": [
    "len(gb_train_data)*.8, len(gb_train_data)*.2"
   ]
  },
  {
   "cell_type": "markdown",
   "metadata": {},
   "source": [
    "Split data on first 592450 records for train (sorted by event_date as timestamp) and last 148113 records for test"
   ]
  },
  {
   "cell_type": "code",
   "execution_count": 102,
   "metadata": {
    "collapsed": true
   },
   "outputs": [],
   "source": [
    "X_gb_train = gb_train_data[['SeriesID_prediction', 'EventTypeID_prediction', 'Venue_Zip_prediction', 'Total_Fee_Avg_prediction', \n",
    "                      'Miles2_Avg_prediction']].iloc[:592450].copy()"
   ]
  },
  {
   "cell_type": "code",
   "execution_count": 103,
   "metadata": {
    "collapsed": true
   },
   "outputs": [],
   "source": [
    "y_gb_train = gb_train_data['Participated'].iloc[:592450].copy()"
   ]
  },
  {
   "cell_type": "code",
   "execution_count": 104,
   "metadata": {},
   "outputs": [
    {
     "data": {
      "text/plain": [
       "(592450, 592450)"
      ]
     },
     "execution_count": 104,
     "metadata": {},
     "output_type": "execute_result"
    }
   ],
   "source": [
    "len(X_gb_train), len(y_gb_train)"
   ]
  },
  {
   "cell_type": "code",
   "execution_count": 105,
   "metadata": {
    "collapsed": true
   },
   "outputs": [],
   "source": [
    "X_gb_val = gb_train_data[['SeriesID_prediction', 'EventTypeID_prediction', 'Venue_Zip_prediction', 'Total_Fee_Avg_prediction', \n",
    "                      'Miles2_Avg_prediction']].iloc[592450:].copy()"
   ]
  },
  {
   "cell_type": "code",
   "execution_count": 106,
   "metadata": {
    "collapsed": true
   },
   "outputs": [],
   "source": [
    "y_gb_val = gb_train_data['Participated'].iloc[592450:].copy()"
   ]
  },
  {
   "cell_type": "code",
   "execution_count": 108,
   "metadata": {
    "scrolled": true
   },
   "outputs": [
    {
     "data": {
      "text/plain": [
       "(148113, 148113)"
      ]
     },
     "execution_count": 108,
     "metadata": {},
     "output_type": "execute_result"
    }
   ],
   "source": [
    "len(X_gb_val), len(y_gb_val)"
   ]
  },
  {
   "cell_type": "code",
   "execution_count": 109,
   "metadata": {
    "collapsed": true
   },
   "outputs": [],
   "source": [
    "with open('26OCT17_finalfitmodels/gb_train_data.pkl', 'w') as f:\n",
    "    pickle.dump(gb_train_data, f)"
   ]
  },
  {
   "cell_type": "markdown",
   "metadata": {},
   "source": [
    "#### Build X, y Test Matrices for GB Model"
   ]
  },
  {
   "cell_type": "code",
   "execution_count": 110,
   "metadata": {
    "collapsed": true
   },
   "outputs": [],
   "source": [
    "test_data_df = load_files('26OCT17_finalfitmodels/als_test_df_pd.pkl')\n",
    "test_fee_preds = load_files('26OCT17_finalfitmodels/als_testpreds_pd_avgfee.pkl')\n",
    "test_mile_preds = load_files('26OCT17_finalfitmodels/als_testpreds_pd_avgmile.pkl')\n",
    "test_type_preds = load_files('26OCT17_finalfitmodels/als_testpreds_pd_eventtype.pkl')\n",
    "test_series_preds = load_files('26OCT17_finalfitmodels/als_testpreds_pd_series.pkl')\n",
    "test_zipcode_preds = load_files('26OCT17_finalfitmodels/als_testpreds_pd_zipcode.pkl')"
   ]
  },
  {
   "cell_type": "code",
   "execution_count": 119,
   "metadata": {
    "collapsed": true
   },
   "outputs": [],
   "source": [
    "test_data_df['Event_Date'] = test_data_df['Event_Date'].astype('int64')//1e9"
   ]
  },
  {
   "cell_type": "code",
   "execution_count": 120,
   "metadata": {
    "collapsed": true
   },
   "outputs": [],
   "source": [
    "test_data_df['Event_Date'] = test_data_df['Event_Date'] * 1000000000"
   ]
  },
  {
   "cell_type": "code",
   "execution_count": 130,
   "metadata": {
    "collapsed": true
   },
   "outputs": [],
   "source": [
    "test_predictions = [(test_series_preds, 'SeriesID'), (test_type_preds, 'EventTypeID'), \n",
    "               (test_zipcode_preds, 'Venue_Zip'), (test_fee_preds, 'Total_Fee_Avg'), \n",
    "               (test_mile_preds, 'Miles2_Avg')]\n",
    "\n",
    "gb_test_data = test_data_df.copy()\n",
    "\n",
    "for item in test_predictions:\n",
    "    gb_test_data = merge_data(gb_test_data, item[0], item[1])"
   ]
  },
  {
   "cell_type": "code",
   "execution_count": 131,
   "metadata": {
    "collapsed": true
   },
   "outputs": [],
   "source": [
    "gb_test_data.sort_values(by='Event_Date', axis=0, ascending=True, inplace=True)"
   ]
  },
  {
   "cell_type": "code",
   "execution_count": 132,
   "metadata": {
    "collapsed": true
   },
   "outputs": [],
   "source": [
    "gb_test_data.reset_index(drop=True, inplace=True)"
   ]
  },
  {
   "cell_type": "code",
   "execution_count": 134,
   "metadata": {
    "collapsed": true
   },
   "outputs": [],
   "source": [
    "#need to fill nan values for and Fee and Mile Predictions (caused by cold starts during ALS modeling)\n",
    "gb_test_data['Total_Fee_Avg_prediction'] = gb_test_data['Total_Fee_Avg_prediction'].apply(\n",
    "                            lambda x: gb_test_data['Total_Fee_Avg_prediction'].mean() if pd.isnull(x) else x)\n",
    "#need to fill nan values for venue_zip_prediction and fee_prediction\n",
    "gb_test_data['Miles2_Avg_prediction'] = gb_test_data['Miles2_Avg_prediction'].apply(\n",
    "                            lambda x: gb_test_data['Miles2_Avg_prediction'].mean() if pd.isnull(x) else x)"
   ]
  },
  {
   "cell_type": "code",
   "execution_count": 135,
   "metadata": {},
   "outputs": [
    {
     "name": "stdout",
     "output_type": "stream",
     "text": [
      "<class 'pandas.core.frame.DataFrame'>\n",
      "RangeIndex: 185141 entries, 0 to 185140\n",
      "Data columns (total 9 columns):\n",
      "PersonID                    185141 non-null int64\n",
      "EventID                     185141 non-null int64\n",
      "Participated                185141 non-null int64\n",
      "Event_Date                  185141 non-null int64\n",
      "SeriesID_prediction         185141 non-null float64\n",
      "EventTypeID_prediction      185141 non-null float64\n",
      "Venue_Zip_prediction        185141 non-null float64\n",
      "Total_Fee_Avg_prediction    185141 non-null float64\n",
      "Miles2_Avg_prediction       185141 non-null float64\n",
      "dtypes: float64(5), int64(4)\n",
      "memory usage: 12.7 MB\n"
     ]
    }
   ],
   "source": [
    "gb_test_data.info()"
   ]
  },
  {
   "cell_type": "code",
   "execution_count": 138,
   "metadata": {
    "collapsed": true
   },
   "outputs": [],
   "source": [
    "X_gb_test = gb_test_data[['SeriesID_prediction', 'EventTypeID_prediction', 'Venue_Zip_prediction', 'Total_Fee_Avg_prediction', \n",
    "                      'Miles2_Avg_prediction']].copy()"
   ]
  },
  {
   "cell_type": "code",
   "execution_count": 139,
   "metadata": {
    "collapsed": true
   },
   "outputs": [],
   "source": [
    "y_gb_test = gb_test_data['Participated'].copy()"
   ]
  },
  {
   "cell_type": "code",
   "execution_count": 141,
   "metadata": {
    "scrolled": true
   },
   "outputs": [
    {
     "data": {
      "text/plain": [
       "(185141, 185141)"
      ]
     },
     "execution_count": 141,
     "metadata": {},
     "output_type": "execute_result"
    }
   ],
   "source": [
    "len(X_gb_test), len(y_gb_test)"
   ]
  },
  {
   "cell_type": "code",
   "execution_count": 142,
   "metadata": {
    "collapsed": true
   },
   "outputs": [],
   "source": [
    "with open('26OCT17_finalfitmodels/gb_test_data.pkl', 'w') as f:\n",
    "    pickle.dump(gb_test_data, f)"
   ]
  },
  {
   "cell_type": "markdown",
   "metadata": {},
   "source": [
    "## Train Gradient Boosted Regressor out of the box using prepared data"
   ]
  },
  {
   "cell_type": "code",
   "execution_count": 1,
   "metadata": {
    "collapsed": true
   },
   "outputs": [],
   "source": [
    "import cPickle as pickle"
   ]
  },
  {
   "cell_type": "code",
   "execution_count": 3,
   "metadata": {
    "collapsed": true
   },
   "outputs": [],
   "source": [
    "with open('26OCT17_finalfitmodels/gb_train_data.pkl', 'rb') as f:\n",
    "    gb_train_data = pickle.load(f)\n",
    "with open('26OCT17_finalfitmodels/gb_test_data.pkl', 'rb') as f:\n",
    "    gb_test_data = pickle.load(f)"
   ]
  },
  {
   "cell_type": "code",
   "execution_count": 4,
   "metadata": {
    "collapsed": true
   },
   "outputs": [],
   "source": [
    "X_gb_train = gb_train_data[['SeriesID_prediction', 'EventTypeID_prediction', 'Venue_Zip_prediction', 'Total_Fee_Avg_prediction', \n",
    "                      'Miles2_Avg_prediction']].iloc[:592450].copy()"
   ]
  },
  {
   "cell_type": "code",
   "execution_count": 5,
   "metadata": {
    "collapsed": true
   },
   "outputs": [],
   "source": [
    "y_gb_train = gb_train_data['Participated'].iloc[:592450].copy()"
   ]
  },
  {
   "cell_type": "code",
   "execution_count": 6,
   "metadata": {},
   "outputs": [
    {
     "data": {
      "text/plain": [
       "(592450, 592450)"
      ]
     },
     "execution_count": 6,
     "metadata": {},
     "output_type": "execute_result"
    }
   ],
   "source": [
    "len(X_gb_train), len(y_gb_train)"
   ]
  },
  {
   "cell_type": "code",
   "execution_count": 7,
   "metadata": {
    "collapsed": true
   },
   "outputs": [],
   "source": [
    "X_gb_val = gb_train_data[['SeriesID_prediction', 'EventTypeID_prediction', 'Venue_Zip_prediction', 'Total_Fee_Avg_prediction', \n",
    "                      'Miles2_Avg_prediction']].iloc[592450:].copy()"
   ]
  },
  {
   "cell_type": "code",
   "execution_count": 8,
   "metadata": {
    "collapsed": true
   },
   "outputs": [],
   "source": [
    "y_gb_val = gb_train_data['Participated'].iloc[592450:].copy()"
   ]
  },
  {
   "cell_type": "code",
   "execution_count": 9,
   "metadata": {
    "scrolled": true
   },
   "outputs": [
    {
     "data": {
      "text/plain": [
       "(148113, 148113)"
      ]
     },
     "execution_count": 9,
     "metadata": {},
     "output_type": "execute_result"
    }
   ],
   "source": [
    "len(X_gb_val), len(y_gb_val)"
   ]
  },
  {
   "cell_type": "code",
   "execution_count": 10,
   "metadata": {
    "collapsed": true
   },
   "outputs": [],
   "source": [
    "X_gb_test = gb_test_data[['SeriesID_prediction', 'EventTypeID_prediction', 'Venue_Zip_prediction', 'Total_Fee_Avg_prediction', \n",
    "                      'Miles2_Avg_prediction']].copy()"
   ]
  },
  {
   "cell_type": "code",
   "execution_count": 11,
   "metadata": {
    "collapsed": true
   },
   "outputs": [],
   "source": [
    "y_gb_test = gb_test_data['Participated'].copy()"
   ]
  },
  {
   "cell_type": "code",
   "execution_count": 12,
   "metadata": {
    "scrolled": true
   },
   "outputs": [
    {
     "data": {
      "text/plain": [
       "(185141, 185141)"
      ]
     },
     "execution_count": 12,
     "metadata": {},
     "output_type": "execute_result"
    }
   ],
   "source": [
    "len(X_gb_test), len(y_gb_test)"
   ]
  },
  {
   "cell_type": "code",
   "execution_count": 13,
   "metadata": {
    "collapsed": true
   },
   "outputs": [],
   "source": [
    "from sklearn.ensemble import GradientBoostingRegressor"
   ]
  },
  {
   "cell_type": "code",
   "execution_count": 14,
   "metadata": {
    "collapsed": true
   },
   "outputs": [],
   "source": [
    "gb_model = GradientBoostingRegressor()"
   ]
  },
  {
   "cell_type": "code",
   "execution_count": 15,
   "metadata": {},
   "outputs": [
    {
     "data": {
      "text/plain": [
       "GradientBoostingRegressor(alpha=0.9, criterion='friedman_mse', init=None,\n",
       "             learning_rate=0.1, loss='ls', max_depth=3, max_features=None,\n",
       "             max_leaf_nodes=None, min_impurity_decrease=0.0,\n",
       "             min_impurity_split=None, min_samples_leaf=1,\n",
       "             min_samples_split=2, min_weight_fraction_leaf=0.0,\n",
       "             n_estimators=100, presort='auto', random_state=None,\n",
       "             subsample=1.0, verbose=0, warm_start=False)"
      ]
     },
     "execution_count": 15,
     "metadata": {},
     "output_type": "execute_result"
    }
   ],
   "source": [
    "gb_model.fit(X_gb_train, y_gb_train)"
   ]
  },
  {
   "cell_type": "code",
   "execution_count": 16,
   "metadata": {},
   "outputs": [
    {
     "data": {
      "text/plain": [
       "0.50339517816543178"
      ]
     },
     "execution_count": 16,
     "metadata": {},
     "output_type": "execute_result"
    }
   ],
   "source": [
    "gb_model.score(X_gb_val, y_gb_val) #this uses r^2 for scoring....not helpful in my situation"
   ]
  },
  {
   "cell_type": "code",
   "execution_count": 17,
   "metadata": {
    "collapsed": true
   },
   "outputs": [],
   "source": [
    "import rank_eval"
   ]
  },
  {
   "cell_type": "markdown",
   "metadata": {},
   "source": [
    "The df needs to include columns for user, item, actual outcome, and predicted outcome\n",
    "    user, item, actual, prediction - strings indicating the name of each column in\n",
    "    the predictions file for use in the function"
   ]
  },
  {
   "cell_type": "code",
   "execution_count": 18,
   "metadata": {
    "collapsed": true
   },
   "outputs": [],
   "source": [
    "gb_valpreds = gb_model.predict(X_gb_val)"
   ]
  },
  {
   "cell_type": "code",
   "execution_count": 19,
   "metadata": {},
   "outputs": [
    {
     "data": {
      "text/plain": [
       "148113"
      ]
     },
     "execution_count": 19,
     "metadata": {},
     "output_type": "execute_result"
    }
   ],
   "source": [
    "len(gb_valpreds)"
   ]
  },
  {
   "cell_type": "code",
   "execution_count": 20,
   "metadata": {},
   "outputs": [
    {
     "data": {
      "text/plain": [
       "148113"
      ]
     },
     "execution_count": 20,
     "metadata": {},
     "output_type": "execute_result"
    }
   ],
   "source": [
    "len(y_gb_val)"
   ]
  },
  {
   "cell_type": "code",
   "execution_count": 22,
   "metadata": {
    "collapsed": true
   },
   "outputs": [],
   "source": [
    "import pandas as pd\n",
    "rankeval_valpreds_df = pd.DataFrame({'PersonID': gb_train_data['PersonID'].iloc[592450:], 'EventID': \n",
    "                                      gb_train_data['EventID'].iloc[592450:], 'Participated': y_gb_val.values, \n",
    "                                      'prediction': gb_valpreds})"
   ]
  },
  {
   "cell_type": "code",
   "execution_count": 23,
   "metadata": {},
   "outputs": [
    {
     "data": {
      "text/html": [
       "<div>\n",
       "<style>\n",
       "    .dataframe thead tr:only-child th {\n",
       "        text-align: right;\n",
       "    }\n",
       "\n",
       "    .dataframe thead th {\n",
       "        text-align: left;\n",
       "    }\n",
       "\n",
       "    .dataframe tbody tr th {\n",
       "        vertical-align: top;\n",
       "    }\n",
       "</style>\n",
       "<table border=\"1\" class=\"dataframe\">\n",
       "  <thead>\n",
       "    <tr style=\"text-align: right;\">\n",
       "      <th></th>\n",
       "      <th>EventID</th>\n",
       "      <th>Participated</th>\n",
       "      <th>PersonID</th>\n",
       "      <th>prediction</th>\n",
       "    </tr>\n",
       "  </thead>\n",
       "  <tbody>\n",
       "    <tr>\n",
       "      <th>592450</th>\n",
       "      <td>53</td>\n",
       "      <td>0</td>\n",
       "      <td>426</td>\n",
       "      <td>-0.001113</td>\n",
       "    </tr>\n",
       "    <tr>\n",
       "      <th>592451</th>\n",
       "      <td>53</td>\n",
       "      <td>0</td>\n",
       "      <td>427</td>\n",
       "      <td>-0.003255</td>\n",
       "    </tr>\n",
       "    <tr>\n",
       "      <th>592452</th>\n",
       "      <td>53</td>\n",
       "      <td>0</td>\n",
       "      <td>428</td>\n",
       "      <td>0.014946</td>\n",
       "    </tr>\n",
       "    <tr>\n",
       "      <th>592453</th>\n",
       "      <td>53</td>\n",
       "      <td>0</td>\n",
       "      <td>429</td>\n",
       "      <td>0.014946</td>\n",
       "    </tr>\n",
       "    <tr>\n",
       "      <th>592454</th>\n",
       "      <td>53</td>\n",
       "      <td>0</td>\n",
       "      <td>430</td>\n",
       "      <td>0.000141</td>\n",
       "    </tr>\n",
       "  </tbody>\n",
       "</table>\n",
       "</div>"
      ],
      "text/plain": [
       "        EventID  Participated  PersonID  prediction\n",
       "592450       53             0       426   -0.001113\n",
       "592451       53             0       427   -0.003255\n",
       "592452       53             0       428    0.014946\n",
       "592453       53             0       429    0.014946\n",
       "592454       53             0       430    0.000141"
      ]
     },
     "execution_count": 23,
     "metadata": {},
     "output_type": "execute_result"
    }
   ],
   "source": [
    "rankeval_valpreds_df.head()"
   ]
  },
  {
   "cell_type": "code",
   "execution_count": 24,
   "metadata": {
    "collapsed": true
   },
   "outputs": [],
   "source": [
    "rank_processing = rank_eval.RankEval(rankeval_valpreds_df, 'PersonID', 'EventID', 'Participated', 'prediction')"
   ]
  },
  {
   "cell_type": "code",
   "execution_count": 25,
   "metadata": {},
   "outputs": [
    {
     "data": {
      "text/plain": [
       "10.608256886757683"
      ]
     },
     "execution_count": 25,
     "metadata": {},
     "output_type": "execute_result"
    }
   ],
   "source": [
    "rank_processing.calc_test_rank()"
   ]
  },
  {
   "cell_type": "code",
   "execution_count": 26,
   "metadata": {},
   "outputs": [
    {
     "data": {
      "text/plain": [
       "36.005991800693678"
      ]
     },
     "execution_count": 26,
     "metadata": {},
     "output_type": "execute_result"
    }
   ],
   "source": [
    "rank_processing.calc_popular_rank()"
   ]
  },
  {
   "cell_type": "code",
   "execution_count": 27,
   "metadata": {},
   "outputs": [
    {
     "data": {
      "text/plain": [
       "{'alpha': 0.9,\n",
       " 'criterion': 'friedman_mse',\n",
       " 'init': None,\n",
       " 'learning_rate': 0.1,\n",
       " 'loss': 'ls',\n",
       " 'max_depth': 3,\n",
       " 'max_features': None,\n",
       " 'max_leaf_nodes': None,\n",
       " 'min_impurity_decrease': 0.0,\n",
       " 'min_impurity_split': None,\n",
       " 'min_samples_leaf': 1,\n",
       " 'min_samples_split': 2,\n",
       " 'min_weight_fraction_leaf': 0.0,\n",
       " 'n_estimators': 100,\n",
       " 'presort': 'auto',\n",
       " 'random_state': None,\n",
       " 'subsample': 1.0,\n",
       " 'verbose': 0,\n",
       " 'warm_start': False}"
      ]
     },
     "execution_count": 27,
     "metadata": {},
     "output_type": "execute_result"
    }
   ],
   "source": [
    "gb_model.get_params()"
   ]
  },
  {
   "cell_type": "code",
   "execution_count": 28,
   "metadata": {
    "scrolled": true
   },
   "outputs": [
    {
     "data": {
      "text/plain": [
       "[(0.17383546240891737, 'SeriesID_prediction'),\n",
       " (0.038370881059628832, 'EventTypeID_prediction'),\n",
       " (0.38350505599236889, 'Venue_Zip_prediction'),\n",
       " (0.26136761331297031, 'Total_Fee_Avg_prediction'),\n",
       " (0.14292098722611465, 'Miles2_Avg_prediction')]"
      ]
     },
     "execution_count": 28,
     "metadata": {},
     "output_type": "execute_result"
    }
   ],
   "source": [
    "zip(gb_model.feature_importances_, X_gb_train.columns.values)"
   ]
  },
  {
   "cell_type": "markdown",
   "metadata": {},
   "source": [
    "## Train Gradient Boosted Regressor with some Params Tweaked:"
   ]
  },
  {
   "cell_type": "code",
   "execution_count": 161,
   "metadata": {
    "collapsed": true
   },
   "outputs": [],
   "source": [
    "gb_model_v2 = GradientBoostingRegressor(loss='ls', learning_rate=.01, n_estimators=1000, subsample=0.5, max_depth=10)"
   ]
  },
  {
   "cell_type": "code",
   "execution_count": 162,
   "metadata": {},
   "outputs": [
    {
     "data": {
      "text/plain": [
       "GradientBoostingRegressor(alpha=0.9, criterion='friedman_mse', init=None,\n",
       "             learning_rate=0.01, loss='ls', max_depth=10,\n",
       "             max_features=None, max_leaf_nodes=None,\n",
       "             min_impurity_decrease=0.0, min_impurity_split=None,\n",
       "             min_samples_leaf=1, min_samples_split=2,\n",
       "             min_weight_fraction_leaf=0.0, n_estimators=1000,\n",
       "             presort='auto', random_state=None, subsample=0.5, verbose=0,\n",
       "             warm_start=False)"
      ]
     },
     "execution_count": 162,
     "metadata": {},
     "output_type": "execute_result"
    }
   ],
   "source": [
    "gb_model_v2.fit(X_gb_train, y_gb_train)"
   ]
  },
  {
   "cell_type": "code",
   "execution_count": 163,
   "metadata": {},
   "outputs": [
    {
     "data": {
      "text/plain": [
       "0.54893401872982728"
      ]
     },
     "execution_count": 163,
     "metadata": {},
     "output_type": "execute_result"
    }
   ],
   "source": [
    "gb_model_v2.score(X_gb_val, y_gb_val) #this uses r^2 for scoring....not helpful in my situation"
   ]
  },
  {
   "cell_type": "markdown",
   "metadata": {},
   "source": [
    "The df needs to include columns for user, item, actual outcome, and predicted outcome\n",
    "    user, item, actual, prediction - strings indicating the name of each column in\n",
    "    the predictions file for use in the function"
   ]
  },
  {
   "cell_type": "code",
   "execution_count": 164,
   "metadata": {
    "collapsed": true
   },
   "outputs": [],
   "source": [
    "gb_valpreds_v2 = gb_model_v2.predict(X_gb_val)"
   ]
  },
  {
   "cell_type": "code",
   "execution_count": 165,
   "metadata": {},
   "outputs": [
    {
     "data": {
      "text/plain": [
       "148113"
      ]
     },
     "execution_count": 165,
     "metadata": {},
     "output_type": "execute_result"
    }
   ],
   "source": [
    "len(gb_valpreds_v2)"
   ]
  },
  {
   "cell_type": "code",
   "execution_count": 166,
   "metadata": {},
   "outputs": [
    {
     "data": {
      "text/plain": [
       "148113"
      ]
     },
     "execution_count": 166,
     "metadata": {},
     "output_type": "execute_result"
    }
   ],
   "source": [
    "len(y_gb_val)"
   ]
  },
  {
   "cell_type": "code",
   "execution_count": 167,
   "metadata": {
    "collapsed": true
   },
   "outputs": [],
   "source": [
    "rankeval_valpreds_df_v2 = pd.DataFrame({'PersonID': gb_train_data['PersonID'].iloc[592450:], 'EventID': \n",
    "                                      gb_train_data['EventID'].iloc[592450:], 'Participated': y_gb_val.values, \n",
    "                                      'prediction': gb_valpreds_v2})"
   ]
  },
  {
   "cell_type": "code",
   "execution_count": 168,
   "metadata": {},
   "outputs": [
    {
     "data": {
      "text/html": [
       "<div>\n",
       "<style>\n",
       "    .dataframe thead tr:only-child th {\n",
       "        text-align: right;\n",
       "    }\n",
       "\n",
       "    .dataframe thead th {\n",
       "        text-align: left;\n",
       "    }\n",
       "\n",
       "    .dataframe tbody tr th {\n",
       "        vertical-align: top;\n",
       "    }\n",
       "</style>\n",
       "<table border=\"1\" class=\"dataframe\">\n",
       "  <thead>\n",
       "    <tr style=\"text-align: right;\">\n",
       "      <th></th>\n",
       "      <th>EventID</th>\n",
       "      <th>Participated</th>\n",
       "      <th>PersonID</th>\n",
       "      <th>prediction</th>\n",
       "    </tr>\n",
       "  </thead>\n",
       "  <tbody>\n",
       "    <tr>\n",
       "      <th>592450</th>\n",
       "      <td>53</td>\n",
       "      <td>0</td>\n",
       "      <td>426</td>\n",
       "      <td>1.647883e-05</td>\n",
       "    </tr>\n",
       "    <tr>\n",
       "      <th>592451</th>\n",
       "      <td>53</td>\n",
       "      <td>0</td>\n",
       "      <td>427</td>\n",
       "      <td>-2.141425e-04</td>\n",
       "    </tr>\n",
       "    <tr>\n",
       "      <th>592452</th>\n",
       "      <td>53</td>\n",
       "      <td>0</td>\n",
       "      <td>428</td>\n",
       "      <td>9.218641e-04</td>\n",
       "    </tr>\n",
       "    <tr>\n",
       "      <th>592453</th>\n",
       "      <td>53</td>\n",
       "      <td>0</td>\n",
       "      <td>429</td>\n",
       "      <td>9.218641e-04</td>\n",
       "    </tr>\n",
       "    <tr>\n",
       "      <th>592454</th>\n",
       "      <td>53</td>\n",
       "      <td>0</td>\n",
       "      <td>430</td>\n",
       "      <td>6.074579e-07</td>\n",
       "    </tr>\n",
       "  </tbody>\n",
       "</table>\n",
       "</div>"
      ],
      "text/plain": [
       "        EventID  Participated  PersonID    prediction\n",
       "592450       53             0       426  1.647883e-05\n",
       "592451       53             0       427 -2.141425e-04\n",
       "592452       53             0       428  9.218641e-04\n",
       "592453       53             0       429  9.218641e-04\n",
       "592454       53             0       430  6.074579e-07"
      ]
     },
     "execution_count": 168,
     "metadata": {},
     "output_type": "execute_result"
    }
   ],
   "source": [
    "rankeval_valpreds_df_v2.head()"
   ]
  },
  {
   "cell_type": "code",
   "execution_count": 169,
   "metadata": {
    "collapsed": true
   },
   "outputs": [],
   "source": [
    "rank_processing_v2 = rank_eval.RankEval(rankeval_valpreds_df_v2, 'PersonID', 'EventID', 'Participated', 'prediction')"
   ]
  },
  {
   "cell_type": "code",
   "execution_count": 170,
   "metadata": {},
   "outputs": [
    {
     "data": {
      "text/plain": [
       "13.21503460962106"
      ]
     },
     "execution_count": 170,
     "metadata": {},
     "output_type": "execute_result"
    }
   ],
   "source": [
    "rank_processing_v2.calc_test_rank()"
   ]
  },
  {
   "cell_type": "code",
   "execution_count": 171,
   "metadata": {},
   "outputs": [
    {
     "data": {
      "text/plain": [
       "36.005991800693678"
      ]
     },
     "execution_count": 171,
     "metadata": {},
     "output_type": "execute_result"
    }
   ],
   "source": [
    "rank_processing_v2.calc_popular_rank()"
   ]
  },
  {
   "cell_type": "code",
   "execution_count": 172,
   "metadata": {},
   "outputs": [
    {
     "data": {
      "text/plain": [
       "{'alpha': 0.9,\n",
       " 'criterion': 'friedman_mse',\n",
       " 'init': None,\n",
       " 'learning_rate': 0.01,\n",
       " 'loss': 'ls',\n",
       " 'max_depth': 10,\n",
       " 'max_features': None,\n",
       " 'max_leaf_nodes': None,\n",
       " 'min_impurity_decrease': 0.0,\n",
       " 'min_impurity_split': None,\n",
       " 'min_samples_leaf': 1,\n",
       " 'min_samples_split': 2,\n",
       " 'min_weight_fraction_leaf': 0.0,\n",
       " 'n_estimators': 1000,\n",
       " 'presort': 'auto',\n",
       " 'random_state': None,\n",
       " 'subsample': 0.5,\n",
       " 'verbose': 0,\n",
       " 'warm_start': False}"
      ]
     },
     "execution_count": 172,
     "metadata": {},
     "output_type": "execute_result"
    }
   ],
   "source": [
    "gb_model_v2.get_params()"
   ]
  },
  {
   "cell_type": "code",
   "execution_count": 173,
   "metadata": {
    "scrolled": false
   },
   "outputs": [
    {
     "data": {
      "text/plain": [
       "[(0.17878788265969475, 'SeriesID_prediction'),\n",
       " (0.071173449515895104, 'EventTypeID_prediction'),\n",
       " (0.3104463373768348, 'Venue_Zip_prediction'),\n",
       " (0.26937640589463835, 'Total_Fee_Avg_prediction'),\n",
       " (0.17021592455293708, 'Miles2_Avg_prediction')]"
      ]
     },
     "execution_count": 173,
     "metadata": {},
     "output_type": "execute_result"
    }
   ],
   "source": [
    "zip(gb_model_v2.feature_importances_, X_gb_train.columns.values)"
   ]
  },
  {
   "cell_type": "markdown",
   "metadata": {
    "collapsed": true
   },
   "source": [
    "## v3 Gradient Boost Fit"
   ]
  },
  {
   "cell_type": "code",
   "execution_count": 29,
   "metadata": {
    "collapsed": true
   },
   "outputs": [],
   "source": [
    "gb_model_v3 = GradientBoostingRegressor(loss='ls', learning_rate=.1, n_estimators=500, subsample=0.5, max_depth=5)"
   ]
  },
  {
   "cell_type": "code",
   "execution_count": 30,
   "metadata": {},
   "outputs": [
    {
     "data": {
      "text/plain": [
       "GradientBoostingRegressor(alpha=0.9, criterion='friedman_mse', init=None,\n",
       "             learning_rate=0.1, loss='ls', max_depth=5, max_features=None,\n",
       "             max_leaf_nodes=None, min_impurity_decrease=0.0,\n",
       "             min_impurity_split=None, min_samples_leaf=1,\n",
       "             min_samples_split=2, min_weight_fraction_leaf=0.0,\n",
       "             n_estimators=500, presort='auto', random_state=None,\n",
       "             subsample=0.5, verbose=0, warm_start=False)"
      ]
     },
     "execution_count": 30,
     "metadata": {},
     "output_type": "execute_result"
    }
   ],
   "source": [
    "gb_model_v3.fit(X_gb_train, y_gb_train)"
   ]
  },
  {
   "cell_type": "code",
   "execution_count": 31,
   "metadata": {},
   "outputs": [
    {
     "data": {
      "text/plain": [
       "0.55673198895920151"
      ]
     },
     "execution_count": 31,
     "metadata": {},
     "output_type": "execute_result"
    }
   ],
   "source": [
    "gb_model_v3.score(X_gb_val, y_gb_val) #this uses r^2 for scoring....not helpful in my situation"
   ]
  },
  {
   "cell_type": "markdown",
   "metadata": {},
   "source": [
    "The df needs to include columns for user, item, actual outcome, and predicted outcome\n",
    "    user, item, actual, prediction - strings indicating the name of each column in\n",
    "    the predictions file for use in the function"
   ]
  },
  {
   "cell_type": "code",
   "execution_count": 32,
   "metadata": {
    "collapsed": true
   },
   "outputs": [],
   "source": [
    "gb_valpreds_v3 = gb_model_v3.predict(X_gb_val)"
   ]
  },
  {
   "cell_type": "code",
   "execution_count": 33,
   "metadata": {},
   "outputs": [
    {
     "data": {
      "text/plain": [
       "148113"
      ]
     },
     "execution_count": 33,
     "metadata": {},
     "output_type": "execute_result"
    }
   ],
   "source": [
    "len(gb_valpreds_v3)"
   ]
  },
  {
   "cell_type": "code",
   "execution_count": 34,
   "metadata": {},
   "outputs": [
    {
     "data": {
      "text/plain": [
       "148113"
      ]
     },
     "execution_count": 34,
     "metadata": {},
     "output_type": "execute_result"
    }
   ],
   "source": [
    "len(y_gb_val)"
   ]
  },
  {
   "cell_type": "code",
   "execution_count": 36,
   "metadata": {
    "collapsed": true
   },
   "outputs": [],
   "source": [
    "rankeval_valpreds_df_v3 = pd.DataFrame({'PersonID': gb_train_data['PersonID'].iloc[592450:], 'EventID': \n",
    "                                      gb_train_data['EventID'].iloc[592450:], 'Participated': y_gb_val.values, \n",
    "                                      'prediction': gb_valpreds_v3})"
   ]
  },
  {
   "cell_type": "code",
   "execution_count": 37,
   "metadata": {},
   "outputs": [
    {
     "data": {
      "text/html": [
       "<div>\n",
       "<style>\n",
       "    .dataframe thead tr:only-child th {\n",
       "        text-align: right;\n",
       "    }\n",
       "\n",
       "    .dataframe thead th {\n",
       "        text-align: left;\n",
       "    }\n",
       "\n",
       "    .dataframe tbody tr th {\n",
       "        vertical-align: top;\n",
       "    }\n",
       "</style>\n",
       "<table border=\"1\" class=\"dataframe\">\n",
       "  <thead>\n",
       "    <tr style=\"text-align: right;\">\n",
       "      <th></th>\n",
       "      <th>EventID</th>\n",
       "      <th>Participated</th>\n",
       "      <th>PersonID</th>\n",
       "      <th>prediction</th>\n",
       "    </tr>\n",
       "  </thead>\n",
       "  <tbody>\n",
       "    <tr>\n",
       "      <th>592450</th>\n",
       "      <td>53</td>\n",
       "      <td>0</td>\n",
       "      <td>426</td>\n",
       "      <td>-0.001380</td>\n",
       "    </tr>\n",
       "    <tr>\n",
       "      <th>592451</th>\n",
       "      <td>53</td>\n",
       "      <td>0</td>\n",
       "      <td>427</td>\n",
       "      <td>-0.000540</td>\n",
       "    </tr>\n",
       "    <tr>\n",
       "      <th>592452</th>\n",
       "      <td>53</td>\n",
       "      <td>0</td>\n",
       "      <td>428</td>\n",
       "      <td>-0.006867</td>\n",
       "    </tr>\n",
       "    <tr>\n",
       "      <th>592453</th>\n",
       "      <td>53</td>\n",
       "      <td>0</td>\n",
       "      <td>429</td>\n",
       "      <td>-0.006867</td>\n",
       "    </tr>\n",
       "    <tr>\n",
       "      <th>592454</th>\n",
       "      <td>53</td>\n",
       "      <td>0</td>\n",
       "      <td>430</td>\n",
       "      <td>-0.000083</td>\n",
       "    </tr>\n",
       "  </tbody>\n",
       "</table>\n",
       "</div>"
      ],
      "text/plain": [
       "        EventID  Participated  PersonID  prediction\n",
       "592450       53             0       426   -0.001380\n",
       "592451       53             0       427   -0.000540\n",
       "592452       53             0       428   -0.006867\n",
       "592453       53             0       429   -0.006867\n",
       "592454       53             0       430   -0.000083"
      ]
     },
     "execution_count": 37,
     "metadata": {},
     "output_type": "execute_result"
    }
   ],
   "source": [
    "rankeval_valpreds_df_v3.head()"
   ]
  },
  {
   "cell_type": "code",
   "execution_count": 38,
   "metadata": {
    "collapsed": true
   },
   "outputs": [],
   "source": [
    "rank_processing_v3 = rank_eval.RankEval(rankeval_valpreds_df_v3, 'PersonID', 'EventID', 'Participated', 'prediction')"
   ]
  },
  {
   "cell_type": "code",
   "execution_count": 39,
   "metadata": {},
   "outputs": [
    {
     "data": {
      "text/plain": [
       "12.844999456893197"
      ]
     },
     "execution_count": 39,
     "metadata": {},
     "output_type": "execute_result"
    }
   ],
   "source": [
    "rank_processing_v3.calc_test_rank()"
   ]
  },
  {
   "cell_type": "code",
   "execution_count": 40,
   "metadata": {},
   "outputs": [
    {
     "data": {
      "text/plain": [
       "36.005991800693678"
      ]
     },
     "execution_count": 40,
     "metadata": {},
     "output_type": "execute_result"
    }
   ],
   "source": [
    "rank_processing_v3.calc_popular_rank()"
   ]
  },
  {
   "cell_type": "code",
   "execution_count": 41,
   "metadata": {},
   "outputs": [
    {
     "data": {
      "text/plain": [
       "{'alpha': 0.9,\n",
       " 'criterion': 'friedman_mse',\n",
       " 'init': None,\n",
       " 'learning_rate': 0.1,\n",
       " 'loss': 'ls',\n",
       " 'max_depth': 5,\n",
       " 'max_features': None,\n",
       " 'max_leaf_nodes': None,\n",
       " 'min_impurity_decrease': 0.0,\n",
       " 'min_impurity_split': None,\n",
       " 'min_samples_leaf': 1,\n",
       " 'min_samples_split': 2,\n",
       " 'min_weight_fraction_leaf': 0.0,\n",
       " 'n_estimators': 500,\n",
       " 'presort': 'auto',\n",
       " 'random_state': None,\n",
       " 'subsample': 0.5,\n",
       " 'verbose': 0,\n",
       " 'warm_start': False}"
      ]
     },
     "execution_count": 41,
     "metadata": {},
     "output_type": "execute_result"
    }
   ],
   "source": [
    "gb_model_v3.get_params()"
   ]
  },
  {
   "cell_type": "code",
   "execution_count": 42,
   "metadata": {
    "scrolled": false
   },
   "outputs": [
    {
     "data": {
      "text/plain": [
       "[(0.15430188615509788, 'SeriesID_prediction'),\n",
       " (0.066959413246221539, 'EventTypeID_prediction'),\n",
       " (0.38575525941974143, 'Venue_Zip_prediction'),\n",
       " (0.23845142532476507, 'Total_Fee_Avg_prediction'),\n",
       " (0.15453201585417414, 'Miles2_Avg_prediction')]"
      ]
     },
     "execution_count": 42,
     "metadata": {},
     "output_type": "execute_result"
    }
   ],
   "source": [
    "zip(gb_model_v3.feature_importances_, X_gb_train.columns.values)"
   ]
  },
  {
   "cell_type": "code",
   "execution_count": null,
   "metadata": {
    "collapsed": true
   },
   "outputs": [],
   "source": []
  },
  {
   "cell_type": "markdown",
   "metadata": {
    "collapsed": true
   },
   "source": [
    "## v5 Gradient Boost Fit - final pick"
   ]
  },
  {
   "cell_type": "code",
   "execution_count": 108,
   "metadata": {
    "collapsed": true
   },
   "outputs": [],
   "source": [
    "gb_model_v4 = GradientBoostingRegressor(loss='ls', learning_rate=.01, n_estimators=100, subsample=0.5, max_depth=3)"
   ]
  },
  {
   "cell_type": "code",
   "execution_count": 109,
   "metadata": {},
   "outputs": [
    {
     "data": {
      "text/plain": [
       "GradientBoostingRegressor(alpha=0.9, criterion='friedman_mse', init=None,\n",
       "             learning_rate=0.01, loss='ls', max_depth=3, max_features=None,\n",
       "             max_leaf_nodes=None, min_impurity_decrease=0.0,\n",
       "             min_impurity_split=None, min_samples_leaf=1,\n",
       "             min_samples_split=2, min_weight_fraction_leaf=0.0,\n",
       "             n_estimators=100, presort='auto', random_state=None,\n",
       "             subsample=0.5, verbose=0, warm_start=False)"
      ]
     },
     "execution_count": 109,
     "metadata": {},
     "output_type": "execute_result"
    }
   ],
   "source": [
    "gb_model_v4.fit(X_gb_train, y_gb_train)"
   ]
  },
  {
   "cell_type": "code",
   "execution_count": 110,
   "metadata": {},
   "outputs": [
    {
     "data": {
      "text/plain": [
       "0.36161776468476214"
      ]
     },
     "execution_count": 110,
     "metadata": {},
     "output_type": "execute_result"
    }
   ],
   "source": [
    "gb_model_v4.score(X_gb_val, y_gb_val) #this uses r^2 for scoring....not helpful in my situation"
   ]
  },
  {
   "cell_type": "markdown",
   "metadata": {},
   "source": [
    "The df needs to include columns for user, item, actual outcome, and predicted outcome\n",
    "    user, item, actual, prediction - strings indicating the name of each column in\n",
    "    the predictions file for use in the function"
   ]
  },
  {
   "cell_type": "code",
   "execution_count": 111,
   "metadata": {
    "collapsed": true
   },
   "outputs": [],
   "source": [
    "gb_valpreds_v4 = gb_model_v4.predict(X_gb_val)"
   ]
  },
  {
   "cell_type": "code",
   "execution_count": 112,
   "metadata": {},
   "outputs": [
    {
     "data": {
      "text/plain": [
       "148113"
      ]
     },
     "execution_count": 112,
     "metadata": {},
     "output_type": "execute_result"
    }
   ],
   "source": [
    "len(gb_valpreds_v4)"
   ]
  },
  {
   "cell_type": "code",
   "execution_count": 113,
   "metadata": {},
   "outputs": [
    {
     "data": {
      "text/plain": [
       "148113"
      ]
     },
     "execution_count": 113,
     "metadata": {},
     "output_type": "execute_result"
    }
   ],
   "source": [
    "len(y_gb_val)"
   ]
  },
  {
   "cell_type": "code",
   "execution_count": 114,
   "metadata": {
    "collapsed": true
   },
   "outputs": [],
   "source": [
    "rankeval_valpreds_df_v4 = pd.DataFrame({'PersonID': gb_train_data['PersonID'].iloc[592450:], 'EventID': \n",
    "                                      gb_train_data['EventID'].iloc[592450:], 'Participated': y_gb_val.values, \n",
    "                                      'prediction': gb_valpreds_v4})"
   ]
  },
  {
   "cell_type": "code",
   "execution_count": 115,
   "metadata": {},
   "outputs": [
    {
     "data": {
      "text/html": [
       "<div>\n",
       "<style>\n",
       "    .dataframe thead tr:only-child th {\n",
       "        text-align: right;\n",
       "    }\n",
       "\n",
       "    .dataframe thead th {\n",
       "        text-align: left;\n",
       "    }\n",
       "\n",
       "    .dataframe tbody tr th {\n",
       "        vertical-align: top;\n",
       "    }\n",
       "</style>\n",
       "<table border=\"1\" class=\"dataframe\">\n",
       "  <thead>\n",
       "    <tr style=\"text-align: right;\">\n",
       "      <th></th>\n",
       "      <th>EventID</th>\n",
       "      <th>Participated</th>\n",
       "      <th>PersonID</th>\n",
       "      <th>prediction</th>\n",
       "    </tr>\n",
       "  </thead>\n",
       "  <tbody>\n",
       "    <tr>\n",
       "      <th>592450</th>\n",
       "      <td>53</td>\n",
       "      <td>0</td>\n",
       "      <td>426</td>\n",
       "      <td>0.006887</td>\n",
       "    </tr>\n",
       "    <tr>\n",
       "      <th>592451</th>\n",
       "      <td>53</td>\n",
       "      <td>0</td>\n",
       "      <td>427</td>\n",
       "      <td>0.006887</td>\n",
       "    </tr>\n",
       "    <tr>\n",
       "      <th>592452</th>\n",
       "      <td>53</td>\n",
       "      <td>0</td>\n",
       "      <td>428</td>\n",
       "      <td>0.008846</td>\n",
       "    </tr>\n",
       "    <tr>\n",
       "      <th>592453</th>\n",
       "      <td>53</td>\n",
       "      <td>0</td>\n",
       "      <td>429</td>\n",
       "      <td>0.008846</td>\n",
       "    </tr>\n",
       "    <tr>\n",
       "      <th>592454</th>\n",
       "      <td>53</td>\n",
       "      <td>0</td>\n",
       "      <td>430</td>\n",
       "      <td>0.006887</td>\n",
       "    </tr>\n",
       "  </tbody>\n",
       "</table>\n",
       "</div>"
      ],
      "text/plain": [
       "        EventID  Participated  PersonID  prediction\n",
       "592450       53             0       426    0.006887\n",
       "592451       53             0       427    0.006887\n",
       "592452       53             0       428    0.008846\n",
       "592453       53             0       429    0.008846\n",
       "592454       53             0       430    0.006887"
      ]
     },
     "execution_count": 115,
     "metadata": {},
     "output_type": "execute_result"
    }
   ],
   "source": [
    "rankeval_valpreds_df_v4.head()"
   ]
  },
  {
   "cell_type": "code",
   "execution_count": 116,
   "metadata": {
    "collapsed": true
   },
   "outputs": [],
   "source": [
    "rank_processing_v4 = rank_eval.RankEval(rankeval_valpreds_df_v4, 'PersonID', 'EventID', 'Participated', 'prediction')"
   ]
  },
  {
   "cell_type": "code",
   "execution_count": 117,
   "metadata": {},
   "outputs": [
    {
     "data": {
      "text/plain": [
       "7.6624270293472847"
      ]
     },
     "execution_count": 117,
     "metadata": {},
     "output_type": "execute_result"
    }
   ],
   "source": [
    "rank_processing_v4.calc_test_rank()"
   ]
  },
  {
   "cell_type": "code",
   "execution_count": 118,
   "metadata": {},
   "outputs": [
    {
     "data": {
      "text/plain": [
       "36.005991800693678"
      ]
     },
     "execution_count": 118,
     "metadata": {},
     "output_type": "execute_result"
    }
   ],
   "source": [
    "rank_processing_v4.calc_popular_rank()"
   ]
  },
  {
   "cell_type": "code",
   "execution_count": 119,
   "metadata": {},
   "outputs": [
    {
     "data": {
      "text/plain": [
       "{'alpha': 0.9,\n",
       " 'criterion': 'friedman_mse',\n",
       " 'init': None,\n",
       " 'learning_rate': 0.01,\n",
       " 'loss': 'ls',\n",
       " 'max_depth': 3,\n",
       " 'max_features': None,\n",
       " 'max_leaf_nodes': None,\n",
       " 'min_impurity_decrease': 0.0,\n",
       " 'min_impurity_split': None,\n",
       " 'min_samples_leaf': 1,\n",
       " 'min_samples_split': 2,\n",
       " 'min_weight_fraction_leaf': 0.0,\n",
       " 'n_estimators': 100,\n",
       " 'presort': 'auto',\n",
       " 'random_state': None,\n",
       " 'subsample': 0.5,\n",
       " 'verbose': 0,\n",
       " 'warm_start': False}"
      ]
     },
     "execution_count": 119,
     "metadata": {},
     "output_type": "execute_result"
    }
   ],
   "source": [
    "gb_model_v4.get_params()"
   ]
  },
  {
   "cell_type": "code",
   "execution_count": 120,
   "metadata": {
    "scrolled": false
   },
   "outputs": [
    {
     "data": {
      "text/plain": [
       "[(0.063476210592455923, 'SeriesID_prediction'),\n",
       " (0.013552982432258434, 'EventTypeID_prediction'),\n",
       " (0.35382244573137867, 'Venue_Zip_prediction'),\n",
       " (0.42651626602072878, 'Total_Fee_Avg_prediction'),\n",
       " (0.14263209522317813, 'Miles2_Avg_prediction')]"
      ]
     },
     "execution_count": 120,
     "metadata": {},
     "output_type": "execute_result"
    }
   ],
   "source": [
    "zip(gb_model_v4.feature_importances_, X_gb_train.columns.values)"
   ]
  },
  {
   "cell_type": "code",
   "execution_count": 123,
   "metadata": {},
   "outputs": [],
   "source": [
    "with open ('26OCT17_finalfitmodels/gb_model_trainfit', 'w') as f:\n",
    "    pickle.dump(gb_model_v4, f)\n",
    "with open ('26OCT17_finalfitmodels/gb_valpreds_trainfit', 'w') as f:\n",
    "    pickle.dump(gb_valpreds_v4, f)"
   ]
  },
  {
   "cell_type": "markdown",
   "metadata": {
    "collapsed": true
   },
   "source": [
    "## Refit selected model with train+val data:"
   ]
  },
  {
   "cell_type": "code",
   "execution_count": 124,
   "metadata": {
    "collapsed": true
   },
   "outputs": [],
   "source": [
    "X_gb_trainval = gb_train_data[['SeriesID_prediction', 'EventTypeID_prediction', 'Venue_Zip_prediction', 'Total_Fee_Avg_prediction', \n",
    "                      'Miles2_Avg_prediction']]"
   ]
  },
  {
   "cell_type": "code",
   "execution_count": 125,
   "metadata": {
    "collapsed": true
   },
   "outputs": [],
   "source": [
    "y_gb_trainval = gb_train_data['Participated']"
   ]
  },
  {
   "cell_type": "code",
   "execution_count": 209,
   "metadata": {
    "collapsed": true
   },
   "outputs": [],
   "source": [
    "gb_model_final = GradientBoostingRegressor(loss='ls', learning_rate=.01, n_estimators=100, subsample=0.5, max_depth=3)"
   ]
  },
  {
   "cell_type": "code",
   "execution_count": 210,
   "metadata": {},
   "outputs": [
    {
     "data": {
      "text/plain": [
       "GradientBoostingRegressor(alpha=0.9, criterion='friedman_mse', init=None,\n",
       "             learning_rate=0.01, loss='ls', max_depth=3, max_features=None,\n",
       "             max_leaf_nodes=None, min_impurity_decrease=0.0,\n",
       "             min_impurity_split=None, min_samples_leaf=1,\n",
       "             min_samples_split=2, min_weight_fraction_leaf=0.0,\n",
       "             n_estimators=100, presort='auto', random_state=None,\n",
       "             subsample=0.5, verbose=0, warm_start=False)"
      ]
     },
     "execution_count": 210,
     "metadata": {},
     "output_type": "execute_result"
    }
   ],
   "source": [
    "gb_model_final.fit(X_gb_trainval, y_gb_trainval)"
   ]
  },
  {
   "cell_type": "code",
   "execution_count": 211,
   "metadata": {},
   "outputs": [
    {
     "data": {
      "text/plain": [
       "-0.024690833563853154"
      ]
     },
     "execution_count": 211,
     "metadata": {},
     "output_type": "execute_result"
    }
   ],
   "source": [
    "gb_model_final.score(X_gb_test, y_gb_test) #this uses r^2 for scoring....not helpful in my situation"
   ]
  },
  {
   "cell_type": "markdown",
   "metadata": {},
   "source": [
    "The df needs to include columns for user, item, actual outcome, and predicted outcome\n",
    "    user, item, actual, prediction - strings indicating the name of each column in\n",
    "    the predictions file for use in the function"
   ]
  },
  {
   "cell_type": "code",
   "execution_count": 212,
   "metadata": {
    "collapsed": true
   },
   "outputs": [],
   "source": [
    "gb_testpreds_final = gb_model_final.predict(X_gb_test)"
   ]
  },
  {
   "cell_type": "code",
   "execution_count": 213,
   "metadata": {},
   "outputs": [
    {
     "data": {
      "text/plain": [
       "185141"
      ]
     },
     "execution_count": 213,
     "metadata": {},
     "output_type": "execute_result"
    }
   ],
   "source": [
    "len(gb_testpreds_final)"
   ]
  },
  {
   "cell_type": "code",
   "execution_count": 214,
   "metadata": {},
   "outputs": [
    {
     "data": {
      "text/plain": [
       "185141"
      ]
     },
     "execution_count": 214,
     "metadata": {},
     "output_type": "execute_result"
    }
   ],
   "source": [
    "len(y_gb_test)"
   ]
  },
  {
   "cell_type": "code",
   "execution_count": 215,
   "metadata": {},
   "outputs": [
    {
     "data": {
      "text/plain": [
       "185141"
      ]
     },
     "execution_count": 215,
     "metadata": {},
     "output_type": "execute_result"
    }
   ],
   "source": [
    "len(gb_test_data)"
   ]
  },
  {
   "cell_type": "code",
   "execution_count": 216,
   "metadata": {
    "collapsed": true
   },
   "outputs": [],
   "source": [
    "rankeval_testpreds_df_final = pd.DataFrame({'PersonID': gb_test_data['PersonID'], 'EventID': \n",
    "                                      gb_test_data['EventID'], 'Participated': y_gb_test.values, \n",
    "                                      'prediction': gb_testpreds_final})"
   ]
  },
  {
   "cell_type": "code",
   "execution_count": 217,
   "metadata": {},
   "outputs": [
    {
     "data": {
      "text/html": [
       "<div>\n",
       "<style>\n",
       "    .dataframe thead tr:only-child th {\n",
       "        text-align: right;\n",
       "    }\n",
       "\n",
       "    .dataframe thead th {\n",
       "        text-align: left;\n",
       "    }\n",
       "\n",
       "    .dataframe tbody tr th {\n",
       "        vertical-align: top;\n",
       "    }\n",
       "</style>\n",
       "<table border=\"1\" class=\"dataframe\">\n",
       "  <thead>\n",
       "    <tr style=\"text-align: right;\">\n",
       "      <th></th>\n",
       "      <th>EventID</th>\n",
       "      <th>Participated</th>\n",
       "      <th>PersonID</th>\n",
       "      <th>prediction</th>\n",
       "    </tr>\n",
       "  </thead>\n",
       "  <tbody>\n",
       "    <tr>\n",
       "      <th>0</th>\n",
       "      <td>67</td>\n",
       "      <td>0</td>\n",
       "      <td>4304</td>\n",
       "      <td>0.006862</td>\n",
       "    </tr>\n",
       "    <tr>\n",
       "      <th>1</th>\n",
       "      <td>67</td>\n",
       "      <td>0</td>\n",
       "      <td>2921</td>\n",
       "      <td>0.307445</td>\n",
       "    </tr>\n",
       "    <tr>\n",
       "      <th>2</th>\n",
       "      <td>67</td>\n",
       "      <td>0</td>\n",
       "      <td>2920</td>\n",
       "      <td>0.006862</td>\n",
       "    </tr>\n",
       "    <tr>\n",
       "      <th>3</th>\n",
       "      <td>67</td>\n",
       "      <td>0</td>\n",
       "      <td>2919</td>\n",
       "      <td>0.006862</td>\n",
       "    </tr>\n",
       "    <tr>\n",
       "      <th>4</th>\n",
       "      <td>67</td>\n",
       "      <td>0</td>\n",
       "      <td>2917</td>\n",
       "      <td>0.008913</td>\n",
       "    </tr>\n",
       "  </tbody>\n",
       "</table>\n",
       "</div>"
      ],
      "text/plain": [
       "   EventID  Participated  PersonID  prediction\n",
       "0       67             0      4304    0.006862\n",
       "1       67             0      2921    0.307445\n",
       "2       67             0      2920    0.006862\n",
       "3       67             0      2919    0.006862\n",
       "4       67             0      2917    0.008913"
      ]
     },
     "execution_count": 217,
     "metadata": {},
     "output_type": "execute_result"
    }
   ],
   "source": [
    "rankeval_testpreds_df_final.head()"
   ]
  },
  {
   "cell_type": "code",
   "execution_count": 218,
   "metadata": {
    "collapsed": true
   },
   "outputs": [],
   "source": [
    "rank_processing_final = rank_eval.RankEval(rankeval_testpreds_df_final, 'PersonID', 'EventID', 'Participated', 'prediction')"
   ]
  },
  {
   "cell_type": "code",
   "execution_count": 219,
   "metadata": {},
   "outputs": [
    {
     "data": {
      "text/plain": [
       "18.517767702087443"
      ]
     },
     "execution_count": 219,
     "metadata": {},
     "output_type": "execute_result"
    }
   ],
   "source": [
    "rank_processing_final.calc_test_rank()"
   ]
  },
  {
   "cell_type": "code",
   "execution_count": 220,
   "metadata": {},
   "outputs": [
    {
     "data": {
      "text/plain": [
       "30.302021930658537"
      ]
     },
     "execution_count": 220,
     "metadata": {},
     "output_type": "execute_result"
    }
   ],
   "source": [
    "rank_processing_final.calc_popular_rank()"
   ]
  },
  {
   "cell_type": "code",
   "execution_count": 221,
   "metadata": {
    "collapsed": true
   },
   "outputs": [],
   "source": [
    "gb_trainvalpreds_final = gb_model_final.predict(X_gb_trainval)"
   ]
  },
  {
   "cell_type": "code",
   "execution_count": 222,
   "metadata": {},
   "outputs": [
    {
     "data": {
      "text/plain": [
       "740563"
      ]
     },
     "execution_count": 222,
     "metadata": {},
     "output_type": "execute_result"
    }
   ],
   "source": [
    "len(gb_trainvalpreds_final)"
   ]
  },
  {
   "cell_type": "code",
   "execution_count": 223,
   "metadata": {},
   "outputs": [
    {
     "data": {
      "text/plain": [
       "740563"
      ]
     },
     "execution_count": 223,
     "metadata": {},
     "output_type": "execute_result"
    }
   ],
   "source": [
    "len(y_gb_trainval)"
   ]
  },
  {
   "cell_type": "code",
   "execution_count": 224,
   "metadata": {},
   "outputs": [
    {
     "data": {
      "text/plain": [
       "740563"
      ]
     },
     "execution_count": 224,
     "metadata": {},
     "output_type": "execute_result"
    }
   ],
   "source": [
    "len(gb_train_data)"
   ]
  },
  {
   "cell_type": "code",
   "execution_count": 225,
   "metadata": {
    "collapsed": true
   },
   "outputs": [],
   "source": [
    "rankeval_trainvalpreds_df_final = pd.DataFrame({'PersonID': gb_train_data['PersonID'], 'EventID': \n",
    "                                      gb_train_data['EventID'], 'Participated': y_gb_trainval.values, \n",
    "                                      'prediction': gb_trainvalpreds_final})"
   ]
  },
  {
   "cell_type": "code",
   "execution_count": 226,
   "metadata": {
    "collapsed": true
   },
   "outputs": [],
   "source": [
    "rank_processing_final_train = rank_eval.RankEval(rankeval_trainvalpreds_df_final, 'PersonID', 'EventID', 'Participated', 'prediction')"
   ]
  },
  {
   "cell_type": "code",
   "execution_count": 227,
   "metadata": {},
   "outputs": [
    {
     "data": {
      "text/plain": [
       "7.2645672521985833"
      ]
     },
     "execution_count": 227,
     "metadata": {},
     "output_type": "execute_result"
    }
   ],
   "source": [
    "rank_processing_final_train.calc_test_rank()"
   ]
  },
  {
   "cell_type": "code",
   "execution_count": 228,
   "metadata": {},
   "outputs": [
    {
     "data": {
      "text/plain": [
       "33.199722882026641"
      ]
     },
     "execution_count": 228,
     "metadata": {},
     "output_type": "execute_result"
    }
   ],
   "source": [
    "rank_processing_final_train.calc_popular_rank()"
   ]
  },
  {
   "cell_type": "code",
   "execution_count": 229,
   "metadata": {},
   "outputs": [
    {
     "data": {
      "text/plain": [
       "{'alpha': 0.9,\n",
       " 'criterion': 'friedman_mse',\n",
       " 'init': None,\n",
       " 'learning_rate': 0.01,\n",
       " 'loss': 'ls',\n",
       " 'max_depth': 3,\n",
       " 'max_features': None,\n",
       " 'max_leaf_nodes': None,\n",
       " 'min_impurity_decrease': 0.0,\n",
       " 'min_impurity_split': None,\n",
       " 'min_samples_leaf': 1,\n",
       " 'min_samples_split': 2,\n",
       " 'min_weight_fraction_leaf': 0.0,\n",
       " 'n_estimators': 100,\n",
       " 'presort': 'auto',\n",
       " 'random_state': None,\n",
       " 'subsample': 0.5,\n",
       " 'verbose': 0,\n",
       " 'warm_start': False}"
      ]
     },
     "execution_count": 229,
     "metadata": {},
     "output_type": "execute_result"
    }
   ],
   "source": [
    "gb_model_final.get_params()"
   ]
  },
  {
   "cell_type": "code",
   "execution_count": 230,
   "metadata": {
    "scrolled": false
   },
   "outputs": [
    {
     "data": {
      "text/plain": [
       "[(0.077052009142721825, 'SeriesID_prediction'),\n",
       " (0.011092818055114749, 'EventTypeID_prediction'),\n",
       " (0.34520211697421244, 'Venue_Zip_prediction'),\n",
       " (0.45708994893045229, 'Total_Fee_Avg_prediction'),\n",
       " (0.10956310689749892, 'Miles2_Avg_prediction')]"
      ]
     },
     "execution_count": 230,
     "metadata": {},
     "output_type": "execute_result"
    }
   ],
   "source": [
    "zip(gb_model_final.feature_importances_, X_gb_train.columns.values)"
   ]
  },
  {
   "cell_type": "code",
   "execution_count": 231,
   "metadata": {
    "collapsed": true
   },
   "outputs": [],
   "source": [
    "with open ('26OCT17_finalfitmodels/gb_model_final', 'w') as f:\n",
    "    pickle.dump(gb_model_final, f)\n",
    "with open ('26OCT17_finalfitmodels/gb_testpreds_final', 'w') as f:\n",
    "    pickle.dump(gb_testpreds_final, f)"
   ]
  },
  {
   "cell_type": "markdown",
   "metadata": {
    "collapsed": true
   },
   "source": [
    "## Gather Info on Top Events and Likely Participants from Top 10 Recommendations Info for Each Person"
   ]
  },
  {
   "cell_type": "code",
   "execution_count": 232,
   "metadata": {
    "collapsed": true
   },
   "outputs": [],
   "source": [
    "from collections import defaultdict\n",
    "\n",
    "D_topeventcounts = defaultdict(int)\n",
    "D_likelyusers = defaultdict(list)\n",
    "\n",
    "for person in rankeval_testpreds_df_final['PersonID'].unique():\n",
    "    temp_df = rankeval_testpreds_df_final[rankeval_testpreds_df_final[\"PersonID\"] == person].copy()\n",
    "    temp_df.sort_values('prediction', ascending=False, inplace=True)\n",
    "    temp_df = temp_df.iloc[:10]\n",
    "    \n",
    "    for event in temp_df['EventID'].values:\n",
    "        D_topeventcounts[event] += 1\n",
    "        D_likelyusers[event].append(person)"
   ]
  },
  {
   "cell_type": "code",
   "execution_count": 233,
   "metadata": {},
   "outputs": [
    {
     "data": {
      "text/plain": [
       "defaultdict(int,\n",
       "            {67: 2012,\n",
       "             68: 9571,\n",
       "             69: 6384,\n",
       "             70: 1888,\n",
       "             71: 1708,\n",
       "             72: 2607,\n",
       "             73: 1460,\n",
       "             74: 1865,\n",
       "             75: 1165,\n",
       "             76: 9943,\n",
       "             77: 10173,\n",
       "             78: 9958,\n",
       "             79: 9710,\n",
       "             80: 9697,\n",
       "             81: 9732,\n",
       "             82: 9683,\n",
       "             1018: 461,\n",
       "             4003: 9623})"
      ]
     },
     "execution_count": 233,
     "metadata": {},
     "output_type": "execute_result"
    }
   ],
   "source": [
    "D_topeventcounts\n",
    "#Number of instances that an event in the test dataset shows up in a person's top 10 recommendations"
   ]
  },
  {
   "cell_type": "code",
   "execution_count": 236,
   "metadata": {},
   "outputs": [
    {
     "data": {
      "text/plain": [
       "[2858,\n",
       " 2978,\n",
       " 2872,\n",
       " 3758,\n",
       " 4387,\n",
       " 3429,\n",
       " 4551,\n",
       " 3599,\n",
       " 4535,\n",
       " 3737,\n",
       " 3976,\n",
       " 4534,\n",
       " 5420,\n",
       " 5357,\n",
       " 5355,\n",
       " 5354,\n",
       " 5353,\n",
       " 5351,\n",
       " 5350,\n",
       " 5349,\n",
       " 5348,\n",
       " 5347,\n",
       " 5344,\n",
       " 5343,\n",
       " 5342,\n",
       " 5341,\n",
       " 5340,\n",
       " 5448,\n",
       " 5339,\n",
       " 5315,\n",
       " 5358,\n",
       " 5447,\n",
       " 5440,\n",
       " 5196,\n",
       " 5195,\n",
       " 5220,\n",
       " 5314,\n",
       " 5316,\n",
       " 5461,\n",
       " 5421,\n",
       " 5441,\n",
       " 5494,\n",
       " 5462,\n",
       " 5364,\n",
       " 5338,\n",
       " 5365,\n",
       " 4917,\n",
       " 4916,\n",
       " 4915,\n",
       " 4914,\n",
       " 4904,\n",
       " 4956,\n",
       " 4955,\n",
       " 4953,\n",
       " 4948,\n",
       " 4890,\n",
       " 4954,\n",
       " 5397,\n",
       " 5368,\n",
       " 5366,\n",
       " 5335,\n",
       " 5333,\n",
       " 5332,\n",
       " 5331,\n",
       " 5330,\n",
       " 5328,\n",
       " 5327,\n",
       " 5326,\n",
       " 5325,\n",
       " 5324,\n",
       " 5323,\n",
       " 5322,\n",
       " 5321,\n",
       " 5320,\n",
       " 5319,\n",
       " 5318,\n",
       " 5317,\n",
       " 5334,\n",
       " 5336,\n",
       " 5329,\n",
       " 5403,\n",
       " 5405,\n",
       " 5404,\n",
       " 5372,\n",
       " 5371,\n",
       " 5370,\n",
       " 5369,\n",
       " 5367,\n",
       " 5408,\n",
       " 5407,\n",
       " 5406,\n",
       " 4257,\n",
       " 4256,\n",
       " 4248,\n",
       " 4252,\n",
       " 4334,\n",
       " 4333,\n",
       " 4331,\n",
       " 4374,\n",
       " 4373,\n",
       " 4367,\n",
       " 4366,\n",
       " 4363,\n",
       " 4332,\n",
       " 4330,\n",
       " 4346,\n",
       " 5253,\n",
       " 5171,\n",
       " 5227,\n",
       " 5313,\n",
       " 5293,\n",
       " 5291,\n",
       " 5290,\n",
       " 5289,\n",
       " 5288,\n",
       " 5287,\n",
       " 5286,\n",
       " 5285,\n",
       " 5284,\n",
       " 5283,\n",
       " 5281,\n",
       " 5280,\n",
       " 5279,\n",
       " 5278,\n",
       " 5277,\n",
       " 5239,\n",
       " 5251,\n",
       " 5271,\n",
       " 5252,\n",
       " 5240,\n",
       " 5270,\n",
       " 5268,\n",
       " 5267,\n",
       " 5266,\n",
       " 5265,\n",
       " 5263,\n",
       " 5262,\n",
       " 5261,\n",
       " 5260,\n",
       " 5259,\n",
       " 5258,\n",
       " 5257,\n",
       " 5256,\n",
       " 5255,\n",
       " 5254,\n",
       " 5269,\n",
       " 5241,\n",
       " 5276,\n",
       " 5275,\n",
       " 5292,\n",
       " 5294,\n",
       " 5273,\n",
       " 5295,\n",
       " 5312,\n",
       " 5311,\n",
       " 5310,\n",
       " 5309,\n",
       " 5308,\n",
       " 5307,\n",
       " 5306,\n",
       " 5305,\n",
       " 5242,\n",
       " 5304,\n",
       " 5302,\n",
       " 5301,\n",
       " 5300,\n",
       " 5299,\n",
       " 5298,\n",
       " 5297,\n",
       " 5296,\n",
       " 5274,\n",
       " 5272,\n",
       " 5303,\n",
       " 4929,\n",
       " 5282,\n",
       " 4451,\n",
       " 4850,\n",
       " 4868,\n",
       " 5063,\n",
       " 5062,\n",
       " 5061,\n",
       " 5087,\n",
       " 4808,\n",
       " 4940,\n",
       " 4933,\n",
       " 4932,\n",
       " 4828,\n",
       " 4807,\n",
       " 4797,\n",
       " 4795,\n",
       " 4806,\n",
       " 5034,\n",
       " 5011,\n",
       " 4969,\n",
       " 5028,\n",
       " 5027,\n",
       " 5025,\n",
       " 5024,\n",
       " 5022,\n",
       " 5020,\n",
       " 5016,\n",
       " 5030,\n",
       " 5017,\n",
       " 5046,\n",
       " 5115,\n",
       " 5096,\n",
       " 5124,\n",
       " 5123,\n",
       " 5003,\n",
       " 5002,\n",
       " 5001,\n",
       " 5000,\n",
       " 5106,\n",
       " 5114,\n",
       " 127,\n",
       " 271,\n",
       " 4545,\n",
       " 187,\n",
       " 4546,\n",
       " 2106,\n",
       " 371,\n",
       " 417,\n",
       " 438,\n",
       " 700,\n",
       " 796,\n",
       " 797,\n",
       " 5488,\n",
       " 858,\n",
       " 827,\n",
       " 4554,\n",
       " 4279,\n",
       " 922,\n",
       " 5490,\n",
       " 1027,\n",
       " 5492,\n",
       " 1118,\n",
       " 4556,\n",
       " 2459,\n",
       " 4282,\n",
       " 1479,\n",
       " 4287,\n",
       " 1669,\n",
       " 1686,\n",
       " 1714,\n",
       " 2038,\n",
       " 1878,\n",
       " 1850,\n",
       " 2007,\n",
       " 4336,\n",
       " 2155,\n",
       " 2121,\n",
       " 2211,\n",
       " 2210,\n",
       " 2245,\n",
       " 2310,\n",
       " 2372,\n",
       " 4338,\n",
       " 2565,\n",
       " 2335,\n",
       " 4340,\n",
       " 2631,\n",
       " 4278,\n",
       " 4544,\n",
       " 4297,\n",
       " 4298,\n",
       " 4299,\n",
       " 4300,\n",
       " 4328,\n",
       " 4320,\n",
       " 4329,\n",
       " 4384,\n",
       " 4385,\n",
       " 4386,\n",
       " 5482,\n",
       " 4409,\n",
       " 4410,\n",
       " 4411,\n",
       " 4380,\n",
       " 4406,\n",
       " 4454,\n",
       " 4456,\n",
       " 4436,\n",
       " 4437,\n",
       " 4442,\n",
       " 4446,\n",
       " 4431,\n",
       " 4455,\n",
       " 4457,\n",
       " 4468,\n",
       " 4481,\n",
       " 4504,\n",
       " 4505,\n",
       " 4512,\n",
       " 4475,\n",
       " 4563,\n",
       " 4527,\n",
       " 4528,\n",
       " 4557,\n",
       " 4517,\n",
       " 4560,\n",
       " 4474,\n",
       " 4596,\n",
       " 4599,\n",
       " 4584,\n",
       " 4583,\n",
       " 4613,\n",
       " 4614,\n",
       " 4615,\n",
       " 4616,\n",
       " 4647,\n",
       " 4632,\n",
       " 4635,\n",
       " 4637,\n",
       " 4631,\n",
       " 4675,\n",
       " 4657,\n",
       " 4658,\n",
       " 4659,\n",
       " 4662,\n",
       " 4663,\n",
       " 4664,\n",
       " 4665,\n",
       " 4666,\n",
       " 4674,\n",
       " 4679,\n",
       " 4688,\n",
       " 4652,\n",
       " 4630,\n",
       " 4695,\n",
       " 4742,\n",
       " 4775,\n",
       " 4774,\n",
       " 5544,\n",
       " 5561,\n",
       " 5608,\n",
       " 5614,\n",
       " 5635,\n",
       " 5642,\n",
       " 5666,\n",
       " 5651,\n",
       " 5652,\n",
       " 5653,\n",
       " 5654,\n",
       " 5655,\n",
       " 5656,\n",
       " 5657,\n",
       " 5658,\n",
       " 5659,\n",
       " 5660,\n",
       " 5661,\n",
       " 5662,\n",
       " 5663,\n",
       " 5664,\n",
       " 5665,\n",
       " 5672,\n",
       " 5671,\n",
       " 5670,\n",
       " 5668,\n",
       " 10548,\n",
       " 10551,\n",
       " 10549,\n",
       " 10550,\n",
       " 10553,\n",
       " 6820,\n",
       " 10552,\n",
       " 10554,\n",
       " 10555,\n",
       " 10556,\n",
       " 10558,\n",
       " 10566,\n",
       " 10559,\n",
       " 10560,\n",
       " 10561,\n",
       " 10562,\n",
       " 10563,\n",
       " 10564,\n",
       " 10565,\n",
       " 10567,\n",
       " 10568,\n",
       " 10569,\n",
       " 10571,\n",
       " 10570,\n",
       " 10572,\n",
       " 10573,\n",
       " 10574,\n",
       " 10575,\n",
       " 10576,\n",
       " 10577,\n",
       " 10578,\n",
       " 10579,\n",
       " 10580,\n",
       " 10581,\n",
       " 10582,\n",
       " 10583,\n",
       " 10584,\n",
       " 10585,\n",
       " 10586,\n",
       " 10587,\n",
       " 10589,\n",
       " 10588,\n",
       " 10590,\n",
       " 10591,\n",
       " 10592,\n",
       " 10593,\n",
       " 10594,\n",
       " 10595,\n",
       " 10494,\n",
       " 10493,\n",
       " 10496,\n",
       " 10518,\n",
       " 10519,\n",
       " 10500,\n",
       " 10501,\n",
       " 10502,\n",
       " 10503,\n",
       " 10504,\n",
       " 10505,\n",
       " 10506,\n",
       " 10507,\n",
       " 10508,\n",
       " 10509,\n",
       " 10510,\n",
       " 10511,\n",
       " 10512,\n",
       " 10513,\n",
       " 10515,\n",
       " 10499,\n",
       " 10498,\n",
       " 10497,\n",
       " 10514,\n",
       " 10520,\n",
       " 10521,\n",
       " 10522,\n",
       " 10523,\n",
       " 10524,\n",
       " 10525,\n",
       " 10526,\n",
       " 10527,\n",
       " 10528,\n",
       " 10530,\n",
       " 10531,\n",
       " 10532,\n",
       " 10533,\n",
       " 10534,\n",
       " 10517,\n",
       " 10495,\n",
       " 10516,\n",
       " 10529,\n",
       " 10536,\n",
       " 10542,\n",
       " 10543,\n",
       " 10544,\n",
       " 10545,\n",
       " 10546,\n",
       " 10547,\n",
       " 10541,\n",
       " 10540,\n",
       " 10539,\n",
       " 10538,\n",
       " 10535,\n",
       " 10537]"
      ]
     },
     "execution_count": 236,
     "metadata": {},
     "output_type": "execute_result"
    }
   ],
   "source": [
    "D_likelyusers[1018]\n",
    "#PersonIDs for which the given EventID is in their Top 10 recommendations"
   ]
  },
  {
   "cell_type": "code",
   "execution_count": 278,
   "metadata": {},
   "outputs": [
    {
     "data": {
      "text/html": [
       "<div>\n",
       "<style>\n",
       "    .dataframe thead tr:only-child th {\n",
       "        text-align: right;\n",
       "    }\n",
       "\n",
       "    .dataframe thead th {\n",
       "        text-align: left;\n",
       "    }\n",
       "\n",
       "    .dataframe tbody tr th {\n",
       "        vertical-align: top;\n",
       "    }\n",
       "</style>\n",
       "<table border=\"1\" class=\"dataframe\">\n",
       "  <thead>\n",
       "    <tr style=\"text-align: right;\">\n",
       "      <th></th>\n",
       "      <th>EventID</th>\n",
       "      <th>Participated</th>\n",
       "      <th>PersonID</th>\n",
       "      <th>prediction</th>\n",
       "    </tr>\n",
       "  </thead>\n",
       "  <tbody>\n",
       "    <tr>\n",
       "      <th>132453</th>\n",
       "      <td>79</td>\n",
       "      <td>1</td>\n",
       "      <td>1115</td>\n",
       "      <td>0.324034</td>\n",
       "    </tr>\n",
       "    <tr>\n",
       "      <th>154021</th>\n",
       "      <td>81</td>\n",
       "      <td>1</td>\n",
       "      <td>1115</td>\n",
       "      <td>0.307445</td>\n",
       "    </tr>\n",
       "    <tr>\n",
       "      <th>65642</th>\n",
       "      <td>73</td>\n",
       "      <td>1</td>\n",
       "      <td>1115</td>\n",
       "      <td>0.272229</td>\n",
       "    </tr>\n",
       "    <tr>\n",
       "      <th>108634</th>\n",
       "      <td>77</td>\n",
       "      <td>1</td>\n",
       "      <td>1115</td>\n",
       "      <td>0.271661</td>\n",
       "    </tr>\n",
       "    <tr>\n",
       "      <th>173245</th>\n",
       "      <td>82</td>\n",
       "      <td>0</td>\n",
       "      <td>1115</td>\n",
       "      <td>0.264244</td>\n",
       "    </tr>\n",
       "    <tr>\n",
       "      <th>143213</th>\n",
       "      <td>80</td>\n",
       "      <td>1</td>\n",
       "      <td>1115</td>\n",
       "      <td>0.264244</td>\n",
       "    </tr>\n",
       "    <tr>\n",
       "      <th>119461</th>\n",
       "      <td>4003</td>\n",
       "      <td>1</td>\n",
       "      <td>1115</td>\n",
       "      <td>0.203382</td>\n",
       "    </tr>\n",
       "    <tr>\n",
       "      <th>87135</th>\n",
       "      <td>75</td>\n",
       "      <td>1</td>\n",
       "      <td>1115</td>\n",
       "      <td>0.155566</td>\n",
       "    </tr>\n",
       "    <tr>\n",
       "      <th>14045</th>\n",
       "      <td>69</td>\n",
       "      <td>1</td>\n",
       "      <td>1115</td>\n",
       "      <td>0.147161</td>\n",
       "    </tr>\n",
       "    <tr>\n",
       "      <th>76368</th>\n",
       "      <td>74</td>\n",
       "      <td>1</td>\n",
       "      <td>1115</td>\n",
       "      <td>0.123065</td>\n",
       "    </tr>\n",
       "    <tr>\n",
       "      <th>54816</th>\n",
       "      <td>72</td>\n",
       "      <td>0</td>\n",
       "      <td>1115</td>\n",
       "      <td>0.114553</td>\n",
       "    </tr>\n",
       "    <tr>\n",
       "      <th>130186</th>\n",
       "      <td>78</td>\n",
       "      <td>1</td>\n",
       "      <td>1115</td>\n",
       "      <td>0.075070</td>\n",
       "    </tr>\n",
       "    <tr>\n",
       "      <th>33332</th>\n",
       "      <td>70</td>\n",
       "      <td>1</td>\n",
       "      <td>1115</td>\n",
       "      <td>0.042696</td>\n",
       "    </tr>\n",
       "    <tr>\n",
       "      <th>3261</th>\n",
       "      <td>68</td>\n",
       "      <td>1</td>\n",
       "      <td>1115</td>\n",
       "      <td>0.041599</td>\n",
       "    </tr>\n",
       "    <tr>\n",
       "      <th>89393</th>\n",
       "      <td>76</td>\n",
       "      <td>1</td>\n",
       "      <td>1115</td>\n",
       "      <td>0.028133</td>\n",
       "    </tr>\n",
       "    <tr>\n",
       "      <th>35616</th>\n",
       "      <td>71</td>\n",
       "      <td>1</td>\n",
       "      <td>1115</td>\n",
       "      <td>0.028133</td>\n",
       "    </tr>\n",
       "    <tr>\n",
       "      <th>184008</th>\n",
       "      <td>1018</td>\n",
       "      <td>0</td>\n",
       "      <td>1115</td>\n",
       "      <td>0.006862</td>\n",
       "    </tr>\n",
       "  </tbody>\n",
       "</table>\n",
       "</div>"
      ],
      "text/plain": [
       "        EventID  Participated  PersonID  prediction\n",
       "132453       79             1      1115    0.324034\n",
       "154021       81             1      1115    0.307445\n",
       "65642        73             1      1115    0.272229\n",
       "108634       77             1      1115    0.271661\n",
       "173245       82             0      1115    0.264244\n",
       "143213       80             1      1115    0.264244\n",
       "119461     4003             1      1115    0.203382\n",
       "87135        75             1      1115    0.155566\n",
       "14045        69             1      1115    0.147161\n",
       "76368        74             1      1115    0.123065\n",
       "54816        72             0      1115    0.114553\n",
       "130186       78             1      1115    0.075070\n",
       "33332        70             1      1115    0.042696\n",
       "3261         68             1      1115    0.041599\n",
       "89393        76             1      1115    0.028133\n",
       "35616        71             1      1115    0.028133\n",
       "184008     1018             0      1115    0.006862"
      ]
     },
     "execution_count": 278,
     "metadata": {},
     "output_type": "execute_result"
    }
   ],
   "source": [
    "rankeval_testpreds_df_final[rankeval_testpreds_df_final['PersonID']==1115].sort_values('prediction', ascending=False)"
   ]
  },
  {
   "cell_type": "markdown",
   "metadata": {},
   "source": [
    "Friday:\n",
    "- Presentation for today: update / clean up text on slides, add modeling conclusions & plots I have so far (esp. rank plots!), add tech stack page, include next steps (both during capstone still and after)\n",
    "- Look at top events / most likely users info more...how can I make better use of this?  Look at clustering in likely users listed for a given event.  Any useful info to conclude?  Compare to this from a single ALS model.\n",
    "- Look at NMF matrices to do additional clustering investigation with user info (zipcode, gender, age, # events attended, etc); pick one ALS model to do this with for an example...use venue_zip to start.\n",
    "- Additional EDA, look at turnover of customers over time (plot somehow?); count how many of customer base are 'active' in test set; how many are new in test set?"
   ]
  },
  {
   "cell_type": "code",
   "execution_count": null,
   "metadata": {
    "collapsed": true
   },
   "outputs": [],
   "source": []
  }
 ],
 "metadata": {
  "kernelspec": {
   "display_name": "Python 2",
   "language": "python",
   "name": "python2"
  },
  "language_info": {
   "codemirror_mode": {
    "name": "ipython",
    "version": 2
   },
   "file_extension": ".py",
   "mimetype": "text/x-python",
   "name": "python",
   "nbconvert_exporter": "python",
   "pygments_lexer": "ipython2",
   "version": "2.7.13"
  }
 },
 "nbformat": 4,
 "nbformat_minor": 2
}

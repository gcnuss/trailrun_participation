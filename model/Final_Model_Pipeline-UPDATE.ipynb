{
 "cells": [
  {
   "cell_type": "markdown",
   "metadata": {},
   "source": [
    "## Import Functions, Modules"
   ]
  },
  {
   "cell_type": "code",
   "execution_count": 1,
   "metadata": {
    "collapsed": true
   },
   "outputs": [],
   "source": [
    "#import from my modules:\n",
    "import als_model_v2 as am\n",
    "from ensemble_helper_functions import load_files, merge_data\n",
    "import rank_eval"
   ]
  },
  {
   "cell_type": "code",
   "execution_count": 2,
   "metadata": {
    "collapsed": true
   },
   "outputs": [],
   "source": [
    "#import from python modules:\n",
    "import cPickle as pickle\n",
    "import pandas as pd\n",
    "from sklearn.ensemble import GradientBoostingRegressor\n",
    "from collections import defaultdict\n",
    "\n",
    "import matplotlib.pyplot as plt\n",
    "%matplotlib inline"
   ]
  },
  {
   "cell_type": "markdown",
   "metadata": {},
   "source": [
    "## Open cleaned_df"
   ]
  },
  {
   "cell_type": "code",
   "execution_count": 3,
   "metadata": {
    "collapsed": true
   },
   "outputs": [],
   "source": [
    "with open ('30OCT17_finalfitmodelsv2/cleaned_df.pkl', 'rb') as f:\n",
    "    cleaned_data = pickle.load(f)"
   ]
  },
  {
   "cell_type": "code",
   "execution_count": 4,
   "metadata": {},
   "outputs": [
    {
     "data": {
      "text/plain": [
       "array([ 2.,  1.,  3.,  0.,  4.])"
      ]
     },
     "execution_count": 4,
     "metadata": {},
     "output_type": "execute_result"
    }
   ],
   "source": [
    "cleaned_data['SeriesID'].unique()"
   ]
  },
  {
   "cell_type": "markdown",
   "metadata": {},
   "source": [
    "## Instantiate Class Instances for ALS Model, Prep and Run for the Following:\n",
    "\n",
    "#### For each of these features:\n",
    "- SeriesID\n",
    "- EventTypeID\n",
    "- Venue (based on zip code)\n",
    "- Total Average Fee\n",
    "- Average Mileage\n",
    "\n",
    "#### Run best fit model identified from exercise in Pipeline_v2-noTVS notebook on train+validate larger dataset; check rank metric on test set\n",
    "\n",
    "#### Initial Prep:"
   ]
  },
  {
   "cell_type": "code",
   "execution_count": 5,
   "metadata": {
    "collapsed": true
   },
   "outputs": [],
   "source": [
    "als_model = am.implicit_als(cleaned_data, split_val=False)\n",
    "#setting split_val to False results in the split being train/test instead of train/val/test\n",
    "#80% of data is in train and 20% is in test"
   ]
  },
  {
   "cell_type": "code",
   "execution_count": 6,
   "metadata": {
    "collapsed": true
   },
   "outputs": [],
   "source": [
    "als_model.prep_full_df()"
   ]
  },
  {
   "cell_type": "code",
   "execution_count": 7,
   "metadata": {},
   "outputs": [
    {
     "name": "stdout",
     "output_type": "stream",
     "text": [
      "<class 'pandas.core.frame.DataFrame'>\n",
      "RangeIndex: 925704 entries, 0 to 925703\n",
      "Data columns (total 9 columns):\n",
      "PersonID         925704 non-null int64\n",
      "EventID          925704 non-null int64\n",
      "Participated     925704 non-null int64\n",
      "Event_Date       925704 non-null datetime64[ns]\n",
      "SeriesID         925704 non-null float64\n",
      "EventTypeID      925704 non-null int64\n",
      "Total_Fee_Avg    925704 non-null int64\n",
      "Miles2_Avg       925704 non-null int64\n",
      "Venue_Zip        925704 non-null int64\n",
      "dtypes: datetime64[ns](1), float64(1), int64(7)\n",
      "memory usage: 63.6 MB\n"
     ]
    }
   ],
   "source": [
    "als_model.full_df.info()"
   ]
  },
  {
   "cell_type": "code",
   "execution_count": 8,
   "metadata": {},
   "outputs": [
    {
     "name": "stdout",
     "output_type": "stream",
     "text": [
      "TrainVal Size: 740562.0\n",
      "Train Size: 592449.0\n",
      "Validation Size: 148113.0\n",
      "Test Size: 185142.0\n"
     ]
    }
   ],
   "source": [
    "als_model.train_val_test_split_byseries()"
   ]
  },
  {
   "cell_type": "markdown",
   "metadata": {},
   "source": [
    "## SeriesID"
   ]
  },
  {
   "cell_type": "code",
   "execution_count": 9,
   "metadata": {},
   "outputs": [
    {
     "name": "stdout",
     "output_type": "stream",
     "text": [
      "participants in train: 10764\n",
      "participants in validate: 10764\n",
      "participants in test: 10764\n",
      "\n",
      "\n",
      "participants in both train & validate: 10764\n",
      "participants in both train & test: 10764\n",
      "\n",
      "\n",
      "SeriesID in train: 5\n",
      "SeriesID in validate: 5\n",
      "SeriesID in test: 5\n",
      "\n",
      "\n",
      "SeriesID in both train & validate: 5\n",
      "SeriesID in both train & test: 5\n"
     ]
    }
   ],
   "source": [
    "als_model.print_train_val_test_info(\"SeriesID\")"
   ]
  },
  {
   "cell_type": "code",
   "execution_count": 10,
   "metadata": {
    "collapsed": true
   },
   "outputs": [],
   "source": [
    "als_model.create_participate_matrices(\"SeriesID\")"
   ]
  },
  {
   "cell_type": "code",
   "execution_count": 11,
   "metadata": {
    "collapsed": true
   },
   "outputs": [],
   "source": [
    "als_model.fit_ALS(itemCol=\"SeriesID\", rank=5, alpha=80, coldStartStrategy=\"drop\")"
   ]
  },
  {
   "cell_type": "code",
   "execution_count": 12,
   "metadata": {},
   "outputs": [
    {
     "name": "stdout",
     "output_type": "stream",
     "text": [
      "Trainval predictions includes 740562 valid values and 0 nan values\n",
      "Test predictions includes 185142 valid values and 0 nan values\n",
      "Trainval Model Rank = 4.58523682184 and Popular Rank = 24.4891391794\n",
      "Test Model Rank = 6.60411776394 and Popular Rank = 27.4009077156\n"
     ]
    }
   ],
   "source": [
    "trainval_predictions, trainval_rank, trainval_pop_rank, test_predictions, test_rank, test_pop_rank = als_model.predict_ALS(\n",
    "    als_model.base_model, \"SeriesID\")"
   ]
  },
  {
   "cell_type": "code",
   "execution_count": 13,
   "metadata": {
    "collapsed": true
   },
   "outputs": [],
   "source": [
    "als_fit_model_series = als_model.base_model\n",
    "als_trainvalpreds_pd_series = trainval_predictions\n",
    "als_testpreds_pd_series = test_predictions\n",
    "\n",
    "als_fit_model_series.save(\"30OCT17_finalfitmodelsv2/als_fit_model_series\")\n",
    "\n",
    "with open (\"30OCT17_finalfitmodelsv2/als_trainvalpreds_pd_series.pkl\", 'w') as f:\n",
    "    pickle.dump(als_trainvalpreds_pd_series, f)\n",
    "with open ('30OCT17_finalfitmodelsv2/als_testpreds_pd_series.pkl', 'w') as f:\n",
    "    pickle.dump(als_testpreds_pd_series, f)"
   ]
  },
  {
   "cell_type": "code",
   "execution_count": 14,
   "metadata": {
    "collapsed": true
   },
   "outputs": [],
   "source": [
    "#these only need to be saved once today:\n",
    "als_trainval_df_pd = als_model.trainval\n",
    "als_test_df_pd = als_model.test"
   ]
  },
  {
   "cell_type": "code",
   "execution_count": 15,
   "metadata": {
    "collapsed": true
   },
   "outputs": [],
   "source": [
    "with open (\"30OCT17_finalfitmodelsv2/als_trainval_df_pd.pkl\", 'w') as f:\n",
    "    pickle.dump(als_trainval_df_pd, f)\n",
    "    \n",
    "with open (\"30OCT17_finalfitmodelsv2/als_test_df_pd.pkl\", 'w') as f:\n",
    "    pickle.dump(als_test_df_pd, f)"
   ]
  },
  {
   "cell_type": "markdown",
   "metadata": {},
   "source": [
    "## EventTypeID"
   ]
  },
  {
   "cell_type": "code",
   "execution_count": 16,
   "metadata": {
    "scrolled": true
   },
   "outputs": [
    {
     "name": "stdout",
     "output_type": "stream",
     "text": [
      "participants in train: 10764\n",
      "participants in validate: 10764\n",
      "participants in test: 10764\n",
      "\n",
      "\n",
      "participants in both train & validate: 10764\n",
      "participants in both train & test: 10764\n",
      "\n",
      "\n",
      "EventTypeID in train: 2\n",
      "EventTypeID in validate: 2\n",
      "EventTypeID in test: 2\n",
      "\n",
      "\n",
      "EventTypeID in both train & validate: 2\n",
      "EventTypeID in both train & test: 2\n"
     ]
    }
   ],
   "source": [
    "als_model.print_train_val_test_info(\"EventTypeID\")"
   ]
  },
  {
   "cell_type": "code",
   "execution_count": 17,
   "metadata": {
    "collapsed": true
   },
   "outputs": [],
   "source": [
    "als_model.create_participate_matrices(\"EventTypeID\")"
   ]
  },
  {
   "cell_type": "code",
   "execution_count": 18,
   "metadata": {
    "collapsed": true
   },
   "outputs": [],
   "source": [
    "als_model.fit_ALS(itemCol=\"EventTypeID\", rank=30, alpha=80, coldStartStrategy=\"drop\")"
   ]
  },
  {
   "cell_type": "code",
   "execution_count": 19,
   "metadata": {},
   "outputs": [
    {
     "name": "stdout",
     "output_type": "stream",
     "text": [
      "Trainval predictions includes 740562 valid values and 0 nan values\n",
      "Test predictions includes 185142 valid values and 0 nan values\n",
      "Trainval Model Rank = 0.00611124690217 and Popular Rank = 6.39215973086\n",
      "Test Model Rank = 0.445481959023 and Popular Rank = 8.15431164902\n"
     ]
    }
   ],
   "source": [
    "trainval_predictions, trainval_rank, trainval_pop_rank, test_predictions, test_rank, test_pop_rank = als_model.predict_ALS(\n",
    "    als_model.base_model, \"EventTypeID\")"
   ]
  },
  {
   "cell_type": "code",
   "execution_count": 20,
   "metadata": {
    "collapsed": true
   },
   "outputs": [],
   "source": [
    "als_fit_model_eventtype = als_model.base_model\n",
    "als_trainvalpreds_pd_eventtype = trainval_predictions\n",
    "als_testpreds_pd_eventtype = test_predictions\n",
    "\n",
    "als_fit_model_eventtype.save(\"30OCT17_finalfitmodelsv2/als_fit_model_eventtype\")\n",
    "\n",
    "with open (\"30OCT17_finalfitmodelsv2/als_trainvalpreds_pd_eventtype.pkl\", 'w') as f:\n",
    "    pickle.dump(als_trainvalpreds_pd_eventtype, f)\n",
    "with open (\"30OCT17_finalfitmodelsv2/als_testpreds_pd_eventtype.pkl\", 'w') as f:\n",
    "    pickle.dump(als_testpreds_pd_eventtype, f)"
   ]
  },
  {
   "cell_type": "markdown",
   "metadata": {},
   "source": [
    "## Venue (Based on Zipcode)"
   ]
  },
  {
   "cell_type": "code",
   "execution_count": 21,
   "metadata": {
    "scrolled": true
   },
   "outputs": [
    {
     "name": "stdout",
     "output_type": "stream",
     "text": [
      "participants in train: 10764\n",
      "participants in validate: 10764\n",
      "participants in test: 10764\n",
      "\n",
      "\n",
      "participants in both train & validate: 10764\n",
      "participants in both train & test: 10764\n",
      "\n",
      "\n",
      "Venue_Zip in train: 22\n",
      "Venue_Zip in validate: 16\n",
      "Venue_Zip in test: 16\n",
      "\n",
      "\n",
      "Venue_Zip in both train & validate: 14\n",
      "Venue_Zip in both train & test: 14\n"
     ]
    }
   ],
   "source": [
    "als_model.print_train_val_test_info(\"Venue_Zip\")"
   ]
  },
  {
   "cell_type": "code",
   "execution_count": 22,
   "metadata": {
    "collapsed": true
   },
   "outputs": [],
   "source": [
    "als_model.create_participate_matrices(\"Venue_Zip\")"
   ]
  },
  {
   "cell_type": "code",
   "execution_count": 23,
   "metadata": {
    "collapsed": true
   },
   "outputs": [],
   "source": [
    "als_model.fit_ALS(itemCol=\"Venue_Zip\", rank=5, alpha=80, coldStartStrategy=\"drop\")"
   ]
  },
  {
   "cell_type": "code",
   "execution_count": 25,
   "metadata": {},
   "outputs": [
    {
     "name": "stdout",
     "output_type": "stream",
     "text": [
      "Trainval predictions includes 740562 valid values and 0 nan values\n",
      "Test predictions includes 174378 valid values and 0 nan values\n",
      "Trainval Model Rank = 5.77703983701 and Popular Rank = 24.4243521295\n",
      "Test Model Rank = 18.2570043929 and Popular Rank = 29.3631562597\n"
     ]
    }
   ],
   "source": [
    "trainval_predictions, trainval_rank, trainval_pop_rank, test_predictions, test_rank, test_pop_rank = als_model.predict_ALS(\n",
    "    als_model.base_model, \"Venue_Zip\")"
   ]
  },
  {
   "cell_type": "code",
   "execution_count": 26,
   "metadata": {
    "collapsed": true
   },
   "outputs": [],
   "source": [
    "als_fit_model_zipcode = als_model.base_model\n",
    "als_trainvalpreds_pd_zipcode = trainval_predictions\n",
    "als_testpreds_pd_zipcode = test_predictions\n",
    "\n",
    "als_fit_model_zipcode.save(\"30OCT17_finalfitmodelsv2/als_fit_model_zipcode\")\n",
    "\n",
    "with open (\"30OCT17_finalfitmodelsv2/als_trainvalpreds_pd_zipcode.pkl\", 'w') as f:\n",
    "    pickle.dump(als_trainvalpreds_pd_zipcode, f)\n",
    "with open (\"30OCT17_finalfitmodelsv2/als_testpreds_pd_zipcode.pkl\", 'w') as f:\n",
    "    pickle.dump(als_testpreds_pd_zipcode, f)"
   ]
  },
  {
   "cell_type": "markdown",
   "metadata": {},
   "source": [
    "## Total Average Fee"
   ]
  },
  {
   "cell_type": "code",
   "execution_count": 27,
   "metadata": {
    "scrolled": true
   },
   "outputs": [
    {
     "name": "stdout",
     "output_type": "stream",
     "text": [
      "participants in train: 10764\n",
      "participants in validate: 10764\n",
      "participants in test: 10764\n",
      "\n",
      "\n",
      "participants in both train & validate: 10764\n",
      "participants in both train & test: 10764\n",
      "\n",
      "\n",
      "Total_Fee_Avg in train: 21\n",
      "Total_Fee_Avg in validate: 11\n",
      "Total_Fee_Avg in test: 12\n",
      "\n",
      "\n",
      "Total_Fee_Avg in both train & validate: 9\n",
      "Total_Fee_Avg in both train & test: 8\n"
     ]
    }
   ],
   "source": [
    "als_model.print_train_val_test_info(\"Total_Fee_Avg\")"
   ]
  },
  {
   "cell_type": "code",
   "execution_count": 28,
   "metadata": {
    "collapsed": true
   },
   "outputs": [],
   "source": [
    "als_model.create_participate_matrices(\"Total_Fee_Avg\")"
   ]
  },
  {
   "cell_type": "code",
   "execution_count": 29,
   "metadata": {
    "collapsed": true
   },
   "outputs": [],
   "source": [
    "als_model.fit_ALS(itemCol=\"Total_Fee_Avg\", rank=5, alpha=80, coldStartStrategy=\"drop\")"
   ]
  },
  {
   "cell_type": "code",
   "execution_count": 30,
   "metadata": {},
   "outputs": [
    {
     "name": "stdout",
     "output_type": "stream",
     "text": [
      "Trainval predictions includes 740562 valid values and 0 nan values\n",
      "Test predictions includes 152850 valid values and 0 nan values\n",
      "Trainval Model Rank = 6.80604340348 and Popular Rank = 27.7646520117\n",
      "Test Model Rank = 15.5240758319 and Popular Rank = 26.0542106352\n"
     ]
    }
   ],
   "source": [
    "trainval_predictions, trainval_rank, trainval_pop_rank, test_predictions, test_rank, test_pop_rank = als_model.predict_ALS(\n",
    "    als_model.base_model, \"Total_Fee_Avg\")"
   ]
  },
  {
   "cell_type": "code",
   "execution_count": 31,
   "metadata": {
    "collapsed": true
   },
   "outputs": [],
   "source": [
    "als_fit_model_avgfee = als_model.base_model\n",
    "als_trainvalpreds_pd_avgfee = trainval_predictions\n",
    "als_testpreds_pd_avgfee = test_predictions\n",
    "\n",
    "als_fit_model_avgfee.save(\"30OCT17_finalfitmodelsv2/als_fit_model_avgfee\")\n",
    "\n",
    "with open (\"30OCT17_finalfitmodelsv2/als_trainvalpreds_pd_avgfee.pkl\", 'w') as f:\n",
    "    pickle.dump(als_trainvalpreds_pd_avgfee, f)\n",
    "\n",
    "with open (\"30OCT17_finalfitmodelsv2/als_testpreds_pd_avgfee.pkl\", 'w') as f:\n",
    "    pickle.dump(als_testpreds_pd_avgfee, f)"
   ]
  },
  {
   "cell_type": "markdown",
   "metadata": {},
   "source": [
    "## Average Mileage"
   ]
  },
  {
   "cell_type": "code",
   "execution_count": 32,
   "metadata": {
    "scrolled": true
   },
   "outputs": [
    {
     "name": "stdout",
     "output_type": "stream",
     "text": [
      "participants in train: 10764\n",
      "participants in validate: 10764\n",
      "participants in test: 10764\n",
      "\n",
      "\n",
      "participants in both train & validate: 10764\n",
      "participants in both train & test: 10764\n",
      "\n",
      "\n",
      "Miles2_Avg in train: 11\n",
      "Miles2_Avg in validate: 7\n",
      "Miles2_Avg in test: 10\n",
      "\n",
      "\n",
      "Miles2_Avg in both train & validate: 5\n",
      "Miles2_Avg in both train & test: 8\n"
     ]
    }
   ],
   "source": [
    "als_model.print_train_val_test_info(\"Miles2_Avg\")"
   ]
  },
  {
   "cell_type": "code",
   "execution_count": 33,
   "metadata": {
    "collapsed": true
   },
   "outputs": [],
   "source": [
    "als_model.create_participate_matrices(\"Miles2_Avg\")"
   ]
  },
  {
   "cell_type": "code",
   "execution_count": 34,
   "metadata": {
    "collapsed": true
   },
   "outputs": [],
   "source": [
    "als_model.fit_ALS(itemCol=\"Miles2_Avg\", rank=5, alpha=80, coldStartStrategy=\"drop\")"
   ]
  },
  {
   "cell_type": "code",
   "execution_count": 35,
   "metadata": {},
   "outputs": [
    {
     "name": "stdout",
     "output_type": "stream",
     "text": [
      "Trainval predictions includes 740562 valid values and 0 nan values\n",
      "Test predictions includes 174378 valid values and 0 nan values\n",
      "Trainval Model Rank = 3.45770768142 and Popular Rank = 24.0518934002\n",
      "Test Model Rank = 14.0993853022 and Popular Rank = 22.8537346946\n"
     ]
    }
   ],
   "source": [
    "trainval_predictions, trainval_rank, trainval_pop_rank, test_predictions, test_rank, test_pop_rank = als_model.predict_ALS(\n",
    "    als_model.base_model, \"Miles2_Avg\")"
   ]
  },
  {
   "cell_type": "code",
   "execution_count": 36,
   "metadata": {
    "collapsed": true
   },
   "outputs": [],
   "source": [
    "als_fit_model_avgmile = als_model.base_model\n",
    "als_trainvalpreds_pd_avgmile = trainval_predictions\n",
    "als_testpreds_pd_avgmile = test_predictions\n",
    "\n",
    "als_fit_model_avgmile.save(\"30OCT17_finalfitmodelsv2/als_fit_model_avgmile\")\n",
    "\n",
    "with open (\"30OCT17_finalfitmodelsv2/als_trainvalpreds_pd_avgmile.pkl\", 'w') as f:\n",
    "    pickle.dump(als_trainvalpreds_pd_avgmile, f)\n",
    "with open (\"30OCT17_finalfitmodelsv2/als_testpreds_pd_avgmile.pkl\", 'w') as f:\n",
    "    pickle.dump(als_testpreds_pd_avgmile, f)"
   ]
  },
  {
   "cell_type": "markdown",
   "metadata": {},
   "source": [
    "## Build Gradient Boost Ensemble Using ALS Models Predictions as Inputs to Determine Weights for Each"
   ]
  },
  {
   "cell_type": "markdown",
   "metadata": {},
   "source": [
    "#### Build X, y Train Matrices for GB Model; Split between Train and Validate"
   ]
  },
  {
   "cell_type": "code",
   "execution_count": 37,
   "metadata": {
    "collapsed": true
   },
   "outputs": [],
   "source": [
    "data_df = load_files('30OCT17_finalfitmodelsv2/als_trainval_df_pd.pkl')\n",
    "fee_preds = load_files('30OCT17_finalfitmodelsv2/als_trainvalpreds_pd_avgfee.pkl')\n",
    "mile_preds = load_files('30OCT17_finalfitmodelsv2/als_trainvalpreds_pd_avgmile.pkl')\n",
    "type_preds = load_files('30OCT17_finalfitmodelsv2/als_trainvalpreds_pd_eventtype.pkl')\n",
    "series_preds = load_files('30OCT17_finalfitmodelsv2/als_trainvalpreds_pd_series.pkl')\n",
    "zipcode_preds = load_files('30OCT17_finalfitmodelsv2/als_trainvalpreds_pd_zipcode.pkl')"
   ]
  },
  {
   "cell_type": "code",
   "execution_count": 38,
   "metadata": {
    "collapsed": true
   },
   "outputs": [],
   "source": [
    "data_df['Event_Date'] = data_df['Event_Date'].astype('int64')//1e9"
   ]
  },
  {
   "cell_type": "code",
   "execution_count": 39,
   "metadata": {
    "collapsed": true
   },
   "outputs": [],
   "source": [
    "data_df['Event_Date'] = data_df['Event_Date'] * 1000000000"
   ]
  },
  {
   "cell_type": "code",
   "execution_count": 40,
   "metadata": {},
   "outputs": [
    {
     "data": {
      "text/html": [
       "<div>\n",
       "<style>\n",
       "    .dataframe thead tr:only-child th {\n",
       "        text-align: right;\n",
       "    }\n",
       "\n",
       "    .dataframe thead th {\n",
       "        text-align: left;\n",
       "    }\n",
       "\n",
       "    .dataframe tbody tr th {\n",
       "        vertical-align: top;\n",
       "    }\n",
       "</style>\n",
       "<table border=\"1\" class=\"dataframe\">\n",
       "  <thead>\n",
       "    <tr style=\"text-align: right;\">\n",
       "      <th></th>\n",
       "      <th>PersonID</th>\n",
       "      <th>EventID</th>\n",
       "      <th>Participated</th>\n",
       "      <th>Event_Date</th>\n",
       "      <th>SeriesID</th>\n",
       "      <th>EventTypeID</th>\n",
       "      <th>Total_Fee_Avg</th>\n",
       "      <th>Miles2_Avg</th>\n",
       "      <th>Venue_Zip</th>\n",
       "    </tr>\n",
       "  </thead>\n",
       "  <tbody>\n",
       "    <tr>\n",
       "      <th>53820</th>\n",
       "      <td>1</td>\n",
       "      <td>13</td>\n",
       "      <td>0</td>\n",
       "      <td>1426291200000000000</td>\n",
       "      <td>0.0</td>\n",
       "      <td>1</td>\n",
       "      <td>37</td>\n",
       "      <td>8</td>\n",
       "      <td>98038</td>\n",
       "    </tr>\n",
       "    <tr>\n",
       "      <th>60991</th>\n",
       "      <td>7327</td>\n",
       "      <td>13</td>\n",
       "      <td>0</td>\n",
       "      <td>1426291200000000000</td>\n",
       "      <td>0.0</td>\n",
       "      <td>1</td>\n",
       "      <td>37</td>\n",
       "      <td>8</td>\n",
       "      <td>98038</td>\n",
       "    </tr>\n",
       "    <tr>\n",
       "      <th>60992</th>\n",
       "      <td>7328</td>\n",
       "      <td>13</td>\n",
       "      <td>0</td>\n",
       "      <td>1426291200000000000</td>\n",
       "      <td>0.0</td>\n",
       "      <td>1</td>\n",
       "      <td>37</td>\n",
       "      <td>8</td>\n",
       "      <td>98038</td>\n",
       "    </tr>\n",
       "    <tr>\n",
       "      <th>60993</th>\n",
       "      <td>7329</td>\n",
       "      <td>13</td>\n",
       "      <td>0</td>\n",
       "      <td>1426291200000000000</td>\n",
       "      <td>0.0</td>\n",
       "      <td>1</td>\n",
       "      <td>37</td>\n",
       "      <td>8</td>\n",
       "      <td>98038</td>\n",
       "    </tr>\n",
       "    <tr>\n",
       "      <th>60994</th>\n",
       "      <td>7330</td>\n",
       "      <td>13</td>\n",
       "      <td>0</td>\n",
       "      <td>1426291200000000000</td>\n",
       "      <td>0.0</td>\n",
       "      <td>1</td>\n",
       "      <td>37</td>\n",
       "      <td>8</td>\n",
       "      <td>98038</td>\n",
       "    </tr>\n",
       "  </tbody>\n",
       "</table>\n",
       "</div>"
      ],
      "text/plain": [
       "       PersonID  EventID  Participated           Event_Date  SeriesID  \\\n",
       "53820         1       13             0  1426291200000000000       0.0   \n",
       "60991      7327       13             0  1426291200000000000       0.0   \n",
       "60992      7328       13             0  1426291200000000000       0.0   \n",
       "60993      7329       13             0  1426291200000000000       0.0   \n",
       "60994      7330       13             0  1426291200000000000       0.0   \n",
       "\n",
       "       EventTypeID  Total_Fee_Avg  Miles2_Avg  Venue_Zip  \n",
       "53820            1             37           8      98038  \n",
       "60991            1             37           8      98038  \n",
       "60992            1             37           8      98038  \n",
       "60993            1             37           8      98038  \n",
       "60994            1             37           8      98038  "
      ]
     },
     "execution_count": 40,
     "metadata": {},
     "output_type": "execute_result"
    }
   ],
   "source": [
    "data_df.head()"
   ]
  },
  {
   "cell_type": "code",
   "execution_count": 41,
   "metadata": {},
   "outputs": [
    {
     "data": {
      "text/html": [
       "<div>\n",
       "<style>\n",
       "    .dataframe thead tr:only-child th {\n",
       "        text-align: right;\n",
       "    }\n",
       "\n",
       "    .dataframe thead th {\n",
       "        text-align: left;\n",
       "    }\n",
       "\n",
       "    .dataframe tbody tr th {\n",
       "        vertical-align: top;\n",
       "    }\n",
       "</style>\n",
       "<table border=\"1\" class=\"dataframe\">\n",
       "  <thead>\n",
       "    <tr style=\"text-align: right;\">\n",
       "      <th></th>\n",
       "      <th>PersonID</th>\n",
       "      <th>SeriesID</th>\n",
       "      <th>Participated</th>\n",
       "      <th>Event_Date</th>\n",
       "      <th>prediction</th>\n",
       "    </tr>\n",
       "  </thead>\n",
       "  <tbody>\n",
       "    <tr>\n",
       "      <th>0</th>\n",
       "      <td>148</td>\n",
       "      <td>1.0</td>\n",
       "      <td>0</td>\n",
       "      <td>1420329600000000000</td>\n",
       "      <td>0.998855</td>\n",
       "    </tr>\n",
       "    <tr>\n",
       "      <th>1</th>\n",
       "      <td>148</td>\n",
       "      <td>1.0</td>\n",
       "      <td>0</td>\n",
       "      <td>1422057600000000000</td>\n",
       "      <td>0.998855</td>\n",
       "    </tr>\n",
       "    <tr>\n",
       "      <th>2</th>\n",
       "      <td>148</td>\n",
       "      <td>1.0</td>\n",
       "      <td>0</td>\n",
       "      <td>1423267200000000000</td>\n",
       "      <td>0.998855</td>\n",
       "    </tr>\n",
       "    <tr>\n",
       "      <th>3</th>\n",
       "      <td>148</td>\n",
       "      <td>1.0</td>\n",
       "      <td>1</td>\n",
       "      <td>1446854400000000000</td>\n",
       "      <td>0.998855</td>\n",
       "    </tr>\n",
       "    <tr>\n",
       "      <th>4</th>\n",
       "      <td>148</td>\n",
       "      <td>1.0</td>\n",
       "      <td>1</td>\n",
       "      <td>1448064000000000000</td>\n",
       "      <td>0.998855</td>\n",
       "    </tr>\n",
       "  </tbody>\n",
       "</table>\n",
       "</div>"
      ],
      "text/plain": [
       "   PersonID  SeriesID  Participated           Event_Date  prediction\n",
       "0       148       1.0             0  1420329600000000000    0.998855\n",
       "1       148       1.0             0  1422057600000000000    0.998855\n",
       "2       148       1.0             0  1423267200000000000    0.998855\n",
       "3       148       1.0             1  1446854400000000000    0.998855\n",
       "4       148       1.0             1  1448064000000000000    0.998855"
      ]
     },
     "execution_count": 41,
     "metadata": {},
     "output_type": "execute_result"
    }
   ],
   "source": [
    "series_preds.head()"
   ]
  },
  {
   "cell_type": "code",
   "execution_count": 42,
   "metadata": {
    "collapsed": true
   },
   "outputs": [],
   "source": [
    "predictions = [(series_preds, 'SeriesID'), (type_preds, 'EventTypeID'), \n",
    "               (zipcode_preds, 'Venue_Zip'), (fee_preds, 'Total_Fee_Avg'), \n",
    "               (mile_preds, 'Miles2_Avg')]\n",
    "\n",
    "gb_train_data = data_df.copy()\n",
    "\n",
    "for item in predictions:\n",
    "    gb_train_data = merge_data(gb_train_data, item[0], item[1])"
   ]
  },
  {
   "cell_type": "code",
   "execution_count": 43,
   "metadata": {
    "collapsed": true
   },
   "outputs": [],
   "source": [
    "gb_train_data.sort_values(by='Event_Date', axis=0, ascending=True, inplace=True)"
   ]
  },
  {
   "cell_type": "code",
   "execution_count": 44,
   "metadata": {
    "collapsed": true
   },
   "outputs": [],
   "source": [
    "gb_train_data.reset_index(drop=True, inplace=True)"
   ]
  },
  {
   "cell_type": "code",
   "execution_count": 45,
   "metadata": {},
   "outputs": [
    {
     "name": "stdout",
     "output_type": "stream",
     "text": [
      "<class 'pandas.core.frame.DataFrame'>\n",
      "RangeIndex: 740562 entries, 0 to 740561\n",
      "Data columns (total 9 columns):\n",
      "PersonID                    740562 non-null int64\n",
      "EventID                     740562 non-null int64\n",
      "Participated                740562 non-null int64\n",
      "Event_Date                  740562 non-null int64\n",
      "SeriesID_prediction         740562 non-null float64\n",
      "EventTypeID_prediction      740562 non-null float64\n",
      "Venue_Zip_prediction        740562 non-null float64\n",
      "Total_Fee_Avg_prediction    740562 non-null float64\n",
      "Miles2_Avg_prediction       740562 non-null float64\n",
      "dtypes: float64(5), int64(4)\n",
      "memory usage: 50.9 MB\n"
     ]
    }
   ],
   "source": [
    "gb_train_data.info()"
   ]
  },
  {
   "cell_type": "markdown",
   "metadata": {},
   "source": [
    "No NAN values to fill in since this is the predictions on the training data (no cold starts)"
   ]
  },
  {
   "cell_type": "code",
   "execution_count": 46,
   "metadata": {},
   "outputs": [
    {
     "data": {
      "text/plain": [
       "(592449.6, 148112.4)"
      ]
     },
     "execution_count": 46,
     "metadata": {},
     "output_type": "execute_result"
    }
   ],
   "source": [
    "len(gb_train_data)*.8, len(gb_train_data)*.2"
   ]
  },
  {
   "cell_type": "markdown",
   "metadata": {},
   "source": [
    "Split data on first 592450 records for train (sorted by event_date as timestamp) and last 148113 records for test"
   ]
  },
  {
   "cell_type": "code",
   "execution_count": 47,
   "metadata": {
    "collapsed": true
   },
   "outputs": [],
   "source": [
    "X_gb_train = gb_train_data[['SeriesID_prediction', 'EventTypeID_prediction', 'Venue_Zip_prediction', 'Total_Fee_Avg_prediction', \n",
    "                      'Miles2_Avg_prediction']].iloc[:592450].copy()"
   ]
  },
  {
   "cell_type": "code",
   "execution_count": 48,
   "metadata": {
    "collapsed": true
   },
   "outputs": [],
   "source": [
    "y_gb_train = gb_train_data['Participated'].iloc[:592450].copy()"
   ]
  },
  {
   "cell_type": "code",
   "execution_count": 49,
   "metadata": {},
   "outputs": [
    {
     "data": {
      "text/plain": [
       "(592450, 592450)"
      ]
     },
     "execution_count": 49,
     "metadata": {},
     "output_type": "execute_result"
    }
   ],
   "source": [
    "len(X_gb_train), len(y_gb_train)"
   ]
  },
  {
   "cell_type": "code",
   "execution_count": 50,
   "metadata": {
    "collapsed": true
   },
   "outputs": [],
   "source": [
    "X_gb_val = gb_train_data[['SeriesID_prediction', 'EventTypeID_prediction', 'Venue_Zip_prediction', 'Total_Fee_Avg_prediction', \n",
    "                      'Miles2_Avg_prediction']].iloc[592450:].copy()"
   ]
  },
  {
   "cell_type": "code",
   "execution_count": 51,
   "metadata": {
    "collapsed": true
   },
   "outputs": [],
   "source": [
    "y_gb_val = gb_train_data['Participated'].iloc[592450:].copy()"
   ]
  },
  {
   "cell_type": "code",
   "execution_count": 52,
   "metadata": {
    "scrolled": true
   },
   "outputs": [
    {
     "data": {
      "text/plain": [
       "(148112, 148112)"
      ]
     },
     "execution_count": 52,
     "metadata": {},
     "output_type": "execute_result"
    }
   ],
   "source": [
    "len(X_gb_val), len(y_gb_val)"
   ]
  },
  {
   "cell_type": "code",
   "execution_count": 53,
   "metadata": {
    "collapsed": true
   },
   "outputs": [],
   "source": [
    "with open('30OCT17_finalfitmodelsv2/gb_train_data.pkl', 'w') as f:\n",
    "    pickle.dump(gb_train_data, f)"
   ]
  },
  {
   "cell_type": "markdown",
   "metadata": {},
   "source": [
    "#### Build X, y Test Matrices for GB Model"
   ]
  },
  {
   "cell_type": "code",
   "execution_count": 54,
   "metadata": {
    "collapsed": true
   },
   "outputs": [],
   "source": [
    "test_data_df = load_files('30OCT17_finalfitmodelsv2/als_test_df_pd.pkl')\n",
    "test_fee_preds = load_files('30OCT17_finalfitmodelsv2/als_testpreds_pd_avgfee.pkl')\n",
    "test_mile_preds = load_files('30OCT17_finalfitmodelsv2/als_testpreds_pd_avgmile.pkl')\n",
    "test_type_preds = load_files('30OCT17_finalfitmodelsv2/als_testpreds_pd_eventtype.pkl')\n",
    "test_series_preds = load_files('30OCT17_finalfitmodelsv2/als_testpreds_pd_series.pkl')\n",
    "test_zipcode_preds = load_files('30OCT17_finalfitmodelsv2/als_testpreds_pd_zipcode.pkl')"
   ]
  },
  {
   "cell_type": "code",
   "execution_count": 55,
   "metadata": {
    "collapsed": true
   },
   "outputs": [],
   "source": [
    "test_data_df['Event_Date'] = test_data_df['Event_Date'].astype('int64')//1e9"
   ]
  },
  {
   "cell_type": "code",
   "execution_count": 56,
   "metadata": {
    "collapsed": true
   },
   "outputs": [],
   "source": [
    "test_data_df['Event_Date'] = test_data_df['Event_Date'] * 1000000000"
   ]
  },
  {
   "cell_type": "code",
   "execution_count": 57,
   "metadata": {
    "collapsed": true
   },
   "outputs": [],
   "source": [
    "test_predictions = [(test_series_preds, 'SeriesID'), (test_type_preds, 'EventTypeID'), \n",
    "               (test_zipcode_preds, 'Venue_Zip'), (test_fee_preds, 'Total_Fee_Avg'), \n",
    "               (test_mile_preds, 'Miles2_Avg')]\n",
    "\n",
    "gb_test_data = test_data_df.copy()\n",
    "\n",
    "for item in test_predictions:\n",
    "    gb_test_data = merge_data(gb_test_data, item[0], item[1])"
   ]
  },
  {
   "cell_type": "code",
   "execution_count": 58,
   "metadata": {
    "collapsed": true
   },
   "outputs": [],
   "source": [
    "gb_test_data.sort_values(by='Event_Date', axis=0, ascending=True, inplace=True)"
   ]
  },
  {
   "cell_type": "code",
   "execution_count": 59,
   "metadata": {
    "collapsed": true
   },
   "outputs": [],
   "source": [
    "gb_test_data.reset_index(drop=True, inplace=True)"
   ]
  },
  {
   "cell_type": "code",
   "execution_count": 60,
   "metadata": {
    "collapsed": true
   },
   "outputs": [],
   "source": [
    "#need to fill nan values for and Fee and Mile Predictions (caused by cold starts during ALS modeling)\n",
    "gb_test_data['Total_Fee_Avg_prediction'] = gb_test_data['Total_Fee_Avg_prediction'].apply(\n",
    "                            lambda x: gb_test_data['Total_Fee_Avg_prediction'].mean() if pd.isnull(x) else x)\n",
    "#need to fill nan values for venue_zip_prediction and fee_prediction\n",
    "gb_test_data['Miles2_Avg_prediction'] = gb_test_data['Miles2_Avg_prediction'].apply(\n",
    "                            lambda x: gb_test_data['Miles2_Avg_prediction'].mean() if pd.isnull(x) else x)"
   ]
  },
  {
   "cell_type": "code",
   "execution_count": 61,
   "metadata": {},
   "outputs": [
    {
     "name": "stdout",
     "output_type": "stream",
     "text": [
      "<class 'pandas.core.frame.DataFrame'>\n",
      "RangeIndex: 185142 entries, 0 to 185141\n",
      "Data columns (total 9 columns):\n",
      "PersonID                    185142 non-null int64\n",
      "EventID                     185142 non-null int64\n",
      "Participated                185142 non-null int64\n",
      "Event_Date                  185142 non-null int64\n",
      "SeriesID_prediction         185142 non-null float64\n",
      "EventTypeID_prediction      185142 non-null float64\n",
      "Venue_Zip_prediction        174378 non-null float64\n",
      "Total_Fee_Avg_prediction    185142 non-null float64\n",
      "Miles2_Avg_prediction       185142 non-null float64\n",
      "dtypes: float64(5), int64(4)\n",
      "memory usage: 12.7 MB\n"
     ]
    }
   ],
   "source": [
    "gb_test_data.info()"
   ]
  },
  {
   "cell_type": "code",
   "execution_count": 62,
   "metadata": {
    "collapsed": true
   },
   "outputs": [],
   "source": [
    "X_gb_test = gb_test_data[['SeriesID_prediction', 'EventTypeID_prediction', 'Venue_Zip_prediction', 'Total_Fee_Avg_prediction', \n",
    "                      'Miles2_Avg_prediction']].copy()"
   ]
  },
  {
   "cell_type": "code",
   "execution_count": 63,
   "metadata": {
    "collapsed": true
   },
   "outputs": [],
   "source": [
    "y_gb_test = gb_test_data['Participated'].copy()"
   ]
  },
  {
   "cell_type": "code",
   "execution_count": 64,
   "metadata": {
    "scrolled": true
   },
   "outputs": [
    {
     "data": {
      "text/plain": [
       "(185142, 185142)"
      ]
     },
     "execution_count": 64,
     "metadata": {},
     "output_type": "execute_result"
    }
   ],
   "source": [
    "len(X_gb_test), len(y_gb_test)"
   ]
  },
  {
   "cell_type": "code",
   "execution_count": 65,
   "metadata": {
    "collapsed": true
   },
   "outputs": [],
   "source": [
    "with open('30OCT17_finalfitmodelsv2/gb_test_data.pkl', 'w') as f:\n",
    "    pickle.dump(gb_test_data, f)"
   ]
  },
  {
   "cell_type": "markdown",
   "metadata": {},
   "source": [
    "## Train Gradient Boosted Regressor out of the box using prepared data"
   ]
  },
  {
   "cell_type": "code",
   "execution_count": null,
   "metadata": {
    "collapsed": true
   },
   "outputs": [],
   "source": [
    "with open('26OCT17_finalfitmodels/gb_train_data.pkl', 'rb') as f:\n",
    "    gb_train_data = pickle.load(f)\n",
    "with open('26OCT17_finalfitmodels/gb_test_data.pkl', 'rb') as f:\n",
    "    gb_test_data = pickle.load(f)"
   ]
  },
  {
   "cell_type": "code",
   "execution_count": null,
   "metadata": {
    "collapsed": true
   },
   "outputs": [],
   "source": [
    "X_gb_train = gb_train_data[['SeriesID_prediction', 'EventTypeID_prediction', 'Venue_Zip_prediction', 'Total_Fee_Avg_prediction', \n",
    "                      'Miles2_Avg_prediction']].iloc[:592450].copy()"
   ]
  },
  {
   "cell_type": "code",
   "execution_count": null,
   "metadata": {
    "collapsed": true
   },
   "outputs": [],
   "source": [
    "y_gb_train = gb_train_data['Participated'].iloc[:592450].copy()"
   ]
  },
  {
   "cell_type": "code",
   "execution_count": null,
   "metadata": {
    "collapsed": true
   },
   "outputs": [],
   "source": [
    "len(X_gb_train), len(y_gb_train)"
   ]
  },
  {
   "cell_type": "code",
   "execution_count": null,
   "metadata": {
    "collapsed": true
   },
   "outputs": [],
   "source": [
    "X_gb_val = gb_train_data[['SeriesID_prediction', 'EventTypeID_prediction', 'Venue_Zip_prediction', 'Total_Fee_Avg_prediction', \n",
    "                      'Miles2_Avg_prediction']].iloc[592450:].copy()"
   ]
  },
  {
   "cell_type": "code",
   "execution_count": null,
   "metadata": {
    "collapsed": true
   },
   "outputs": [],
   "source": [
    "y_gb_val = gb_train_data['Participated'].iloc[592450:].copy()"
   ]
  },
  {
   "cell_type": "code",
   "execution_count": null,
   "metadata": {
    "collapsed": true,
    "scrolled": true
   },
   "outputs": [],
   "source": [
    "len(X_gb_val), len(y_gb_val)"
   ]
  },
  {
   "cell_type": "code",
   "execution_count": null,
   "metadata": {
    "collapsed": true
   },
   "outputs": [],
   "source": [
    "X_gb_test = gb_test_data[['SeriesID_prediction', 'EventTypeID_prediction', 'Venue_Zip_prediction', 'Total_Fee_Avg_prediction', \n",
    "                      'Miles2_Avg_prediction']].copy()"
   ]
  },
  {
   "cell_type": "code",
   "execution_count": null,
   "metadata": {
    "collapsed": true
   },
   "outputs": [],
   "source": [
    "y_gb_test = gb_test_data['Participated'].copy()"
   ]
  },
  {
   "cell_type": "code",
   "execution_count": null,
   "metadata": {
    "collapsed": true,
    "scrolled": true
   },
   "outputs": [],
   "source": [
    "len(X_gb_test), len(y_gb_test)"
   ]
  },
  {
   "cell_type": "code",
   "execution_count": null,
   "metadata": {
    "collapsed": true
   },
   "outputs": [],
   "source": [
    "gb_model = GradientBoostingRegressor()"
   ]
  },
  {
   "cell_type": "code",
   "execution_count": null,
   "metadata": {
    "collapsed": true
   },
   "outputs": [],
   "source": [
    "gb_model.fit(X_gb_train, y_gb_train)"
   ]
  },
  {
   "cell_type": "code",
   "execution_count": null,
   "metadata": {
    "collapsed": true
   },
   "outputs": [],
   "source": [
    "gb_model.score(X_gb_val, y_gb_val) #this uses r^2 for scoring....not helpful in my situation"
   ]
  },
  {
   "cell_type": "markdown",
   "metadata": {},
   "source": [
    "The df needs to include columns for user, item, actual outcome, and predicted outcome\n",
    "    user, item, actual, prediction - strings indicating the name of each column in\n",
    "    the predictions file for use in the function"
   ]
  },
  {
   "cell_type": "code",
   "execution_count": null,
   "metadata": {
    "collapsed": true
   },
   "outputs": [],
   "source": [
    "gb_valpreds = gb_model.predict(X_gb_val)"
   ]
  },
  {
   "cell_type": "code",
   "execution_count": null,
   "metadata": {
    "collapsed": true
   },
   "outputs": [],
   "source": [
    "len(gb_valpreds)"
   ]
  },
  {
   "cell_type": "code",
   "execution_count": null,
   "metadata": {
    "collapsed": true
   },
   "outputs": [],
   "source": [
    "len(y_gb_val)"
   ]
  },
  {
   "cell_type": "code",
   "execution_count": null,
   "metadata": {
    "collapsed": true
   },
   "outputs": [],
   "source": [
    "rankeval_valpreds_df = pd.DataFrame({'PersonID': gb_train_data['PersonID'].iloc[592450:], 'EventID': \n",
    "                                      gb_train_data['EventID'].iloc[592450:], 'Participated': y_gb_val.values, \n",
    "                                      'prediction': gb_valpreds})"
   ]
  },
  {
   "cell_type": "code",
   "execution_count": null,
   "metadata": {
    "collapsed": true
   },
   "outputs": [],
   "source": [
    "rankeval_valpreds_df.head()"
   ]
  },
  {
   "cell_type": "code",
   "execution_count": null,
   "metadata": {
    "collapsed": true
   },
   "outputs": [],
   "source": [
    "rank_processing = rank_eval.RankEval(rankeval_valpreds_df, 'PersonID', 'EventID', 'Participated', 'prediction')"
   ]
  },
  {
   "cell_type": "code",
   "execution_count": null,
   "metadata": {
    "collapsed": true
   },
   "outputs": [],
   "source": [
    "rank_processing.calc_test_rank()"
   ]
  },
  {
   "cell_type": "code",
   "execution_count": null,
   "metadata": {
    "collapsed": true
   },
   "outputs": [],
   "source": [
    "rank_processing.calc_popular_rank()"
   ]
  },
  {
   "cell_type": "code",
   "execution_count": null,
   "metadata": {
    "collapsed": true
   },
   "outputs": [],
   "source": [
    "gb_model.get_params()"
   ]
  },
  {
   "cell_type": "code",
   "execution_count": null,
   "metadata": {
    "collapsed": true,
    "scrolled": true
   },
   "outputs": [],
   "source": [
    "zip(gb_model.feature_importances_, X_gb_train.columns.values)"
   ]
  },
  {
   "cell_type": "markdown",
   "metadata": {},
   "source": [
    "## Train Gradient Boosted Regressor with some Params Tweaked:"
   ]
  },
  {
   "cell_type": "code",
   "execution_count": null,
   "metadata": {
    "collapsed": true
   },
   "outputs": [],
   "source": [
    "gb_model_v2 = GradientBoostingRegressor(loss='ls', learning_rate=.01, n_estimators=1000, subsample=0.5, max_depth=10)"
   ]
  },
  {
   "cell_type": "code",
   "execution_count": null,
   "metadata": {
    "collapsed": true
   },
   "outputs": [],
   "source": [
    "gb_model_v2.fit(X_gb_train, y_gb_train)"
   ]
  },
  {
   "cell_type": "code",
   "execution_count": null,
   "metadata": {
    "collapsed": true
   },
   "outputs": [],
   "source": [
    "gb_model_v2.score(X_gb_val, y_gb_val) #this uses r^2 for scoring....not helpful in my situation"
   ]
  },
  {
   "cell_type": "markdown",
   "metadata": {},
   "source": [
    "The df needs to include columns for user, item, actual outcome, and predicted outcome\n",
    "    user, item, actual, prediction - strings indicating the name of each column in\n",
    "    the predictions file for use in the function"
   ]
  },
  {
   "cell_type": "code",
   "execution_count": null,
   "metadata": {
    "collapsed": true
   },
   "outputs": [],
   "source": [
    "gb_valpreds_v2 = gb_model_v2.predict(X_gb_val)"
   ]
  },
  {
   "cell_type": "code",
   "execution_count": null,
   "metadata": {
    "collapsed": true
   },
   "outputs": [],
   "source": [
    "len(gb_valpreds_v2)"
   ]
  },
  {
   "cell_type": "code",
   "execution_count": null,
   "metadata": {
    "collapsed": true
   },
   "outputs": [],
   "source": [
    "len(y_gb_val)"
   ]
  },
  {
   "cell_type": "code",
   "execution_count": null,
   "metadata": {
    "collapsed": true
   },
   "outputs": [],
   "source": [
    "rankeval_valpreds_df_v2 = pd.DataFrame({'PersonID': gb_train_data['PersonID'].iloc[592450:], 'EventID': \n",
    "                                      gb_train_data['EventID'].iloc[592450:], 'Participated': y_gb_val.values, \n",
    "                                      'prediction': gb_valpreds_v2})"
   ]
  },
  {
   "cell_type": "code",
   "execution_count": null,
   "metadata": {
    "collapsed": true
   },
   "outputs": [],
   "source": [
    "rankeval_valpreds_df_v2.head()"
   ]
  },
  {
   "cell_type": "code",
   "execution_count": null,
   "metadata": {
    "collapsed": true
   },
   "outputs": [],
   "source": [
    "rank_processing_v2 = rank_eval.RankEval(rankeval_valpreds_df_v2, 'PersonID', 'EventID', 'Participated', 'prediction')"
   ]
  },
  {
   "cell_type": "code",
   "execution_count": null,
   "metadata": {
    "collapsed": true
   },
   "outputs": [],
   "source": [
    "rank_processing_v2.calc_test_rank()"
   ]
  },
  {
   "cell_type": "code",
   "execution_count": null,
   "metadata": {
    "collapsed": true
   },
   "outputs": [],
   "source": [
    "rank_processing_v2.calc_popular_rank()"
   ]
  },
  {
   "cell_type": "code",
   "execution_count": null,
   "metadata": {
    "collapsed": true
   },
   "outputs": [],
   "source": [
    "gb_model_v2.get_params()"
   ]
  },
  {
   "cell_type": "code",
   "execution_count": null,
   "metadata": {
    "collapsed": true,
    "scrolled": false
   },
   "outputs": [],
   "source": [
    "zip(gb_model_v2.feature_importances_, X_gb_train.columns.values)"
   ]
  },
  {
   "cell_type": "markdown",
   "metadata": {
    "collapsed": true
   },
   "source": [
    "## v5 Gradient Boost Fit - final pick"
   ]
  },
  {
   "cell_type": "code",
   "execution_count": null,
   "metadata": {
    "collapsed": true
   },
   "outputs": [],
   "source": [
    "gb_model_v4 = GradientBoostingRegressor(loss='ls', learning_rate=.01, n_estimators=100, subsample=0.5, max_depth=3)"
   ]
  },
  {
   "cell_type": "code",
   "execution_count": null,
   "metadata": {
    "collapsed": true
   },
   "outputs": [],
   "source": [
    "gb_model_v4.fit(X_gb_train, y_gb_train)"
   ]
  },
  {
   "cell_type": "code",
   "execution_count": null,
   "metadata": {
    "collapsed": true
   },
   "outputs": [],
   "source": [
    "gb_valpreds_v4 = gb_model_v4.predict(X_gb_val)"
   ]
  },
  {
   "cell_type": "code",
   "execution_count": null,
   "metadata": {
    "collapsed": true
   },
   "outputs": [],
   "source": [
    "len(gb_valpreds_v4)"
   ]
  },
  {
   "cell_type": "code",
   "execution_count": null,
   "metadata": {
    "collapsed": true
   },
   "outputs": [],
   "source": [
    "len(y_gb_val)"
   ]
  },
  {
   "cell_type": "code",
   "execution_count": null,
   "metadata": {
    "collapsed": true
   },
   "outputs": [],
   "source": [
    "rankeval_valpreds_df_v4 = pd.DataFrame({'PersonID': gb_train_data['PersonID'].iloc[592450:], 'EventID': \n",
    "                                      gb_train_data['EventID'].iloc[592450:], 'Participated': y_gb_val.values, \n",
    "                                      'prediction': gb_valpreds_v4})"
   ]
  },
  {
   "cell_type": "code",
   "execution_count": null,
   "metadata": {
    "collapsed": true
   },
   "outputs": [],
   "source": [
    "rankeval_valpreds_df_v4.head()"
   ]
  },
  {
   "cell_type": "code",
   "execution_count": null,
   "metadata": {
    "collapsed": true
   },
   "outputs": [],
   "source": [
    "rank_processing_v4 = rank_eval.RankEval(rankeval_valpreds_df_v4, 'PersonID', 'EventID', 'Participated', 'prediction')"
   ]
  },
  {
   "cell_type": "code",
   "execution_count": null,
   "metadata": {
    "collapsed": true
   },
   "outputs": [],
   "source": [
    "rank_processing_v4.calc_test_rank()"
   ]
  },
  {
   "cell_type": "code",
   "execution_count": null,
   "metadata": {
    "collapsed": true
   },
   "outputs": [],
   "source": [
    "rank_processing_v4.calc_popular_rank()"
   ]
  },
  {
   "cell_type": "code",
   "execution_count": null,
   "metadata": {
    "collapsed": true
   },
   "outputs": [],
   "source": [
    "gb_model_v4.get_params()"
   ]
  },
  {
   "cell_type": "code",
   "execution_count": null,
   "metadata": {
    "collapsed": true,
    "scrolled": false
   },
   "outputs": [],
   "source": [
    "zip(gb_model_v4.feature_importances_, X_gb_train.columns.values)"
   ]
  },
  {
   "cell_type": "code",
   "execution_count": null,
   "metadata": {
    "collapsed": true
   },
   "outputs": [],
   "source": [
    "with open ('26OCT17_finalfitmodels/gb_model_trainfit', 'w') as f:\n",
    "    pickle.dump(gb_model_v4, f)\n",
    "with open ('26OCT17_finalfitmodels/gb_valpreds_trainfit', 'w') as f:\n",
    "    pickle.dump(gb_valpreds_v4, f)"
   ]
  },
  {
   "cell_type": "markdown",
   "metadata": {
    "collapsed": true
   },
   "source": [
    "## Refit selected model with train+val data:"
   ]
  },
  {
   "cell_type": "code",
   "execution_count": null,
   "metadata": {
    "collapsed": true
   },
   "outputs": [],
   "source": [
    "X_gb_trainval = gb_train_data[['SeriesID_prediction', 'EventTypeID_prediction', 'Venue_Zip_prediction', 'Total_Fee_Avg_prediction', \n",
    "                      'Miles2_Avg_prediction']]"
   ]
  },
  {
   "cell_type": "code",
   "execution_count": null,
   "metadata": {
    "collapsed": true
   },
   "outputs": [],
   "source": [
    "y_gb_trainval = gb_train_data['Participated']"
   ]
  },
  {
   "cell_type": "code",
   "execution_count": null,
   "metadata": {
    "collapsed": true
   },
   "outputs": [],
   "source": [
    "gb_model_final = GradientBoostingRegressor(loss='ls', learning_rate=.01, n_estimators=100, subsample=0.5, max_depth=3)"
   ]
  },
  {
   "cell_type": "code",
   "execution_count": null,
   "metadata": {
    "collapsed": true
   },
   "outputs": [],
   "source": [
    "gb_model_final.fit(X_gb_trainval, y_gb_trainval)"
   ]
  },
  {
   "cell_type": "code",
   "execution_count": null,
   "metadata": {
    "collapsed": true
   },
   "outputs": [],
   "source": [
    "gb_model_final.score(X_gb_test, y_gb_test) #this uses r^2 for scoring....not helpful in my situation"
   ]
  },
  {
   "cell_type": "markdown",
   "metadata": {},
   "source": [
    "The df needs to include columns for user, item, actual outcome, and predicted outcome\n",
    "    user, item, actual, prediction - strings indicating the name of each column in\n",
    "    the predictions file for use in the function"
   ]
  },
  {
   "cell_type": "code",
   "execution_count": null,
   "metadata": {
    "collapsed": true
   },
   "outputs": [],
   "source": [
    "gb_testpreds_final = gb_model_final.predict(X_gb_test)"
   ]
  },
  {
   "cell_type": "code",
   "execution_count": null,
   "metadata": {
    "collapsed": true
   },
   "outputs": [],
   "source": [
    "len(gb_testpreds_final)"
   ]
  },
  {
   "cell_type": "code",
   "execution_count": null,
   "metadata": {
    "collapsed": true
   },
   "outputs": [],
   "source": [
    "len(y_gb_test)"
   ]
  },
  {
   "cell_type": "code",
   "execution_count": null,
   "metadata": {
    "collapsed": true
   },
   "outputs": [],
   "source": [
    "len(gb_test_data)"
   ]
  },
  {
   "cell_type": "code",
   "execution_count": null,
   "metadata": {
    "collapsed": true
   },
   "outputs": [],
   "source": [
    "rankeval_testpreds_df_final = pd.DataFrame({'PersonID': gb_test_data['PersonID'], 'EventID': \n",
    "                                      gb_test_data['EventID'], 'Participated': y_gb_test.values, \n",
    "                                      'prediction': gb_testpreds_final})"
   ]
  },
  {
   "cell_type": "code",
   "execution_count": null,
   "metadata": {
    "collapsed": true
   },
   "outputs": [],
   "source": [
    "rankeval_testpreds_df_final.head()"
   ]
  },
  {
   "cell_type": "code",
   "execution_count": null,
   "metadata": {
    "collapsed": true
   },
   "outputs": [],
   "source": [
    "rank_processing_final = rank_eval.RankEval(rankeval_testpreds_df_final, 'PersonID', 'EventID', 'Participated', 'prediction')"
   ]
  },
  {
   "cell_type": "code",
   "execution_count": null,
   "metadata": {
    "collapsed": true
   },
   "outputs": [],
   "source": [
    "rank_processing_final.calc_test_rank()"
   ]
  },
  {
   "cell_type": "code",
   "execution_count": null,
   "metadata": {
    "collapsed": true,
    "scrolled": true
   },
   "outputs": [],
   "source": [
    "rank_processing_final.calc_popular_rank()"
   ]
  },
  {
   "cell_type": "code",
   "execution_count": null,
   "metadata": {
    "collapsed": true
   },
   "outputs": [],
   "source": [
    "gb_trainvalpreds_final = gb_model_final.predict(X_gb_trainval)"
   ]
  },
  {
   "cell_type": "code",
   "execution_count": null,
   "metadata": {
    "collapsed": true
   },
   "outputs": [],
   "source": [
    "len(gb_trainvalpreds_final)"
   ]
  },
  {
   "cell_type": "code",
   "execution_count": null,
   "metadata": {
    "collapsed": true
   },
   "outputs": [],
   "source": [
    "len(y_gb_trainval)"
   ]
  },
  {
   "cell_type": "code",
   "execution_count": null,
   "metadata": {
    "collapsed": true
   },
   "outputs": [],
   "source": [
    "len(gb_train_data)"
   ]
  },
  {
   "cell_type": "code",
   "execution_count": null,
   "metadata": {
    "collapsed": true
   },
   "outputs": [],
   "source": [
    "rankeval_trainvalpreds_df_final = pd.DataFrame({'PersonID': gb_train_data['PersonID'], 'EventID': \n",
    "                                      gb_train_data['EventID'], 'Participated': y_gb_trainval.values, \n",
    "                                      'prediction': gb_trainvalpreds_final})"
   ]
  },
  {
   "cell_type": "code",
   "execution_count": null,
   "metadata": {
    "collapsed": true
   },
   "outputs": [],
   "source": [
    "rank_processing_final_train = rank_eval.RankEval(rankeval_trainvalpreds_df_final, 'PersonID', 'EventID', 'Participated', 'prediction')"
   ]
  },
  {
   "cell_type": "code",
   "execution_count": null,
   "metadata": {
    "collapsed": true
   },
   "outputs": [],
   "source": [
    "rank_processing_final_train.calc_test_rank()"
   ]
  },
  {
   "cell_type": "code",
   "execution_count": null,
   "metadata": {
    "collapsed": true
   },
   "outputs": [],
   "source": [
    "rank_processing_final_train.calc_popular_rank()"
   ]
  },
  {
   "cell_type": "code",
   "execution_count": null,
   "metadata": {
    "collapsed": true
   },
   "outputs": [],
   "source": [
    "gb_model_final.get_params()"
   ]
  },
  {
   "cell_type": "code",
   "execution_count": null,
   "metadata": {
    "collapsed": true,
    "scrolled": false
   },
   "outputs": [],
   "source": [
    "zip(gb_model_final.feature_importances_, X_gb_train.columns.values)"
   ]
  },
  {
   "cell_type": "code",
   "execution_count": null,
   "metadata": {
    "collapsed": true
   },
   "outputs": [],
   "source": [
    "with open ('26OCT17_finalfitmodels/gb_model_final', 'w') as f:\n",
    "    pickle.dump(gb_model_final, f)\n",
    "with open ('26OCT17_finalfitmodels/gb_testpreds_final', 'w') as f:\n",
    "    pickle.dump(gb_testpreds_final, f)"
   ]
  },
  {
   "cell_type": "markdown",
   "metadata": {
    "collapsed": true
   },
   "source": [
    "## Gather Info on Top Events and Likely Participants from Top 5 Recommendations Info for Each Person"
   ]
  },
  {
   "cell_type": "code",
   "execution_count": null,
   "metadata": {
    "collapsed": true
   },
   "outputs": [],
   "source": [
    "with open ('26OCT17_finalfitmodels/gb_testpreds_final', 'rb') as f:\n",
    "    gb_testpreds_final = pickle.load(f)\n",
    "with open ('26OCT17_finalfitmodels/gb_test_data.pkl', 'rb') as f:\n",
    "    gb_test_data = pickle.load(f)\n",
    "with open ('26OCT17_finalfitmodels/gb_train_data.pkl', 'rb') as f:\n",
    "    gb_train_data = pickle.load(f)"
   ]
  },
  {
   "cell_type": "code",
   "execution_count": null,
   "metadata": {
    "collapsed": true
   },
   "outputs": [],
   "source": [
    "with open ('24OCT17_pipelinerun/cleaned_df.pkl', 'rb') as f:\n",
    "    cleaned_data = pickle.load(f)"
   ]
  },
  {
   "cell_type": "code",
   "execution_count": null,
   "metadata": {
    "collapsed": true
   },
   "outputs": [],
   "source": [
    "rankeval_testpreds_df_final = pd.DataFrame({'PersonID': gb_test_data['PersonID'], 'EventID': \n",
    "                                      gb_test_data['EventID'], 'Participated': gb_test_data['Participated'], \n",
    "                                      'prediction': gb_testpreds_final})"
   ]
  },
  {
   "cell_type": "code",
   "execution_count": null,
   "metadata": {
    "collapsed": true
   },
   "outputs": [],
   "source": [
    "D_topeventcounts = defaultdict(int)\n",
    "D_likelyusers = defaultdict(list)\n",
    "\n",
    "for person in rankeval_testpreds_df_final['PersonID'].unique():\n",
    "    temp_df = rankeval_testpreds_df_final[rankeval_testpreds_df_final[\"PersonID\"] == person].copy()\n",
    "    temp_df.sort_values('prediction', ascending=False, inplace=True)\n",
    "    temp_df = temp_df.iloc[:5]\n",
    "    \n",
    "    for event in temp_df['EventID'].values:\n",
    "        D_topeventcounts[event] += 1\n",
    "        D_likelyusers[event].append(person)"
   ]
  },
  {
   "cell_type": "code",
   "execution_count": null,
   "metadata": {
    "collapsed": true
   },
   "outputs": [],
   "source": [
    "D_topeventcounts\n",
    "#Number of instances that an event in the test dataset shows up in a person's top 10 recommendations"
   ]
  },
  {
   "cell_type": "code",
   "execution_count": null,
   "metadata": {
    "collapsed": true
   },
   "outputs": [],
   "source": [
    "topevents_df = pd.DataFrame({'EventID': D_topeventcounts.keys(), 'Count in Top 5s': D_topeventcounts.values()})"
   ]
  },
  {
   "cell_type": "code",
   "execution_count": null,
   "metadata": {
    "collapsed": true
   },
   "outputs": [],
   "source": [
    "topevents_df = pd.merge(topevents_df, cleaned_data, on='EventID')"
   ]
  },
  {
   "cell_type": "code",
   "execution_count": null,
   "metadata": {
    "collapsed": true
   },
   "outputs": [],
   "source": [
    "topevents_df = topevents_df[['Count in Top 5s', 'EventID', 'Total fee', 'Event_Name', 'Event_Date', 'MergeoEvent', \n",
    "                            'EventType', 'SeriesID', 'Miles2', 'Venue_Zip']]"
   ]
  },
  {
   "cell_type": "code",
   "execution_count": null,
   "metadata": {
    "collapsed": true
   },
   "outputs": [],
   "source": [
    "D_avgfees = defaultdict(float)\n",
    "\n",
    "idx = topevents_df.groupby('EventID')['Total fee'].mean().index.values\n",
    "vals = topevents_df.groupby('EventID')['Total fee'].mean().values\n",
    "\n",
    "for idx, val in zip(idx, vals):\n",
    "    D_avgfees[idx] = round(val, 2)"
   ]
  },
  {
   "cell_type": "code",
   "execution_count": null,
   "metadata": {
    "collapsed": true
   },
   "outputs": [],
   "source": [
    "D_avgmiles = defaultdict(float)\n",
    "\n",
    "idx = topevents_df.groupby('EventID')['Miles2'].mean().index.values\n",
    "vals = topevents_df.groupby('EventID')['Miles2'].mean().values\n",
    "\n",
    "for idx, val in zip(idx, vals):\n",
    "    D_avgmiles[idx] = round(val, 2)"
   ]
  },
  {
   "cell_type": "code",
   "execution_count": null,
   "metadata": {
    "collapsed": true
   },
   "outputs": [],
   "source": [
    "topevents_df['Total fee'] = topevents_df['EventID'].apply(lambda x: D_avgfees[x])\n",
    "topevents_df['Miles2'] = topevents_df['EventID'].apply(lambda x: D_avgmiles[x])"
   ]
  },
  {
   "cell_type": "code",
   "execution_count": null,
   "metadata": {
    "collapsed": true
   },
   "outputs": [],
   "source": [
    "topevents_df.drop_duplicates(subset='EventID', inplace=True)"
   ]
  },
  {
   "cell_type": "code",
   "execution_count": null,
   "metadata": {
    "collapsed": true
   },
   "outputs": [],
   "source": [
    "topevents_df.sort_values(by='Count in Top 5s', ascending=False, inplace=True)\n",
    "topevents_df.reset_index(drop=True, inplace = True)\n",
    "topevents_df\n",
    "\n",
    "#Not much trend showing up in top recommended events with regard to fee, miles, venue zips, event date....a little series\n",
    "#try changing miles ALS to # of distance options at race rather than average mileage for race"
   ]
  },
  {
   "cell_type": "code",
   "execution_count": null,
   "metadata": {
    "collapsed": true
   },
   "outputs": [],
   "source": [
    "plt.plot(topevents_df.index.values, topevents_df['Total fee'])"
   ]
  },
  {
   "cell_type": "code",
   "execution_count": null,
   "metadata": {
    "collapsed": true
   },
   "outputs": [],
   "source": [
    "D_likelyusers[81][:10]\n",
    "#PersonIDs for which the given EventID is in their Top 10 recommendations"
   ]
  },
  {
   "cell_type": "code",
   "execution_count": null,
   "metadata": {
    "collapsed": true
   },
   "outputs": [],
   "source": [
    "likelyusers_event81_df = pd.DataFrame({'EventID': 81, 'PersonID': D_likelyusers[81]})\n",
    "likelyusers_event81_df.head()"
   ]
  },
  {
   "cell_type": "code",
   "execution_count": null,
   "metadata": {
    "collapsed": true
   },
   "outputs": [],
   "source": [
    "likelyusers_event81_df = pd.merge(likelyusers_event81_df, cleaned_data, on='PersonID')"
   ]
  },
  {
   "cell_type": "code",
   "execution_count": null,
   "metadata": {
    "collapsed": true
   },
   "outputs": [],
   "source": [
    "likelyusers_event81_df = likelyusers_event81_df[['PersonID', 'Gender', 'Age2', 'Zip Code', 'EventID_x']]"
   ]
  },
  {
   "cell_type": "code",
   "execution_count": null,
   "metadata": {
    "collapsed": true
   },
   "outputs": [],
   "source": [
    "likelyusers_event81_df.drop_duplicates(subset='PersonID', inplace=True)"
   ]
  },
  {
   "cell_type": "code",
   "execution_count": null,
   "metadata": {
    "collapsed": true
   },
   "outputs": [],
   "source": [
    "likelyusers_event81_df.head()"
   ]
  },
  {
   "cell_type": "code",
   "execution_count": null,
   "metadata": {
    "collapsed": true
   },
   "outputs": [],
   "source": [
    "tot_recs = float(len(likelyusers_event81_df))\n",
    "print('Number of Top 5 Recommendations Users for Event 81, Seward Sizzler: {}'.format(tot_recs))"
   ]
  },
  {
   "cell_type": "code",
   "execution_count": null,
   "metadata": {
    "collapsed": true
   },
   "outputs": [],
   "source": [
    "print('Percent Male/Female Reccomended for Race 81, Seward Sizzler: {}, {}'.format(\n",
    "    (likelyusers_event81_df[likelyusers_event81_df['Gender'] == 'Male'].count()['PersonID'])/tot_recs, \n",
    "    (likelyusers_event81_df[likelyusers_event81_df['Gender'] == 'Female'].count()['PersonID'])/tot_recs))"
   ]
  },
  {
   "cell_type": "code",
   "execution_count": null,
   "metadata": {
    "collapsed": true
   },
   "outputs": [],
   "source": [
    "tot_males = float(cleaned_data[cleaned_data['Gender'] == 'Male'].drop_duplicates('PersonID').count()['PersonID'])\n",
    "tot_males"
   ]
  },
  {
   "cell_type": "code",
   "execution_count": null,
   "metadata": {
    "collapsed": true
   },
   "outputs": [],
   "source": [
    "tot_females = float(cleaned_data[cleaned_data['Gender'] == 'Female'].drop_duplicates('PersonID').count()['PersonID'])\n",
    "tot_females"
   ]
  },
  {
   "cell_type": "code",
   "execution_count": null,
   "metadata": {
    "collapsed": true
   },
   "outputs": [],
   "source": [
    "print('Percent Male/Female in Total Population: {}, {}'.format(\n",
    "    (tot_males / (tot_males+tot_females)), (tot_females / (tot_males+tot_females))))"
   ]
  },
  {
   "cell_type": "code",
   "execution_count": null,
   "metadata": {
    "collapsed": true
   },
   "outputs": [],
   "source": [
    "print('Average Age Reccomended for Race 81, Spring Run for Fun: {}'.format(\n",
    "    round(likelyusers_event81_df['Age2'].mean(), 1)))"
   ]
  },
  {
   "cell_type": "code",
   "execution_count": null,
   "metadata": {
    "collapsed": true
   },
   "outputs": [],
   "source": [
    "print('Average Age in Total Population: {}'.format(\n",
    "    round(cleaned_data['Age2'].mean(), 1)))"
   ]
  },
  {
   "cell_type": "markdown",
   "metadata": {
    "collapsed": true
   },
   "source": [
    "## Ensemble rank score is worse than each individual ALS model's score from the test set:\n",
    "\n",
    "* Ensemble: 7.2645672521985833 on Train, 18.517767702087443 on Test\n",
    "\n",
    "\n",
    "* Series ALS: 1.53641759679 on Train, 4.8609993163 on Test\n",
    "* Event Type ALS: 0.00684473620581 on Train, 0.41742084036 on Test\n",
    "* Venue ALS: 6.5784112444 on Train, 13.3852376048 on Test\n",
    "* Avg Fee ALS: 6.02542849691 on Train, 14.875102889 on Test\n",
    "* Avg Miles ALS: 2.24288129789 on Train, 10.1237046386 on Test\n",
    "\n",
    "#### Try a naive approach to ensembling, just averaging the input predictions from each ALS for each person to compare that score to the GB score"
   ]
  },
  {
   "cell_type": "markdown",
   "metadata": {},
   "source": [
    "#### On Train Data:"
   ]
  },
  {
   "cell_type": "code",
   "execution_count": null,
   "metadata": {
    "collapsed": true
   },
   "outputs": [],
   "source": [
    "gb_train_data.head()"
   ]
  },
  {
   "cell_type": "code",
   "execution_count": null,
   "metadata": {
    "collapsed": true
   },
   "outputs": [],
   "source": [
    "naive_train_ensemble = gb_train_data.copy()"
   ]
  },
  {
   "cell_type": "code",
   "execution_count": null,
   "metadata": {
    "collapsed": true
   },
   "outputs": [],
   "source": [
    "naive_train_ensemble['prediction'] = (naive_train_ensemble['SeriesID_prediction'] +\n",
    "                                      naive_train_ensemble['EventTypeID_prediction'] +\n",
    "                                      naive_train_ensemble['Venue_Zip_prediction'] +\n",
    "                                      naive_train_ensemble['Total_Fee_Avg_prediction'] +\n",
    "                                      naive_train_ensemble['Miles2_Avg_prediction']) / 5."
   ]
  },
  {
   "cell_type": "code",
   "execution_count": null,
   "metadata": {
    "collapsed": true
   },
   "outputs": [],
   "source": [
    "naive_train_ensemble.drop(['Event_Date', 'SeriesID_prediction', 'EventTypeID_prediction', 'Venue_Zip_prediction', \n",
    "                          'Total_Fee_Avg_prediction', 'Miles2_Avg_prediction'], axis=1, inplace=True)"
   ]
  },
  {
   "cell_type": "code",
   "execution_count": null,
   "metadata": {
    "collapsed": true
   },
   "outputs": [],
   "source": [
    "naive_train_ensemble.head()"
   ]
  },
  {
   "cell_type": "code",
   "execution_count": null,
   "metadata": {
    "collapsed": true
   },
   "outputs": [],
   "source": [
    "rank_processing_naive_train = rank_eval.RankEval(naive_train_ensemble, 'PersonID', 'EventID', 'Participated', 'prediction')"
   ]
  },
  {
   "cell_type": "code",
   "execution_count": null,
   "metadata": {
    "collapsed": true
   },
   "outputs": [],
   "source": [
    "rank_processing_naive_train.calc_test_rank()"
   ]
  },
  {
   "cell_type": "code",
   "execution_count": null,
   "metadata": {
    "collapsed": true,
    "scrolled": true
   },
   "outputs": [],
   "source": [
    "rank_processing_naive_train.calc_popular_rank()"
   ]
  },
  {
   "cell_type": "markdown",
   "metadata": {},
   "source": [
    "#### On Test Data:"
   ]
  },
  {
   "cell_type": "code",
   "execution_count": null,
   "metadata": {
    "collapsed": true
   },
   "outputs": [],
   "source": [
    "gb_test_data.head()"
   ]
  },
  {
   "cell_type": "code",
   "execution_count": null,
   "metadata": {
    "collapsed": true
   },
   "outputs": [],
   "source": [
    "naive_test_ensemble = gb_test_data.copy()"
   ]
  },
  {
   "cell_type": "code",
   "execution_count": null,
   "metadata": {
    "collapsed": true
   },
   "outputs": [],
   "source": [
    "naive_test_ensemble['prediction'] = (naive_test_ensemble['SeriesID_prediction'] +\n",
    "                                     naive_test_ensemble['EventTypeID_prediction'] +\n",
    "                                      naive_test_ensemble['Venue_Zip_prediction'] +\n",
    "                                      naive_test_ensemble['Total_Fee_Avg_prediction'] +\n",
    "                                      naive_test_ensemble['Miles2_Avg_prediction']) / 4."
   ]
  },
  {
   "cell_type": "code",
   "execution_count": null,
   "metadata": {
    "collapsed": true
   },
   "outputs": [],
   "source": [
    "naive_test_ensemble.drop(['Event_Date', 'SeriesID_prediction', 'EventTypeID_prediction', 'Venue_Zip_prediction', \n",
    "                          'Total_Fee_Avg_prediction', 'Miles2_Avg_prediction'], axis=1, inplace=True)"
   ]
  },
  {
   "cell_type": "code",
   "execution_count": null,
   "metadata": {
    "collapsed": true
   },
   "outputs": [],
   "source": [
    "naive_test_ensemble.head()"
   ]
  },
  {
   "cell_type": "code",
   "execution_count": null,
   "metadata": {
    "collapsed": true
   },
   "outputs": [],
   "source": [
    "rank_processing_naive_test = rank_eval.RankEval(naive_test_ensemble, 'PersonID', 'EventID', 'Participated', 'prediction')"
   ]
  },
  {
   "cell_type": "code",
   "execution_count": null,
   "metadata": {
    "collapsed": true
   },
   "outputs": [],
   "source": [
    "rank_processing_naive_test.calc_test_rank()"
   ]
  },
  {
   "cell_type": "code",
   "execution_count": null,
   "metadata": {
    "collapsed": true,
    "scrolled": true
   },
   "outputs": [],
   "source": [
    "rank_processing_naive_test.calc_popular_rank()"
   ]
  },
  {
   "cell_type": "code",
   "execution_count": null,
   "metadata": {
    "collapsed": true
   },
   "outputs": [],
   "source": []
  },
  {
   "cell_type": "code",
   "execution_count": null,
   "metadata": {
    "collapsed": true
   },
   "outputs": [],
   "source": []
  }
 ],
 "metadata": {
  "kernelspec": {
   "display_name": "Python 2",
   "language": "python",
   "name": "python2"
  },
  "language_info": {
   "codemirror_mode": {
    "name": "ipython",
    "version": 2
   },
   "file_extension": ".py",
   "mimetype": "text/x-python",
   "name": "python",
   "nbconvert_exporter": "python",
   "pygments_lexer": "ipython2",
   "version": "2.7.13"
  }
 },
 "nbformat": 4,
 "nbformat_minor": 2
}

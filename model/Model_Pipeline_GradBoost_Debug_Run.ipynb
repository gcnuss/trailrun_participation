{
 "cells": [
  {
   "cell_type": "code",
   "execution_count": 105,
   "metadata": {},
   "outputs": [],
   "source": [
    "import als_model"
   ]
  },
  {
   "cell_type": "code",
   "execution_count": 58,
   "metadata": {
    "collapsed": true
   },
   "outputs": [],
   "source": [
    "%matplotlib inline"
   ]
  },
  {
   "cell_type": "code",
   "execution_count": 72,
   "metadata": {
    "collapsed": true
   },
   "outputs": [],
   "source": [
    "import geocoder"
   ]
  },
  {
   "cell_type": "code",
   "execution_count": 75,
   "metadata": {},
   "outputs": [
    {
     "name": "stdout",
     "output_type": "stream",
     "text": [
      "Carkeek Warmer Carkeek Park, Seattle, WA <[OVER_QUERY_LIMIT] Google - Geocode [empty]> None\n"
     ]
    }
   ],
   "source": [
    "run dataprep.py"
   ]
  },
  {
   "cell_type": "code",
   "execution_count": 76,
   "metadata": {
    "collapsed": true
   },
   "outputs": [],
   "source": [
    "#manually add the one missing zipcode\n",
    "g = geocoder.google(\"Carkeek Park, Seattle, WA\")"
   ]
  },
  {
   "cell_type": "code",
   "execution_count": 77,
   "metadata": {},
   "outputs": [
    {
     "data": {
      "text/plain": [
       "<[OK] Google - Geocode [Carkeek Park, 950 NW Carkeek Park Rd, Seattle, WA 98177, USA]>"
      ]
     },
     "execution_count": 77,
     "metadata": {},
     "output_type": "execute_result"
    }
   ],
   "source": [
    "g"
   ]
  },
  {
   "cell_type": "code",
   "execution_count": 91,
   "metadata": {},
   "outputs": [],
   "source": [
    "cleaned_df['Venue_Zip2'] = cleaned_df[['Venue_Zip', 'Event_Name']].apply(lambda row: 98177 if row[1]=='Carkeek Warmer'\n",
    "                                                                       else row[0], axis=1)"
   ]
  },
  {
   "cell_type": "code",
   "execution_count": 94,
   "metadata": {
    "collapsed": true
   },
   "outputs": [],
   "source": [
    "#pickle the cleaned_df for future use without having to re-run dataprep.py \n",
    "#(this will override the version automatically saved) by dataprep.py with the one with the corrected zipcode\n",
    "with open ('cleaned_df.pkl', 'w') as f:\n",
    "    pickle.dump(cleaned_df, f)\n",
    "    \n",
    "#to load this file in the future, run command:\n",
    "#with open('cleaned_df.pkl', 'rb') as f:\n",
    "    #dataframe = pickle.load(f)"
   ]
  },
  {
   "cell_type": "markdown",
   "metadata": {},
   "source": [
    "## Instantiate Class Instance for ALS Model, Prep and Run:"
   ]
  },
  {
   "cell_type": "code",
   "execution_count": 106,
   "metadata": {},
   "outputs": [],
   "source": [
    "als_model = als_model.implicit_als(cleaned_df)"
   ]
  },
  {
   "cell_type": "code",
   "execution_count": 107,
   "metadata": {},
   "outputs": [
    {
     "data": {
      "text/plain": [
       "DataFrame[PersonID: bigint, EventID: bigint, Participated: bigint, Event_Date: bigint, SeriesID: double, EventTypeID: bigint, Total_Fee_Avg: bigint, Miles2_Avg: bigint, Venue_Zip: bigint]"
      ]
     },
     "execution_count": 107,
     "metadata": {},
     "output_type": "execute_result"
    }
   ],
   "source": [
    "als_model.prep_spark_full_df()"
   ]
  },
  {
   "cell_type": "code",
   "execution_count": 108,
   "metadata": {},
   "outputs": [
    {
     "name": "stdout",
     "output_type": "stream",
     "text": [
      "+--------+-------+------------+-------------------+--------+-----------+-------------+----------+---------+\n",
      "|PersonID|EventID|Participated|         Event_Date|SeriesID|EventTypeID|Total_Fee_Avg|Miles2_Avg|Venue_Zip|\n",
      "+--------+-------+------------+-------------------+--------+-----------+-------------+----------+---------+\n",
      "|       1|     11|           1|1423958400000000000|     0.0|          1|           46|        12|    98239|\n",
      "|       2|     11|           0|1423958400000000000|     0.0|          1|           46|        12|    98239|\n",
      "|       3|     11|           0|1423958400000000000|     0.0|          1|           46|        12|    98239|\n",
      "|       4|     11|           0|1423958400000000000|     0.0|          1|           46|        12|    98239|\n",
      "|       5|     11|           0|1423958400000000000|     0.0|          1|           46|        12|    98239|\n",
      "+--------+-------+------------+-------------------+--------+-----------+-------------+----------+---------+\n",
      "only showing top 5 rows\n",
      "\n"
     ]
    }
   ],
   "source": [
    "als_model.spark_full_df.show(5)"
   ]
  },
  {
   "cell_type": "code",
   "execution_count": 109,
   "metadata": {},
   "outputs": [
    {
     "name": "stdout",
     "output_type": "stream",
     "text": [
      "Train Size: 592450.0\n",
      "Validation Size: 148113.0\n",
      "Test Size: 185141.0\n"
     ]
    }
   ],
   "source": [
    "als_model.train_val_test_split()"
   ]
  },
  {
   "cell_type": "code",
   "execution_count": 110,
   "metadata": {},
   "outputs": [
    {
     "name": "stdout",
     "output_type": "stream",
     "text": [
      "participants in train: 10764\n",
      "participants in validate: 10764\n",
      "participants in test: 10764\n",
      "\n",
      "\n",
      "participants in both train & validate: 10764\n",
      "participants in both train & test: 10764\n",
      "\n",
      "\n",
      "EventID in train: 56\n",
      "EventID in validate: 14\n",
      "EventID in test: 18\n",
      "\n",
      "\n",
      "EventID in both train & validate: 1\n",
      "EventID in both train & test: 0\n"
     ]
    }
   ],
   "source": [
    "als_model.print_train_val_test_info(\"EventID\")"
   ]
  },
  {
   "cell_type": "code",
   "execution_count": 111,
   "metadata": {},
   "outputs": [],
   "source": [
    "als_model.create_participate_matrices(\"EventID\")"
   ]
  },
  {
   "cell_type": "code",
   "execution_count": 112,
   "metadata": {},
   "outputs": [
    {
     "name": "stdout",
     "output_type": "stream",
     "text": [
      "Predictions on Training Data:\n",
      "Predictions includes 592450 valid values and 0 nan values\n",
      "\n",
      "\n",
      "Mean prediction is 0.0303024963926\n",
      "Error of Type r2 = 0.317162022448\n",
      "Predictions on Validation Data:\n",
      "Predictions includes 10334 valid values and 137779 nan values\n",
      "\n",
      "\n",
      "Mean prediction is 0.00201103141265\n",
      "Error of Type r2 = -0.0142867802634\n"
     ]
    }
   ],
   "source": [
    "als_model.run_ALS_TVS(event_param=\"EventID\", scoring=\"r2\")"
   ]
  },
  {
   "cell_type": "code",
   "execution_count": 128,
   "metadata": {},
   "outputs": [],
   "source": [
    "parammap = als_model.tvs_model.getEstimatorParamMaps()\n",
    "avgmetrics = als_model.tvs_model.validationMetrics\n",
    "\n",
    "zipped_tvs_model_info = zip(parammap, avgmetrics)"
   ]
  },
  {
   "cell_type": "code",
   "execution_count": 135,
   "metadata": {},
   "outputs": [
    {
     "data": {
      "text/plain": [
       "(-0.14203634369376705, -0.14203634369376705)"
      ]
     },
     "execution_count": 135,
     "metadata": {},
     "output_type": "execute_result"
    }
   ],
   "source": [
    "min(avgmetrics), max(avgmetrics)\n",
    "#All combinations of parameters give the same validation number...how can this be?"
   ]
  },
  {
   "cell_type": "code",
   "execution_count": 140,
   "metadata": {},
   "outputs": [],
   "source": [
    "full_df_pd = als_model.spark_full_df.toPandas()\n",
    "als_fitted_model_tvsr2 = als_model.tvs_bestmodel\n",
    "als_trainpreds_tvsr2_pd = als_model.tvs_trainpreds.toPandas()\n",
    "\n",
    "with open (\"24OCT17_pipelinerun/full_df_pd.pkl\", 'w') as f:\n",
    "    pickle.dump(full_df_pd, f)\n",
    "\n",
    "als_fitted_model_tvsr2.save(\"24OCT17_pipelinerun/als_fitted_model_tvsr2\")\n",
    "\n",
    "with open (\"24OCT17_pipelinerun/als_trainpreds_tvsr2.pkl\", 'w') as f:\n",
    "    pickle.dump(als_trainpreds_tvsr2_pd, f)\n",
    "\n",
    "#Note: to load the model saved above in future, run command:\n",
    "#sameModel = GradientBoostedTreesModel.load(\"tvs_bestmodel_base\")"
   ]
  },
  {
   "cell_type": "code",
   "execution_count": 144,
   "metadata": {},
   "outputs": [],
   "source": [
    "import prep_gbdata"
   ]
  },
  {
   "cell_type": "code",
   "execution_count": 161,
   "metadata": {
    "collapsed": true
   },
   "outputs": [],
   "source": [
    "gb_dataprep = prep_gbdata.RegressionDataPrep(als_model.tvs_trainpreds, als_model.spark_full_df, user_df=cleaned_df)"
   ]
  },
  {
   "cell_type": "code",
   "execution_count": 162,
   "metadata": {},
   "outputs": [],
   "source": [
    "gb_dataprep.format_gb_data()"
   ]
  },
  {
   "cell_type": "code",
   "execution_count": 163,
   "metadata": {},
   "outputs": [
    {
     "data": {
      "text/html": [
       "<div>\n",
       "<style>\n",
       "    .dataframe thead tr:only-child th {\n",
       "        text-align: right;\n",
       "    }\n",
       "\n",
       "    .dataframe thead th {\n",
       "        text-align: left;\n",
       "    }\n",
       "\n",
       "    .dataframe tbody tr th {\n",
       "        vertical-align: top;\n",
       "    }\n",
       "</style>\n",
       "<table border=\"1\" class=\"dataframe\">\n",
       "  <thead>\n",
       "    <tr style=\"text-align: right;\">\n",
       "      <th></th>\n",
       "      <th>Event_Date</th>\n",
       "      <th>Total_Fee_Avg</th>\n",
       "      <th>Miles2_Avg</th>\n",
       "      <th>AgeAvg</th>\n",
       "      <th>y_label</th>\n",
       "      <th>SeriesID_1.0</th>\n",
       "      <th>SeriesID_2.0</th>\n",
       "      <th>SeriesID_3.0</th>\n",
       "      <th>SeriesID_4.0</th>\n",
       "      <th>EventTypeID_2</th>\n",
       "      <th>...</th>\n",
       "      <th>Venue_Zip_98118</th>\n",
       "      <th>Venue_Zip_98177</th>\n",
       "      <th>Venue_Zip_98208</th>\n",
       "      <th>Venue_Zip_98239</th>\n",
       "      <th>Venue_Zip_98290</th>\n",
       "      <th>Venue_Zip_98332</th>\n",
       "      <th>Venue_Zip_98922</th>\n",
       "      <th>Venue_Zip_99032</th>\n",
       "      <th>Gender_Male</th>\n",
       "      <th>Gender_Other</th>\n",
       "    </tr>\n",
       "  </thead>\n",
       "  <tbody>\n",
       "    <tr>\n",
       "      <th>0</th>\n",
       "      <td>1423958400000000000</td>\n",
       "      <td>46</td>\n",
       "      <td>12</td>\n",
       "      <td>28</td>\n",
       "      <td>1.000000</td>\n",
       "      <td>0</td>\n",
       "      <td>0</td>\n",
       "      <td>0</td>\n",
       "      <td>0</td>\n",
       "      <td>0</td>\n",
       "      <td>...</td>\n",
       "      <td>0</td>\n",
       "      <td>0</td>\n",
       "      <td>0</td>\n",
       "      <td>1</td>\n",
       "      <td>0</td>\n",
       "      <td>0</td>\n",
       "      <td>0</td>\n",
       "      <td>0</td>\n",
       "      <td>1</td>\n",
       "      <td>0</td>\n",
       "    </tr>\n",
       "    <tr>\n",
       "      <th>1</th>\n",
       "      <td>1423958400000000000</td>\n",
       "      <td>46</td>\n",
       "      <td>12</td>\n",
       "      <td>60</td>\n",
       "      <td>0.021625</td>\n",
       "      <td>0</td>\n",
       "      <td>0</td>\n",
       "      <td>0</td>\n",
       "      <td>0</td>\n",
       "      <td>0</td>\n",
       "      <td>...</td>\n",
       "      <td>0</td>\n",
       "      <td>0</td>\n",
       "      <td>0</td>\n",
       "      <td>1</td>\n",
       "      <td>0</td>\n",
       "      <td>0</td>\n",
       "      <td>0</td>\n",
       "      <td>0</td>\n",
       "      <td>0</td>\n",
       "      <td>0</td>\n",
       "    </tr>\n",
       "    <tr>\n",
       "      <th>2</th>\n",
       "      <td>1423958400000000000</td>\n",
       "      <td>46</td>\n",
       "      <td>12</td>\n",
       "      <td>40</td>\n",
       "      <td>0.000000</td>\n",
       "      <td>0</td>\n",
       "      <td>0</td>\n",
       "      <td>0</td>\n",
       "      <td>0</td>\n",
       "      <td>0</td>\n",
       "      <td>...</td>\n",
       "      <td>0</td>\n",
       "      <td>0</td>\n",
       "      <td>0</td>\n",
       "      <td>1</td>\n",
       "      <td>0</td>\n",
       "      <td>0</td>\n",
       "      <td>0</td>\n",
       "      <td>0</td>\n",
       "      <td>1</td>\n",
       "      <td>0</td>\n",
       "    </tr>\n",
       "    <tr>\n",
       "      <th>3</th>\n",
       "      <td>1423958400000000000</td>\n",
       "      <td>46</td>\n",
       "      <td>12</td>\n",
       "      <td>40</td>\n",
       "      <td>0.017983</td>\n",
       "      <td>0</td>\n",
       "      <td>0</td>\n",
       "      <td>0</td>\n",
       "      <td>0</td>\n",
       "      <td>0</td>\n",
       "      <td>...</td>\n",
       "      <td>0</td>\n",
       "      <td>0</td>\n",
       "      <td>0</td>\n",
       "      <td>1</td>\n",
       "      <td>0</td>\n",
       "      <td>0</td>\n",
       "      <td>0</td>\n",
       "      <td>0</td>\n",
       "      <td>1</td>\n",
       "      <td>0</td>\n",
       "    </tr>\n",
       "    <tr>\n",
       "      <th>4</th>\n",
       "      <td>1423958400000000000</td>\n",
       "      <td>46</td>\n",
       "      <td>12</td>\n",
       "      <td>58</td>\n",
       "      <td>0.051031</td>\n",
       "      <td>0</td>\n",
       "      <td>0</td>\n",
       "      <td>0</td>\n",
       "      <td>0</td>\n",
       "      <td>0</td>\n",
       "      <td>...</td>\n",
       "      <td>0</td>\n",
       "      <td>0</td>\n",
       "      <td>0</td>\n",
       "      <td>1</td>\n",
       "      <td>0</td>\n",
       "      <td>0</td>\n",
       "      <td>0</td>\n",
       "      <td>0</td>\n",
       "      <td>1</td>\n",
       "      <td>0</td>\n",
       "    </tr>\n",
       "  </tbody>\n",
       "</table>\n",
       "<p>5 rows × 37 columns</p>\n",
       "</div>"
      ],
      "text/plain": [
       "            Event_Date  Total_Fee_Avg  Miles2_Avg  AgeAvg   y_label  \\\n",
       "0  1423958400000000000             46          12      28  1.000000   \n",
       "1  1423958400000000000             46          12      60  0.021625   \n",
       "2  1423958400000000000             46          12      40  0.000000   \n",
       "3  1423958400000000000             46          12      40  0.017983   \n",
       "4  1423958400000000000             46          12      58  0.051031   \n",
       "\n",
       "   SeriesID_1.0  SeriesID_2.0  SeriesID_3.0  SeriesID_4.0  EventTypeID_2  \\\n",
       "0             0             0             0             0              0   \n",
       "1             0             0             0             0              0   \n",
       "2             0             0             0             0              0   \n",
       "3             0             0             0             0              0   \n",
       "4             0             0             0             0              0   \n",
       "\n",
       "       ...       Venue_Zip_98118  Venue_Zip_98177  Venue_Zip_98208  \\\n",
       "0      ...                     0                0                0   \n",
       "1      ...                     0                0                0   \n",
       "2      ...                     0                0                0   \n",
       "3      ...                     0                0                0   \n",
       "4      ...                     0                0                0   \n",
       "\n",
       "   Venue_Zip_98239  Venue_Zip_98290  Venue_Zip_98332  Venue_Zip_98922  \\\n",
       "0                1                0                0                0   \n",
       "1                1                0                0                0   \n",
       "2                1                0                0                0   \n",
       "3                1                0                0                0   \n",
       "4                1                0                0                0   \n",
       "\n",
       "   Venue_Zip_99032  Gender_Male  Gender_Other  \n",
       "0                0            1             0  \n",
       "1                0            0             0  \n",
       "2                0            1             0  \n",
       "3                0            1             0  \n",
       "4                0            1             0  \n",
       "\n",
       "[5 rows x 37 columns]"
      ]
     },
     "execution_count": 163,
     "metadata": {},
     "output_type": "execute_result"
    }
   ],
   "source": [
    "gb_dataprep.train_gb.head()"
   ]
  },
  {
   "cell_type": "code",
   "execution_count": null,
   "metadata": {
    "collapsed": true
   },
   "outputs": [],
   "source": []
  }
 ],
 "metadata": {
  "kernelspec": {
   "display_name": "Python 2",
   "language": "python",
   "name": "python2"
  },
  "language_info": {
   "codemirror_mode": {
    "name": "ipython",
    "version": 2
   },
   "file_extension": ".py",
   "mimetype": "text/x-python",
   "name": "python",
   "nbconvert_exporter": "python",
   "pygments_lexer": "ipython2",
   "version": "2.7.13"
  }
 },
 "nbformat": 4,
 "nbformat_minor": 2
}

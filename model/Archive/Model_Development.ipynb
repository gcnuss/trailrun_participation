{
 "cells": [
  {
   "cell_type": "code",
   "execution_count": 1,
   "metadata": {
    "collapsed": true
   },
   "outputs": [],
   "source": [
    "import re\n",
    "import numpy as np\n",
    "import pandas as pd\n",
    "import matplotlib.pyplot as plt\n",
    "%matplotlib inline\n",
    "\n",
    "import pyspark as ps    # for the pyspark suite\n",
    "from pyspark.sql.types import StructType, StructField\n",
    "from pyspark.sql.types import IntegerType, StringType, FloatType, DateType, TimestampType\n",
    "import pyspark.sql.functions as F\n",
    "\n",
    "spark = ps.sql.SparkSession.builder \\\n",
    "            .master(\"local[4]\") \\\n",
    "            .appName(\"trailrun\") \\\n",
    "            .getOrCreate()\n",
    "            \n",
    "sc = spark.sparkContext   # for the pre-2.0 sparkContext\n",
    "\n",
    "from pyspark.ml.evaluation import RegressionEvaluator, BinaryClassificationEvaluator\n",
    "from pyspark.ml.recommendation import ALS\n",
    "from pyspark.ml.tuning import CrossValidator, ParamGridBuilder, TrainValidationSplit"
   ]
  },
  {
   "cell_type": "markdown",
   "metadata": {},
   "source": [
    "### Run Data Prep File\n",
    "* Creates DF from postgres database\n",
    "* Cleans Data"
   ]
  },
  {
   "cell_type": "code",
   "execution_count": 131,
   "metadata": {},
   "outputs": [
    {
     "data": {
      "text/plain": [
       "<matplotlib.figure.Figure at 0x11dcb2fd0>"
      ]
     },
     "metadata": {},
     "output_type": "display_data"
    }
   ],
   "source": [
    "run dataprep.py"
   ]
  },
  {
   "cell_type": "code",
   "execution_count": 132,
   "metadata": {},
   "outputs": [
    {
     "name": "stdout",
     "output_type": "stream",
     "text": [
      "<class 'pandas.core.frame.DataFrame'>\n",
      "Int64Index: 16978 entries, 0 to 16988\n",
      "Data columns (total 27 columns):\n",
      "PersonID             16978 non-null int64\n",
      "EventID              16978 non-null int64\n",
      "Gender               16978 non-null object\n",
      "Distance             16978 non-null object\n",
      "Total fee            16978 non-null float64\n",
      "Payment method       13482 non-null object\n",
      "Street Address       14062 non-null object\n",
      "City                 15232 non-null object\n",
      "State/Province       16087 non-null object\n",
      "Zip Code             14978 non-null object\n",
      "Country              15796 non-null object\n",
      "Contact              16978 non-null object\n",
      "Tshirt               16978 non-null object\n",
      "Hoodie               16978 non-null object\n",
      "Event_Name           16978 non-null object\n",
      "Event_Date           16978 non-null datetime64[ns]\n",
      "MergeoEvent          16978 non-null bool\n",
      "EventTypeID          16978 non-null int64\n",
      "EventType            16978 non-null object\n",
      "SeriesID             16978 non-null float64\n",
      "Age2                 16978 non-null float64\n",
      "Miles2               16978 non-null float64\n",
      "Time2                16978 non-null object\n",
      "Preregistered        16978 non-null int64\n",
      "has_emerg_contact    16978 non-null int64\n",
      "HasSeries            16978 non-null object\n",
      "has_pay_method       16978 non-null object\n",
      "dtypes: bool(1), datetime64[ns](1), float64(4), int64(5), object(16)\n",
      "memory usage: 3.5+ MB\n"
     ]
    }
   ],
   "source": [
    "cleaned_df.info()"
   ]
  },
  {
   "cell_type": "code",
   "execution_count": 4,
   "metadata": {},
   "outputs": [
    {
     "data": {
      "text/plain": [
       "array([ 0.,  1.,  2.,  3.,  4.])"
      ]
     },
     "execution_count": 4,
     "metadata": {},
     "output_type": "execute_result"
    }
   ],
   "source": [
    "cleaned_df['SeriesID'].unique()"
   ]
  },
  {
   "cell_type": "markdown",
   "metadata": {},
   "source": [
    "### Create Separate DFs for Event Info, Person Info, and Participations and Convert to Spark DFs"
   ]
  },
  {
   "cell_type": "code",
   "execution_count": 5,
   "metadata": {
    "collapsed": true
   },
   "outputs": [],
   "source": [
    "event_info = cleaned_df[['EventID', 'Distance', 'Event_Date', 'MergeoEvent', 'EventTypeID', 'EventType', 'Miles2', \n",
    "                         'SeriesID', 'HasSeries']]"
   ]
  },
  {
   "cell_type": "code",
   "execution_count": 6,
   "metadata": {
    "collapsed": true
   },
   "outputs": [],
   "source": [
    "spark_event_df = spark.createDataFrame(event_info)"
   ]
  },
  {
   "cell_type": "code",
   "execution_count": 7,
   "metadata": {
    "collapsed": true
   },
   "outputs": [],
   "source": [
    "person_info = cleaned_df[['PersonID', 'Gender', 'Total fee', 'Payment method', 'Street Address', 'City', \n",
    "                          'State/Province', 'Zip Code', 'Country', 'Contact', 'Tshirt', 'Hoodie', 'Age2', 'Time2', \n",
    "                          'Preregistered', 'has_emerg_contact', 'has_pay_method']]"
   ]
  },
  {
   "cell_type": "code",
   "execution_count": 8,
   "metadata": {
    "collapsed": true
   },
   "outputs": [],
   "source": [
    "spark_person_df = spark.createDataFrame(person_info)"
   ]
  },
  {
   "cell_type": "code",
   "execution_count": 9,
   "metadata": {
    "collapsed": true
   },
   "outputs": [],
   "source": [
    "participations = cleaned_df[['PersonID', 'EventID', 'Event_Date']].copy()"
   ]
  },
  {
   "cell_type": "code",
   "execution_count": 10,
   "metadata": {
    "collapsed": true
   },
   "outputs": [],
   "source": [
    "participated_list = np.full((16978, 1), 1)\n",
    "\n",
    "participations.insert(2, 'Participated', participated_list)"
   ]
  },
  {
   "cell_type": "code",
   "execution_count": 11,
   "metadata": {
    "collapsed": true
   },
   "outputs": [],
   "source": [
    "spark_part_df = spark.createDataFrame(participations)"
   ]
  },
  {
   "cell_type": "code",
   "execution_count": 12,
   "metadata": {},
   "outputs": [
    {
     "name": "stdout",
     "output_type": "stream",
     "text": [
      "+--------+-------+------------+-------------------+\n",
      "|PersonID|EventID|Participated|         Event_Date|\n",
      "+--------+-------+------------+-------------------+\n",
      "|       1|     11|           1|1423958400000000000|\n",
      "|       2|      9|           1|1422057600000000000|\n",
      "|       2|     17|           1|1433808000000000000|\n",
      "|       3|     30|           1|1446854400000000000|\n",
      "|       4|     18|           1|1434758400000000000|\n",
      "+--------+-------+------------+-------------------+\n",
      "only showing top 5 rows\n",
      "\n",
      "root\n",
      " |-- PersonID: long (nullable = true)\n",
      " |-- EventID: long (nullable = true)\n",
      " |-- Participated: long (nullable = true)\n",
      " |-- Event_Date: long (nullable = true)\n",
      "\n"
     ]
    }
   ],
   "source": [
    "spark_part_df.show(5)\n",
    "spark_part_df.printSchema()"
   ]
  },
  {
   "cell_type": "code",
   "execution_count": null,
   "metadata": {
    "collapsed": true
   },
   "outputs": [],
   "source": []
  },
  {
   "cell_type": "markdown",
   "metadata": {},
   "source": [
    "### EDA On Participations Data"
   ]
  },
  {
   "cell_type": "code",
   "execution_count": 13,
   "metadata": {},
   "outputs": [
    {
     "data": {
      "text/plain": [
       "PersonID        16978\n",
       "EventID         16978\n",
       "Participated    16978\n",
       "Event_Date      16978\n",
       "dtype: int64"
      ]
     },
     "execution_count": 13,
     "metadata": {},
     "output_type": "execute_result"
    }
   ],
   "source": [
    "participations.count()"
   ]
  },
  {
   "cell_type": "code",
   "execution_count": 14,
   "metadata": {},
   "outputs": [
    {
     "data": {
      "text/html": [
       "<div>\n",
       "<style>\n",
       "    .dataframe thead tr:only-child th {\n",
       "        text-align: right;\n",
       "    }\n",
       "\n",
       "    .dataframe thead th {\n",
       "        text-align: left;\n",
       "    }\n",
       "\n",
       "    .dataframe tbody tr th {\n",
       "        vertical-align: top;\n",
       "    }\n",
       "</style>\n",
       "<table border=\"1\" class=\"dataframe\">\n",
       "  <thead>\n",
       "    <tr style=\"text-align: right;\">\n",
       "      <th></th>\n",
       "      <th>PersonID</th>\n",
       "      <th>EventID</th>\n",
       "      <th>Participated</th>\n",
       "      <th>Event_Date</th>\n",
       "    </tr>\n",
       "  </thead>\n",
       "  <tbody>\n",
       "    <tr>\n",
       "      <th>0</th>\n",
       "      <td>1</td>\n",
       "      <td>11</td>\n",
       "      <td>1</td>\n",
       "      <td>2015-02-15</td>\n",
       "    </tr>\n",
       "    <tr>\n",
       "      <th>1</th>\n",
       "      <td>2</td>\n",
       "      <td>9</td>\n",
       "      <td>1</td>\n",
       "      <td>2015-01-24</td>\n",
       "    </tr>\n",
       "    <tr>\n",
       "      <th>2</th>\n",
       "      <td>2</td>\n",
       "      <td>17</td>\n",
       "      <td>1</td>\n",
       "      <td>2015-06-09</td>\n",
       "    </tr>\n",
       "    <tr>\n",
       "      <th>3</th>\n",
       "      <td>3</td>\n",
       "      <td>30</td>\n",
       "      <td>1</td>\n",
       "      <td>2015-11-07</td>\n",
       "    </tr>\n",
       "    <tr>\n",
       "      <th>4</th>\n",
       "      <td>4</td>\n",
       "      <td>18</td>\n",
       "      <td>1</td>\n",
       "      <td>2015-06-20</td>\n",
       "    </tr>\n",
       "  </tbody>\n",
       "</table>\n",
       "</div>"
      ],
      "text/plain": [
       "   PersonID  EventID  Participated Event_Date\n",
       "0         1       11             1 2015-02-15\n",
       "1         2        9             1 2015-01-24\n",
       "2         2       17             1 2015-06-09\n",
       "3         3       30             1 2015-11-07\n",
       "4         4       18             1 2015-06-20"
      ]
     },
     "execution_count": 14,
     "metadata": {},
     "output_type": "execute_result"
    }
   ],
   "source": [
    "participations.head()"
   ]
  },
  {
   "cell_type": "code",
   "execution_count": 15,
   "metadata": {
    "collapsed": true
   },
   "outputs": [],
   "source": [
    "unique_personIDs = participations['PersonID'].unique()\n",
    "unique_eventIDs = participations['EventID'].unique()"
   ]
  },
  {
   "cell_type": "code",
   "execution_count": 16,
   "metadata": {},
   "outputs": [
    {
     "name": "stdout",
     "output_type": "stream",
     "text": [
      "Total Number of Users: 10764\n",
      "Total Number of Events: 86\n",
      "Total Number of Participations 16978\n"
     ]
    }
   ],
   "source": [
    "print ('Total Number of Users: {}'.format(len(unique_personIDs)))\n",
    "print ('Total Number of Events: {}'.format(len(unique_eventIDs)))\n",
    "print ('Total Number of Participations {}'.format(len(participations)))"
   ]
  },
  {
   "cell_type": "code",
   "execution_count": 17,
   "metadata": {},
   "outputs": [
    {
     "name": "stdout",
     "output_type": "stream",
     "text": [
      "Total Possible Participations: 925704\n"
     ]
    }
   ],
   "source": [
    "print ('Total Possible Participations: {}'.format(10764 * 86))"
   ]
  },
  {
   "cell_type": "code",
   "execution_count": 18,
   "metadata": {},
   "outputs": [
    {
     "name": "stdout",
     "output_type": "stream",
     "text": [
      "Participant Sparsity: 98.0%\n"
     ]
    }
   ],
   "source": [
    "print ('Participant Sparsity: {}%'.format(round((1 - 16978 / 925704.)*100)))"
   ]
  },
  {
   "cell_type": "markdown",
   "metadata": {},
   "source": [
    "### Participation per Event EDA"
   ]
  },
  {
   "cell_type": "code",
   "execution_count": 19,
   "metadata": {
    "collapsed": true
   },
   "outputs": [],
   "source": [
    "part_per_event = participations.groupby('EventID')['Participated'].count()"
   ]
  },
  {
   "cell_type": "code",
   "execution_count": 20,
   "metadata": {},
   "outputs": [
    {
     "name": "stdout",
     "output_type": "stream",
     "text": [
      "Min Event Size 34, Max Event Size 592\n"
     ]
    }
   ],
   "source": [
    "print ('Min Event Size {}, Max Event Size {}'.format(\n",
    "    min(part_per_event), max(part_per_event)))"
   ]
  },
  {
   "cell_type": "code",
   "execution_count": 21,
   "metadata": {
    "collapsed": true
   },
   "outputs": [],
   "source": [
    "participation_count = spark_part_df.groupBy(\"EventID\").count().rdd.values().histogram(20)"
   ]
  },
  {
   "cell_type": "code",
   "execution_count": 22,
   "metadata": {},
   "outputs": [
    {
     "data": {
      "text/plain": [
       "([34.0,\n",
       "  61.9,\n",
       "  89.8,\n",
       "  117.69999999999999,\n",
       "  145.6,\n",
       "  173.5,\n",
       "  201.39999999999998,\n",
       "  229.29999999999998,\n",
       "  257.2,\n",
       "  285.1,\n",
       "  313.0,\n",
       "  340.9,\n",
       "  368.79999999999995,\n",
       "  396.7,\n",
       "  424.59999999999997,\n",
       "  452.5,\n",
       "  480.4,\n",
       "  508.29999999999995,\n",
       "  536.2,\n",
       "  564.1,\n",
       "  592],\n",
       " [9, 7, 9, 10, 9, 3, 4, 10, 8, 4, 2, 7, 0, 1, 1, 0, 0, 0, 1, 1])"
      ]
     },
     "execution_count": 22,
     "metadata": {},
     "output_type": "execute_result"
    }
   ],
   "source": [
    "participation_count"
   ]
  },
  {
   "cell_type": "code",
   "execution_count": 23,
   "metadata": {},
   "outputs": [
    {
     "name": "stdout",
     "output_type": "stream",
     "text": [
      "20\n",
      "20\n"
     ]
    }
   ],
   "source": [
    "participation_count[0].pop(0)\n",
    "\n",
    "print(len(participation_count[0]))\n",
    "print(len(participation_count[1]))"
   ]
  },
  {
   "cell_type": "code",
   "execution_count": 24,
   "metadata": {},
   "outputs": [
    {
     "data": {
      "image/png": "[encoded data removed]",
      "text/plain": [
       "<matplotlib.figure.Figure at 0x11cf87c10>"
      ]
     },
     "metadata": {},
     "output_type": "display_data"
    }
   ],
   "source": [
    "plt.plot(participation_count[0], participation_count[1])\n",
    "plt.title(\"Event Count Histogram\")\n",
    "plt.xlabel(\"Participants at Event\")\n",
    "plt.ylabel(\"Frequency of Events\")\n",
    "plt.show()"
   ]
  },
  {
   "cell_type": "code",
   "execution_count": 25,
   "metadata": {},
   "outputs": [
    {
     "name": "stdout",
     "output_type": "stream",
     "text": [
      "+-------+---------------+-----+\n",
      "|EventID|      EventType|count|\n",
      "+-------+---------------+-----+\n",
      "|   1003|Street Scramble|  592|\n",
      "|     68|      Trail Run|  560|\n",
      "|   1009|Street Scramble|  439|\n",
      "|     37|      Trail Run|  407|\n",
      "|     12|      Trail Run|  354|\n",
      "|     11|      Trail Run|  353|\n",
      "|     38|      Trail Run|  353|\n",
      "|     35|      Trail Run|  352|\n",
      "|     69|      Trail Run|  349|\n",
      "|     76|      Trail Run|  348|\n",
      "|     36|      Trail Run|  341|\n",
      "|     24|      Trail Run|  329|\n",
      "|     16|      Trail Run|  323|\n",
      "|     10|      Trail Run|  303|\n",
      "|     63|      Trail Run|  301|\n",
      "|     41|      Trail Run|  293|\n",
      "|     54|      Trail Run|  292|\n",
      "|     74|      Trail Run|  281|\n",
      "|     50|      Trail Run|  280|\n",
      "|     33|      Trail Run|  280|\n",
      "+-------+---------------+-----+\n",
      "\n"
     ]
    }
   ],
   "source": [
    "best_events = spark_part_df.groupBy('EventID').count().join(spark_event_df, 'EventID')\\\n",
    ".select(\"EventID\", \"EventType\", \"count\").distinct().orderBy('count', ascending=False).limit(20).show()"
   ]
  },
  {
   "cell_type": "markdown",
   "metadata": {},
   "source": [
    "### Events per Participant EDA"
   ]
  },
  {
   "cell_type": "code",
   "execution_count": 26,
   "metadata": {
    "collapsed": true
   },
   "outputs": [],
   "source": [
    "events_per_part = participations.groupby('PersonID')['Participated'].count()"
   ]
  },
  {
   "cell_type": "code",
   "execution_count": 27,
   "metadata": {},
   "outputs": [
    {
     "name": "stdout",
     "output_type": "stream",
     "text": [
      "Min Participation Size 1, Max Participation Size 50\n"
     ]
    }
   ],
   "source": [
    "print ('Min Participation Size {}, Max Participation Size {}'.format(\n",
    "    min(events_per_part), max(events_per_part)))"
   ]
  },
  {
   "cell_type": "code",
   "execution_count": 28,
   "metadata": {
    "collapsed": true
   },
   "outputs": [],
   "source": [
    "event_count = spark_part_df.groupBy(\"PersonID\").count().rdd.values().histogram(20)"
   ]
  },
  {
   "cell_type": "code",
   "execution_count": 29,
   "metadata": {},
   "outputs": [
    {
     "name": "stdout",
     "output_type": "stream",
     "text": [
      "20\n",
      "20\n"
     ]
    }
   ],
   "source": [
    "event_count[0].pop(0)\n",
    "\n",
    "print(len(event_count[0]))\n",
    "print(len(event_count[1]))"
   ]
  },
  {
   "cell_type": "code",
   "execution_count": 30,
   "metadata": {},
   "outputs": [
    {
     "data": {
      "image/png": "[encoded data removed]",
      "text/plain": [
       "<matplotlib.figure.Figure at 0x11c594890>"
      ]
     },
     "metadata": {},
     "output_type": "display_data"
    }
   ],
   "source": [
    "plt.plot(event_count[0], event_count[1])\n",
    "plt.title(\"Events per Participant Histogram\")\n",
    "plt.xlabel(\"Events Participated In\")\n",
    "plt.ylabel(\"Frequency of Participants\")\n",
    "plt.show()"
   ]
  },
  {
   "cell_type": "code",
   "execution_count": 31,
   "metadata": {},
   "outputs": [
    {
     "name": "stdout",
     "output_type": "stream",
     "text": [
      "+--------+------+-----+\n",
      "|PersonID|Gender|count|\n",
      "+--------+------+-----+\n",
      "|    1115|  Male|   50|\n",
      "|    1910|  Male|   37|\n",
      "|    1673|Female|   34|\n",
      "|    1481|Female|   28|\n",
      "|     729|Female|   28|\n",
      "|     741|Female|   26|\n",
      "|    3267|Female|   26|\n",
      "|    1664|  Male|   25|\n",
      "|    3056|  Male|   24|\n",
      "|     149|  Male|   22|\n",
      "|    1663|Female|   22|\n",
      "|    4148|Female|   21|\n",
      "|    1210|  Male|   21|\n",
      "|    2980|Female|   20|\n",
      "|    2798|Female|   20|\n",
      "|    1551|Female|   20|\n",
      "|    1393|Female|   18|\n",
      "|    3463|  Male|   17|\n",
      "|    2873|  Male|   17|\n",
      "|     424|  Male|   17|\n",
      "+--------+------+-----+\n",
      "\n"
     ]
    }
   ],
   "source": [
    "most_freq_participants = spark_part_df.groupBy('PersonID').count().join(spark_person_df, 'PersonID')\\\n",
    ".select(\"PersonID\", \"Gender\", \"count\").distinct().orderBy('count', ascending=False).limit(20).show()"
   ]
  },
  {
   "cell_type": "markdown",
   "metadata": {},
   "source": [
    "## Baseline Model\n",
    "\n",
    "### Create Train/Validation/Test Split"
   ]
  },
  {
   "cell_type": "code",
   "execution_count": 32,
   "metadata": {},
   "outputs": [
    {
     "name": "stdout",
     "output_type": "stream",
     "text": [
      "TrainVal Size: 13582.0\n",
      "Test Size: 3396.0\n",
      "Total Participations Size: 16978\n"
     ]
    }
   ],
   "source": [
    "print ('TrainVal Size: {}'.format(round(len(participations)*.8)))\n",
    "print ('Test Size: {}'.format(round(len(participations)*.2)))\n",
    "print ('Total Participations Size: {}'.format(len(participations)))"
   ]
  },
  {
   "cell_type": "markdown",
   "metadata": {},
   "source": [
    "Do an 80/20 split for train/test, then split train again at 80/20 for train/validate"
   ]
  },
  {
   "cell_type": "code",
   "execution_count": 33,
   "metadata": {
    "collapsed": true
   },
   "outputs": [],
   "source": [
    "trainval = spark_part_df.sort('Event_Date', ascending=True).limit(13582)\n",
    "test = spark_part_df.sort('Event_Date', ascending=False).limit(3396)"
   ]
  },
  {
   "cell_type": "code",
   "execution_count": 34,
   "metadata": {},
   "outputs": [
    {
     "data": {
      "text/plain": [
       "(13582, 3396)"
      ]
     },
     "execution_count": 34,
     "metadata": {},
     "output_type": "execute_result"
    }
   ],
   "source": [
    "trainval.count(), test.count()"
   ]
  },
  {
   "cell_type": "code",
   "execution_count": 35,
   "metadata": {},
   "outputs": [
    {
     "name": "stdout",
     "output_type": "stream",
     "text": [
      "Train Size: 10866.0\n",
      "Validation Size: 2716.0\n",
      "Total TrainVal Size: 13582\n"
     ]
    }
   ],
   "source": [
    "print ('Train Size: {}'.format(round(trainval.count() * .8)))\n",
    "print ('Validation Size: {}'.format(round(trainval.count()*.2)))\n",
    "print ('Total TrainVal Size: {}'.format(trainval.count()))"
   ]
  },
  {
   "cell_type": "code",
   "execution_count": 36,
   "metadata": {
    "collapsed": true
   },
   "outputs": [],
   "source": [
    "train = trainval.sort('Event_Date', ascending=True).limit(10866)\n",
    "validate = trainval.sort('Event_Date', ascending=False).limit(2716)"
   ]
  },
  {
   "cell_type": "code",
   "execution_count": 37,
   "metadata": {},
   "outputs": [
    {
     "data": {
      "text/plain": [
       "(10866, 2716)"
      ]
     },
     "execution_count": 37,
     "metadata": {},
     "output_type": "execute_result"
    }
   ],
   "source": [
    "train.count(), validate.count()"
   ]
  },
  {
   "cell_type": "code",
   "execution_count": 38,
   "metadata": {},
   "outputs": [
    {
     "name": "stdout",
     "output_type": "stream",
     "text": [
      "participants in train: 7356\n",
      "participants in validate: 1996\n",
      "participants in test: 2667\n",
      "participants in both train & validate: 567\n",
      "participants in both train & test: 618\n",
      "events in train: 57\n",
      "events in validate: 14\n",
      "events in test: 17\n",
      "events in both train & validate: 1\n",
      "events in both train & test: 0\n"
     ]
    }
   ],
   "source": [
    "print(\"participants in train: {}\".format(train.select('PersonID').distinct().count()))\n",
    "print(\"participants in validate: {}\".format(validate.select('PersonID').distinct().count()))\n",
    "print(\"participants in test: {}\".format(test.select('PersonID').distinct().count()))\n",
    "\n",
    "print(\"participants in both train & validate: {}\".format(train.select('PersonID').distinct()\\\n",
    "                                         .join(validate.select('PersonID').distinct(),\n",
    "                                               'PersonID', 'inner')\\\n",
    "                                         .count()))\n",
    "\n",
    "print(\"participants in both train & test: {}\".format(train.select('PersonID').distinct()\\\n",
    "                                         .join(test.select('PersonID').distinct(),\n",
    "                                               'PersonID', 'inner')\\\n",
    "                                         .count()))\n",
    "\n",
    "print(\"events in train: {}\".format(train.select('EventID').distinct().count()))\n",
    "print(\"events in validate: {}\".format(validate.select('EventID').distinct().count()))\n",
    "print(\"events in test: {}\".format(test.select('EventID').distinct().count()))\n",
    "\n",
    "print(\"events in both train & validate: {}\".format(train.select('EventID').distinct()\\\n",
    "                                         .join(validate.select('EventID').distinct(),\n",
    "                                               'EventID', 'inner')\\\n",
    "                                         .count()))\n",
    "\n",
    "print(\"events in both train & test: {}\".format(train.select('EventID').distinct()\\\n",
    "                                         .join(test.select('EventID').distinct(),\n",
    "                                               'EventID', 'inner')\\\n",
    "                                         .count()))"
   ]
  },
  {
   "cell_type": "markdown",
   "metadata": {},
   "source": [
    "### Fit Initial ALS Model Out of the Box"
   ]
  },
  {
   "cell_type": "code",
   "execution_count": 39,
   "metadata": {
    "collapsed": true
   },
   "outputs": [],
   "source": [
    "als = ALS(rank=100,\n",
    "          maxIter=10,\n",
    "          regParam=0.1,\n",
    "          userCol=\"PersonID\",\n",
    "          itemCol=\"EventID\",\n",
    "          ratingCol=\"Participated\", nonnegative=True)\n",
    "\n",
    "base_model = als.fit(train)\n",
    "\n",
    "base_predictions = base_model.transform(validate)"
   ]
  },
  {
   "cell_type": "code",
   "execution_count": 40,
   "metadata": {},
   "outputs": [
    {
     "name": "stdout",
     "output_type": "stream",
     "text": [
      "+--------+-------+------------+-------------------+----------+\n",
      "|PersonID|EventID|Participated|         Event_Date|prediction|\n",
      "+--------+-------+------------+-------------------+----------+\n",
      "|     516|   4000|           1|1477785600000000000|       NaN|\n",
      "|    7281|   4000|           1|1477785600000000000|       NaN|\n",
      "|    6597|   4000|           1|1477785600000000000|       NaN|\n",
      "|    6552|   4000|           1|1477785600000000000|       NaN|\n",
      "|    7404|   4000|           1|1477785600000000000|       NaN|\n",
      "+--------+-------+------------+-------------------+----------+\n",
      "only showing top 5 rows\n",
      "\n"
     ]
    }
   ],
   "source": [
    "base_predictions.show(5)"
   ]
  },
  {
   "cell_type": "code",
   "execution_count": 41,
   "metadata": {
    "collapsed": true
   },
   "outputs": [],
   "source": [
    "base_pred_pandas = base_predictions.toPandas()"
   ]
  },
  {
   "cell_type": "code",
   "execution_count": 42,
   "metadata": {},
   "outputs": [
    {
     "data": {
      "text/plain": [
       "79"
      ]
     },
     "execution_count": 42,
     "metadata": {},
     "output_type": "execute_result"
    }
   ],
   "source": [
    "base_pred_pandas[pd.notnull(base_pred_pandas['prediction'])]['Participated'].count()"
   ]
  },
  {
   "cell_type": "code",
   "execution_count": 43,
   "metadata": {},
   "outputs": [
    {
     "data": {
      "text/plain": [
       "2637"
      ]
     },
     "execution_count": 43,
     "metadata": {},
     "output_type": "execute_result"
    }
   ],
   "source": [
    "base_pred_pandas[pd.isnull(base_pred_pandas['prediction'])]['Participated'].count()"
   ]
  },
  {
   "cell_type": "code",
   "execution_count": 44,
   "metadata": {},
   "outputs": [
    {
     "data": {
      "text/plain": [
       "0.8971876743473585"
      ]
     },
     "execution_count": 44,
     "metadata": {},
     "output_type": "execute_result"
    }
   ],
   "source": [
    "base_pred_pandas['prediction'].mean()"
   ]
  },
  {
   "cell_type": "code",
   "execution_count": 45,
   "metadata": {},
   "outputs": [
    {
     "name": "stdout",
     "output_type": "stream",
     "text": [
      "Root-mean-square error = 0.102813043463\n"
     ]
    }
   ],
   "source": [
    "#initial evaluation using RMSE (root-mean-squared-error)\n",
    "#input average prediction value for all the NANs\n",
    "base_evaluator = RegressionEvaluator(metricName=\"rmse\", labelCol=\"Participated\",\n",
    "                                predictionCol=\"prediction\")\n",
    "\n",
    "rmse = base_evaluator.evaluate(base_predictions.na.fill({'prediction':base_pred_pandas['prediction'].mean()}))\n",
    "\n",
    "print(\"Root-mean-square error = \" + str(rmse))"
   ]
  },
  {
   "cell_type": "markdown",
   "metadata": {},
   "source": [
    "### This is pretty poor:\n",
    "* Only 79 predictions gave valid results; the other 2637 records in the validate dataset have predictions of NaN\n",
    "* The RMSE is not a very useful measure at this point given most of the values had to be filled with the average prediction of .894, so of course our RMSE is low!\n",
    "* Need to figure out how to address the NANs\n",
    "\n",
    "### Try a test to increase rank (# of latent features considered), change implicitPrefs to True, and change cold start strategy to \"drop\":"
   ]
  },
  {
   "cell_type": "code",
   "execution_count": 46,
   "metadata": {
    "collapsed": true
   },
   "outputs": [],
   "source": [
    "als2 = ALS(rank=200,\n",
    "          maxIter=10, #default\n",
    "          regParam=0.1,\n",
    "          userCol=\"PersonID\",\n",
    "          itemCol=\"EventID\",\n",
    "          ratingCol=\"Participated\", \n",
    "          nonnegative=True,\n",
    "          implicitPrefs=True,\n",
    "          alpha=1.0, #default\n",
    "          coldStartStrategy=\"drop\")\n",
    "\n",
    "v2_model = als2.fit(train)\n",
    "\n",
    "v2_predictions = v2_model.transform(validate)"
   ]
  },
  {
   "cell_type": "code",
   "execution_count": 47,
   "metadata": {},
   "outputs": [
    {
     "name": "stdout",
     "output_type": "stream",
     "text": [
      "+--------+-------+------------+-------------------+------------+\n",
      "|PersonID|EventID|Participated|         Event_Date|  prediction|\n",
      "+--------+-------+------------+-------------------+------------+\n",
      "|    4158|     54|           1|1472256000000000000|1.8660718E-4|\n",
      "|    4219|     54|           1|1472256000000000000|         0.0|\n",
      "|    3089|     54|           1|1472256000000000000| 0.010773112|\n",
      "|    3220|     54|           1|1472256000000000000|0.0016633217|\n",
      "|    1808|     54|           1|1472256000000000000| 0.008297206|\n",
      "+--------+-------+------------+-------------------+------------+\n",
      "only showing top 5 rows\n",
      "\n"
     ]
    }
   ],
   "source": [
    "v2_predictions.show(5)"
   ]
  },
  {
   "cell_type": "code",
   "execution_count": 48,
   "metadata": {
    "collapsed": true
   },
   "outputs": [],
   "source": [
    "v2_pred_pandas = v2_predictions.toPandas()"
   ]
  },
  {
   "cell_type": "code",
   "execution_count": 49,
   "metadata": {},
   "outputs": [
    {
     "data": {
      "text/plain": [
       "79"
      ]
     },
     "execution_count": 49,
     "metadata": {},
     "output_type": "execute_result"
    }
   ],
   "source": [
    "v2_pred_pandas[pd.notnull(v2_pred_pandas['prediction'])]['Participated'].count()"
   ]
  },
  {
   "cell_type": "code",
   "execution_count": 50,
   "metadata": {},
   "outputs": [
    {
     "data": {
      "text/plain": [
       "0"
      ]
     },
     "execution_count": 50,
     "metadata": {},
     "output_type": "execute_result"
    }
   ],
   "source": [
    "v2_pred_pandas[pd.isnull(v2_pred_pandas['prediction'])]['Participated'].count()"
   ]
  },
  {
   "cell_type": "code",
   "execution_count": 51,
   "metadata": {},
   "outputs": [
    {
     "data": {
      "text/plain": [
       "array([54])"
      ]
     },
     "execution_count": 51,
     "metadata": {},
     "output_type": "execute_result"
    }
   ],
   "source": [
    "v2_pred_pandas['EventID'].unique()"
   ]
  },
  {
   "cell_type": "code",
   "execution_count": 52,
   "metadata": {},
   "outputs": [
    {
     "data": {
      "text/plain": [
       "0.3273853944792956"
      ]
     },
     "execution_count": 52,
     "metadata": {},
     "output_type": "execute_result"
    }
   ],
   "source": [
    "v2_pred_pandas['prediction'].mean()"
   ]
  },
  {
   "cell_type": "code",
   "execution_count": 53,
   "metadata": {},
   "outputs": [
    {
     "name": "stdout",
     "output_type": "stream",
     "text": [
      "Root-mean-square error = 0.796373677994\n"
     ]
    }
   ],
   "source": [
    "#initial evaluation using RMSE (root-mean-squared-error)\n",
    "#don't need to address NANs since they have been dropped\n",
    "v2_evaluator = RegressionEvaluator(metricName=\"rmse\", labelCol=\"Participated\",\n",
    "                                predictionCol=\"prediction\")\n",
    "\n",
    "rmse = v2_evaluator.evaluate(v2_predictions)\n",
    "\n",
    "print(\"Root-mean-square error = \" + str(rmse))"
   ]
  },
  {
   "cell_type": "markdown",
   "metadata": {},
   "source": [
    "### Still Not Great, and Dropping NANs for the ColdStartStrategy Meant Dropping 97% of the Test Data!\n",
    "#### What's going on here?\n",
    "* Because I'm attempting to predict participation at *future* events, we have a serious cold start problem.  The only reason the train / validate split didn't result in 100% NANs is because one event ID spanned the split so there were records in both train and validate.  All future events were not seen by the model during training, and as such all participants for those events that I'm trying to predict are going to return NANs\n",
    "* Need to take a different approach to fit my model other than using unique event IDs...\n",
    "\n",
    "### Consider other features in data that are repeatable such as venue, race type, series it belongs to, etc.  Build several ALS models and do an ensemble."
   ]
  },
  {
   "cell_type": "markdown",
   "metadata": {},
   "source": [
    "## First Do One Train/Validate/Test Split with All Columns (use same split for each of following models)"
   ]
  },
  {
   "cell_type": "code",
   "execution_count": 54,
   "metadata": {
    "collapsed": true
   },
   "outputs": [],
   "source": [
    "participated_list = np.full((16978, 1), 1)\n",
    "cleaned_df.insert(2, 'Participated', participated_list)"
   ]
  },
  {
   "cell_type": "code",
   "execution_count": 55,
   "metadata": {
    "collapsed": true
   },
   "outputs": [],
   "source": [
    "spark_data_df = spark.createDataFrame(cleaned_df)"
   ]
  },
  {
   "cell_type": "code",
   "execution_count": 56,
   "metadata": {
    "collapsed": true
   },
   "outputs": [],
   "source": [
    "def train_val_test_split(spark_df, test_prop, val_prop):\n",
    "    trainval = spark_df.sort('Event_Date', ascending=True).limit(int(round(spark_df.count()*(1-test_prop))))\n",
    "    test = spark_df.sort('Event_Date', ascending=False).limit(int(round(spark_df.count()*test_prop)))\n",
    "    train = trainval.sort('Event_Date', ascending=True).limit(int(round(trainval.count()*(1-val_prop))))\n",
    "    validate = trainval.sort('Event_Date', ascending=False).limit(int(round(trainval.count()*(val_prop))))\n",
    "    print('Train Size: {}'.format(round(train.count())))\n",
    "    print('Validation Size: {}'.format(round(validate.count())))\n",
    "    print('Test Size: {}'.format(round(test.count())))\n",
    "    return train, validate, test"
   ]
  },
  {
   "cell_type": "code",
   "execution_count": 57,
   "metadata": {
    "collapsed": true
   },
   "outputs": [],
   "source": [
    "def print_train_val_test_info(event_param):\n",
    "    print(\"participants in train: {}\".format(train.select('PersonID').distinct().count()))\n",
    "    print(\"participants in validate: {}\".format(validate.select('PersonID').distinct().count()))\n",
    "    print(\"participants in test: {}\".format(test.select('PersonID').distinct().count()))\n",
    "    print('\\n')\n",
    "    print(\"participants in both train & validate: {}\".format(train.select('PersonID').distinct()\\\n",
    "                                         .join(validate.select('PersonID').distinct(),\n",
    "                                               'PersonID', 'inner')\\\n",
    "                                         .count()))\n",
    "    print(\"participants in both train & test: {}\".format(train.select('PersonID').distinct()\\\n",
    "                                         .join(test.select('PersonID').distinct(),\n",
    "                                               'PersonID', 'inner')\\\n",
    "                                         .count()))\n",
    "    print('\\n')\n",
    "    print(\"{} in train: {}\".format(event_param, train.select(event_param).distinct().count()))\n",
    "    print(\"{} in validate: {}\".format(event_param, validate.select(event_param).distinct().count()))\n",
    "    print(\"{} in test: {}\".format(event_param, test.select(event_param).distinct().count()))\n",
    "    print('\\n')\n",
    "    print(\"{} in both train & validate: {}\".format(event_param, train.select(event_param).distinct()\\\n",
    "                                         .join(validate.select(event_param).distinct(),\n",
    "                                               event_param, 'inner')\\\n",
    "                                         .count()))\n",
    "    print(\"{} in both train & test: {}\".format(event_param, train.select(event_param).distinct()\\\n",
    "                                         .join(test.select(event_param).distinct(),\n",
    "                                               event_param, 'inner')\\\n",
    "                                         .count()))"
   ]
  },
  {
   "cell_type": "code",
   "execution_count": 58,
   "metadata": {},
   "outputs": [
    {
     "name": "stdout",
     "output_type": "stream",
     "text": [
      "Train Size: 10866.0\n",
      "Validation Size: 2716.0\n",
      "Test Size: 3396.0\n"
     ]
    }
   ],
   "source": [
    "train, validate, test = train_val_test_split(spark_data_df, .2, .2)"
   ]
  },
  {
   "cell_type": "markdown",
   "metadata": {},
   "source": [
    "## Define Functions for Repeat Use on Various Features"
   ]
  },
  {
   "cell_type": "code",
   "execution_count": 59,
   "metadata": {
    "collapsed": true
   },
   "outputs": [],
   "source": [
    "def create_participate_matrices(train, validate, test, event_param):\n",
    "    train_mat = train.select(\"PersonID\", event_param, \"Participated\", \"Event_Date\")\n",
    "    validate_mat = validate.select(\"PersonID\", event_param, \"Participated\", \"Event_Date\")\n",
    "    test_mat = test.select(\"PersonID\", event_param, \"Participated\", \"Event_Date\")\n",
    "    return train_mat, validate_mat, test_mat"
   ]
  },
  {
   "cell_type": "code",
   "execution_count": 60,
   "metadata": {
    "collapsed": true
   },
   "outputs": [],
   "source": [
    "def fit_ALS(train_data, rank=100, maxIter=10, regParam=0.1, userCol=\"PersonID\", itemCol=\"EventID\", \n",
    "            ratingCol=\"Participated\", implicitPrefs=False, alpha=1.0, coldStartStrategy=\"nan\"):\n",
    "    \n",
    "    als = ALS(rank=rank,\n",
    "          maxIter=maxIter,\n",
    "          regParam=regParam,\n",
    "          userCol=userCol,\n",
    "          itemCol=itemCol,\n",
    "          ratingCol=ratingCol,\n",
    "            nonnegative=True,\n",
    "             implicitPrefs=implicitPrefs,\n",
    "             alpha=alpha,\n",
    "             coldStartStrategy=coldStartStrategy)\n",
    "    \n",
    "    model = als.fit(train_data)\n",
    "    \n",
    "    return model"
   ]
  },
  {
   "cell_type": "code",
   "execution_count": 61,
   "metadata": {
    "collapsed": true
   },
   "outputs": [],
   "source": [
    "def predict_ALS(model, val_data):\n",
    "                \n",
    "    predictions = model.transform(val_data)\n",
    "    \n",
    "    pandas_preds = predictions.toPandas()\n",
    "    valid_preds = pandas_preds[pd.notnull(pandas_preds['prediction'])]['Participated'].count()\n",
    "    nan_preds = pandas_preds[pd.isnull(pandas_preds['prediction'])]['Participated'].count()\n",
    "    print('Predictions includes {} valid values and {} nan values'.format(valid_preds, nan_preds))\n",
    "    print('\\n')\n",
    "    print('Mean prediction is {}'.format(pandas_preds['prediction'].mean()))\n",
    "    \n",
    "    #initial evaluation using RMSE (root-mean-squared-error)\n",
    "    #address nan values with mean prediction value (for cold starts) if coldStartStrategy is nan\n",
    "    \n",
    "    evaluator = RegressionEvaluator(metricName=\"rmse\", labelCol=\"Participated\",\n",
    "                                predictionCol=\"prediction\")\n",
    "    \n",
    "    rmse = evaluator.evaluate(predictions.na.fill({'prediction':pandas_preds['prediction'].mean()}))\n",
    "\n",
    "    print(\"Root-mean-square error = \" + str(rmse))\n",
    "    \n",
    "    return predictions, rmse"
   ]
  },
  {
   "cell_type": "markdown",
   "metadata": {},
   "source": [
    "## ALS Using Series Grouping\n",
    "\n",
    "#### First try with parameters as initialized in function definition above"
   ]
  },
  {
   "cell_type": "code",
   "execution_count": 62,
   "metadata": {},
   "outputs": [
    {
     "name": "stdout",
     "output_type": "stream",
     "text": [
      "participants in train: 7356\n",
      "participants in validate: 1996\n",
      "participants in test: 2667\n",
      "\n",
      "\n",
      "participants in both train & validate: 567\n",
      "participants in both train & test: 618\n",
      "\n",
      "\n",
      "SeriesID in train: 5\n",
      "SeriesID in validate: 3\n",
      "SeriesID in test: 4\n",
      "\n",
      "\n",
      "SeriesID in both train & validate: 3\n",
      "SeriesID in both train & test: 4\n"
     ]
    }
   ],
   "source": [
    "print_train_val_test_info('SeriesID')"
   ]
  },
  {
   "cell_type": "code",
   "execution_count": 63,
   "metadata": {
    "collapsed": true
   },
   "outputs": [],
   "source": [
    "train_series, validate_series, test_series = create_participate_matrices(train, validate, test, \"SeriesID\")"
   ]
  },
  {
   "cell_type": "code",
   "execution_count": 64,
   "metadata": {},
   "outputs": [],
   "source": [
    "series_base_model = fit_ALS(train_series, itemCol=\"SeriesID\")"
   ]
  },
  {
   "cell_type": "code",
   "execution_count": 65,
   "metadata": {},
   "outputs": [
    {
     "name": "stdout",
     "output_type": "stream",
     "text": [
      "Predictions includes 1005 valid values and 1711 nan values\n",
      "\n",
      "\n",
      "Mean prediction is 0.896893754943\n",
      "Root-mean-square error = 0.103749199179\n"
     ]
    }
   ],
   "source": [
    "series_base_preds, series_base_rmse = predict_ALS(series_base_model, validate_series)"
   ]
  },
  {
   "cell_type": "markdown",
   "metadata": {},
   "source": [
    "#### Try with parameters varied as follows:\n",
    "* implicitPrefs=True"
   ]
  },
  {
   "cell_type": "code",
   "execution_count": 66,
   "metadata": {},
   "outputs": [],
   "source": [
    "series_v1_model = fit_ALS(train_series, itemCol=\"SeriesID\", implicitPrefs=True)"
   ]
  },
  {
   "cell_type": "code",
   "execution_count": 67,
   "metadata": {},
   "outputs": [
    {
     "name": "stdout",
     "output_type": "stream",
     "text": [
      "Predictions includes 1005 valid values and 1711 nan values\n",
      "\n",
      "\n",
      "Mean prediction is 0.702169265608\n",
      "Root-mean-square error = 0.458829067506\n"
     ]
    }
   ],
   "source": [
    "series_v1_preds, series_v1_rmse = predict_ALS(series_v1_model, validate_series)"
   ]
  },
  {
   "cell_type": "code",
   "execution_count": 68,
   "metadata": {},
   "outputs": [],
   "source": [
    "series_v1_preds_pandas = series_v1_preds.toPandas()"
   ]
  },
  {
   "cell_type": "code",
   "execution_count": 69,
   "metadata": {},
   "outputs": [
    {
     "name": "stdout",
     "output_type": "stream",
     "text": [
      "1429 users in validation set that are not in training set, and they attended a total of 1711 events\n"
     ]
    }
   ],
   "source": [
    "print '{} users in validation set that are not in training set, and they attended a total of {} events'.format(\n",
    "    len(series_v1_preds_pandas[pd.isnull(series_v1_preds_pandas['prediction'])]['PersonID'].unique()),\n",
    "    len(series_v1_preds_pandas[pd.isnull(series_v1_preds_pandas['prediction'])]['PersonID']))"
   ]
  },
  {
   "cell_type": "markdown",
   "metadata": {},
   "source": [
    "#### Try with parameters varied as follows:\n",
    "* coldStartStrategy=\"drop\""
   ]
  },
  {
   "cell_type": "code",
   "execution_count": 70,
   "metadata": {},
   "outputs": [],
   "source": [
    "series_v2_model = fit_ALS(train_series, itemCol=\"SeriesID\", coldStartStrategy=\"drop\")"
   ]
  },
  {
   "cell_type": "code",
   "execution_count": 71,
   "metadata": {},
   "outputs": [
    {
     "name": "stdout",
     "output_type": "stream",
     "text": [
      "Predictions includes 1005 valid values and 0 nan values\n",
      "\n",
      "\n",
      "Mean prediction is 0.896893754943\n",
      "Root-mean-square error = 0.104834724086\n"
     ]
    }
   ],
   "source": [
    "series_v2_preds, series_v2_rmse = predict_ALS(series_v2_model, validate_series)"
   ]
  },
  {
   "cell_type": "markdown",
   "metadata": {},
   "source": [
    "#### Perform Cross-Validation and Grid Search to Tune Hyperparameters"
   ]
  },
  {
   "cell_type": "code",
   "execution_count": 72,
   "metadata": {
    "collapsed": true
   },
   "outputs": [],
   "source": [
    "estimator=ALS(userCol=\"PersonID\", itemCol=\"SeriesID\", ratingCol=\"Participated\", nonnegative=True, coldStartStrategy=\"drop\")\n",
    "\n",
    "grid=ParamGridBuilder().addGrid(als.rank, [10, 50, 100]).addGrid(als.maxIter, [10, 50]).addGrid(\n",
    "    als.regParam, [0.1, 0.01]).addGrid(als.implicitPrefs, [True, False]).build()\n",
    "        \n",
    "evaluator=RegressionEvaluator(metricName=\"rmse\", labelCol=\"Participated\", predictionCol=\"prediction\")"
   ]
  },
  {
   "cell_type": "code",
   "execution_count": 73,
   "metadata": {
    "collapsed": true
   },
   "outputs": [],
   "source": [
    "cv = CrossValidator(estimator=estimator, estimatorParamMaps=grid, evaluator=evaluator, numFolds=3)"
   ]
  },
  {
   "cell_type": "code",
   "execution_count": 74,
   "metadata": {
    "collapsed": true
   },
   "outputs": [],
   "source": [
    "model_series = cv.fit(train_series)"
   ]
  },
  {
   "cell_type": "code",
   "execution_count": 75,
   "metadata": {},
   "outputs": [],
   "source": [
    "bestModel_series = model_series.bestModel"
   ]
  },
  {
   "cell_type": "code",
   "execution_count": 76,
   "metadata": {},
   "outputs": [
    {
     "data": {
      "text/plain": [
       "ALS_448f9a78d9e6dceb3cfc"
      ]
     },
     "execution_count": 76,
     "metadata": {},
     "output_type": "execute_result"
    }
   ],
   "source": [
    "bestModel_series"
   ]
  },
  {
   "cell_type": "code",
   "execution_count": 77,
   "metadata": {},
   "outputs": [],
   "source": [
    "#model_series.getEstimatorParamMaps()"
   ]
  },
  {
   "cell_type": "code",
   "execution_count": 78,
   "metadata": {},
   "outputs": [],
   "source": [
    "#model_series.avgMetrics"
   ]
  },
  {
   "cell_type": "markdown",
   "metadata": {},
   "source": [
    "Looks like changing the parameters has no effect on the model performance..."
   ]
  },
  {
   "cell_type": "code",
   "execution_count": 79,
   "metadata": {},
   "outputs": [
    {
     "data": {
      "text/plain": [
       "u'drop'"
      ]
     },
     "execution_count": 79,
     "metadata": {},
     "output_type": "execute_result"
    }
   ],
   "source": [
    "bestModel_series._java_obj.getColdStartStrategy()"
   ]
  },
  {
   "cell_type": "code",
   "execution_count": 80,
   "metadata": {},
   "outputs": [
    {
     "name": "stdout",
     "output_type": "stream",
     "text": [
      "Predictions includes 1005 valid values and 0 nan values\n",
      "\n",
      "\n",
      "Mean prediction is 0.896242071325\n",
      "Root-mean-square error = 0.110767284748\n"
     ]
    }
   ],
   "source": [
    "series_cv_preds, series_cv_rmse = predict_ALS(bestModel_series, validate_series)"
   ]
  },
  {
   "cell_type": "markdown",
   "metadata": {},
   "source": [
    "#### Try TrainValidationSplit instead of CrossValidator"
   ]
  },
  {
   "cell_type": "code",
   "execution_count": 81,
   "metadata": {
    "collapsed": true
   },
   "outputs": [],
   "source": [
    "tvs = TrainValidationSplit(estimator=estimator, estimatorParamMaps=grid, evaluator=evaluator)"
   ]
  },
  {
   "cell_type": "code",
   "execution_count": 82,
   "metadata": {
    "collapsed": true
   },
   "outputs": [],
   "source": [
    "tvs_model_series = tvs.fit(train_series)"
   ]
  },
  {
   "cell_type": "code",
   "execution_count": 83,
   "metadata": {},
   "outputs": [],
   "source": [
    "tvs_bestmodel_series = tvs_model_series.bestModel"
   ]
  },
  {
   "cell_type": "code",
   "execution_count": 84,
   "metadata": {},
   "outputs": [
    {
     "name": "stdout",
     "output_type": "stream",
     "text": [
      "Predictions includes 1005 valid values and 0 nan values\n",
      "\n",
      "\n",
      "Mean prediction is 0.896242071325\n",
      "Root-mean-square error = 0.110767284748\n"
     ]
    }
   ],
   "source": [
    "series_tvs_preds, series_tvs_rmse = predict_ALS(tvs_bestmodel_series, validate_series)"
   ]
  },
  {
   "cell_type": "markdown",
   "metadata": {},
   "source": [
    "Looks like using tvs instead of cv gives the same results; since tvs is less expensive I will just use that moving forward (will try cvs one more time to confirm consistency first)"
   ]
  },
  {
   "cell_type": "markdown",
   "metadata": {},
   "source": [
    "## ALS Using Event Type ID"
   ]
  },
  {
   "cell_type": "markdown",
   "metadata": {},
   "source": [
    "#### Try with parameters as defined in my fit function:"
   ]
  },
  {
   "cell_type": "code",
   "execution_count": 85,
   "metadata": {},
   "outputs": [
    {
     "name": "stdout",
     "output_type": "stream",
     "text": [
      "participants in train: 7356\n",
      "participants in validate: 1996\n",
      "participants in test: 2667\n",
      "\n",
      "\n",
      "participants in both train & validate: 567\n",
      "participants in both train & test: 618\n",
      "\n",
      "\n",
      "EventTypeID in train: 2\n",
      "EventTypeID in validate: 1\n",
      "EventTypeID in test: 2\n",
      "\n",
      "\n",
      "EventTypeID in both train & validate: 1\n",
      "EventTypeID in both train & test: 2\n"
     ]
    }
   ],
   "source": [
    "print_train_val_test_info('EventTypeID')"
   ]
  },
  {
   "cell_type": "code",
   "execution_count": 86,
   "metadata": {
    "collapsed": true
   },
   "outputs": [],
   "source": [
    "train_eventtype, validate_eventtype, test_eventtype = create_participate_matrices(train, validate, test, \"EventTypeID\")"
   ]
  },
  {
   "cell_type": "code",
   "execution_count": 87,
   "metadata": {},
   "outputs": [],
   "source": [
    "eventtype_base_model = fit_ALS(train_eventtype, itemCol=\"EventTypeID\")"
   ]
  },
  {
   "cell_type": "code",
   "execution_count": 88,
   "metadata": {},
   "outputs": [
    {
     "name": "stdout",
     "output_type": "stream",
     "text": [
      "Predictions includes 1005 valid values and 1711 nan values\n",
      "\n",
      "\n",
      "Mean prediction is 0.897703961769\n",
      "Root-mean-square error = 0.103235677161\n"
     ]
    }
   ],
   "source": [
    "eventtype_base_preds, eventtype_base_rmse = predict_ALS(eventtype_base_model, validate_eventtype)"
   ]
  },
  {
   "cell_type": "markdown",
   "metadata": {},
   "source": [
    "#### Perform Cross-Validation and Grid Search to Tune Hyperparameters; move this code into a function for future use"
   ]
  },
  {
   "cell_type": "code",
   "execution_count": 89,
   "metadata": {
    "collapsed": true
   },
   "outputs": [],
   "source": [
    "def run_ALS_CV(itemCol, train_data, val_data):\n",
    "    \n",
    "    estimator=ALS(userCol=\"PersonID\", itemCol=itemCol, ratingCol=\"Participated\", nonnegative=True, \n",
    "                  coldStartStrategy=\"drop\")\n",
    "    \n",
    "    grid=ParamGridBuilder().addGrid(als.rank, [10, 50, 100]).addGrid(als.maxIter, [10, 50]).addGrid(\n",
    "    als.regParam, [0.1, 0.01]).addGrid(als.implicitPrefs, [True, False]).build()\n",
    "    \n",
    "    evaluator=RegressionEvaluator(metricName=\"rmse\", labelCol=\"Participated\", predictionCol=\"prediction\")\n",
    "    \n",
    "    cv = CrossValidator(estimator=estimator, estimatorParamMaps=grid, evaluator=evaluator, numFolds=3)\n",
    "    \n",
    "    cv_model = cv.fit(train_data)\n",
    "    cv_bestmodel = cv_model.bestModel\n",
    "    \n",
    "    cv_preds, cv_rmse = predict_ALS(cv_bestmodel, val_data)\n",
    "    \n",
    "    return cv_bestmodel, cv_preds, cv_rmse"
   ]
  },
  {
   "cell_type": "code",
   "execution_count": 90,
   "metadata": {
    "collapsed": true
   },
   "outputs": [],
   "source": [
    "def run_ALS_TVS(itemCol, train_data, val_data):\n",
    "    \n",
    "    estimator=ALS(userCol=\"PersonID\", itemCol=itemCol, ratingCol=\"Participated\", nonnegative=True, \n",
    "                  coldStartStrategy=\"drop\")\n",
    "    \n",
    "    grid=ParamGridBuilder().addGrid(als.rank, [10, 50, 100]).addGrid(als.maxIter, [10, 50]).addGrid(\n",
    "    als.regParam, [0.1, 0.01]).addGrid(als.implicitPrefs, [True, False]).build()\n",
    "    \n",
    "    evaluator=RegressionEvaluator(metricName=\"rmse\", labelCol=\"Participated\", predictionCol=\"prediction\")\n",
    "    \n",
    "    tvs = TrainValidationSplit(estimator=estimator, estimatorParamMaps=grid, evaluator=evaluator)\n",
    "    \n",
    "    tvs_model = tvs.fit(train_data)\n",
    "    tvs_bestmodel = tvs_model.bestModel\n",
    "    \n",
    "    tvs_preds, tvs_rmse = predict_ALS(tvs_bestmodel, val_data)\n",
    "    \n",
    "    return tvs_bestmodel, tvs_preds, tvs_rmse"
   ]
  },
  {
   "cell_type": "code",
   "execution_count": 91,
   "metadata": {},
   "outputs": [
    {
     "name": "stdout",
     "output_type": "stream",
     "text": [
      "+--------+-----------+------------+-------------------+\n",
      "|PersonID|EventTypeID|Participated|         Event_Date|\n",
      "+--------+-----------+------------+-------------------+\n",
      "|    5485|          2|           1|1418428800000000000|\n",
      "|    5486|          2|           1|1418428800000000000|\n",
      "|    5487|          2|           1|1418428800000000000|\n",
      "|    5488|          2|           1|1418428800000000000|\n",
      "|    5489|          2|           1|1418428800000000000|\n",
      "+--------+-----------+------------+-------------------+\n",
      "only showing top 5 rows\n",
      "\n",
      "+--------+-----------+------------+-------------------+\n",
      "|PersonID|EventTypeID|Participated|         Event_Date|\n",
      "+--------+-----------+------------+-------------------+\n",
      "|    3306|          1|           1|1487980800000000000|\n",
      "|      13|          1|           1|1487980800000000000|\n",
      "|      57|          1|           1|1487980800000000000|\n",
      "|      68|          1|           1|1487980800000000000|\n",
      "|     107|          1|           1|1487980800000000000|\n",
      "+--------+-----------+------------+-------------------+\n",
      "only showing top 5 rows\n",
      "\n"
     ]
    },
    {
     "data": {
      "text/plain": [
       "(None, None)"
      ]
     },
     "execution_count": 91,
     "metadata": {},
     "output_type": "execute_result"
    }
   ],
   "source": [
    "train_eventtype.show(5), validate_eventtype.show(5)"
   ]
  },
  {
   "cell_type": "code",
   "execution_count": 92,
   "metadata": {},
   "outputs": [
    {
     "name": "stdout",
     "output_type": "stream",
     "text": [
      "Predictions includes 1005 valid values and 0 nan values\n",
      "\n",
      "\n",
      "Mean prediction is 0.898863590772\n",
      "Root-mean-square error = 0.108081741943\n"
     ]
    }
   ],
   "source": [
    "bestmodel_eventtype, preds_eventtype, rmse_eventtype = run_ALS_TVS(\"EventTypeID\", train_eventtype, validate_eventtype)"
   ]
  },
  {
   "cell_type": "code",
   "execution_count": 93,
   "metadata": {},
   "outputs": [
    {
     "name": "stdout",
     "output_type": "stream",
     "text": [
      "Predictions includes 1005 valid values and 0 nan values\n",
      "\n",
      "\n",
      "Mean prediction is 0.898863590772\n",
      "Root-mean-square error = 0.108081741943\n"
     ]
    },
    {
     "data": {
      "text/plain": [
       "(ALS_4dfd81cc09f958c8b0ea,\n",
       " DataFrame[PersonID: bigint, EventTypeID: bigint, Participated: bigint, Event_Date: bigint, prediction: float],\n",
       " 0.10808174194300368)"
      ]
     },
     "execution_count": 93,
     "metadata": {},
     "output_type": "execute_result"
    }
   ],
   "source": [
    "run_ALS_CV(\"EventTypeID\", train_eventtype, validate_eventtype)"
   ]
  },
  {
   "cell_type": "markdown",
   "metadata": {},
   "source": [
    "## ALS Using Miles (cleaner buckets than distance column)"
   ]
  },
  {
   "cell_type": "code",
   "execution_count": 94,
   "metadata": {},
   "outputs": [
    {
     "name": "stdout",
     "output_type": "stream",
     "text": [
      "participants in train: 7356\n",
      "participants in validate: 1996\n",
      "participants in test: 2667\n",
      "\n",
      "\n",
      "participants in both train & validate: 567\n",
      "participants in both train & test: 618\n",
      "\n",
      "\n",
      "Miles2 in train: 17\n",
      "Miles2 in validate: 15\n",
      "Miles2 in test: 14\n",
      "\n",
      "\n",
      "Miles2 in both train & validate: 13\n",
      "Miles2 in both train & test: 14\n"
     ]
    }
   ],
   "source": [
    "print_train_val_test_info('Miles2')"
   ]
  },
  {
   "cell_type": "code",
   "execution_count": 95,
   "metadata": {
    "collapsed": true
   },
   "outputs": [],
   "source": [
    "train_miles, validate_miles, test_miles = create_participate_matrices(train, validate, test, \"Miles2\")"
   ]
  },
  {
   "cell_type": "code",
   "execution_count": 96,
   "metadata": {},
   "outputs": [
    {
     "data": {
      "text/plain": [
       "array([  8. ,   4. ,   3. ,   6. ,   5. ,  13. ,  20. ,  26. ,  10. ,\n",
       "        50. ,  18. ,  30. ,   7.5,  63. ,   4.4,   2.5,   4.2])"
      ]
     },
     "execution_count": 96,
     "metadata": {},
     "output_type": "execute_result"
    }
   ],
   "source": [
    "train_miles.toPandas()['Miles2'].unique()\n",
    "\n",
    "#ALS only takes integers for the user/item columns so need to convert these"
   ]
  },
  {
   "cell_type": "code",
   "execution_count": 97,
   "metadata": {},
   "outputs": [],
   "source": [
    "train_miles_pandas = train_miles.toPandas()\n",
    "val_miles_pandas = validate_miles.toPandas()\n",
    "test_miles_pandas = test_miles.toPandas()"
   ]
  },
  {
   "cell_type": "code",
   "execution_count": 98,
   "metadata": {
    "collapsed": true
   },
   "outputs": [],
   "source": [
    "train_miles_pandas['Miles2'] = train_miles_pandas['Miles2'].apply(lambda x: int(round(x)))\n",
    "val_miles_pandas['Miles2'] = val_miles_pandas['Miles2'].apply(lambda x: int(round(x)))\n",
    "test_miles_pandas['Miles2'] = test_miles_pandas['Miles2'].apply(lambda x: int(round(x)))"
   ]
  },
  {
   "cell_type": "code",
   "execution_count": 99,
   "metadata": {},
   "outputs": [
    {
     "data": {
      "text/plain": [
       "array([ 8,  4,  3,  6,  5, 13, 20, 26, 10, 50, 18, 30, 63])"
      ]
     },
     "execution_count": 99,
     "metadata": {},
     "output_type": "execute_result"
    }
   ],
   "source": [
    "train_miles_pandas['Miles2'].unique()"
   ]
  },
  {
   "cell_type": "code",
   "execution_count": 100,
   "metadata": {
    "collapsed": true
   },
   "outputs": [],
   "source": [
    "train_miles = spark.createDataFrame(train_miles_pandas)\n",
    "validate_miles = spark.createDataFrame(val_miles_pandas)\n",
    "test_miles = spark.createDataFrame(test_miles_pandas)"
   ]
  },
  {
   "cell_type": "code",
   "execution_count": 101,
   "metadata": {},
   "outputs": [],
   "source": [
    "miles_base_model = fit_ALS(train_miles, itemCol=\"Miles2\")"
   ]
  },
  {
   "cell_type": "code",
   "execution_count": 102,
   "metadata": {},
   "outputs": [
    {
     "name": "stdout",
     "output_type": "stream",
     "text": [
      "Predictions includes 991 valid values and 1725 nan values\n",
      "\n",
      "\n",
      "Mean prediction is 0.895499055549\n",
      "Root-mean-square error = 0.104578199671\n"
     ]
    }
   ],
   "source": [
    "miles_base_preds, miles_base_rmse = predict_ALS(miles_base_model, validate_miles)"
   ]
  },
  {
   "cell_type": "code",
   "execution_count": 103,
   "metadata": {},
   "outputs": [
    {
     "name": "stdout",
     "output_type": "stream",
     "text": [
      "Predictions includes 991 valid values and 0 nan values\n",
      "\n",
      "\n",
      "Mean prediction is 0.896593409638\n",
      "Root-mean-square error = 0.103840155906\n"
     ]
    }
   ],
   "source": [
    "bestmodel_miles, preds_miles, rmse_miles = run_ALS_TVS(\"Miles2\", train_miles, validate_miles)"
   ]
  },
  {
   "cell_type": "markdown",
   "metadata": {},
   "source": [
    "## ALS Using Entry Fee"
   ]
  },
  {
   "cell_type": "code",
   "execution_count": 104,
   "metadata": {},
   "outputs": [
    {
     "name": "stdout",
     "output_type": "stream",
     "text": [
      "participants in train: 7356\n",
      "participants in validate: 1996\n",
      "participants in test: 2667\n",
      "\n",
      "\n",
      "participants in both train & validate: 567\n",
      "participants in both train & test: 618\n",
      "\n",
      "\n",
      "Total fee in train: 326\n",
      "Total fee in validate: 129\n",
      "Total fee in test: 225\n",
      "\n",
      "\n",
      "Total fee in both train & validate: 78\n",
      "Total fee in both train & test: 94\n"
     ]
    }
   ],
   "source": [
    "print_train_val_test_info('Total fee')"
   ]
  },
  {
   "cell_type": "code",
   "execution_count": 105,
   "metadata": {
    "collapsed": true
   },
   "outputs": [],
   "source": [
    "train_fee, validate_fee, test_fee = create_participate_matrices(train, validate, test, \"Total fee\")"
   ]
  },
  {
   "cell_type": "code",
   "execution_count": 106,
   "metadata": {},
   "outputs": [],
   "source": [
    "train_fee_pandas = train_fee.toPandas()\n",
    "val_fee_pandas = validate_fee.toPandas()\n",
    "test_fee_pandas = test_fee.toPandas()"
   ]
  },
  {
   "cell_type": "code",
   "execution_count": 107,
   "metadata": {},
   "outputs": [],
   "source": [
    "train_fee_pandas['Total fee'] = train_fee_pandas['Total fee'].apply(lambda x: int(round(x)))\n",
    "val_fee_pandas['Total fee'] = val_fee_pandas['Total fee'].apply(lambda x: int(round(x)))\n",
    "test_fee_pandas['Total fee'] = test_fee_pandas['Total fee'].apply(lambda x: int(round(x)))"
   ]
  },
  {
   "cell_type": "code",
   "execution_count": 108,
   "metadata": {
    "collapsed": true
   },
   "outputs": [],
   "source": [
    "train_fee = spark.createDataFrame(train_fee_pandas)\n",
    "validate_fee = spark.createDataFrame(val_fee_pandas)\n",
    "test_fee = spark.createDataFrame(test_fee_pandas)"
   ]
  },
  {
   "cell_type": "code",
   "execution_count": 109,
   "metadata": {
    "collapsed": true
   },
   "outputs": [],
   "source": [
    "fee_base_model = fit_ALS(train_fee, itemCol=\"Total fee\")"
   ]
  },
  {
   "cell_type": "code",
   "execution_count": 110,
   "metadata": {},
   "outputs": [
    {
     "name": "stdout",
     "output_type": "stream",
     "text": [
      "Predictions includes 1004 valid values and 1712 nan values\n",
      "\n",
      "\n",
      "Mean prediction is 0.891526205517\n",
      "Root-mean-square error = 0.110121949296\n"
     ]
    }
   ],
   "source": [
    "fee_base_preds, fee_base_rmse = predict_ALS(fee_base_model, validate_fee)"
   ]
  },
  {
   "cell_type": "code",
   "execution_count": 111,
   "metadata": {},
   "outputs": [
    {
     "name": "stdout",
     "output_type": "stream",
     "text": [
      "Predictions includes 1004 valid values and 0 nan values\n",
      "\n",
      "\n",
      "Mean prediction is 0.892026481579\n",
      "Root-mean-square error = 0.111890641139\n"
     ]
    }
   ],
   "source": [
    "bestmodel_fee, preds_fee, rmse_fee = run_ALS_TVS(\"Total fee\", train_fee, validate_fee)"
   ]
  },
  {
   "cell_type": "markdown",
   "metadata": {},
   "source": [
    "## ALS Using Venue Zip Code\n",
    "#### Can try specific venues as well - may be too little repeatability though, hence starting with zip codes\n",
    "#### Doing this one requires adding venue information to the dataset"
   ]
  },
  {
   "cell_type": "code",
   "execution_count": 147,
   "metadata": {},
   "outputs": [],
   "source": [
    "event_names = list(cleaned_df['Event_Name'].unique())"
   ]
  },
  {
   "cell_type": "code",
   "execution_count": 148,
   "metadata": {
    "collapsed": true
   },
   "outputs": [],
   "source": [
    "event_venues = [\"Fort Ebey State Park, Coupeville, WA\", \"Interlaken Park, Seattle, WA\", \"Ravenna Park, Seattle, WA\",\n",
    "               \"Carkeek Park, Seattle, WA\", \"Rattlesnake Ridge, North Bend, WA\", \"Cedar Mountain, Renton, WA\", \n",
    "               \"Tiger Mountain, Issaquah, WA\", \"Redmond Watershed, Redmond, WA\", \"Interlaken Park, Seattle, WA\", \n",
    "               \"Ravenna Park, Seattle, WA\", \"Carkeek Park, Seattle, WA\", \"Seward Park, Seattle, WA\", \n",
    "               \"Soaring Eagle Regional Park, Sammamish, WA\", \"Redmond Watershed, Redmond, WA\", \n",
    "               \"Soaring Eagle Regional Park, Sammamish, WA\", \"St. Edward State Park, Kenmore, WA\", \n",
    "               \"Redmond Watershed, Redmond, WA\", \"Carkeek Park, Seattle, WA\", \"Lake Sammamish State Park, Issaquah, WA\", \n",
    "               \"Seward Park, Seattle, WA\", \"Cle Elum, WA\", \"St. Edward State Park, Kenmore, WA\", \n",
    "               \"St. Edward State Park, Kenmore, WA\", \"Pike Place Market, Seattle, WA\", \n",
    "               \"Lord Hill Regional Park, Snohomish, WA\", \"Gig Harbor, WA\", \"Landsburg Park, Maple Valley, WA\", \n",
    "               \"Redmond Watershed, Redmond, WA\", \"Sprague, WA\", \"Paradise Valley Conservation Area, Woodinville, WA\", \n",
    "                \"Wilburton Hill Park, Bellevue, WA\", \"Woodland Park, Seattle, WA\", \"Seward Park, Seattle, WA\", \n",
    "                \"Cougar Mountain Trailhead, Bellevue, WA\", \"Alki Beach, West Seattle, WA\", \"Kirkland, WA\", \n",
    "                \"Pike Place Market, Seattle, WA\", \"Redmond, WA\", \"Fremont, Seattle, WA\", \"Gig Harbor, WA\", \n",
    "                \"Issaquah, WA\", \"Cle Elum-Roslyn High School, Cle Elum, WA\", \"Interlaken Park, Seattle, WA\", \n",
    "                \"Everett, WA\", \"Fremont, Seattle, WA\", \"Ballard, Seattle, WA\"]"
   ]
  },
  {
   "cell_type": "code",
   "execution_count": 149,
   "metadata": {},
   "outputs": [
    {
     "data": {
      "text/plain": [
       "(46, 46)"
      ]
     },
     "execution_count": 149,
     "metadata": {},
     "output_type": "execute_result"
    }
   ],
   "source": [
    "len(event_names), len(event_venues)"
   ]
  },
  {
   "cell_type": "code",
   "execution_count": 150,
   "metadata": {
    "collapsed": true
   },
   "outputs": [],
   "source": [
    "event_nm_ven = zip(event_names, event_venues)"
   ]
  },
  {
   "cell_type": "code",
   "execution_count": 113,
   "metadata": {},
   "outputs": [],
   "source": [
    "import geocoder"
   ]
  },
  {
   "cell_type": "code",
   "execution_count": 157,
   "metadata": {
    "collapsed": true
   },
   "outputs": [],
   "source": [
    "g = geocoder.google(\"Pike Place Market, WA\")"
   ]
  },
  {
   "cell_type": "code",
   "execution_count": 158,
   "metadata": {},
   "outputs": [],
   "source": [
    "g.postal"
   ]
  },
  {
   "cell_type": "code",
   "execution_count": 153,
   "metadata": {
    "collapsed": true
   },
   "outputs": [],
   "source": [
    "event_dets = []\n",
    "for name, venue in event_nm_ven:\n",
    "    g = geocoder.google(venue)\n",
    "    zipcode = g.postal\n",
    "    event_dets.append((name, venue, g, zipcode))"
   ]
  },
  {
   "cell_type": "code",
   "execution_count": 156,
   "metadata": {},
   "outputs": [
    {
     "data": {
      "text/plain": [
       "[('Pike Place Market, Seattle, WA', None),\n",
       " ('Gig Harbor, WA', None),\n",
       " ('Kirkland, WA', None),\n",
       " ('Pike Place Market, Seattle, WA', None),\n",
       " ('Redmond, WA', None),\n",
       " ('Fremont, Seattle, WA', None),\n",
       " ('Gig Harbor, WA', None),\n",
       " ('Issaquah, WA', None),\n",
       " ('Everett, WA', None),\n",
       " ('Fremont, Seattle, WA', None),\n",
       " ('Ballard, Seattle, WA', None)]"
      ]
     },
     "execution_count": 156,
     "metadata": {},
     "output_type": "execute_result"
    }
   ],
   "source": [
    "msg_zip = []\n",
    "for name, venue, g, zipcode in event_dets:\n",
    "    if zipcode == None:\n",
    "        msg_zip.append((venue, zipcode))\n",
    "        \n",
    "msg_zip"
   ]
  },
  {
   "cell_type": "markdown",
   "metadata": {},
   "source": [
    "## ALS Using Race Elevation Gain"
   ]
  }
 ],
 "metadata": {
  "kernelspec": {
   "display_name": "Python 2",
   "language": "python",
   "name": "python2"
  },
  "language_info": {
   "codemirror_mode": {
    "name": "ipython",
    "version": 2
   },
   "file_extension": ".py",
   "mimetype": "text/x-python",
   "name": "python",
   "nbconvert_exporter": "python",
   "pygments_lexer": "ipython2",
   "version": "2.7.13"
  }
 },
 "nbformat": 4,
 "nbformat_minor": 2
}

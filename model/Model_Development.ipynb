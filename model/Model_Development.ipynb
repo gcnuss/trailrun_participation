{
 "cells": [
  {
   "cell_type": "code",
   "execution_count": 1,
   "metadata": {
    "collapsed": true
   },
   "outputs": [],
   "source": [
    "import re\n",
    "import numpy as np\n",
    "import pandas as pd\n",
    "import matplotlib.pyplot as plt\n",
    "%matplotlib inline\n",
    "\n",
    "import pyspark as ps    # for the pyspark suite\n",
    "from pyspark.sql.types import StructType, StructField\n",
    "from pyspark.sql.types import IntegerType, StringType, FloatType, DateType, TimestampType\n",
    "import pyspark.sql.functions as F\n",
    "\n",
    "spark = ps.sql.SparkSession.builder \\\n",
    "            .master(\"local[4]\") \\\n",
    "            .appName(\"trailrun\") \\\n",
    "            .getOrCreate()\n",
    "            \n",
    "sc = spark.sparkContext   # for the pre-2.0 sparkContext"
   ]
  },
  {
   "cell_type": "code",
   "execution_count": 2,
   "metadata": {
    "collapsed": true
   },
   "outputs": [],
   "source": [
    "run dataprep.py"
   ]
  },
  {
   "cell_type": "code",
   "execution_count": 3,
   "metadata": {},
   "outputs": [
    {
     "name": "stdout",
     "output_type": "stream",
     "text": [
      "<class 'pandas.core.frame.DataFrame'>\n",
      "Int64Index: 16978 entries, 0 to 16988\n",
      "Data columns (total 26 columns):\n",
      "PersonID             16978 non-null float64\n",
      "EventID              16978 non-null int64\n",
      "Gender               16978 non-null object\n",
      "Distance             16978 non-null object\n",
      "Total fee            16978 non-null float64\n",
      "Payment method       13482 non-null object\n",
      "Street Address       14062 non-null object\n",
      "City                 15232 non-null object\n",
      "State/Province       16087 non-null object\n",
      "Zip Code             14978 non-null object\n",
      "Country              15796 non-null object\n",
      "Contact              16978 non-null object\n",
      "Tshirt               16978 non-null object\n",
      "Hoodie               16978 non-null object\n",
      "Event_Date           16978 non-null datetime64[ns]\n",
      "MergeoEvent          16978 non-null bool\n",
      "EventTypeID          16978 non-null int64\n",
      "EventType            16978 non-null object\n",
      "SeriesID             16978 non-null object\n",
      "Age2                 16978 non-null float64\n",
      "Miles2               16978 non-null float64\n",
      "Time2                16978 non-null object\n",
      "Preregistered        16978 non-null int64\n",
      "has_emerg_contact    16978 non-null int64\n",
      "HasSeries            16978 non-null object\n",
      "has_pay_method       16978 non-null object\n",
      "dtypes: bool(1), datetime64[ns](1), float64(4), int64(4), object(16)\n",
      "memory usage: 3.4+ MB\n"
     ]
    }
   ],
   "source": [
    "cleaned_df.info()"
   ]
  },
  {
   "cell_type": "code",
   "execution_count": 4,
   "metadata": {
    "collapsed": true
   },
   "outputs": [],
   "source": [
    "participations = cleaned_df[['PersonID', 'EventID', 'Event_Date']].copy()"
   ]
  },
  {
   "cell_type": "code",
   "execution_count": 5,
   "metadata": {},
   "outputs": [
    {
     "data": {
      "text/plain": [
       "PersonID      16978\n",
       "EventID       16978\n",
       "Event_Date    16978\n",
       "dtype: int64"
      ]
     },
     "execution_count": 5,
     "metadata": {},
     "output_type": "execute_result"
    }
   ],
   "source": [
    "participations.count()"
   ]
  },
  {
   "cell_type": "code",
   "execution_count": 6,
   "metadata": {
    "collapsed": true
   },
   "outputs": [],
   "source": [
    "participated_list = np.full((16978, 1), 1)\n",
    "\n",
    "participations.insert(2, 'Participated', participated_list)"
   ]
  },
  {
   "cell_type": "code",
   "execution_count": 7,
   "metadata": {},
   "outputs": [
    {
     "data": {
      "text/html": [
       "<div>\n",
       "<style>\n",
       "    .dataframe thead tr:only-child th {\n",
       "        text-align: right;\n",
       "    }\n",
       "\n",
       "    .dataframe thead th {\n",
       "        text-align: left;\n",
       "    }\n",
       "\n",
       "    .dataframe tbody tr th {\n",
       "        vertical-align: top;\n",
       "    }\n",
       "</style>\n",
       "<table border=\"1\" class=\"dataframe\">\n",
       "  <thead>\n",
       "    <tr style=\"text-align: right;\">\n",
       "      <th></th>\n",
       "      <th>PersonID</th>\n",
       "      <th>EventID</th>\n",
       "      <th>Participated</th>\n",
       "      <th>Event_Date</th>\n",
       "    </tr>\n",
       "  </thead>\n",
       "  <tbody>\n",
       "    <tr>\n",
       "      <th>0</th>\n",
       "      <td>1.0</td>\n",
       "      <td>11</td>\n",
       "      <td>1</td>\n",
       "      <td>2015-02-15</td>\n",
       "    </tr>\n",
       "    <tr>\n",
       "      <th>1</th>\n",
       "      <td>2.0</td>\n",
       "      <td>9</td>\n",
       "      <td>1</td>\n",
       "      <td>2015-01-24</td>\n",
       "    </tr>\n",
       "    <tr>\n",
       "      <th>2</th>\n",
       "      <td>2.0</td>\n",
       "      <td>17</td>\n",
       "      <td>1</td>\n",
       "      <td>2015-06-09</td>\n",
       "    </tr>\n",
       "    <tr>\n",
       "      <th>3</th>\n",
       "      <td>3.0</td>\n",
       "      <td>30</td>\n",
       "      <td>1</td>\n",
       "      <td>2015-11-07</td>\n",
       "    </tr>\n",
       "    <tr>\n",
       "      <th>4</th>\n",
       "      <td>4.0</td>\n",
       "      <td>18</td>\n",
       "      <td>1</td>\n",
       "      <td>2015-06-20</td>\n",
       "    </tr>\n",
       "  </tbody>\n",
       "</table>\n",
       "</div>"
      ],
      "text/plain": [
       "   PersonID  EventID  Participated Event_Date\n",
       "0       1.0       11             1 2015-02-15\n",
       "1       2.0        9             1 2015-01-24\n",
       "2       2.0       17             1 2015-06-09\n",
       "3       3.0       30             1 2015-11-07\n",
       "4       4.0       18             1 2015-06-20"
      ]
     },
     "execution_count": 7,
     "metadata": {},
     "output_type": "execute_result"
    }
   ],
   "source": [
    "participations.head()"
   ]
  },
  {
   "cell_type": "code",
   "execution_count": 8,
   "metadata": {
    "collapsed": true
   },
   "outputs": [],
   "source": [
    "unique_personIDs = participations['PersonID'].unique()\n",
    "unique_eventIDs = participations['EventID'].unique()"
   ]
  },
  {
   "cell_type": "code",
   "execution_count": 9,
   "metadata": {},
   "outputs": [
    {
     "name": "stdout",
     "output_type": "stream",
     "text": [
      "Total Number of Users: 10764\n",
      "Total Number of Events: 86\n",
      "Total Number of Participations 16978\n"
     ]
    }
   ],
   "source": [
    "print ('Total Number of Users: {}'.format(len(unique_personIDs)))\n",
    "print ('Total Number of Events: {}'.format(len(unique_eventIDs)))\n",
    "print ('Total Number of Participations {}'.format(len(participations)))"
   ]
  },
  {
   "cell_type": "code",
   "execution_count": 12,
   "metadata": {},
   "outputs": [
    {
     "name": "stdout",
     "output_type": "stream",
     "text": [
      "Total Possible Participations: 925704\n"
     ]
    }
   ],
   "source": [
    "print ('Total Possible Participations: {}'.format(10764 * 86))"
   ]
  },
  {
   "cell_type": "code",
   "execution_count": 42,
   "metadata": {},
   "outputs": [],
   "source": [
    "part_per_event = participations.groupby('EventID')['Participated'].count()"
   ]
  },
  {
   "cell_type": "code",
   "execution_count": 43,
   "metadata": {},
   "outputs": [
    {
     "name": "stdout",
     "output_type": "stream",
     "text": [
      "Min Event Size 34, Max Event Size 592\n"
     ]
    }
   ],
   "source": [
    "print ('Min Event Size {}, Max Event Size {}'.format(\n",
    "    min(part_per_event), max(part_per_event)))"
   ]
  },
  {
   "cell_type": "code",
   "execution_count": 10,
   "metadata": {
    "collapsed": true
   },
   "outputs": [],
   "source": [
    "spark_df = spark.createDataFrame(participations)"
   ]
  },
  {
   "cell_type": "code",
   "execution_count": 11,
   "metadata": {},
   "outputs": [
    {
     "name": "stdout",
     "output_type": "stream",
     "text": [
      "+--------+-------+------------+-------------------+\n",
      "|PersonID|EventID|Participated|         Event_Date|\n",
      "+--------+-------+------------+-------------------+\n",
      "|     1.0|     11|           1|1423958400000000000|\n",
      "|     2.0|      9|           1|1422057600000000000|\n",
      "|     2.0|     17|           1|1433808000000000000|\n",
      "|     3.0|     30|           1|1446854400000000000|\n",
      "|     4.0|     18|           1|1434758400000000000|\n",
      "+--------+-------+------------+-------------------+\n",
      "only showing top 5 rows\n",
      "\n",
      "root\n",
      " |-- PersonID: double (nullable = true)\n",
      " |-- EventID: long (nullable = true)\n",
      " |-- Participated: long (nullable = true)\n",
      " |-- Event_Date: long (nullable = true)\n",
      "\n"
     ]
    }
   ],
   "source": [
    "spark_df.show(5)\n",
    "spark_df.printSchema()"
   ]
  },
  {
   "cell_type": "code",
   "execution_count": 29,
   "metadata": {
    "collapsed": true
   },
   "outputs": [],
   "source": [
    "participation_count = spark_df.groupBy(\"EventID\").count().rdd.values().histogram(20)"
   ]
  },
  {
   "cell_type": "code",
   "execution_count": 30,
   "metadata": {},
   "outputs": [
    {
     "data": {
      "text/plain": [
       "([34.0,\n",
       "  61.9,\n",
       "  89.8,\n",
       "  117.69999999999999,\n",
       "  145.6,\n",
       "  173.5,\n",
       "  201.39999999999998,\n",
       "  229.29999999999998,\n",
       "  257.2,\n",
       "  285.1,\n",
       "  313.0,\n",
       "  340.9,\n",
       "  368.79999999999995,\n",
       "  396.7,\n",
       "  424.59999999999997,\n",
       "  452.5,\n",
       "  480.4,\n",
       "  508.29999999999995,\n",
       "  536.2,\n",
       "  564.1,\n",
       "  592],\n",
       " [9, 7, 9, 10, 9, 3, 4, 10, 8, 4, 2, 7, 0, 1, 1, 0, 0, 0, 1, 1])"
      ]
     },
     "execution_count": 30,
     "metadata": {},
     "output_type": "execute_result"
    }
   ],
   "source": [
    "participation_count"
   ]
  },
  {
   "cell_type": "code",
   "execution_count": 31,
   "metadata": {},
   "outputs": [
    {
     "name": "stdout",
     "output_type": "stream",
     "text": [
      "20\n",
      "20\n"
     ]
    }
   ],
   "source": [
    "participation_count[0].pop(0)\n",
    "\n",
    "print(len(participation_count[0]))\n",
    "print(len(participation_count[1]))"
   ]
  },
  {
   "cell_type": "code",
   "execution_count": 34,
   "metadata": {},
   "outputs": [
    {
     "data": {
      "image/png": "[encoded data removed]",
      "text/plain": [
       "<matplotlib.figure.Figure at 0x11bbbca10>"
      ]
     },
     "metadata": {},
     "output_type": "display_data"
    }
   ],
   "source": [
    "plt.plot(participation_count[0], participation_count[1])\n",
    "plt.title(\"Event Count Histogram\")\n",
    "plt.xlabel(\"Participants at Event\")\n",
    "plt.ylabel(\"Frequency of Events\")\n",
    "plt.show()"
   ]
  },
  {
   "cell_type": "code",
   "execution_count": null,
   "metadata": {
    "collapsed": true
   },
   "outputs": [],
   "source": []
  }
 ],
 "metadata": {
  "kernelspec": {
   "display_name": "Python 2",
   "language": "python",
   "name": "python2"
  },
  "language_info": {
   "codemirror_mode": {
    "name": "ipython",
    "version": 2
   },
   "file_extension": ".py",
   "mimetype": "text/x-python",
   "name": "python",
   "nbconvert_exporter": "python",
   "pygments_lexer": "ipython2",
   "version": "2.7.13"
  }
 },
 "nbformat": 4,
 "nbformat_minor": 2
}

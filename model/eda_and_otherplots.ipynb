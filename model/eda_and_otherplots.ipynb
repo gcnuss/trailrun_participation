{
 "cells": [
  {
   "cell_type": "code",
   "execution_count": 2,
   "metadata": {
    "collapsed": true
   },
   "outputs": [],
   "source": [
    "import pandas as pd\n",
    "import numpy as np\n",
    "import matplotlib.pyplot as plt\n",
    "import cPickle as pickle\n",
    "\n",
    "%matplotlib inline"
   ]
  },
  {
   "cell_type": "markdown",
   "metadata": {},
   "source": [
    "## Basic EDA Data and Plots"
   ]
  },
  {
   "cell_type": "code",
   "execution_count": 3,
   "metadata": {
    "collapsed": true
   },
   "outputs": [],
   "source": [
    "with open ('30OCT17_finalfitmodelsv2/cleaned_df.pkl', 'rb') as f:\n",
    "    cleaned_data = pickle.load(f)"
   ]
  },
  {
   "cell_type": "code",
   "execution_count": 4,
   "metadata": {},
   "outputs": [
    {
     "name": "stdout",
     "output_type": "stream",
     "text": [
      "<class 'pandas.core.frame.DataFrame'>\n",
      "Int64Index: 16978 entries, 0 to 16988\n",
      "Data columns (total 28 columns):\n",
      "PersonID             16978 non-null int64\n",
      "EventID              16978 non-null int64\n",
      "Gender               16978 non-null object\n",
      "Distance             16978 non-null object\n",
      "Total fee            16978 non-null float64\n",
      "Payment method       13482 non-null object\n",
      "Street Address       14062 non-null object\n",
      "City                 15232 non-null object\n",
      "State/Province       16087 non-null object\n",
      "Zip Code             14978 non-null object\n",
      "Country              15796 non-null object\n",
      "Contact              16978 non-null object\n",
      "Tshirt               16978 non-null object\n",
      "Hoodie               16978 non-null object\n",
      "Event_Name           16978 non-null object\n",
      "Event_Date           16978 non-null datetime64[ns]\n",
      "MergeoEvent          16978 non-null bool\n",
      "EventTypeID          16978 non-null int64\n",
      "EventType            16978 non-null object\n",
      "SeriesID             16978 non-null float64\n",
      "Age2                 16978 non-null float64\n",
      "Miles2               16978 non-null float64\n",
      "Time2                16978 non-null object\n",
      "Preregistered        16978 non-null int64\n",
      "has_emerg_contact    16978 non-null int64\n",
      "HasSeries            16978 non-null object\n",
      "has_pay_method       16978 non-null object\n",
      "Venue_Zip            16978 non-null int64\n",
      "dtypes: bool(1), datetime64[ns](1), float64(4), int64(6), object(16)\n",
      "memory usage: 3.6+ MB\n"
     ]
    }
   ],
   "source": [
    "cleaned_data.info()"
   ]
  },
  {
   "cell_type": "code",
   "execution_count": 5,
   "metadata": {
    "collapsed": true
   },
   "outputs": [],
   "source": [
    "unique_personIDs = cleaned_data['PersonID'].unique()\n",
    "unique_eventIDs = cleaned_data['EventID'].unique()"
   ]
  },
  {
   "cell_type": "code",
   "execution_count": 6,
   "metadata": {},
   "outputs": [
    {
     "name": "stdout",
     "output_type": "stream",
     "text": [
      "Total Number of Users: 10764\n",
      "Total Number of Events: 86\n",
      "Total Number of Participations 16978\n"
     ]
    }
   ],
   "source": [
    "print ('Total Number of Users: {}'.format(len(unique_personIDs)))\n",
    "print ('Total Number of Events: {}'.format(len(unique_eventIDs)))\n",
    "print ('Total Number of Participations {}'.format(len(cleaned_data)))"
   ]
  },
  {
   "cell_type": "code",
   "execution_count": 7,
   "metadata": {},
   "outputs": [
    {
     "name": "stdout",
     "output_type": "stream",
     "text": [
      "Total Possible Participations: 925704\n"
     ]
    }
   ],
   "source": [
    "print ('Total Possible Participations: {}'.format(len(unique_personIDs) * len(unique_eventIDs)))"
   ]
  },
  {
   "cell_type": "code",
   "execution_count": 8,
   "metadata": {},
   "outputs": [
    {
     "name": "stdout",
     "output_type": "stream",
     "text": [
      "Participant Sparsity: 98.0%\n"
     ]
    }
   ],
   "source": [
    "print ('Participant Sparsity: {}%'.format(round((1 - len(cleaned_data) / \n",
    "                                                 float(len(unique_personIDs) * len(unique_eventIDs)))*100)))"
   ]
  },
  {
   "cell_type": "markdown",
   "metadata": {},
   "source": [
    "### Participation per Event EDA"
   ]
  },
  {
   "cell_type": "code",
   "execution_count": 9,
   "metadata": {
    "collapsed": true
   },
   "outputs": [],
   "source": [
    "part_per_event = cleaned_data.groupby('EventID')['PersonID'].count()"
   ]
  },
  {
   "cell_type": "code",
   "execution_count": 10,
   "metadata": {},
   "outputs": [
    {
     "name": "stdout",
     "output_type": "stream",
     "text": [
      "Min Event Size 34, Max Event Size 592\n"
     ]
    }
   ],
   "source": [
    "print ('Min Event Size {}, Max Event Size {}'.format(\n",
    "    min(part_per_event), max(part_per_event)))"
   ]
  },
  {
   "cell_type": "code",
   "execution_count": 11,
   "metadata": {},
   "outputs": [
    {
     "data": {
      "image/png": "[encoded data removed]",
      "text/plain": [
       "<matplotlib.figure.Figure at 0x11892d050>"
      ]
     },
     "metadata": {},
     "output_type": "display_data"
    }
   ],
   "source": [
    "plt.hist(part_per_event, bins=20);\n",
    "plt.title('Events by Size');\n",
    "plt.xlabel('Participants at Event');\n",
    "plt.ylabel('Frequency of Events at Size');"
   ]
  },
  {
   "cell_type": "code",
   "execution_count": 12,
   "metadata": {
    "collapsed": true
   },
   "outputs": [],
   "source": [
    "largest_events = cleaned_data.groupby('EventID').count()[['EventType']].sort_values(\n",
    "                  'EventType', ascending=False)\n",
    "largest_events.reset_index(inplace=True)\n",
    "largest_events = pd.merge(largest_events, cleaned_data, on='EventID')\n",
    "largest_events = largest_events[['EventID', 'EventType_y', 'EventType_x', 'Event_Name', 'SeriesID', 'Event_Date']]\n",
    "largest_events.drop_duplicates(subset='EventID', inplace=True)\n",
    "largest_events.reset_index(drop=True, inplace=True)\n",
    "largest_events.rename(columns = {'EventType_x' : 'Attendance'}, inplace=True)"
   ]
  },
  {
   "cell_type": "code",
   "execution_count": 13,
   "metadata": {},
   "outputs": [
    {
     "data": {
      "text/html": [
       "<div>\n",
       "<style>\n",
       "    .dataframe thead tr:only-child th {\n",
       "        text-align: right;\n",
       "    }\n",
       "\n",
       "    .dataframe thead th {\n",
       "        text-align: left;\n",
       "    }\n",
       "\n",
       "    .dataframe tbody tr th {\n",
       "        vertical-align: top;\n",
       "    }\n",
       "</style>\n",
       "<table border=\"1\" class=\"dataframe\">\n",
       "  <thead>\n",
       "    <tr style=\"text-align: right;\">\n",
       "      <th></th>\n",
       "      <th>EventID</th>\n",
       "      <th>EventType_y</th>\n",
       "      <th>Attendance</th>\n",
       "      <th>Event_Name</th>\n",
       "      <th>SeriesID</th>\n",
       "      <th>Event_Date</th>\n",
       "    </tr>\n",
       "  </thead>\n",
       "  <tbody>\n",
       "    <tr>\n",
       "      <th>23</th>\n",
       "      <td>67</td>\n",
       "      <td>Trail Run</td>\n",
       "      <td>265</td>\n",
       "      <td>Interlaken Icicle Dash</td>\n",
       "      <td>1.0</td>\n",
       "      <td>2017-02-05</td>\n",
       "    </tr>\n",
       "    <tr>\n",
       "      <th>7</th>\n",
       "      <td>35</td>\n",
       "      <td>Trail Run</td>\n",
       "      <td>352</td>\n",
       "      <td>Interlaken Icicle Dash</td>\n",
       "      <td>1.0</td>\n",
       "      <td>2016-01-23</td>\n",
       "    </tr>\n",
       "    <tr>\n",
       "      <th>20</th>\n",
       "      <td>9</td>\n",
       "      <td>Trail Run</td>\n",
       "      <td>275</td>\n",
       "      <td>Interlaken Icicle Dash</td>\n",
       "      <td>1.0</td>\n",
       "      <td>2015-01-24</td>\n",
       "    </tr>\n",
       "  </tbody>\n",
       "</table>\n",
       "</div>"
      ],
      "text/plain": [
       "    EventID EventType_y  Attendance              Event_Name  SeriesID  \\\n",
       "23       67   Trail Run         265  Interlaken Icicle Dash       1.0   \n",
       "7        35   Trail Run         352  Interlaken Icicle Dash       1.0   \n",
       "20        9   Trail Run         275  Interlaken Icicle Dash       1.0   \n",
       "\n",
       "   Event_Date  \n",
       "23 2017-02-05  \n",
       "7  2016-01-23  \n",
       "20 2015-01-24  "
      ]
     },
     "execution_count": 13,
     "metadata": {},
     "output_type": "execute_result"
    }
   ],
   "source": [
    "largest_events[largest_events['Event_Name']=='Interlaken Icicle Dash'].sort_values('Event_Date', ascending=False)"
   ]
  },
  {
   "cell_type": "code",
   "execution_count": 14,
   "metadata": {},
   "outputs": [
    {
     "data": {
      "text/html": [
       "<div>\n",
       "<style>\n",
       "    .dataframe thead tr:only-child th {\n",
       "        text-align: right;\n",
       "    }\n",
       "\n",
       "    .dataframe thead th {\n",
       "        text-align: left;\n",
       "    }\n",
       "\n",
       "    .dataframe tbody tr th {\n",
       "        vertical-align: top;\n",
       "    }\n",
       "</style>\n",
       "<table border=\"1\" class=\"dataframe\">\n",
       "  <thead>\n",
       "    <tr style=\"text-align: right;\">\n",
       "      <th></th>\n",
       "      <th>EventID</th>\n",
       "      <th>EventType_y</th>\n",
       "      <th>Attendance</th>\n",
       "      <th>Event_Name</th>\n",
       "      <th>SeriesID</th>\n",
       "      <th>Event_Date</th>\n",
       "    </tr>\n",
       "  </thead>\n",
       "  <tbody>\n",
       "    <tr>\n",
       "      <th>43</th>\n",
       "      <td>79</td>\n",
       "      <td>Trail Run</td>\n",
       "      <td>170</td>\n",
       "      <td>Carkeek Warmer</td>\n",
       "      <td>3.0</td>\n",
       "      <td>2017-07-11</td>\n",
       "    </tr>\n",
       "  </tbody>\n",
       "</table>\n",
       "</div>"
      ],
      "text/plain": [
       "    EventID EventType_y  Attendance      Event_Name  SeriesID Event_Date\n",
       "43       79   Trail Run         170  Carkeek Warmer       3.0 2017-07-11"
      ]
     },
     "execution_count": 14,
     "metadata": {},
     "output_type": "execute_result"
    }
   ],
   "source": [
    "largest_events[largest_events['EventID']==79]"
   ]
  },
  {
   "cell_type": "markdown",
   "metadata": {},
   "source": [
    "### Events per Participant EDA"
   ]
  },
  {
   "cell_type": "code",
   "execution_count": 24,
   "metadata": {
    "collapsed": true
   },
   "outputs": [],
   "source": [
    "events_per_part = cleaned_data.groupby('PersonID')['EventID'].count()"
   ]
  },
  {
   "cell_type": "code",
   "execution_count": 25,
   "metadata": {},
   "outputs": [
    {
     "name": "stdout",
     "output_type": "stream",
     "text": [
      "Min Participation Size 1, Max Participation Size 50\n"
     ]
    }
   ],
   "source": [
    "print ('Min Participation Size {}, Max Participation Size {}'.format(\n",
    "    min(events_per_part), max(events_per_part)))"
   ]
  },
  {
   "cell_type": "code",
   "execution_count": 26,
   "metadata": {
    "collapsed": true
   },
   "outputs": [],
   "source": [
    "events_per_part.sort_values(inplace=True)"
   ]
  },
  {
   "cell_type": "code",
   "execution_count": 27,
   "metadata": {},
   "outputs": [
    {
     "data": {
      "image/png": "[encoded data removed]",
      "text/plain": [
       "<matplotlib.figure.Figure at 0x117ffb0d0>"
      ]
     },
     "metadata": {},
     "output_type": "display_data"
    }
   ],
   "source": [
    "plt.hist(events_per_part.iloc[:10761], bins=20);\n",
    "plt.title('Events per Participant');\n",
    "plt.xlabel('Number of Events');\n",
    "plt.ylabel('Frequency of Participants');\n",
    "\n",
    "#dropped three rows for the three people with over 30 events to show better granularity for the rest (1673, 1910, 1115)"
   ]
  },
  {
   "cell_type": "code",
   "execution_count": 30,
   "metadata": {},
   "outputs": [
    {
     "name": "stdout",
     "output_type": "stream",
     "text": [
      "0.972129319955\n"
     ]
    }
   ],
   "source": [
    "count = 0\n",
    "for event in events_per_part:\n",
    "    if event <=5:\n",
    "        count += 1\n",
    "        \n",
    "print (float(count)/len(events_per_part))"
   ]
  },
  {
   "cell_type": "code",
   "execution_count": 19,
   "metadata": {},
   "outputs": [
    {
     "data": {
      "text/plain": [
       "'Total Participations: 10,764; 10,688 have attended 10 events or less; 8,235 have only attended 1 event'"
      ]
     },
     "execution_count": 19,
     "metadata": {},
     "output_type": "execute_result"
    },
    {
     "data": {
      "image/png": "[encoded data removed]",
      "text/plain": [
       "<matplotlib.figure.Figure at 0x118344650>"
      ]
     },
     "metadata": {},
     "output_type": "display_data"
    }
   ],
   "source": [
    "plt.hist(events_per_part.iloc[0:10688], bins=20);\n",
    "plt.title('Events Attended per Participant');\n",
    "plt.xlabel('Number of Events');\n",
    "plt.ylabel('Frequency of Participants');\n",
    "\n",
    "'Total Participations: 10,764; 10,688 have attended 10 events or less; 8,235 have only attended 1 event'"
   ]
  },
  {
   "cell_type": "code",
   "execution_count": 18,
   "metadata": {
    "collapsed": true
   },
   "outputs": [],
   "source": [
    "highest_participants = cleaned_data.groupby('PersonID').count()[['EventType']].sort_values(\n",
    "                  'EventType', ascending=False)\n",
    "\n",
    "highest_participants.reset_index(inplace=True)\n",
    "\n",
    "highest_participants = pd.merge(highest_participants, cleaned_data, on='PersonID')\n",
    "\n",
    "highest_participants = highest_participants[['PersonID', 'Gender', 'Age2', 'EventType_x']]\n",
    "\n",
    "highest_participants.drop_duplicates(subset='PersonID', inplace=True)\n",
    "highest_participants.reset_index(drop=True, inplace=True)\n",
    "highest_participants.rename(columns = {'EventType_x' : 'Attendance'}, inplace=True)"
   ]
  },
  {
   "cell_type": "code",
   "execution_count": 19,
   "metadata": {},
   "outputs": [
    {
     "data": {
      "text/html": [
       "<div>\n",
       "<style>\n",
       "    .dataframe thead tr:only-child th {\n",
       "        text-align: right;\n",
       "    }\n",
       "\n",
       "    .dataframe thead th {\n",
       "        text-align: left;\n",
       "    }\n",
       "\n",
       "    .dataframe tbody tr th {\n",
       "        vertical-align: top;\n",
       "    }\n",
       "</style>\n",
       "<table border=\"1\" class=\"dataframe\">\n",
       "  <thead>\n",
       "    <tr style=\"text-align: right;\">\n",
       "      <th></th>\n",
       "      <th>PersonID</th>\n",
       "      <th>Gender</th>\n",
       "      <th>Age2</th>\n",
       "      <th>Attendance</th>\n",
       "    </tr>\n",
       "  </thead>\n",
       "  <tbody>\n",
       "    <tr>\n",
       "      <th>0</th>\n",
       "      <td>1115</td>\n",
       "      <td>Male</td>\n",
       "      <td>53.0</td>\n",
       "      <td>50</td>\n",
       "    </tr>\n",
       "    <tr>\n",
       "      <th>1</th>\n",
       "      <td>1910</td>\n",
       "      <td>Male</td>\n",
       "      <td>46.0</td>\n",
       "      <td>37</td>\n",
       "    </tr>\n",
       "    <tr>\n",
       "      <th>2</th>\n",
       "      <td>1673</td>\n",
       "      <td>Female</td>\n",
       "      <td>49.0</td>\n",
       "      <td>34</td>\n",
       "    </tr>\n",
       "    <tr>\n",
       "      <th>3</th>\n",
       "      <td>1481</td>\n",
       "      <td>Female</td>\n",
       "      <td>26.0</td>\n",
       "      <td>28</td>\n",
       "    </tr>\n",
       "    <tr>\n",
       "      <th>4</th>\n",
       "      <td>729</td>\n",
       "      <td>Female</td>\n",
       "      <td>47.0</td>\n",
       "      <td>28</td>\n",
       "    </tr>\n",
       "    <tr>\n",
       "      <th>5</th>\n",
       "      <td>741</td>\n",
       "      <td>Female</td>\n",
       "      <td>29.0</td>\n",
       "      <td>26</td>\n",
       "    </tr>\n",
       "    <tr>\n",
       "      <th>6</th>\n",
       "      <td>3267</td>\n",
       "      <td>Female</td>\n",
       "      <td>59.0</td>\n",
       "      <td>26</td>\n",
       "    </tr>\n",
       "    <tr>\n",
       "      <th>7</th>\n",
       "      <td>1664</td>\n",
       "      <td>Male</td>\n",
       "      <td>48.0</td>\n",
       "      <td>25</td>\n",
       "    </tr>\n",
       "    <tr>\n",
       "      <th>8</th>\n",
       "      <td>3056</td>\n",
       "      <td>Male</td>\n",
       "      <td>36.0</td>\n",
       "      <td>24</td>\n",
       "    </tr>\n",
       "    <tr>\n",
       "      <th>9</th>\n",
       "      <td>149</td>\n",
       "      <td>Male</td>\n",
       "      <td>60.0</td>\n",
       "      <td>22</td>\n",
       "    </tr>\n",
       "  </tbody>\n",
       "</table>\n",
       "</div>"
      ],
      "text/plain": [
       "   PersonID  Gender  Age2  Attendance\n",
       "0      1115    Male  53.0          50\n",
       "1      1910    Male  46.0          37\n",
       "2      1673  Female  49.0          34\n",
       "3      1481  Female  26.0          28\n",
       "4       729  Female  47.0          28\n",
       "5       741  Female  29.0          26\n",
       "6      3267  Female  59.0          26\n",
       "7      1664    Male  48.0          25\n",
       "8      3056    Male  36.0          24\n",
       "9       149    Male  60.0          22"
      ]
     },
     "execution_count": 19,
     "metadata": {},
     "output_type": "execute_result"
    }
   ],
   "source": [
    "highest_participants.head(10)"
   ]
  },
  {
   "cell_type": "markdown",
   "metadata": {},
   "source": [
    "## Fitting ALS Models and Assessing Rank"
   ]
  },
  {
   "cell_type": "code",
   "execution_count": 20,
   "metadata": {
    "collapsed": true
   },
   "outputs": [],
   "source": [
    "als_ranks_tune = pd.read_csv('../data/als_ranks_tune.csv')"
   ]
  },
  {
   "cell_type": "code",
   "execution_count": 21,
   "metadata": {},
   "outputs": [
    {
     "data": {
      "text/html": [
       "<div>\n",
       "<style>\n",
       "    .dataframe thead tr:only-child th {\n",
       "        text-align: right;\n",
       "    }\n",
       "\n",
       "    .dataframe thead th {\n",
       "        text-align: left;\n",
       "    }\n",
       "\n",
       "    .dataframe tbody tr th {\n",
       "        vertical-align: top;\n",
       "    }\n",
       "</style>\n",
       "<table border=\"1\" class=\"dataframe\">\n",
       "  <thead>\n",
       "    <tr style=\"text-align: right;\">\n",
       "      <th></th>\n",
       "      <th>als_model</th>\n",
       "      <th>alpha</th>\n",
       "      <th>factors</th>\n",
       "      <th>model_rank</th>\n",
       "      <th>popular_rank</th>\n",
       "    </tr>\n",
       "  </thead>\n",
       "  <tbody>\n",
       "    <tr>\n",
       "      <th>0</th>\n",
       "      <td>series</td>\n",
       "      <td>10</td>\n",
       "      <td>5</td>\n",
       "      <td>11.012784</td>\n",
       "      <td>14.605311</td>\n",
       "    </tr>\n",
       "    <tr>\n",
       "      <th>1</th>\n",
       "      <td>series</td>\n",
       "      <td>10</td>\n",
       "      <td>10</td>\n",
       "      <td>12.364938</td>\n",
       "      <td>14.605311</td>\n",
       "    </tr>\n",
       "    <tr>\n",
       "      <th>2</th>\n",
       "      <td>series</td>\n",
       "      <td>10</td>\n",
       "      <td>30</td>\n",
       "      <td>12.217457</td>\n",
       "      <td>14.605311</td>\n",
       "    </tr>\n",
       "    <tr>\n",
       "      <th>3</th>\n",
       "      <td>series</td>\n",
       "      <td>40</td>\n",
       "      <td>5</td>\n",
       "      <td>8.500245</td>\n",
       "      <td>14.605311</td>\n",
       "    </tr>\n",
       "    <tr>\n",
       "      <th>4</th>\n",
       "      <td>series</td>\n",
       "      <td>40</td>\n",
       "      <td>10</td>\n",
       "      <td>10.242787</td>\n",
       "      <td>14.605311</td>\n",
       "    </tr>\n",
       "    <tr>\n",
       "      <th>5</th>\n",
       "      <td>series</td>\n",
       "      <td>40</td>\n",
       "      <td>30</td>\n",
       "      <td>11.665075</td>\n",
       "      <td>14.605311</td>\n",
       "    </tr>\n",
       "    <tr>\n",
       "      <th>6</th>\n",
       "      <td>series</td>\n",
       "      <td>80</td>\n",
       "      <td>5</td>\n",
       "      <td>7.361186</td>\n",
       "      <td>14.605311</td>\n",
       "    </tr>\n",
       "    <tr>\n",
       "      <th>7</th>\n",
       "      <td>series</td>\n",
       "      <td>80</td>\n",
       "      <td>10</td>\n",
       "      <td>8.679236</td>\n",
       "      <td>14.605311</td>\n",
       "    </tr>\n",
       "    <tr>\n",
       "      <th>8</th>\n",
       "      <td>series</td>\n",
       "      <td>80</td>\n",
       "      <td>30</td>\n",
       "      <td>10.726325</td>\n",
       "      <td>14.605311</td>\n",
       "    </tr>\n",
       "    <tr>\n",
       "      <th>9</th>\n",
       "      <td>event_type</td>\n",
       "      <td>10</td>\n",
       "      <td>5</td>\n",
       "      <td>0.000000</td>\n",
       "      <td>0.000000</td>\n",
       "    </tr>\n",
       "  </tbody>\n",
       "</table>\n",
       "</div>"
      ],
      "text/plain": [
       "    als_model  alpha  factors  model_rank  popular_rank\n",
       "0      series     10        5   11.012784     14.605311\n",
       "1      series     10       10   12.364938     14.605311\n",
       "2      series     10       30   12.217457     14.605311\n",
       "3      series     40        5    8.500245     14.605311\n",
       "4      series     40       10   10.242787     14.605311\n",
       "5      series     40       30   11.665075     14.605311\n",
       "6      series     80        5    7.361186     14.605311\n",
       "7      series     80       10    8.679236     14.605311\n",
       "8      series     80       30   10.726325     14.605311\n",
       "9  event_type     10        5    0.000000      0.000000"
      ]
     },
     "execution_count": 21,
     "metadata": {},
     "output_type": "execute_result"
    }
   ],
   "source": [
    "als_ranks_tune.head(10)"
   ]
  },
  {
   "cell_type": "code",
   "execution_count": 22,
   "metadata": {},
   "outputs": [
    {
     "data": {
      "text/html": [
       "<div>\n",
       "<style>\n",
       "    .dataframe thead tr:only-child th {\n",
       "        text-align: right;\n",
       "    }\n",
       "\n",
       "    .dataframe thead th {\n",
       "        text-align: left;\n",
       "    }\n",
       "\n",
       "    .dataframe tbody tr th {\n",
       "        vertical-align: top;\n",
       "    }\n",
       "</style>\n",
       "<table border=\"1\" class=\"dataframe\">\n",
       "  <thead>\n",
       "    <tr style=\"text-align: right;\">\n",
       "      <th></th>\n",
       "      <th>als_model</th>\n",
       "      <th>alpha</th>\n",
       "      <th>factors</th>\n",
       "      <th>model_rank</th>\n",
       "      <th>popular_rank</th>\n",
       "    </tr>\n",
       "  </thead>\n",
       "  <tbody>\n",
       "    <tr>\n",
       "      <th>0</th>\n",
       "      <td>series</td>\n",
       "      <td>10</td>\n",
       "      <td>5</td>\n",
       "      <td>11.012784</td>\n",
       "      <td>14.605311</td>\n",
       "    </tr>\n",
       "    <tr>\n",
       "      <th>1</th>\n",
       "      <td>series</td>\n",
       "      <td>40</td>\n",
       "      <td>5</td>\n",
       "      <td>8.500245</td>\n",
       "      <td>14.605311</td>\n",
       "    </tr>\n",
       "    <tr>\n",
       "      <th>2</th>\n",
       "      <td>series</td>\n",
       "      <td>80</td>\n",
       "      <td>5</td>\n",
       "      <td>7.361186</td>\n",
       "      <td>14.605311</td>\n",
       "    </tr>\n",
       "    <tr>\n",
       "      <th>3</th>\n",
       "      <td>event_type</td>\n",
       "      <td>10</td>\n",
       "      <td>5</td>\n",
       "      <td>0.000000</td>\n",
       "      <td>0.000000</td>\n",
       "    </tr>\n",
       "    <tr>\n",
       "      <th>4</th>\n",
       "      <td>event_type</td>\n",
       "      <td>40</td>\n",
       "      <td>5</td>\n",
       "      <td>0.000000</td>\n",
       "      <td>0.000000</td>\n",
       "    </tr>\n",
       "    <tr>\n",
       "      <th>5</th>\n",
       "      <td>event_type</td>\n",
       "      <td>80</td>\n",
       "      <td>5</td>\n",
       "      <td>100.000000</td>\n",
       "      <td>100.000000</td>\n",
       "    </tr>\n",
       "    <tr>\n",
       "      <th>6</th>\n",
       "      <td>venue</td>\n",
       "      <td>10</td>\n",
       "      <td>5</td>\n",
       "      <td>14.527180</td>\n",
       "      <td>34.874847</td>\n",
       "    </tr>\n",
       "    <tr>\n",
       "      <th>7</th>\n",
       "      <td>venue</td>\n",
       "      <td>40</td>\n",
       "      <td>5</td>\n",
       "      <td>12.802553</td>\n",
       "      <td>34.874847</td>\n",
       "    </tr>\n",
       "    <tr>\n",
       "      <th>8</th>\n",
       "      <td>venue</td>\n",
       "      <td>80</td>\n",
       "      <td>5</td>\n",
       "      <td>11.991155</td>\n",
       "      <td>34.874847</td>\n",
       "    </tr>\n",
       "    <tr>\n",
       "      <th>9</th>\n",
       "      <td>avg_fee</td>\n",
       "      <td>10</td>\n",
       "      <td>5</td>\n",
       "      <td>19.589791</td>\n",
       "      <td>21.788490</td>\n",
       "    </tr>\n",
       "    <tr>\n",
       "      <th>10</th>\n",
       "      <td>avg_fee</td>\n",
       "      <td>40</td>\n",
       "      <td>5</td>\n",
       "      <td>17.604070</td>\n",
       "      <td>21.788490</td>\n",
       "    </tr>\n",
       "    <tr>\n",
       "      <th>11</th>\n",
       "      <td>avg_fee</td>\n",
       "      <td>80</td>\n",
       "      <td>5</td>\n",
       "      <td>14.532785</td>\n",
       "      <td>21.788490</td>\n",
       "    </tr>\n",
       "    <tr>\n",
       "      <th>12</th>\n",
       "      <td>avg_miles</td>\n",
       "      <td>10</td>\n",
       "      <td>5</td>\n",
       "      <td>15.270046</td>\n",
       "      <td>29.196071</td>\n",
       "    </tr>\n",
       "    <tr>\n",
       "      <th>13</th>\n",
       "      <td>avg_miles</td>\n",
       "      <td>40</td>\n",
       "      <td>5</td>\n",
       "      <td>12.993524</td>\n",
       "      <td>29.196071</td>\n",
       "    </tr>\n",
       "    <tr>\n",
       "      <th>14</th>\n",
       "      <td>avg_miles</td>\n",
       "      <td>80</td>\n",
       "      <td>5</td>\n",
       "      <td>10.829933</td>\n",
       "      <td>29.196071</td>\n",
       "    </tr>\n",
       "  </tbody>\n",
       "</table>\n",
       "</div>"
      ],
      "text/plain": [
       "     als_model  alpha  factors  model_rank  popular_rank\n",
       "0       series     10        5   11.012784     14.605311\n",
       "1       series     40        5    8.500245     14.605311\n",
       "2       series     80        5    7.361186     14.605311\n",
       "3   event_type     10        5    0.000000      0.000000\n",
       "4   event_type     40        5    0.000000      0.000000\n",
       "5   event_type     80        5  100.000000    100.000000\n",
       "6        venue     10        5   14.527180     34.874847\n",
       "7        venue     40        5   12.802553     34.874847\n",
       "8        venue     80        5   11.991155     34.874847\n",
       "9      avg_fee     10        5   19.589791     21.788490\n",
       "10     avg_fee     40        5   17.604070     21.788490\n",
       "11     avg_fee     80        5   14.532785     21.788490\n",
       "12   avg_miles     10        5   15.270046     29.196071\n",
       "13   avg_miles     40        5   12.993524     29.196071\n",
       "14   avg_miles     80        5   10.829933     29.196071"
      ]
     },
     "execution_count": 22,
     "metadata": {},
     "output_type": "execute_result"
    }
   ],
   "source": [
    "five_factor = als_ranks_tune[als_ranks_tune['factors'] == 5]\n",
    "five_factor.reset_index(drop=True, inplace=True)\n",
    "five_factor"
   ]
  },
  {
   "cell_type": "code",
   "execution_count": 23,
   "metadata": {},
   "outputs": [
    {
     "data": {
      "image/png": "[encoded data removed]",
      "text/plain": [
       "<matplotlib.figure.Figure at 0x119dd6510>"
      ]
     },
     "metadata": {},
     "output_type": "display_data"
    }
   ],
   "source": [
    "fig, axs = plt.subplots(2, 3)\n",
    "\n",
    "a = 0\n",
    "b = 3\n",
    "\n",
    "for ax in axs.flatten():\n",
    "    ax.plot(five_factor['alpha'].iloc[a:b], five_factor['model_rank'].iloc[a:b])\n",
    "    a+=3\n",
    "    b+=3"
   ]
  },
  {
   "cell_type": "code",
   "execution_count": 24,
   "metadata": {},
   "outputs": [
    {
     "name": "stderr",
     "output_type": "stream",
     "text": [
      "/Users/ginanuss/anaconda/lib/python2.7/site-packages/ipykernel_launcher.py:1: SettingWithCopyWarning: \n",
      "A value is trying to be set on a copy of a slice from a DataFrame\n",
      "\n",
      "See the caveats in the documentation: http://pandas.pydata.org/pandas-docs/stable/indexing.html#indexing-view-versus-copy\n",
      "  \"\"\"Entry point for launching an IPython kernel.\n"
     ]
    }
   ],
   "source": [
    "five_factor.drop([3, 4, 5], axis=0, inplace=True)\n",
    "five_factor.reset_index(drop=True, inplace=True)"
   ]
  },
  {
   "cell_type": "code",
   "execution_count": 25,
   "metadata": {},
   "outputs": [
    {
     "data": {
      "text/html": [
       "<div>\n",
       "<style>\n",
       "    .dataframe thead tr:only-child th {\n",
       "        text-align: right;\n",
       "    }\n",
       "\n",
       "    .dataframe thead th {\n",
       "        text-align: left;\n",
       "    }\n",
       "\n",
       "    .dataframe tbody tr th {\n",
       "        vertical-align: top;\n",
       "    }\n",
       "</style>\n",
       "<table border=\"1\" class=\"dataframe\">\n",
       "  <thead>\n",
       "    <tr style=\"text-align: right;\">\n",
       "      <th></th>\n",
       "      <th>als_model</th>\n",
       "      <th>alpha</th>\n",
       "      <th>factors</th>\n",
       "      <th>model_rank</th>\n",
       "      <th>popular_rank</th>\n",
       "    </tr>\n",
       "  </thead>\n",
       "  <tbody>\n",
       "    <tr>\n",
       "      <th>0</th>\n",
       "      <td>series</td>\n",
       "      <td>10</td>\n",
       "      <td>5</td>\n",
       "      <td>11.012784</td>\n",
       "      <td>14.605311</td>\n",
       "    </tr>\n",
       "    <tr>\n",
       "      <th>1</th>\n",
       "      <td>series</td>\n",
       "      <td>40</td>\n",
       "      <td>5</td>\n",
       "      <td>8.500245</td>\n",
       "      <td>14.605311</td>\n",
       "    </tr>\n",
       "    <tr>\n",
       "      <th>2</th>\n",
       "      <td>series</td>\n",
       "      <td>80</td>\n",
       "      <td>5</td>\n",
       "      <td>7.361186</td>\n",
       "      <td>14.605311</td>\n",
       "    </tr>\n",
       "    <tr>\n",
       "      <th>3</th>\n",
       "      <td>venue</td>\n",
       "      <td>10</td>\n",
       "      <td>5</td>\n",
       "      <td>14.527180</td>\n",
       "      <td>34.874847</td>\n",
       "    </tr>\n",
       "    <tr>\n",
       "      <th>4</th>\n",
       "      <td>venue</td>\n",
       "      <td>40</td>\n",
       "      <td>5</td>\n",
       "      <td>12.802553</td>\n",
       "      <td>34.874847</td>\n",
       "    </tr>\n",
       "    <tr>\n",
       "      <th>5</th>\n",
       "      <td>venue</td>\n",
       "      <td>80</td>\n",
       "      <td>5</td>\n",
       "      <td>11.991155</td>\n",
       "      <td>34.874847</td>\n",
       "    </tr>\n",
       "    <tr>\n",
       "      <th>6</th>\n",
       "      <td>avg_fee</td>\n",
       "      <td>10</td>\n",
       "      <td>5</td>\n",
       "      <td>19.589791</td>\n",
       "      <td>21.788490</td>\n",
       "    </tr>\n",
       "    <tr>\n",
       "      <th>7</th>\n",
       "      <td>avg_fee</td>\n",
       "      <td>40</td>\n",
       "      <td>5</td>\n",
       "      <td>17.604070</td>\n",
       "      <td>21.788490</td>\n",
       "    </tr>\n",
       "    <tr>\n",
       "      <th>8</th>\n",
       "      <td>avg_fee</td>\n",
       "      <td>80</td>\n",
       "      <td>5</td>\n",
       "      <td>14.532785</td>\n",
       "      <td>21.788490</td>\n",
       "    </tr>\n",
       "    <tr>\n",
       "      <th>9</th>\n",
       "      <td>avg_miles</td>\n",
       "      <td>10</td>\n",
       "      <td>5</td>\n",
       "      <td>15.270046</td>\n",
       "      <td>29.196071</td>\n",
       "    </tr>\n",
       "    <tr>\n",
       "      <th>10</th>\n",
       "      <td>avg_miles</td>\n",
       "      <td>40</td>\n",
       "      <td>5</td>\n",
       "      <td>12.993524</td>\n",
       "      <td>29.196071</td>\n",
       "    </tr>\n",
       "    <tr>\n",
       "      <th>11</th>\n",
       "      <td>avg_miles</td>\n",
       "      <td>80</td>\n",
       "      <td>5</td>\n",
       "      <td>10.829933</td>\n",
       "      <td>29.196071</td>\n",
       "    </tr>\n",
       "  </tbody>\n",
       "</table>\n",
       "</div>"
      ],
      "text/plain": [
       "    als_model  alpha  factors  model_rank  popular_rank\n",
       "0      series     10        5   11.012784     14.605311\n",
       "1      series     40        5    8.500245     14.605311\n",
       "2      series     80        5    7.361186     14.605311\n",
       "3       venue     10        5   14.527180     34.874847\n",
       "4       venue     40        5   12.802553     34.874847\n",
       "5       venue     80        5   11.991155     34.874847\n",
       "6     avg_fee     10        5   19.589791     21.788490\n",
       "7     avg_fee     40        5   17.604070     21.788490\n",
       "8     avg_fee     80        5   14.532785     21.788490\n",
       "9   avg_miles     10        5   15.270046     29.196071\n",
       "10  avg_miles     40        5   12.993524     29.196071\n",
       "11  avg_miles     80        5   10.829933     29.196071"
      ]
     },
     "execution_count": 25,
     "metadata": {},
     "output_type": "execute_result"
    }
   ],
   "source": [
    "five_factor"
   ]
  },
  {
   "cell_type": "code",
   "execution_count": 26,
   "metadata": {},
   "outputs": [
    {
     "data": {
      "text/plain": [
       "'Lower rank is more desirable, as it indicates ranking actually attended events closer to the top of the recommendation lists'"
      ]
     },
     "execution_count": 26,
     "metadata": {},
     "output_type": "execute_result"
    },
    {
     "data": {
      "image/png": "[encoded data removed]",
      "text/plain": [
       "<matplotlib.figure.Figure at 0x119de1d50>"
      ]
     },
     "metadata": {},
     "output_type": "display_data"
    }
   ],
   "source": [
    "a = 0\n",
    "b = 3\n",
    "\n",
    "labels = ['Series', 'Venue', 'Avg Fee', 'Avg Mileage']\n",
    "colors = ['b', 'm', 'g', 'r']\n",
    "\n",
    "fig, axs = plt.subplots(2, 2, figsize=(12,8))\n",
    "\n",
    "for ax, val in zip(axs.flatten(), range(4)):\n",
    "    ax.plot(five_factor['alpha'].iloc[a:b], five_factor['model_rank'].iloc[a:b], \n",
    "                label='ALS Model Rank for {}'.format(labels[val]), c=colors[val])\n",
    "    ax.hlines(five_factor['popular_rank'].iloc[a:b].mean(), xmin=10, xmax=80, \n",
    "               label='Popularity Rank for {}'.format(labels[val]), colors=colors[val], linestyles='dashdot')\n",
    "    ax.set_xlabel('Alpha (Confidence in Positive Observations)')\n",
    "    ax.set_ylabel('Percentile Rank');\n",
    "    ax.set_title('{}'.format(labels[val]))\n",
    "    ax.legend(loc=7)\n",
    "    a+=3\n",
    "    b+=3\n",
    "    \n",
    "fig.tight_layout()\n",
    "\n",
    "fig.set_label('Tuning ALS Recommenders - Rank Varies with Alpha', );\n",
    "\n",
    "'Lower rank is more desirable, as it indicates ranking actually attended events closer to the top of the recommendation lists'"
   ]
  },
  {
   "cell_type": "code",
   "execution_count": 35,
   "metadata": {
    "collapsed": true
   },
   "outputs": [],
   "source": [
    "gb_ranks = pd.read_csv('../data/gb_ranks.csv')"
   ]
  },
  {
   "cell_type": "code",
   "execution_count": 36,
   "metadata": {},
   "outputs": [
    {
     "data": {
      "text/html": [
       "<div>\n",
       "<style>\n",
       "    .dataframe thead tr:only-child th {\n",
       "        text-align: right;\n",
       "    }\n",
       "\n",
       "    .dataframe thead th {\n",
       "        text-align: left;\n",
       "    }\n",
       "\n",
       "    .dataframe tbody tr th {\n",
       "        vertical-align: top;\n",
       "    }\n",
       "</style>\n",
       "<table border=\"1\" class=\"dataframe\">\n",
       "  <thead>\n",
       "    <tr style=\"text-align: right;\">\n",
       "      <th></th>\n",
       "      <th>gb_model</th>\n",
       "      <th>train/val/test</th>\n",
       "      <th>learning_rate</th>\n",
       "      <th>max_depth</th>\n",
       "      <th>n_est</th>\n",
       "      <th>subsample</th>\n",
       "      <th>model_rank</th>\n",
       "      <th>popular_rank</th>\n",
       "    </tr>\n",
       "  </thead>\n",
       "  <tbody>\n",
       "    <tr>\n",
       "      <th>0</th>\n",
       "      <td>base</td>\n",
       "      <td>val</td>\n",
       "      <td>0.10</td>\n",
       "      <td>3.0</td>\n",
       "      <td>100.0</td>\n",
       "      <td>1.0</td>\n",
       "      <td>10.608257</td>\n",
       "      <td>36.005992</td>\n",
       "    </tr>\n",
       "    <tr>\n",
       "      <th>1</th>\n",
       "      <td>v2</td>\n",
       "      <td>val</td>\n",
       "      <td>0.01</td>\n",
       "      <td>10.0</td>\n",
       "      <td>1000.0</td>\n",
       "      <td>0.5</td>\n",
       "      <td>13.215035</td>\n",
       "      <td>36.005992</td>\n",
       "    </tr>\n",
       "    <tr>\n",
       "      <th>2</th>\n",
       "      <td>v3</td>\n",
       "      <td>val</td>\n",
       "      <td>0.10</td>\n",
       "      <td>5.0</td>\n",
       "      <td>500.0</td>\n",
       "      <td>0.5</td>\n",
       "      <td>12.844999</td>\n",
       "      <td>36.005992</td>\n",
       "    </tr>\n",
       "    <tr>\n",
       "      <th>3</th>\n",
       "      <td>v4</td>\n",
       "      <td>val</td>\n",
       "      <td>0.10</td>\n",
       "      <td>3.0</td>\n",
       "      <td>100.0</td>\n",
       "      <td>0.5</td>\n",
       "      <td>10.896491</td>\n",
       "      <td>36.005992</td>\n",
       "    </tr>\n",
       "    <tr>\n",
       "      <th>4</th>\n",
       "      <td>v5</td>\n",
       "      <td>val</td>\n",
       "      <td>0.01</td>\n",
       "      <td>3.0</td>\n",
       "      <td>100.0</td>\n",
       "      <td>0.5</td>\n",
       "      <td>7.856947</td>\n",
       "      <td>36.005992</td>\n",
       "    </tr>\n",
       "    <tr>\n",
       "      <th>5</th>\n",
       "      <td>v6</td>\n",
       "      <td>val</td>\n",
       "      <td>0.01</td>\n",
       "      <td>5.0</td>\n",
       "      <td>100.0</td>\n",
       "      <td>0.5</td>\n",
       "      <td>8.166665</td>\n",
       "      <td>36.005992</td>\n",
       "    </tr>\n",
       "    <tr>\n",
       "      <th>6</th>\n",
       "      <td>v7</td>\n",
       "      <td>val</td>\n",
       "      <td>0.01</td>\n",
       "      <td>3.0</td>\n",
       "      <td>100.0</td>\n",
       "      <td>1.0</td>\n",
       "      <td>7.660948</td>\n",
       "      <td>36.005992</td>\n",
       "    </tr>\n",
       "    <tr>\n",
       "      <th>7</th>\n",
       "      <td>v8</td>\n",
       "      <td>val</td>\n",
       "      <td>0.01</td>\n",
       "      <td>3.0</td>\n",
       "      <td>300.0</td>\n",
       "      <td>0.5</td>\n",
       "      <td>9.192136</td>\n",
       "      <td>36.005992</td>\n",
       "    </tr>\n",
       "    <tr>\n",
       "      <th>8</th>\n",
       "      <td>v5</td>\n",
       "      <td>test</td>\n",
       "      <td>0.01</td>\n",
       "      <td>3.0</td>\n",
       "      <td>100.0</td>\n",
       "      <td>0.5</td>\n",
       "      <td>18.517768</td>\n",
       "      <td>30.302022</td>\n",
       "    </tr>\n",
       "    <tr>\n",
       "      <th>9</th>\n",
       "      <td>v5</td>\n",
       "      <td>trainval</td>\n",
       "      <td>0.01</td>\n",
       "      <td>3.0</td>\n",
       "      <td>100.0</td>\n",
       "      <td>0.5</td>\n",
       "      <td>7.264567</td>\n",
       "      <td>33.199723</td>\n",
       "    </tr>\n",
       "    <tr>\n",
       "      <th>10</th>\n",
       "      <td>base_new</td>\n",
       "      <td>val</td>\n",
       "      <td>0.10</td>\n",
       "      <td>3.0</td>\n",
       "      <td>100.0</td>\n",
       "      <td>1.0</td>\n",
       "      <td>9.170538</td>\n",
       "      <td>31.168006</td>\n",
       "    </tr>\n",
       "    <tr>\n",
       "      <th>11</th>\n",
       "      <td>v2_new</td>\n",
       "      <td>val</td>\n",
       "      <td>0.01</td>\n",
       "      <td>10.0</td>\n",
       "      <td>1000.0</td>\n",
       "      <td>0.5</td>\n",
       "      <td>11.095651</td>\n",
       "      <td>31.168006</td>\n",
       "    </tr>\n",
       "    <tr>\n",
       "      <th>12</th>\n",
       "      <td>v5_new</td>\n",
       "      <td>val</td>\n",
       "      <td>0.01</td>\n",
       "      <td>3.0</td>\n",
       "      <td>100.0</td>\n",
       "      <td>0.5</td>\n",
       "      <td>8.199739</td>\n",
       "      <td>31.168006</td>\n",
       "    </tr>\n",
       "    <tr>\n",
       "      <th>13</th>\n",
       "      <td>v5_new_trainval</td>\n",
       "      <td>trainval</td>\n",
       "      <td>0.01</td>\n",
       "      <td>3.0</td>\n",
       "      <td>100.0</td>\n",
       "      <td>0.5</td>\n",
       "      <td>8.155391</td>\n",
       "      <td>32.596883</td>\n",
       "    </tr>\n",
       "    <tr>\n",
       "      <th>14</th>\n",
       "      <td>v5_new_test</td>\n",
       "      <td>test</td>\n",
       "      <td>0.01</td>\n",
       "      <td>3.0</td>\n",
       "      <td>100.0</td>\n",
       "      <td>0.5</td>\n",
       "      <td>17.983112</td>\n",
       "      <td>31.453858</td>\n",
       "    </tr>\n",
       "    <tr>\n",
       "      <th>15</th>\n",
       "      <td>naive_train</td>\n",
       "      <td>trainval</td>\n",
       "      <td>NaN</td>\n",
       "      <td>NaN</td>\n",
       "      <td>NaN</td>\n",
       "      <td>NaN</td>\n",
       "      <td>1.714625</td>\n",
       "      <td>32.596883</td>\n",
       "    </tr>\n",
       "    <tr>\n",
       "      <th>16</th>\n",
       "      <td>naive_test</td>\n",
       "      <td>test</td>\n",
       "      <td>NaN</td>\n",
       "      <td>NaN</td>\n",
       "      <td>NaN</td>\n",
       "      <td>NaN</td>\n",
       "      <td>56.998914</td>\n",
       "      <td>31.453858</td>\n",
       "    </tr>\n",
       "  </tbody>\n",
       "</table>\n",
       "</div>"
      ],
      "text/plain": [
       "           gb_model train/val/test  learning_rate  max_depth   n_est  \\\n",
       "0              base            val           0.10        3.0   100.0   \n",
       "1                v2            val           0.01       10.0  1000.0   \n",
       "2                v3            val           0.10        5.0   500.0   \n",
       "3                v4            val           0.10        3.0   100.0   \n",
       "4                v5            val           0.01        3.0   100.0   \n",
       "5                v6            val           0.01        5.0   100.0   \n",
       "6                v7            val           0.01        3.0   100.0   \n",
       "7                v8            val           0.01        3.0   300.0   \n",
       "8                v5           test           0.01        3.0   100.0   \n",
       "9                v5       trainval           0.01        3.0   100.0   \n",
       "10         base_new            val           0.10        3.0   100.0   \n",
       "11           v2_new            val           0.01       10.0  1000.0   \n",
       "12           v5_new            val           0.01        3.0   100.0   \n",
       "13  v5_new_trainval       trainval           0.01        3.0   100.0   \n",
       "14      v5_new_test           test           0.01        3.0   100.0   \n",
       "15      naive_train       trainval            NaN        NaN     NaN   \n",
       "16       naive_test           test            NaN        NaN     NaN   \n",
       "\n",
       "    subsample  model_rank  popular_rank  \n",
       "0         1.0   10.608257     36.005992  \n",
       "1         0.5   13.215035     36.005992  \n",
       "2         0.5   12.844999     36.005992  \n",
       "3         0.5   10.896491     36.005992  \n",
       "4         0.5    7.856947     36.005992  \n",
       "5         0.5    8.166665     36.005992  \n",
       "6         1.0    7.660948     36.005992  \n",
       "7         0.5    9.192136     36.005992  \n",
       "8         0.5   18.517768     30.302022  \n",
       "9         0.5    7.264567     33.199723  \n",
       "10        1.0    9.170538     31.168006  \n",
       "11        0.5   11.095651     31.168006  \n",
       "12        0.5    8.199739     31.168006  \n",
       "13        0.5    8.155391     32.596883  \n",
       "14        0.5   17.983112     31.453858  \n",
       "15        NaN    1.714625     32.596883  \n",
       "16        NaN   56.998914     31.453858  "
      ]
     },
     "execution_count": 36,
     "metadata": {},
     "output_type": "execute_result"
    }
   ],
   "source": [
    "gb_ranks.head(20)"
   ]
  },
  {
   "cell_type": "code",
   "execution_count": 37,
   "metadata": {},
   "outputs": [
    {
     "data": {
      "text/plain": [
       "<matplotlib.legend.Legend at 0x116145a10>"
      ]
     },
     "execution_count": 37,
     "metadata": {},
     "output_type": "execute_result"
    },
    {
     "data": {
      "image/png": "[encoded data removed]",
      "text/plain": [
       "<matplotlib.figure.Figure at 0x1151c8950>"
      ]
     },
     "metadata": {},
     "output_type": "display_data"
    }
   ],
   "source": [
    "plt.hlines(gb_ranks['model_rank'].iloc[13], xmin=0, xmax=10, label='Model Rank on Train Data', linestyles='solid', \n",
    "          color='r')\n",
    "plt.hlines(gb_ranks['popular_rank'].iloc[13], xmin=0, xmax=10, label='Popularity Rank on Train Data', \n",
    "           linestyles='dashed', color='r')\n",
    "plt.hlines(gb_ranks['model_rank'].iloc[14], xmin=0, xmax=10, label='Model Rank on Test Data', linestyles='solid', \n",
    "          color='b')\n",
    "plt.hlines(gb_ranks['popular_rank'].iloc[14], xmin=0, xmax=10, label='Popularity Rank on Test Data', \n",
    "           linestyles='dashed', color='b')\n",
    "\n",
    "plt.title('Final Rank Scores on Gradient Boost Ensemble of ALS Recommenders');\n",
    "#plt.xlabel('Number of Events');\n",
    "plt.ylabel('Percentile Rank');\n",
    "plt.legend(loc=(.4,.5))"
   ]
  },
  {
   "cell_type": "code",
   "execution_count": null,
   "metadata": {
    "collapsed": true
   },
   "outputs": [],
   "source": []
  }
 ],
 "metadata": {
  "kernelspec": {
   "display_name": "Python 2",
   "language": "python",
   "name": "python2"
  },
  "language_info": {
   "codemirror_mode": {
    "name": "ipython",
    "version": 2
   },
   "file_extension": ".py",
   "mimetype": "text/x-python",
   "name": "python",
   "nbconvert_exporter": "python",
   "pygments_lexer": "ipython2",
   "version": "2.7.13"
  }
 },
 "nbformat": 4,
 "nbformat_minor": 2
}

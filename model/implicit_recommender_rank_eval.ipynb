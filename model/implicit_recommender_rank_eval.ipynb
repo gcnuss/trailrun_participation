{
 "cells": [
  {
   "cell_type": "code",
   "execution_count": 1,
   "metadata": {
    "collapsed": true
   },
   "outputs": [],
   "source": [
    "import cPickle as pickle\n",
    "\n",
    "with open(\"24OCT17_pipelinerun/als_trainpreds_tvsr2.pkl\", 'rb') as f:\n",
    "    trainpreds = pickle.load(f)\n",
    "    \n",
    "with open(\"24OCT17_pipelinerun/als_train_df_pd.pkl\", 'rb') as f:\n",
    "    train_df = pickle.load(f)"
   ]
  },
  {
   "cell_type": "code",
   "execution_count": 2,
   "metadata": {},
   "outputs": [
    {
     "data": {
      "text/html": [
       "<div>\n",
       "<style>\n",
       "    .dataframe thead tr:only-child th {\n",
       "        text-align: right;\n",
       "    }\n",
       "\n",
       "    .dataframe thead th {\n",
       "        text-align: left;\n",
       "    }\n",
       "\n",
       "    .dataframe tbody tr th {\n",
       "        vertical-align: top;\n",
       "    }\n",
       "</style>\n",
       "<table border=\"1\" class=\"dataframe\">\n",
       "  <thead>\n",
       "    <tr style=\"text-align: right;\">\n",
       "      <th></th>\n",
       "      <th>PersonID</th>\n",
       "      <th>EventID</th>\n",
       "      <th>Participated</th>\n",
       "      <th>Event_Date</th>\n",
       "      <th>prediction</th>\n",
       "    </tr>\n",
       "  </thead>\n",
       "  <tbody>\n",
       "    <tr>\n",
       "      <th>0</th>\n",
       "      <td>148</td>\n",
       "      <td>31</td>\n",
       "      <td>1</td>\n",
       "      <td>1448064000000000000</td>\n",
       "      <td>0.788674</td>\n",
       "    </tr>\n",
       "    <tr>\n",
       "      <th>1</th>\n",
       "      <td>463</td>\n",
       "      <td>31</td>\n",
       "      <td>0</td>\n",
       "      <td>1448064000000000000</td>\n",
       "      <td>0.000000</td>\n",
       "    </tr>\n",
       "    <tr>\n",
       "      <th>2</th>\n",
       "      <td>471</td>\n",
       "      <td>31</td>\n",
       "      <td>0</td>\n",
       "      <td>1448064000000000000</td>\n",
       "      <td>0.000785</td>\n",
       "    </tr>\n",
       "    <tr>\n",
       "      <th>3</th>\n",
       "      <td>496</td>\n",
       "      <td>31</td>\n",
       "      <td>1</td>\n",
       "      <td>1448064000000000000</td>\n",
       "      <td>0.361366</td>\n",
       "    </tr>\n",
       "    <tr>\n",
       "      <th>4</th>\n",
       "      <td>833</td>\n",
       "      <td>31</td>\n",
       "      <td>0</td>\n",
       "      <td>1448064000000000000</td>\n",
       "      <td>0.000000</td>\n",
       "    </tr>\n",
       "  </tbody>\n",
       "</table>\n",
       "</div>"
      ],
      "text/plain": [
       "   PersonID  EventID  Participated           Event_Date  prediction\n",
       "0       148       31             1  1448064000000000000    0.788674\n",
       "1       463       31             0  1448064000000000000    0.000000\n",
       "2       471       31             0  1448064000000000000    0.000785\n",
       "3       496       31             1  1448064000000000000    0.361366\n",
       "4       833       31             0  1448064000000000000    0.000000"
      ]
     },
     "execution_count": 2,
     "metadata": {},
     "output_type": "execute_result"
    }
   ],
   "source": [
    "trainpreds.head()"
   ]
  },
  {
   "cell_type": "code",
   "execution_count": 11,
   "metadata": {
    "collapsed": true
   },
   "outputs": [],
   "source": [
    "unique_personID = trainpreds['PersonID'].unique()"
   ]
  },
  {
   "cell_type": "code",
   "execution_count": 22,
   "metadata": {},
   "outputs": [
    {
     "data": {
      "text/plain": [
       "10764"
      ]
     },
     "execution_count": 22,
     "metadata": {},
     "output_type": "execute_result"
    }
   ],
   "source": [
    "len(unique_personID)"
   ]
  },
  {
   "cell_type": "code",
   "execution_count": 57,
   "metadata": {},
   "outputs": [],
   "source": [
    "numerator_sum = 0\n",
    "denominator_sum = 0\n",
    "\n",
    "rank_list = []\n",
    "\n",
    "for person in sorted(unique_personID):\n",
    "    user = trainpreds[trainpreds['PersonID'] == person].copy()\n",
    "    user['rank_ui'] = user['prediction'].apply(lambda x: (1 - (x / user['prediction'].max()))*100 \n",
    "                                               if user['prediction'].max()>0 else 0)\n",
    "    numerator_sum += sum(user['Participated'] * user['rank_ui'])\n",
    "    denominator_sum += sum(user['Participated'])\n",
    "    rank_list.append((person, len(user), user['prediction'].max(), sum(user['Participated'] * user['rank_ui']), sum(user['Participated'])))"
   ]
  },
  {
   "cell_type": "code",
   "execution_count": 58,
   "metadata": {
    "collapsed": true
   },
   "outputs": [],
   "source": [
    "rank_bar = numerator_sum / denominator_sum"
   ]
  },
  {
   "cell_type": "code",
   "execution_count": 60,
   "metadata": {},
   "outputs": [
    {
     "data": {
      "text/plain": [
       "25.236794063623854"
      ]
     },
     "execution_count": 60,
     "metadata": {},
     "output_type": "execute_result"
    }
   ],
   "source": [
    "rank_bar"
   ]
  },
  {
   "cell_type": "markdown",
   "metadata": {
    "collapsed": true
   },
   "source": [
    "### From \"Collaborative Filtering for Implicit Feedback Datasets\" by Hu, Koren, and Volinsky:\n",
    "\n",
    "Lower values of rank_bar are more desirable, as they indicate ranking actually attended events closer to the top of the recommendation lists.  FOr random predictions, the expected value of rank_ui is 50% (placing event i in the middle of the sorted list).  Thus, rank_bar >= 50% indicates an algorithm no better than random.\n",
    "\n",
    "So in our case a rank_bar of 25% is notably better than random but still may not be great.  For comparison, in the referenced article the study they did had expected % rankings below 12% and achieving close to 8% with more factors.\n",
    "\n",
    "For another point of comparison, we can look at a naive popularity model:"
   ]
  },
  {
   "cell_type": "code",
   "execution_count": 97,
   "metadata": {},
   "outputs": [],
   "source": [
    "group_counts = trainpreds[trainpreds['Participated']==1].groupby(by=['EventID']).count()['Participated'].copy()"
   ]
  },
  {
   "cell_type": "code",
   "execution_count": 98,
   "metadata": {},
   "outputs": [],
   "source": [
    "group_counts.sort_values(ascending=False, inplace=True)"
   ]
  },
  {
   "cell_type": "code",
   "execution_count": 102,
   "metadata": {},
   "outputs": [
    {
     "data": {
      "text/plain": [
       "56"
      ]
     },
     "execution_count": 102,
     "metadata": {},
     "output_type": "execute_result"
    }
   ],
   "source": [
    "len(group_counts)"
   ]
  },
  {
   "cell_type": "code",
   "execution_count": 103,
   "metadata": {
    "collapsed": true
   },
   "outputs": [],
   "source": [
    "import pandas as pd"
   ]
  },
  {
   "cell_type": "code",
   "execution_count": 118,
   "metadata": {},
   "outputs": [],
   "source": [
    "popularity = pd.DataFrame({'EventID': group_counts.index, 'attendance': group_counts.values})"
   ]
  },
  {
   "cell_type": "code",
   "execution_count": 119,
   "metadata": {},
   "outputs": [],
   "source": [
    "rank_ui = list((popularity.index.values / 55.)*100)"
   ]
  },
  {
   "cell_type": "code",
   "execution_count": 120,
   "metadata": {},
   "outputs": [],
   "source": [
    "popularity['rank_ui'] = rank_ui"
   ]
  },
  {
   "cell_type": "code",
   "execution_count": 121,
   "metadata": {},
   "outputs": [
    {
     "data": {
      "text/html": [
       "<div>\n",
       "<style>\n",
       "    .dataframe thead tr:only-child th {\n",
       "        text-align: right;\n",
       "    }\n",
       "\n",
       "    .dataframe thead th {\n",
       "        text-align: left;\n",
       "    }\n",
       "\n",
       "    .dataframe tbody tr th {\n",
       "        vertical-align: top;\n",
       "    }\n",
       "</style>\n",
       "<table border=\"1\" class=\"dataframe\">\n",
       "  <thead>\n",
       "    <tr style=\"text-align: right;\">\n",
       "      <th></th>\n",
       "      <th>EventID</th>\n",
       "      <th>attendance</th>\n",
       "      <th>rank_ui</th>\n",
       "    </tr>\n",
       "  </thead>\n",
       "  <tbody>\n",
       "    <tr>\n",
       "      <th>0</th>\n",
       "      <td>1003</td>\n",
       "      <td>592</td>\n",
       "      <td>0.000000</td>\n",
       "    </tr>\n",
       "    <tr>\n",
       "      <th>1</th>\n",
       "      <td>1009</td>\n",
       "      <td>439</td>\n",
       "      <td>1.818182</td>\n",
       "    </tr>\n",
       "    <tr>\n",
       "      <th>2</th>\n",
       "      <td>37</td>\n",
       "      <td>407</td>\n",
       "      <td>3.636364</td>\n",
       "    </tr>\n",
       "    <tr>\n",
       "      <th>3</th>\n",
       "      <td>12</td>\n",
       "      <td>354</td>\n",
       "      <td>5.454545</td>\n",
       "    </tr>\n",
       "    <tr>\n",
       "      <th>4</th>\n",
       "      <td>38</td>\n",
       "      <td>353</td>\n",
       "      <td>7.272727</td>\n",
       "    </tr>\n",
       "  </tbody>\n",
       "</table>\n",
       "</div>"
      ],
      "text/plain": [
       "   EventID  attendance   rank_ui\n",
       "0     1003         592  0.000000\n",
       "1     1009         439  1.818182\n",
       "2       37         407  3.636364\n",
       "3       12         354  5.454545\n",
       "4       38         353  7.272727"
      ]
     },
     "execution_count": 121,
     "metadata": {},
     "output_type": "execute_result"
    }
   ],
   "source": [
    "popularity.head()"
   ]
  },
  {
   "cell_type": "code",
   "execution_count": 123,
   "metadata": {},
   "outputs": [],
   "source": [
    "merged_df = pd.merge(trainpreds, popularity, how='left', on='EventID')"
   ]
  },
  {
   "cell_type": "code",
   "execution_count": 125,
   "metadata": {},
   "outputs": [
    {
     "data": {
      "text/html": [
       "<div>\n",
       "<style>\n",
       "    .dataframe thead tr:only-child th {\n",
       "        text-align: right;\n",
       "    }\n",
       "\n",
       "    .dataframe thead th {\n",
       "        text-align: left;\n",
       "    }\n",
       "\n",
       "    .dataframe tbody tr th {\n",
       "        vertical-align: top;\n",
       "    }\n",
       "</style>\n",
       "<table border=\"1\" class=\"dataframe\">\n",
       "  <thead>\n",
       "    <tr style=\"text-align: right;\">\n",
       "      <th></th>\n",
       "      <th>PersonID</th>\n",
       "      <th>EventID</th>\n",
       "      <th>Participated</th>\n",
       "      <th>Event_Date</th>\n",
       "      <th>prediction</th>\n",
       "      <th>attendance</th>\n",
       "      <th>rank_ui</th>\n",
       "    </tr>\n",
       "  </thead>\n",
       "  <tbody>\n",
       "    <tr>\n",
       "      <th>0</th>\n",
       "      <td>148</td>\n",
       "      <td>31</td>\n",
       "      <td>1</td>\n",
       "      <td>1448064000000000000</td>\n",
       "      <td>0.788674</td>\n",
       "      <td>268</td>\n",
       "      <td>29.090909</td>\n",
       "    </tr>\n",
       "    <tr>\n",
       "      <th>1</th>\n",
       "      <td>463</td>\n",
       "      <td>31</td>\n",
       "      <td>0</td>\n",
       "      <td>1448064000000000000</td>\n",
       "      <td>0.000000</td>\n",
       "      <td>268</td>\n",
       "      <td>29.090909</td>\n",
       "    </tr>\n",
       "    <tr>\n",
       "      <th>2</th>\n",
       "      <td>471</td>\n",
       "      <td>31</td>\n",
       "      <td>0</td>\n",
       "      <td>1448064000000000000</td>\n",
       "      <td>0.000785</td>\n",
       "      <td>268</td>\n",
       "      <td>29.090909</td>\n",
       "    </tr>\n",
       "    <tr>\n",
       "      <th>3</th>\n",
       "      <td>496</td>\n",
       "      <td>31</td>\n",
       "      <td>1</td>\n",
       "      <td>1448064000000000000</td>\n",
       "      <td>0.361366</td>\n",
       "      <td>268</td>\n",
       "      <td>29.090909</td>\n",
       "    </tr>\n",
       "    <tr>\n",
       "      <th>4</th>\n",
       "      <td>833</td>\n",
       "      <td>31</td>\n",
       "      <td>0</td>\n",
       "      <td>1448064000000000000</td>\n",
       "      <td>0.000000</td>\n",
       "      <td>268</td>\n",
       "      <td>29.090909</td>\n",
       "    </tr>\n",
       "  </tbody>\n",
       "</table>\n",
       "</div>"
      ],
      "text/plain": [
       "   PersonID  EventID  Participated           Event_Date  prediction  \\\n",
       "0       148       31             1  1448064000000000000    0.788674   \n",
       "1       463       31             0  1448064000000000000    0.000000   \n",
       "2       471       31             0  1448064000000000000    0.000785   \n",
       "3       496       31             1  1448064000000000000    0.361366   \n",
       "4       833       31             0  1448064000000000000    0.000000   \n",
       "\n",
       "   attendance    rank_ui  \n",
       "0         268  29.090909  \n",
       "1         268  29.090909  \n",
       "2         268  29.090909  \n",
       "3         268  29.090909  \n",
       "4         268  29.090909  "
      ]
     },
     "execution_count": 125,
     "metadata": {},
     "output_type": "execute_result"
    }
   ],
   "source": [
    "merged_df.head()"
   ]
  },
  {
   "cell_type": "code",
   "execution_count": 126,
   "metadata": {
    "collapsed": true
   },
   "outputs": [],
   "source": [
    "numerator_sum = 0\n",
    "denominator_sum = 0\n",
    "\n",
    "rank_list = []\n",
    "\n",
    "for person in sorted(unique_personID):\n",
    "    user = merged_df[merged_df['PersonID'] == person].copy()\n",
    "    numerator_sum += sum(user['Participated'] * user['rank_ui'])\n",
    "    denominator_sum += sum(user['Participated'])"
   ]
  },
  {
   "cell_type": "code",
   "execution_count": 127,
   "metadata": {},
   "outputs": [
    {
     "data": {
      "text/plain": [
       "31.912785438312564"
      ]
     },
     "execution_count": 127,
     "metadata": {},
     "output_type": "execute_result"
    }
   ],
   "source": [
    "popularity_rank_bar = numerator_sum / denominator_sum\n",
    "popularity_rank_bar"
   ]
  },
  {
   "cell_type": "markdown",
   "metadata": {},
   "source": [
    "The current model gives a better set of recommendations than simply recommending the most popular (i.e. most highly attended) events to every person with no personalization.  This is an okay start, however we have room for improvement.\n",
    "\n",
    "Consider increasing:\n",
    "alpha\n",
    "number of factors\n",
    "look at both cold start of nan and drop\n",
    "\n",
    "Note that the above calculations are based on testing the model fit to the training data, which we would expect to be very good.  So taking a step back, this is still not great.  Testing directly on the validation data won't work because of the event cold start problem.  Look at a model fit using something other than EventID to assess on validation data."
   ]
  },
  {
   "cell_type": "code",
   "execution_count": null,
   "metadata": {
    "collapsed": true
   },
   "outputs": [],
   "source": []
  }
 ],
 "metadata": {
  "kernelspec": {
   "display_name": "Python 2",
   "language": "python",
   "name": "python2"
  },
  "language_info": {
   "codemirror_mode": {
    "name": "ipython",
    "version": 2
   },
   "file_extension": ".py",
   "mimetype": "text/x-python",
   "name": "python",
   "nbconvert_exporter": "python",
   "pygments_lexer": "ipython2",
   "version": "2.7.13"
  }
 },
 "nbformat": 4,
 "nbformat_minor": 2
}

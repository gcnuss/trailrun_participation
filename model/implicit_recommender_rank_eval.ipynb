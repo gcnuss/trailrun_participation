{
 "cells": [
  {
   "cell_type": "code",
   "execution_count": 1,
   "metadata": {
    "collapsed": true
   },
   "outputs": [],
   "source": [
    "import cPickle as pickle\n",
    "\n",
    "with open(\"24OCT17_pipelinerun/als_trainpreds_tvsr2.pkl\", 'rb') as f:\n",
    "    trainpreds = pickle.load(f)\n",
    "    \n",
    "with open(\"24OCT17_pipelinerun/als_train_df_pd.pkl\", 'rb') as f:\n",
    "    train_df = pickle.load(f)"
   ]
  },
  {
   "cell_type": "code",
   "execution_count": 6,
   "metadata": {},
   "outputs": [
    {
     "data": {
      "text/html": [
       "<div>\n",
       "<style>\n",
       "    .dataframe thead tr:only-child th {\n",
       "        text-align: right;\n",
       "    }\n",
       "\n",
       "    .dataframe thead th {\n",
       "        text-align: left;\n",
       "    }\n",
       "\n",
       "    .dataframe tbody tr th {\n",
       "        vertical-align: top;\n",
       "    }\n",
       "</style>\n",
       "<table border=\"1\" class=\"dataframe\">\n",
       "  <thead>\n",
       "    <tr style=\"text-align: right;\">\n",
       "      <th></th>\n",
       "      <th>PersonID</th>\n",
       "      <th>EventID</th>\n",
       "      <th>Participated</th>\n",
       "      <th>Event_Date</th>\n",
       "      <th>prediction</th>\n",
       "    </tr>\n",
       "  </thead>\n",
       "  <tbody>\n",
       "    <tr>\n",
       "      <th>0</th>\n",
       "      <td>148</td>\n",
       "      <td>31</td>\n",
       "      <td>1</td>\n",
       "      <td>1448064000000000000</td>\n",
       "      <td>0.788674</td>\n",
       "    </tr>\n",
       "    <tr>\n",
       "      <th>1</th>\n",
       "      <td>463</td>\n",
       "      <td>31</td>\n",
       "      <td>0</td>\n",
       "      <td>1448064000000000000</td>\n",
       "      <td>0.000000</td>\n",
       "    </tr>\n",
       "    <tr>\n",
       "      <th>2</th>\n",
       "      <td>471</td>\n",
       "      <td>31</td>\n",
       "      <td>0</td>\n",
       "      <td>1448064000000000000</td>\n",
       "      <td>0.000785</td>\n",
       "    </tr>\n",
       "    <tr>\n",
       "      <th>3</th>\n",
       "      <td>496</td>\n",
       "      <td>31</td>\n",
       "      <td>1</td>\n",
       "      <td>1448064000000000000</td>\n",
       "      <td>0.361366</td>\n",
       "    </tr>\n",
       "    <tr>\n",
       "      <th>4</th>\n",
       "      <td>833</td>\n",
       "      <td>31</td>\n",
       "      <td>0</td>\n",
       "      <td>1448064000000000000</td>\n",
       "      <td>0.000000</td>\n",
       "    </tr>\n",
       "  </tbody>\n",
       "</table>\n",
       "</div>"
      ],
      "text/plain": [
       "   PersonID  EventID  Participated           Event_Date  prediction\n",
       "0       148       31             1  1448064000000000000    0.788674\n",
       "1       463       31             0  1448064000000000000    0.000000\n",
       "2       471       31             0  1448064000000000000    0.000785\n",
       "3       496       31             1  1448064000000000000    0.361366\n",
       "4       833       31             0  1448064000000000000    0.000000"
      ]
     },
     "execution_count": 6,
     "metadata": {},
     "output_type": "execute_result"
    }
   ],
   "source": [
    "trainpreds.head()"
   ]
  },
  {
   "cell_type": "code",
   "execution_count": 24,
   "metadata": {},
   "outputs": [],
   "source": [
    "user148 = trainpreds[trainpreds['PersonID'] == 148].copy()"
   ]
  },
  {
   "cell_type": "code",
   "execution_count": 25,
   "metadata": {},
   "outputs": [],
   "source": [
    "user148.sort_values(by='prediction', axis=0, ascending=False, inplace=True)"
   ]
  },
  {
   "cell_type": "code",
   "execution_count": 26,
   "metadata": {},
   "outputs": [
    {
     "data": {
      "text/html": [
       "<div>\n",
       "<style>\n",
       "    .dataframe thead tr:only-child th {\n",
       "        text-align: right;\n",
       "    }\n",
       "\n",
       "    .dataframe thead th {\n",
       "        text-align: left;\n",
       "    }\n",
       "\n",
       "    .dataframe tbody tr th {\n",
       "        vertical-align: top;\n",
       "    }\n",
       "</style>\n",
       "<table border=\"1\" class=\"dataframe\">\n",
       "  <thead>\n",
       "    <tr style=\"text-align: right;\">\n",
       "      <th></th>\n",
       "      <th>PersonID</th>\n",
       "      <th>EventID</th>\n",
       "      <th>Participated</th>\n",
       "      <th>Event_Date</th>\n",
       "      <th>prediction</th>\n",
       "    </tr>\n",
       "  </thead>\n",
       "  <tbody>\n",
       "    <tr>\n",
       "      <th>495574</th>\n",
       "      <td>148</td>\n",
       "      <td>33</td>\n",
       "      <td>0</td>\n",
       "      <td>1450483200000000000</td>\n",
       "      <td>0.795480</td>\n",
       "    </tr>\n",
       "    <tr>\n",
       "      <th>0</th>\n",
       "      <td>148</td>\n",
       "      <td>31</td>\n",
       "      <td>1</td>\n",
       "      <td>1448064000000000000</td>\n",
       "      <td>0.788674</td>\n",
       "    </tr>\n",
       "    <tr>\n",
       "      <th>269530</th>\n",
       "      <td>148</td>\n",
       "      <td>35</td>\n",
       "      <td>1</td>\n",
       "      <td>1453507200000000000</td>\n",
       "      <td>0.773432</td>\n",
       "    </tr>\n",
       "    <tr>\n",
       "      <th>538630</th>\n",
       "      <td>148</td>\n",
       "      <td>30</td>\n",
       "      <td>1</td>\n",
       "      <td>1446854400000000000</td>\n",
       "      <td>0.705866</td>\n",
       "    </tr>\n",
       "    <tr>\n",
       "      <th>581686</th>\n",
       "      <td>148</td>\n",
       "      <td>36</td>\n",
       "      <td>1</td>\n",
       "      <td>1454716800000000000</td>\n",
       "      <td>0.674917</td>\n",
       "    </tr>\n",
       "  </tbody>\n",
       "</table>\n",
       "</div>"
      ],
      "text/plain": [
       "        PersonID  EventID  Participated           Event_Date  prediction\n",
       "495574       148       33             0  1450483200000000000    0.795480\n",
       "0            148       31             1  1448064000000000000    0.788674\n",
       "269530       148       35             1  1453507200000000000    0.773432\n",
       "538630       148       30             1  1446854400000000000    0.705866\n",
       "581686       148       36             1  1454716800000000000    0.674917"
      ]
     },
     "execution_count": 26,
     "metadata": {},
     "output_type": "execute_result"
    }
   ],
   "source": [
    "user148.head()"
   ]
  },
  {
   "cell_type": "code",
   "execution_count": 27,
   "metadata": {},
   "outputs": [
    {
     "data": {
      "text/plain": [
       "0.79548025131225586"
      ]
     },
     "execution_count": 27,
     "metadata": {},
     "output_type": "execute_result"
    }
   ],
   "source": [
    "user148['prediction'].max()"
   ]
  },
  {
   "cell_type": "code",
   "execution_count": 35,
   "metadata": {
    "collapsed": true
   },
   "outputs": [],
   "source": [
    "user148['rank_ui'] = user148['prediction'].apply(lambda x: (1 - (x / user148['prediction'].max()))*100)"
   ]
  },
  {
   "cell_type": "code",
   "execution_count": 41,
   "metadata": {},
   "outputs": [
    {
     "data": {
      "text/html": [
       "<div>\n",
       "<style>\n",
       "    .dataframe thead tr:only-child th {\n",
       "        text-align: right;\n",
       "    }\n",
       "\n",
       "    .dataframe thead th {\n",
       "        text-align: left;\n",
       "    }\n",
       "\n",
       "    .dataframe tbody tr th {\n",
       "        vertical-align: top;\n",
       "    }\n",
       "</style>\n",
       "<table border=\"1\" class=\"dataframe\">\n",
       "  <thead>\n",
       "    <tr style=\"text-align: right;\">\n",
       "      <th></th>\n",
       "      <th>PersonID</th>\n",
       "      <th>EventID</th>\n",
       "      <th>Participated</th>\n",
       "      <th>Event_Date</th>\n",
       "      <th>prediction</th>\n",
       "      <th>rank_ui</th>\n",
       "    </tr>\n",
       "  </thead>\n",
       "  <tbody>\n",
       "    <tr>\n",
       "      <th>0</th>\n",
       "      <td>148</td>\n",
       "      <td>31</td>\n",
       "      <td>1</td>\n",
       "      <td>1448064000000000000</td>\n",
       "      <td>0.788674</td>\n",
       "      <td>0.855616</td>\n",
       "    </tr>\n",
       "    <tr>\n",
       "      <th>269530</th>\n",
       "      <td>148</td>\n",
       "      <td>35</td>\n",
       "      <td>1</td>\n",
       "      <td>1453507200000000000</td>\n",
       "      <td>0.773432</td>\n",
       "      <td>2.771644</td>\n",
       "    </tr>\n",
       "    <tr>\n",
       "      <th>538630</th>\n",
       "      <td>148</td>\n",
       "      <td>30</td>\n",
       "      <td>1</td>\n",
       "      <td>1446854400000000000</td>\n",
       "      <td>0.705866</td>\n",
       "      <td>11.265415</td>\n",
       "    </tr>\n",
       "    <tr>\n",
       "      <th>581686</th>\n",
       "      <td>148</td>\n",
       "      <td>36</td>\n",
       "      <td>1</td>\n",
       "      <td>1454716800000000000</td>\n",
       "      <td>0.674917</td>\n",
       "      <td>15.156095</td>\n",
       "    </tr>\n",
       "    <tr>\n",
       "      <th>474046</th>\n",
       "      <td>148</td>\n",
       "      <td>32</td>\n",
       "      <td>1</td>\n",
       "      <td>1449273600000000000</td>\n",
       "      <td>0.636570</td>\n",
       "      <td>19.976691</td>\n",
       "    </tr>\n",
       "  </tbody>\n",
       "</table>\n",
       "</div>"
      ],
      "text/plain": [
       "        PersonID  EventID  Participated           Event_Date  prediction  \\\n",
       "0            148       31             1  1448064000000000000    0.788674   \n",
       "269530       148       35             1  1453507200000000000    0.773432   \n",
       "538630       148       30             1  1446854400000000000    0.705866   \n",
       "581686       148       36             1  1454716800000000000    0.674917   \n",
       "474046       148       32             1  1449273600000000000    0.636570   \n",
       "\n",
       "          rank_ui  \n",
       "0        0.855616  \n",
       "269530   2.771644  \n",
       "538630  11.265415  \n",
       "581686  15.156095  \n",
       "474046  19.976691  "
      ]
     },
     "execution_count": 41,
     "metadata": {},
     "output_type": "execute_result"
    }
   ],
   "source": [
    "user148[user148['Participated']==1]"
   ]
  },
  {
   "cell_type": "code",
   "execution_count": 42,
   "metadata": {
    "collapsed": true
   },
   "outputs": [],
   "source": [
    "rank_bar_user148 = sum(user148['Participated'] * user148['rank_ui']) / sum(user148['Participated'])"
   ]
  },
  {
   "cell_type": "code",
   "execution_count": 43,
   "metadata": {},
   "outputs": [
    {
     "data": {
      "text/plain": [
       "10.00509218381255"
      ]
     },
     "execution_count": 43,
     "metadata": {},
     "output_type": "execute_result"
    }
   ],
   "source": [
    "rank_bar_user148"
   ]
  },
  {
   "cell_type": "code",
   "execution_count": 44,
   "metadata": {
    "collapsed": true
   },
   "outputs": [],
   "source": [
    "unique_personID = trainpreds['PersonID'].unique()"
   ]
  },
  {
   "cell_type": "code",
   "execution_count": 45,
   "metadata": {
    "collapsed": true
   },
   "outputs": [],
   "source": [
    "import numpy as np\n",
    "trainpreds_arr = np.array(trainpreds)"
   ]
  },
  {
   "cell_type": "code",
   "execution_count": 47,
   "metadata": {},
   "outputs": [
    {
     "name": "stderr",
     "output_type": "stream",
     "text": [
      "/Users/ginanuss/anaconda/lib/python2.7/site-packages/ipykernel_launcher.py:6: SettingWithCopyWarning: \n",
      "A value is trying to be set on a copy of a slice from a DataFrame.\n",
      "Try using .loc[row_indexer,col_indexer] = value instead\n",
      "\n",
      "See the caveats in the documentation: http://pandas.pydata.org/pandas-docs/stable/indexing.html#indexing-view-versus-copy\n",
      "  \n"
     ]
    }
   ],
   "source": [
    "numerator_sum = 0\n",
    "denominator_sum = 0\n",
    "\n",
    "for person in unique_personID:\n",
    "    user = trainpreds[trainpreds['PersonID'] == person]\n",
    "    user['rank_ui'] = user['prediction'].apply(lambda x: (1 - (x / user['prediction'].max()))*100)\n",
    "    numerator_sum += sum(user['Participated'] * user['rank_ui'])\n",
    "    denominator_sum += sum(user['Participated'])"
   ]
  },
  {
   "cell_type": "code",
   "execution_count": 48,
   "metadata": {
    "collapsed": true
   },
   "outputs": [],
   "source": [
    "rank_bar = numerator_sum / denominator_sum"
   ]
  },
  {
   "cell_type": "code",
   "execution_count": 49,
   "metadata": {},
   "outputs": [
    {
     "data": {
      "text/plain": [
       "nan"
      ]
     },
     "execution_count": 49,
     "metadata": {},
     "output_type": "execute_result"
    }
   ],
   "source": [
    "rank_bar  #need to fix this code tomorrow AM!"
   ]
  },
  {
   "cell_type": "code",
   "execution_count": 51,
   "metadata": {},
   "outputs": [
    {
     "data": {
      "text/plain": [
       "10753"
      ]
     },
     "execution_count": 51,
     "metadata": {},
     "output_type": "execute_result"
    }
   ],
   "source": [
    "denominator_sum"
   ]
  },
  {
   "cell_type": "code",
   "execution_count": null,
   "metadata": {
    "collapsed": true
   },
   "outputs": [],
   "source": []
  }
 ],
 "metadata": {
  "kernelspec": {
   "display_name": "Python 2",
   "language": "python",
   "name": "python2"
  },
  "language_info": {
   "codemirror_mode": {
    "name": "ipython",
    "version": 2
   },
   "file_extension": ".py",
   "mimetype": "text/x-python",
   "name": "python",
   "nbconvert_exporter": "python",
   "pygments_lexer": "ipython2",
   "version": "2.7.13"
  }
 },
 "nbformat": 4,
 "nbformat_minor": 2
}
